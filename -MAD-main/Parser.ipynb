{
 "cells": [
  {
   "cell_type": "code",
   "execution_count": 2,
   "metadata": {},
   "outputs": [],
   "source": [
    "from lxml import etree\n"
   ]
  },
  {
   "cell_type": "code",
   "execution_count": 3,
   "metadata": {},
   "outputs": [
    {
     "name": "stdout",
     "output_type": "stream",
     "text": [
      "<lxml.etree.iterparse object at 0x000001CDEF1EB890>\n"
     ]
    }
   ],
   "source": [
    "# xml parser object\n",
    "doc = etree.iterparse('2012\\TestbedSunJun13Flows.xml',  events=('start',), tag='TestbedSunJun13Flows' )\n",
    "print(doc)"
   ]
  },
  {
   "cell_type": "code",
   "execution_count": 3,
   "metadata": {},
   "outputs": [],
   "source": [
    "# Appending header row into csv file\n",
    "with open('flowSunJun115.csv', 'a') as f: #Write CSV File\n",
    "    header = 'appName,source,protocolName,sourcePort,destination,destinationPort,direction,totalSourceBytes,totalDestinationBytes,totalDestinationPackets,totalSourcePackets,sourcePayloadAsBase64,sourcePayloadAsUTF,destinationPayloadAsBase64,destinationPayloadAsUTF,sourceTCPFlagsDescription,destinationTCPFlagsDescription,startDateTime,stopDateTime,Tag'\n",
    "    f.writelines(header+\"\\n\")\n",
    "\n",
    "def write_as_csv(row):\n",
    "    \"\"\" \n",
    "        write dictionary into csv\n",
    "    \"\"\"\n",
    "    r = ' , '.join(list(row.values()))\n",
    "    \n",
    "    with open('flowSunJun115.csv', 'a') as f:\n",
    "        f.writelines(r+\"\\n\")\n",
    "    print(r)\n",
    "\n",
    "csv = []\n",
    "def extract_row(dom):\n",
    "    tags = {\n",
    "          'appName' : '',\n",
    "          'source': '', \n",
    "          'protocolName': '', \n",
    "          'sourcePort': '', \n",
    "          'destination': '',\n",
    "          'destinationPort': '',\n",
    "          'direction': '',\n",
    "          'totalSourceBytes': '',\n",
    "          'totalDestinationBytes': '',\n",
    "          'totalDestinationPackets': '',\n",
    "          'totalSourcePackets': '',\n",
    "          'sourcePayloadAsBase64': '',\n",
    "          'sourcePayloadAsUTF': '',\n",
    "          'destinationPayloadAsBase64': '',\n",
    "          'destinationPayloadAsUTF': '',\n",
    "          'sourceTCPFlagsDescription': '',\n",
    "          'destinationTCPFlagsDescription': '',          \n",
    "          'startDateTime': '', \n",
    "          'stopDateTime': '', \n",
    "          'Tag': '' \n",
    "  }\n",
    "\n",
    "    # for each object in xml\n",
    "    # assign each value to it's\n",
    "    # tag in above defined tag's \n",
    "    # dictionary\n",
    "    for d in dom:\n",
    "        if not d.text or d.text == None:\n",
    "        tags[d.tag] = '0'\n",
    "\n",
    "    elif ',' in d.text:\n",
    "        tags[d.tag] = ' '.join(d.text.split(','))\n",
    "    else:\n",
    "        tags[d.tag] = d.text\n",
    "\n",
    "    write_as_csv(tags)\n",
    "    return tags  \n",
    "\n"
   ]
  },
  {
   "cell_type": "code",
   "execution_count": 4,
   "metadata": {},
   "outputs": [],
   "source": [
    "\n",
    "\n",
    "for event, element in doc:\n",
    "  children = element.getchildren()\n",
    "  extract_row(children)\n",
    "#   print(children)----------------------------- END OF PARSER \n",
    "  "
   ]
  },
  {
   "cell_type": "markdown",
   "metadata": {},
   "source": [
    "## END OF PARSER  -------------------------------------------------------- END OF PARSER"
   ]
  },
  {
   "cell_type": "code",
   "execution_count": 30,
   "metadata": {},
   "outputs": [
    {
     "name": "stdout",
     "output_type": "stream",
     "text": [
      " Volume in drive C is OS\n",
      " Volume Serial Number is 94AA-B21E\n",
      "\n",
      " Directory of C:\\Users\\mubar\\Downloads\\New folder (3)\n",
      "\n",
      "21/06/2021  05:40 pm    <DIR>          .\n",
      "21/06/2021  05:40 pm    <DIR>          ..\n",
      "21/06/2021  05:04 pm    <DIR>          .ipynb_checkpoints\n",
      "21/06/2021  06:16 am       816,271,774 13j.csv\n",
      "21/06/2021  03:05 pm    <DIR>          2012\n",
      "21/06/2021  05:41 pm        85,440,116 flowSunJun13.csv\n",
      "21/06/2021  04:42 am    <DIR>          SplitCap_2-1\n",
      "21/06/2021  04:35 am           158,750 SplitCap_2-1.zip\n",
      "21/06/2021  05:40 pm        82,610,062 Untitled.ipynb\n",
      "               4 File(s)    984,480,702 bytes\n",
      "               5 Dir(s)  586,071,846,912 bytes free\n"
     ]
    }
   ],
   "source": [
    "!dir"
   ]
  },
  {
   "cell_type": "code",
   "execution_count": null,
   "metadata": {},
   "outputs": [],
   "source": []
  },
  {
   "cell_type": "code",
   "execution_count": 23,
   "metadata": {},
   "outputs": [],
   "source": [
    "import pandas as pd\n",
    "url = 'flowSunJun1.csv'\n",
    "df = pd.read_csv(url)\n"
   ]
  },
  {
   "cell_type": "code",
   "execution_count": 34,
   "metadata": {},
   "outputs": [
    {
     "data": {
      "text/plain": [
       "(275528, 20)"
      ]
     },
     "execution_count": 34,
     "metadata": {},
     "output_type": "execute_result"
    }
   ],
   "source": [
    "df[' Tag']\n",
    "df.shape\n",
    "# df1 =  df.drop([' Tag'], axis = 1)\n",
    "# df1 = df"
   ]
  },
  {
   "cell_type": "code",
   "execution_count": 25,
   "metadata": {},
   "outputs": [],
   "source": [
    "from sklearn.feature_extraction.text import TfidfVectorizer\n",
    "tfidf = TfidfVectorizer()\n",
    "matrix_input = tfidf.fit_transform(df1)"
   ]
  },
  {
   "cell_type": "code",
   "execution_count": 26,
   "metadata": {},
   "outputs": [
    {
     "data": {
      "text/plain": [
       "<20x20 sparse matrix of type '<class 'numpy.float64'>'\n",
       "\twith 20 stored elements in Compressed Sparse Row format>"
      ]
     },
     "execution_count": 26,
     "metadata": {},
     "output_type": "execute_result"
    }
   ],
   "source": [
    "matrix_input"
   ]
  },
  {
   "cell_type": "code",
   "execution_count": 27,
   "metadata": {},
   "outputs": [
    {
     "name": "stdout",
     "output_type": "stream",
     "text": [
      "KMeans(n_clusters=3)\n"
     ]
    }
   ],
   "source": [
    "from sklearn.cluster import KMeans\n",
    "km = KMeans(n_clusters = 3)\n",
    "print(km)\n"
   ]
  },
  {
   "cell_type": "code",
   "execution_count": 28,
   "metadata": {},
   "outputs": [
    {
     "data": {
      "text/plain": [
       "KMeans(n_clusters=3)"
      ]
     },
     "execution_count": 28,
     "metadata": {},
     "output_type": "execute_result"
    }
   ],
   "source": [
    "km.fit(matrix_input)"
   ]
  },
  {
   "cell_type": "code",
   "execution_count": 29,
   "metadata": {},
   "outputs": [
    {
     "data": {
      "text/plain": [
       "array([0, 0, 0, 0, 0, 0, 0, 0, 0, 0, 0, 0, 1, 0, 0, 0, 0, 2, 0, 0])"
      ]
     },
     "execution_count": 29,
     "metadata": {},
     "output_type": "execute_result"
    }
   ],
   "source": [
    "km.labels_"
   ]
  },
  {
   "cell_type": "code",
   "execution_count": 8,
   "metadata": {},
   "outputs": [
    {
     "data": {
      "text/plain": [
       "Index(['appName', ' source', ' protocolName', ' sourcePort', ' destination',\n",
       "       ' destinationPort', ' direction ', 'totalSourceBytes ',\n",
       "       'totalDestinationBytes ', 'totalDestinationPackets',\n",
       "       ' totalSourcePackets', ' sourcePayloadAsBase64', ' sourcePayloadAsUTF',\n",
       "       ' destinationPayloadAsBase64', ' destinationPayloadAsUTF',\n",
       "       ' sourceTCPFlagsDescription', ' destinationTCPFlagsDescription',\n",
       "       ' startDateTime ', 'stopDateTime', ' Tag'],\n",
       "      dtype='object')"
      ]
     },
     "execution_count": 8,
     "metadata": {},
     "output_type": "execute_result"
    }
   ],
   "source": [
    "df1.columns"
   ]
  },
  {
   "cell_type": "code",
   "execution_count": 30,
   "metadata": {},
   "outputs": [
    {
     "data": {
      "text/plain": [
       "array([['appName', ' source', ' protocolName', ..., ' startDateTime ',\n",
       "        'stopDateTime', ' Tag'],\n",
       "       ['Unknown_UDP ', ' 192.168.5.122 ', ' udp_ip ', ...,\n",
       "        ' 2010-06-12T23:57:24 ', ' 2010-06-13T09:24:52 ', ' Normal'],\n",
       "       ['HTTPWeb ', ' 192.168.2.113 ', ' tcp_ip ', ...,\n",
       "        ' 2010-06-12T23:57:38 ', ' 2010-06-12T23:59:20 ', ' Normal'],\n",
       "       ...,\n",
       "       ['HTTPWeb ', ' 192.168.2.111 ', ' tcp_ip ', ...,\n",
       "        ' 2010-06-13T23:58:53 ', ' 2010-06-13T23:58:55 ', ' Normal'],\n",
       "       ['POP ', ' 192.168.4.120 ', ' tcp_ip ', ...,\n",
       "        ' 2010-06-13T23:58:57 ', ' 2010-06-13T23:58:57 ', ' Normal'],\n",
       "       ['POP ', ' 192.168.4.120 ', ' tcp_ip ', ...,\n",
       "        ' 2010-06-13T23:58:57 ', ' 2010-06-13T23:58:57 ', ' Normal']],\n",
       "      dtype=object)"
      ]
     },
     "execution_count": 30,
     "metadata": {},
     "output_type": "execute_result"
    }
   ],
   "source": [
    "df1.values"
   ]
  },
  {
   "cell_type": "markdown",
   "metadata": {},
   "source": []
  },
  {
   "cell_type": "code",
   "execution_count": 31,
   "metadata": {},
   "outputs": [
    {
     "data": {
      "text/plain": [
       " Normal    247138\n",
       " Attack     19787\n",
       "             8546\n",
       " NaN           56\n",
       " Tag            1\n",
       "Name:  Tag, dtype: int64"
      ]
     },
     "execution_count": 31,
     "metadata": {},
     "output_type": "execute_result"
    }
   ],
   "source": [
    "kyun = df1[' Tag']\n",
    "kyun.value_counts()\n"
   ]
  },
  {
   "cell_type": "code",
   "execution_count": 10,
   "metadata": {
    "scrolled": true
   },
   "outputs": [
    {
     "data": {
      "image/png": "[encoded data removed]",
      "text/plain": [
       "<Figure size 432x288 with 1 Axes>"
      ]
     },
     "metadata": {
      "needs_background": "light"
     },
     "output_type": "display_data"
    }
   ],
   "source": [
    "import matplotlib \n",
    "import matplotlib.pyplot as plt\n",
    "%matplotlib inline\n",
    "kyun.value_counts().plot(kind='bar')\n",
    "plt.show()"
   ]
  },
  {
   "cell_type": "code",
   "execution_count": 2,
   "metadata": {},
   "outputs": [
    {
     "ename": "NameError",
     "evalue": "name 'df1' is not defined",
     "output_type": "error",
     "traceback": [
      "\u001b[1;31m---------------------------------------------------------------------------\u001b[0m",
      "\u001b[1;31mNameError\u001b[0m                                 Traceback (most recent call last)",
      "\u001b[1;32m<ipython-input-2-32cefba821ec>\u001b[0m in \u001b[0;36m<module>\u001b[1;34m\u001b[0m\n\u001b[1;32m----> 1\u001b[1;33m \u001b[0mkyun\u001b[0m \u001b[1;33m=\u001b[0m \u001b[0mdf1\u001b[0m\u001b[1;33m[\u001b[0m\u001b[1;34m' Tag'\u001b[0m\u001b[1;33m]\u001b[0m\u001b[1;33m\u001b[0m\u001b[1;33m\u001b[0m\u001b[0m\n\u001b[0m\u001b[0;32m      2\u001b[0m \u001b[0mkyun\u001b[0m\u001b[1;33m.\u001b[0m\u001b[0mvalue_counts\u001b[0m\u001b[1;33m(\u001b[0m\u001b[1;33m)\u001b[0m\u001b[1;33m\u001b[0m\u001b[1;33m\u001b[0m\u001b[0m\n",
      "\u001b[1;31mNameError\u001b[0m: name 'df1' is not defined"
     ]
    }
   ],
   "source": [
    "kyun = df1[' Tag']\n",
    "kyun.value_counts()"
   ]
  },
  {
   "cell_type": "code",
   "execution_count": 159,
   "metadata": {
    "scrolled": true
   },
   "outputs": [
    {
     "name": "stdout",
     "output_type": "stream",
     "text": [
      "19787 / 266925 19787 247138\n",
      "0.07412943710780182\n"
     ]
    }
   ],
   "source": [
    "# Attack_count = kyun.value_counts()[1]\n",
    "# Benign_count = kyun.value_counts()[0]\n",
    "# Attack_proba = ((Attack_count / (Attack_count + Benign_account)) )\n",
    "# # help(kyun)\n",
    "\n",
    "# print(Attack_count ,'/', Attack_count + Benign_count, Attack_count , Benign_count )\n",
    "# print(Attack_proba)"
   ]
  },
  {
   "cell_type": "code",
   "execution_count": 1,
   "metadata": {},
   "outputs": [
    {
     "data": {
      "text/plain": [
       "(275528, 20)"
      ]
     },
     "execution_count": 1,
     "metadata": {},
     "output_type": "execute_result"
    }
   ],
   "source": [
    "/"
   ]
  },
  {
   "cell_type": "code",
   "execution_count": 2,
   "metadata": {},
   "outputs": [
    {
     "name": "stdout",
     "output_type": "stream",
     "text": [
      "19787 / 266926 19787 247139\n",
      "0.0741291593924908\n"
     ]
    }
   ],
   "source": [
    "kyun = df5['Tag']\n",
    "kyun.value_counts()\n",
    "Attack_count = kyun.value_counts()[1]\n",
    "Benign_count = kyun.value_counts()[0]\n",
    "Attack_proba = ((Attack_count / (Attack_count + Benign_count)) )\n",
    "# help(kyun)\n",
    "\n",
    "print(Attack_count ,'/', Attack_count + Benign_count, Attack_count , Benign_count )\n",
    "print(Attack_proba)"
   ]
  },
  {
   "cell_type": "code",
   "execution_count": 3,
   "metadata": {},
   "outputs": [],
   "source": [
    "# help(hi)"
   ]
  },
  {
   "cell_type": "code",
   "execution_count": 4,
   "metadata": {},
   "outputs": [
    {
     "data": {
      "text/plain": [
       "(275528, 20)"
      ]
     },
     "execution_count": 4,
     "metadata": {},
     "output_type": "execute_result"
    }
   ],
   "source": [
    "# i = df5[((df5.Tag == ''))].index\n",
    "# df.loc[df['column_name'] == some_value]\n",
    "# df5.loc[df5['Tag'] != 'Attack']\n",
    "# i = df5.loc[df5['Tag'] == 'NaN']\n",
    "# i = df[((df.Name == 'jhon') &( df.Age == 15) & (df.Grade == 'A'))].index\n",
    "i = df5[((df5.Tag == 'NaN'))].index\n",
    "\n",
    "df5.head()\n",
    "df5.shape\n",
    "\n",
    "# df5['Tag'].values()"
   ]
  },
  {
   "cell_type": "code",
   "execution_count": 5,
   "metadata": {},
   "outputs": [],
   "source": [
    "i = df5.loc[df5['Tag'].isin([' ','NaN'])].index\n",
    "print( type(i))\n",
    "\n",
    "l = []\n",
    "for j in i:\n",
    "#     print(type(j))\n",
    "    l.append(j)\n",
    "print(l)\n"
   ]
  },
  {
   "cell_type": "code",
   "execution_count": 44,
   "metadata": {},
   "outputs": [
    {
     "ename": "KeyError",
     "evalue": "\"['appName' 'direction' 'startDateTime' 'stopDateTime'] not found in axis\"",
     "output_type": "error",
     "traceback": [
      "\u001b[1;31m---------------------------------------------------------------------------\u001b[0m",
      "\u001b[1;31mKeyError\u001b[0m                                  Traceback (most recent call last)",
      "\u001b[1;32m<ipython-input-44-f41290495ea9>\u001b[0m in \u001b[0;36m<module>\u001b[1;34m\u001b[0m\n\u001b[0;32m      1\u001b[0m \u001b[1;31m# df5.drop\u001b[0m\u001b[1;33m\u001b[0m\u001b[1;33m\u001b[0m\u001b[1;33m\u001b[0m\u001b[0m\n\u001b[1;32m----> 2\u001b[1;33m \u001b[0mdf5\u001b[0m \u001b[1;33m=\u001b[0m \u001b[0mdf5\u001b[0m\u001b[1;33m.\u001b[0m\u001b[0mdrop\u001b[0m\u001b[1;33m(\u001b[0m\u001b[0mcolumns\u001b[0m\u001b[1;33m=\u001b[0m\u001b[1;33m[\u001b[0m\u001b[1;34m'appName'\u001b[0m\u001b[1;33m,\u001b[0m\u001b[1;34m'direction'\u001b[0m\u001b[1;33m,\u001b[0m\u001b[1;34m'startDateTime'\u001b[0m\u001b[1;33m,\u001b[0m\u001b[1;34m'stopDateTime'\u001b[0m\u001b[1;33m]\u001b[0m\u001b[1;33m)\u001b[0m\u001b[1;33m\u001b[0m\u001b[1;33m\u001b[0m\u001b[0m\n\u001b[0m\u001b[0;32m      3\u001b[0m \u001b[1;31m# df.drop(columns=['B', 'C'])\u001b[0m\u001b[1;33m\u001b[0m\u001b[1;33m\u001b[0m\u001b[1;33m\u001b[0m\u001b[0m\n\u001b[0;32m      4\u001b[0m \u001b[1;33m\u001b[0m\u001b[0m\n\u001b[0;32m      5\u001b[0m \u001b[1;33m\u001b[0m\u001b[0m\n",
      "\u001b[1;32m~\\anaconda3\\lib\\site-packages\\pandas\\core\\frame.py\u001b[0m in \u001b[0;36mdrop\u001b[1;34m(self, labels, axis, index, columns, level, inplace, errors)\u001b[0m\n\u001b[0;32m   4161\u001b[0m                 \u001b[0mweight\u001b[0m  \u001b[1;36m1.0\u001b[0m     \u001b[1;36m0.8\u001b[0m\u001b[1;33m\u001b[0m\u001b[1;33m\u001b[0m\u001b[0m\n\u001b[0;32m   4162\u001b[0m         \"\"\"\n\u001b[1;32m-> 4163\u001b[1;33m         return super().drop(\n\u001b[0m\u001b[0;32m   4164\u001b[0m             \u001b[0mlabels\u001b[0m\u001b[1;33m=\u001b[0m\u001b[0mlabels\u001b[0m\u001b[1;33m,\u001b[0m\u001b[1;33m\u001b[0m\u001b[1;33m\u001b[0m\u001b[0m\n\u001b[0;32m   4165\u001b[0m             \u001b[0maxis\u001b[0m\u001b[1;33m=\u001b[0m\u001b[0maxis\u001b[0m\u001b[1;33m,\u001b[0m\u001b[1;33m\u001b[0m\u001b[1;33m\u001b[0m\u001b[0m\n",
      "\u001b[1;32m~\\anaconda3\\lib\\site-packages\\pandas\\core\\generic.py\u001b[0m in \u001b[0;36mdrop\u001b[1;34m(self, labels, axis, index, columns, level, inplace, errors)\u001b[0m\n\u001b[0;32m   3885\u001b[0m         \u001b[1;32mfor\u001b[0m \u001b[0maxis\u001b[0m\u001b[1;33m,\u001b[0m \u001b[0mlabels\u001b[0m \u001b[1;32min\u001b[0m \u001b[0maxes\u001b[0m\u001b[1;33m.\u001b[0m\u001b[0mitems\u001b[0m\u001b[1;33m(\u001b[0m\u001b[1;33m)\u001b[0m\u001b[1;33m:\u001b[0m\u001b[1;33m\u001b[0m\u001b[1;33m\u001b[0m\u001b[0m\n\u001b[0;32m   3886\u001b[0m             \u001b[1;32mif\u001b[0m \u001b[0mlabels\u001b[0m \u001b[1;32mis\u001b[0m \u001b[1;32mnot\u001b[0m \u001b[1;32mNone\u001b[0m\u001b[1;33m:\u001b[0m\u001b[1;33m\u001b[0m\u001b[1;33m\u001b[0m\u001b[0m\n\u001b[1;32m-> 3887\u001b[1;33m                 \u001b[0mobj\u001b[0m \u001b[1;33m=\u001b[0m \u001b[0mobj\u001b[0m\u001b[1;33m.\u001b[0m\u001b[0m_drop_axis\u001b[0m\u001b[1;33m(\u001b[0m\u001b[0mlabels\u001b[0m\u001b[1;33m,\u001b[0m \u001b[0maxis\u001b[0m\u001b[1;33m,\u001b[0m \u001b[0mlevel\u001b[0m\u001b[1;33m=\u001b[0m\u001b[0mlevel\u001b[0m\u001b[1;33m,\u001b[0m \u001b[0merrors\u001b[0m\u001b[1;33m=\u001b[0m\u001b[0merrors\u001b[0m\u001b[1;33m)\u001b[0m\u001b[1;33m\u001b[0m\u001b[1;33m\u001b[0m\u001b[0m\n\u001b[0m\u001b[0;32m   3888\u001b[0m \u001b[1;33m\u001b[0m\u001b[0m\n\u001b[0;32m   3889\u001b[0m         \u001b[1;32mif\u001b[0m \u001b[0minplace\u001b[0m\u001b[1;33m:\u001b[0m\u001b[1;33m\u001b[0m\u001b[1;33m\u001b[0m\u001b[0m\n",
      "\u001b[1;32m~\\anaconda3\\lib\\site-packages\\pandas\\core\\generic.py\u001b[0m in \u001b[0;36m_drop_axis\u001b[1;34m(self, labels, axis, level, errors)\u001b[0m\n\u001b[0;32m   3919\u001b[0m                 \u001b[0mnew_axis\u001b[0m \u001b[1;33m=\u001b[0m \u001b[0maxis\u001b[0m\u001b[1;33m.\u001b[0m\u001b[0mdrop\u001b[0m\u001b[1;33m(\u001b[0m\u001b[0mlabels\u001b[0m\u001b[1;33m,\u001b[0m \u001b[0mlevel\u001b[0m\u001b[1;33m=\u001b[0m\u001b[0mlevel\u001b[0m\u001b[1;33m,\u001b[0m \u001b[0merrors\u001b[0m\u001b[1;33m=\u001b[0m\u001b[0merrors\u001b[0m\u001b[1;33m)\u001b[0m\u001b[1;33m\u001b[0m\u001b[1;33m\u001b[0m\u001b[0m\n\u001b[0;32m   3920\u001b[0m             \u001b[1;32melse\u001b[0m\u001b[1;33m:\u001b[0m\u001b[1;33m\u001b[0m\u001b[1;33m\u001b[0m\u001b[0m\n\u001b[1;32m-> 3921\u001b[1;33m                 \u001b[0mnew_axis\u001b[0m \u001b[1;33m=\u001b[0m \u001b[0maxis\u001b[0m\u001b[1;33m.\u001b[0m\u001b[0mdrop\u001b[0m\u001b[1;33m(\u001b[0m\u001b[0mlabels\u001b[0m\u001b[1;33m,\u001b[0m \u001b[0merrors\u001b[0m\u001b[1;33m=\u001b[0m\u001b[0merrors\u001b[0m\u001b[1;33m)\u001b[0m\u001b[1;33m\u001b[0m\u001b[1;33m\u001b[0m\u001b[0m\n\u001b[0m\u001b[0;32m   3922\u001b[0m             \u001b[0mresult\u001b[0m \u001b[1;33m=\u001b[0m \u001b[0mself\u001b[0m\u001b[1;33m.\u001b[0m\u001b[0mreindex\u001b[0m\u001b[1;33m(\u001b[0m\u001b[1;33m**\u001b[0m\u001b[1;33m{\u001b[0m\u001b[0maxis_name\u001b[0m\u001b[1;33m:\u001b[0m \u001b[0mnew_axis\u001b[0m\u001b[1;33m}\u001b[0m\u001b[1;33m)\u001b[0m\u001b[1;33m\u001b[0m\u001b[1;33m\u001b[0m\u001b[0m\n\u001b[0;32m   3923\u001b[0m \u001b[1;33m\u001b[0m\u001b[0m\n",
      "\u001b[1;32m~\\anaconda3\\lib\\site-packages\\pandas\\core\\indexes\\base.py\u001b[0m in \u001b[0;36mdrop\u001b[1;34m(self, labels, errors)\u001b[0m\n\u001b[0;32m   5280\u001b[0m         \u001b[1;32mif\u001b[0m \u001b[0mmask\u001b[0m\u001b[1;33m.\u001b[0m\u001b[0many\u001b[0m\u001b[1;33m(\u001b[0m\u001b[1;33m)\u001b[0m\u001b[1;33m:\u001b[0m\u001b[1;33m\u001b[0m\u001b[1;33m\u001b[0m\u001b[0m\n\u001b[0;32m   5281\u001b[0m             \u001b[1;32mif\u001b[0m \u001b[0merrors\u001b[0m \u001b[1;33m!=\u001b[0m \u001b[1;34m\"ignore\"\u001b[0m\u001b[1;33m:\u001b[0m\u001b[1;33m\u001b[0m\u001b[1;33m\u001b[0m\u001b[0m\n\u001b[1;32m-> 5282\u001b[1;33m                 \u001b[1;32mraise\u001b[0m \u001b[0mKeyError\u001b[0m\u001b[1;33m(\u001b[0m\u001b[1;34mf\"{labels[mask]} not found in axis\"\u001b[0m\u001b[1;33m)\u001b[0m\u001b[1;33m\u001b[0m\u001b[1;33m\u001b[0m\u001b[0m\n\u001b[0m\u001b[0;32m   5283\u001b[0m             \u001b[0mindexer\u001b[0m \u001b[1;33m=\u001b[0m \u001b[0mindexer\u001b[0m\u001b[1;33m[\u001b[0m\u001b[1;33m~\u001b[0m\u001b[0mmask\u001b[0m\u001b[1;33m]\u001b[0m\u001b[1;33m\u001b[0m\u001b[1;33m\u001b[0m\u001b[0m\n\u001b[0;32m   5284\u001b[0m         \u001b[1;32mreturn\u001b[0m \u001b[0mself\u001b[0m\u001b[1;33m.\u001b[0m\u001b[0mdelete\u001b[0m\u001b[1;33m(\u001b[0m\u001b[0mindexer\u001b[0m\u001b[1;33m)\u001b[0m\u001b[1;33m\u001b[0m\u001b[1;33m\u001b[0m\u001b[0m\n",
      "\u001b[1;31mKeyError\u001b[0m: \"['appName' 'direction' 'startDateTime' 'stopDateTime'] not found in axis\""
     ]
    }
   ],
   "source": [
    "# df5.drop\n",
    "df5 = df5.drop(columns=['appName','direction','startDateTime','stopDateTime'])\n",
    "# df.drop(columns=['B', 'C'])\n",
    "\n",
    "\n",
    "\n",
    "df5.shape\n"
   ]
  },
  {
   "cell_type": "code",
   "execution_count": 16,
   "metadata": {},
   "outputs": [
    {
     "data": {
      "text/plain": [
       " Normal    247139\n",
       " Attack     19787\n",
       " NaN           56\n",
       "Name: Tag, dtype: int64"
      ]
     },
     "execution_count": 16,
     "metadata": {},
     "output_type": "execute_result"
    }
   ],
   "source": [
    "kyun = df5['Tag']\n",
    "kyun.value_counts()"
   ]
  },
  {
   "cell_type": "code",
   "execution_count": 13,
   "metadata": {},
   "outputs": [
    {
     "data": {
      "text/html": [
       "<div>\n",
       "<style scoped>\n",
       "    .dataframe tbody tr th:only-of-type {\n",
       "        vertical-align: middle;\n",
       "    }\n",
       "\n",
       "    .dataframe tbody tr th {\n",
       "        vertical-align: top;\n",
       "    }\n",
       "\n",
       "    .dataframe thead th {\n",
       "        text-align: right;\n",
       "    }\n",
       "</style>\n",
       "<table border=\"1\" class=\"dataframe\">\n",
       "  <thead>\n",
       "    <tr style=\"text-align: right;\">\n",
       "      <th></th>\n",
       "      <th>source</th>\n",
       "      <th>protocolName</th>\n",
       "      <th>sourcePort</th>\n",
       "      <th>destination</th>\n",
       "      <th>destinationPort</th>\n",
       "      <th>totalSourceBytes</th>\n",
       "      <th>totalDestinationBytes</th>\n",
       "      <th>totalDestinationPackets</th>\n",
       "      <th>totalSourcePackets</th>\n",
       "      <th>sourceTCPFlagsDescription</th>\n",
       "      <th>destinationTCPFlagsDescription</th>\n",
       "      <th>Tag</th>\n",
       "    </tr>\n",
       "  </thead>\n",
       "  <tbody>\n",
       "    <tr>\n",
       "      <th>0</th>\n",
       "      <td>192.168.5.122</td>\n",
       "      <td>udp_ip</td>\n",
       "      <td>5353</td>\n",
       "      <td>224.0.0.251</td>\n",
       "      <td>5353</td>\n",
       "      <td>2633658</td>\n",
       "      <td>0</td>\n",
       "      <td>0</td>\n",
       "      <td>28971</td>\n",
       "      <td>N/A</td>\n",
       "      <td>N/A</td>\n",
       "      <td>Normal</td>\n",
       "    </tr>\n",
       "    <tr>\n",
       "      <th>1</th>\n",
       "      <td>192.168.5.122</td>\n",
       "      <td>udp_ip</td>\n",
       "      <td>5353</td>\n",
       "      <td>224.0.0.251</td>\n",
       "      <td>5353</td>\n",
       "      <td>2633658</td>\n",
       "      <td>0</td>\n",
       "      <td>0</td>\n",
       "      <td>28971</td>\n",
       "      <td>N/A</td>\n",
       "      <td>N/A</td>\n",
       "      <td>Normal</td>\n",
       "    </tr>\n",
       "    <tr>\n",
       "      <th>2</th>\n",
       "      <td>192.168.2.113</td>\n",
       "      <td>tcp_ip</td>\n",
       "      <td>4191</td>\n",
       "      <td>192.168.5.122</td>\n",
       "      <td>80</td>\n",
       "      <td>64</td>\n",
       "      <td>128</td>\n",
       "      <td>2</td>\n",
       "      <td>1</td>\n",
       "      <td>F A</td>\n",
       "      <td>R</td>\n",
       "      <td>Normal</td>\n",
       "    </tr>\n",
       "    <tr>\n",
       "      <th>3</th>\n",
       "      <td>192.168.2.113</td>\n",
       "      <td>tcp_ip</td>\n",
       "      <td>4191</td>\n",
       "      <td>192.168.5.122</td>\n",
       "      <td>80</td>\n",
       "      <td>64</td>\n",
       "      <td>128</td>\n",
       "      <td>2</td>\n",
       "      <td>1</td>\n",
       "      <td>F A</td>\n",
       "      <td>R</td>\n",
       "      <td>Normal</td>\n",
       "    </tr>\n",
       "    <tr>\n",
       "      <th>4</th>\n",
       "      <td>192.168.2.113</td>\n",
       "      <td>tcp_ip</td>\n",
       "      <td>4192</td>\n",
       "      <td>207.241.148.80</td>\n",
       "      <td>80</td>\n",
       "      <td>128</td>\n",
       "      <td>64</td>\n",
       "      <td>1</td>\n",
       "      <td>2</td>\n",
       "      <td>F A</td>\n",
       "      <td>F A</td>\n",
       "      <td>Normal</td>\n",
       "    </tr>\n",
       "    <tr>\n",
       "      <th>5</th>\n",
       "      <td>192.168.2.113</td>\n",
       "      <td>tcp_ip</td>\n",
       "      <td>4192</td>\n",
       "      <td>207.241.148.80</td>\n",
       "      <td>80</td>\n",
       "      <td>128</td>\n",
       "      <td>64</td>\n",
       "      <td>1</td>\n",
       "      <td>2</td>\n",
       "      <td>F A</td>\n",
       "      <td>F A</td>\n",
       "      <td>Normal</td>\n",
       "    </tr>\n",
       "    <tr>\n",
       "      <th>6</th>\n",
       "      <td>192.168.2.110</td>\n",
       "      <td>tcp_ip</td>\n",
       "      <td>1864</td>\n",
       "      <td>216.49.88.12</td>\n",
       "      <td>80</td>\n",
       "      <td>128</td>\n",
       "      <td>128</td>\n",
       "      <td>2</td>\n",
       "      <td>2</td>\n",
       "      <td>F A</td>\n",
       "      <td>F A</td>\n",
       "      <td>Normal</td>\n",
       "    </tr>\n",
       "    <tr>\n",
       "      <th>7</th>\n",
       "      <td>192.168.2.110</td>\n",
       "      <td>tcp_ip</td>\n",
       "      <td>1864</td>\n",
       "      <td>216.49.88.12</td>\n",
       "      <td>80</td>\n",
       "      <td>128</td>\n",
       "      <td>128</td>\n",
       "      <td>2</td>\n",
       "      <td>2</td>\n",
       "      <td>F A</td>\n",
       "      <td>F A</td>\n",
       "      <td>Normal</td>\n",
       "    </tr>\n",
       "    <tr>\n",
       "      <th>8</th>\n",
       "      <td>192.168.2.113</td>\n",
       "      <td>tcp_ip</td>\n",
       "      <td>4186</td>\n",
       "      <td>63.245.209.72</td>\n",
       "      <td>443</td>\n",
       "      <td>64</td>\n",
       "      <td>0</td>\n",
       "      <td>0</td>\n",
       "      <td>1</td>\n",
       "      <td>F A</td>\n",
       "      <td>NaN</td>\n",
       "      <td>Normal</td>\n",
       "    </tr>\n",
       "    <tr>\n",
       "      <th>9</th>\n",
       "      <td>192.168.2.113</td>\n",
       "      <td>tcp_ip</td>\n",
       "      <td>4186</td>\n",
       "      <td>63.245.209.72</td>\n",
       "      <td>443</td>\n",
       "      <td>64</td>\n",
       "      <td>0</td>\n",
       "      <td>0</td>\n",
       "      <td>1</td>\n",
       "      <td>F A</td>\n",
       "      <td>NaN</td>\n",
       "      <td>Normal</td>\n",
       "    </tr>\n",
       "    <tr>\n",
       "      <th>10</th>\n",
       "      <td>192.168.2.110</td>\n",
       "      <td>tcp_ip</td>\n",
       "      <td>1868</td>\n",
       "      <td>184.51.176.80</td>\n",
       "      <td>80</td>\n",
       "      <td>128</td>\n",
       "      <td>64</td>\n",
       "      <td>1</td>\n",
       "      <td>2</td>\n",
       "      <td>F A</td>\n",
       "      <td>F A</td>\n",
       "      <td>Normal</td>\n",
       "    </tr>\n",
       "    <tr>\n",
       "      <th>11</th>\n",
       "      <td>192.168.2.110</td>\n",
       "      <td>tcp_ip</td>\n",
       "      <td>1867</td>\n",
       "      <td>142.166.14.77</td>\n",
       "      <td>80</td>\n",
       "      <td>128</td>\n",
       "      <td>64</td>\n",
       "      <td>1</td>\n",
       "      <td>2</td>\n",
       "      <td>F A</td>\n",
       "      <td>F A</td>\n",
       "      <td>Normal</td>\n",
       "    </tr>\n",
       "    <tr>\n",
       "      <th>12</th>\n",
       "      <td>192.168.2.110</td>\n",
       "      <td>tcp_ip</td>\n",
       "      <td>1868</td>\n",
       "      <td>184.51.176.80</td>\n",
       "      <td>80</td>\n",
       "      <td>128</td>\n",
       "      <td>64</td>\n",
       "      <td>1</td>\n",
       "      <td>2</td>\n",
       "      <td>F A</td>\n",
       "      <td>F A</td>\n",
       "      <td>Normal</td>\n",
       "    </tr>\n",
       "    <tr>\n",
       "      <th>13</th>\n",
       "      <td>192.168.2.110</td>\n",
       "      <td>tcp_ip</td>\n",
       "      <td>1867</td>\n",
       "      <td>142.166.14.77</td>\n",
       "      <td>80</td>\n",
       "      <td>128</td>\n",
       "      <td>64</td>\n",
       "      <td>1</td>\n",
       "      <td>2</td>\n",
       "      <td>F A</td>\n",
       "      <td>F A</td>\n",
       "      <td>Normal</td>\n",
       "    </tr>\n",
       "    <tr>\n",
       "      <th>14</th>\n",
       "      <td>192.168.1.104</td>\n",
       "      <td>tcp_ip</td>\n",
       "      <td>1452</td>\n",
       "      <td>192.168.5.122</td>\n",
       "      <td>143</td>\n",
       "      <td>64</td>\n",
       "      <td>150</td>\n",
       "      <td>2</td>\n",
       "      <td>1</td>\n",
       "      <td>A</td>\n",
       "      <td>P A</td>\n",
       "      <td>Normal</td>\n",
       "    </tr>\n",
       "    <tr>\n",
       "      <th>15</th>\n",
       "      <td>192.168.1.104</td>\n",
       "      <td>tcp_ip</td>\n",
       "      <td>1452</td>\n",
       "      <td>192.168.5.122</td>\n",
       "      <td>143</td>\n",
       "      <td>64</td>\n",
       "      <td>150</td>\n",
       "      <td>2</td>\n",
       "      <td>1</td>\n",
       "      <td>A</td>\n",
       "      <td>P A</td>\n",
       "      <td>Normal</td>\n",
       "    </tr>\n",
       "    <tr>\n",
       "      <th>16</th>\n",
       "      <td>192.168.2.113</td>\n",
       "      <td>udp_ip</td>\n",
       "      <td>138</td>\n",
       "      <td>192.168.2.255</td>\n",
       "      <td>138</td>\n",
       "      <td>503</td>\n",
       "      <td>0</td>\n",
       "      <td>0</td>\n",
       "      <td>2</td>\n",
       "      <td>N/A</td>\n",
       "      <td>N/A</td>\n",
       "      <td>Normal</td>\n",
       "    </tr>\n",
       "    <tr>\n",
       "      <th>17</th>\n",
       "      <td>192.168.2.113</td>\n",
       "      <td>udp_ip</td>\n",
       "      <td>138</td>\n",
       "      <td>192.168.2.255</td>\n",
       "      <td>138</td>\n",
       "      <td>503</td>\n",
       "      <td>0</td>\n",
       "      <td>0</td>\n",
       "      <td>2</td>\n",
       "      <td>N/A</td>\n",
       "      <td>N/A</td>\n",
       "      <td>Normal</td>\n",
       "    </tr>\n",
       "    <tr>\n",
       "      <th>18</th>\n",
       "      <td>192.168.1.101</td>\n",
       "      <td>tcp_ip</td>\n",
       "      <td>2157</td>\n",
       "      <td>208.116.9.82</td>\n",
       "      <td>80</td>\n",
       "      <td>821</td>\n",
       "      <td>17086</td>\n",
       "      <td>17</td>\n",
       "      <td>12</td>\n",
       "      <td>F S P A</td>\n",
       "      <td>F S P A</td>\n",
       "      <td>Normal</td>\n",
       "    </tr>\n",
       "    <tr>\n",
       "      <th>19</th>\n",
       "      <td>192.168.1.101</td>\n",
       "      <td>tcp_ip</td>\n",
       "      <td>2156</td>\n",
       "      <td>67.212.184.66</td>\n",
       "      <td>80</td>\n",
       "      <td>1171</td>\n",
       "      <td>33942</td>\n",
       "      <td>27</td>\n",
       "      <td>17</td>\n",
       "      <td>S P A</td>\n",
       "      <td>F S P A</td>\n",
       "      <td>Normal</td>\n",
       "    </tr>\n",
       "    <tr>\n",
       "      <th>20</th>\n",
       "      <td>192.168.1.101</td>\n",
       "      <td>udp_ip</td>\n",
       "      <td>2796</td>\n",
       "      <td>192.168.5.122</td>\n",
       "      <td>53</td>\n",
       "      <td>81</td>\n",
       "      <td>1050</td>\n",
       "      <td>2</td>\n",
       "      <td>1</td>\n",
       "      <td>N/A</td>\n",
       "      <td>N/A</td>\n",
       "      <td>Normal</td>\n",
       "    </tr>\n",
       "    <tr>\n",
       "      <th>21</th>\n",
       "      <td>192.168.2.113</td>\n",
       "      <td>tcp_ip</td>\n",
       "      <td>4189</td>\n",
       "      <td>207.241.148.91</td>\n",
       "      <td>80</td>\n",
       "      <td>128</td>\n",
       "      <td>64</td>\n",
       "      <td>1</td>\n",
       "      <td>2</td>\n",
       "      <td>F A</td>\n",
       "      <td>F A</td>\n",
       "      <td>Normal</td>\n",
       "    </tr>\n",
       "    <tr>\n",
       "      <th>22</th>\n",
       "      <td>192.168.1.101</td>\n",
       "      <td>udp_ip</td>\n",
       "      <td>2796</td>\n",
       "      <td>192.168.5.122</td>\n",
       "      <td>53</td>\n",
       "      <td>81</td>\n",
       "      <td>1050</td>\n",
       "      <td>2</td>\n",
       "      <td>1</td>\n",
       "      <td>N/A</td>\n",
       "      <td>N/A</td>\n",
       "      <td>Normal</td>\n",
       "    </tr>\n",
       "    <tr>\n",
       "      <th>23</th>\n",
       "      <td>192.168.2.113</td>\n",
       "      <td>tcp_ip</td>\n",
       "      <td>4189</td>\n",
       "      <td>207.241.148.91</td>\n",
       "      <td>80</td>\n",
       "      <td>128</td>\n",
       "      <td>64</td>\n",
       "      <td>1</td>\n",
       "      <td>2</td>\n",
       "      <td>F A</td>\n",
       "      <td>F A</td>\n",
       "      <td>Normal</td>\n",
       "    </tr>\n",
       "    <tr>\n",
       "      <th>24</th>\n",
       "      <td>192.168.1.101</td>\n",
       "      <td>tcp_ip</td>\n",
       "      <td>2156</td>\n",
       "      <td>67.212.184.66</td>\n",
       "      <td>80</td>\n",
       "      <td>1171</td>\n",
       "      <td>33942</td>\n",
       "      <td>27</td>\n",
       "      <td>17</td>\n",
       "      <td>S P A</td>\n",
       "      <td>F S P A</td>\n",
       "      <td>Normal</td>\n",
       "    </tr>\n",
       "    <tr>\n",
       "      <th>25</th>\n",
       "      <td>192.168.1.101</td>\n",
       "      <td>tcp_ip</td>\n",
       "      <td>2157</td>\n",
       "      <td>208.116.9.82</td>\n",
       "      <td>80</td>\n",
       "      <td>821</td>\n",
       "      <td>17086</td>\n",
       "      <td>17</td>\n",
       "      <td>12</td>\n",
       "      <td>F S P A</td>\n",
       "      <td>F S P A</td>\n",
       "      <td>Normal</td>\n",
       "    </tr>\n",
       "    <tr>\n",
       "      <th>26</th>\n",
       "      <td>192.168.1.101</td>\n",
       "      <td>tcp_ip</td>\n",
       "      <td>2159</td>\n",
       "      <td>67.212.184.66</td>\n",
       "      <td>80</td>\n",
       "      <td>971</td>\n",
       "      <td>26154</td>\n",
       "      <td>21</td>\n",
       "      <td>14</td>\n",
       "      <td>S P A</td>\n",
       "      <td>F S P A</td>\n",
       "      <td>Normal</td>\n",
       "    </tr>\n",
       "    <tr>\n",
       "      <th>27</th>\n",
       "      <td>192.168.1.101</td>\n",
       "      <td>tcp_ip</td>\n",
       "      <td>2158</td>\n",
       "      <td>208.116.9.82</td>\n",
       "      <td>80</td>\n",
       "      <td>865</td>\n",
       "      <td>21666</td>\n",
       "      <td>18</td>\n",
       "      <td>12</td>\n",
       "      <td>F S P A</td>\n",
       "      <td>F S P A</td>\n",
       "      <td>Normal</td>\n",
       "    </tr>\n",
       "    <tr>\n",
       "      <th>28</th>\n",
       "      <td>192.168.2.107</td>\n",
       "      <td>udp_ip</td>\n",
       "      <td>138</td>\n",
       "      <td>192.168.2.255</td>\n",
       "      <td>138</td>\n",
       "      <td>247</td>\n",
       "      <td>0</td>\n",
       "      <td>0</td>\n",
       "      <td>1</td>\n",
       "      <td>N/A</td>\n",
       "      <td>N/A</td>\n",
       "      <td>Normal</td>\n",
       "    </tr>\n",
       "    <tr>\n",
       "      <th>29</th>\n",
       "      <td>192.168.1.101</td>\n",
       "      <td>tcp_ip</td>\n",
       "      <td>2158</td>\n",
       "      <td>208.116.9.82</td>\n",
       "      <td>80</td>\n",
       "      <td>865</td>\n",
       "      <td>21666</td>\n",
       "      <td>18</td>\n",
       "      <td>12</td>\n",
       "      <td>F S P A</td>\n",
       "      <td>F S P A</td>\n",
       "      <td>Normal</td>\n",
       "    </tr>\n",
       "  </tbody>\n",
       "</table>\n",
       "</div>"
      ],
      "text/plain": [
       "             source protocolName sourcePort       destination destinationPort  \\\n",
       "0    192.168.5.122       udp_ip       5353       224.0.0.251            5353    \n",
       "1    192.168.5.122       udp_ip       5353       224.0.0.251            5353    \n",
       "2    192.168.2.113       tcp_ip       4191     192.168.5.122              80    \n",
       "3    192.168.2.113       tcp_ip       4191     192.168.5.122              80    \n",
       "4    192.168.2.113       tcp_ip       4192    207.241.148.80              80    \n",
       "5    192.168.2.113       tcp_ip       4192    207.241.148.80              80    \n",
       "6    192.168.2.110       tcp_ip       1864      216.49.88.12              80    \n",
       "7    192.168.2.110       tcp_ip       1864      216.49.88.12              80    \n",
       "8    192.168.2.113       tcp_ip       4186     63.245.209.72             443    \n",
       "9    192.168.2.113       tcp_ip       4186     63.245.209.72             443    \n",
       "10   192.168.2.110       tcp_ip       1868     184.51.176.80              80    \n",
       "11   192.168.2.110       tcp_ip       1867     142.166.14.77              80    \n",
       "12   192.168.2.110       tcp_ip       1868     184.51.176.80              80    \n",
       "13   192.168.2.110       tcp_ip       1867     142.166.14.77              80    \n",
       "14   192.168.1.104       tcp_ip       1452     192.168.5.122             143    \n",
       "15   192.168.1.104       tcp_ip       1452     192.168.5.122             143    \n",
       "16   192.168.2.113       udp_ip        138     192.168.2.255             138    \n",
       "17   192.168.2.113       udp_ip        138     192.168.2.255             138    \n",
       "18   192.168.1.101       tcp_ip       2157      208.116.9.82              80    \n",
       "19   192.168.1.101       tcp_ip       2156     67.212.184.66              80    \n",
       "20   192.168.1.101       udp_ip       2796     192.168.5.122              53    \n",
       "21   192.168.2.113       tcp_ip       4189    207.241.148.91              80    \n",
       "22   192.168.1.101       udp_ip       2796     192.168.5.122              53    \n",
       "23   192.168.2.113       tcp_ip       4189    207.241.148.91              80    \n",
       "24   192.168.1.101       tcp_ip       2156     67.212.184.66              80    \n",
       "25   192.168.1.101       tcp_ip       2157      208.116.9.82              80    \n",
       "26   192.168.1.101       tcp_ip       2159     67.212.184.66              80    \n",
       "27   192.168.1.101       tcp_ip       2158      208.116.9.82              80    \n",
       "28   192.168.2.107       udp_ip        138     192.168.2.255             138    \n",
       "29   192.168.1.101       tcp_ip       2158      208.116.9.82              80    \n",
       "\n",
       "   totalSourceBytes totalDestinationBytes totalDestinationPackets  \\\n",
       "0          2633658                     0                       0    \n",
       "1          2633658                     0                       0    \n",
       "2               64                   128                       2    \n",
       "3               64                   128                       2    \n",
       "4              128                    64                       1    \n",
       "5              128                    64                       1    \n",
       "6              128                   128                       2    \n",
       "7              128                   128                       2    \n",
       "8               64                     0                       0    \n",
       "9               64                     0                       0    \n",
       "10             128                    64                       1    \n",
       "11             128                    64                       1    \n",
       "12             128                    64                       1    \n",
       "13             128                    64                       1    \n",
       "14              64                   150                       2    \n",
       "15              64                   150                       2    \n",
       "16             503                     0                       0    \n",
       "17             503                     0                       0    \n",
       "18             821                 17086                      17    \n",
       "19            1171                 33942                      27    \n",
       "20              81                  1050                       2    \n",
       "21             128                    64                       1    \n",
       "22              81                  1050                       2    \n",
       "23             128                    64                       1    \n",
       "24            1171                 33942                      27    \n",
       "25             821                 17086                      17    \n",
       "26             971                 26154                      21    \n",
       "27             865                 21666                      18    \n",
       "28             247                     0                       0    \n",
       "29             865                 21666                      18    \n",
       "\n",
       "   totalSourcePackets sourceTCPFlagsDescription  \\\n",
       "0              28971                       N/A    \n",
       "1              28971                       N/A    \n",
       "2                  1                       F A    \n",
       "3                  1                       F A    \n",
       "4                  2                       F A    \n",
       "5                  2                       F A    \n",
       "6                  2                       F A    \n",
       "7                  2                       F A    \n",
       "8                  1                       F A    \n",
       "9                  1                       F A    \n",
       "10                 2                       F A    \n",
       "11                 2                       F A    \n",
       "12                 2                       F A    \n",
       "13                 2                       F A    \n",
       "14                 1                         A    \n",
       "15                 1                         A    \n",
       "16                 2                       N/A    \n",
       "17                 2                       N/A    \n",
       "18                12                   F S P A    \n",
       "19                17                     S P A    \n",
       "20                 1                       N/A    \n",
       "21                 2                       F A    \n",
       "22                 1                       N/A    \n",
       "23                 2                       F A    \n",
       "24                17                     S P A    \n",
       "25                12                   F S P A    \n",
       "26                14                     S P A    \n",
       "27                12                   F S P A    \n",
       "28                 1                       N/A    \n",
       "29                12                   F S P A    \n",
       "\n",
       "   destinationTCPFlagsDescription      Tag  \n",
       "0                            N/A    Normal  \n",
       "1                            N/A    Normal  \n",
       "2                              R    Normal  \n",
       "3                              R    Normal  \n",
       "4                            F A    Normal  \n",
       "5                            F A    Normal  \n",
       "6                            F A    Normal  \n",
       "7                            F A    Normal  \n",
       "8                            NaN    Normal  \n",
       "9                            NaN    Normal  \n",
       "10                           F A    Normal  \n",
       "11                           F A    Normal  \n",
       "12                           F A    Normal  \n",
       "13                           F A    Normal  \n",
       "14                           P A    Normal  \n",
       "15                           P A    Normal  \n",
       "16                           N/A    Normal  \n",
       "17                           N/A    Normal  \n",
       "18                       F S P A    Normal  \n",
       "19                       F S P A    Normal  \n",
       "20                           N/A    Normal  \n",
       "21                           F A    Normal  \n",
       "22                           N/A    Normal  \n",
       "23                           F A    Normal  \n",
       "24                       F S P A    Normal  \n",
       "25                       F S P A    Normal  \n",
       "26                       F S P A    Normal  \n",
       "27                       F S P A    Normal  \n",
       "28                           N/A    Normal  \n",
       "29                       F S P A    Normal  "
      ]
     },
     "execution_count": 13,
     "metadata": {},
     "output_type": "execute_result"
    }
   ],
   "source": [
    "df5.head(30)\n",
    "# df5.shape"
   ]
  },
  {
   "cell_type": "code",
   "execution_count": 25,
   "metadata": {},
   "outputs": [],
   "source": [
    "import matplotlib \n",
    "import matplotlib.pyplot as plt\n"
   ]
  },
  {
   "cell_type": "code",
   "execution_count": 24,
   "metadata": {},
   "outputs": [
    {
     "data": {
      "image/png": "[encoded data removed]",
      "text/plain": [
       "<Figure size 432x288 with 1 Axes>"
      ]
     },
     "metadata": {
      "needs_background": "light"
     },
     "output_type": "display_data"
    }
   ],
   "source": [
    "i = df5.loc[df5['Tag'].isin([' NaN'])].index\n",
    "# type(kyun.value_counts()[2])\n",
    "ll = []\n",
    "for j in i:\n",
    "    df5 = df5.drop(j)\n",
    "\n",
    "    \n",
    "%matplotlib inline\n",
    "kyun = df5['Tag']\n",
    "kyun.value_counts().plot(kind='bar')\n",
    "plt.show()  "
   ]
  },
  {
   "cell_type": "code",
   "execution_count": 45,
   "metadata": {},
   "outputs": [
    {
     "data": {
      "text/plain": [
       "<11x11 sparse matrix of type '<class 'numpy.float64'>'\n",
       "\twith 11 stored elements in Compressed Sparse Row format>"
      ]
     },
     "execution_count": 45,
     "metadata": {},
     "output_type": "execute_result"
    }
   ],
   "source": [
    "from sklearn.feature_extraction.text import TfidfVectorizer\n",
    "tfidf = TfidfVectorizer()\n",
    "# df.drop(columns=['B', 'C'])\n",
    "# print(df5)\n",
    "# df5 = df5.drop(columns=['Tag']) \n",
    "matrix_input = tfidf.fit_transform(df5)\n",
    "matrix_input"
   ]
  },
  {
   "cell_type": "code",
   "execution_count": 49,
   "metadata": {},
   "outputs": [
    {
     "name": "stdout",
     "output_type": "stream",
     "text": [
      "KMeans(n_clusters=10)\n"
     ]
    },
    {
     "data": {
      "text/plain": [
       "array([5, 1, 0, 3, 7, 9, 4, 2, 6, 8, 0])"
      ]
     },
     "execution_count": 49,
     "metadata": {},
     "output_type": "execute_result"
    }
   ],
   "source": [
    "from sklearn.cluster import KMeans\n",
    "km = KMeans(n_clusters = 10)\n",
    "print(km)\n",
    "km.fit(matrix_input)\n",
    "km.labels_"
   ]
  },
  {
   "cell_type": "code",
   "execution_count": 5,
   "metadata": {},
   "outputs": [],
   "source": [
    "from sklearn.datasets import load_digits\n",
    "from sklearn.decomposition import PCA\n",
    "from sklearn.cluster import KMeans\n",
    "import numpy as np"
   ]
  },
  {
   "cell_type": "code",
   "execution_count": null,
   "metadata": {},
   "outputs": [],
   "source": [
    "#Load Data\n",
    "# url = 'flowSunJun1.csv'\n",
    "# df = pd.read_csv(url)\n",
    "data = load_digits().data\n",
    "pca = PCA(2)\n",
    " \n",
    "#Transform the data\n",
    "df = pca.fit_transform(data)\n",
    " \n",
    "df.shape"
   ]
  }
 ],
 "metadata": {
  "kernelspec": {
   "display_name": "Python 3",
   "language": "python",
   "name": "python3"
  },
  "language_info": {
   "codemirror_mode": {
    "name": "ipython",
    "version": 3
   },
   "file_extension": ".py",
   "mimetype": "text/x-python",
   "name": "python",
   "nbconvert_exporter": "python",
   "pygments_lexer": "ipython3",
   "version": "3.8.5"
  }
 },
 "nbformat": 4,
 "nbformat_minor": 4
}
