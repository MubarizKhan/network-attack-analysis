{
  "cells": [
    {
      "cell_type": "markdown",
      "metadata": {
        "id": "view-in-github",
        "colab_type": "text"
      },
      "source": [
        "<a href=\"https://colab.research.google.com/github/MubarizKhan/network-attack-analysis/blob/main/dataPreprocessingAndVisualisation.ipynb\" target=\"_parent\"><img src=\"https://colab.research.google.com/assets/colab-badge.svg\" alt=\"Open In Colab\"/></a>"
      ]
    },
    {
      "cell_type": "markdown",
      "metadata": {
        "id": "wgwNWJ_lF00b"
      },
      "source": [
        "# Data pre-processing & Data Cleaning"
      ]
    },
    {
      "cell_type": "code",
      "execution_count": null,
      "metadata": {
        "id": "wsfgAVAgF00d"
      },
      "outputs": [],
      "source": [
        "import pandas as pd\n",
        "import matplotlib.pyplot as plt"
      ]
    },
    {
      "cell_type": "code",
      "execution_count": null,
      "metadata": {
        "id": "05IpNAeiF00e"
      },
      "outputs": [],
      "source": [
        "url = 'flowSunJun115.csv'\n",
        "df = pd.read_csv(url)"
      ]
    },
    {
      "cell_type": "code",
      "execution_count": null,
      "metadata": {
        "id": "t1KsocnFF00f",
        "outputId": "fca87f64-0445-4781-c93c-e981aa86161f"
      },
      "outputs": [
        {
          "name": "stdout",
          "output_type": "stream",
          "text": [
            "0          Normal\n",
            "1          Normal\n",
            "2          Normal\n",
            "3          Normal\n",
            "4          Normal\n",
            "           ...   \n",
            "275523     Normal\n",
            "275524     Normal\n",
            "275525     Normal\n",
            "275526     Normal\n",
            "275527     Normal\n",
            "Name: Tag, Length: 275528, dtype: object\n"
          ]
        },
        {
          "data": {
            "text/plain": [
              "(275528, 20)"
            ]
          },
          "execution_count": 22,
          "metadata": {},
          "output_type": "execute_result"
        }
      ],
      "source": [
        "print(df['Tag']) #Normal & Attack are the Tag/Labels\n",
        "df.shape"
      ]
    },
    {
      "cell_type": "code",
      "execution_count": null,
      "metadata": {
        "id": "arCDyKx4F00h",
        "outputId": "5eb26839-c630-40e1-ec28-526d28d87515"
      },
      "outputs": [
        {
          "data": {
            "text/plain": [
              "Index(['appName', 'source', 'protocolName', 'sourcePort', 'destination',\n",
              "       'destinationPort', 'direction', 'totalSourceBytes',\n",
              "       'totalDestinationBytes', 'totalDestinationPackets',\n",
              "       'totalSourcePackets', 'sourcePayloadAsBase64', 'sourcePayloadAsUTF',\n",
              "       'destinationPayloadAsBase64', 'destinationPayloadAsUTF',\n",
              "       'sourceTCPFlagsDescription', 'destinationTCPFlagsDescription',\n",
              "       'startDateTime', 'stopDateTime', 'Tag'],\n",
              "      dtype='object')"
            ]
          },
          "execution_count": 23,
          "metadata": {},
          "output_type": "execute_result"
        }
      ],
      "source": [
        "df.columns"
      ]
    },
    {
      "cell_type": "code",
      "execution_count": null,
      "metadata": {
        "id": "lzKDEtHUF00h",
        "outputId": "7d31fc95-6012-441a-8d4e-2d6dbbd74942"
      },
      "outputs": [
        {
          "data": {
            "text/plain": [
              " Normal    247139\n",
              " Attack     19787\n",
              "             8546\n",
              " 0             56\n",
              "Name: Tag, dtype: int64"
            ]
          },
          "execution_count": 24,
          "metadata": {},
          "output_type": "execute_result"
        }
      ],
      "source": [
        "tag = df['Tag']\n",
        "tag.value_counts() # White Spaces in Tag Label & NaN\n"
      ]
    },
    {
      "cell_type": "markdown",
      "metadata": {
        "id": "q9RqcLz2F00i"
      },
      "source": []
    },
    {
      "cell_type": "markdown",
      "metadata": {
        "id": "EZ57V_X7F00i"
      },
      "source": [
        "## Removing Empty Spaces in 'Tag' Label"
      ]
    },
    {
      "cell_type": "code",
      "execution_count": null,
      "metadata": {
        "id": "mcl6nQKEF00j"
      },
      "outputs": [],
      "source": [
        "import threading\n",
        "\n",
        "'''  \n",
        "    Preprocessor class:\n",
        "    this is the class which will be used to manipulate our data. \n",
        "    ->self.df; is the member; in which the dataframe will be loaded. \n",
        "    -> Preprocessor: is used to clean & pre-process our data. \n",
        "\n",
        "'''\n",
        "\n",
        "class Preprocessor:\n",
        "    \n",
        "    def __init__(self, csv_path='flowSunJun115.csv'):\n",
        "        self.df = pd.read_csv(csv_path) #Reading the csv file pn creation & loading it in dataframe.\n",
        "    \n",
        "    def get_df(self):#Returns DataFrame\n",
        "        return self.df \n",
        "    \n",
        "    def drop_outlier(self, outliers): #Will be used to Remove repeated values & outliers; \n",
        "        print(\"Removing indexes : \",outliers ) #helper function for outlier_remover\n",
        "        self.df.drop(outliers, inplace=True) #inplace = True; Manipulate inside the current df, \n",
        "        print(\"Removed outliers !\")                 #^ don't make a new df, ^\n",
        "        print(self.df.shape)\n",
        "\n",
        "    def rem_space(self, valToRemove1,valToRemove2): #REMOVE_space or whatever, passed in param1 & param2\n",
        "        valToRemove1 = str(valToRemove1)  #Will get List of indexes of where valToRemove1 & valToRemove2 are situated. \n",
        "        valToRemove2 = str(valToRemove2)\n",
        "        df = self.get_df()\n",
        "        outlier_indexes = df.loc[df['Tag'].isin([valToRemove1,valToRemove2])].index #Extract Rows w var1,var2 in em\n",
        "        print(type(outlier_indexes[0]))\n",
        "        print((outlier_indexes[0]))\n",
        "        return outlier_indexes       #Returns a list of indexes to remove\n",
        "    \n",
        "    def shape(self): #Returns Shape\n",
        "        return self.df.shape\n",
        "    \n",
        "    def outlier_remover(self):\n",
        "        \"\"\"\n",
        "            Extracts indexes of outlier rows and\n",
        "            sends them to be removed.\n",
        "        \"\"\"\n",
        "        outlier_list = self.rem_space(' ', '0') \n",
        "        print(\"Outliers Count : \",len(outlier_list))\n",
        "        self.drop_outlier(outlier_list)\n",
        "        print(\"[*] Done !\\nNew shape : \",self.df.shape)\n",
        "        \n",
        "    def attackNormalVisualize(self): #Will visualize barplot\n",
        "        %matplotlib inline\n",
        "        tag = self.df['Tag']\n",
        "        tag.value_counts().plot(kind='bar')# White Spaces in Tag Label & NaN; as shown in barplot\n",
        "        print(tag.value_counts()[0])\n",
        "        plt.ylabel('Frequency')\n",
        "        plt.xlabel('Labels/Tags of Network Packets');\n",
        "        plt.title(\"captured network packets\")\n",
        "        plt.show()\n",
        "    \n",
        "        \n",
        "    def tagZeroRemoval(self):\n",
        "        ''' \n",
        "            Will drop rows with false 'Tag' label; which can be spaces or null values \n",
        "        '''\n",
        "        zeroOutliers = self.df.loc[self.df['Tag'].isin(['0 ', ' 0',' '])].index\n",
        "        print(zeroOutliers) \n",
        "        self.df = self.df.drop(zeroOutliers) \n",
        "        \n",
        "    def attackProbability(self):\n",
        "        ''' \n",
        "           Attack frequency / (AttackFrequency + NormalFrequency) \n",
        "        '''\n",
        "        df_tag = self.df['Tag']\n",
        "        df_tag.value_counts()\n",
        "        Attack_count = df_tag.value_counts()[1]\n",
        "        Benign_count = df_tag.value_counts()[0]\n",
        "        TotalOutcomes = (Attack_count + Benign_count)\n",
        "        Attack_proba = ((Attack_count / (TotalOutcomes)) )\n",
        "\n",
        "        print(Attack_count ,'/', Attack_count + Benign_count, ', Attack_count:',Attack_count,'Benign_count:',Benign_count)\n",
        "        print(Attack_proba, 'Probability of Attack')\n",
        "#         return Attack_proba\n",
        "\n",
        "    def fill_NA(self):\n",
        "        \"\"\"\n",
        "            Replace coloumn values with a null value \n",
        "            if the column value is N/A. We can change\n",
        "            the columns later, on whicb the rows have \n",
        "            to be replaced .\n",
        "        \"\"\"\n",
        "        self.df = self.df.fillna(0)\n",
        "        self.df['sourceTCPFlagsDescription'] = df['sourceTCPFlagsDescription'].replace('N/A', 0)\n",
        "        self.df['destinationTCPFlagsDescription'] = df['destinationTCPFlagsDescription'].replace('N/A', 0)\n",
        "#         print('?')\n",
        "        return self.df\n",
        "\n",
        "    def getTagValues(self):\n",
        "        \"\"\"\n",
        "            Return tag label counts\n",
        "        \"\"\"\n",
        "        TagValues = self.df['Tag']\n",
        "        return TagValues.value_counts()\n",
        "    \n",
        "    def scatter_plot(self):\n",
        "        \"\"\"\n",
        "            Visulize scatter plot\n",
        "        \"\"\"\n",
        "        plt.figure(figsize=(10, 5)) \n",
        "        \n",
        "        x =  range(self.df['Tag'].size)\n",
        "        y =  self.df['destinationPayloadAsUTF']\n",
        "        plt.scatter(x, y, marker='x', s=3.35)\n",
        "        plt.title(\"Relationship between Malicious & Benign Activity\")\n",
        "        plt.xlabel(\"Packet Arrival Order\")\n",
        "        plt.ylabel(\"Labels\")\n",
        "\n",
        "        plt.show()\n",
        "        \n",
        "        \n",
        "    def dropCertainColumns(self):\n",
        "        \"\"\"\n",
        "           Rwmove some more unnecessary data. \n",
        "        \"\"\"\n",
        "        self.df = self.df.drop(columns=['totalSourcePackets','totalDestinationPackets','startDateTime','stopDateTime'])\n",
        "        return self.df\n",
        "\n",
        "    \n",
        " \n",
        "\n",
        "        "
      ]
    },
    {
      "cell_type": "code",
      "execution_count": null,
      "metadata": {
        "id": "44BZD_1FF00k"
      },
      "outputs": [],
      "source": [
        "# df.loc[df['Tag'].isin([' ','0'])].index"
      ]
    },
    {
      "cell_type": "code",
      "execution_count": null,
      "metadata": {
        "id": "A8wu9Rf5F00k"
      },
      "outputs": [],
      "source": []
    },
    {
      "cell_type": "code",
      "execution_count": null,
      "metadata": {
        "id": "RnF7Qj_0F00k",
        "outputId": "35454058-332c-4c75-ca4f-ad951c2bfc95"
      },
      "outputs": [
        {
          "data": {
            "text/html": [
              "<div>\n",
              "<style scoped>\n",
              "    .dataframe tbody tr th:only-of-type {\n",
              "        vertical-align: middle;\n",
              "    }\n",
              "\n",
              "    .dataframe tbody tr th {\n",
              "        vertical-align: top;\n",
              "    }\n",
              "\n",
              "    .dataframe thead th {\n",
              "        text-align: right;\n",
              "    }\n",
              "</style>\n",
              "<table border=\"1\" class=\"dataframe\">\n",
              "  <thead>\n",
              "    <tr style=\"text-align: right;\">\n",
              "      <th></th>\n",
              "      <th>appName</th>\n",
              "      <th>source</th>\n",
              "      <th>protocolName</th>\n",
              "      <th>sourcePort</th>\n",
              "      <th>destination</th>\n",
              "      <th>destinationPort</th>\n",
              "      <th>direction</th>\n",
              "      <th>totalSourceBytes</th>\n",
              "      <th>totalDestinationBytes</th>\n",
              "      <th>totalDestinationPackets</th>\n",
              "      <th>totalSourcePackets</th>\n",
              "      <th>sourcePayloadAsBase64</th>\n",
              "      <th>sourcePayloadAsUTF</th>\n",
              "      <th>destinationPayloadAsBase64</th>\n",
              "      <th>destinationPayloadAsUTF</th>\n",
              "      <th>sourceTCPFlagsDescription</th>\n",
              "      <th>destinationTCPFlagsDescription</th>\n",
              "      <th>startDateTime</th>\n",
              "      <th>stopDateTime</th>\n",
              "      <th>Tag</th>\n",
              "    </tr>\n",
              "  </thead>\n",
              "  <tbody>\n",
              "    <tr>\n",
              "      <th>0</th>\n",
              "      <td>Unknown_UDP</td>\n",
              "      <td>192.168.5.122</td>\n",
              "      <td>udp_ip</td>\n",
              "      <td>5353</td>\n",
              "      <td>224.0.0.251</td>\n",
              "      <td>5353</td>\n",
              "      <td>L2R</td>\n",
              "      <td>2633658</td>\n",
              "      <td>0</td>\n",
              "      <td>0</td>\n",
              "      <td>28971</td>\n",
              "      <td>0</td>\n",
              "      <td>0</td>\n",
              "      <td>0</td>\n",
              "      <td>0</td>\n",
              "      <td>N/A</td>\n",
              "      <td>N/A</td>\n",
              "      <td>2010-06-12T23:57:24</td>\n",
              "      <td>2010-06-13T09:24:52</td>\n",
              "      <td>Normal</td>\n",
              "    </tr>\n",
              "    <tr>\n",
              "      <th>1</th>\n",
              "      <td>Unknown_UDP</td>\n",
              "      <td>192.168.5.122</td>\n",
              "      <td>udp_ip</td>\n",
              "      <td>5353</td>\n",
              "      <td>224.0.0.251</td>\n",
              "      <td>5353</td>\n",
              "      <td>L2R</td>\n",
              "      <td>2633658</td>\n",
              "      <td>0</td>\n",
              "      <td>0</td>\n",
              "      <td>28971</td>\n",
              "      <td>0</td>\n",
              "      <td>0</td>\n",
              "      <td>0</td>\n",
              "      <td>0</td>\n",
              "      <td>N/A</td>\n",
              "      <td>N/A</td>\n",
              "      <td>2010-06-12T23:57:24</td>\n",
              "      <td>2010-06-13T09:24:52</td>\n",
              "      <td>Normal</td>\n",
              "    </tr>\n",
              "    <tr>\n",
              "      <th>2</th>\n",
              "      <td>HTTPWeb</td>\n",
              "      <td>192.168.2.113</td>\n",
              "      <td>tcp_ip</td>\n",
              "      <td>4191</td>\n",
              "      <td>192.168.5.122</td>\n",
              "      <td>80</td>\n",
              "      <td>L2L</td>\n",
              "      <td>64</td>\n",
              "      <td>128</td>\n",
              "      <td>2</td>\n",
              "      <td>1</td>\n",
              "      <td>0</td>\n",
              "      <td>0</td>\n",
              "      <td>0</td>\n",
              "      <td>0</td>\n",
              "      <td>F A</td>\n",
              "      <td>R</td>\n",
              "      <td>2010-06-12T23:57:38</td>\n",
              "      <td>2010-06-12T23:59:20</td>\n",
              "      <td>Normal</td>\n",
              "    </tr>\n",
              "    <tr>\n",
              "      <th>3</th>\n",
              "      <td>HTTPWeb</td>\n",
              "      <td>192.168.2.113</td>\n",
              "      <td>tcp_ip</td>\n",
              "      <td>4191</td>\n",
              "      <td>192.168.5.122</td>\n",
              "      <td>80</td>\n",
              "      <td>L2L</td>\n",
              "      <td>64</td>\n",
              "      <td>128</td>\n",
              "      <td>2</td>\n",
              "      <td>1</td>\n",
              "      <td>0</td>\n",
              "      <td>0</td>\n",
              "      <td>0</td>\n",
              "      <td>0</td>\n",
              "      <td>F A</td>\n",
              "      <td>R</td>\n",
              "      <td>2010-06-12T23:57:38</td>\n",
              "      <td>2010-06-12T23:59:20</td>\n",
              "      <td>Normal</td>\n",
              "    </tr>\n",
              "    <tr>\n",
              "      <th>4</th>\n",
              "      <td>HTTPWeb</td>\n",
              "      <td>192.168.2.113</td>\n",
              "      <td>tcp_ip</td>\n",
              "      <td>4192</td>\n",
              "      <td>207.241.148.80</td>\n",
              "      <td>80</td>\n",
              "      <td>L2R</td>\n",
              "      <td>128</td>\n",
              "      <td>64</td>\n",
              "      <td>1</td>\n",
              "      <td>2</td>\n",
              "      <td>0</td>\n",
              "      <td>0</td>\n",
              "      <td>0</td>\n",
              "      <td>0</td>\n",
              "      <td>F A</td>\n",
              "      <td>F A</td>\n",
              "      <td>2010-06-12T23:57:40</td>\n",
              "      <td>2010-06-12T23:59:20</td>\n",
              "      <td>Normal</td>\n",
              "    </tr>\n",
              "  </tbody>\n",
              "</table>\n",
              "</div>"
            ],
            "text/plain": [
              "        appName           source protocolName sourcePort       destination  \\\n",
              "0  Unknown_UDP    192.168.5.122       udp_ip       5353       224.0.0.251    \n",
              "1  Unknown_UDP    192.168.5.122       udp_ip       5353       224.0.0.251    \n",
              "2      HTTPWeb    192.168.2.113       tcp_ip       4191     192.168.5.122    \n",
              "3      HTTPWeb    192.168.2.113       tcp_ip       4191     192.168.5.122    \n",
              "4      HTTPWeb    192.168.2.113       tcp_ip       4192    207.241.148.80    \n",
              "\n",
              "  destinationPort direction totalSourceBytes totalDestinationBytes  \\\n",
              "0           5353       L2R          2633658                     0    \n",
              "1           5353       L2R          2633658                     0    \n",
              "2             80       L2L               64                   128    \n",
              "3             80       L2L               64                   128    \n",
              "4             80       L2R              128                    64    \n",
              "\n",
              "  totalDestinationPackets totalSourcePackets sourcePayloadAsBase64  \\\n",
              "0                      0              28971                     0    \n",
              "1                      0              28971                     0    \n",
              "2                      2                  1                     0    \n",
              "3                      2                  1                     0    \n",
              "4                      1                  2                     0    \n",
              "\n",
              "  sourcePayloadAsUTF destinationPayloadAsBase64 destinationPayloadAsUTF  \\\n",
              "0                 0                          0                       0    \n",
              "1                 0                          0                       0    \n",
              "2                 0                          0                       0    \n",
              "3                 0                          0                       0    \n",
              "4                 0                          0                       0    \n",
              "\n",
              "  sourceTCPFlagsDescription destinationTCPFlagsDescription  \\\n",
              "0                      N/A                            N/A    \n",
              "1                      N/A                            N/A    \n",
              "2                      F A                              R    \n",
              "3                      F A                              R    \n",
              "4                      F A                            F A    \n",
              "\n",
              "           startDateTime           stopDateTime      Tag  \n",
              "0   2010-06-12T23:57:24    2010-06-13T09:24:52    Normal  \n",
              "1   2010-06-12T23:57:24    2010-06-13T09:24:52    Normal  \n",
              "2   2010-06-12T23:57:38    2010-06-12T23:59:20    Normal  \n",
              "3   2010-06-12T23:57:38    2010-06-12T23:59:20    Normal  \n",
              "4   2010-06-12T23:57:40    2010-06-12T23:59:20    Normal  "
            ]
          },
          "execution_count": 55,
          "metadata": {},
          "output_type": "execute_result"
        }
      ],
      "source": [
        "pp = Preprocessor()\n",
        "\n",
        "pp.shape()\n",
        "# pp.outlier_remover()\n",
        "pp.df.head()\n",
        "# pp.attackNormalVisualize()\n",
        "# pp.tagZeroRemoval()\n",
        "# pp.attackNormalVisualize()"
      ]
    },
    {
      "cell_type": "code",
      "execution_count": null,
      "metadata": {
        "scrolled": false,
        "id": "NPgHouipF00l",
        "outputId": "c8aaa255-9b38-4381-87c9-bcda6215d8ce"
      },
      "outputs": [
        {
          "data": {
            "image/png": "[encoded data removed]",
            "text/plain": [
              "<Figure size 720x360 with 1 Axes>"
            ]
          },
          "metadata": {
            "needs_background": "light"
          },
          "output_type": "display_data"
        }
      ],
      "source": [
        "# pp.outlier_remover()\n",
        "# tag = df['Tag']\n",
        "# pp.tagZeroRemoval()\n",
        "# pp.attackProbability()\n",
        "# pp.fill_NA()\n",
        "# pp.getTagValues()\n",
        "pp.scatter_plot()\n",
        "# pp.dropCertainColumns()\n",
        "# pp.attackNormalVisualize()\n"
      ]
    },
    {
      "cell_type": "code",
      "execution_count": null,
      "metadata": {
        "id": "lecaLoIBF00l",
        "outputId": "9cd783af-b077-4f99-bd93-4f9bd4803278"
      },
      "outputs": [
        {
          "name": "stdout",
          "output_type": "stream",
          "text": [
            "<class 'numpy.int64'>\n",
            "73750\n"
          ]
        },
        {
          "data": {
            "text/plain": [
              "Int64Index([ 73750,  73781,  73814,  73849,  73881,  73915,  73949,  73983,\n",
              "             74018,  74052,\n",
              "            ...\n",
              "            275265, 275292, 275320, 275350, 275380, 275410, 275434, 275460,\n",
              "            275487, 275515],\n",
              "           dtype='int64', length=6239)"
            ]
          },
          "execution_count": 130,
          "metadata": {},
          "output_type": "execute_result"
        }
      ],
      "source": [
        "rem_space(df,' ', '0')"
      ]
    },
    {
      "cell_type": "code",
      "execution_count": null,
      "metadata": {
        "id": "prpxp0vvF00n",
        "outputId": "2f522454-9481-4a5a-b101-29fab9b85555"
      },
      "outputs": [
        {
          "data": {
            "text/plain": [
              "(275528, 20)"
            ]
          },
          "execution_count": 85,
          "metadata": {},
          "output_type": "execute_result"
        }
      ],
      "source": [
        "df.shape"
      ]
    },
    {
      "cell_type": "code",
      "execution_count": null,
      "metadata": {
        "id": "yw1hrTJRF00n"
      },
      "outputs": [],
      "source": []
    },
    {
      "cell_type": "code",
      "execution_count": null,
      "metadata": {
        "id": "kUhBO_SXF00n"
      },
      "outputs": [],
      "source": []
    },
    {
      "cell_type": "markdown",
      "metadata": {
        "id": "4ASve2NgF00n"
      },
      "source": [
        "## TFIDF"
      ]
    },
    {
      "cell_type": "code",
      "execution_count": null,
      "metadata": {
        "id": "IH8jZcIRF00n",
        "outputId": "761401a7-8ea3-4b63-9b9e-f4e5b2c7835f"
      },
      "outputs": [
        {
          "data": {
            "text/plain": [
              "<19x19 sparse matrix of type '<class 'numpy.float64'>'\n",
              "\twith 19 stored elements in Compressed Sparse Row format>"
            ]
          },
          "execution_count": 58,
          "metadata": {},
          "output_type": "execute_result"
        }
      ],
      "source": [
        "from sklearn.feature_extraction.text import TfidfVectorizer\n",
        "df1 = df.drop(columns=['Tag'])\n",
        "# df1 = df1.drop\n",
        "# df1.head()\n",
        "tfidf = TfidfVectorizer()\n",
        "matrix_input = tfidf.fit_transform(df1)\n",
        "matrix_input"
      ]
    },
    {
      "cell_type": "markdown",
      "metadata": {
        "id": "N6tRyDuxF00n"
      },
      "source": [
        "## KMeans Clustering "
      ]
    },
    {
      "cell_type": "code",
      "execution_count": null,
      "metadata": {
        "id": "6eh6GHunF00n",
        "outputId": "51ea21c4-36c1-4cab-daff-e391a165f042"
      },
      "outputs": [
        {
          "data": {
            "text/plain": [
              "array([0, 2, 0, 5, 1, 0, 0, 0, 0, 7, 0, 3, 8, 4, 0, 9, 6, 0, 0])"
            ]
          },
          "execution_count": 61,
          "metadata": {},
          "output_type": "execute_result"
        }
      ],
      "source": [
        "from sklearn.cluster import KMeans\n",
        "km = KMeans(n_clusters = 10)\n",
        "# print(km)\n",
        "km.fit(matrix_input)\n",
        "km.labels_"
      ]
    },
    {
      "cell_type": "code",
      "execution_count": null,
      "metadata": {
        "id": "bMBZmGWaF00o"
      },
      "outputs": [],
      "source": []
    },
    {
      "cell_type": "code",
      "execution_count": null,
      "metadata": {
        "id": "_YCOAkzoF00o"
      },
      "outputs": [],
      "source": [
        "# kmeans = KMeans(n_clusters=5, init ='k-means++', max_iter=300, n_init=10,random_state=0 )\n",
        "# y_kmeans = kmeans.fit_predict(matrix_input)\n",
        "# plt.scatter(matrix_input[y_kmeans==0, 0], matrix_input[y_kmeans==0, 1], s=100, c='red', label ='Cluster 1')\n",
        "# plt.scatter(matrix_input[y_kmeans==1, 0], matrix_input[y_kmeans==1, 1], s=100, c='blue', label ='Cluster 2')\n",
        "# plt.scatter(matrix_input[y_kmeans==2, 0], matrix_input[y_kmeans==2, 1], s=100, c='green', label ='Cluster 3')\n",
        "# plt.scatter(matrix_input[y_kmeans==3, 0], matrix_input[y_kmeans==3, 1], s=100, c='cyan', label ='Cluster 4')\n",
        "# plt.scatter(matrix_input[y_kmeans==4, 0], matrix_input[y_kmeans==4, 1], s=100, c='magenta', label ='Cluster 5')\n",
        "\n",
        "\n",
        "# plt.scatter(kmeans.cluster_centers_[:, 0], kmeans.cluster_centers_[:, 1], s=300, c='yellow', label = 'Centroids')\n",
        "# plt.title('Clusters of Customers')\n",
        "# plt.xlabel('Annual Income(k$)')\n",
        "# plt.ylabel('Spending Score(1-100')\n",
        "# plt.show()"
      ]
    },
    {
      "cell_type": "code",
      "execution_count": null,
      "metadata": {
        "id": "_pcq_quQF00o"
      },
      "outputs": [],
      "source": []
    }
  ],
  "metadata": {
    "kernelspec": {
      "display_name": "Python 3",
      "language": "python",
      "name": "python3"
    },
    "language_info": {
      "codemirror_mode": {
        "name": "ipython",
        "version": 3
      },
      "file_extension": ".py",
      "mimetype": "text/x-python",
      "name": "python",
      "nbconvert_exporter": "python",
      "pygments_lexer": "ipython3",
      "version": "3.8.5"
    },
    "colab": {
      "provenance": [],
      "include_colab_link": true
    }
  },
  "nbformat": 4,
  "nbformat_minor": 0
}