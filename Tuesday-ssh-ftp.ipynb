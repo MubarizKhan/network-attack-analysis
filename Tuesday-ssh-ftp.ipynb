{
 "cells": [
  {
   "cell_type": "code",
   "execution_count": 1,
   "id": "7fc8491d-27a7-4b2a-a636-ad7a14d093fd",
   "metadata": {},
   "outputs": [],
   "source": [
    "# Tuesday-WorkingHours.pcap_ISCX.csv\n",
    "\n",
    "#  Label\n",
    "# BENIGN         432074\n",
    "# FTP-Patator      7938\n",
    "# SSH-Patator      5897"
   ]
  },
  {
   "cell_type": "code",
   "execution_count": 1,
   "id": "6856e6bf-3004-4f84-a194-87b429cb878c",
   "metadata": {},
   "outputs": [],
   "source": [
    "import matplotlib \n",
    "import matplotlib.pyplot as plt\n",
    "%matplotlib inline\n",
    "import numpy as np\n",
    "import pandas as pd\n",
    "import seaborn as snsdfn.to_csv('all_data.csv', encoding='utf-8')\n",
    "from sklearn.model_selection import train_test_split\n",
    "from sklearn.tree import DecisionTreeClassifier\n",
    "from sklearn import metrics"
   ]
  },
  {
   "cell_type": "code",
   "execution_count": 2,
   "id": "b93ff731-2a5e-42c6-80a3-4b90b6366d83",
   "metadata": {},
   "outputs": [
    {
     "name": "stdout",
     "output_type": "stream",
     "text": [
      "<class 'pandas.core.frame.DataFrame'>\n",
      "RangeIndex: 445909 entries, 0 to 445908\n",
      "Data columns (total 79 columns):\n",
      " #   Column                        Non-Null Count   Dtype  \n",
      "---  ------                        --------------   -----  \n",
      " 0    Destination Port             445909 non-null  Int64  \n",
      " 1    Flow Duration                445909 non-null  Int64  \n",
      " 2    Total Fwd Packets            445909 non-null  Int64  \n",
      " 3    Total Backward Packets       445909 non-null  Int64  \n",
      " 4   Total Length of Fwd Packets   445909 non-null  Int64  \n",
      " 5    Total Length of Bwd Packets  445909 non-null  Int64  \n",
      " 6    Fwd Packet Length Max        445909 non-null  Int64  \n",
      " 7    Fwd Packet Length Min        445909 non-null  Int64  \n",
      " 8    Fwd Packet Length Mean       445909 non-null  Float64\n",
      " 9    Fwd Packet Length Std        445909 non-null  Float64\n",
      " 10  Bwd Packet Length Max         445909 non-null  Int64  \n",
      " 11   Bwd Packet Length Min        445909 non-null  Int64  \n",
      " 12   Bwd Packet Length Mean       445909 non-null  Float64\n",
      " 13   Bwd Packet Length Std        445909 non-null  Float64\n",
      " 14  Flow Bytes/s                  445708 non-null  Float64\n",
      " 15   Flow Packets/s               445909 non-null  Float64\n",
      " 16   Flow IAT Mean                445909 non-null  Float64\n",
      " 17   Flow IAT Std                 445909 non-null  Float64\n",
      " 18   Flow IAT Max                 445909 non-null  Int64  \n",
      " 19   Flow IAT Min                 445909 non-null  Int64  \n",
      " 20  Fwd IAT Total                 445909 non-null  Int64  \n",
      " 21   Fwd IAT Mean                 445909 non-null  Float64\n",
      " 22   Fwd IAT Std                  445909 non-null  Float64\n",
      " 23   Fwd IAT Max                  445909 non-null  Int64  \n",
      " 24   Fwd IAT Min                  445909 non-null  Int64  \n",
      " 25  Bwd IAT Total                 445909 non-null  Int64  \n",
      " 26   Bwd IAT Mean                 445909 non-null  Float64\n",
      " 27   Bwd IAT Std                  445909 non-null  Float64\n",
      " 28   Bwd IAT Max                  445909 non-null  Int64  \n",
      " 29   Bwd IAT Min                  445909 non-null  Int64  \n",
      " 30  Fwd PSH Flags                 445909 non-null  Int64  \n",
      " 31   Bwd PSH Flags                445909 non-null  Int64  \n",
      " 32   Fwd URG Flags                445909 non-null  Int64  \n",
      " 33   Bwd URG Flags                445909 non-null  Int64  \n",
      " 34   Fwd Header Length            445909 non-null  Int64  \n",
      " 35   Bwd Header Length            445909 non-null  Int64  \n",
      " 36  Fwd Packets/s                 445909 non-null  Float64\n",
      " 37   Bwd Packets/s                445909 non-null  Float64\n",
      " 38   Min Packet Length            445909 non-null  Int64  \n",
      " 39   Max Packet Length            445909 non-null  Int64  \n",
      " 40   Packet Length Mean           445909 non-null  Float64\n",
      " 41   Packet Length Std            445909 non-null  Float64\n",
      " 42   Packet Length Variance       445909 non-null  Float64\n",
      " 43  FIN Flag Count                445909 non-null  Int64  \n",
      " 44   SYN Flag Count               445909 non-null  Int64  \n",
      " 45   RST Flag Count               445909 non-null  Int64  \n",
      " 46   PSH Flag Count               445909 non-null  Int64  \n",
      " 47   ACK Flag Count               445909 non-null  Int64  \n",
      " 48   URG Flag Count               445909 non-null  Int64  \n",
      " 49   CWE Flag Count               445909 non-null  Int64  \n",
      " 50   ECE Flag Count               445909 non-null  Int64  \n",
      " 51   Down/Up Ratio                445909 non-null  Int64  \n",
      " 52   Average Packet Size          445909 non-null  Float64\n",
      " 53   Avg Fwd Segment Size         445909 non-null  Float64\n",
      " 54   Avg Bwd Segment Size         445909 non-null  Float64\n",
      " 55   Fwd Header Length.1          445909 non-null  Int64  \n",
      " 56  Fwd Avg Bytes/Bulk            445909 non-null  Int64  \n",
      " 57   Fwd Avg Packets/Bulk         445909 non-null  Int64  \n",
      " 58   Fwd Avg Bulk Rate            445909 non-null  Int64  \n",
      " 59   Bwd Avg Bytes/Bulk           445909 non-null  Int64  \n",
      " 60   Bwd Avg Packets/Bulk         445909 non-null  Int64  \n",
      " 61  Bwd Avg Bulk Rate             445909 non-null  Int64  \n",
      " 62  Subflow Fwd Packets           445909 non-null  Int64  \n",
      " 63   Subflow Fwd Bytes            445909 non-null  Int64  \n",
      " 64   Subflow Bwd Packets          445909 non-null  Int64  \n",
      " 65   Subflow Bwd Bytes            445909 non-null  Int64  \n",
      " 66  Init_Win_bytes_forward        445909 non-null  Int64  \n",
      " 67   Init_Win_bytes_backward      445909 non-null  Int64  \n",
      " 68   act_data_pkt_fwd             445909 non-null  Int64  \n",
      " 69   min_seg_size_forward         445909 non-null  Int64  \n",
      " 70  Active Mean                   445909 non-null  Float64\n",
      " 71   Active Std                   445909 non-null  Float64\n",
      " 72   Active Max                   445909 non-null  Int64  \n",
      " 73   Active Min                   445909 non-null  Int64  \n",
      " 74  Idle Mean                     445909 non-null  Float64\n",
      " 75   Idle Std                     445909 non-null  Float64\n",
      " 76   Idle Max                     445909 non-null  Int64  \n",
      " 77   Idle Min                     445909 non-null  Int64  \n",
      " 78   Label                        445909 non-null  string \n",
      "dtypes: Float64(24), Int64(54), string(1)\n",
      "memory usage: 301.9 MB\n",
      "None\n"
     ]
    }
   ],
   "source": [
    "import pandas as pd\n",
    "pd.set_option('display.max_columns', None)\n",
    "df = pd.read_csv('/home/mak/mak/maths/MNAD/datasets/MachineLearningCVE/Tuesday-WorkingHours.pcap_ISCX.csv',encoding='utf-8')\n",
    "df.dtypes\n",
    "# df['Destination-Port'] = df['Destination-Port'].astype(str, errors = 'raise')\n",
    "dfn = df.convert_dtypes()\n",
    "df.head(10)\n",
    "# dfn.dtypes\n",
    "print(dfn.info())"
   ]
  },
  {
   "cell_type": "code",
   "execution_count": 3,
   "id": "966c5809-399c-4376-957a-bc82c4d0e434",
   "metadata": {},
   "outputs": [
    {
     "data": {
      "text/plain": [
       "3405      BENIGN\n",
       "83598     BENIGN\n",
       "394675    BENIGN\n",
       "413434    BENIGN\n",
       "306364    BENIGN\n",
       "252856    BENIGN\n",
       "285648    BENIGN\n",
       "129154    BENIGN\n",
       "132999    BENIGN\n",
       "293785    BENIGN\n",
       "Name:  Label, dtype: string"
      ]
     },
     "execution_count": 3,
     "metadata": {},
     "output_type": "execute_result"
    }
   ],
   "source": [
    "target = dfn[' Label']\n",
    "inputs = dfn\n",
    "target.sample(10)"
   ]
  },
  {
   "cell_type": "code",
   "execution_count": 4,
   "id": "13a00eea-10d6-47cf-84fd-a8e3a40c7fd2",
   "metadata": {},
   "outputs": [
    {
     "data": {
      "text/plain": [
       " Label\n",
       "BENIGN         432074\n",
       "FTP-Patator      7938\n",
       "SSH-Patator      5897\n",
       "Name:  Label, dtype: int64"
      ]
     },
     "execution_count": 4,
     "metadata": {},
     "output_type": "execute_result"
    }
   ],
   "source": [
    "tag = df.groupby(' Label')[' Label'].agg('count')\n",
    "tag"
   ]
  },
  {
   "cell_type": "code",
   "execution_count": 5,
   "id": "3284b3e9-29e6-43b2-a09e-b5af99aa51ec",
   "metadata": {},
   "outputs": [
    {
     "data": {
      "image/png": "[encoded data removed]",
      "text/plain": [
       "<Figure size 432x288 with 1 Axes>"
      ]
     },
     "metadata": {
      "needs_background": "light"
     },
     "output_type": "display_data"
    }
   ],
   "source": [
    "target.value_counts().plot(kind='bar')\n",
    "plt.xticks([0,1,2], ['BENIGN', 'FTP', 'SSH'])\n",
    "plt.xlabel(\"Gender\")\n",
    "plt.ylabel(\"Frequency\")\n",
    "plt.show()"
   ]
  },
  {
   "cell_type": "code",
   "execution_count": 7,
   "id": "c78755e1-7bc6-464c-87f0-ad34ca3cfce1",
   "metadata": {},
   "outputs": [
    {
     "name": "stdout",
     "output_type": "stream",
     "text": [
      "0.04425118129483818\n",
      "(445909, 76)\n",
      "(445909, 76) 627039040.0\n",
      "0 --- 65505.0\n",
      "1 --- 119999976.0\n",
      "2 --- 206446.0\n",
      "3 --- 276072.0\n",
      "4 --- 2428415.0\n",
      "5 --- 627000000.0\n",
      "6 --- 24820.0\n",
      "7 --- 2065.0\n",
      "8 --- 4672.0\n",
      "9 --- 5398.072265625\n",
      "10 --- 13140.0\n",
      "11 --- 2896.0\n",
      "12 --- 3735.73681640625\n",
      "13 --- 4113.240234375\n",
      "14 --- 120000000.0\n",
      "15 --- 84800000.0\n",
      "16 --- 120000000.0\n",
      "17 --- 120000000.0\n",
      "18 --- 120000000.0\n",
      "19 --- 120000000.0\n",
      "20 --- 84400000.0\n",
      "21 --- 120000000.0\n",
      "22 --- 120000000.0\n",
      "23 --- 120000000.0\n",
      "24 --- 120000000.0\n",
      "25 --- 82600000.0\n",
      "26 --- 120000000.0\n",
      "27 --- 120000000.0\n",
      "28 --- 1.0\n",
      "29 --- 0.0\n",
      "30 --- 0.0\n",
      "31 --- 0.0\n",
      "32 --- 4225596.0\n",
      "33 --- 5521440.0\n",
      "34 --- 3000000.0\n",
      "35 --- 2000000.0\n",
      "36 --- 1408.0\n",
      "37 --- 24820.0\n",
      "38 --- 3337.142822265625\n",
      "39 --- 3811.85498046875\n",
      "40 --- 14500000.0\n",
      "41 --- 1.0\n",
      "42 --- 1.0\n",
      "43 --- 1.0\n",
      "44 --- 1.0\n",
      "45 --- 1.0\n",
      "46 --- 1.0\n",
      "47 --- 0.0\n",
      "48 --- 1.0\n",
      "49 --- 35.0\n",
      "50 --- 3893.333251953125\n",
      "51 --- 4672.0\n",
      "52 --- 3735.73681640625\n",
      "53 --- 4225596.0\n",
      "54 --- 0.0\n",
      "55 --- 0.0\n",
      "56 --- 0.0\n",
      "57 --- 0.0\n",
      "58 --- 0.0\n",
      "59 --- 0.0\n",
      "60 --- 206446.0\n",
      "61 --- 2428415.0\n",
      "62 --- 276072.0\n",
      "63 --- 627039040.0\n",
      "64 --- 65535.0\n",
      "65 --- 65535.0\n",
      "66 --- 1846.0\n",
      "67 --- 138.0\n",
      "68 --- 107000000.0\n",
      "69 --- 24100000.0\n",
      "70 --- 107000000.0\n",
      "71 --- 107000000.0\n",
      "72 --- 120000000.0\n",
      "73 --- 75900000.0\n",
      "74 --- 120000000.0\n",
      "75 --- 120000000.0\n"
     ]
    }
   ],
   "source": [
    "from sklearn.preprocessing import LabelEncoder\n",
    "\n",
    "le = LabelEncoder()\n",
    "Y=le.fit_transform(target)\n",
    "\n",
    "print(np.average(Y))\n",
    "X=dfn.iloc[:,:-1]\n",
    "X.astype(np.float32,copy=False)\n",
    "\n",
    "X.drop(X.columns[14], axis=1,inplace=True)\n",
    "X.drop(X.columns[14], axis=1,inplace=True)\n",
    "\n",
    "print(X.shape)\n",
    "X.dropna()\n",
    "print(X.shape,np.max(np.max(X).astype(np.float32)))\n",
    "count = -1\n",
    "for i in np.max(X).astype(np.float32):\n",
    "    count += 1\n",
    "    print(count, '---',i)"
   ]
  },
  {
   "cell_type": "code",
   "execution_count": 6,
   "id": "6b541c52-05c0-4f93-ad1d-a0137161d0b2",
   "metadata": {},
   "outputs": [],
   "source": [
    "dfn.to_csv('all_data.csv', encoding='utf-8')"
   ]
  },
  {
   "cell_type": "code",
   "execution_count": 8,
   "id": "8d503759-f09a-4f4d-9b39-500db457075d",
   "metadata": {},
   "outputs": [
    {
     "name": "stdout",
     "output_type": "stream",
     "text": [
      "(312136, 76) 312136 (133773, 76) 133773\n"
     ]
    },
    {
     "data": {
      "text/plain": [
       "Index([' Destination Port', ' Flow Duration', ' Total Fwd Packets',\n",
       "       ' Total Backward Packets', 'Total Length of Fwd Packets',\n",
       "       ' Total Length of Bwd Packets', ' Fwd Packet Length Max',\n",
       "       ' Fwd Packet Length Min', ' Fwd Packet Length Mean',\n",
       "       ' Fwd Packet Length Std', 'Bwd Packet Length Max',\n",
       "       ' Bwd Packet Length Min', ' Bwd Packet Length Mean',\n",
       "       ' Bwd Packet Length Std', ' Flow IAT Mean', ' Flow IAT Std',\n",
       "       ' Flow IAT Max', ' Flow IAT Min', 'Fwd IAT Total', ' Fwd IAT Mean',\n",
       "       ' Fwd IAT Std', ' Fwd IAT Max', ' Fwd IAT Min', 'Bwd IAT Total',\n",
       "       ' Bwd IAT Mean', ' Bwd IAT Std', ' Bwd IAT Max', ' Bwd IAT Min',\n",
       "       'Fwd PSH Flags', ' Bwd PSH Flags', ' Fwd URG Flags', ' Bwd URG Flags',\n",
       "       ' Fwd Header Length', ' Bwd Header Length', 'Fwd Packets/s',\n",
       "       ' Bwd Packets/s', ' Min Packet Length', ' Max Packet Length',\n",
       "       ' Packet Length Mean', ' Packet Length Std', ' Packet Length Variance',\n",
       "       'FIN Flag Count', ' SYN Flag Count', ' RST Flag Count',\n",
       "       ' PSH Flag Count', ' ACK Flag Count', ' URG Flag Count',\n",
       "       ' CWE Flag Count', ' ECE Flag Count', ' Down/Up Ratio',\n",
       "       ' Average Packet Size', ' Avg Fwd Segment Size',\n",
       "       ' Avg Bwd Segment Size', ' Fwd Header Length.1', 'Fwd Avg Bytes/Bulk',\n",
       "       ' Fwd Avg Packets/Bulk', ' Fwd Avg Bulk Rate', ' Bwd Avg Bytes/Bulk',\n",
       "       ' Bwd Avg Packets/Bulk', 'Bwd Avg Bulk Rate', 'Subflow Fwd Packets',\n",
       "       ' Subflow Fwd Bytes', ' Subflow Bwd Packets', ' Subflow Bwd Bytes',\n",
       "       'Init_Win_bytes_forward', ' Init_Win_bytes_backward',\n",
       "       ' act_data_pkt_fwd', ' min_seg_size_forward', 'Active Mean',\n",
       "       ' Active Std', ' Active Max', ' Active Min', 'Idle Mean', ' Idle Std',\n",
       "       ' Idle Max', ' Idle Min'],\n",
       "      dtype='object')"
      ]
     },
     "execution_count": 8,
     "metadata": {},
     "output_type": "execute_result"
    }
   ],
   "source": [
    "np.random.seed(0)\n",
    "#x_train, x_test, y_train, y_test = train_test_split(label_puts, target, test_size = 0.99, random_state = 42)\n",
    "x_train, x_test, y_train, y_test = train_test_split(X, Y, test_size = 0.30, random_state = 42)\n",
    "print(x_train.shape,len(y_train),x_test.shape,len(y_test))\n",
    "x_train.columns"
   ]
  },
  {
   "cell_type": "code",
   "execution_count": 9,
   "id": "32f3c703-c2c0-4de5-abf5-930cebc90ed7",
   "metadata": {},
   "outputs": [
    {
     "name": "stdout",
     "output_type": "stream",
     "text": [
      "---------------------------Decision Tree CLassifier------------------\n"
     ]
    }
   ],
   "source": [
    "print('---------------------------Decision Tree CLassifier------------------')"
   ]
  },
  {
   "cell_type": "code",
   "execution_count": 10,
   "id": "af82a98c-0926-46f0-a714-e49576989dc3",
   "metadata": {},
   "outputs": [
    {
     "name": "stdout",
     "output_type": "stream",
     "text": [
      "(312136, 76) (312136,)\n"
     ]
    }
   ],
   "source": [
    "from sklearn.tree import DecisionTreeClassifier\n",
    "from sklearn.linear_model import LogisticRegression\n",
    "\n",
    "#print(x_train.shape,np.max(np.max(x_train)))\n",
    "#x_train.dropna(with_inf=True)\n",
    "print(x_train.shape, y_train.shape)\n",
    "dtc = DecisionTreeClassifier(max_depth = 35)\n",
    "dtc = dtc.fit(x_train,y_train)"
   ]
  },
  {
   "cell_type": "code",
   "execution_count": 11,
   "id": "44bd8293-8742-42fb-ad78-e2a6079f399f",
   "metadata": {},
   "outputs": [
    {
     "data": {
      "text/plain": [
       "array([0, 0, 0, ..., 0, 0, 0])"
      ]
     },
     "execution_count": 11,
     "metadata": {},
     "output_type": "execute_result"
    }
   ],
   "source": [
    "y_pred = dtc.predict(x_test)\n",
    "y_pred"
   ]
  },
  {
   "cell_type": "code",
   "execution_count": 12,
   "id": "d5693150-184f-489d-ba16-528980cd3627",
   "metadata": {},
   "outputs": [
    {
     "name": "stdout",
     "output_type": "stream",
     "text": [
      "34\n",
      "34\n"
     ]
    }
   ],
   "source": [
    "train_accuracy = []\n",
    "validation_accuracy = []\n",
    "for depth in range(1,35):\n",
    "    dt_model = DecisionTreeClassifier(max_depth=depth, random_state=10)\n",
    "    dt_model.fit(x_train, y_train)\n",
    "    train_accuracy.append(dt_model.score(x_train, y_train))\n",
    "    validation_accuracy.append(dt_model.score(x_test, y_test))\n",
    "print(len(train_accuracy))\n",
    "print(len(validation_accuracy))\n",
    "frame = pd.DataFrame({'max_depth':range(1,35), 'train_acc':train_accuracy, 'valid_acc':validation_accuracy})"
   ]
  },
  {
   "cell_type": "code",
   "execution_count": 13,
   "id": "5d5fd15a-e9e7-4e51-81bd-5999427f6aec",
   "metadata": {},
   "outputs": [
    {
     "name": "stderr",
     "output_type": "stream",
     "text": [
      "No handles with labels found to put in legend.\n"
     ]
    },
    {
     "data": {
      "text/plain": [
       "<matplotlib.legend.Legend at 0x7f7169da4a00>"
      ]
     },
     "execution_count": 13,
     "metadata": {},
     "output_type": "execute_result"
    },
    {
     "data": {
      "image/png": "[encoded data removed]",
      "text/plain": [
       "<Figure size 864x432 with 1 Axes>"
      ]
     },
     "metadata": {
      "needs_background": "light"
     },
     "output_type": "display_data"
    }
   ],
   "source": [
    "plt.figure(figsize=(12,6))\n",
    "plt.plot(frame['max_depth'], frame['train_acc'], marker='o')\n",
    "plt.plot(frame['max_depth'], frame['valid_acc'], marker='o')\n",
    "plt.xlabel('Depth of the tree')\n",
    "plt.ylabel('performance')\n",
    "plt.legend()"
   ]
  },
  {
   "cell_type": "code",
   "execution_count": 14,
   "id": "a2ad9a58-e27c-444f-97c4-383a29c5daac",
   "metadata": {},
   "outputs": [
    {
     "name": "stdout",
     "output_type": "stream",
     "text": [
      "0.9999476725497671\n",
      "0.9999476725497671\n",
      "0.9994077222395438\n"
     ]
    },
    {
     "name": "stderr",
     "output_type": "stream",
     "text": [
      "/home/mak/miniconda3/envs/stat-env/lib/python3.9/site-packages/sklearn/metrics/_classification.py:1298: UserWarning: Note that pos_label (set to 'positive') is ignored when average != 'binary' (got 'macro'). You may use labels=[pos_label] to specify a single positive class.\n",
      "  warnings.warn(\"Note that pos_label (set to %r) is ignored when \"\n"
     ]
    }
   ],
   "source": [
    "from sklearn.metrics import accuracy_score,f1_score\n",
    "print(dtc.score(x_test, y_test))\n",
    "print(accuracy_score(y_test, y_pred))\n",
    "print(f1_score(y_test, y_pred, pos_label='positive', average='macro'))"
   ]
  },
  {
   "cell_type": "code",
   "execution_count": 15,
   "id": "ad94f9e7-deca-4fa3-9c58-92a45463631d",
   "metadata": {},
   "outputs": [
    {
     "data": {
      "text/plain": [
       "[(0.5946952603052997, ' Destination Port'),\n",
       " (0.33949847542201333, ' Init_Win_bytes_backward'),\n",
       " (0.04682379144213778, ' Fwd Packet Length Mean'),\n",
       " (0.015311547299837438, 'Total Length of Fwd Packets'),\n",
       " (0.0015850246025350128, ' Fwd IAT Min'),\n",
       " (0.0007192763402126072, ' Bwd IAT Max'),\n",
       " (0.00048166151131468654, ' min_seg_size_forward'),\n",
       " (0.0002927458619196024, ' Flow IAT Min'),\n",
       " (0.00025406321475939506, ' Packet Length Variance'),\n",
       " (0.00012703160737969756, ' Total Fwd Packets'),\n",
       " (0.00010244484466104634, ' Fwd IAT Std'),\n",
       " (9.935015664524405e-05, ' Flow IAT Mean'),\n",
       " (9.327391284341693e-06, ' Flow Duration'),\n",
       " (0.0, 'Subflow Fwd Packets'),\n",
       " (0.0, 'Init_Win_bytes_forward'),\n",
       " (0.0, 'Idle Mean'),\n",
       " (0.0, 'Fwd Packets/s'),\n",
       " (0.0, 'Fwd PSH Flags'),\n",
       " (0.0, 'Fwd IAT Total'),\n",
       " (0.0, 'Fwd Avg Bytes/Bulk'),\n",
       " (0.0, 'FIN Flag Count'),\n",
       " (0.0, 'Bwd Packet Length Max'),\n",
       " (0.0, 'Bwd IAT Total'),\n",
       " (0.0, 'Bwd Avg Bulk Rate'),\n",
       " (0.0, 'Active Mean'),\n",
       " (0.0, ' act_data_pkt_fwd'),\n",
       " (0.0, ' URG Flag Count'),\n",
       " (0.0, ' Total Length of Bwd Packets'),\n",
       " (0.0, ' Total Backward Packets'),\n",
       " (0.0, ' Subflow Fwd Bytes'),\n",
       " (0.0, ' Subflow Bwd Packets'),\n",
       " (0.0, ' Subflow Bwd Bytes'),\n",
       " (0.0, ' SYN Flag Count'),\n",
       " (0.0, ' RST Flag Count'),\n",
       " (0.0, ' Packet Length Std'),\n",
       " (0.0, ' Packet Length Mean'),\n",
       " (0.0, ' PSH Flag Count'),\n",
       " (0.0, ' Min Packet Length'),\n",
       " (0.0, ' Max Packet Length'),\n",
       " (0.0, ' Idle Std'),\n",
       " (0.0, ' Idle Min'),\n",
       " (0.0, ' Idle Max'),\n",
       " (0.0, ' Fwd URG Flags'),\n",
       " (0.0, ' Fwd Packet Length Std'),\n",
       " (0.0, ' Fwd Packet Length Min'),\n",
       " (0.0, ' Fwd Packet Length Max'),\n",
       " (0.0, ' Fwd IAT Mean'),\n",
       " (0.0, ' Fwd IAT Max'),\n",
       " (0.0, ' Fwd Header Length.1'),\n",
       " (0.0, ' Fwd Header Length'),\n",
       " (0.0, ' Fwd Avg Packets/Bulk'),\n",
       " (0.0, ' Fwd Avg Bulk Rate'),\n",
       " (0.0, ' Flow IAT Std'),\n",
       " (0.0, ' Flow IAT Max'),\n",
       " (0.0, ' ECE Flag Count'),\n",
       " (0.0, ' Down/Up Ratio'),\n",
       " (0.0, ' CWE Flag Count'),\n",
       " (0.0, ' Bwd URG Flags'),\n",
       " (0.0, ' Bwd Packets/s'),\n",
       " (0.0, ' Bwd Packet Length Std'),\n",
       " (0.0, ' Bwd Packet Length Min'),\n",
       " (0.0, ' Bwd Packet Length Mean'),\n",
       " (0.0, ' Bwd PSH Flags'),\n",
       " (0.0, ' Bwd IAT Std'),\n",
       " (0.0, ' Bwd IAT Min'),\n",
       " (0.0, ' Bwd IAT Mean'),\n",
       " (0.0, ' Bwd Header Length'),\n",
       " (0.0, ' Bwd Avg Packets/Bulk'),\n",
       " (0.0, ' Bwd Avg Bytes/Bulk'),\n",
       " (0.0, ' Avg Fwd Segment Size'),\n",
       " (0.0, ' Avg Bwd Segment Size'),\n",
       " (0.0, ' Average Packet Size'),\n",
       " (0.0, ' Active Std'),\n",
       " (0.0, ' Active Min'),\n",
       " (0.0, ' Active Max'),\n",
       " (0.0, ' ACK Flag Count')]"
      ]
     },
     "execution_count": 15,
     "metadata": {},
     "output_type": "execute_result"
    }
   ],
   "source": [
    "attributes = list(x_train)\n",
    "sorted(zip(dtc.feature_importances_, attributes), reverse=True)"
   ]
  },
  {
   "cell_type": "code",
   "execution_count": 16,
   "id": "66b5203a-efd0-41ec-a1ac-1c996751b008",
   "metadata": {},
   "outputs": [
    {
     "name": "stdout",
     "output_type": "stream",
     "text": [
      "0.9999476725497671\n",
      "0.9999476725497671\n",
      "0.9994077222395438\n"
     ]
    },
    {
     "name": "stderr",
     "output_type": "stream",
     "text": [
      "/home/mak/miniconda3/envs/stat-env/lib/python3.9/site-packages/sklearn/metrics/_classification.py:1298: UserWarning: Note that pos_label (set to 'positive') is ignored when average != 'binary' (got 'macro'). You may use labels=[pos_label] to specify a single positive class.\n",
      "  warnings.warn(\"Note that pos_label (set to %r) is ignored when \"\n"
     ]
    }
   ],
   "source": [
    "from sklearn.metrics import accuracy_score,f1_score\n",
    "print(dtc.score(x_test, y_test))\n",
    "print(accuracy_score(y_test, y_pred))\n",
    "print(f1_score(y_test, y_pred, pos_label='positive', average='macro'))"
   ]
  },
  {
   "cell_type": "code",
   "execution_count": 17,
   "id": "c68a25f7-63ce-4ac5-99d9-620c0050221e",
   "metadata": {},
   "outputs": [
    {
     "name": "stdout",
     "output_type": "stream",
     "text": [
      "----------------Random Forest Regressor--------\n"
     ]
    }
   ],
   "source": [
    "print('----------------Random Forest Regressor--------')"
   ]
  },
  {
   "cell_type": "code",
   "execution_count": 18,
   "id": "eb821908-820d-43cb-ac4e-b84650e5a039",
   "metadata": {},
   "outputs": [
    {
     "data": {
      "text/plain": [
       "[(0.7053599493679655, ' Destination Port'),\n",
       " (0.2648604279693536, ' Init_Win_bytes_backward'),\n",
       " (0.015687292238649737, ' Avg Fwd Segment Size'),\n",
       " (0.00397666307028918, ' Packet Length Std'),\n",
       " (0.003660814921140721, ' Fwd Packet Length Mean'),\n",
       " (0.001330645614872337, ' Subflow Fwd Bytes'),\n",
       " (0.001321344847025309, ' Bwd IAT Min'),\n",
       " (0.0012995041476621225, 'Total Length of Fwd Packets'),\n",
       " (0.0008018617795170623, ' Fwd IAT Min'),\n",
       " (0.00039792711844476405, ' Flow IAT Min'),\n",
       " (0.00023860192518091911, ' Fwd Packet Length Std'),\n",
       " (0.00015332693829080122, 'Bwd IAT Total'),\n",
       " (0.00014974138796884892, 'Fwd IAT Total'),\n",
       " (0.00012557259335638677, ' Fwd IAT Mean'),\n",
       " (9.975780362592652e-05, 'Fwd Packets/s'),\n",
       " (7.484510033938903e-05, ' Flow IAT Mean'),\n",
       " (7.378429004248195e-05, ' Packet Length Mean'),\n",
       " (6.807364035125222e-05, ' Fwd IAT Std'),\n",
       " (4.630659318903683e-05, ' min_seg_size_forward'),\n",
       " (4.173315429083319e-05, ' Bwd Packets/s'),\n",
       " (3.562696101297514e-05, ' Bwd IAT Std'),\n",
       " (3.541968761500051e-05, 'Subflow Fwd Packets'),\n",
       " (3.0194467822289014e-05, ' Flow Duration'),\n",
       " (2.7170294378568874e-05, ' Bwd IAT Max'),\n",
       " (2.539972196906159e-05, ' Subflow Bwd Packets'),\n",
       " (1.8550496745829834e-05, ' Bwd Header Length'),\n",
       " (1.7378757136726337e-05, ' Flow IAT Max'),\n",
       " (1.3409671838388422e-05, ' Fwd Header Length.1'),\n",
       " (1.241334194636987e-05, ' Down/Up Ratio'),\n",
       " (8.14625565230523e-06, ' Flow IAT Std'),\n",
       " (8.115842326300565e-06, ' Packet Length Variance'),\n",
       " (0.0, 'Init_Win_bytes_forward'),\n",
       " (0.0, 'Idle Mean'),\n",
       " (0.0, 'Fwd PSH Flags'),\n",
       " (0.0, 'Fwd Avg Bytes/Bulk'),\n",
       " (0.0, 'FIN Flag Count'),\n",
       " (0.0, 'Bwd Packet Length Max'),\n",
       " (0.0, 'Bwd Avg Bulk Rate'),\n",
       " (0.0, 'Active Mean'),\n",
       " (0.0, ' act_data_pkt_fwd'),\n",
       " (0.0, ' URG Flag Count'),\n",
       " (0.0, ' Total Length of Bwd Packets'),\n",
       " (0.0, ' Total Fwd Packets'),\n",
       " (0.0, ' Total Backward Packets'),\n",
       " (0.0, ' Subflow Bwd Bytes'),\n",
       " (0.0, ' SYN Flag Count'),\n",
       " (0.0, ' RST Flag Count'),\n",
       " (0.0, ' PSH Flag Count'),\n",
       " (0.0, ' Min Packet Length'),\n",
       " (0.0, ' Max Packet Length'),\n",
       " (0.0, ' Idle Std'),\n",
       " (0.0, ' Idle Min'),\n",
       " (0.0, ' Idle Max'),\n",
       " (0.0, ' Fwd URG Flags'),\n",
       " (0.0, ' Fwd Packet Length Min'),\n",
       " (0.0, ' Fwd Packet Length Max'),\n",
       " (0.0, ' Fwd IAT Max'),\n",
       " (0.0, ' Fwd Header Length'),\n",
       " (0.0, ' Fwd Avg Packets/Bulk'),\n",
       " (0.0, ' Fwd Avg Bulk Rate'),\n",
       " (0.0, ' ECE Flag Count'),\n",
       " (0.0, ' CWE Flag Count'),\n",
       " (0.0, ' Bwd URG Flags'),\n",
       " (0.0, ' Bwd Packet Length Std'),\n",
       " (0.0, ' Bwd Packet Length Min'),\n",
       " (0.0, ' Bwd Packet Length Mean'),\n",
       " (0.0, ' Bwd PSH Flags'),\n",
       " (0.0, ' Bwd IAT Mean'),\n",
       " (0.0, ' Bwd Avg Packets/Bulk'),\n",
       " (0.0, ' Bwd Avg Bytes/Bulk'),\n",
       " (0.0, ' Avg Bwd Segment Size'),\n",
       " (0.0, ' Average Packet Size'),\n",
       " (0.0, ' Active Std'),\n",
       " (0.0, ' Active Min'),\n",
       " (0.0, ' Active Max'),\n",
       " (0.0, ' ACK Flag Count')]"
      ]
     },
     "execution_count": 18,
     "metadata": {},
     "output_type": "execute_result"
    }
   ],
   "source": [
    "from sklearn.ensemble import RandomForestRegressor\n",
    "from sklearn.datasets import make_regression\n",
    "# Fitting Random Forest Regression to the dataset\n",
    "# import the regressor\n",
    "from sklearn.ensemble import RandomForestRegressor\n",
    " # create regressor object\n",
    "regressor = RandomForestRegressor(n_estimators = 5, random_state = 0)\n",
    "# fit the regressor with x and y data\n",
    "regressor.fit(x_train, y_train)  \n",
    "attributes = list(x_train)\n",
    "sorted(zip(regressor.feature_importances_, attributes), reverse=True)"
   ]
  },
  {
   "cell_type": "code",
   "execution_count": 19,
   "id": "c26964eb-9c9a-44d3-97ca-14211af35ed8",
   "metadata": {},
   "outputs": [
    {
     "name": "stdout",
     "output_type": "stream",
     "text": [
      "0.9988220175258525\n",
      "0.9999476725497671\n",
      "0.9994077222395438\n"
     ]
    },
    {
     "name": "stderr",
     "output_type": "stream",
     "text": [
      "/home/mak/miniconda3/envs/stat-env/lib/python3.9/site-packages/sklearn/metrics/_classification.py:1298: UserWarning: Note that pos_label (set to 'positive') is ignored when average != 'binary' (got 'macro'). You may use labels=[pos_label] to specify a single positive class.\n",
      "  warnings.warn(\"Note that pos_label (set to %r) is ignored when \"\n"
     ]
    }
   ],
   "source": [
    "print(regressor.score(x_test, y_test))\n",
    "print(accuracy_score(y_test, y_pred))\n",
    "print(f1_score(y_test, y_pred, pos_label='positive', average='macro'))"
   ]
  },
  {
   "cell_type": "code",
   "execution_count": null,
   "id": "068a1e7a-af7c-4e61-aedc-d4715e709cf6",
   "metadata": {},
   "outputs": [],
   "source": []
  }
 ],
 "metadata": {
  "kernelspec": {
   "display_name": "Python 3 (ipykernel)",
   "language": "python",
   "name": "python3"
  },
  "language_info": {
   "codemirror_mode": {
    "name": "ipython",
    "version": 3
   },
   "file_extension": ".py",
   "mimetype": "text/x-python",
   "name": "python",
   "nbconvert_exporter": "python",
   "pygments_lexer": "ipython3",
   "version": "3.9.6"
  }
 },
 "nbformat": 4,
 "nbformat_minor": 5
}
