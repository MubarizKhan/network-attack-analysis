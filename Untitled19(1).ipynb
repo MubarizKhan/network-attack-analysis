{
  "nbformat": 4,
  "nbformat_minor": 0,
  "metadata": {
    "colab": {
      "name": "Untitled19.ipynb",
      "provenance": [],
      "collapsed_sections": []
    },
    "kernelspec": {
      "name": "python3",
      "display_name": "Python 3"
    },
    "language_info": {
      "name": "python"
    }
  },
  "cells": [
    {
      "cell_type": "code",
      "metadata": {
        "id": "uzk5Cwsyibdu",
        "colab": {
          "base_uri": "https://localhost:8080/"
        },
        "outputId": "430ff2a3-6ef9-4f96-9896-779882b3e8b5"
      },
      "source": [
        "from google.colab import drive\n",
        "drive.mount('/content/drive')"
      ],
      "execution_count": null,
      "outputs": [
        {
          "output_type": "stream",
          "name": "stdout",
          "text": [
            "Drive already mounted at /content/drive; to attempt to forcibly remount, call drive.mount(\"/content/drive\", force_remount=True).\n"
          ]
        }
      ]
    },
    {
      "cell_type": "code",
      "metadata": {
        "id": "0zC_3MM_jdgG"
      },
      "source": [
        "import matplotlib \n",
        "import matplotlib.pyplot as plt\n",
        "%matplotlib inline\n",
        "import numpy as np\n",
        "import pandas as pd\n",
        "import seaborn as sns\n",
        "from sklearn.model_selection import train_test_split\n",
        "from sklearn.tree import DecisionTreeClassifier\n",
        "from sklearn import metrics\n",
        "\n"
      ],
      "execution_count": null,
      "outputs": []
    },
    {
      "cell_type": "code",
      "metadata": {
        "colab": {
          "base_uri": "https://localhost:8080/"
        },
        "id": "sBJ0FPA6jZZo",
        "outputId": "29b8a734-e8d1-4cdc-bd2b-62ea9d080726"
      },
      "source": [
        "!pip install dask\n",
        "!python -m pip install 'fsspec>=0.3.3'\n",
        "import dask.dataframe as dd"
      ],
      "execution_count": null,
      "outputs": [
        {
          "output_type": "stream",
          "name": "stdout",
          "text": [
            "Requirement already satisfied: dask in /usr/local/lib/python3.7/dist-packages (2.12.0)\n",
            "Requirement already satisfied: fsspec>=0.3.3 in /usr/local/lib/python3.7/dist-packages (2021.8.1)\n"
          ]
        }
      ]
    },
    {
      "cell_type": "code",
      "metadata": {
        "id": "gkUmoOa_ih3B"
      },
      "source": [
        "import pandas as pd\n",
        "%time df = pd.read_csv('/content/drive/MyDrive/MNAD-FYP/MachineLearningCVE/Dataset-Analysis/all_data.csv', encoding='utf-8')"
      ],
      "execution_count": null,
      "outputs": []
    },
    {
      "cell_type": "code",
      "metadata": {
        "id": "cGPLLEKXj0Z-"
      },
      "source": [
        "%time df = dd.read_csv(\"/content/drive/MyDrive/MNAD-FYP/MachineLearningCVE/Dataset-Analysis/all_data.csv\")"
      ],
      "execution_count": null,
      "outputs": []
    },
    {
      "cell_type": "code",
      "metadata": {
        "id": "YEqDvnx6j3nb",
        "colab": {
          "base_uri": "https://localhost:8080/"
        },
        "outputId": "3b2e341a-8945-46e1-cf17-9a842998adf8"
      },
      "source": [
        "df.shape"
      ],
      "execution_count": null,
      "outputs": [
        {
          "output_type": "execute_result",
          "data": {
            "text/plain": [
              "(2830743, 80)"
            ]
          },
          "metadata": {},
          "execution_count": 4
        }
      ]
    },
    {
      "cell_type": "code",
      "metadata": {
        "id": "gwKQL2uWkMS9"
      },
      "source": [
        "# from sklearn.feature_selection import RFE\n",
        "# from sklearn.linear_model import LogisticRegression\n",
        "# model = LogisticRegression()\n",
        "# rfe = RFE(model, 4)\n",
        "# fit = rfe.fit(X, Y)\n",
        "# print(\"Number of Features: %d\")\n",
        "# print(\"Selected Features: %s\")\n",
        "# print(\"Feature Ranking: %s\")"
      ],
      "execution_count": null,
      "outputs": []
    },
    {
      "cell_type": "code",
      "metadata": {
        "id": "X8HjTdD8kMIL"
      },
      "source": [
        "# from sklearn.decomposition import PCA\n",
        "# pca = PCA(n_components=40)\n",
        "# fit = pca.fit(X)\n",
        "# print(\"Explained Variance: %s\") % fit.explained_variance_ratio_\n",
        "# print(fit.components_)\n"
      ],
      "execution_count": null,
      "outputs": []
    },
    {
      "cell_type": "code",
      "metadata": {
        "id": "t0oS0mpikMEH"
      },
      "source": [
        "# print('---------------------------Random Forest CLassifier------------------')\n",
        "# from sklearn.ensemble import RandomForestClassifier\n",
        "# model = RandomForestClassifier(n_estimators =15)\n",
        "# model = model.fit(x_train, y_train)\n",
        "# rfy_pred = model.predict(x_test)\n",
        "# acc = metrics.accuracy_score(y_test, y_pred)\n",
        "# print(model.score(x_test,y_test))"
      ],
      "execution_count": null,
      "outputs": []
    },
    {
      "cell_type": "code",
      "metadata": {
        "id": "6rxBlIwo1us-"
      },
      "source": [
        "# attributes = list(x_train)\n",
        "# sorted(zip(model.feature_importances_, attributes), reverse=True)"
      ],
      "execution_count": null,
      "outputs": []
    },
    {
      "cell_type": "code",
      "metadata": {
        "id": "H_Pi8SHn13KP"
      },
      "source": [
        "!pip install h5py"
      ],
      "execution_count": null,
      "outputs": []
    },
    {
      "cell_type": "code",
      "metadata": {
        "id": "S1GnF2c03WLf"
      },
      "source": [
        "# Save to HDF5\n",
        "df.to_hdf(filename, 'data', mode='w', format='table')\n",
        "del df"
      ],
      "execution_count": null,
      "outputs": []
    },
    {
      "cell_type": "code",
      "metadata": {
        "id": "560dEmBbaKYw"
      },
      "source": [
        "filename = '/content/drive/MyDrive/MNAD-FYP/MachineLearningCVE/Dataset-Analysis/test_data.h5'"
      ],
      "execution_count": null,
      "outputs": []
    },
    {
      "cell_type": "code",
      "metadata": {
        "id": "xo51jbwr4O24"
      },
      "source": [
        "\n",
        "# print(pd.read_hdf(filename, 'data'))\n",
        "%time df = dd.read_hdf(filename, 'data')"
      ],
      "execution_count": null,
      "outputs": []
    },
    {
      "cell_type": "code",
      "metadata": {
        "id": "ORa3dJhOkqaJ",
        "colab": {
          "base_uri": "https://localhost:8080/"
        },
        "outputId": "be023b1d-95f1-4e93-c540-b9cfbc27c4ba"
      },
      "source": [
        "%time df = pd.read_hdf(filename, 'data')"
      ],
      "execution_count": null,
      "outputs": [
        {
          "output_type": "stream",
          "name": "stdout",
          "text": [
            "CPU times: user 6.15 s, sys: 2.15 s, total: 8.3 s\n",
            "Wall time: 54.9 s\n"
          ]
        }
      ]
    },
    {
      "cell_type": "code",
      "metadata": {
        "id": "WSLA9J7640G9",
        "colab": {
          "base_uri": "https://localhost:8080/",
          "height": 1000
        },
        "outputId": "b40eaa0a-cd38-4ec3-a5b6-dd2e1cd233b4"
      },
      "source": [
        "# # df.head(10)\n",
        "# df.shape\n",
        "df.info()\n",
        "df.columns[0]"
      ],
      "execution_count": null,
      "outputs": [
        {
          "output_type": "stream",
          "name": "stdout",
          "text": [
            "<class 'pandas.core.frame.DataFrame'>\n",
            "Int64Index: 2830743 entries, 0 to 2830742\n",
            "Data columns (total 79 columns):\n",
            " #   Column                        Dtype  \n",
            "---  ------                        -----  \n",
            " 0    Destination Port             int64  \n",
            " 1    Flow Duration                int64  \n",
            " 2    Total Fwd Packets            int64  \n",
            " 3    Total Backward Packets       int64  \n",
            " 4   Total Length of Fwd Packets   int64  \n",
            " 5    Total Length of Bwd Packets  int64  \n",
            " 6    Fwd Packet Length Max        int64  \n",
            " 7    Fwd Packet Length Min        int64  \n",
            " 8    Fwd Packet Length Mean       float64\n",
            " 9    Fwd Packet Length Std        float64\n",
            " 10  Bwd Packet Length Max         int64  \n",
            " 11   Bwd Packet Length Min        int64  \n",
            " 12   Bwd Packet Length Mean       float64\n",
            " 13   Bwd Packet Length Std        float64\n",
            " 14  Flow Bytes/s                  float64\n",
            " 15   Flow Packets/s               float64\n",
            " 16   Flow IAT Mean                float64\n",
            " 17   Flow IAT Std                 float64\n",
            " 18   Flow IAT Max                 int64  \n",
            " 19   Flow IAT Min                 int64  \n",
            " 20  Fwd IAT Total                 int64  \n",
            " 21   Fwd IAT Mean                 float64\n",
            " 22   Fwd IAT Std                  float64\n",
            " 23   Fwd IAT Max                  int64  \n",
            " 24   Fwd IAT Min                  int64  \n",
            " 25  Bwd IAT Total                 int64  \n",
            " 26   Bwd IAT Mean                 float64\n",
            " 27   Bwd IAT Std                  float64\n",
            " 28   Bwd IAT Max                  int64  \n",
            " 29   Bwd IAT Min                  int64  \n",
            " 30  Fwd PSH Flags                 int64  \n",
            " 31   Bwd PSH Flags                int64  \n",
            " 32   Fwd URG Flags                int64  \n",
            " 33   Bwd URG Flags                int64  \n",
            " 34   Fwd Header Length            int64  \n",
            " 35   Bwd Header Length            int64  \n",
            " 36  Fwd Packets/s                 float64\n",
            " 37   Bwd Packets/s                float64\n",
            " 38   Min Packet Length            int64  \n",
            " 39   Max Packet Length            int64  \n",
            " 40   Packet Length Mean           float64\n",
            " 41   Packet Length Std            float64\n",
            " 42   Packet Length Variance       float64\n",
            " 43  FIN Flag Count                int64  \n",
            " 44   SYN Flag Count               int64  \n",
            " 45   RST Flag Count               int64  \n",
            " 46   PSH Flag Count               int64  \n",
            " 47   ACK Flag Count               int64  \n",
            " 48   URG Flag Count               int64  \n",
            " 49   CWE Flag Count               int64  \n",
            " 50   ECE Flag Count               int64  \n",
            " 51   Down/Up Ratio                int64  \n",
            " 52   Average Packet Size          float64\n",
            " 53   Avg Fwd Segment Size         float64\n",
            " 54   Avg Bwd Segment Size         float64\n",
            " 55   Fwd Header Length.1          int64  \n",
            " 56  Fwd Avg Bytes/Bulk            int64  \n",
            " 57   Fwd Avg Packets/Bulk         int64  \n",
            " 58   Fwd Avg Bulk Rate            int64  \n",
            " 59   Bwd Avg Bytes/Bulk           int64  \n",
            " 60   Bwd Avg Packets/Bulk         int64  \n",
            " 61  Bwd Avg Bulk Rate             int64  \n",
            " 62  Subflow Fwd Packets           int64  \n",
            " 63   Subflow Fwd Bytes            int64  \n",
            " 64   Subflow Bwd Packets          int64  \n",
            " 65   Subflow Bwd Bytes            int64  \n",
            " 66  Init_Win_bytes_forward        int64  \n",
            " 67   Init_Win_bytes_backward      int64  \n",
            " 68   act_data_pkt_fwd             int64  \n",
            " 69   min_seg_size_forward         int64  \n",
            " 70  Active Mean                   float64\n",
            " 71   Active Std                   float64\n",
            " 72   Active Max                   int64  \n",
            " 73   Active Min                   int64  \n",
            " 74  Idle Mean                     float64\n",
            " 75   Idle Std                     float64\n",
            " 76   Idle Max                     int64  \n",
            " 77   Idle Min                     int64  \n",
            " 78   Label                        object \n",
            "dtypes: float64(24), int64(54), object(1)\n",
            "memory usage: 1.7+ GB\n"
          ]
        },
        {
          "output_type": "execute_result",
          "data": {
            "application/vnd.google.colaboratory.intrinsic+json": {
              "type": "string"
            },
            "text/plain": [
              "' Destination Port'"
            ]
          },
          "metadata": {},
          "execution_count": 5
        }
      ]
    },
    {
      "cell_type": "code",
      "metadata": {
        "colab": {
          "base_uri": "https://localhost:8080/"
        },
        "id": "IKK-bngDzmmS",
        "outputId": "ce4125b3-3aab-4f90-d640-d718cd13563a"
      },
      "source": [
        "df.shape"
      ],
      "execution_count": null,
      "outputs": [
        {
          "output_type": "execute_result",
          "data": {
            "text/plain": [
              "(2830743, 79)"
            ]
          },
          "metadata": {},
          "execution_count": 108
        }
      ]
    },
    {
      "cell_type": "code",
      "metadata": {
        "id": "eSeORXGD7Ze0"
      },
      "source": [
        ""
      ],
      "execution_count": null,
      "outputs": []
    },
    {
      "cell_type": "code",
      "metadata": {
        "id": "51Vz1v1SoVhl"
      },
      "source": [
        "df.replace([np.inf, -np.inf], np.nan, inplace=True)\n",
        "  \n",
        "# Dropping all the rows with nan values\n",
        "df.dropna(inplace=True)"
      ],
      "execution_count": null,
      "outputs": []
    },
    {
      "cell_type": "code",
      "metadata": {
        "id": "Jr37mMDfxYB9"
      },
      "source": [
        "ll = []\n",
        "for i in df.columns:\n",
        "  ll.append(i)\n"
      ],
      "execution_count": null,
      "outputs": []
    },
    {
      "cell_type": "code",
      "metadata": {
        "colab": {
          "base_uri": "https://localhost:8080/"
        },
        "id": "xw1AUArFxnh4",
        "outputId": "d6360886-53b7-4480-d78c-fd5f3d8e267e"
      },
      "source": [
        "ll\n",
        "# print(len(ll))"
      ],
      "execution_count": null,
      "outputs": [
        {
          "output_type": "execute_result",
          "data": {
            "text/plain": [
              "[' Destination Port',\n",
              " ' Flow Duration',\n",
              " ' Total Fwd Packets',\n",
              " ' Total Backward Packets',\n",
              " 'Total Length of Fwd Packets',\n",
              " ' Fwd Packet Length Max',\n",
              " ' Fwd Packet Length Min',\n",
              " ' Fwd Packet Length Mean',\n",
              " ' Fwd Packet Length Std',\n",
              " 'Bwd Packet Length Max',\n",
              " ' Bwd Packet Length Min',\n",
              " ' Bwd Packet Length Mean',\n",
              " ' Bwd Packet Length Std',\n",
              " 'Flow Bytes/s',\n",
              " ' Flow Packets/s',\n",
              " ' Flow IAT Mean',\n",
              " ' Flow IAT Std',\n",
              " ' Flow IAT Max',\n",
              " ' Flow IAT Min',\n",
              " 'Fwd IAT Total',\n",
              " ' Fwd IAT Mean',\n",
              " ' Fwd IAT Std',\n",
              " ' Fwd IAT Max',\n",
              " ' Fwd IAT Min',\n",
              " 'Bwd IAT Total',\n",
              " ' Bwd IAT Max',\n",
              " 'Fwd PSH Flags',\n",
              " ' Fwd Header Length',\n",
              " ' Bwd Header Length',\n",
              " 'Fwd Packets/s',\n",
              " ' Min Packet Length',\n",
              " ' Max Packet Length',\n",
              " ' Packet Length Mean',\n",
              " ' Packet Length Std',\n",
              " ' Packet Length Variance',\n",
              " 'FIN Flag Count',\n",
              " ' PSH Flag Count',\n",
              " ' ACK Flag Count',\n",
              " ' URG Flag Count',\n",
              " ' Average Packet Size',\n",
              " ' Avg Fwd Segment Size',\n",
              " ' Avg Bwd Segment Size',\n",
              " ' Fwd Header Length.1',\n",
              " 'Subflow Fwd Packets',\n",
              " ' Subflow Fwd Bytes',\n",
              " ' Subflow Bwd Packets',\n",
              " ' Subflow Bwd Bytes',\n",
              " 'Init_Win_bytes_forward',\n",
              " ' Init_Win_bytes_backward',\n",
              " ' act_data_pkt_fwd',\n",
              " ' min_seg_size_forward',\n",
              " 'Idle Mean',\n",
              " ' Idle Std',\n",
              " ' Idle Max',\n",
              " ' Idle Min',\n",
              " ' Label']"
            ]
          },
          "metadata": {},
          "execution_count": 14
        }
      ]
    },
    {
      "cell_type": "code",
      "metadata": {
        "id": "UAv_gaSQkRLy"
      },
      "source": [
        "# -------------------changing datatypes\n",
        "\n",
        "def check_size_dtypes(df):\n",
        "  max = df.max()\n",
        "  print(max, 'max')\n",
        "\n",
        "  min = df.min()\n",
        "  print(min, 'min')\n",
        "  # print(df.value_counts())\n",
        "  var1 = df.memory_usage(index=False, deep=True)\n",
        "  print(var1,'This is the memory usage')\n",
        "  print(df.sample(20))\n",
        "\n",
        "\n",
        "def convert_datatypes(df,a):\n",
        "  print('Trying to convert datatypes for less memory usage')\n",
        "  max = df.max()\n",
        "  print(max, 'max')\n",
        "\n",
        "  min = df.min()\n",
        "  print(min, 'min')\n",
        "\n",
        "  # print(df.value_counts())\n",
        "\n",
        "  var1 = df.memory_usage(index=False, deep=True)\n",
        "  print(var1, 'memory usage')\n",
        "  df = df.astype(a)\n",
        "  var2 = df.memory_usage(index=False, deep=True)\n",
        "  print(var2, ' new memory usage| the difference -> ', var1 / var2)\n",
        "  return df\n",
        "\n",
        "def normalize(df):\n",
        "  normalized_df=((df-df.min())/(df.max()-df.min())) * 100\n",
        "  return normalized_df"
      ],
      "execution_count": null,
      "outputs": []
    },
    {
      "cell_type": "code",
      "metadata": {
        "colab": {
          "base_uri": "https://localhost:8080/"
        },
        "id": "Ttx7giqB0PQ6",
        "outputId": "2337644b-e380-44c1-be8f-5a03aeb1e827"
      },
      "source": [
        "print('--------Destination Port---------------')\n",
        "check_size_dtypes(df[' Destination Port'])"
      ],
      "execution_count": null,
      "outputs": [
        {
          "output_type": "stream",
          "name": "stdout",
          "text": [
            "--------Destination Port---------------\n",
            "100.0 max\n",
            "0.0 min\n",
            "22623008 This is the memory usage\n",
            "790745     83.654533\n",
            "1039062     0.080873\n",
            "84655       0.122072\n",
            "1281560    73.635460\n",
            "60355      29.520103\n",
            "2768931     0.080873\n",
            "2277763     0.122072\n",
            "2387607     0.122072\n",
            "696559      0.675975\n",
            "2246245     0.122072\n",
            "997863      0.122072\n",
            "1389481     0.895705\n",
            "1903282     0.675975\n",
            "2686883     0.080873\n",
            "2402609     0.122072\n",
            "664538      0.122072\n",
            "354017      3.155566\n",
            "1625457     0.675975\n",
            "2291714     0.122072\n",
            "1001845     0.080873\n",
            "Name:  Destination Port, dtype: float64\n"
          ]
        }
      ]
    },
    {
      "cell_type": "code",
      "metadata": {
        "colab": {
          "base_uri": "https://localhost:8080/"
        },
        "id": "4Z_AU2OPkROz",
        "outputId": "10dee50b-9433-452e-982a-6d8787f82d50"
      },
      "source": [
        "# convert_datatypes(df[' Destination Port'])\n",
        "df[' Destination Port'] = convert_datatypes(df[' Destination Port'], 'float32')"
      ],
      "execution_count": null,
      "outputs": [
        {
          "output_type": "stream",
          "name": "stdout",
          "text": [
            "Trying to convert datatypes for less memory usage\n",
            "100.0 max\n",
            "0.0 min\n",
            "22623008 memory usage\n",
            "11311504  new memory usage| the difference ->  2.0\n"
          ]
        }
      ]
    },
    {
      "cell_type": "code",
      "metadata": {
        "id": "Bq6jKPX8kRVO"
      },
      "source": [
        " df[' Destination Port'] = normalize(df[' Destination Port'])"
      ],
      "execution_count": null,
      "outputs": []
    },
    {
      "cell_type": "code",
      "metadata": {
        "id": "qElPYBlwkRX3",
        "colab": {
          "base_uri": "https://localhost:8080/"
        },
        "outputId": "de9bfcb5-451e-4c7f-b296-c96f5a59a762"
      },
      "source": [
        "# obv.sample(10)\n",
        "print(df[' Destination Port'].memory_usage(index=False, deep=True), 'memory usage')"
      ],
      "execution_count": null,
      "outputs": [
        {
          "output_type": "stream",
          "name": "stdout",
          "text": [
            "22623008 memory usage\n"
          ]
        }
      ]
    },
    {
      "cell_type": "code",
      "metadata": {
        "colab": {
          "base_uri": "https://localhost:8080/"
        },
        "id": "fdaEqO4ZNTpf",
        "outputId": "9c0b7034-a205-4cda-9afb-798ada2d3584"
      },
      "source": [
        "df[' Destination Port'].max()"
      ],
      "execution_count": null,
      "outputs": [
        {
          "output_type": "execute_result",
          "data": {
            "text/plain": [
              "100.0"
            ]
          },
          "metadata": {},
          "execution_count": 90
        }
      ]
    },
    {
      "cell_type": "code",
      "metadata": {
        "colab": {
          "base_uri": "https://localhost:8080/"
        },
        "id": "7kWTAbywz9gW",
        "outputId": "e3d6006d-2dee-4b01-bea6-e7252cea4bf6"
      },
      "source": [
        "print('-----------flow duration dtype change-------------')\n",
        "# ----------------------------------------------------\n",
        "# ----------\n",
        "# ----------------------------------------------')"
      ],
      "execution_count": null,
      "outputs": [
        {
          "output_type": "stream",
          "name": "stdout",
          "text": [
            "-----------flow duration dtype change-------------\n"
          ]
        }
      ]
    },
    {
      "cell_type": "code",
      "metadata": {
        "colab": {
          "base_uri": "https://localhost:8080/"
        },
        "id": "yteDTV9ksi3k",
        "outputId": "b8209b33-dd52-4044-caee-d2619e78ecc8"
      },
      "source": [
        " check_size_dtypes(df[' Flow Duration']) #df[' Flow Duration'] = \n",
        "# check_size_dtypes(obv)"
      ],
      "execution_count": null,
      "outputs": [
        {
          "output_type": "stream",
          "name": "stdout",
          "text": [
            "100.0 max\n",
            "0.0 min\n",
            "11311504 This is the memory usage\n",
            "1216076     0.000037\n",
            "2083392     9.854185\n",
            "899003      0.000060\n",
            "2764033     0.000040\n",
            "1003800     0.000014\n",
            "988070      0.000227\n",
            "1567779     0.000503\n",
            "2018055     0.000107\n",
            "2489131     9.431383\n",
            "784329      0.026037\n",
            "1428903     0.000027\n",
            "231783      0.020008\n",
            "1373151     0.000105\n",
            "1247414     0.000065\n",
            "535041      0.115201\n",
            "1552695    96.493073\n",
            "1064901     0.000200\n",
            "1775136     0.169825\n",
            "1836664     0.041492\n",
            "1010830     5.009617\n",
            "Name:  Flow Duration, dtype: float32\n"
          ]
        }
      ]
    },
    {
      "cell_type": "code",
      "metadata": {
        "colab": {
          "base_uri": "https://localhost:8080/"
        },
        "id": "w8W-Z6ssNiN2",
        "outputId": "8ef4c3c4-2f3a-410e-af17-fa99cd3c7ba7"
      },
      "source": [
        "df[' Flow Duration'].sample(10)\n",
        "df[' Flow Duration'].max()"
      ],
      "execution_count": null,
      "outputs": [
        {
          "output_type": "execute_result",
          "data": {
            "text/plain": [
              "100.0"
            ]
          },
          "metadata": {},
          "execution_count": 93
        }
      ]
    },
    {
      "cell_type": "code",
      "metadata": {
        "id": "KLkZm26psQdj"
      },
      "source": [
        "df[' Flow Duration'] = normalize(df[' Flow Duration'])"
      ],
      "execution_count": null,
      "outputs": []
    },
    {
      "cell_type": "code",
      "metadata": {
        "colab": {
          "base_uri": "https://localhost:8080/"
        },
        "id": "UnbvenXEsOMw",
        "outputId": "1ea818c4-285a-4375-8b05-78edfef22e58"
      },
      "source": [
        "df[' Flow Duration'] = convert_datatypes(df[' Flow Duration'], 'float32')\n",
        "# convert_datatypes(df[obv], 'int8')"
      ],
      "execution_count": null,
      "outputs": [
        {
          "output_type": "stream",
          "name": "stdout",
          "text": [
            "Trying to convert datatypes for less memory usage\n",
            "100.0 max\n",
            "0.0 min\n",
            "22623008 memory usage\n",
            "11311504  new memory usage| the difference ->  2.0\n"
          ]
        }
      ]
    },
    {
      "cell_type": "code",
      "metadata": {
        "colab": {
          "base_uri": "https://localhost:8080/"
        },
        "id": "cIg_c77Vz7bP",
        "outputId": "a800cc15-7570-41a5-965f-ddb2dab5c732"
      },
      "source": [
        "print('---------changing total fwd packets dtype----')"
      ],
      "execution_count": null,
      "outputs": [
        {
          "output_type": "stream",
          "name": "stdout",
          "text": [
            "---------changing total fwd packets dtype----\n"
          ]
        }
      ]
    },
    {
      "cell_type": "code",
      "metadata": {
        "colab": {
          "base_uri": "https://localhost:8080/"
        },
        "id": "4UlufSJ9z7d6",
        "outputId": "3d7076d8-7a79-4922-cdcc-710e51851cd9"
      },
      "source": [
        "print(check_size_dtypes(df[' Total Fwd Packets']))\n",
        "# check_size_dtypes(obv)\n",
        "df[' Total Fwd Packets'].sample(10)\n",
        "df[' Total Fwd Packets'].max()"
      ],
      "execution_count": null,
      "outputs": [
        {
          "output_type": "stream",
          "name": "stdout",
          "text": [
            "219759 max\n",
            "1 min\n",
            "11311504 This is the memory usage\n",
            "2219978      4\n",
            "2155438      3\n",
            "2572998      2\n",
            "670078       1\n",
            "1586429    133\n",
            "2575291      2\n",
            "1146783      2\n",
            "1623238      2\n",
            "2218585      8\n",
            "932363       1\n",
            "1657580      1\n",
            "303507       1\n",
            "218457       1\n",
            "1742297      3\n",
            "1306740      1\n",
            "1295392      2\n",
            "2121441      1\n",
            "465107       5\n",
            "708664      10\n",
            "896866       1\n",
            "Name:  Total Fwd Packets, dtype: int32\n",
            "None\n"
          ]
        },
        {
          "output_type": "execute_result",
          "data": {
            "text/plain": [
              "219759"
            ]
          },
          "metadata": {},
          "execution_count": 97
        }
      ]
    },
    {
      "cell_type": "code",
      "metadata": {
        "colab": {
          "base_uri": "https://localhost:8080/"
        },
        "id": "QQczikkQz7hK",
        "outputId": "26b3abc7-ba4b-4da1-8561-398f4364f439"
      },
      "source": [
        " df[' Total Fwd Packets'] = convert_datatypes(df[' Total Fwd Packets'], 'int32')"
      ],
      "execution_count": null,
      "outputs": [
        {
          "output_type": "stream",
          "name": "stdout",
          "text": [
            "Trying to convert datatypes for less memory usage\n",
            "219759 max\n",
            "1 min\n",
            "11311504 memory usage\n",
            "11311504  new memory usage| the difference ->  1.0\n"
          ]
        }
      ]
    },
    {
      "cell_type": "code",
      "metadata": {
        "colab": {
          "base_uri": "https://localhost:8080/"
        },
        "id": "apN38nAlz7k-",
        "outputId": "89f6963e-8472-4504-a27d-6707d94c5331"
      },
      "source": [
        "type(df[' Total Fwd Packets'][1111])\n",
        "# del obv\n"
      ],
      "execution_count": null,
      "outputs": [
        {
          "output_type": "execute_result",
          "data": {
            "text/plain": [
              "numpy.int32"
            ]
          },
          "metadata": {},
          "execution_count": 99
        }
      ]
    },
    {
      "cell_type": "code",
      "metadata": {
        "colab": {
          "base_uri": "https://localhost:8080/"
        },
        "id": "GhZYaREB_INC",
        "outputId": "081c4248-d378-44c3-81a8-649bcbf37c0f"
      },
      "source": [
        "print('---------------------changing total backward packets datatype------------------')\n",
        "print(df[' Total Backward Packets'].sample(10))\n",
        "df[' Total Backward Packets'].max()"
      ],
      "execution_count": null,
      "outputs": [
        {
          "output_type": "stream",
          "name": "stdout",
          "text": [
            "---------------------changing total backward packets datatype------------------\n",
            "2615601     0\n",
            "2409725     7\n",
            "2267674     0\n",
            "683656     15\n",
            "2501323     0\n",
            "158391      0\n",
            "156514      5\n",
            "2053489     2\n",
            "845178      5\n",
            "1221133     2\n",
            "Name:  Total Backward Packets, dtype: int32\n"
          ]
        },
        {
          "output_type": "execute_result",
          "data": {
            "text/plain": [
              "291922"
            ]
          },
          "metadata": {},
          "execution_count": 100
        }
      ]
    },
    {
      "cell_type": "code",
      "metadata": {
        "colab": {
          "base_uri": "https://localhost:8080/"
        },
        "id": "D18Jp9Dxz7rP",
        "outputId": "91d1b2a8-bc53-4402-9a00-870a3fbece76"
      },
      "source": [
        "check_size_dtypes(df[' Total Backward Packets'])\n",
        "df[' Total Backward Packets'] = convert_datatypes(df[' Total Backward Packets'], 'int32')"
      ],
      "execution_count": null,
      "outputs": [
        {
          "output_type": "stream",
          "name": "stdout",
          "text": [
            "291922 max\n",
            "0 min\n",
            "11311504 This is the memory usage\n",
            "299699     16\n",
            "1040939     2\n",
            "106558      6\n",
            "1995718     1\n",
            "2151367    27\n",
            "2431518     4\n",
            "1968707     1\n",
            "1366761     2\n",
            "265741      2\n",
            "1455138     3\n",
            "1606614     1\n",
            "312128      2\n",
            "1144758     1\n",
            "129849      2\n",
            "1402404     0\n",
            "2597140     4\n",
            "671492      1\n",
            "382855      1\n",
            "2786156    11\n",
            "2760754     2\n",
            "Name:  Total Backward Packets, dtype: int32\n",
            "Trying to convert datatypes for less memory usage\n",
            "291922 max\n",
            "0 min\n",
            "11311504 memory usage\n",
            "11311504  new memory usage| the difference ->  1.0\n"
          ]
        }
      ]
    },
    {
      "cell_type": "code",
      "metadata": {
        "id": "Z5jErZqtWLEe"
      },
      "source": [
        "ll"
      ],
      "execution_count": null,
      "outputs": []
    },
    {
      "cell_type": "code",
      "metadata": {
        "colab": {
          "base_uri": "https://localhost:8080/"
        },
        "id": "BZ47aFPEPD4S",
        "outputId": "97340392-ceb2-46d5-c9b0-bd442711a4e4"
      },
      "source": [
        "df['Total Length of Fwd Packets'].sample(10)\n",
        "df['Total Length of Fwd Packets'].max()"
      ],
      "execution_count": null,
      "outputs": [
        {
          "output_type": "execute_result",
          "data": {
            "text/plain": [
              "12900000"
            ]
          },
          "metadata": {},
          "execution_count": 102
        }
      ]
    },
    {
      "cell_type": "code",
      "metadata": {
        "colab": {
          "base_uri": "https://localhost:8080/"
        },
        "id": "lFYoLoXc-Om3",
        "outputId": "e18916e5-21d6-4400-d7fd-55dd4dd9da82"
      },
      "source": [
        "# check_size_dtypes(df['Total Length of Fwd Packets'])\n",
        "df[' Fwd Packet Length Max'] = convert_datatypes(df[' Fwd Packet Length Max'], 'int32')"
      ],
      "execution_count": null,
      "outputs": [
        {
          "output_type": "stream",
          "name": "stdout",
          "text": [
            "Trying to convert datatypes for less memory usage\n",
            "24820 max\n",
            "0 min\n",
            "11311504 memory usage\n",
            "11311504  new memory usage| the difference ->  1.0\n"
          ]
        }
      ]
    },
    {
      "cell_type": "code",
      "metadata": {
        "colab": {
          "base_uri": "https://localhost:8080/"
        },
        "id": "a539UsOdPfz3",
        "outputId": "e491326c-23a2-4683-9c3a-aed349a257a6"
      },
      "source": [
        "# df[' Fwd Packet Length Max'].sample(10)\n",
        "# df[' Fwd Packet Length Max'].max()\n",
        "check_size_dtypes(df[' Fwd Packet Length Max'])"
      ],
      "execution_count": null,
      "outputs": [
        {
          "output_type": "stream",
          "name": "stdout",
          "text": [
            "24820 max\n",
            "0 min\n",
            "11311504 This is the memory usage\n",
            "2591616      6\n",
            "150454      20\n",
            "720593      56\n",
            "1255862     43\n",
            "1089410     48\n",
            "896941       0\n",
            "562429       6\n",
            "1407676     31\n",
            "1424424      2\n",
            "548347     189\n",
            "290177      57\n",
            "2611957      6\n",
            "2565631      6\n",
            "10553      709\n",
            "2293909    332\n",
            "2354909    349\n",
            "1879341    414\n",
            "1233570    197\n",
            "448473       6\n",
            "2457327    192\n",
            "Name:  Fwd Packet Length Max, dtype: int32\n"
          ]
        }
      ]
    },
    {
      "cell_type": "code",
      "metadata": {
        "colab": {
          "base_uri": "https://localhost:8080/"
        },
        "id": "4NLxxFmy-Opq",
        "outputId": "f55963ca-5cef-42dd-a73f-41b91e563d03"
      },
      "source": [
        "\n",
        "def print_title(a):  \n",
        "  for i in range(5):\n",
        "    print('---------------',a,'-----------------')\n",
        "print_title('Fwd Packet Length Min')"
      ],
      "execution_count": null,
      "outputs": [
        {
          "output_type": "stream",
          "name": "stdout",
          "text": [
            "--------------- Fwd Packet Length Min -----------------\n",
            "--------------- Fwd Packet Length Min -----------------\n",
            "--------------- Fwd Packet Length Min -----------------\n",
            "--------------- Fwd Packet Length Min -----------------\n",
            "--------------- Fwd Packet Length Min -----------------\n"
          ]
        }
      ]
    },
    {
      "cell_type": "code",
      "metadata": {
        "colab": {
          "base_uri": "https://localhost:8080/"
        },
        "id": "c3m0Br8PQBHK",
        "outputId": "cbe4f98c-dd41-4684-e321-57d95e169924"
      },
      "source": [
        "check_size_dtypes(df[' Fwd Packet Length Min'])"
      ],
      "execution_count": null,
      "outputs": [
        {
          "output_type": "stream",
          "name": "stdout",
          "text": [
            "2325 max\n",
            "0 min\n",
            "5655752 This is the memory usage\n",
            "72841       6\n",
            "2476859     0\n",
            "482204     52\n",
            "1608289    80\n",
            "2363261     0\n",
            "1482207     0\n",
            "2631454    46\n",
            "1153117     6\n",
            "1385112     2\n",
            "11641       0\n",
            "357098      2\n",
            "866941      0\n",
            "1162537    39\n",
            "1014308    35\n",
            "2457079     6\n",
            "739731     48\n",
            "2326557     6\n",
            "1205658    45\n",
            "2060045    43\n",
            "2136242    41\n",
            "Name:  Fwd Packet Length Min, dtype: int16\n"
          ]
        }
      ]
    },
    {
      "cell_type": "code",
      "metadata": {
        "colab": {
          "base_uri": "https://localhost:8080/"
        },
        "id": "TMo3AWPb-OsQ",
        "outputId": "76ed4334-984e-4b60-954d-08823e09e561"
      },
      "source": [
        "check_size_dtypes(df[' Fwd Packet Length Min'])\n",
        "df[' Fwd Packet Length Min'] = convert_datatypes(df[' Fwd Packet Length Min'], 'int16')"
      ],
      "execution_count": null,
      "outputs": [
        {
          "output_type": "stream",
          "name": "stdout",
          "text": [
            "2325 max\n",
            "0 min\n",
            "5655752 This is the memory usage\n",
            "2786795    34\n",
            "2695024    45\n",
            "1456103     0\n",
            "2459910     0\n",
            "748443      0\n",
            "1235803    47\n",
            "1932461     0\n",
            "2778066     0\n",
            "2060730    28\n",
            "2706540    78\n",
            "1936798    46\n",
            "237857     50\n",
            "2432279     0\n",
            "1057639     6\n",
            "403147      0\n",
            "1109269    35\n",
            "2207660     0\n",
            "1771831     0\n",
            "687943      0\n",
            "2441805     0\n",
            "Name:  Fwd Packet Length Min, dtype: int16\n",
            "Trying to convert datatypes for less memory usage\n",
            "2325 max\n",
            "0 min\n",
            "5655752 memory usage\n",
            "5655752  new memory usage| the difference ->  1.0\n"
          ]
        }
      ]
    },
    {
      "cell_type": "code",
      "metadata": {
        "id": "fBbdQgHS-Oyy"
      },
      "source": [
        "ll\n"
      ],
      "execution_count": null,
      "outputs": []
    },
    {
      "cell_type": "code",
      "metadata": {
        "id": "uH9Ol9tI-O1u"
      },
      "source": [
        "# check_size_dtypes(df[''])"
      ],
      "execution_count": null,
      "outputs": []
    },
    {
      "cell_type": "code",
      "metadata": {
        "id": "vm9oN-RB-O4r"
      },
      "source": [
        "# check_size_dtypes(df[''])\n",
        "# df[''] = convert_datatypes([df[' '], 'int16')"
      ],
      "execution_count": null,
      "outputs": []
    },
    {
      "cell_type": "code",
      "metadata": {
        "id": "3Ll0t5jZ-O71"
      },
      "source": [
        "# check_size_dtypes(df[' Fwd Packet Length Min'])"
      ],
      "execution_count": null,
      "outputs": []
    },
    {
      "cell_type": "code",
      "metadata": {
        "id": "dxL3z5yESCu1"
      },
      "source": [
        ""
      ],
      "execution_count": null,
      "outputs": []
    },
    {
      "cell_type": "code",
      "metadata": {
        "id": "owyaj5ceXZjy"
      },
      "source": [
        "# check_size_dtypes(df[' '])\n",
        "# df[' '] = convert_datatypes(df[''], 'int16')\n",
        "# check_size_dtypes(df[''])\n",
        "# df[' '] = convert_datatypes(df[''], 'int16')"
      ],
      "execution_count": null,
      "outputs": []
    },
    {
      "cell_type": "code",
      "metadata": {
        "colab": {
          "base_uri": "https://localhost:8080/"
        },
        "id": "_lZtf3ErXa8g",
        "outputId": "59ae2f31-b995-4ce0-ab5c-4402b923d371"
      },
      "source": [
        "print_title('Fwd Packet Length Mean')"
      ],
      "execution_count": null,
      "outputs": [
        {
          "output_type": "stream",
          "name": "stdout",
          "text": [
            "--------------- Fwd Packet Length Mean -----------------\n",
            "--------------- Fwd Packet Length Mean -----------------\n",
            "--------------- Fwd Packet Length Mean -----------------\n",
            "--------------- Fwd Packet Length Mean -----------------\n",
            "--------------- Fwd Packet Length Mean -----------------\n"
          ]
        }
      ]
    },
    {
      "cell_type": "code",
      "metadata": {
        "colab": {
          "base_uri": "https://localhost:8080/"
        },
        "id": "vU0AB7td-O-O",
        "outputId": "1d9660ec-2824-4dbd-db31-76dfd393fa4f"
      },
      "source": [
        "check_size_dtypes(df[' Fwd Packet Length Mean'])\n",
        "# df[' Fwd Packet Length Mean'] = convert_datatypes(df[' Fwd Packet Length Mean'], 'int16')"
      ],
      "execution_count": null,
      "outputs": [
        {
          "output_type": "stream",
          "name": "stdout",
          "text": [
            "5940.85693359375 max\n",
            "0.0 min\n",
            "11311504 This is the memory usage\n",
            "1030376       0.000000\n",
            "451004        0.000000\n",
            "1960422      10.333333\n",
            "2285567      40.111111\n",
            "1528358      39.000000\n",
            "2650416      39.333332\n",
            "1537486      29.000000\n",
            "433659        0.000000\n",
            "1551194       4.000000\n",
            "2466870       1.500000\n",
            "1522878      33.000000\n",
            "343595        2.000000\n",
            "599066      357.333344\n",
            "1818029      48.833332\n",
            "706825       53.777779\n",
            "1748531      67.368423\n",
            "2676171      10.333333\n",
            "355194        2.000000\n",
            "2354054      42.875000\n",
            "139187     1934.500000\n",
            "Name:  Fwd Packet Length Mean, dtype: float32\n"
          ]
        }
      ]
    },
    {
      "cell_type": "code",
      "metadata": {
        "colab": {
          "base_uri": "https://localhost:8080/"
        },
        "id": "yT1x_LKDYDKK",
        "outputId": "b1850371-0498-43a1-c7d2-58f01ed22390"
      },
      "source": [
        "# check_size_dtypes(df[' Fwd Packet Length Mean'])\n",
        "df[' Fwd Packet Length Mean'] = convert_datatypes(df[' Fwd Packet Length Mean'], 'float32')\n",
        "check_size_dtypes(df[' Fwd Packet Length Mean'])"
      ],
      "execution_count": null,
      "outputs": [
        {
          "output_type": "stream",
          "name": "stdout",
          "text": [
            "Trying to convert datatypes for less memory usage\n",
            "5940.85693359375 max\n",
            "0.0 min\n",
            "11311504 memory usage\n",
            "11311504  new memory usage| the difference ->  1.0\n",
            "5940.85693359375 max\n",
            "0.0 min\n",
            "11311504 This is the memory usage\n",
            "2453696       0.000000\n",
            "1239084      34.000000\n",
            "529208       30.000000\n",
            "2238884      58.666668\n",
            "2563193     130.500000\n",
            "1288248       0.000000\n",
            "316306        2.000000\n",
            "1828911       0.000000\n",
            "172398        8.666667\n",
            "2646933      39.666668\n",
            "2795207       0.000000\n",
            "716335       85.428574\n",
            "1508926      30.000000\n",
            "2709052       0.000000\n",
            "1997490      41.000000\n",
            "2503025      58.000000\n",
            "263834       41.000000\n",
            "70771      1854.571411\n",
            "1471664       0.000000\n",
            "385425        0.000000\n",
            "Name:  Fwd Packet Length Mean, dtype: float32\n"
          ]
        }
      ]
    },
    {
      "cell_type": "code",
      "metadata": {
        "id": "WKGUA8AfQXil"
      },
      "source": [
        ""
      ],
      "execution_count": null,
      "outputs": []
    },
    {
      "cell_type": "code",
      "metadata": {
        "colab": {
          "base_uri": "https://localhost:8080/"
        },
        "id": "zYWOyAZGgCku",
        "outputId": "2e63ec13-858a-4bef-b85e-15c12b6e2179"
      },
      "source": [
        "print_title('Fwd Packet Length Std')"
      ],
      "execution_count": null,
      "outputs": [
        {
          "output_type": "stream",
          "name": "stdout",
          "text": [
            "--------------- Fwd Packet Length Std -----------------\n",
            "--------------- Fwd Packet Length Std -----------------\n",
            "--------------- Fwd Packet Length Std -----------------\n",
            "--------------- Fwd Packet Length Std -----------------\n",
            "--------------- Fwd Packet Length Std -----------------\n"
          ]
        }
      ]
    },
    {
      "cell_type": "code",
      "metadata": {
        "colab": {
          "base_uri": "https://localhost:8080/"
        },
        "id": "Lj9WGrNnQcks",
        "outputId": "25d1ae56-78aa-492f-e2bd-18433cf0e2e7"
      },
      "source": [
        "check_size_dtypes(df[' Fwd Packet Length Std'])"
      ],
      "execution_count": null,
      "outputs": [
        {
          "output_type": "stream",
          "name": "stdout",
          "text": [
            "7125.5966796875 max\n",
            "0.0 min\n",
            "11311504 This is the memory usage\n",
            "155516       0.000000\n",
            "1168646      0.000000\n",
            "1124478      0.000000\n",
            "1046423      0.000000\n",
            "676088       0.000000\n",
            "596108       0.000000\n",
            "1486362      0.000000\n",
            "1992042    113.000000\n",
            "126297      10.263203\n",
            "680922       0.000000\n",
            "77555       10.263203\n",
            "1650130    136.434906\n",
            "2262107    178.452087\n",
            "913383       0.000000\n",
            "1324375      0.000000\n",
            "1860927     26.162951\n",
            "1303720      0.000000\n",
            "2447414      0.000000\n",
            "34730       10.263203\n",
            "1019517      0.000000\n",
            "Name:  Fwd Packet Length Std, dtype: float32\n"
          ]
        }
      ]
    },
    {
      "cell_type": "code",
      "metadata": {
        "colab": {
          "base_uri": "https://localhost:8080/"
        },
        "id": "RRzPmFHTQcku",
        "outputId": "3fe84bff-29b1-4faf-bd97-34b1889f0def"
      },
      "source": [
        "df[' Fwd Packet Length Std'] = convert_datatypes(df[' Fwd Packet Length Std'], 'float32')\n",
        "check_size_dtypes(df[' Fwd Packet Length Std'])\n"
      ],
      "execution_count": null,
      "outputs": [
        {
          "output_type": "stream",
          "name": "stdout",
          "text": [
            "Trying to convert datatypes for less memory usage\n",
            "7125.5966796875 max\n",
            "0.0 min\n",
            "11311504 memory usage\n",
            "11311504  new memory usage| the difference ->  1.0\n",
            "7125.5966796875 max\n",
            "0.0 min\n",
            "11311504 This is the memory usage\n",
            "1179137      0.000000\n",
            "2393548    163.707672\n",
            "921056     191.308533\n",
            "2666139      0.000000\n",
            "1658116      0.000000\n",
            "1537819      0.000000\n",
            "923581       0.000000\n",
            "2475008    248.009445\n",
            "2745300      0.000000\n",
            "1372709      0.000000\n",
            "1995979      0.000000\n",
            "1227093      0.000000\n",
            "233662      23.197906\n",
            "712409      17.897858\n",
            "575264       0.000000\n",
            "1468251     67.550797\n",
            "2447640     20.207260\n",
            "1325248      0.000000\n",
            "228596       0.000000\n",
            "2534920      0.000000\n",
            "Name:  Fwd Packet Length Std, dtype: float32\n"
          ]
        }
      ]
    },
    {
      "cell_type": "code",
      "metadata": {
        "id": "zCb8a2xeRfg_"
      },
      "source": [
        " 'Bwd Packet Length Max',\n",
        " ' Bwd Packet Length Min',\n",
        " ' Bwd Packet Length Mean',\n",
        " ' Bwd Packet Length Std',"
      ],
      "execution_count": null,
      "outputs": []
    },
    {
      "cell_type": "code",
      "metadata": {
        "colab": {
          "base_uri": "https://localhost:8080/"
        },
        "id": "wzkeE4dfgIaF",
        "outputId": "066c15c3-e043-405e-a8cd-4aa6e92787a0"
      },
      "source": [
        "print_title('Bwd Packet Length Max')"
      ],
      "execution_count": null,
      "outputs": [
        {
          "output_type": "stream",
          "name": "stdout",
          "text": [
            "--------------- Bwd Packet Length Max -----------------\n",
            "--------------- Bwd Packet Length Max -----------------\n",
            "--------------- Bwd Packet Length Max -----------------\n",
            "--------------- Bwd Packet Length Max -----------------\n",
            "--------------- Bwd Packet Length Max -----------------\n"
          ]
        }
      ]
    },
    {
      "cell_type": "code",
      "metadata": {
        "colab": {
          "base_uri": "https://localhost:8080/"
        },
        "id": "BaMpes7GQckw",
        "outputId": "dcdbd6aa-e70a-43b1-cbb5-b7dc5990abde"
      },
      "source": [
        "check_size_dtypes(df['Bwd Packet Length Max'])"
      ],
      "execution_count": null,
      "outputs": [
        {
          "output_type": "stream",
          "name": "stdout",
          "text": [
            "19530 max\n",
            "0 min\n",
            "5655752 This is the memory usage\n",
            "1122424       83\n",
            "1263604       99\n",
            "949069       195\n",
            "39467      11595\n",
            "2282496        0\n",
            "1742295        0\n",
            "653236       118\n",
            "1377804     1418\n",
            "1348168     1338\n",
            "2762771       71\n",
            "298993        71\n",
            "1276627       89\n",
            "2192347      117\n",
            "1648933       48\n",
            "977780      2266\n",
            "762455      4380\n",
            "974936        64\n",
            "1005164       72\n",
            "1960922     4344\n",
            "2183327      859\n",
            "Name: Bwd Packet Length Max, dtype: int16\n"
          ]
        }
      ]
    },
    {
      "cell_type": "code",
      "metadata": {
        "colab": {
          "base_uri": "https://localhost:8080/"
        },
        "id": "5zDquUgJQckx",
        "outputId": "e567607c-bb0f-4bff-ca82-3e42d25ad235"
      },
      "source": [
        "df['Bwd Packet Length Max'] = convert_datatypes(df['Bwd Packet Length Max'], 'int16')\n",
        "check_size_dtypes(df['Bwd Packet Length Max'])\n"
      ],
      "execution_count": null,
      "outputs": [
        {
          "output_type": "stream",
          "name": "stdout",
          "text": [
            "Trying to convert datatypes for less memory usage\n",
            "19530 max\n",
            "0 min\n",
            "5655752 memory usage\n",
            "5655752  new memory usage| the difference ->  1.0\n",
            "19530 max\n",
            "0 min\n",
            "5655752 This is the memory usage\n",
            "2815925      94\n",
            "1716484      66\n",
            "1639842     150\n",
            "835929      166\n",
            "2369003       0\n",
            "1835599       0\n",
            "499179        6\n",
            "966867        6\n",
            "742026        0\n",
            "239259        0\n",
            "150122     7300\n",
            "1853697       0\n",
            "1812678       0\n",
            "74623         0\n",
            "2659436       0\n",
            "2628785     138\n",
            "1148093       6\n",
            "1173628     105\n",
            "530510       51\n",
            "933485      976\n",
            "Name: Bwd Packet Length Max, dtype: int16\n"
          ]
        }
      ]
    },
    {
      "cell_type": "code",
      "metadata": {
        "id": "OWYGuNHXSAl7"
      },
      "source": [
        ""
      ],
      "execution_count": null,
      "outputs": []
    },
    {
      "cell_type": "code",
      "metadata": {
        "colab": {
          "base_uri": "https://localhost:8080/"
        },
        "id": "6y72ssn0gPzX",
        "outputId": "52ec60a5-7e46-45ae-e43e-962f183704f8"
      },
      "source": [
        "print_title(' Bwd Packet Length Min')"
      ],
      "execution_count": null,
      "outputs": [
        {
          "output_type": "stream",
          "name": "stdout",
          "text": [
            "---------------  Bwd Packet Length Min -----------------\n",
            "---------------  Bwd Packet Length Min -----------------\n",
            "---------------  Bwd Packet Length Min -----------------\n",
            "---------------  Bwd Packet Length Min -----------------\n",
            "---------------  Bwd Packet Length Min -----------------\n"
          ]
        }
      ]
    },
    {
      "cell_type": "code",
      "metadata": {
        "colab": {
          "base_uri": "https://localhost:8080/"
        },
        "id": "R_zi2qPNQcqS",
        "outputId": "15752808-ed07-4683-b9ff-192a1663417c"
      },
      "source": [
        "check_size_dtypes(df[' Bwd Packet Length Min'])"
      ],
      "execution_count": null,
      "outputs": [
        {
          "output_type": "stream",
          "name": "stdout",
          "text": [
            "2896 max\n",
            "0 min\n",
            "5655752 This is the memory usage\n",
            "2040690     97\n",
            "2814106      0\n",
            "59859       78\n",
            "2488319     72\n",
            "1900582      0\n",
            "2770266     23\n",
            "2591534      0\n",
            "1341096      0\n",
            "1013382    123\n",
            "2595075      6\n",
            "2814131    138\n",
            "502010     157\n",
            "417125       6\n",
            "2308930      0\n",
            "498724       6\n",
            "672448      79\n",
            "1233302     48\n",
            "1548645    132\n",
            "1226086     91\n",
            "1283288      0\n",
            "Name:  Bwd Packet Length Min, dtype: int16\n"
          ]
        }
      ]
    },
    {
      "cell_type": "code",
      "metadata": {
        "colab": {
          "base_uri": "https://localhost:8080/"
        },
        "id": "nkMpJsfoQcqT",
        "outputId": "edee5323-86c9-4474-db18-c4d7afb1113e"
      },
      "source": [
        "df[' Bwd Packet Length Min'] = convert_datatypes(df[' Bwd Packet Length Min'], 'int16')\n",
        "check_size_dtypes(df[' Bwd Packet Length Min'])\n"
      ],
      "execution_count": null,
      "outputs": [
        {
          "output_type": "stream",
          "name": "stdout",
          "text": [
            "Trying to convert datatypes for less memory usage\n",
            "2896 max\n",
            "0 min\n",
            "5655752 memory usage\n",
            "5655752  new memory usage| the difference ->  1.0\n",
            "2896 max\n",
            "0 min\n",
            "5655752 This is the memory usage\n",
            "1882221      0\n",
            "1274234     31\n",
            "2779346      0\n",
            "2209611      0\n",
            "1723490    112\n",
            "1080137     76\n",
            "1111067    132\n",
            "491532       0\n",
            "2612759      0\n",
            "2469929      0\n",
            "832052       0\n",
            "1859947      0\n",
            "2470826      0\n",
            "1179773     66\n",
            "2200296      0\n",
            "851039       0\n",
            "2631194      0\n",
            "922050      72\n",
            "745786       0\n",
            "2322260      0\n",
            "Name:  Bwd Packet Length Min, dtype: int16\n"
          ]
        }
      ]
    },
    {
      "cell_type": "code",
      "metadata": {
        "id": "fNiv26_lSBdS"
      },
      "source": [
        ""
      ],
      "execution_count": null,
      "outputs": []
    },
    {
      "cell_type": "code",
      "metadata": {
        "colab": {
          "base_uri": "https://localhost:8080/"
        },
        "id": "5s2hJJ1nghDj",
        "outputId": "e1bfe7a5-9f91-4224-9f92-5a6bf996da32"
      },
      "source": [
        "print_title(' Bwd Packet Length Std')"
      ],
      "execution_count": null,
      "outputs": [
        {
          "output_type": "stream",
          "name": "stdout",
          "text": [
            "---------------  Bwd Packet Length Std -----------------\n",
            "---------------  Bwd Packet Length Std -----------------\n",
            "---------------  Bwd Packet Length Std -----------------\n",
            "---------------  Bwd Packet Length Std -----------------\n",
            "---------------  Bwd Packet Length Std -----------------\n"
          ]
        }
      ]
    },
    {
      "cell_type": "code",
      "metadata": {
        "colab": {
          "base_uri": "https://localhost:8080/"
        },
        "id": "JtMWsosiQcqT",
        "outputId": "364bfeda-4352-499d-afba-bf10ec266e78"
      },
      "source": [
        "check_size_dtypes(df[' Bwd Packet Length Std'])"
      ],
      "execution_count": null,
      "outputs": [
        {
          "output_type": "stream",
          "name": "stdout",
          "text": [
            "8194.66015625 max\n",
            "0.0 min\n",
            "11311504 This is the memory usage\n",
            "2095916       0.000000\n",
            "2316176    2120.732178\n",
            "1298375       0.000000\n",
            "357468        0.000000\n",
            "1879933       0.000000\n",
            "734896      757.023193\n",
            "235383     1123.430054\n",
            "21260      4871.825684\n",
            "2773408       0.000000\n",
            "1896149     740.352722\n",
            "252414        0.000000\n",
            "1276716     683.782776\n",
            "835981      384.156464\n",
            "2349820    1757.578979\n",
            "1774988       0.000000\n",
            "1249189       0.000000\n",
            "1658627       0.000000\n",
            "139760        0.000000\n",
            "2770732       0.000000\n",
            "2283299    1757.578979\n",
            "Name:  Bwd Packet Length Std, dtype: float32\n"
          ]
        }
      ]
    },
    {
      "cell_type": "code",
      "metadata": {
        "colab": {
          "base_uri": "https://localhost:8080/"
        },
        "id": "i77fvDytajOX",
        "outputId": "da9c8a37-92b7-4a1c-e512-09873bd1ece4"
      },
      "source": [
        "df[' Bwd Packet Length Std'] = convert_datatypes(df[' Bwd Packet Length Std'], 'float32')\n",
        "check_size_dtypes(df[' Bwd Packet Length Std'])"
      ],
      "execution_count": null,
      "outputs": [
        {
          "output_type": "stream",
          "name": "stdout",
          "text": [
            "Trying to convert datatypes for less memory usage\n",
            "8194.66015625 max\n",
            "0.0 min\n",
            "11311504 memory usage\n",
            "11311504  new memory usage| the difference ->  1.0\n",
            "8194.66015625 max\n",
            "0.0 min\n",
            "11311504 This is the memory usage\n",
            "358969        0.000000\n",
            "2337575       0.000000\n",
            "2597025       0.000000\n",
            "1919239       0.000000\n",
            "361956        0.000000\n",
            "348290        0.000000\n",
            "2289494    2362.781494\n",
            "2491656      16.970562\n",
            "561579      606.952637\n",
            "2060759       0.000000\n",
            "618511      777.816345\n",
            "279107      142.999298\n",
            "544226      716.670654\n",
            "960494        0.000000\n",
            "1675057       0.000000\n",
            "2496430       0.000000\n",
            "1768378     683.164185\n",
            "1566188       0.000000\n",
            "60362         5.006662\n",
            "767789        0.000000\n",
            "Name:  Bwd Packet Length Std, dtype: float32\n"
          ]
        }
      ]
    },
    {
      "cell_type": "code",
      "metadata": {
        "id": "Uvdlr-uIbFtb"
      },
      "source": [
        ""
      ],
      "execution_count": null,
      "outputs": []
    },
    {
      "cell_type": "code",
      "metadata": {
        "colab": {
          "base_uri": "https://localhost:8080/"
        },
        "id": "tCFvnnYLgsXW",
        "outputId": "d57467eb-145b-4cc5-c9fe-394d37bac0c4"
      },
      "source": [
        "print_title(' Bwd Packet Length Mean')"
      ],
      "execution_count": null,
      "outputs": [
        {
          "output_type": "stream",
          "name": "stdout",
          "text": [
            "---------------  Bwd Packet Length Mean -----------------\n",
            "---------------  Bwd Packet Length Mean -----------------\n",
            "---------------  Bwd Packet Length Mean -----------------\n",
            "---------------  Bwd Packet Length Mean -----------------\n",
            "---------------  Bwd Packet Length Mean -----------------\n"
          ]
        }
      ]
    },
    {
      "cell_type": "code",
      "metadata": {
        "colab": {
          "base_uri": "https://localhost:8080/"
        },
        "id": "Py4gmqHwbFzw",
        "outputId": "92cacb63-86a4-481d-a67a-b03212b7bda0"
      },
      "source": [
        "check_size_dtypes(df[' Bwd Packet Length Mean'])\n"
      ],
      "execution_count": null,
      "outputs": [
        {
          "output_type": "stream",
          "name": "stdout",
          "text": [
            "5800.0 max\n",
            "0.0 min\n",
            "5655752 This is the memory usage\n",
            "2732902     124.000\n",
            "1971156       0.000\n",
            "2027891       0.000\n",
            "1460156     201.625\n",
            "2739826     112.000\n",
            "1621619       0.000\n",
            "322953        6.000\n",
            "426326        6.000\n",
            "2265917       0.000\n",
            "2513225     282.000\n",
            "945630      167.000\n",
            "2401565       0.000\n",
            "238516        0.000\n",
            "2317050    1656.000\n",
            "705629        0.000\n",
            "1088468      88.000\n",
            "957046     1380.000\n",
            "2391054     622.500\n",
            "2368586    1932.000\n",
            "2811522       6.000\n",
            "Name:  Bwd Packet Length Mean, dtype: float16\n"
          ]
        }
      ]
    },
    {
      "cell_type": "code",
      "metadata": {
        "colab": {
          "base_uri": "https://localhost:8080/"
        },
        "id": "QWsoTIetQcqU",
        "outputId": "e0f9a8ba-789d-4f64-82c9-a58d1d446caa"
      },
      "source": [
        "df[' Bwd Packet Length Mean'] = convert_datatypes(df[' Bwd Packet Length Mean'], 'float16')\n",
        "check_size_dtypes(df[' Bwd Packet Length Mean'])\n"
      ],
      "execution_count": null,
      "outputs": [
        {
          "output_type": "stream",
          "name": "stdout",
          "text": [
            "Trying to convert datatypes for less memory usage\n",
            "5800.0 max\n",
            "0.0 min\n",
            "5655752 memory usage\n",
            "5655752  new memory usage| the difference ->  1.0\n",
            "5800.0 max\n",
            "0.0 min\n",
            "5655752 This is the memory usage\n",
            "2754806    881.000000\n",
            "914615       6.000000\n",
            "1859442    146.000000\n",
            "2607860      0.000000\n",
            "2716802    111.000000\n",
            "338410       6.000000\n",
            "2502038    607.000000\n",
            "1842409      0.199951\n",
            "1966110      0.000000\n",
            "1312815      0.000000\n",
            "1660335      0.000000\n",
            "2578234     94.000000\n",
            "1308225    124.000000\n",
            "559968      91.000000\n",
            "2582168    138.750000\n",
            "1762195    171.750000\n",
            "592458     111.000000\n",
            "2104888    222.000000\n",
            "895033      95.812500\n",
            "2315484      0.000000\n",
            "Name:  Bwd Packet Length Mean, dtype: float16\n"
          ]
        }
      ]
    },
    {
      "cell_type": "code",
      "metadata": {
        "id": "juM94O1XQXmr"
      },
      "source": [
        "ll"
      ],
      "execution_count": null,
      "outputs": []
    },
    {
      "cell_type": "code",
      "metadata": {
        "colab": {
          "base_uri": "https://localhost:8080/"
        },
        "id": "oC2c8TM2QXsS",
        "outputId": "40a09e54-34a6-414e-f9e4-1ca0f40336b0"
      },
      "source": [
        "print_title('flow bytes')"
      ],
      "execution_count": null,
      "outputs": [
        {
          "output_type": "stream",
          "name": "stdout",
          "text": [
            "--------------- flow bytes -----------------\n",
            "--------------- flow bytes -----------------\n",
            "--------------- flow bytes -----------------\n",
            "--------------- flow bytes -----------------\n",
            "--------------- flow bytes -----------------\n"
          ]
        }
      ]
    },
    {
      "cell_type": "code",
      "metadata": {
        "colab": {
          "base_uri": "https://localhost:8080/"
        },
        "id": "Tilf589KQXvR",
        "outputId": "1a7c36f2-6305-4459-dc0a-3afe68667970"
      },
      "source": [
        "check_size_dtypes(df['Flow Bytes/s'])"
      ],
      "execution_count": null,
      "outputs": [
        {
          "output_type": "stream",
          "name": "stdout",
          "text": [
            "100.0 max\n",
            "0.0 min\n",
            "11311504 This is the memory usage\n",
            "1064260    11.192334\n",
            "1252519    11.193490\n",
            "675658     11.192183\n",
            "1973219    11.192110\n",
            "634479     11.276887\n",
            "1121471    11.268006\n",
            "1288293    11.192822\n",
            "160871     11.198215\n",
            "1971618    11.192110\n",
            "1790712    11.193274\n",
            "1989197    11.193227\n",
            "1071622    11.195161\n",
            "931556     11.192110\n",
            "2022815    11.234316\n",
            "268297     11.192574\n",
            "112012     11.192116\n",
            "412528     11.197827\n",
            "1049765    11.219625\n",
            "2637663    11.192201\n",
            "1419260    11.192113\n",
            "Name: Flow Bytes/s, dtype: float32\n"
          ]
        }
      ]
    },
    {
      "cell_type": "code",
      "metadata": {
        "colab": {
          "base_uri": "https://localhost:8080/"
        },
        "id": "BhtIFUUpnpVY",
        "outputId": "fca0ed85-88e0-4002-8525-a22dfd6a0b3f"
      },
      "source": [
        "# normalize(df['Flow Bytes/s'])\n",
        "df['Flow Bytes/s'].sample(20)"
      ],
      "execution_count": null,
      "outputs": [
        {
          "output_type": "execute_result",
          "data": {
            "text/plain": [
              "145989     11.194994\n",
              "979817     11.208063\n",
              "2566207    11.249694\n",
              "440464     11.197058\n",
              "1109911    11.195466\n",
              "1510013    11.363636\n",
              "1016951    11.192482\n",
              "2720165    11.192130\n",
              "2622437    11.238106\n",
              "1621147    11.241569\n",
              "2827013    11.192122\n",
              "2356051    11.192116\n",
              "176409     11.192115\n",
              "344347     11.199409\n",
              "808164     11.192908\n",
              "301941     11.192113\n",
              "1604586    11.302887\n",
              "1979200    11.192355\n",
              "2518161    11.194834\n",
              "2432513    11.192115\n",
              "Name: Flow Bytes/s, dtype: float32"
            ]
          },
          "metadata": {},
          "execution_count": 122
        }
      ]
    },
    {
      "cell_type": "code",
      "metadata": {
        "colab": {
          "base_uri": "https://localhost:8080/"
        },
        "id": "K9EKtabVQXyq",
        "outputId": "2c4c9d27-2a04-4cee-de1c-546b1bb24747"
      },
      "source": [
        "df['Flow Bytes/s'] = normalize(df['Flow Bytes/s'])\n",
        "\n",
        "df['Flow Bytes/s'] = convert_datatypes(df['Flow Bytes/s'], 'float32')\n",
        "check_size_dtypes(df['Flow Bytes/s'])"
      ],
      "execution_count": null,
      "outputs": [
        {
          "output_type": "stream",
          "name": "stdout",
          "text": [
            "Trying to convert datatypes for less memory usage\n",
            "100.0 max\n",
            "0.0 min\n",
            "22623008 memory usage\n",
            "11311504  new memory usage| the difference ->  2.0\n",
            "100.0 max\n",
            "0.0 min\n",
            "11311504 This is the memory usage\n",
            "2136031    11.192110\n",
            "1313190    11.249286\n",
            "1065054    11.192430\n",
            "744746     11.192500\n",
            "2545227    11.363636\n",
            "2553886    11.192392\n",
            "1767425    11.192110\n",
            "862388     11.588765\n",
            "183943     11.192110\n",
            "623719     11.192112\n",
            "1040336    11.192659\n",
            "2069029    11.192389\n",
            "527247     11.242249\n",
            "547857     11.207301\n",
            "2055705    11.192119\n",
            "499516     11.197155\n",
            "2033407    11.192204\n",
            "1881014    11.269969\n",
            "2714293    11.301080\n",
            "2580111    11.192110\n",
            "Name: Flow Bytes/s, dtype: float32\n"
          ]
        }
      ]
    },
    {
      "cell_type": "code",
      "metadata": {
        "id": "5mAz2r2EiMkJ"
      },
      "source": [
        ""
      ],
      "execution_count": null,
      "outputs": []
    },
    {
      "cell_type": "code",
      "metadata": {
        "colab": {
          "base_uri": "https://localhost:8080/"
        },
        "id": "0e7J-1p1QX4r",
        "outputId": "1a1771de-6b46-4410-afbf-4110ea73cf57"
      },
      "source": [
        "check_size_dtypes(df[' Flow IAT Mean'])"
      ],
      "execution_count": null,
      "outputs": [
        {
          "output_type": "stream",
          "name": "stdout",
          "text": [
            "100.0 max\n",
            "0.0 min\n",
            "11311504 This is the memory usage\n",
            "666236      0.020133\n",
            "753807      1.580457\n",
            "1627267     0.000012\n",
            "2626419     0.008610\n",
            "796650      0.045332\n",
            "306323      0.000013\n",
            "2223729     0.000231\n",
            "1320548     0.016971\n",
            "493473      0.000062\n",
            "1893102     0.025451\n",
            "1119119     0.006636\n",
            "2170451     0.000415\n",
            "2018252     0.000058\n",
            "842880      0.889371\n",
            "1026203     0.025443\n",
            "339097      0.000078\n",
            "2641225     2.655583\n",
            "1966992     0.347545\n",
            "1527214    17.750010\n",
            "2073259     0.470885\n",
            "Name:  Flow IAT Mean, dtype: float32\n"
          ]
        }
      ]
    },
    {
      "cell_type": "code",
      "metadata": {
        "colab": {
          "base_uri": "https://localhost:8080/"
        },
        "id": "efUpE-z3hl-n",
        "outputId": "974d1150-5f32-4383-f187-93f96009fccc"
      },
      "source": [
        "df[' Flow IAT Mean'] = normalize(df[' Flow IAT Mean'])\n",
        "df[' Flow IAT Mean'] = convert_datatypes(df[' Flow IAT Mean'], 'float32')\n",
        "check_size_dtypes(df[' Flow IAT Mean'])\n"
      ],
      "execution_count": null,
      "outputs": [
        {
          "output_type": "stream",
          "name": "stdout",
          "text": [
            "Trying to convert datatypes for less memory usage\n",
            "100.0 max\n",
            "0.0 min\n",
            "22623008 memory usage\n",
            "11311504  new memory usage| the difference ->  2.0\n",
            "100.0 max\n",
            "0.0 min\n",
            "11311504 This is the memory usage\n",
            "1435607    0.000013\n",
            "120507     0.556506\n",
            "2255704    0.000051\n",
            "1184375    0.000236\n",
            "1350379    0.773931\n",
            "1957814    0.002505\n",
            "436719     0.000051\n",
            "2744732    0.008537\n",
            "2159032    1.436292\n",
            "571542     0.994412\n",
            "2552302    4.101744\n",
            "2763028    0.016343\n",
            "1299515    0.000079\n",
            "208482     0.008682\n",
            "816734     0.000416\n",
            "831125     0.052075\n",
            "2410573    6.293504\n",
            "1054898    0.000057\n",
            "1278702    0.019537\n",
            "236187     0.019771\n",
            "Name:  Flow IAT Mean, dtype: float32\n"
          ]
        }
      ]
    },
    {
      "cell_type": "code",
      "metadata": {
        "colab": {
          "base_uri": "https://localhost:8080/"
        },
        "id": "8gVXqdp2h1Df",
        "outputId": "3496077c-fded-4367-9d11-e7b5f05d9074"
      },
      "source": [
        "print_title('flow IAT STD')"
      ],
      "execution_count": null,
      "outputs": [
        {
          "output_type": "stream",
          "name": "stdout",
          "text": [
            "--------------- flow IAT STD -----------------\n",
            "--------------- flow IAT STD -----------------\n",
            "--------------- flow IAT STD -----------------\n",
            "--------------- flow IAT STD -----------------\n",
            "--------------- flow IAT STD -----------------\n"
          ]
        }
      ]
    },
    {
      "cell_type": "code",
      "metadata": {
        "colab": {
          "base_uri": "https://localhost:8080/"
        },
        "id": "qPY7bTxKhmBf",
        "outputId": "6b8cde34-a7b2-4f9d-88b0-33a6349eb40d"
      },
      "source": [
        " check_size_dtypes(df[' Flow IAT Std'])"
      ],
      "execution_count": null,
      "outputs": [
        {
          "output_type": "stream",
          "name": "stdout",
          "text": [
            "100.0 max\n",
            "0.0 min\n",
            "11311504 This is the memory usage\n",
            "510378     0.048512\n",
            "2545998    0.014187\n",
            "1197986    0.000000\n",
            "951148     0.000158\n",
            "1422767    0.000028\n",
            "171973     0.225598\n",
            "2701320    0.021657\n",
            "943927     7.945436\n",
            "1788683    0.015381\n",
            "2462161    0.000002\n",
            "1485632    0.086848\n",
            "1970946    0.000107\n",
            "2146782    0.000000\n",
            "284970     0.000000\n",
            "451023     0.000000\n",
            "353501     0.000000\n",
            "147014     0.964000\n",
            "1638642    2.590207\n",
            "1835219    0.000125\n",
            "2585205    0.000563\n",
            "Name:  Flow IAT Std, dtype: float32\n"
          ]
        }
      ]
    },
    {
      "cell_type": "code",
      "metadata": {
        "colab": {
          "base_uri": "https://localhost:8080/"
        },
        "id": "K2ihkRzfhmDw",
        "outputId": "3c1a8ac4-db1d-4595-f0d7-4463c71e9540"
      },
      "source": [
        "df[' Flow IAT Std'] = normalize(df[' Flow IAT Std'])\n",
        "df[' Flow IAT Std'] = convert_datatypes(df[' Flow IAT Std'], 'float32')\n",
        "check_size_dtypes(df[' Flow IAT Std'])"
      ],
      "execution_count": null,
      "outputs": [
        {
          "output_type": "stream",
          "name": "stdout",
          "text": [
            "Trying to convert datatypes for less memory usage\n",
            "100.0 max\n",
            "0.0 min\n",
            "22623008 memory usage\n",
            "11311504  new memory usage| the difference ->  2.0\n",
            "100.0 max\n",
            "0.0 min\n",
            "11311504 This is the memory usage\n",
            "857034      0.014247\n",
            "1439265     0.000024\n",
            "1996442     0.016483\n",
            "646454      0.227654\n",
            "1157718     0.026090\n",
            "1494013     0.000000\n",
            "16509       0.054419\n",
            "2108497     0.000000\n",
            "391772      0.000000\n",
            "1769289    30.542358\n",
            "2337558     0.000000\n",
            "1838883     0.000000\n",
            "2756712     2.530047\n",
            "1964716     0.026014\n",
            "497347      0.000000\n",
            "1000364     0.019550\n",
            "1114509     0.021181\n",
            "477670      0.000000\n",
            "1419281     0.000000\n",
            "1680821     4.835661\n",
            "Name:  Flow IAT Std, dtype: float32\n"
          ]
        }
      ]
    },
    {
      "cell_type": "code",
      "metadata": {
        "colab": {
          "base_uri": "https://localhost:8080/"
        },
        "id": "wiWZjlobhmGv",
        "outputId": "560fb2ea-0083-4c9e-ccbc-e23d1c07e0d4"
      },
      "source": [
        "print_title('Flow packets')"
      ],
      "execution_count": null,
      "outputs": [
        {
          "output_type": "stream",
          "name": "stdout",
          "text": [
            "--------------- Flow packets -----------------\n",
            "--------------- Flow packets -----------------\n",
            "--------------- Flow packets -----------------\n",
            "--------------- Flow packets -----------------\n",
            "--------------- Flow packets -----------------\n"
          ]
        }
      ]
    },
    {
      "cell_type": "code",
      "metadata": {
        "colab": {
          "base_uri": "https://localhost:8080/"
        },
        "id": "iuKVAFqWhmJo",
        "outputId": "3673a158-5547-4175-b83d-9d8df05d1559"
      },
      "source": [
        "check_size_dtypes(df[' Flow Packets/s'])"
      ],
      "execution_count": null,
      "outputs": [
        {
          "output_type": "stream",
          "name": "stdout",
          "text": [
            "100.0 max\n",
            "0.0 min\n",
            "11311504 This is the memory usage\n",
            "2024582    33.334415\n",
            "2692653    33.650795\n",
            "1732590    33.334789\n",
            "1450452    41.666668\n",
            "1198917    33.789955\n",
            "1968799    33.333363\n",
            "880006     33.333389\n",
            "522773     33.333870\n",
            "1792321    33.351871\n",
            "42864      33.333363\n",
            "2640588    33.334755\n",
            "2425753    33.333336\n",
            "2561924    33.333813\n",
            "276669     33.691757\n",
            "1841325    33.333351\n",
            "46155      33.333355\n",
            "2548480    33.334846\n",
            "693705     33.333336\n",
            "1875870    33.333340\n",
            "1407738    33.944954\n",
            "Name:  Flow Packets/s, dtype: float32\n"
          ]
        }
      ]
    },
    {
      "cell_type": "code",
      "metadata": {
        "colab": {
          "base_uri": "https://localhost:8080/"
        },
        "id": "vAVp7IduhmMQ",
        "outputId": "1075dc61-a416-4063-c35c-a74e2ab99c41"
      },
      "source": [
        "df[' Flow Packets/s'] = normalize(df[' Flow Packets/s'])\n",
        "df[' Flow Packets/s'] = convert_datatypes(df[' Flow Packets/s'], 'float32')\n",
        "check_size_dtypes(df[' Flow Packets/s'])"
      ],
      "execution_count": null,
      "outputs": [
        {
          "output_type": "stream",
          "name": "stdout",
          "text": [
            "Trying to convert datatypes for less memory usage\n",
            "100.0 max\n",
            "0.0 min\n",
            "22623008 memory usage\n",
            "11311504  new memory usage| the difference ->  2.0\n",
            "100.0 max\n",
            "0.0 min\n",
            "11311504 This is the memory usage\n",
            "2146951    33.656960\n",
            "910525     33.333340\n",
            "2559643    33.333344\n",
            "833770     41.666668\n",
            "1840033    50.000000\n",
            "1004080    33.333340\n",
            "654584     33.663368\n",
            "2226123    33.338085\n",
            "2697436    33.870968\n",
            "561840     33.334599\n",
            "1444948    33.333576\n",
            "2654299    33.486591\n",
            "2535831    33.333961\n",
            "2330355    33.333336\n",
            "438172     33.962265\n",
            "2084295    33.335472\n",
            "1999465    33.406513\n",
            "2344566    33.338543\n",
            "1648006    34.027779\n",
            "1837685    66.666664\n",
            "Name:  Flow Packets/s, dtype: float32\n"
          ]
        }
      ]
    },
    {
      "cell_type": "code",
      "metadata": {
        "colab": {
          "base_uri": "https://localhost:8080/"
        },
        "id": "GGuM6eCmhmPJ",
        "outputId": "7c81c171-7fbc-4a75-9ae1-f500ca44bf01"
      },
      "source": [
        "print_title(' Flow IAT Max')"
      ],
      "execution_count": null,
      "outputs": [
        {
          "output_type": "stream",
          "name": "stdout",
          "text": [
            "---------------  Flow IAT Max -----------------\n",
            "---------------  Flow IAT Max -----------------\n",
            "---------------  Flow IAT Max -----------------\n",
            "---------------  Flow IAT Max -----------------\n",
            "---------------  Flow IAT Max -----------------\n"
          ]
        }
      ]
    },
    {
      "cell_type": "code",
      "metadata": {
        "colab": {
          "base_uri": "https://localhost:8080/"
        },
        "id": "mPyXz4O7hmUY",
        "outputId": "fbe14c68-569c-41b8-9404-d94ddd06ea69"
      },
      "source": [
        " check_size_dtypes(df[' Flow IAT Max'])\n",
        " "
      ],
      "execution_count": null,
      "outputs": [
        {
          "output_type": "stream",
          "name": "stdout",
          "text": [
            "100 max\n",
            "0 min\n",
            "11311504 This is the memory usage\n",
            "161369      0\n",
            "2542715     8\n",
            "1789334     0\n",
            "78002      57\n",
            "1159054     0\n",
            "798684      0\n",
            "150995      0\n",
            "2808969     0\n",
            "296881      0\n",
            "1073853     0\n",
            "44181       5\n",
            "2469565    10\n",
            "830459      0\n",
            "2664913     0\n",
            "122105      8\n",
            "1675726     0\n",
            "1030423     0\n",
            "1966334     0\n",
            "2344639    81\n",
            "1956845     0\n",
            "Name:  Flow IAT Max, dtype: int32\n"
          ]
        }
      ]
    },
    {
      "cell_type": "code",
      "metadata": {
        "colab": {
          "base_uri": "https://localhost:8080/"
        },
        "id": "BKvIHvVjhmXn",
        "outputId": "863258c5-40ce-487f-f80a-47b85c7cf269"
      },
      "source": [
        "df[' Flow IAT Max'] = normalize(df[' Flow IAT Max'])\n",
        "df[' Flow IAT Max'] = convert_datatypes(df[' Flow IAT Max'], 'int32')\n",
        "\n",
        "check_size_dtypes(df[' Flow IAT Max'])"
      ],
      "execution_count": null,
      "outputs": [
        {
          "output_type": "stream",
          "name": "stdout",
          "text": [
            "Trying to convert datatypes for less memory usage\n",
            "100.0 max\n",
            "0.0 min\n",
            "22623008 memory usage\n",
            "11311504  new memory usage| the difference ->  2.0\n",
            "100 max\n",
            "0 min\n",
            "11311504 This is the memory usage\n",
            "217654     8\n",
            "467467     0\n",
            "1393683    0\n",
            "1920873    0\n",
            "278104     0\n",
            "2137289    0\n",
            "2659296    0\n",
            "973141     8\n",
            "562874     0\n",
            "1084557    0\n",
            "568796     0\n",
            "2476710    0\n",
            "2649063    3\n",
            "614594     0\n",
            "1813350    0\n",
            "2148879    0\n",
            "2098050    2\n",
            "1561179    0\n",
            "1609491    0\n",
            "2175870    0\n",
            "Name:  Flow IAT Max, dtype: int32\n"
          ]
        }
      ]
    },
    {
      "cell_type": "code",
      "metadata": {
        "id": "Iiweq7Edh96P"
      },
      "source": [
        ""
      ],
      "execution_count": null,
      "outputs": []
    },
    {
      "cell_type": "code",
      "metadata": {
        "id": "OQivAEF7h985"
      },
      "source": [
        "# check_size_dtypes(df[' Flow IAT Mean'])\n",
        " "
      ],
      "execution_count": null,
      "outputs": []
    },
    {
      "cell_type": "code",
      "metadata": {
        "id": "MmRtFk6Zh9_m"
      },
      "source": [
        "# check_size_dtypes(df[' Flow IAT Max'])"
      ],
      "execution_count": null,
      "outputs": []
    },
    {
      "cell_type": "code",
      "metadata": {
        "colab": {
          "base_uri": "https://localhost:8080/"
        },
        "id": "JKILVVeTh-CL",
        "outputId": "710910e6-c77f-4271-939b-e2d1cb94e9a8"
      },
      "source": [
        "print_title('flow IAT mean')"
      ],
      "execution_count": null,
      "outputs": [
        {
          "output_type": "stream",
          "name": "stdout",
          "text": [
            "--------------- flow IAT mean -----------------\n",
            "--------------- flow IAT mean -----------------\n",
            "--------------- flow IAT mean -----------------\n",
            "--------------- flow IAT mean -----------------\n",
            "--------------- flow IAT mean -----------------\n"
          ]
        }
      ]
    },
    {
      "cell_type": "code",
      "metadata": {
        "colab": {
          "base_uri": "https://localhost:8080/"
        },
        "id": "suZaKT2ih-E_",
        "outputId": "efdcbbbc-400e-4acb-c035-360872e6d3cc"
      },
      "source": [
        "check_size_dtypes(df[' Flow IAT Min'])"
      ],
      "execution_count": null,
      "outputs": [
        {
          "output_type": "stream",
          "name": "stdout",
          "text": [
            "100 max\n",
            "0 min\n",
            "11311504 This is the memory usage\n",
            "2471746    0\n",
            "1820199    0\n",
            "2481523    0\n",
            "680850     0\n",
            "40122      0\n",
            "75980      0\n",
            "2383554    0\n",
            "171650     0\n",
            "2305546    0\n",
            "1001905    0\n",
            "2322434    0\n",
            "1796784    0\n",
            "390688     0\n",
            "2294577    0\n",
            "1192302    0\n",
            "2790573    0\n",
            "580808     0\n",
            "780286     0\n",
            "2225257    0\n",
            "968521     0\n",
            "Name:  Flow IAT Min, dtype: int32\n"
          ]
        }
      ]
    },
    {
      "cell_type": "code",
      "metadata": {
        "colab": {
          "base_uri": "https://localhost:8080/"
        },
        "id": "sO17C4YUh-Hp",
        "outputId": "5b9dde82-3a39-4fb9-dc80-3cd56e5e3690"
      },
      "source": [
        "df[' Flow IAT Min'] = normalize(df[' Flow IAT Min'])\n",
        "df[' Flow IAT Min'] = convert_datatypes(df[' Flow IAT Min'], 'int32')\n",
        "check_size_dtypes(df[' Flow IAT Min'])\n",
        "\n",
        "# df[' Flow IAT Min'].value_counts()"
      ],
      "execution_count": null,
      "outputs": [
        {
          "output_type": "stream",
          "name": "stdout",
          "text": [
            "Trying to convert datatypes for less memory usage\n",
            "100.0 max\n",
            "0.0 min\n",
            "22623008 memory usage\n",
            "11311504  new memory usage| the difference ->  2.0\n",
            "100 max\n",
            "0 min\n",
            "11311504 This is the memory usage\n",
            "87404       0\n",
            "1632581     0\n",
            "1057328     0\n",
            "2555864     0\n",
            "2441859     0\n",
            "2734883     0\n",
            "2141722     0\n",
            "368765      0\n",
            "452046      0\n",
            "2015063     0\n",
            "255004      0\n",
            "2004948     0\n",
            "2519685     0\n",
            "2452755     0\n",
            "637410      0\n",
            "1957835     0\n",
            "984737      0\n",
            "903951      0\n",
            "1872706    53\n",
            "323679      0\n",
            "Name:  Flow IAT Min, dtype: int32\n"
          ]
        }
      ]
    },
    {
      "cell_type": "code",
      "metadata": {
        "id": "J9MQ7Ytih-OI"
      },
      "source": [
        ""
      ],
      "execution_count": null,
      "outputs": []
    },
    {
      "cell_type": "code",
      "metadata": {
        "colab": {
          "base_uri": "https://localhost:8080/"
        },
        "id": "Ql0ijaJ6jz3u",
        "outputId": "1a0a83fd-64b0-483a-ab20-9abc1ef44712"
      },
      "source": [
        "print_title('FWD IAT Total')"
      ],
      "execution_count": null,
      "outputs": [
        {
          "output_type": "stream",
          "name": "stdout",
          "text": [
            "--------------- FWD IAT Total -----------------\n",
            "--------------- FWD IAT Total -----------------\n",
            "--------------- FWD IAT Total -----------------\n",
            "--------------- FWD IAT Total -----------------\n",
            "--------------- FWD IAT Total -----------------\n"
          ]
        }
      ]
    },
    {
      "cell_type": "code",
      "metadata": {
        "colab": {
          "base_uri": "https://localhost:8080/"
        },
        "id": "k24bMoFFiScy",
        "outputId": "df95fe0e-5c49-4a1a-ddd7-d10117c67e72"
      },
      "source": [
        "check_size_dtypes(df['Fwd IAT Total'])"
      ],
      "execution_count": null,
      "outputs": [
        {
          "output_type": "stream",
          "name": "stdout",
          "text": [
            "120000000 max\n",
            "0 min\n",
            "22623008 This is the memory usage\n",
            "1540808           0\n",
            "2000322           0\n",
            "2784990          14\n",
            "1398201           3\n",
            "971284            0\n",
            "311558            4\n",
            "2480898       46661\n",
            "97563      80300000\n",
            "2459186           3\n",
            "715157     60587018\n",
            "333475            0\n",
            "486772        33306\n",
            "1472735           4\n",
            "2687224         956\n",
            "2264351    86100000\n",
            "82941      11700000\n",
            "2231897       13994\n",
            "1708374    19400000\n",
            "129327            0\n",
            "581815            5\n",
            "Name: Fwd IAT Total, dtype: int64\n"
          ]
        }
      ]
    },
    {
      "cell_type": "code",
      "metadata": {
        "colab": {
          "base_uri": "https://localhost:8080/"
        },
        "id": "0fZ7smqsiSfV",
        "outputId": "edf4353f-5c54-4709-f946-996d517bfc05"
      },
      "source": [
        "df['Fwd IAT Total'] = normalize(df['Fwd IAT Total'])\n",
        "df['Fwd IAT Total'] = convert_datatypes(df['Fwd IAT Total'], 'float32')\n",
        "\n",
        "check_size_dtypes(df['Fwd IAT Total'])\n"
      ],
      "execution_count": null,
      "outputs": [
        {
          "output_type": "stream",
          "name": "stdout",
          "text": [
            "Trying to convert datatypes for less memory usage\n",
            "100.0 max\n",
            "0.0 min\n",
            "22623008 memory usage\n",
            "11311504  new memory usage| the difference ->  2.0\n",
            "100.0 max\n",
            "0.0 min\n",
            "11311504 This is the memory usage\n",
            "2309823    82.000000\n",
            "357222      0.000000\n",
            "2650739     3.997020\n",
            "855896      0.000133\n",
            "1920532     0.000000\n",
            "205885      0.037113\n",
            "2380316    82.250000\n",
            "900034      0.000002\n",
            "760214     50.776554\n",
            "1285379     0.506390\n",
            "1631546     0.000002\n",
            "1072613     0.000000\n",
            "402179      0.000000\n",
            "1234520     0.000000\n",
            "26069       3.384928\n",
            "983816     96.995003\n",
            "420053      0.000000\n",
            "1049520     0.000000\n",
            "1745798     0.043633\n",
            "295683     14.666667\n",
            "Name: Fwd IAT Total, dtype: float32\n"
          ]
        }
      ]
    },
    {
      "cell_type": "code",
      "metadata": {
        "id": "Z7Ahl-lPiSiG",
        "colab": {
          "base_uri": "https://localhost:8080/"
        },
        "outputId": "30337e00-77b2-4c0e-e928-0604cfe13e12"
      },
      "source": [
        "print_title('FWD IAT MEAN')"
      ],
      "execution_count": null,
      "outputs": [
        {
          "output_type": "stream",
          "name": "stdout",
          "text": [
            "--------------- FWD IAT MEAN -----------------\n",
            "--------------- FWD IAT MEAN -----------------\n",
            "--------------- FWD IAT MEAN -----------------\n",
            "--------------- FWD IAT MEAN -----------------\n",
            "--------------- FWD IAT MEAN -----------------\n"
          ]
        }
      ]
    },
    {
      "cell_type": "code",
      "metadata": {
        "colab": {
          "base_uri": "https://localhost:8080/"
        },
        "id": "dsNguEaWiSlI",
        "outputId": "89b260f3-4414-4ec8-8302-cae42b053591"
      },
      "source": [
        " check_size_dtypes(df[' Fwd IAT Mean'])\n"
      ],
      "execution_count": null,
      "outputs": [
        {
          "output_type": "stream",
          "name": "stdout",
          "text": [
            "120000000.0 max\n",
            "0.0 min\n",
            "22623008 This is the memory usage\n",
            "2536406    1.357000e+03\n",
            "325488     0.000000e+00\n",
            "1089952    1.990000e+02\n",
            "1599233    0.000000e+00\n",
            "1354362    2.000000e+00\n",
            "2497730    1.323946e+06\n",
            "1163413    4.000000e+00\n",
            "2628739    3.829424e+04\n",
            "982558     4.796057e+04\n",
            "1427581    4.900000e+01\n",
            "2454064    1.666667e+00\n",
            "2389733    1.700000e+07\n",
            "1949602    5.903000e+03\n",
            "500339     0.000000e+00\n",
            "2630556    1.394849e+06\n",
            "50993      0.000000e+00\n",
            "829864     1.076115e+04\n",
            "2664599    4.000000e+00\n",
            "768926     0.000000e+00\n",
            "1540629    0.000000e+00\n",
            "Name:  Fwd IAT Mean, dtype: float64\n"
          ]
        }
      ]
    },
    {
      "cell_type": "code",
      "metadata": {
        "colab": {
          "base_uri": "https://localhost:8080/"
        },
        "id": "VkFy5lRbiSn1",
        "outputId": "f991c78d-a2c8-4708-9499-2f31f262d0f8"
      },
      "source": [
        "df[' Fwd IAT Mean'] = normalize(df[' Fwd IAT Mean'])\n",
        "df[' Fwd IAT Mean'] = convert_datatypes(df[' Fwd IAT Mean'], 'float32')\n",
        "\n",
        "check_size_dtypes(df[' Fwd IAT Mean'])\n"
      ],
      "execution_count": null,
      "outputs": [
        {
          "output_type": "stream",
          "name": "stdout",
          "text": [
            "Trying to convert datatypes for less memory usage\n",
            "100.0 max\n",
            "0.0 min\n",
            "22623008 memory usage\n",
            "11311504  new memory usage| the difference ->  2.0\n",
            "100.0 max\n",
            "0.0 min\n",
            "11311504 This is the memory usage\n",
            "2342995    1.175000e+01\n",
            "1416747    1.250000e-05\n",
            "2693066    4.083333e-05\n",
            "1870525    0.000000e+00\n",
            "409785     0.000000e+00\n",
            "87781      1.375000e+01\n",
            "270077     2.500000e-06\n",
            "1394695    2.500000e-06\n",
            "1408374    8.333333e-07\n",
            "1476954    2.500000e-06\n",
            "61310      0.000000e+00\n",
            "820964     9.297560e-03\n",
            "2091540    1.316667e+01\n",
            "2433905    9.250000e+00\n",
            "2207072    2.378681e+00\n",
            "2798057    0.000000e+00\n",
            "1583890    0.000000e+00\n",
            "428433     0.000000e+00\n",
            "1589828    4.106494e+00\n",
            "1619490    2.441417e-02\n",
            "Name:  Fwd IAT Mean, dtype: float32\n"
          ]
        }
      ]
    },
    {
      "cell_type": "code",
      "metadata": {
        "colab": {
          "base_uri": "https://localhost:8080/"
        },
        "id": "aBnejvuJiSqt",
        "outputId": "45e2981a-29ba-4577-ac8b-d7a359da25f1"
      },
      "source": [
        "print_title(' Fwd IAT Std')"
      ],
      "execution_count": null,
      "outputs": [
        {
          "output_type": "stream",
          "name": "stdout",
          "text": [
            "---------------  Fwd IAT Std -----------------\n",
            "---------------  Fwd IAT Std -----------------\n",
            "---------------  Fwd IAT Std -----------------\n",
            "---------------  Fwd IAT Std -----------------\n",
            "---------------  Fwd IAT Std -----------------\n"
          ]
        }
      ]
    },
    {
      "cell_type": "code",
      "metadata": {
        "id": "msrgCTGmt6xi"
      },
      "source": [
        "df.replace([np.inf, -np.inf], np.nan, inplace=True)\n",
        "  \n",
        "# Dropping all the rows with nan values\n",
        "df.dropna(inplace=True)"
      ],
      "execution_count": null,
      "outputs": []
    },
    {
      "cell_type": "code",
      "metadata": {
        "colab": {
          "base_uri": "https://localhost:8080/"
        },
        "id": "8ZaXQInFV2Mh",
        "outputId": "47ba488c-7e00-4d99-82b5-1ae180529c0c"
      },
      "source": [
        "check_size_dtypes(df[' Fwd IAT Std'])\n"
      ],
      "execution_count": null,
      "outputs": [
        {
          "output_type": "stream",
          "name": "stdout",
          "text": [
            "84602929.2769822 max\n",
            "0.0 min\n",
            "22623008 This is the memory usage\n",
            "2700108    0.000000e+00\n",
            "2388444    3.730000e+07\n",
            "106515     2.720000e+07\n",
            "1664770    3.849037e+06\n",
            "1619465    0.000000e+00\n",
            "504620     0.000000e+00\n",
            "1439428    0.000000e+00\n",
            "52542      0.000000e+00\n",
            "343057     0.000000e+00\n",
            "1182175    3.394113e+01\n",
            "667382     0.000000e+00\n",
            "2348820    2.980000e+07\n",
            "2362234    4.390000e+07\n",
            "1090158    0.000000e+00\n",
            "1191114    0.000000e+00\n",
            "1858701    5.612615e+04\n",
            "1308934    4.599845e+06\n",
            "1596869    0.000000e+00\n",
            "1962573    0.000000e+00\n",
            "1092952    0.000000e+00\n",
            "Name:  Fwd IAT Std, dtype: float64\n"
          ]
        }
      ]
    },
    {
      "cell_type": "code",
      "metadata": {
        "colab": {
          "base_uri": "https://localhost:8080/"
        },
        "id": "t9WnLeKUiStz",
        "outputId": "57da38b2-39ce-4332-b364-3f110e07e224"
      },
      "source": [
        " \n",
        "df[' Fwd IAT Std']= normalize(df[' Fwd IAT Std'])\n",
        "df[' Fwd IAT Std']= convert_datatypes(df[' Fwd IAT Std'], 'float32')\n",
        "check_size_dtypes(df[' Fwd IAT Std'])\n"
      ],
      "execution_count": null,
      "outputs": [
        {
          "output_type": "stream",
          "name": "stdout",
          "text": [
            "Trying to convert datatypes for less memory usage\n",
            "100.0 max\n",
            "0.0 min\n",
            "22623008 memory usage\n",
            "11311504  new memory usage| the difference ->  2.0\n",
            "100.0 max\n",
            "0.0 min\n",
            "11311504 This is the memory usage\n",
            "39943      0.000000\n",
            "941627     4.915241\n",
            "2535603    0.000000\n",
            "394104     0.000000\n",
            "1209122    0.000000\n",
            "871363     0.000000\n",
            "2686906    0.000000\n",
            "974737     0.000000\n",
            "2612403    0.000002\n",
            "2122904    0.000000\n",
            "1682839    5.881292\n",
            "2092343    0.000000\n",
            "2829141    0.000000\n",
            "1283678    0.000000\n",
            "374572     0.000000\n",
            "944288     0.000000\n",
            "2006542    0.000000\n",
            "1622188    0.070722\n",
            "1277106    0.000000\n",
            "1469325    5.908455\n",
            "Name:  Fwd IAT Std, dtype: float32\n"
          ]
        }
      ]
    },
    {
      "cell_type": "code",
      "metadata": {
        "id": "uioaJFmDiSwy",
        "colab": {
          "base_uri": "https://localhost:8080/"
        },
        "outputId": "028901da-f524-4a4d-9747-c0f796596729"
      },
      "source": [
        " check_size_dtypes(df[' Fwd IAT Std'])\n"
      ],
      "execution_count": null,
      "outputs": [
        {
          "output_type": "stream",
          "name": "stdout",
          "text": [
            "100.0 max\n",
            "0.0 min\n",
            "11311504 This is the memory usage\n",
            "1078823     0.000000\n",
            "706451      0.027281\n",
            "2718852     0.000000\n",
            "2112861     0.000000\n",
            "111178      0.000000\n",
            "367410      0.000000\n",
            "1226523     0.000000\n",
            "1454702     0.000000\n",
            "87440       0.000000\n",
            "1937798     0.000000\n",
            "1739294     4.175400\n",
            "1952792     0.113086\n",
            "1129288     0.000000\n",
            "2610772     0.000000\n",
            "650771     18.320879\n",
            "979291      0.000000\n",
            "2360635     0.000000\n",
            "1503768     0.000000\n",
            "1152712     0.000000\n",
            "1596837     0.000000\n",
            "Name:  Fwd IAT Std, dtype: float32\n"
          ]
        }
      ]
    },
    {
      "cell_type": "code",
      "metadata": {
        "colab": {
          "base_uri": "https://localhost:8080/"
        },
        "id": "Ur1c2VcdiS1x",
        "outputId": "592250df-4f17-4eed-bf0c-4168de84f232"
      },
      "source": [
        "print_title(\"FWD IAT MAX\")"
      ],
      "execution_count": null,
      "outputs": [
        {
          "output_type": "stream",
          "name": "stdout",
          "text": [
            "--------------- FWD IAT MAX -----------------\n",
            "--------------- FWD IAT MAX -----------------\n",
            "--------------- FWD IAT MAX -----------------\n",
            "--------------- FWD IAT MAX -----------------\n",
            "--------------- FWD IAT MAX -----------------\n"
          ]
        }
      ]
    },
    {
      "cell_type": "code",
      "metadata": {
        "colab": {
          "base_uri": "https://localhost:8080/"
        },
        "id": "L387tHIIiS9r",
        "outputId": "d9f6121f-e1a8-46e9-a2e0-95c395ad0994"
      },
      "source": [
        " check_size_dtypes(df[' Fwd IAT Max'])"
      ],
      "execution_count": null,
      "outputs": [
        {
          "output_type": "stream",
          "name": "stdout",
          "text": [
            "120000000 max\n",
            "0 min\n",
            "22623008 This is the memory usage\n",
            "628149            0\n",
            "34390          1197\n",
            "536576            1\n",
            "1056581    10060765\n",
            "650811     10500000\n",
            "2342972    98700000\n",
            "351697            0\n",
            "1369267          48\n",
            "2704300     6904733\n",
            "59285             3\n",
            "504779            0\n",
            "467084            0\n",
            "1422889          47\n",
            "176160            0\n",
            "97004         32009\n",
            "378812            0\n",
            "283375     58900000\n",
            "2652998           0\n",
            "2088638           0\n",
            "1341903           3\n",
            "Name:  Fwd IAT Max, dtype: int64\n"
          ]
        }
      ]
    },
    {
      "cell_type": "code",
      "metadata": {
        "colab": {
          "base_uri": "https://localhost:8080/"
        },
        "id": "6U63uiODjNj_",
        "outputId": "30bc84d6-2963-4a87-ebfe-131dcc155fe0"
      },
      "source": [
        "# df[' Fwd IAT Max'] = normalize(df[' Fwd IAT Max']) \n",
        "df[' Fwd IAT Max'] = convert_datatypes(df[' Fwd IAT Max'], 'int32')\n",
        "check_size_dtypes(df[' Fwd IAT Max'])"
      ],
      "execution_count": null,
      "outputs": [
        {
          "output_type": "stream",
          "name": "stdout",
          "text": [
            "Trying to convert datatypes for less memory usage\n",
            "120000000 max\n",
            "0 min\n",
            "22623008 memory usage\n",
            "11311504  new memory usage| the difference ->  2.0\n",
            "120000000 max\n",
            "0 min\n",
            "11311504 This is the memory usage\n",
            "2615330         214\n",
            "2321743    98700000\n",
            "1441399          46\n",
            "2775396     5564078\n",
            "1456053       39101\n",
            "2490284           3\n",
            "1627896           3\n",
            "2474392           0\n",
            "718968     44974016\n",
            "65491       9868870\n",
            "452325            0\n",
            "2226700       12996\n",
            "83986      71200000\n",
            "1180436           1\n",
            "762004            0\n",
            "42755             0\n",
            "2555484      235275\n",
            "514589            0\n",
            "2702975           3\n",
            "1064833       30248\n",
            "Name:  Fwd IAT Max, dtype: int32\n"
          ]
        }
      ]
    },
    {
      "cell_type": "code",
      "metadata": {
        "id": "HIpMl4UrjNm0"
      },
      "source": [
        ""
      ],
      "execution_count": null,
      "outputs": []
    },
    {
      "cell_type": "code",
      "metadata": {
        "colab": {
          "base_uri": "https://localhost:8080/"
        },
        "id": "IleWoYlijNpe",
        "outputId": "1dc2fc0a-15f9-4783-be4d-9174139873d4"
      },
      "source": [
        " print_title(' Fwd IAT Min')\n",
        " check_size_dtypes(df[' Fwd IAT Min'])"
      ],
      "execution_count": null,
      "outputs": [
        {
          "output_type": "stream",
          "name": "stdout",
          "text": [
            "---------------  Fwd IAT Min -----------------\n",
            "---------------  Fwd IAT Min -----------------\n",
            "---------------  Fwd IAT Min -----------------\n",
            "---------------  Fwd IAT Min -----------------\n",
            "---------------  Fwd IAT Min -----------------\n",
            "120000000 max\n",
            "-12 min\n",
            "22623008 This is the memory usage\n",
            "430384            0\n",
            "2714713           0\n",
            "2597842         352\n",
            "1416113          49\n",
            "780150       117879\n",
            "2728850           3\n",
            "2453091           0\n",
            "2560413    20300000\n",
            "1538659           2\n",
            "2132201           1\n",
            "1096636           0\n",
            "242282           47\n",
            "2206928      997581\n",
            "148298           49\n",
            "2014766           4\n",
            "1348748           3\n",
            "420321            0\n",
            "135095          101\n",
            "67590          1006\n",
            "2549629           3\n",
            "Name:  Fwd IAT Min, dtype: int64\n"
          ]
        }
      ]
    },
    {
      "cell_type": "code",
      "metadata": {
        "colab": {
          "base_uri": "https://localhost:8080/"
        },
        "id": "vWXUxKCFjNsR",
        "outputId": "ca8940f2-f468-47fd-a4f1-5f3f7b2ecf4b"
      },
      "source": [
        "df[' Fwd IAT Min'] = normalize(df[' Fwd IAT Min'])\n",
        "df[' Fwd IAT Min'] = convert_datatypes(df[' Fwd IAT Min'], 'float32')\n",
        "check_size_dtypes(df[' Fwd IAT Min'])"
      ],
      "execution_count": null,
      "outputs": [
        {
          "output_type": "stream",
          "name": "stdout",
          "text": [
            "Trying to convert datatypes for less memory usage\n",
            "100.0 max\n",
            "0.0 min\n",
            "22623008 memory usage\n",
            "11311504  new memory usage| the difference ->  2.0\n",
            "100.0 max\n",
            "0.0 min\n",
            "11311504 This is the memory usage\n",
            "2203860     0.000012\n",
            "250761      0.265286\n",
            "1950384     0.000060\n",
            "2306238     0.000012\n",
            "2425404     0.000012\n",
            "1754455     0.000010\n",
            "1678103     0.000108\n",
            "2755721     0.000011\n",
            "1827880     0.000013\n",
            "551346      0.000028\n",
            "2223607     0.000012\n",
            "1198051     0.000051\n",
            "264209      0.000012\n",
            "2678992     0.000013\n",
            "197172      0.000142\n",
            "197096      0.000099\n",
            "1151008     0.000011\n",
            "1490058    60.083336\n",
            "2730648     0.000665\n",
            "2607278     0.000173\n",
            "Name:  Fwd IAT Min, dtype: float32\n"
          ]
        }
      ]
    },
    {
      "cell_type": "code",
      "metadata": {
        "colab": {
          "base_uri": "https://localhost:8080/"
        },
        "id": "L1ZS7qkBjNu-",
        "outputId": "a1e4a1a3-9297-40a1-f6c4-82506cc24def"
      },
      "source": [
        "len(ll)"
      ],
      "execution_count": null,
      "outputs": [
        {
          "output_type": "execute_result",
          "data": {
            "text/plain": [
              "0"
            ]
          },
          "metadata": {},
          "execution_count": 150
        }
      ]
    },
    {
      "cell_type": "code",
      "metadata": {
        "id": "8-0vYShijNxi",
        "colab": {
          "base_uri": "https://localhost:8080/"
        },
        "outputId": "6bd73648-50de-402a-d191-a58cdad8f11a"
      },
      "source": [
        "print_title('Bwd IAT Total')"
      ],
      "execution_count": null,
      "outputs": [
        {
          "output_type": "stream",
          "name": "stdout",
          "text": [
            "--------------- Bwd IAT Total -----------------\n",
            "--------------- Bwd IAT Total -----------------\n",
            "--------------- Bwd IAT Total -----------------\n",
            "--------------- Bwd IAT Total -----------------\n",
            "--------------- Bwd IAT Total -----------------\n"
          ]
        }
      ]
    },
    {
      "cell_type": "code",
      "metadata": {
        "colab": {
          "base_uri": "https://localhost:8080/"
        },
        "id": "Z-i4tjBC8O2C",
        "outputId": "cfdd471a-d3e5-4da4-dfe6-19897f8e0e48"
      },
      "source": [
        "check_size_dtypes(df['Bwd IAT Total'])\n"
      ],
      "execution_count": null,
      "outputs": [
        {
          "output_type": "stream",
          "name": "stdout",
          "text": [
            "120000000 max\n",
            "0 min\n",
            "22623008 This is the memory usage\n",
            "1768994            0\n",
            "852424     110600845\n",
            "2331564       149414\n",
            "2580387           47\n",
            "2203209            0\n",
            "978601             0\n",
            "883777      19191220\n",
            "2813664            0\n",
            "376444             0\n",
            "313424             0\n",
            "471867             3\n",
            "2368149     84900000\n",
            "1403857            0\n",
            "1618835            0\n",
            "2122252            3\n",
            "1989616            3\n",
            "1015880            0\n",
            "704590      67999776\n",
            "961476        285333\n",
            "1014167        84841\n",
            "Name: Bwd IAT Total, dtype: int64\n"
          ]
        }
      ]
    },
    {
      "cell_type": "code",
      "metadata": {
        "id": "6NgcBRvawVen",
        "colab": {
          "base_uri": "https://localhost:8080/"
        },
        "outputId": "ae25dc49-b0dc-46ab-9692-fe1bae2df0cb"
      },
      "source": [
        "df['Bwd IAT Total'] = convert_datatypes(df['Bwd IAT Total'], 'int32')\n",
        "check_size_dtypes(df['Bwd IAT Total'])\n",
        "\n",
        "\n",
        "\n",
        "# df['Bwd IAT Total']\n",
        "# df[' Bwd IAT Max']\n",
        "# df['Fwd PSH Flags']\n",
        "# df['Fwd Packets/s']"
      ],
      "execution_count": null,
      "outputs": [
        {
          "output_type": "stream",
          "name": "stdout",
          "text": [
            "Trying to convert datatypes for less memory usage\n",
            "120000000 max\n",
            "0 min\n",
            "22623008 memory usage\n",
            "11311504  new memory usage| the difference ->  2.0\n",
            "120000000 max\n",
            "0 min\n",
            "11311504 This is the memory usage\n",
            "1851528            0\n",
            "2103696            0\n",
            "947898             0\n",
            "1548344            0\n",
            "764790             1\n",
            "513226             0\n",
            "1453391            0\n",
            "857454             0\n",
            "2695591            0\n",
            "1933075    119000000\n",
            "2030714            0\n",
            "196599             0\n",
            "1093125            4\n",
            "1162141            3\n",
            "57562         490674\n",
            "765465             0\n",
            "2298610       146435\n",
            "417993             0\n",
            "1755731      9004001\n",
            "1584097            0\n",
            "Name: Bwd IAT Total, dtype: int32\n"
          ]
        }
      ]
    },
    {
      "cell_type": "code",
      "metadata": {
        "id": "xXaD7gu9wVhR",
        "colab": {
          "base_uri": "https://localhost:8080/"
        },
        "outputId": "d05afe31-c332-453b-99ba-ae8608ae5356"
      },
      "source": [
        "print_title(' Bwd IAT Max')\n",
        "# df[' Bwd IAT Max']\n"
      ],
      "execution_count": null,
      "outputs": [
        {
          "output_type": "stream",
          "name": "stdout",
          "text": [
            "---------------  Bwd IAT Max -----------------\n",
            "---------------  Bwd IAT Max -----------------\n",
            "---------------  Bwd IAT Max -----------------\n",
            "---------------  Bwd IAT Max -----------------\n",
            "---------------  Bwd IAT Max -----------------\n"
          ]
        }
      ]
    },
    {
      "cell_type": "code",
      "metadata": {
        "colab": {
          "base_uri": "https://localhost:8080/"
        },
        "id": "xCK2bB8-8hT5",
        "outputId": "3ecaad04-f88b-4a0a-ca5c-077d02e522da"
      },
      "source": [
        "df[' Bwd IAT Max'] = convert_datatypes(df[' Bwd IAT Max'], 'int32')\n",
        "check_size_dtypes(df[' Bwd IAT Max'])\n"
      ],
      "execution_count": null,
      "outputs": [
        {
          "output_type": "stream",
          "name": "stdout",
          "text": [
            "Trying to convert datatypes for less memory usage\n",
            "120000000 max\n",
            "0 min\n",
            "22623008 memory usage\n",
            "11311504  new memory usage| the difference ->  2.0\n",
            "120000000 max\n",
            "0 min\n",
            "11311504 This is the memory usage\n",
            "2368529      193160\n",
            "2811752           0\n",
            "1068788          49\n",
            "2239144      132072\n",
            "1148514           1\n",
            "1403562           0\n",
            "836071      3556395\n",
            "2391589    98600000\n",
            "2317344    98900000\n",
            "348014            0\n",
            "1476973           3\n",
            "357739            0\n",
            "2570711          49\n",
            "630795            3\n",
            "2421395           0\n",
            "2084816           3\n",
            "975500            0\n",
            "157163     88300000\n",
            "2266231       30093\n",
            "1792540           0\n",
            "Name:  Bwd IAT Max, dtype: int32\n"
          ]
        }
      ]
    },
    {
      "cell_type": "code",
      "metadata": {
        "id": "2EvjEHCKwVkE",
        "colab": {
          "base_uri": "https://localhost:8080/"
        },
        "outputId": "32f3e3e7-884a-42b2-fcb4-0a8c7c7ea2a0"
      },
      "source": [
        "print_title('Fwd PSH Flags')\n"
      ],
      "execution_count": null,
      "outputs": [
        {
          "output_type": "stream",
          "name": "stdout",
          "text": [
            "--------------- Fwd PSH Flags -----------------\n",
            "--------------- Fwd PSH Flags -----------------\n",
            "--------------- Fwd PSH Flags -----------------\n",
            "--------------- Fwd PSH Flags -----------------\n",
            "--------------- Fwd PSH Flags -----------------\n"
          ]
        }
      ]
    },
    {
      "cell_type": "code",
      "metadata": {
        "colab": {
          "base_uri": "https://localhost:8080/"
        },
        "id": "D66tiWO985Cf",
        "outputId": "b3c50651-e4fd-451b-e09c-6df6a9f67e90"
      },
      "source": [
        "df['Fwd PSH Flags'] = convert_datatypes(df['Fwd PSH Flags'], 'int8')\n",
        "check_size_dtypes(df['Fwd PSH Flags'])"
      ],
      "execution_count": null,
      "outputs": [
        {
          "output_type": "stream",
          "name": "stdout",
          "text": [
            "Trying to convert datatypes for less memory usage\n",
            "1 max\n",
            "0 min\n",
            "22623008 memory usage\n",
            "2827876  new memory usage| the difference ->  8.0\n",
            "1 max\n",
            "0 min\n",
            "2827876 This is the memory usage\n",
            "771355     0\n",
            "1404280    0\n",
            "802432     0\n",
            "781462     0\n",
            "2499855    0\n",
            "1867905    0\n",
            "1186995    0\n",
            "1679251    0\n",
            "1748919    0\n",
            "2413941    0\n",
            "2005806    0\n",
            "2067417    0\n",
            "2421449    0\n",
            "520076     0\n",
            "1924519    0\n",
            "973583     0\n",
            "865296     0\n",
            "2254835    0\n",
            "1824506    0\n",
            "2630665    0\n",
            "Name: Fwd PSH Flags, dtype: int8\n"
          ]
        }
      ]
    },
    {
      "cell_type": "code",
      "metadata": {
        "colab": {
          "base_uri": "https://localhost:8080/"
        },
        "id": "FKnQ0ek09RvH",
        "outputId": "9b9f3401-b22c-4521-c383-8bfbf3d1109e"
      },
      "source": [
        "print_title('Fwd Packets/s')"
      ],
      "execution_count": null,
      "outputs": [
        {
          "output_type": "stream",
          "name": "stdout",
          "text": [
            "--------------- Fwd Packets/s -----------------\n",
            "--------------- Fwd Packets/s -----------------\n",
            "--------------- Fwd Packets/s -----------------\n",
            "--------------- Fwd Packets/s -----------------\n",
            "--------------- Fwd Packets/s -----------------\n"
          ]
        }
      ]
    },
    {
      "cell_type": "code",
      "metadata": {
        "id": "_uGY0JpMwVmV",
        "colab": {
          "base_uri": "https://localhost:8080/"
        },
        "outputId": "192f2bd5-a51c-4e9d-eeb2-cae4e08cd0a3"
      },
      "source": [
        "\n",
        "df['Fwd Packets/s'] = normalize(df['Fwd Packets/s'])\n",
        "df['Fwd Packets/s'] = convert_datatypes(df['Fwd Packets/s'], 'float32')\n",
        "check_size_dtypes(df['Fwd Packets/s'])"
      ],
      "execution_count": null,
      "outputs": [
        {
          "output_type": "stream",
          "name": "stdout",
          "text": [
            "Trying to convert datatypes for less memory usage\n",
            "100.0 max\n",
            "0.0 min\n",
            "22623008 memory usage\n",
            "11311504  new memory usage| the difference ->  2.0\n",
            "100.0 max\n",
            "0.0 min\n",
            "11311504 This is the memory usage\n",
            "150357     1.303934e-03\n",
            "499518     6.535948e-01\n",
            "207333     2.222222e+01\n",
            "2455815    1.308472e-01\n",
            "2592833    5.345160e-05\n",
            "1109618    1.404780e-03\n",
            "248148     4.295810e-03\n",
            "908786     1.389120e-03\n",
            "845192     2.624672e-01\n",
            "899946     8.960140e-04\n",
            "2817388    6.494941e-04\n",
            "1154291    8.547009e-01\n",
            "1902779    1.237946e-04\n",
            "467780     7.246377e-01\n",
            "750477     9.087755e-07\n",
            "1429419    1.149425e+00\n",
            "1429080    1.388889e+00\n",
            "1170338    4.016064e-01\n",
            "1010054    2.122268e-05\n",
            "2066290    1.522070e-01\n",
            "Name: Fwd Packets/s, dtype: float32\n"
          ]
        }
      ]
    },
    {
      "cell_type": "code",
      "metadata": {
        "id": "cJbSIgo2wVpJ"
      },
      "source": [
        "# print_title(' Packet Length Std')"
      ],
      "execution_count": null,
      "outputs": []
    },
    {
      "cell_type": "code",
      "metadata": {
        "id": "VR8O8DTa0Qlg",
        "colab": {
          "base_uri": "https://localhost:8080/"
        },
        "outputId": "f4983b2e-9d7b-4583-ba98-06c95046ce8c"
      },
      "source": [
        "check_size_dtypes(df[' Packet Length Std'])"
      ],
      "execution_count": null,
      "outputs": [
        {
          "output_type": "stream",
          "name": "stdout",
          "text": [
            "4731.522394 max\n",
            "0.0 min\n",
            "22623008 This is the memory usage\n",
            "2516328       0.000000\n",
            "543515        0.000000\n",
            "1760806      38.105118\n",
            "1623437      15.500000\n",
            "2524109      69.282032\n",
            "1117217       8.763561\n",
            "1018470     609.106319\n",
            "2759667      21.908902\n",
            "741368        0.000000\n",
            "1455009       2.190890\n",
            "2256028    1579.360777\n",
            "694802      532.379970\n",
            "144980        0.000000\n",
            "1172096       0.000000\n",
            "317407        2.309401\n",
            "201917       31.220186\n",
            "2234926    1499.793319\n",
            "1516537       9.237604\n",
            "1343919      16.165808\n",
            "31988         0.000000\n",
            "Name:  Packet Length Std, dtype: float64\n"
          ]
        }
      ]
    },
    {
      "cell_type": "code",
      "metadata": {
        "id": "Mb1Snzcw0Qoi",
        "colab": {
          "base_uri": "https://localhost:8080/"
        },
        "outputId": "317b89e0-d920-41f5-b271-fe12727eed22"
      },
      "source": [
        "df[' Packet Length Std'] = convert_datatypes(df[' Packet Length Std'] ,'float32')\n",
        "check_size_dtypes(df[' Packet Length Std'])"
      ],
      "execution_count": null,
      "outputs": [
        {
          "output_type": "stream",
          "name": "stdout",
          "text": [
            "Trying to convert datatypes for less memory usage\n",
            "4731.522394 max\n",
            "0.0 min\n",
            "22623008 memory usage\n",
            "11311504  new memory usage| the difference ->  2.0\n",
            "4731.5224609375 max\n",
            "0.0 min\n",
            "11311504 This is the memory usage\n",
            "304009        0.000000\n",
            "120497     2931.429443\n",
            "44106      3378.299072\n",
            "2634878       8.763561\n",
            "1378634       2.190890\n",
            "1852129     682.052185\n",
            "84370      3214.167480\n",
            "659868        0.000000\n",
            "1876534      61.199127\n",
            "1474629       0.000000\n",
            "2058649      30.740852\n",
            "1475957       0.000000\n",
            "2650804      85.665215\n",
            "2065722       0.000000\n",
            "2035180       0.000000\n",
            "2531625      49.652122\n",
            "2651325       9.237604\n",
            "2058211       0.000000\n",
            "196006      634.190125\n",
            "1732244       0.000000\n",
            "Name:  Packet Length Std, dtype: float32\n"
          ]
        }
      ]
    },
    {
      "cell_type": "code",
      "metadata": {
        "colab": {
          "base_uri": "https://localhost:8080/"
        },
        "id": "bAAXwdif-Ajk",
        "outputId": "aadcc2db-589b-4409-d515-a46b1031be0b"
      },
      "source": [
        "print_title(' Fwd Header Length')"
      ],
      "execution_count": null,
      "outputs": [
        {
          "output_type": "stream",
          "name": "stdout",
          "text": [
            "---------------  Fwd Header Length -----------------\n",
            "---------------  Fwd Header Length -----------------\n",
            "---------------  Fwd Header Length -----------------\n",
            "---------------  Fwd Header Length -----------------\n",
            "---------------  Fwd Header Length -----------------\n"
          ]
        }
      ]
    },
    {
      "cell_type": "code",
      "metadata": {
        "id": "cKTLgBuN0rGB",
        "colab": {
          "base_uri": "https://localhost:8080/"
        },
        "outputId": "cd130ad2-0cfd-4d5d-bdb1-69f8b7d26f34"
      },
      "source": [
        "# convert_datatypes(df[' Fwd Header Length'] ,'')\n",
        "check_size_dtypes(df[' Fwd Header Length'])\n"
      ],
      "execution_count": null,
      "outputs": [
        {
          "output_type": "stream",
          "name": "stdout",
          "text": [
            "4644908 max\n",
            "-32212234632 min\n",
            "22623008 This is the memory usage\n",
            "2632325      72\n",
            "2215284     104\n",
            "916162       32\n",
            "1241095     328\n",
            "1603142      32\n",
            "1254289    1960\n",
            "2039940      64\n",
            "1747860      64\n",
            "2397464     164\n",
            "1507591     736\n",
            "1985587      20\n",
            "2675571      20\n",
            "2620681     724\n",
            "1002684      20\n",
            "687378       64\n",
            "2183363      32\n",
            "193653       40\n",
            "849074      332\n",
            "1524269      40\n",
            "332551       24\n",
            "Name:  Fwd Header Length, dtype: int64\n"
          ]
        }
      ]
    },
    {
      "cell_type": "code",
      "metadata": {
        "id": "jIu3Zp4N0sep",
        "colab": {
          "base_uri": "https://localhost:8080/"
        },
        "outputId": "b9a3acc6-443c-4b02-9a76-b4a46b235a57"
      },
      "source": [
        "df[' Bwd Header Length'] = normalize(df[' Bwd Header Length'])\n",
        "df[' Bwd Header Length'] = convert_datatypes(df[' Bwd Header Length'] ,'float32')\n",
        "check_size_dtypes(df[' Bwd Header Length'])\n"
      ],
      "execution_count": null,
      "outputs": [
        {
          "output_type": "stream",
          "name": "stdout",
          "text": [
            "Trying to convert datatypes for less memory usage\n",
            "100.0 max\n",
            "0.0 min\n",
            "22623008 memory usage\n",
            "11311504  new memory usage| the difference ->  2.0\n",
            "100.0 max\n",
            "0.0 min\n",
            "11311504 This is the memory usage\n",
            "1565764    99.459198\n",
            "136711     99.459206\n",
            "819153     99.459206\n",
            "822806     99.459190\n",
            "1301382    99.459198\n",
            "756153     99.459190\n",
            "801065     99.459190\n",
            "2550825    99.459198\n",
            "2796756    99.459198\n",
            "1971021    99.459198\n",
            "2491305    99.459221\n",
            "648376     99.459198\n",
            "2795747    99.459198\n",
            "1948459    99.459198\n",
            "990565     99.459198\n",
            "2149245    99.459213\n",
            "1649989    99.459190\n",
            "2275119    99.459198\n",
            "1993068    99.459198\n",
            "2357242    99.459213\n",
            "Name:  Bwd Header Length, dtype: float32\n"
          ]
        }
      ]
    },
    {
      "cell_type": "code",
      "metadata": {
        "colab": {
          "base_uri": "https://localhost:8080/"
        },
        "id": "nbf2udPa-drW",
        "outputId": "328d5883-a862-413f-8407-980b590c8752"
      },
      "source": [
        "print_title(' Min Packet Length')"
      ],
      "execution_count": null,
      "outputs": [
        {
          "output_type": "stream",
          "name": "stdout",
          "text": [
            "---------------  Min Packet Length -----------------\n",
            "---------------  Min Packet Length -----------------\n",
            "---------------  Min Packet Length -----------------\n",
            "---------------  Min Packet Length -----------------\n",
            "---------------  Min Packet Length -----------------\n"
          ]
        }
      ]
    },
    {
      "cell_type": "code",
      "metadata": {
        "colab": {
          "base_uri": "https://localhost:8080/"
        },
        "id": "4MBt6WVv-h5O",
        "outputId": "ba1722a2-74f4-4d9b-8c1f-e1a361125a43"
      },
      "source": [
        "check_size_dtypes(df[' Min Packet Length'])"
      ],
      "execution_count": null,
      "outputs": [
        {
          "output_type": "stream",
          "name": "stdout",
          "text": [
            "1448 max\n",
            "0 min\n",
            "22623008 This is the memory usage\n",
            "96758       0\n",
            "2133213    47\n",
            "1931474     0\n",
            "2012713    73\n",
            "1722995     0\n",
            "1879847     0\n",
            "1373801     2\n",
            "2387465     0\n",
            "1302450     6\n",
            "564379      0\n",
            "847303      6\n",
            "2694724    42\n",
            "2730761     0\n",
            "973545      6\n",
            "2327493     0\n",
            "690439      0\n",
            "1982487    32\n",
            "2810663     0\n",
            "2154037     6\n",
            "1771004     0\n",
            "Name:  Min Packet Length, dtype: int64\n"
          ]
        }
      ]
    },
    {
      "cell_type": "code",
      "metadata": {
        "id": "TGxRex830Qra",
        "colab": {
          "base_uri": "https://localhost:8080/"
        },
        "outputId": "cf75d42c-f798-4a05-ffd6-fdb94bf5f05e"
      },
      "source": [
        "df[' Min Packet Length'] = convert_datatypes(df[' Min Packet Length'] ,'int16')\n",
        "check_size_dtypes(df[' Min Packet Length'])\n",
        " "
      ],
      "execution_count": null,
      "outputs": [
        {
          "output_type": "stream",
          "name": "stdout",
          "text": [
            "Trying to convert datatypes for less memory usage\n",
            "1448 max\n",
            "0 min\n",
            "22623008 memory usage\n",
            "5655752  new memory usage| the difference ->  4.0\n",
            "1448 max\n",
            "0 min\n",
            "5655752 This is the memory usage\n",
            "236579      0\n",
            "2301457     0\n",
            "2691888     0\n",
            "1580288     0\n",
            "2742893    39\n",
            "1425634     2\n",
            "1342526    33\n",
            "1465893     0\n",
            "606674      6\n",
            "1973990    36\n",
            "2470923    38\n",
            "1429229     2\n",
            "263518      6\n",
            "2729188    38\n",
            "570255     34\n",
            "1866415     0\n",
            "421778      0\n",
            "2583620     0\n",
            "754720      0\n",
            "1546856     0\n",
            "Name:  Min Packet Length, dtype: int16\n"
          ]
        }
      ]
    },
    {
      "cell_type": "code",
      "metadata": {
        "colab": {
          "base_uri": "https://localhost:8080/"
        },
        "id": "klQYaXHT-2uI",
        "outputId": "25d72702-d46b-4a91-a0c1-f125cf1bcdb5"
      },
      "source": [
        "print_title('packet length mean')"
      ],
      "execution_count": null,
      "outputs": [
        {
          "output_type": "stream",
          "name": "stdout",
          "text": [
            "--------------- packet length mean -----------------\n",
            "--------------- packet length mean -----------------\n",
            "--------------- packet length mean -----------------\n",
            "--------------- packet length mean -----------------\n",
            "--------------- packet length mean -----------------\n"
          ]
        }
      ]
    },
    {
      "cell_type": "code",
      "metadata": {
        "id": "7oGK9p_50BmV",
        "colab": {
          "base_uri": "https://localhost:8080/"
        },
        "outputId": "069afbda-29f9-460b-ff3c-c84451a42c11"
      },
      "source": [
        "df[' Packet Length Mean'] = convert_datatypes(df[' Packet Length Mean'],'float32') \n",
        "check_size_dtypes(df[' Packet Length Mean'])\n"
      ],
      "execution_count": null,
      "outputs": [
        {
          "output_type": "stream",
          "name": "stdout",
          "text": [
            "Trying to convert datatypes for less memory usage\n",
            "3337.142857 max\n",
            "0.0 min\n",
            "22623008 memory usage\n",
            "11311504  new memory usage| the difference ->  2.0\n",
            "3337.142822265625 max\n",
            "0.0 min\n",
            "11311504 This is the memory usage\n",
            "1339528     86.000000\n",
            "257229       0.000000\n",
            "1060441      0.000000\n",
            "103534     687.470581\n",
            "717139     419.172424\n",
            "1897962     59.000000\n",
            "841644      20.666666\n",
            "931848       0.000000\n",
            "722276     301.666656\n",
            "979538      88.333336\n",
            "106704     897.615356\n",
            "652464     222.324326\n",
            "1106543      0.000000\n",
            "362280       3.333333\n",
            "2671479     64.000000\n",
            "508300      75.400002\n",
            "2610323     67.000000\n",
            "2795990      6.000000\n",
            "1289009      6.000000\n",
            "1418054      3.600000\n",
            "Name:  Packet Length Mean, dtype: float32\n"
          ]
        }
      ]
    },
    {
      "cell_type": "code",
      "metadata": {
        "colab": {
          "base_uri": "https://localhost:8080/"
        },
        "id": "rVmF7BKe_Kn-",
        "outputId": "44a9016f-66ef-43f4-8e88-b63893075696"
      },
      "source": [
        "print_title('Max packet length')"
      ],
      "execution_count": null,
      "outputs": [
        {
          "output_type": "stream",
          "name": "stdout",
          "text": [
            "--------------- Max packet length -----------------\n",
            "--------------- Max packet length -----------------\n",
            "--------------- Max packet length -----------------\n",
            "--------------- Max packet length -----------------\n",
            "--------------- Max packet length -----------------\n"
          ]
        }
      ]
    },
    {
      "cell_type": "code",
      "metadata": {
        "id": "gHIj_2se0BpF",
        "colab": {
          "base_uri": "https://localhost:8080/"
        },
        "outputId": "8cec2377-580f-48a9-fa62-daada638a18c"
      },
      "source": [
        "check_size_dtypes(df[' Max Packet Length'])\n"
      ],
      "execution_count": null,
      "outputs": [
        {
          "output_type": "stream",
          "name": "stdout",
          "text": [
            "24820 max\n",
            "0 min\n",
            "22623008 This is the memory usage\n",
            "1248395     901\n",
            "1310922    4380\n",
            "1778795     179\n",
            "2387141    8688\n",
            "1126116      49\n",
            "620797      152\n",
            "374789        6\n",
            "2294309      46\n",
            "2180618     483\n",
            "1979381     164\n",
            "2241496    5792\n",
            "2136072      86\n",
            "948457        6\n",
            "2818835      72\n",
            "1614308       6\n",
            "1294815      52\n",
            "1624755      72\n",
            "2353202       0\n",
            "2089875      98\n",
            "2528132    1448\n",
            "Name:  Max Packet Length, dtype: int64\n"
          ]
        }
      ]
    },
    {
      "cell_type": "code",
      "metadata": {
        "colab": {
          "base_uri": "https://localhost:8080/"
        },
        "id": "ggR714A4_Sxs",
        "outputId": "2ed9da15-e5ee-49dd-a131-7fdbc916d71f"
      },
      "source": [
        "df[' Max Packet Length'] = convert_datatypes(df[' Max Packet Length'], 'int16')\n",
        "check_size_dtypes(df[' Max Packet Length'])\n"
      ],
      "execution_count": null,
      "outputs": [
        {
          "output_type": "stream",
          "name": "stdout",
          "text": [
            "Trying to convert datatypes for less memory usage\n",
            "24820 max\n",
            "0 min\n",
            "22623008 memory usage\n",
            "5655752  new memory usage| the difference ->  4.0\n",
            "24820 max\n",
            "0 min\n",
            "5655752 This is the memory usage\n",
            "2671618       48\n",
            "2720066        6\n",
            "2598233       76\n",
            "376546         6\n",
            "145372         6\n",
            "1911558     2920\n",
            "2639319     4380\n",
            "1887641     1013\n",
            "70254          6\n",
            "1931559      105\n",
            "123409     11595\n",
            "1329485      107\n",
            "168180     11595\n",
            "792263      1448\n",
            "1844663        0\n",
            "2008214      140\n",
            "46921       8760\n",
            "1136324        0\n",
            "2609967       63\n",
            "71167          6\n",
            "Name:  Max Packet Length, dtype: int16\n"
          ]
        }
      ]
    },
    {
      "cell_type": "code",
      "metadata": {
        "colab": {
          "base_uri": "https://localhost:8080/"
        },
        "id": "rbIkDqVrwVrp",
        "outputId": "d4dbf9a1-59e9-4ea4-c31a-6549f5db049a"
      },
      "source": [
        "print_title('Packet Length Variance')"
      ],
      "execution_count": null,
      "outputs": [
        {
          "output_type": "stream",
          "name": "stdout",
          "text": [
            "--------------- Packet Length Variance -----------------\n",
            "--------------- Packet Length Variance -----------------\n",
            "--------------- Packet Length Variance -----------------\n",
            "--------------- Packet Length Variance -----------------\n",
            "--------------- Packet Length Variance -----------------\n"
          ]
        }
      ]
    },
    {
      "cell_type": "code",
      "metadata": {
        "id": "qcMc5cc0wVuD",
        "colab": {
          "base_uri": "https://localhost:8080/"
        },
        "outputId": "ddb4ad27-ce6a-4cc4-f06f-5334017f49dd"
      },
      "source": [
        "check_size_dtypes(df[' Packet Length Variance'])\n"
      ],
      "execution_count": null,
      "outputs": [
        {
          "output_type": "stream",
          "name": "stdout",
          "text": [
            "22400000.0 max\n",
            "0.0 min\n",
            "22623008 This is the memory usage\n",
            "1163319       235.200000\n",
            "679227        552.250000\n",
            "1495232       554.700000\n",
            "1800345       320.333333\n",
            "1729346      9408.000000\n",
            "1796486         0.000000\n",
            "2166447         0.000000\n",
            "505233          0.000000\n",
            "1996352         0.000000\n",
            "2712153      1228.800000\n",
            "915689       3121.200000\n",
            "1398970      9747.000000\n",
            "1797460    186695.111100\n",
            "2441296         0.000000\n",
            "1483088     22755.356060\n",
            "1749648        65.333333\n",
            "1367090         4.800000\n",
            "1783811        85.333333\n",
            "2701242     12979.200000\n",
            "581975          0.000000\n",
            "Name:  Packet Length Variance, dtype: float64\n"
          ]
        }
      ]
    },
    {
      "cell_type": "code",
      "metadata": {
        "id": "TBAj1Cjc3DTg",
        "colab": {
          "base_uri": "https://localhost:8080/"
        },
        "outputId": "480165ba-2575-40de-f4c2-6545cd0af762"
      },
      "source": [
        "df[' Packet Length Variance'] = normalize(df[' Packet Length Variance'])\n",
        "df[' Packet Length Variance'] = convert_datatypes(df[' Packet Length Variance'], 'float32')\n",
        "check_size_dtypes(df[' Packet Length Variance'])\n"
      ],
      "execution_count": null,
      "outputs": [
        {
          "output_type": "stream",
          "name": "stdout",
          "text": [
            "Trying to convert datatypes for less memory usage\n",
            "100.0 max\n",
            "0.0 min\n",
            "22623008 memory usage\n",
            "11311504  new memory usage| the difference ->  2.0\n",
            "100.0 max\n",
            "0.0 min\n",
            "11311504 This is the memory usage\n",
            "811706      1.522558\n",
            "786041      0.000930\n",
            "1958940     1.966763\n",
            "1508805     0.000000\n",
            "2012377     0.001371\n",
            "2673909     0.001833\n",
            "1759877     0.014292\n",
            "1346601     0.000000\n",
            "85601      32.666359\n",
            "964294      0.078933\n",
            "2333427     0.000048\n",
            "1251097     5.445833\n",
            "2187868     0.000000\n",
            "731319      0.013333\n",
            "694791      0.021943\n",
            "1711666     0.021281\n",
            "270536      0.000000\n",
            "1906350     0.000000\n",
            "2379739     0.000000\n",
            "972047      0.001906\n",
            "Name:  Packet Length Variance, dtype: float32\n"
          ]
        }
      ]
    },
    {
      "cell_type": "code",
      "metadata": {
        "colab": {
          "base_uri": "https://localhost:8080/"
        },
        "id": "qWGKCTUUAjCq",
        "outputId": "884e77a3-e7fd-4878-93eb-f4ff50354091"
      },
      "source": [
        "print_title('fin flag count')"
      ],
      "execution_count": null,
      "outputs": [
        {
          "output_type": "stream",
          "name": "stdout",
          "text": [
            "--------------- fin flag count -----------------\n",
            "--------------- fin flag count -----------------\n",
            "--------------- fin flag count -----------------\n",
            "--------------- fin flag count -----------------\n",
            "--------------- fin flag count -----------------\n"
          ]
        }
      ]
    },
    {
      "cell_type": "code",
      "metadata": {
        "id": "Hze3C1D52aCJ",
        "colab": {
          "base_uri": "https://localhost:8080/"
        },
        "outputId": "607a1a56-c79c-4322-9e20-8f36f26a34db"
      },
      "source": [
        "  # df['FIN Flag Count'] =  convert_datatypes(df['FIN Flag Count', '')\n",
        "check_size_dtypes(df['FIN Flag Count'])\n"
      ],
      "execution_count": null,
      "outputs": [
        {
          "output_type": "stream",
          "name": "stdout",
          "text": [
            "1 max\n",
            "0 min\n",
            "22623008 This is the memory usage\n",
            "2532570    0\n",
            "2295785    0\n",
            "1921254    0\n",
            "650453     0\n",
            "802447     0\n",
            "1601608    0\n",
            "485188     0\n",
            "2285585    0\n",
            "659647     0\n",
            "546465     0\n",
            "821280     0\n",
            "2827568    0\n",
            "2298572    0\n",
            "1662978    0\n",
            "2296105    0\n",
            "613670     0\n",
            "1207874    0\n",
            "1190061    0\n",
            "1642192    0\n",
            "2459185    0\n",
            "Name: FIN Flag Count, dtype: int64\n"
          ]
        }
      ]
    },
    {
      "cell_type": "code",
      "metadata": {
        "id": "4Ri273lO2Z6o",
        "colab": {
          "base_uri": "https://localhost:8080/"
        },
        "outputId": "81edf965-65f4-4575-fbbb-21a0405fcc1e"
      },
      "source": [
        "#  df[' PSH Flag Count'] = convert_datatypes(df[' PSH Flag Count'], 'int8')\n",
        "  \n",
        "check_size_dtypes(df[' PSH Flag Count'])\n",
        "# df[' PSH Flag Count'].value_counts()"
      ],
      "execution_count": null,
      "outputs": [
        {
          "output_type": "stream",
          "name": "stdout",
          "text": [
            "1 max\n",
            "0 min\n",
            "22623008 This is the memory usage\n",
            "2610643    1\n",
            "134491     0\n",
            "2125303    0\n",
            "2056850    0\n",
            "528829     1\n",
            "159450     0\n",
            "1359603    1\n",
            "1388114    1\n",
            "1676634    0\n",
            "1263280    0\n",
            "1688627    0\n",
            "2762777    0\n",
            "1957037    0\n",
            "1207699    0\n",
            "585600     0\n",
            "2712850    0\n",
            "1470780    1\n",
            "2384062    0\n",
            "2255415    0\n",
            "646904     0\n",
            "Name:  PSH Flag Count, dtype: int64\n"
          ]
        }
      ]
    },
    {
      "cell_type": "code",
      "metadata": {
        "id": "RZAru5Xh2Zzw",
        "colab": {
          "base_uri": "https://localhost:8080/"
        },
        "outputId": "294eedc5-e8cf-4ade-d896-eebc6fe23e1a"
      },
      "source": [
        "\n",
        "df[' ACK Flag Count'] =  convert_datatypes(df[' ACK Flag Count'], 'int8')\n",
        "check_size_dtypes(df[' ACK Flag Count'])\n"
      ],
      "execution_count": null,
      "outputs": [
        {
          "output_type": "stream",
          "name": "stdout",
          "text": [
            "Trying to convert datatypes for less memory usage\n",
            "1 max\n",
            "0 min\n",
            "22623008 memory usage\n",
            "2827876  new memory usage| the difference ->  8.0\n",
            "1 max\n",
            "0 min\n",
            "2827876 This is the memory usage\n",
            "2131887    0\n",
            "1679130    1\n",
            "1286373    0\n",
            "543993     1\n",
            "1320565    1\n",
            "149309     1\n",
            "986322     0\n",
            "2165073    1\n",
            "753923     0\n",
            "774591     0\n",
            "1156908    1\n",
            "1944266    0\n",
            "1109392    1\n",
            "370062     0\n",
            "2100269    1\n",
            "275201     0\n",
            "1822059    0\n",
            "74613      1\n",
            "977864     0\n",
            "2337725    0\n",
            "Name:  ACK Flag Count, dtype: int8\n"
          ]
        }
      ]
    },
    {
      "cell_type": "code",
      "metadata": {
        "id": "xYDTLM412ZsQ",
        "colab": {
          "base_uri": "https://localhost:8080/"
        },
        "outputId": "8732de93-e414-4908-d6f6-d09e9fe51a7c"
      },
      "source": [
        "\n",
        "check_size_dtypes(df[' URG Flag Count'])\n",
        "df[' URG Flag Count'] = convert_datatypes(df[' URG Flag Count'], 'int8')"
      ],
      "execution_count": null,
      "outputs": [
        {
          "output_type": "stream",
          "name": "stdout",
          "text": [
            "1 max\n",
            "0 min\n",
            "22623008 This is the memory usage\n",
            "1790938    0\n",
            "188766     0\n",
            "1195691    0\n",
            "528224     0\n",
            "2041329    0\n",
            "2588314    0\n",
            "701796     0\n",
            "1567398    0\n",
            "559134     0\n",
            "2336799    0\n",
            "2691079    0\n",
            "1684970    0\n",
            "2546790    0\n",
            "1508666    0\n",
            "751417     0\n",
            "1494630    0\n",
            "214053     0\n",
            "2445081    0\n",
            "2011535    0\n",
            "745996     0\n",
            "Name:  URG Flag Count, dtype: int64\n",
            "Trying to convert datatypes for less memory usage\n",
            "1 max\n",
            "0 min\n",
            "22623008 memory usage\n",
            "2827876  new memory usage| the difference ->  8.0\n"
          ]
        }
      ]
    },
    {
      "cell_type": "code",
      "metadata": {
        "id": "q1sCuEDI2Zpn",
        "colab": {
          "base_uri": "https://localhost:8080/"
        },
        "outputId": "f7694ce8-9723-4c0c-8c1e-b082ab326376"
      },
      "source": [
        "check_size_dtypes(df[' URG Flag Count'])\n"
      ],
      "execution_count": null,
      "outputs": [
        {
          "output_type": "stream",
          "name": "stdout",
          "text": [
            "1 max\n",
            "0 min\n",
            "2827876 This is the memory usage\n",
            "2609994    0\n",
            "790365     0\n",
            "1633138    1\n",
            "1556353    0\n",
            "2406129    0\n",
            "2562419    0\n",
            "1265329    0\n",
            "2061161    0\n",
            "408204     0\n",
            "1097417    0\n",
            "1261376    0\n",
            "518200     0\n",
            "1439302    0\n",
            "2608273    0\n",
            "1944392    0\n",
            "1186564    1\n",
            "647139     0\n",
            "2474416    0\n",
            "1065607    0\n",
            "717069     0\n",
            "Name:  URG Flag Count, dtype: int8\n"
          ]
        }
      ]
    },
    {
      "cell_type": "code",
      "metadata": {
        "id": "xtIgaa-62ZnI",
        "colab": {
          "base_uri": "https://localhost:8080/"
        },
        "outputId": "7dab8bc7-39a8-4397-a28f-267021ac4fe2"
      },
      "source": [
        "print_title(' Average Packet Size')"
      ],
      "execution_count": null,
      "outputs": [
        {
          "output_type": "stream",
          "name": "stdout",
          "text": [
            "---------------  Average Packet Size -----------------\n",
            "---------------  Average Packet Size -----------------\n",
            "---------------  Average Packet Size -----------------\n",
            "---------------  Average Packet Size -----------------\n",
            "---------------  Average Packet Size -----------------\n"
          ]
        }
      ]
    },
    {
      "cell_type": "code",
      "metadata": {
        "colab": {
          "base_uri": "https://localhost:8080/"
        },
        "id": "y370QzxxB0R3",
        "outputId": "48321a08-ec0f-4012-bc84-7618792550b3"
      },
      "source": [
        "check_size_dtypes(df[' Average Packet Size'])\n"
      ],
      "execution_count": null,
      "outputs": [
        {
          "output_type": "stream",
          "name": "stdout",
          "text": [
            "3893.333333 max\n",
            "0.0 min\n",
            "22623008 This is the memory usage\n",
            "1216185     13.750000\n",
            "198535      89.750000\n",
            "655468      77.000000\n",
            "1607712      0.000000\n",
            "1976036      0.000000\n",
            "394641       3.000000\n",
            "196155       0.000000\n",
            "1943963      0.000000\n",
            "1763789     64.250000\n",
            "2668271      0.000000\n",
            "2207396     76.000000\n",
            "1682955    109.000000\n",
            "1645099     92.500000\n",
            "1962571    242.666667\n",
            "2436260    919.230769\n",
            "2013578     75.250000\n",
            "407316       3.000000\n",
            "2585286    323.666667\n",
            "509498     224.654546\n",
            "1960954     35.833333\n",
            "Name:  Average Packet Size, dtype: float64\n"
          ]
        }
      ]
    },
    {
      "cell_type": "code",
      "metadata": {
        "id": "EzUDSxaM2Zkp",
        "colab": {
          "base_uri": "https://localhost:8080/"
        },
        "outputId": "05d206c9-f0b1-48cd-c716-0644a099604a"
      },
      "source": [
        "df[' Average Packet Size'] = convert_datatypes(df[' Average Packet Size'], 'float32')\n",
        "check_size_dtypes(df[' Average Packet Size'])\n",
        "\n",
        "\n",
        "\n",
        "\n",
        "\n",
        "\n",
        " "
      ],
      "execution_count": null,
      "outputs": [
        {
          "output_type": "stream",
          "name": "stdout",
          "text": [
            "Trying to convert datatypes for less memory usage\n",
            "3893.333333 max\n",
            "0.0 min\n",
            "22623008 memory usage\n",
            "11311504  new memory usage| the difference ->  2.0\n",
            "3893.333251953125 max\n",
            "0.0 min\n",
            "11311504 This is the memory usage\n",
            "971426      56.750000\n",
            "2520182    187.714279\n",
            "28135      833.071411\n",
            "1084619      9.000000\n",
            "661681      53.450001\n",
            "1361954      3.000000\n",
            "2396906    919.461548\n",
            "692129      84.500000\n",
            "1615765     92.000000\n",
            "791945      90.500000\n",
            "2047999    121.250000\n",
            "1094064     63.750000\n",
            "2206803      5.333333\n",
            "249877      86.500000\n",
            "1425069      3.000000\n",
            "316723       5.000000\n",
            "1149388     69.000000\n",
            "324944       5.000000\n",
            "444979       3.000000\n",
            "437160       3.000000\n",
            "Name:  Average Packet Size, dtype: float32\n"
          ]
        }
      ]
    },
    {
      "cell_type": "code",
      "metadata": {
        "id": "Cl3Y6XaM2Zhg",
        "colab": {
          "base_uri": "https://localhost:8080/"
        },
        "outputId": "02a798f4-e037-45c5-81e3-02aace859d3e"
      },
      "source": [
        "check_size_dtypes(df[' Avg Fwd Segment Size'])\n",
        "\n",
        "df[' Avg Fwd Segment Size'] = convert_datatypes(df[' Avg Fwd Segment Size'], 'float32')\n",
        "                  \n",
        "check_size_dtypes(df[' Avg Fwd Segment Size'])\n",
        "\n",
        "                  "
      ],
      "execution_count": null,
      "outputs": [
        {
          "output_type": "stream",
          "name": "stdout",
          "text": [
            "5940.857143 max\n",
            "0.0 min\n",
            "22623008 This is the memory usage\n",
            "678412      10.333333\n",
            "2199640     45.500000\n",
            "1561736     27.000000\n",
            "475086       2.000000\n",
            "1159579      6.000000\n",
            "2269051      0.000000\n",
            "191334       6.000000\n",
            "2601584     27.666667\n",
            "1624796      6.000000\n",
            "600529      66.812500\n",
            "1636973     15.500000\n",
            "2302204     54.000000\n",
            "2325867     64.500000\n",
            "100605       8.666667\n",
            "2155046      6.000000\n",
            "2315328      6.000000\n",
            "332663       2.000000\n",
            "2501847      0.000000\n",
            "825143       6.000000\n",
            "1827479    292.333333\n",
            "Name:  Avg Fwd Segment Size, dtype: float64\n",
            "Trying to convert datatypes for less memory usage\n",
            "5940.857143 max\n",
            "0.0 min\n",
            "22623008 memory usage\n",
            "11311504  new memory usage| the difference ->  2.0\n",
            "5940.85693359375 max\n",
            "0.0 min\n",
            "11311504 This is the memory usage\n",
            "1756880      15.500000\n",
            "1173148      30.000000\n",
            "2189864      13.500000\n",
            "2376825      53.428570\n",
            "1917430      46.000000\n",
            "415379        0.000000\n",
            "2441752       0.000000\n",
            "1148573       0.000000\n",
            "104171     1375.000000\n",
            "2603883     140.000000\n",
            "2194442      48.900002\n",
            "2571860      44.500000\n",
            "792829       47.000000\n",
            "1566331      41.444443\n",
            "2440643       0.000000\n",
            "1425813       2.000000\n",
            "1592909       6.000000\n",
            "1048953       0.000000\n",
            "2748154      45.000000\n",
            "1677705       6.000000\n",
            "Name:  Avg Fwd Segment Size, dtype: float32\n"
          ]
        }
      ]
    },
    {
      "cell_type": "code",
      "metadata": {
        "id": "VaUlYznl2Zb9",
        "colab": {
          "base_uri": "https://localhost:8080/"
        },
        "outputId": "94d67deb-e02b-4b0c-9e59-37a972143fef"
      },
      "source": [
        "check_size_dtypes(df[ 'Subflow Fwd Packets']) \n",
        "df[ 'Subflow Fwd Packets'] = convert_datatypes(df[ 'Subflow Fwd Packets'], 'int32')"
      ],
      "execution_count": null,
      "outputs": [
        {
          "output_type": "stream",
          "name": "stdout",
          "text": [
            "219759 max\n",
            "1 min\n",
            "22623008 This is the memory usage\n",
            "374563      1\n",
            "2666847     1\n",
            "2755790     2\n",
            "1182075     1\n",
            "1211474     1\n",
            "2263248     7\n",
            "1235037    13\n",
            "985287      4\n",
            "1451289     2\n",
            "2787176     2\n",
            "2583499     1\n",
            "1626836     1\n",
            "2115544     2\n",
            "649213      3\n",
            "1262593    19\n",
            "2452233     2\n",
            "2343553     7\n",
            "423397      1\n",
            "368185      1\n",
            "246826      2\n",
            "Name: Subflow Fwd Packets, dtype: int64\n",
            "Trying to convert datatypes for less memory usage\n",
            "219759 max\n",
            "1 min\n",
            "22623008 memory usage\n",
            "11311504  new memory usage| the difference ->  2.0\n"
          ]
        }
      ]
    },
    {
      "cell_type": "code",
      "metadata": {
        "colab": {
          "base_uri": "https://localhost:8080/"
        },
        "id": "YzFTkARHDVdW",
        "outputId": "c2687a33-2b14-46bc-a225-4bdc551d37de"
      },
      "source": [
        "check_size_dtypes(df[ 'Subflow Fwd Packets']) "
      ],
      "execution_count": null,
      "outputs": [
        {
          "output_type": "stream",
          "name": "stdout",
          "text": [
            "219759 max\n",
            "1 min\n",
            "11311504 This is the memory usage\n",
            "999149      2\n",
            "489029     14\n",
            "812023      2\n",
            "1254210     2\n",
            "849728      9\n",
            "396843      1\n",
            "328975      1\n",
            "1512882    22\n",
            "902783      1\n",
            "905627      1\n",
            "2489342     1\n",
            "1816415     2\n",
            "918792      2\n",
            "54861       3\n",
            "2073229     4\n",
            "1869678     2\n",
            "1797750     2\n",
            "1139908     1\n",
            "2689378     2\n",
            "1243005     2\n",
            "Name: Subflow Fwd Packets, dtype: int32\n"
          ]
        }
      ]
    },
    {
      "cell_type": "code",
      "metadata": {
        "id": "4C9UQfnqwVwz",
        "colab": {
          "base_uri": "https://localhost:8080/"
        },
        "outputId": "59216e36-66ac-4ea4-9789-6a5edef30503"
      },
      "source": [
        "check_size_dtypes(df[' Fwd Header Length.1'])\n",
        "df[' Fwd Header Length.1'] = normalize(df[' Fwd Header Length.1'])\n",
        "df[' Fwd Header Length.1'] = convert_datatypes(df[' Fwd Header Length.1'], 'float32')\n",
        "check_size_dtypes(df[' Fwd Header Length.1'])\n"
      ],
      "execution_count": null,
      "outputs": [
        {
          "output_type": "stream",
          "name": "stdout",
          "text": [
            "4644908 max\n",
            "-32212234632 min\n",
            "22623008 This is the memory usage\n",
            "1285605       40\n",
            "416641        40\n",
            "789527        32\n",
            "30469         72\n",
            "2302262      144\n",
            "159554        72\n",
            "2367791       64\n",
            "1840130    26912\n",
            "603479        52\n",
            "1921249       32\n",
            "1424785       48\n",
            "2642643      232\n",
            "1980723       88\n",
            "1468626      252\n",
            "846271        32\n",
            "1251272       64\n",
            "732694       740\n",
            "1278345       64\n",
            "2682187       64\n",
            "2657026       32\n",
            "Name:  Fwd Header Length.1, dtype: int64\n",
            "Trying to convert datatypes for less memory usage\n",
            "100.0 max\n",
            "0.0 min\n",
            "22623008 memory usage\n",
            "11311504  new memory usage| the difference ->  2.0\n",
            "100.0 max\n",
            "0.0 min\n",
            "11311504 This is the memory usage\n",
            "1849470    99.985588\n",
            "1651004    99.985580\n",
            "2172626    99.985588\n",
            "2630382    99.985580\n",
            "1878604    99.985580\n",
            "2003042    99.985580\n",
            "1806577    99.985580\n",
            "263603     99.985580\n",
            "2353727    99.985580\n",
            "156891     99.985580\n",
            "2152294    99.985588\n",
            "2081610    99.985580\n",
            "2640150    99.985580\n",
            "15704      99.985580\n",
            "825902     99.985580\n",
            "2120439    99.985580\n",
            "93953      99.985580\n",
            "2382440    99.985580\n",
            "214399     99.985580\n",
            "2173684    99.985580\n",
            "Name:  Fwd Header Length.1, dtype: float32\n"
          ]
        }
      ]
    },
    {
      "cell_type": "code",
      "metadata": {
        "id": "ngQGjFxuwVzX",
        "colab": {
          "base_uri": "https://localhost:8080/"
        },
        "outputId": "e062fa65-ee6f-4501-eef7-f2995a561337"
      },
      "source": [
        "check_size_dtypes(df[' Fwd Header Length.1'])\n"
      ],
      "execution_count": null,
      "outputs": [
        {
          "output_type": "stream",
          "name": "stdout",
          "text": [
            "100.0 max\n",
            "0.0 min\n",
            "11311504 This is the memory usage\n",
            "279271     99.98558\n",
            "2786676    99.98558\n",
            "1663756    99.98558\n",
            "1580799    99.98558\n",
            "2480888    99.98558\n",
            "1927986    99.98558\n",
            "1088012    99.98558\n",
            "1835897    99.98558\n",
            "1895844    99.98558\n",
            "782922     99.98558\n",
            "1617619    99.98558\n",
            "1779513    99.98558\n",
            "1661657    99.98558\n",
            "185579     99.98558\n",
            "2427050    99.98558\n",
            "1059327    99.98558\n",
            "2579526    99.98558\n",
            "2078065    99.98558\n",
            "966579     99.98558\n",
            "2636671    99.98558\n",
            "Name:  Fwd Header Length.1, dtype: float32\n"
          ]
        }
      ]
    },
    {
      "cell_type": "code",
      "metadata": {
        "id": "IX-iKY0H4QEy",
        "colab": {
          "base_uri": "https://localhost:8080/"
        },
        "outputId": "6929cd63-091b-498d-c13f-69b959845569"
      },
      "source": [
        "check_size_dtypes(df[' Subflow Fwd Bytes'])\n",
        "df[' Subflow Fwd Bytes'] = convert_datatypes(df[' Subflow Fwd Bytes'], 'int32')\n"
      ],
      "execution_count": null,
      "outputs": [
        {
          "output_type": "stream",
          "name": "stdout",
          "text": [
            "12870338 max\n",
            "0 min\n",
            "22623008 This is the memory usage\n",
            "1234203     703\n",
            "1543275       0\n",
            "2263381     364\n",
            "2002565      74\n",
            "1077729       6\n",
            "2706292      68\n",
            "2047860     168\n",
            "2508952     892\n",
            "332416        2\n",
            "1687578    1072\n",
            "273678       52\n",
            "2636867     105\n",
            "508663     1543\n",
            "1246481    5099\n",
            "1894651       0\n",
            "552301       48\n",
            "2085310       0\n",
            "2283252     351\n",
            "900454     1204\n",
            "2500163      36\n",
            "Name:  Subflow Fwd Bytes, dtype: int64\n",
            "Trying to convert datatypes for less memory usage\n",
            "12870338 max\n",
            "0 min\n",
            "22623008 memory usage\n",
            "11311504  new memory usage| the difference ->  2.0\n"
          ]
        }
      ]
    },
    {
      "cell_type": "code",
      "metadata": {
        "id": "SdLgnFkq4QHo",
        "colab": {
          "base_uri": "https://localhost:8080/"
        },
        "outputId": "1a347eb5-1962-46ca-8326-8a7818103b64"
      },
      "source": [
        "check_size_dtypes(df[' Subflow Fwd Bytes'])\n",
        "\n",
        "# df[' Subflow Bwd Packets'] = convert_datatypes(df[' Subflow Bwd Packets'])"
      ],
      "execution_count": null,
      "outputs": [
        {
          "output_type": "stream",
          "name": "stdout",
          "text": [
            "12870338 max\n",
            "0 min\n",
            "11311504 This is the memory usage\n",
            "1131234    152\n",
            "1077218    132\n",
            "1995651    106\n",
            "2157954     52\n",
            "1792820    704\n",
            "2397193    338\n",
            "159978      62\n",
            "1325213      6\n",
            "1169545     92\n",
            "1459821    120\n",
            "1016735     56\n",
            "2769877    172\n",
            "2772183     88\n",
            "556700      52\n",
            "2107227      0\n",
            "342346       2\n",
            "1163516      0\n",
            "643541      31\n",
            "1304907     72\n",
            "1965224    840\n",
            "Name:  Subflow Fwd Bytes, dtype: int32\n"
          ]
        }
      ]
    },
    {
      "cell_type": "code",
      "metadata": {
        "id": "HLGJEhA64QKb",
        "colab": {
          "base_uri": "https://localhost:8080/"
        },
        "outputId": "027bae27-3bdb-4c58-fad5-4c901bc3c233"
      },
      "source": [
        "check_size_dtypes(df[' Subflow Bwd Bytes'] )\n",
        "df[' Subflow Bwd Bytes'] = normalize(df[' Subflow Bwd Bytes'])\n",
        "df[' Subflow Bwd Bytes'] = convert_datatypes(df[' Subflow Bwd Bytes'], 'float32')\n",
        "check_size_dtypes(df[' Subflow Bwd Bytes'] )\n"
      ],
      "execution_count": null,
      "outputs": [
        {
          "output_type": "stream",
          "name": "stdout",
          "text": [
            "655453030 max\n",
            "0 min\n",
            "22623008 This is the memory usage\n",
            "1079409      330\n",
            "798497         0\n",
            "2390764    11595\n",
            "332779         6\n",
            "1554239        0\n",
            "1540505    52701\n",
            "338067         6\n",
            "2177427      206\n",
            "652764       126\n",
            "943332         0\n",
            "778423       330\n",
            "977750         0\n",
            "2317973        0\n",
            "436986         6\n",
            "1512711      627\n",
            "1484727      204\n",
            "1694708    50262\n",
            "762820         6\n",
            "1992935      228\n",
            "284652       183\n",
            "Name:  Subflow Bwd Bytes, dtype: int64\n",
            "Trying to convert datatypes for less memory usage\n",
            "100.0 max\n",
            "0.0 min\n",
            "22623008 memory usage\n",
            "11311504  new memory usage| the difference ->  2.0\n",
            "100.0 max\n",
            "0.0 min\n",
            "11311504 This is the memory usage\n",
            "780073     5.031634e-04\n",
            "230877     0.000000e+00\n",
            "423117     9.153974e-07\n",
            "2440020    0.000000e+00\n",
            "2364788    1.769005e-03\n",
            "1391276    4.119288e-05\n",
            "2577939    1.844709e-02\n",
            "801747     0.000000e+00\n",
            "908647     2.441060e-05\n",
            "1033385    1.762140e-04\n",
            "720822     1.617202e-05\n",
            "263555     0.000000e+00\n",
            "1962258    6.044979e-03\n",
            "1848730    3.875182e-05\n",
            "513100     6.285729e-05\n",
            "2827192    2.196954e-05\n",
            "1203169    1.342583e-05\n",
            "1124612    9.153974e-07\n",
            "154087     1.770836e-03\n",
            "2777176    3.783643e-05\n",
            "Name:  Subflow Bwd Bytes, dtype: float32\n"
          ]
        }
      ]
    },
    {
      "cell_type": "code",
      "metadata": {
        "id": "53JuNYDt4QNC",
        "colab": {
          "base_uri": "https://localhost:8080/"
        },
        "outputId": "d1d02013-a9fc-49fc-d2aa-4782a501ef60"
      },
      "source": [
        "check_size_dtypes(df[' act_data_pkt_fwd'])\n",
        "df[' act_data_pkt_fwd'] = convert_datatypes(df[' act_data_pkt_fwd'], 'int32')"
      ],
      "execution_count": null,
      "outputs": [
        {
          "output_type": "stream",
          "name": "stdout",
          "text": [
            "213557 max\n",
            "0 min\n",
            "22623008 This is the memory usage\n",
            "1631419    10\n",
            "136426      2\n",
            "2591279     3\n",
            "1691216     2\n",
            "870246      0\n",
            "1716735     0\n",
            "179494      7\n",
            "2133818     1\n",
            "145587      5\n",
            "645927      1\n",
            "1116907     1\n",
            "2091151     1\n",
            "29315       6\n",
            "1579287     0\n",
            "1838335     9\n",
            "929993      4\n",
            "1371459     1\n",
            "1343891     1\n",
            "2238421     1\n",
            "461245      1\n",
            "Name:  act_data_pkt_fwd, dtype: int64\n",
            "Trying to convert datatypes for less memory usage\n",
            "213557 max\n",
            "0 min\n",
            "22623008 memory usage\n",
            "11311504  new memory usage| the difference ->  2.0\n"
          ]
        }
      ]
    },
    {
      "cell_type": "code",
      "metadata": {
        "id": "-6B3dAO04QPq"
      },
      "source": [
        ""
      ],
      "execution_count": null,
      "outputs": []
    },
    {
      "cell_type": "code",
      "metadata": {
        "id": "6xCIuZVN4_W4"
      },
      "source": [
        ""
      ],
      "execution_count": null,
      "outputs": []
    },
    {
      "cell_type": "code",
      "metadata": {
        "id": "DfTrdk7Z4_aO",
        "colab": {
          "base_uri": "https://localhost:8080/"
        },
        "outputId": "ed45b700-af74-45f8-d7ec-5fe8b64ca774"
      },
      "source": [
        "\n",
        "df[' min_seg_size_forward'] = normalize(df[' min_seg_size_forward'])\n",
        "df[' min_seg_size_forward'] = convert_datatypes(df[' min_seg_size_forward'], 'float32')\n",
        "check_size_dtypes(df[' min_seg_size_forward'])"
      ],
      "execution_count": null,
      "outputs": [
        {
          "output_type": "stream",
          "name": "stdout",
          "text": [
            "Trying to convert datatypes for less memory usage\n",
            "100.0 max\n",
            "0.0 min\n",
            "22623008 memory usage\n",
            "11311504  new memory usage| the difference ->  2.0\n",
            "100.0 max\n",
            "0.0 min\n",
            "11311504 This is the memory usage\n",
            "1041982    99.999977\n",
            "270422     99.999985\n",
            "757023     99.999977\n",
            "1410288    99.999977\n",
            "2791826    99.999977\n",
            "465256     99.999985\n",
            "1702146    99.999977\n",
            "35554      99.999977\n",
            "852431     99.999977\n",
            "1152720    99.999977\n",
            "1957895    99.999977\n",
            "2448361    99.999977\n",
            "2128423    99.999977\n",
            "2465680    99.999977\n",
            "318696     99.999977\n",
            "41825      99.999977\n",
            "1519180    99.999977\n",
            "1798099    99.999977\n",
            "1559138    99.999977\n",
            "987826     99.999977\n",
            "Name:  min_seg_size_forward, dtype: float32\n"
          ]
        }
      ]
    },
    {
      "cell_type": "code",
      "metadata": {
        "id": "Jhicpi424_dj",
        "colab": {
          "base_uri": "https://localhost:8080/"
        },
        "outputId": "71b0e5a3-d986-4202-aae1-df4933bd7f02"
      },
      "source": [
        "# check_size_dtypes(df['Init_Win_bytes_forward'])\n",
        "df['Init_Win_bytes_forward'] = normalize(df['Init_Win_bytes_forward'])\n",
        "df['Init_Win_bytes_forward'] = convert_datatypes(df['Init_Win_bytes_forward'], 'float32')\n",
        "check_size_dtypes(df['Init_Win_bytes_forward'])"
      ],
      "execution_count": null,
      "outputs": [
        {
          "output_type": "stream",
          "name": "stdout",
          "text": [
            "Trying to convert datatypes for less memory usage\n",
            "100.0 max\n",
            "0.0 min\n",
            "22623008 memory usage\n",
            "11311504  new memory usage| the difference ->  2.0\n",
            "100.0 max\n",
            "0.0 min\n",
            "11311504 This is the memory usage\n",
            "1045823      0.000000\n",
            "1537632      1.445007\n",
            "623318      12.501526\n",
            "1410939      1.564026\n",
            "540761       0.193787\n",
            "1845237     44.557190\n",
            "323806       1.564026\n",
            "2221341     44.557190\n",
            "342293       1.564026\n",
            "462165       0.000000\n",
            "2739554      0.000000\n",
            "858385       0.178528\n",
            "156112      12.501526\n",
            "1520760      0.000000\n",
            "1282450      0.000000\n",
            "2183228    100.000000\n",
            "14707        0.000000\n",
            "1813960     12.501526\n",
            "1617879      0.001526\n",
            "1556857      0.000000\n",
            "Name: Init_Win_bytes_forward, dtype: float32\n"
          ]
        }
      ]
    },
    {
      "cell_type": "code",
      "metadata": {
        "id": "fSzi6eng4_gk",
        "colab": {
          "base_uri": "https://localhost:8080/"
        },
        "outputId": "444daaef-5def-4221-c621-77c026c97dc3"
      },
      "source": [
        "check_size_dtypes(df[' Init_Win_bytes_backward'])\n",
        "df[' Init_Win_bytes_backward'] = normalize(df[' Init_Win_bytes_backward'])\n",
        "df[' Init_Win_bytes_backward'] = convert_datatypes(df[' Init_Win_bytes_backward'],'float32')\n",
        "check_size_dtypes(df[' Init_Win_bytes_backward'])\n"
      ],
      "execution_count": null,
      "outputs": [
        {
          "output_type": "stream",
          "name": "stdout",
          "text": [
            "65535 max\n",
            "-1 min\n",
            "22623008 This is the memory usage\n",
            "2208627    235\n",
            "1805149    143\n",
            "152894      -1\n",
            "231688     255\n",
            "742482      -1\n",
            "658061      -1\n",
            "1547379     23\n",
            "2151365    243\n",
            "1557554    236\n",
            "1736689     -1\n",
            "2399468    235\n",
            "1868011     -1\n",
            "916253      -1\n",
            "1555370     -1\n",
            "352106       0\n",
            "2263526    235\n",
            "123527     229\n",
            "2225691    235\n",
            "2197140    351\n",
            "979810      -1\n",
            "Name:  Init_Win_bytes_backward, dtype: int64\n",
            "Trying to convert datatypes for less memory usage\n",
            "100.0 max\n",
            "0.0 min\n",
            "22623008 memory usage\n",
            "11311504  new memory usage| the difference ->  2.0\n",
            "100.0 max\n",
            "0.0 min\n",
            "11311504 This is the memory usage\n",
            "2791870     0.000000\n",
            "1665790     0.000000\n",
            "2135450     0.000000\n",
            "1040811     0.000000\n",
            "1239756     0.000000\n",
            "2128348     0.000000\n",
            "1075602     0.000000\n",
            "1521320     0.000000\n",
            "2794986     0.000000\n",
            "926825      0.000000\n",
            "739351     44.557190\n",
            "979637      0.363159\n",
            "2553785     0.000000\n",
            "197629      7.350159\n",
            "2153173     0.000000\n",
            "722436     17.176819\n",
            "1992123     0.001526\n",
            "827744      0.000000\n",
            "412088      0.001526\n",
            "1708628     0.000000\n",
            "Name:  Init_Win_bytes_backward, dtype: float32\n"
          ]
        }
      ]
    },
    {
      "cell_type": "code",
      "metadata": {
        "id": "hzLIlXrD5mmv",
        "colab": {
          "base_uri": "https://localhost:8080/"
        },
        "outputId": "8c979ff6-4611-4a6e-d02a-ff49d9bd99d9"
      },
      "source": [
        "check_size_dtypes(df['Idle Mean']) \n",
        "df['Idle Mean'] = normalize(df['Idle Mean'])\n",
        "df['Idle Mean'] = convert_datatypes(df['Idle Mean'], 'float16')\n",
        "check_size_dtypes(df['Idle Mean'])\n",
        "df['Idle Mean'].value_counts()"
      ],
      "execution_count": null,
      "outputs": [
        {
          "output_type": "stream",
          "name": "stdout",
          "text": [
            "120000000.0 max\n",
            "0.0 min\n",
            "22623008 This is the memory usage\n",
            "275134           0.0\n",
            "920635           0.0\n",
            "2065507          0.0\n",
            "1762438    7519121.5\n",
            "1141244          0.0\n",
            "1948971          0.0\n",
            "2392929          0.0\n",
            "468349           0.0\n",
            "436031           0.0\n",
            "1833322          0.0\n",
            "1314600          0.0\n",
            "947344           0.0\n",
            "2518068          0.0\n",
            "992828           0.0\n",
            "122281           0.0\n",
            "1488362          0.0\n",
            "1979834          0.0\n",
            "731757           0.0\n",
            "1135727          0.0\n",
            "1119784          0.0\n",
            "Name: Idle Mean, dtype: float64\n",
            "Trying to convert datatypes for less memory usage\n",
            "100.0 max\n",
            "0.0 min\n",
            "22623008 memory usage\n",
            "5655752  new memory usage| the difference ->  4.0\n",
            "100.0 max\n",
            "0.0 min\n",
            "5655752 This is the memory usage\n",
            "1149510     0.000000\n",
            "2418362    81.500000\n",
            "1601941    11.164062\n",
            "2193394    99.187500\n",
            "1686713     0.000000\n",
            "1098464     0.000000\n",
            "1105027     0.000000\n",
            "138294     37.656250\n",
            "9616        0.000000\n",
            "2306948     0.000000\n",
            "325828      0.000000\n",
            "1698388    28.171875\n",
            "67318       0.000000\n",
            "720173      0.000000\n",
            "2256646     8.242188\n",
            "585131      0.000000\n",
            "958943      0.000000\n",
            "1094086     0.000000\n",
            "869728      0.000000\n",
            "2641534     0.000000\n",
            "Name: Idle Mean, dtype: float16\n"
          ]
        },
        {
          "output_type": "execute_result",
          "data": {
            "text/plain": [
              "0.000000     2260593\n",
              "8.335938       58029\n",
              "8.328125       19623\n",
              "8.500000       14661\n",
              "83.312500       8603\n",
              "              ...   \n",
              "53.718750          1\n",
              "12.593750          1\n",
              "14.507812          1\n",
              "8.781250           1\n",
              "31.875000          1\n",
              "Name: Idle Mean, Length: 4504, dtype: int64"
            ]
          },
          "metadata": {},
          "execution_count": 198
        }
      ]
    },
    {
      "cell_type": "code",
      "metadata": {
        "id": "uF0AqqS85mpS",
        "colab": {
          "base_uri": "https://localhost:8080/"
        },
        "outputId": "a0c58f84-5c76-4aa6-8be7-e0a1700cc490"
      },
      "source": [
        "check_size_dtypes(df[' Idle Std'])\n",
        "df[' Idle Std'] = normalize(df[' Idle Std'])\n",
        "# df[' Idle Std'] = \n",
        "df[' Idle Std'] = convert_datatypes(df[' Idle Std'], 'float32')\n",
        "check_size_dtypes(df[' Idle Std'])\n"
      ],
      "execution_count": null,
      "outputs": [
        {
          "output_type": "stream",
          "name": "stdout",
          "text": [
            "76900000.0 max\n",
            "0.0 min\n",
            "22623008 This is the memory usage\n",
            "777372         0.00000\n",
            "2613892        0.00000\n",
            "2446467    34361.89014\n",
            "2800232        0.00000\n",
            "2674550        0.00000\n",
            "135898         0.00000\n",
            "513560         0.00000\n",
            "2317973        0.00000\n",
            "2682862        0.00000\n",
            "470554         0.00000\n",
            "1182035        0.00000\n",
            "1079595        0.00000\n",
            "812662         0.00000\n",
            "1281599    28017.45470\n",
            "2747460        0.00000\n",
            "887086         0.00000\n",
            "468048         0.00000\n",
            "154676         0.00000\n",
            "1089925        0.00000\n",
            "1017364        0.00000\n",
            "Name:  Idle Std, dtype: float64\n",
            "Trying to convert datatypes for less memory usage\n",
            "100.0 max\n",
            "0.0 min\n",
            "22623008 memory usage\n",
            "11311504  new memory usage| the difference ->  2.0\n",
            "100.0 max\n",
            "0.0 min\n",
            "11311504 This is the memory usage\n",
            "2044564    0.0\n",
            "1376264    0.0\n",
            "1119406    0.0\n",
            "2238281    0.0\n",
            "1836660    0.0\n",
            "470774     0.0\n",
            "1627736    0.0\n",
            "1240686    0.0\n",
            "867030     0.0\n",
            "86976      0.0\n",
            "1883316    0.0\n",
            "841031     0.0\n",
            "2113004    0.0\n",
            "2817662    0.0\n",
            "932189     0.0\n",
            "1178492    0.0\n",
            "183952     0.0\n",
            "1784528    0.0\n",
            "136782     0.0\n",
            "2801330    0.0\n",
            "Name:  Idle Std, dtype: float32\n"
          ]
        }
      ]
    },
    {
      "cell_type": "code",
      "metadata": {
        "id": "b7fJ8c365msE",
        "colab": {
          "base_uri": "https://localhost:8080/"
        },
        "outputId": "2cebd4c5-7389-452c-dba5-d170a77c2afe"
      },
      "source": [
        "check_size_dtypes(df[' Idle Max'])\n",
        "df[' Idle Max'] = normalize(df[' Idle Max'])\n",
        "df[' Idle Max'] = convert_datatypes(df[' Idle Max'], 'int32')\n",
        "check_size_dtypes(df[' Idle Max'])\n",
        "\n",
        "df[' Idle Max'].value_counts()\n",
        "\n"
      ],
      "execution_count": null,
      "outputs": [
        {
          "output_type": "stream",
          "name": "stdout",
          "text": [
            "120000000 max\n",
            "0 min\n",
            "22623008 This is the memory usage\n",
            "770904            0\n",
            "17945             0\n",
            "309842            0\n",
            "1250669           0\n",
            "1315128           0\n",
            "1456001           0\n",
            "1224939    72830428\n",
            "2412162    84800000\n",
            "282896      5039527\n",
            "502756            0\n",
            "504542            0\n",
            "1505549           0\n",
            "433185            0\n",
            "1389648           0\n",
            "2282401           0\n",
            "2246695    84800000\n",
            "1584494           0\n",
            "547973      9956389\n",
            "2279715    84700000\n",
            "2770224           0\n",
            "Name:  Idle Max, dtype: int64\n",
            "Trying to convert datatypes for less memory usage\n",
            "100.0 max\n",
            "0.0 min\n",
            "22623008 memory usage\n",
            "11311504  new memory usage| the difference ->  2.0\n",
            "100 max\n",
            "0 min\n",
            "11311504 This is the memory usage\n",
            "327348      0\n",
            "72566       0\n",
            "2267682    82\n",
            "2178876     0\n",
            "2125052     0\n",
            "88710       0\n",
            "614405      0\n",
            "1054314     0\n",
            "2731812     0\n",
            "1124500     0\n",
            "2293563    70\n",
            "224587      0\n",
            "1559718     0\n",
            "371550      0\n",
            "1220465     0\n",
            "1468942     0\n",
            "2692244     0\n",
            "1016931     0\n",
            "230200      0\n",
            "230712      0\n",
            "Name:  Idle Max, dtype: int32\n"
          ]
        },
        {
          "output_type": "execute_result",
          "data": {
            "text/plain": [
              "0      2260593\n",
              "8       188495\n",
              "4        52001\n",
              "82       43133\n",
              "70       25801\n",
              "        ...   \n",
              "93         397\n",
              "92         393\n",
              "86         371\n",
              "94         367\n",
              "100        145\n",
              "Name:  Idle Max, Length: 98, dtype: int64"
            ]
          },
          "metadata": {},
          "execution_count": 200
        }
      ]
    },
    {
      "cell_type": "code",
      "metadata": {
        "id": "9uEoe9P35mus",
        "colab": {
          "base_uri": "https://localhost:8080/"
        },
        "outputId": "8412dba9-4190-4f90-a740-6425fa82e0bf"
      },
      "source": [
        "check_size_dtypes(df[' Idle Min'])\n",
        "normalize(df[' Idle Min'])\n",
        "df[' Idle Min'] = convert_datatypes(df[' Idle Min'], 'int32')"
      ],
      "execution_count": null,
      "outputs": [
        {
          "output_type": "stream",
          "name": "stdout",
          "text": [
            "120000000 max\n",
            "0 min\n",
            "22623008 This is the memory usage\n",
            "336101            0\n",
            "1193519           0\n",
            "597788            0\n",
            "1610776           0\n",
            "1095443           0\n",
            "1262342           0\n",
            "784890      9986338\n",
            "2415532           0\n",
            "54066       6100851\n",
            "1361354           0\n",
            "2696902           0\n",
            "1393976           0\n",
            "2671582           0\n",
            "2323112    68000000\n",
            "689449            0\n",
            "1183197           0\n",
            "512056            0\n",
            "1600577           0\n",
            "2661579           0\n",
            "2026671           0\n",
            "Name:  Idle Min, dtype: int64\n",
            "Trying to convert datatypes for less memory usage\n",
            "120000000 max\n",
            "0 min\n",
            "22623008 memory usage\n",
            "11311504  new memory usage| the difference ->  2.0\n"
          ]
        }
      ]
    },
    {
      "cell_type": "code",
      "metadata": {
        "id": "5n6owJkL5mxc",
        "colab": {
          "base_uri": "https://localhost:8080/"
        },
        "outputId": "a846ed01-f05e-44ba-b4a0-b2fd8f13af32"
      },
      "source": [
        "df[' Idle Min'].value_counts()"
      ],
      "execution_count": null,
      "outputs": [
        {
          "output_type": "execute_result",
          "data": {
            "text/plain": [
              "0            2260593\n",
              "10000000       23056\n",
              "100000000       8597\n",
              "98300000        7247\n",
              "98700000        6262\n",
              "              ...   \n",
              "5571878            1\n",
              "9864716            1\n",
              "8973761            1\n",
              "5053823            1\n",
              "58761196           1\n",
              "Name:  Idle Min, Length: 223888, dtype: int64"
            ]
          },
          "metadata": {},
          "execution_count": 202
        }
      ]
    },
    {
      "cell_type": "code",
      "metadata": {
        "id": "SRas-GUx5m0E"
      },
      "source": [
        ""
      ],
      "execution_count": null,
      "outputs": []
    },
    {
      "cell_type": "code",
      "metadata": {
        "id": "QO_ouwSg5m29"
      },
      "source": [
        ""
      ],
      "execution_count": null,
      "outputs": []
    },
    {
      "cell_type": "code",
      "metadata": {
        "id": "FNDnnRgu4QSH"
      },
      "source": [
        ""
      ],
      "execution_count": null,
      "outputs": []
    },
    {
      "cell_type": "code",
      "metadata": {
        "id": "DXuynlYX4QVF"
      },
      "source": [
        ""
      ],
      "execution_count": null,
      "outputs": []
    },
    {
      "cell_type": "code",
      "metadata": {
        "id": "S4N9O-dQjN1o"
      },
      "source": [
        ""
      ],
      "execution_count": null,
      "outputs": []
    },
    {
      "cell_type": "code",
      "metadata": {
        "colab": {
          "base_uri": "https://localhost:8080/"
        },
        "id": "wFwXf9_wsOP1",
        "outputId": "77286645-9e0c-4fb3-ab62-b6df73843088"
      },
      "source": [
        "df[' Total Fwd Packets'].value_counts()"
      ],
      "execution_count": null,
      "outputs": [
        {
          "output_type": "execute_result",
          "data": {
            "text/plain": [
              "2      1071198\n",
              "1       700222\n",
              "3       204077\n",
              "4       126891\n",
              "5        87850\n",
              "        ...   \n",
              "894          1\n",
              "893          1\n",
              "892          1\n",
              "891          1\n",
              "622          1\n",
              "Name:  Total Fwd Packets, Length: 1432, dtype: int64"
            ]
          },
          "metadata": {},
          "execution_count": 104
        }
      ]
    },
    {
      "cell_type": "code",
      "metadata": {
        "id": "fwaO_h87sOS7"
      },
      "source": [
        ""
      ],
      "execution_count": null,
      "outputs": []
    },
    {
      "cell_type": "code",
      "metadata": {
        "colab": {
          "base_uri": "https://localhost:8080/"
        },
        "id": "zIrRHTHbkRbW",
        "outputId": "4ea77a29-7eb4-4cec-da30-80ac4c957492"
      },
      "source": [
        "22645944 / 5661486"
      ],
      "execution_count": null,
      "outputs": [
        {
          "output_type": "execute_result",
          "data": {
            "text/plain": [
              "4.0"
            ]
          },
          "metadata": {},
          "execution_count": 42
        }
      ]
    },
    {
      "cell_type": "code",
      "metadata": {
        "colab": {
          "base_uri": "https://localhost:8080/"
        },
        "id": "sjFQw9ipkRhC",
        "outputId": "742cb9fe-cb82-409a-9e04-84a8249934ca"
      },
      "source": [
        "# 65535, 0\n",
        "(65535 - 0) / 65535 * 100"
      ],
      "execution_count": null,
      "outputs": [
        {
          "output_type": "execute_result",
          "data": {
            "text/plain": [
              "100.0"
            ]
          },
          "metadata": {},
          "execution_count": 44
        }
      ]
    },
    {
      "cell_type": "code",
      "metadata": {
        "colab": {
          "base_uri": "https://localhost:8080/",
          "height": 1000
        },
        "id": "cEwzBmszkRnB",
        "outputId": "14b46aac-4a47-44f1-b1cf-65ed28163a28"
      },
      "source": [
        "df.info()\n",
        "df.sample(20)"
      ],
      "execution_count": null,
      "outputs": [
        {
          "output_type": "stream",
          "name": "stdout",
          "text": [
            "<class 'pandas.core.frame.DataFrame'>\n",
            "Int64Index: 2827876 entries, 0 to 2830742\n",
            "Data columns (total 79 columns):\n",
            " #   Column                        Dtype  \n",
            "---  ------                        -----  \n",
            " 0    Destination Port             float64\n",
            " 1    Flow Duration                float32\n",
            " 2    Total Fwd Packets            int32  \n",
            " 3    Total Backward Packets       int32  \n",
            " 4   Total Length of Fwd Packets   int64  \n",
            " 5    Total Length of Bwd Packets  int64  \n",
            " 6    Fwd Packet Length Max        int32  \n",
            " 7    Fwd Packet Length Min        int16  \n",
            " 8    Fwd Packet Length Mean       float32\n",
            " 9    Fwd Packet Length Std        float32\n",
            " 10  Bwd Packet Length Max         int16  \n",
            " 11   Bwd Packet Length Min        int16  \n",
            " 12   Bwd Packet Length Mean       float16\n",
            " 13   Bwd Packet Length Std        float32\n",
            " 14  Flow Bytes/s                  float32\n",
            " 15   Flow Packets/s               float32\n",
            " 16   Flow IAT Mean                float32\n",
            " 17   Flow IAT Std                 float32\n",
            " 18   Flow IAT Max                 int32  \n",
            " 19   Flow IAT Min                 int32  \n",
            " 20  Fwd IAT Total                 float32\n",
            " 21   Fwd IAT Mean                 float32\n",
            " 22   Fwd IAT Std                  float32\n",
            " 23   Fwd IAT Max                  int32  \n",
            " 24   Fwd IAT Min                  float32\n",
            " 25  Bwd IAT Total                 int32  \n",
            " 26   Bwd IAT Mean                 float64\n",
            " 27   Bwd IAT Std                  float64\n",
            " 28   Bwd IAT Max                  int32  \n",
            " 29   Bwd IAT Min                  int64  \n",
            " 30  Fwd PSH Flags                 int8   \n",
            " 31   Bwd PSH Flags                int64  \n",
            " 32   Fwd URG Flags                int64  \n",
            " 33   Bwd URG Flags                int64  \n",
            " 34   Fwd Header Length            int64  \n",
            " 35   Bwd Header Length            float32\n",
            " 36  Fwd Packets/s                 float32\n",
            " 37   Bwd Packets/s                float64\n",
            " 38   Min Packet Length            int16  \n",
            " 39   Max Packet Length            int16  \n",
            " 40   Packet Length Mean           float32\n",
            " 41   Packet Length Std            float32\n",
            " 42   Packet Length Variance       float32\n",
            " 43  FIN Flag Count                int64  \n",
            " 44   SYN Flag Count               int64  \n",
            " 45   RST Flag Count               int64  \n",
            " 46   PSH Flag Count               int64  \n",
            " 47   ACK Flag Count               int8   \n",
            " 48   URG Flag Count               int8   \n",
            " 49   CWE Flag Count               int64  \n",
            " 50   ECE Flag Count               int64  \n",
            " 51   Down/Up Ratio                int64  \n",
            " 52   Average Packet Size          float32\n",
            " 53   Avg Fwd Segment Size         float32\n",
            " 54   Avg Bwd Segment Size         float64\n",
            " 55   Fwd Header Length.1          float32\n",
            " 56  Fwd Avg Bytes/Bulk            int64  \n",
            " 57   Fwd Avg Packets/Bulk         int64  \n",
            " 58   Fwd Avg Bulk Rate            int64  \n",
            " 59   Bwd Avg Bytes/Bulk           int64  \n",
            " 60   Bwd Avg Packets/Bulk         int64  \n",
            " 61  Bwd Avg Bulk Rate             int64  \n",
            " 62  Subflow Fwd Packets           int32  \n",
            " 63   Subflow Fwd Bytes            int32  \n",
            " 64   Subflow Bwd Packets          int64  \n",
            " 65   Subflow Bwd Bytes            float32\n",
            " 66  Init_Win_bytes_forward        float32\n",
            " 67   Init_Win_bytes_backward      float32\n",
            " 68   act_data_pkt_fwd             int32  \n",
            " 69   min_seg_size_forward         float32\n",
            " 70  Active Mean                   float64\n",
            " 71   Active Std                   float64\n",
            " 72   Active Max                   int64  \n",
            " 73   Active Min                   int64  \n",
            " 74  Idle Mean                     float16\n",
            " 75   Idle Std                     float32\n",
            " 76   Idle Max                     int32  \n",
            " 77   Idle Min                     int32  \n",
            " 78   Label                        object \n",
            "dtypes: float16(2), float32(25), float64(7), int16(5), int32(13), int64(23), int8(3), object(1)\n",
            "memory usage: 1.1+ GB\n"
          ]
        },
        {
          "output_type": "execute_result",
          "data": {
            "text/html": [
              "<div>\n",
              "<style scoped>\n",
              "    .dataframe tbody tr th:only-of-type {\n",
              "        vertical-align: middle;\n",
              "    }\n",
              "\n",
              "    .dataframe tbody tr th {\n",
              "        vertical-align: top;\n",
              "    }\n",
              "\n",
              "    .dataframe thead th {\n",
              "        text-align: right;\n",
              "    }\n",
              "</style>\n",
              "<table border=\"1\" class=\"dataframe\">\n",
              "  <thead>\n",
              "    <tr style=\"text-align: right;\">\n",
              "      <th></th>\n",
              "      <th>Destination Port</th>\n",
              "      <th>Flow Duration</th>\n",
              "      <th>Total Fwd Packets</th>\n",
              "      <th>Total Backward Packets</th>\n",
              "      <th>Total Length of Fwd Packets</th>\n",
              "      <th>Total Length of Bwd Packets</th>\n",
              "      <th>Fwd Packet Length Max</th>\n",
              "      <th>Fwd Packet Length Min</th>\n",
              "      <th>Fwd Packet Length Mean</th>\n",
              "      <th>Fwd Packet Length Std</th>\n",
              "      <th>Bwd Packet Length Max</th>\n",
              "      <th>Bwd Packet Length Min</th>\n",
              "      <th>Bwd Packet Length Mean</th>\n",
              "      <th>Bwd Packet Length Std</th>\n",
              "      <th>Flow Bytes/s</th>\n",
              "      <th>Flow Packets/s</th>\n",
              "      <th>Flow IAT Mean</th>\n",
              "      <th>Flow IAT Std</th>\n",
              "      <th>Flow IAT Max</th>\n",
              "      <th>Flow IAT Min</th>\n",
              "      <th>Fwd IAT Total</th>\n",
              "      <th>Fwd IAT Mean</th>\n",
              "      <th>Fwd IAT Std</th>\n",
              "      <th>Fwd IAT Max</th>\n",
              "      <th>Fwd IAT Min</th>\n",
              "      <th>Bwd IAT Total</th>\n",
              "      <th>Bwd IAT Mean</th>\n",
              "      <th>Bwd IAT Std</th>\n",
              "      <th>Bwd IAT Max</th>\n",
              "      <th>Bwd IAT Min</th>\n",
              "      <th>Fwd PSH Flags</th>\n",
              "      <th>Bwd PSH Flags</th>\n",
              "      <th>Fwd URG Flags</th>\n",
              "      <th>Bwd URG Flags</th>\n",
              "      <th>Fwd Header Length</th>\n",
              "      <th>Bwd Header Length</th>\n",
              "      <th>Fwd Packets/s</th>\n",
              "      <th>Bwd Packets/s</th>\n",
              "      <th>Min Packet Length</th>\n",
              "      <th>Max Packet Length</th>\n",
              "      <th>Packet Length Mean</th>\n",
              "      <th>Packet Length Std</th>\n",
              "      <th>Packet Length Variance</th>\n",
              "      <th>FIN Flag Count</th>\n",
              "      <th>SYN Flag Count</th>\n",
              "      <th>RST Flag Count</th>\n",
              "      <th>PSH Flag Count</th>\n",
              "      <th>ACK Flag Count</th>\n",
              "      <th>URG Flag Count</th>\n",
              "      <th>CWE Flag Count</th>\n",
              "      <th>ECE Flag Count</th>\n",
              "      <th>Down/Up Ratio</th>\n",
              "      <th>Average Packet Size</th>\n",
              "      <th>Avg Fwd Segment Size</th>\n",
              "      <th>Avg Bwd Segment Size</th>\n",
              "      <th>Fwd Header Length.1</th>\n",
              "      <th>Fwd Avg Bytes/Bulk</th>\n",
              "      <th>Fwd Avg Packets/Bulk</th>\n",
              "      <th>Fwd Avg Bulk Rate</th>\n",
              "      <th>Bwd Avg Bytes/Bulk</th>\n",
              "      <th>Bwd Avg Packets/Bulk</th>\n",
              "      <th>Bwd Avg Bulk Rate</th>\n",
              "      <th>Subflow Fwd Packets</th>\n",
              "      <th>Subflow Fwd Bytes</th>\n",
              "      <th>Subflow Bwd Packets</th>\n",
              "      <th>Subflow Bwd Bytes</th>\n",
              "      <th>Init_Win_bytes_forward</th>\n",
              "      <th>Init_Win_bytes_backward</th>\n",
              "      <th>act_data_pkt_fwd</th>\n",
              "      <th>min_seg_size_forward</th>\n",
              "      <th>Active Mean</th>\n",
              "      <th>Active Std</th>\n",
              "      <th>Active Max</th>\n",
              "      <th>Active Min</th>\n",
              "      <th>Idle Mean</th>\n",
              "      <th>Idle Std</th>\n",
              "      <th>Idle Max</th>\n",
              "      <th>Idle Min</th>\n",
              "      <th>Label</th>\n",
              "    </tr>\n",
              "  </thead>\n",
              "  <tbody>\n",
              "    <tr>\n",
              "      <th>460954</th>\n",
              "      <td>0.675975</td>\n",
              "      <td>97.975197</td>\n",
              "      <td>64</td>\n",
              "      <td>67</td>\n",
              "      <td>3002</td>\n",
              "      <td>88697</td>\n",
              "      <td>1223</td>\n",
              "      <td>0</td>\n",
              "      <td>46.906250</td>\n",
              "      <td>207.125122</td>\n",
              "      <td>4344</td>\n",
              "      <td>0</td>\n",
              "      <td>1324.00000</td>\n",
              "      <td>1009.768982</td>\n",
              "      <td>11.192143</td>\n",
              "      <td>33.333351</td>\n",
              "      <td>0.753666</td>\n",
              "      <td>3.318352</td>\n",
              "      <td>8</td>\n",
              "      <td>0</td>\n",
              "      <td>98.333336</td>\n",
              "      <td>1.555162</td>\n",
              "      <td>4.539156</td>\n",
              "      <td>10000000</td>\n",
              "      <td>0.000013</td>\n",
              "      <td>113000000</td>\n",
              "      <td>1.710491e+06</td>\n",
              "      <td>3.761310e+06</td>\n",
              "      <td>10000000</td>\n",
              "      <td>2</td>\n",
              "      <td>0</td>\n",
              "      <td>0</td>\n",
              "      <td>0</td>\n",
              "      <td>0</td>\n",
              "      <td>2056</td>\n",
              "      <td>99.459396</td>\n",
              "      <td>0.000018</td>\n",
              "      <td>0.569872</td>\n",
              "      <td>0</td>\n",
              "      <td>4344</td>\n",
              "      <td>694.689392</td>\n",
              "      <td>972.355713</td>\n",
              "      <td>4.220873</td>\n",
              "      <td>0</td>\n",
              "      <td>0</td>\n",
              "      <td>0</td>\n",
              "      <td>1</td>\n",
              "      <td>0</td>\n",
              "      <td>0</td>\n",
              "      <td>0</td>\n",
              "      <td>0</td>\n",
              "      <td>1</td>\n",
              "      <td>699.992371</td>\n",
              "      <td>46.906250</td>\n",
              "      <td>1323.835821</td>\n",
              "      <td>99.985588</td>\n",
              "      <td>0</td>\n",
              "      <td>0</td>\n",
              "      <td>0</td>\n",
              "      <td>0</td>\n",
              "      <td>0</td>\n",
              "      <td>0</td>\n",
              "      <td>64</td>\n",
              "      <td>3002</td>\n",
              "      <td>67</td>\n",
              "      <td>1.353217e-02</td>\n",
              "      <td>44.557190</td>\n",
              "      <td>0.447083</td>\n",
              "      <td>6</td>\n",
              "      <td>99.999977</td>\n",
              "      <td>245670.6364</td>\n",
              "      <td>720732.5487</td>\n",
              "      <td>2418761</td>\n",
              "      <td>28236</td>\n",
              "      <td>8.335938</td>\n",
              "      <td>0.007406</td>\n",
              "      <td>8</td>\n",
              "      <td>10000000</td>\n",
              "      <td>BENIGN</td>\n",
              "    </tr>\n",
              "    <tr>\n",
              "      <th>1758162</th>\n",
              "      <td>0.032044</td>\n",
              "      <td>7.564078</td>\n",
              "      <td>9</td>\n",
              "      <td>15</td>\n",
              "      <td>102</td>\n",
              "      <td>188</td>\n",
              "      <td>21</td>\n",
              "      <td>0</td>\n",
              "      <td>11.333333</td>\n",
              "      <td>8.902246</td>\n",
              "      <td>34</td>\n",
              "      <td>0</td>\n",
              "      <td>12.53125</td>\n",
              "      <td>14.549750</td>\n",
              "      <td>11.192111</td>\n",
              "      <td>33.333378</td>\n",
              "      <td>0.328883</td>\n",
              "      <td>1.211331</td>\n",
              "      <td>2</td>\n",
              "      <td>0</td>\n",
              "      <td>5.253317</td>\n",
              "      <td>0.656665</td>\n",
              "      <td>1.725004</td>\n",
              "      <td>3350698</td>\n",
              "      <td>0.000214</td>\n",
              "      <td>9076764</td>\n",
              "      <td>6.483403e+05</td>\n",
              "      <td>1.268287e+06</td>\n",
              "      <td>3308022</td>\n",
              "      <td>3</td>\n",
              "      <td>0</td>\n",
              "      <td>0</td>\n",
              "      <td>0</td>\n",
              "      <td>0</td>\n",
              "      <td>296</td>\n",
              "      <td>99.459236</td>\n",
              "      <td>0.000033</td>\n",
              "      <td>1.652550</td>\n",
              "      <td>0</td>\n",
              "      <td>34</td>\n",
              "      <td>11.600000</td>\n",
              "      <td>12.493332</td>\n",
              "      <td>0.000697</td>\n",
              "      <td>0</td>\n",
              "      <td>0</td>\n",
              "      <td>0</td>\n",
              "      <td>1</td>\n",
              "      <td>0</td>\n",
              "      <td>0</td>\n",
              "      <td>0</td>\n",
              "      <td>0</td>\n",
              "      <td>1</td>\n",
              "      <td>12.083333</td>\n",
              "      <td>11.333333</td>\n",
              "      <td>12.533333</td>\n",
              "      <td>99.985580</td>\n",
              "      <td>0</td>\n",
              "      <td>0</td>\n",
              "      <td>0</td>\n",
              "      <td>0</td>\n",
              "      <td>0</td>\n",
              "      <td>0</td>\n",
              "      <td>9</td>\n",
              "      <td>102</td>\n",
              "      <td>15</td>\n",
              "      <td>2.868245e-05</td>\n",
              "      <td>44.557190</td>\n",
              "      <td>0.347900</td>\n",
              "      <td>6</td>\n",
              "      <td>99.999977</td>\n",
              "      <td>0.0000</td>\n",
              "      <td>0.0000</td>\n",
              "      <td>0</td>\n",
              "      <td>0</td>\n",
              "      <td>0.000000</td>\n",
              "      <td>0.000000</td>\n",
              "      <td>0</td>\n",
              "      <td>0</td>\n",
              "      <td>FTP-Patator</td>\n",
              "    </tr>\n",
              "    <tr>\n",
              "      <th>762474</th>\n",
              "      <td>0.122072</td>\n",
              "      <td>1.080437</td>\n",
              "      <td>3</td>\n",
              "      <td>0</td>\n",
              "      <td>18</td>\n",
              "      <td>0</td>\n",
              "      <td>6</td>\n",
              "      <td>6</td>\n",
              "      <td>6.000000</td>\n",
              "      <td>0.000000</td>\n",
              "      <td>0</td>\n",
              "      <td>0</td>\n",
              "      <td>0.00000</td>\n",
              "      <td>0.000000</td>\n",
              "      <td>11.192110</td>\n",
              "      <td>33.333370</td>\n",
              "      <td>0.540224</td>\n",
              "      <td>1.080981</td>\n",
              "      <td>1</td>\n",
              "      <td>0</td>\n",
              "      <td>1.080427</td>\n",
              "      <td>0.540213</td>\n",
              "      <td>1.083503</td>\n",
              "      <td>1296443</td>\n",
              "      <td>0.000067</td>\n",
              "      <td>0</td>\n",
              "      <td>0.000000e+00</td>\n",
              "      <td>0.000000e+00</td>\n",
              "      <td>0</td>\n",
              "      <td>0</td>\n",
              "      <td>0</td>\n",
              "      <td>0</td>\n",
              "      <td>0</td>\n",
              "      <td>0</td>\n",
              "      <td>60</td>\n",
              "      <td>99.459190</td>\n",
              "      <td>0.000077</td>\n",
              "      <td>0.000000</td>\n",
              "      <td>6</td>\n",
              "      <td>6</td>\n",
              "      <td>6.000000</td>\n",
              "      <td>0.000000</td>\n",
              "      <td>0.000000</td>\n",
              "      <td>0</td>\n",
              "      <td>0</td>\n",
              "      <td>0</td>\n",
              "      <td>0</td>\n",
              "      <td>1</td>\n",
              "      <td>1</td>\n",
              "      <td>0</td>\n",
              "      <td>0</td>\n",
              "      <td>0</td>\n",
              "      <td>8.000000</td>\n",
              "      <td>6.000000</td>\n",
              "      <td>0.000000</td>\n",
              "      <td>99.985580</td>\n",
              "      <td>0</td>\n",
              "      <td>0</td>\n",
              "      <td>0</td>\n",
              "      <td>0</td>\n",
              "      <td>0</td>\n",
              "      <td>0</td>\n",
              "      <td>3</td>\n",
              "      <td>18</td>\n",
              "      <td>0</td>\n",
              "      <td>0.000000e+00</td>\n",
              "      <td>0.183105</td>\n",
              "      <td>0.000000</td>\n",
              "      <td>2</td>\n",
              "      <td>99.999977</td>\n",
              "      <td>0.0000</td>\n",
              "      <td>0.0000</td>\n",
              "      <td>0</td>\n",
              "      <td>0</td>\n",
              "      <td>0.000000</td>\n",
              "      <td>0.000000</td>\n",
              "      <td>0</td>\n",
              "      <td>0</td>\n",
              "      <td>BENIGN</td>\n",
              "    </tr>\n",
              "    <tr>\n",
              "      <th>738088</th>\n",
              "      <td>0.122072</td>\n",
              "      <td>16.601877</td>\n",
              "      <td>5</td>\n",
              "      <td>5</td>\n",
              "      <td>432</td>\n",
              "      <td>1387</td>\n",
              "      <td>432</td>\n",
              "      <td>0</td>\n",
              "      <td>86.400002</td>\n",
              "      <td>193.196274</td>\n",
              "      <td>1387</td>\n",
              "      <td>0</td>\n",
              "      <td>277.50000</td>\n",
              "      <td>620.285278</td>\n",
              "      <td>11.192114</td>\n",
              "      <td>33.333344</td>\n",
              "      <td>1.844663</td>\n",
              "      <td>5.116336</td>\n",
              "      <td>8</td>\n",
              "      <td>0</td>\n",
              "      <td>8.446877</td>\n",
              "      <td>2.111719</td>\n",
              "      <td>5.889393</td>\n",
              "      <td>10007825</td>\n",
              "      <td>0.000177</td>\n",
              "      <td>19858659</td>\n",
              "      <td>4.964665e+06</td>\n",
              "      <td>5.697147e+06</td>\n",
              "      <td>10071590</td>\n",
              "      <td>572</td>\n",
              "      <td>0</td>\n",
              "      <td>0</td>\n",
              "      <td>0</td>\n",
              "      <td>0</td>\n",
              "      <td>168</td>\n",
              "      <td>99.459206</td>\n",
              "      <td>0.000008</td>\n",
              "      <td>0.250976</td>\n",
              "      <td>0</td>\n",
              "      <td>1387</td>\n",
              "      <td>165.363632</td>\n",
              "      <td>425.393524</td>\n",
              "      <td>0.807856</td>\n",
              "      <td>0</td>\n",
              "      <td>0</td>\n",
              "      <td>0</td>\n",
              "      <td>1</td>\n",
              "      <td>0</td>\n",
              "      <td>0</td>\n",
              "      <td>0</td>\n",
              "      <td>0</td>\n",
              "      <td>1</td>\n",
              "      <td>181.899994</td>\n",
              "      <td>86.400002</td>\n",
              "      <td>277.400000</td>\n",
              "      <td>99.985580</td>\n",
              "      <td>0</td>\n",
              "      <td>0</td>\n",
              "      <td>0</td>\n",
              "      <td>0</td>\n",
              "      <td>0</td>\n",
              "      <td>0</td>\n",
              "      <td>5</td>\n",
              "      <td>432</td>\n",
              "      <td>5</td>\n",
              "      <td>2.116094e-04</td>\n",
              "      <td>44.557190</td>\n",
              "      <td>1.434326</td>\n",
              "      <td>1</td>\n",
              "      <td>99.999977</td>\n",
              "      <td>128427.0000</td>\n",
              "      <td>0.0000</td>\n",
              "      <td>128427</td>\n",
              "      <td>128427</td>\n",
              "      <td>8.343750</td>\n",
              "      <td>0.000000</td>\n",
              "      <td>8</td>\n",
              "      <td>10007825</td>\n",
              "      <td>BENIGN</td>\n",
              "    </tr>\n",
              "    <tr>\n",
              "      <th>700003</th>\n",
              "      <td>54.004730</td>\n",
              "      <td>0.000042</td>\n",
              "      <td>1</td>\n",
              "      <td>3</td>\n",
              "      <td>0</td>\n",
              "      <td>2065</td>\n",
              "      <td>0</td>\n",
              "      <td>0</td>\n",
              "      <td>0.000000</td>\n",
              "      <td>0.000000</td>\n",
              "      <td>1448</td>\n",
              "      <td>0</td>\n",
              "      <td>688.50000</td>\n",
              "      <td>726.630798</td>\n",
              "      <td>13.520583</td>\n",
              "      <td>35.087719</td>\n",
              "      <td>0.000021</td>\n",
              "      <td>0.000022</td>\n",
              "      <td>0</td>\n",
              "      <td>0</td>\n",
              "      <td>0.000000</td>\n",
              "      <td>0.000000</td>\n",
              "      <td>0.000000</td>\n",
              "      <td>0</td>\n",
              "      <td>0.000010</td>\n",
              "      <td>4</td>\n",
              "      <td>2.000000e+00</td>\n",
              "      <td>0.000000e+00</td>\n",
              "      <td>2</td>\n",
              "      <td>2</td>\n",
              "      <td>0</td>\n",
              "      <td>0</td>\n",
              "      <td>0</td>\n",
              "      <td>0</td>\n",
              "      <td>32</td>\n",
              "      <td>99.459206</td>\n",
              "      <td>0.877193</td>\n",
              "      <td>78947.368420</td>\n",
              "      <td>0</td>\n",
              "      <td>1448</td>\n",
              "      <td>413.000000</td>\n",
              "      <td>637.288818</td>\n",
              "      <td>1.813112</td>\n",
              "      <td>0</td>\n",
              "      <td>0</td>\n",
              "      <td>0</td>\n",
              "      <td>0</td>\n",
              "      <td>1</td>\n",
              "      <td>1</td>\n",
              "      <td>0</td>\n",
              "      <td>0</td>\n",
              "      <td>3</td>\n",
              "      <td>516.250000</td>\n",
              "      <td>0.000000</td>\n",
              "      <td>688.333333</td>\n",
              "      <td>99.985580</td>\n",
              "      <td>0</td>\n",
              "      <td>0</td>\n",
              "      <td>0</td>\n",
              "      <td>0</td>\n",
              "      <td>0</td>\n",
              "      <td>0</td>\n",
              "      <td>1</td>\n",
              "      <td>0</td>\n",
              "      <td>3</td>\n",
              "      <td>3.150493e-04</td>\n",
              "      <td>0.604248</td>\n",
              "      <td>0.350952</td>\n",
              "      <td>0</td>\n",
              "      <td>99.999977</td>\n",
              "      <td>0.0000</td>\n",
              "      <td>0.0000</td>\n",
              "      <td>0</td>\n",
              "      <td>0</td>\n",
              "      <td>0.000000</td>\n",
              "      <td>0.000000</td>\n",
              "      <td>0</td>\n",
              "      <td>0</td>\n",
              "      <td>BENIGN</td>\n",
              "    </tr>\n",
              "    <tr>\n",
              "      <th>424203</th>\n",
              "      <td>50.016022</td>\n",
              "      <td>0.000052</td>\n",
              "      <td>1</td>\n",
              "      <td>1</td>\n",
              "      <td>0</td>\n",
              "      <td>6</td>\n",
              "      <td>0</td>\n",
              "      <td>0</td>\n",
              "      <td>0.000000</td>\n",
              "      <td>0.000000</td>\n",
              "      <td>6</td>\n",
              "      <td>6</td>\n",
              "      <td>6.00000</td>\n",
              "      <td>0.000000</td>\n",
              "      <td>11.197361</td>\n",
              "      <td>34.013607</td>\n",
              "      <td>0.000052</td>\n",
              "      <td>0.000000</td>\n",
              "      <td>0</td>\n",
              "      <td>0</td>\n",
              "      <td>0.000000</td>\n",
              "      <td>0.000000</td>\n",
              "      <td>0.000000</td>\n",
              "      <td>0</td>\n",
              "      <td>0.000010</td>\n",
              "      <td>0</td>\n",
              "      <td>0.000000e+00</td>\n",
              "      <td>0.000000e+00</td>\n",
              "      <td>0</td>\n",
              "      <td>0</td>\n",
              "      <td>0</td>\n",
              "      <td>0</td>\n",
              "      <td>0</td>\n",
              "      <td>0</td>\n",
              "      <td>40</td>\n",
              "      <td>99.459198</td>\n",
              "      <td>0.680272</td>\n",
              "      <td>20408.163270</td>\n",
              "      <td>0</td>\n",
              "      <td>6</td>\n",
              "      <td>2.000000</td>\n",
              "      <td>3.464102</td>\n",
              "      <td>0.000054</td>\n",
              "      <td>0</td>\n",
              "      <td>0</td>\n",
              "      <td>0</td>\n",
              "      <td>1</td>\n",
              "      <td>0</td>\n",
              "      <td>0</td>\n",
              "      <td>0</td>\n",
              "      <td>0</td>\n",
              "      <td>1</td>\n",
              "      <td>3.000000</td>\n",
              "      <td>0.000000</td>\n",
              "      <td>6.000000</td>\n",
              "      <td>99.985580</td>\n",
              "      <td>0</td>\n",
              "      <td>0</td>\n",
              "      <td>0</td>\n",
              "      <td>0</td>\n",
              "      <td>0</td>\n",
              "      <td>0</td>\n",
              "      <td>1</td>\n",
              "      <td>0</td>\n",
              "      <td>1</td>\n",
              "      <td>9.153974e-07</td>\n",
              "      <td>44.557190</td>\n",
              "      <td>0.001526</td>\n",
              "      <td>0</td>\n",
              "      <td>99.999985</td>\n",
              "      <td>0.0000</td>\n",
              "      <td>0.0000</td>\n",
              "      <td>0</td>\n",
              "      <td>0</td>\n",
              "      <td>0.000000</td>\n",
              "      <td>0.000000</td>\n",
              "      <td>0</td>\n",
              "      <td>0</td>\n",
              "      <td>PortScan</td>\n",
              "    </tr>\n",
              "    <tr>\n",
              "      <th>244233</th>\n",
              "      <td>0.080873</td>\n",
              "      <td>0.045125</td>\n",
              "      <td>4</td>\n",
              "      <td>2</td>\n",
              "      <td>140</td>\n",
              "      <td>296</td>\n",
              "      <td>35</td>\n",
              "      <td>35</td>\n",
              "      <td>35.000000</td>\n",
              "      <td>0.000000</td>\n",
              "      <td>148</td>\n",
              "      <td>148</td>\n",
              "      <td>148.00000</td>\n",
              "      <td>0.000000</td>\n",
              "      <td>11.192455</td>\n",
              "      <td>33.335182</td>\n",
              "      <td>0.009034</td>\n",
              "      <td>0.017699</td>\n",
              "      <td>0</td>\n",
              "      <td>0</td>\n",
              "      <td>0.025348</td>\n",
              "      <td>0.008449</td>\n",
              "      <td>0.020750</td>\n",
              "      <td>30410</td>\n",
              "      <td>0.000013</td>\n",
              "      <td>4</td>\n",
              "      <td>4.000000e+00</td>\n",
              "      <td>0.000000e+00</td>\n",
              "      <td>4</td>\n",
              "      <td>4</td>\n",
              "      <td>0</td>\n",
              "      <td>0</td>\n",
              "      <td>0</td>\n",
              "      <td>0</td>\n",
              "      <td>80</td>\n",
              "      <td>99.459198</td>\n",
              "      <td>0.002463</td>\n",
              "      <td>36.943310</td>\n",
              "      <td>35</td>\n",
              "      <td>148</td>\n",
              "      <td>67.285713</td>\n",
              "      <td>55.138355</td>\n",
              "      <td>0.013572</td>\n",
              "      <td>0</td>\n",
              "      <td>0</td>\n",
              "      <td>0</td>\n",
              "      <td>0</td>\n",
              "      <td>0</td>\n",
              "      <td>0</td>\n",
              "      <td>0</td>\n",
              "      <td>0</td>\n",
              "      <td>0</td>\n",
              "      <td>78.500000</td>\n",
              "      <td>35.000000</td>\n",
              "      <td>148.000000</td>\n",
              "      <td>99.985580</td>\n",
              "      <td>0</td>\n",
              "      <td>0</td>\n",
              "      <td>0</td>\n",
              "      <td>0</td>\n",
              "      <td>0</td>\n",
              "      <td>0</td>\n",
              "      <td>4</td>\n",
              "      <td>140</td>\n",
              "      <td>2</td>\n",
              "      <td>4.515961e-05</td>\n",
              "      <td>0.000000</td>\n",
              "      <td>0.000000</td>\n",
              "      <td>3</td>\n",
              "      <td>99.999977</td>\n",
              "      <td>0.0000</td>\n",
              "      <td>0.0000</td>\n",
              "      <td>0</td>\n",
              "      <td>0</td>\n",
              "      <td>0.000000</td>\n",
              "      <td>0.000000</td>\n",
              "      <td>0</td>\n",
              "      <td>0</td>\n",
              "      <td>BENIGN</td>\n",
              "    </tr>\n",
              "    <tr>\n",
              "      <th>1334496</th>\n",
              "      <td>0.080873</td>\n",
              "      <td>0.000207</td>\n",
              "      <td>2</td>\n",
              "      <td>2</td>\n",
              "      <td>60</td>\n",
              "      <td>380</td>\n",
              "      <td>30</td>\n",
              "      <td>30</td>\n",
              "      <td>30.000000</td>\n",
              "      <td>0.000000</td>\n",
              "      <td>190</td>\n",
              "      <td>190</td>\n",
              "      <td>190.00000</td>\n",
              "      <td>0.000000</td>\n",
              "      <td>11.272399</td>\n",
              "      <td>33.617020</td>\n",
              "      <td>0.000076</td>\n",
              "      <td>0.000111</td>\n",
              "      <td>0</td>\n",
              "      <td>0</td>\n",
              "      <td>0.000002</td>\n",
              "      <td>0.000002</td>\n",
              "      <td>0.000000</td>\n",
              "      <td>3</td>\n",
              "      <td>0.000012</td>\n",
              "      <td>48</td>\n",
              "      <td>4.800000e+01</td>\n",
              "      <td>0.000000e+00</td>\n",
              "      <td>48</td>\n",
              "      <td>48</td>\n",
              "      <td>0</td>\n",
              "      <td>0</td>\n",
              "      <td>0</td>\n",
              "      <td>0</td>\n",
              "      <td>40</td>\n",
              "      <td>99.459198</td>\n",
              "      <td>0.283688</td>\n",
              "      <td>8510.638298</td>\n",
              "      <td>30</td>\n",
              "      <td>190</td>\n",
              "      <td>94.000000</td>\n",
              "      <td>87.635612</td>\n",
              "      <td>0.034286</td>\n",
              "      <td>0</td>\n",
              "      <td>0</td>\n",
              "      <td>0</td>\n",
              "      <td>0</td>\n",
              "      <td>0</td>\n",
              "      <td>0</td>\n",
              "      <td>0</td>\n",
              "      <td>0</td>\n",
              "      <td>1</td>\n",
              "      <td>117.500000</td>\n",
              "      <td>30.000000</td>\n",
              "      <td>190.000000</td>\n",
              "      <td>99.985580</td>\n",
              "      <td>0</td>\n",
              "      <td>0</td>\n",
              "      <td>0</td>\n",
              "      <td>0</td>\n",
              "      <td>0</td>\n",
              "      <td>0</td>\n",
              "      <td>2</td>\n",
              "      <td>60</td>\n",
              "      <td>2</td>\n",
              "      <td>5.797517e-05</td>\n",
              "      <td>0.000000</td>\n",
              "      <td>0.000000</td>\n",
              "      <td>1</td>\n",
              "      <td>99.999977</td>\n",
              "      <td>0.0000</td>\n",
              "      <td>0.0000</td>\n",
              "      <td>0</td>\n",
              "      <td>0</td>\n",
              "      <td>0.000000</td>\n",
              "      <td>0.000000</td>\n",
              "      <td>0</td>\n",
              "      <td>0</td>\n",
              "      <td>BENIGN</td>\n",
              "    </tr>\n",
              "    <tr>\n",
              "      <th>2643299</th>\n",
              "      <td>0.675975</td>\n",
              "      <td>4.729495</td>\n",
              "      <td>10</td>\n",
              "      <td>6</td>\n",
              "      <td>352</td>\n",
              "      <td>6478</td>\n",
              "      <td>195</td>\n",
              "      <td>0</td>\n",
              "      <td>35.200001</td>\n",
              "      <td>68.695465</td>\n",
              "      <td>4096</td>\n",
              "      <td>0</td>\n",
              "      <td>1080.00000</td>\n",
              "      <td>1575.897705</td>\n",
              "      <td>11.192162</td>\n",
              "      <td>33.333382</td>\n",
              "      <td>0.315310</td>\n",
              "      <td>1.606472</td>\n",
              "      <td>4</td>\n",
              "      <td>0</td>\n",
              "      <td>4.729484</td>\n",
              "      <td>0.525498</td>\n",
              "      <td>2.070690</td>\n",
              "      <td>5299177</td>\n",
              "      <td>0.000045</td>\n",
              "      <td>311074</td>\n",
              "      <td>6.221480e+04</td>\n",
              "      <td>9.670614e+04</td>\n",
              "      <td>230314</td>\n",
              "      <td>227</td>\n",
              "      <td>0</td>\n",
              "      <td>0</td>\n",
              "      <td>0</td>\n",
              "      <td>0</td>\n",
              "      <td>328</td>\n",
              "      <td>99.459213</td>\n",
              "      <td>0.000059</td>\n",
              "      <td>1.057198</td>\n",
              "      <td>0</td>\n",
              "      <td>4096</td>\n",
              "      <td>401.764709</td>\n",
              "      <td>1022.318359</td>\n",
              "      <td>4.665781</td>\n",
              "      <td>0</td>\n",
              "      <td>0</td>\n",
              "      <td>0</td>\n",
              "      <td>1</td>\n",
              "      <td>0</td>\n",
              "      <td>0</td>\n",
              "      <td>0</td>\n",
              "      <td>0</td>\n",
              "      <td>0</td>\n",
              "      <td>426.875000</td>\n",
              "      <td>35.200001</td>\n",
              "      <td>1079.666667</td>\n",
              "      <td>99.985580</td>\n",
              "      <td>0</td>\n",
              "      <td>0</td>\n",
              "      <td>0</td>\n",
              "      <td>0</td>\n",
              "      <td>0</td>\n",
              "      <td>0</td>\n",
              "      <td>10</td>\n",
              "      <td>352</td>\n",
              "      <td>6</td>\n",
              "      <td>9.883241e-04</td>\n",
              "      <td>44.557190</td>\n",
              "      <td>1.434326</td>\n",
              "      <td>3</td>\n",
              "      <td>99.999977</td>\n",
              "      <td>376162.0000</td>\n",
              "      <td>0.0000</td>\n",
              "      <td>376162</td>\n",
              "      <td>376162</td>\n",
              "      <td>4.414062</td>\n",
              "      <td>0.000000</td>\n",
              "      <td>4</td>\n",
              "      <td>5299177</td>\n",
              "      <td>BENIGN</td>\n",
              "    </tr>\n",
              "    <tr>\n",
              "      <th>643120</th>\n",
              "      <td>0.080873</td>\n",
              "      <td>0.026397</td>\n",
              "      <td>2</td>\n",
              "      <td>2</td>\n",
              "      <td>76</td>\n",
              "      <td>262</td>\n",
              "      <td>38</td>\n",
              "      <td>38</td>\n",
              "      <td>38.000000</td>\n",
              "      <td>0.000000</td>\n",
              "      <td>131</td>\n",
              "      <td>131</td>\n",
              "      <td>131.00000</td>\n",
              "      <td>0.000000</td>\n",
              "      <td>11.192568</td>\n",
              "      <td>33.335438</td>\n",
              "      <td>0.008806</td>\n",
              "      <td>0.021551</td>\n",
              "      <td>0</td>\n",
              "      <td>0</td>\n",
              "      <td>0.000003</td>\n",
              "      <td>0.000003</td>\n",
              "      <td>0.000000</td>\n",
              "      <td>4</td>\n",
              "      <td>0.000013</td>\n",
              "      <td>3</td>\n",
              "      <td>3.000000e+00</td>\n",
              "      <td>0.000000e+00</td>\n",
              "      <td>3</td>\n",
              "      <td>3</td>\n",
              "      <td>0</td>\n",
              "      <td>0</td>\n",
              "      <td>0</td>\n",
              "      <td>0</td>\n",
              "      <td>64</td>\n",
              "      <td>99.459198</td>\n",
              "      <td>0.002105</td>\n",
              "      <td>63.163214</td>\n",
              "      <td>38</td>\n",
              "      <td>131</td>\n",
              "      <td>75.199997</td>\n",
              "      <td>50.938198</td>\n",
              "      <td>0.011583</td>\n",
              "      <td>0</td>\n",
              "      <td>0</td>\n",
              "      <td>0</td>\n",
              "      <td>0</td>\n",
              "      <td>0</td>\n",
              "      <td>0</td>\n",
              "      <td>0</td>\n",
              "      <td>0</td>\n",
              "      <td>1</td>\n",
              "      <td>94.000000</td>\n",
              "      <td>38.000000</td>\n",
              "      <td>131.000000</td>\n",
              "      <td>99.985580</td>\n",
              "      <td>0</td>\n",
              "      <td>0</td>\n",
              "      <td>0</td>\n",
              "      <td>0</td>\n",
              "      <td>0</td>\n",
              "      <td>0</td>\n",
              "      <td>2</td>\n",
              "      <td>76</td>\n",
              "      <td>2</td>\n",
              "      <td>3.997235e-05</td>\n",
              "      <td>0.000000</td>\n",
              "      <td>0.000000</td>\n",
              "      <td>1</td>\n",
              "      <td>99.999977</td>\n",
              "      <td>0.0000</td>\n",
              "      <td>0.0000</td>\n",
              "      <td>0</td>\n",
              "      <td>0</td>\n",
              "      <td>0.000000</td>\n",
              "      <td>0.000000</td>\n",
              "      <td>0</td>\n",
              "      <td>0</td>\n",
              "      <td>BENIGN</td>\n",
              "    </tr>\n",
              "    <tr>\n",
              "      <th>734213</th>\n",
              "      <td>0.080873</td>\n",
              "      <td>0.030799</td>\n",
              "      <td>1</td>\n",
              "      <td>1</td>\n",
              "      <td>49</td>\n",
              "      <td>106</td>\n",
              "      <td>49</td>\n",
              "      <td>49</td>\n",
              "      <td>49.000000</td>\n",
              "      <td>0.000000</td>\n",
              "      <td>106</td>\n",
              "      <td>106</td>\n",
              "      <td>106.00000</td>\n",
              "      <td>0.000000</td>\n",
              "      <td>11.192289</td>\n",
              "      <td>33.334236</td>\n",
              "      <td>0.030799</td>\n",
              "      <td>0.000000</td>\n",
              "      <td>0</td>\n",
              "      <td>0</td>\n",
              "      <td>0.000000</td>\n",
              "      <td>0.000000</td>\n",
              "      <td>0.000000</td>\n",
              "      <td>0</td>\n",
              "      <td>0.000010</td>\n",
              "      <td>0</td>\n",
              "      <td>0.000000e+00</td>\n",
              "      <td>0.000000e+00</td>\n",
              "      <td>0</td>\n",
              "      <td>0</td>\n",
              "      <td>0</td>\n",
              "      <td>0</td>\n",
              "      <td>0</td>\n",
              "      <td>0</td>\n",
              "      <td>32</td>\n",
              "      <td>99.459198</td>\n",
              "      <td>0.000902</td>\n",
              "      <td>27.066530</td>\n",
              "      <td>49</td>\n",
              "      <td>106</td>\n",
              "      <td>68.000000</td>\n",
              "      <td>32.908966</td>\n",
              "      <td>0.004835</td>\n",
              "      <td>0</td>\n",
              "      <td>0</td>\n",
              "      <td>0</td>\n",
              "      <td>0</td>\n",
              "      <td>0</td>\n",
              "      <td>0</td>\n",
              "      <td>0</td>\n",
              "      <td>0</td>\n",
              "      <td>1</td>\n",
              "      <td>102.000000</td>\n",
              "      <td>49.000000</td>\n",
              "      <td>106.000000</td>\n",
              "      <td>99.985580</td>\n",
              "      <td>0</td>\n",
              "      <td>0</td>\n",
              "      <td>0</td>\n",
              "      <td>0</td>\n",
              "      <td>0</td>\n",
              "      <td>0</td>\n",
              "      <td>1</td>\n",
              "      <td>49</td>\n",
              "      <td>1</td>\n",
              "      <td>1.617202e-05</td>\n",
              "      <td>0.000000</td>\n",
              "      <td>0.000000</td>\n",
              "      <td>0</td>\n",
              "      <td>99.999977</td>\n",
              "      <td>0.0000</td>\n",
              "      <td>0.0000</td>\n",
              "      <td>0</td>\n",
              "      <td>0</td>\n",
              "      <td>0.000000</td>\n",
              "      <td>0.000000</td>\n",
              "      <td>0</td>\n",
              "      <td>0</td>\n",
              "      <td>BENIGN</td>\n",
              "    </tr>\n",
              "    <tr>\n",
              "      <th>854229</th>\n",
              "      <td>0.675975</td>\n",
              "      <td>0.095849</td>\n",
              "      <td>11</td>\n",
              "      <td>7</td>\n",
              "      <td>1174</td>\n",
              "      <td>1958</td>\n",
              "      <td>901</td>\n",
              "      <td>0</td>\n",
              "      <td>106.727272</td>\n",
              "      <td>266.928101</td>\n",
              "      <td>1397</td>\n",
              "      <td>0</td>\n",
              "      <td>279.75000</td>\n",
              "      <td>514.312744</td>\n",
              "      <td>11.193277</td>\n",
              "      <td>33.335941</td>\n",
              "      <td>0.005648</td>\n",
              "      <td>0.012169</td>\n",
              "      <td>0</td>\n",
              "      <td>0</td>\n",
              "      <td>0.095838</td>\n",
              "      <td>0.009584</td>\n",
              "      <td>0.025803</td>\n",
              "      <td>70561</td>\n",
              "      <td>0.000012</td>\n",
              "      <td>93486</td>\n",
              "      <td>1.558100e+04</td>\n",
              "      <td>1.335573e+04</td>\n",
              "      <td>37414</td>\n",
              "      <td>4</td>\n",
              "      <td>0</td>\n",
              "      <td>0</td>\n",
              "      <td>0</td>\n",
              "      <td>0</td>\n",
              "      <td>244</td>\n",
              "      <td>99.459206</td>\n",
              "      <td>0.003188</td>\n",
              "      <td>60.866390</td>\n",
              "      <td>0</td>\n",
              "      <td>1397</td>\n",
              "      <td>164.842102</td>\n",
              "      <td>369.406769</td>\n",
              "      <td>0.609203</td>\n",
              "      <td>0</td>\n",
              "      <td>0</td>\n",
              "      <td>0</td>\n",
              "      <td>1</td>\n",
              "      <td>0</td>\n",
              "      <td>0</td>\n",
              "      <td>0</td>\n",
              "      <td>0</td>\n",
              "      <td>0</td>\n",
              "      <td>174.000000</td>\n",
              "      <td>106.727272</td>\n",
              "      <td>279.714286</td>\n",
              "      <td>99.985580</td>\n",
              "      <td>0</td>\n",
              "      <td>0</td>\n",
              "      <td>0</td>\n",
              "      <td>0</td>\n",
              "      <td>0</td>\n",
              "      <td>0</td>\n",
              "      <td>11</td>\n",
              "      <td>1174</td>\n",
              "      <td>7</td>\n",
              "      <td>2.987247e-04</td>\n",
              "      <td>100.000000</td>\n",
              "      <td>0.050354</td>\n",
              "      <td>10</td>\n",
              "      <td>99.999977</td>\n",
              "      <td>0.0000</td>\n",
              "      <td>0.0000</td>\n",
              "      <td>0</td>\n",
              "      <td>0</td>\n",
              "      <td>0.000000</td>\n",
              "      <td>0.000000</td>\n",
              "      <td>0</td>\n",
              "      <td>0</td>\n",
              "      <td>BENIGN</td>\n",
              "    </tr>\n",
              "    <tr>\n",
              "      <th>320350</th>\n",
              "      <td>11.902037</td>\n",
              "      <td>0.000050</td>\n",
              "      <td>1</td>\n",
              "      <td>1</td>\n",
              "      <td>2</td>\n",
              "      <td>6</td>\n",
              "      <td>2</td>\n",
              "      <td>2</td>\n",
              "      <td>2.000000</td>\n",
              "      <td>0.000000</td>\n",
              "      <td>6</td>\n",
              "      <td>6</td>\n",
              "      <td>6.00000</td>\n",
              "      <td>0.000000</td>\n",
              "      <td>11.199409</td>\n",
              "      <td>34.042553</td>\n",
              "      <td>0.000050</td>\n",
              "      <td>0.000000</td>\n",
              "      <td>0</td>\n",
              "      <td>0</td>\n",
              "      <td>0.000000</td>\n",
              "      <td>0.000000</td>\n",
              "      <td>0.000000</td>\n",
              "      <td>0</td>\n",
              "      <td>0.000010</td>\n",
              "      <td>0</td>\n",
              "      <td>0.000000e+00</td>\n",
              "      <td>0.000000e+00</td>\n",
              "      <td>0</td>\n",
              "      <td>0</td>\n",
              "      <td>0</td>\n",
              "      <td>0</td>\n",
              "      <td>0</td>\n",
              "      <td>0</td>\n",
              "      <td>24</td>\n",
              "      <td>99.459198</td>\n",
              "      <td>0.709220</td>\n",
              "      <td>21276.595740</td>\n",
              "      <td>2</td>\n",
              "      <td>6</td>\n",
              "      <td>3.333333</td>\n",
              "      <td>2.309401</td>\n",
              "      <td>0.000024</td>\n",
              "      <td>0</td>\n",
              "      <td>0</td>\n",
              "      <td>0</td>\n",
              "      <td>1</td>\n",
              "      <td>0</td>\n",
              "      <td>0</td>\n",
              "      <td>0</td>\n",
              "      <td>0</td>\n",
              "      <td>1</td>\n",
              "      <td>5.000000</td>\n",
              "      <td>2.000000</td>\n",
              "      <td>6.000000</td>\n",
              "      <td>99.985580</td>\n",
              "      <td>0</td>\n",
              "      <td>0</td>\n",
              "      <td>0</td>\n",
              "      <td>0</td>\n",
              "      <td>0</td>\n",
              "      <td>0</td>\n",
              "      <td>1</td>\n",
              "      <td>2</td>\n",
              "      <td>1</td>\n",
              "      <td>9.153974e-07</td>\n",
              "      <td>1.564026</td>\n",
              "      <td>0.001526</td>\n",
              "      <td>0</td>\n",
              "      <td>99.999977</td>\n",
              "      <td>0.0000</td>\n",
              "      <td>0.0000</td>\n",
              "      <td>0</td>\n",
              "      <td>0</td>\n",
              "      <td>0.000000</td>\n",
              "      <td>0.000000</td>\n",
              "      <td>0</td>\n",
              "      <td>0</td>\n",
              "      <td>PortScan</td>\n",
              "    </tr>\n",
              "    <tr>\n",
              "      <th>1854675</th>\n",
              "      <td>0.080873</td>\n",
              "      <td>0.040342</td>\n",
              "      <td>1</td>\n",
              "      <td>1</td>\n",
              "      <td>45</td>\n",
              "      <td>194</td>\n",
              "      <td>45</td>\n",
              "      <td>45</td>\n",
              "      <td>45.000000</td>\n",
              "      <td>0.000000</td>\n",
              "      <td>194</td>\n",
              "      <td>194</td>\n",
              "      <td>194.00000</td>\n",
              "      <td>0.000000</td>\n",
              "      <td>11.192322</td>\n",
              "      <td>33.334023</td>\n",
              "      <td>0.040342</td>\n",
              "      <td>0.000000</td>\n",
              "      <td>0</td>\n",
              "      <td>0</td>\n",
              "      <td>0.000000</td>\n",
              "      <td>0.000000</td>\n",
              "      <td>0.000000</td>\n",
              "      <td>0</td>\n",
              "      <td>0.000010</td>\n",
              "      <td>0</td>\n",
              "      <td>0.000000e+00</td>\n",
              "      <td>0.000000e+00</td>\n",
              "      <td>0</td>\n",
              "      <td>0</td>\n",
              "      <td>0</td>\n",
              "      <td>0</td>\n",
              "      <td>0</td>\n",
              "      <td>0</td>\n",
              "      <td>40</td>\n",
              "      <td>99.459198</td>\n",
              "      <td>0.000689</td>\n",
              "      <td>20.662011</td>\n",
              "      <td>45</td>\n",
              "      <td>194</td>\n",
              "      <td>94.666664</td>\n",
              "      <td>86.025192</td>\n",
              "      <td>0.033037</td>\n",
              "      <td>0</td>\n",
              "      <td>0</td>\n",
              "      <td>0</td>\n",
              "      <td>0</td>\n",
              "      <td>0</td>\n",
              "      <td>0</td>\n",
              "      <td>0</td>\n",
              "      <td>0</td>\n",
              "      <td>1</td>\n",
              "      <td>142.000000</td>\n",
              "      <td>45.000000</td>\n",
              "      <td>194.000000</td>\n",
              "      <td>99.985580</td>\n",
              "      <td>0</td>\n",
              "      <td>0</td>\n",
              "      <td>0</td>\n",
              "      <td>0</td>\n",
              "      <td>0</td>\n",
              "      <td>0</td>\n",
              "      <td>1</td>\n",
              "      <td>45</td>\n",
              "      <td>1</td>\n",
              "      <td>2.959785e-05</td>\n",
              "      <td>0.000000</td>\n",
              "      <td>0.000000</td>\n",
              "      <td>0</td>\n",
              "      <td>99.999985</td>\n",
              "      <td>0.0000</td>\n",
              "      <td>0.0000</td>\n",
              "      <td>0</td>\n",
              "      <td>0</td>\n",
              "      <td>0.000000</td>\n",
              "      <td>0.000000</td>\n",
              "      <td>0</td>\n",
              "      <td>0</td>\n",
              "      <td>BENIGN</td>\n",
              "    </tr>\n",
              "    <tr>\n",
              "      <th>2677589</th>\n",
              "      <td>0.080873</td>\n",
              "      <td>0.000187</td>\n",
              "      <td>2</td>\n",
              "      <td>2</td>\n",
              "      <td>84</td>\n",
              "      <td>204</td>\n",
              "      <td>42</td>\n",
              "      <td>42</td>\n",
              "      <td>42.000000</td>\n",
              "      <td>0.000000</td>\n",
              "      <td>102</td>\n",
              "      <td>102</td>\n",
              "      <td>102.00000</td>\n",
              "      <td>0.000000</td>\n",
              "      <td>11.250640</td>\n",
              "      <td>33.649288</td>\n",
              "      <td>0.000069</td>\n",
              "      <td>0.000138</td>\n",
              "      <td>0</td>\n",
              "      <td>0</td>\n",
              "      <td>0.000002</td>\n",
              "      <td>0.000002</td>\n",
              "      <td>0.000000</td>\n",
              "      <td>3</td>\n",
              "      <td>0.000012</td>\n",
              "      <td>3</td>\n",
              "      <td>3.000000e+00</td>\n",
              "      <td>0.000000e+00</td>\n",
              "      <td>3</td>\n",
              "      <td>3</td>\n",
              "      <td>0</td>\n",
              "      <td>0</td>\n",
              "      <td>0</td>\n",
              "      <td>0</td>\n",
              "      <td>64</td>\n",
              "      <td>99.459198</td>\n",
              "      <td>0.315956</td>\n",
              "      <td>9478.672986</td>\n",
              "      <td>42</td>\n",
              "      <td>102</td>\n",
              "      <td>66.000000</td>\n",
              "      <td>32.863354</td>\n",
              "      <td>0.004821</td>\n",
              "      <td>0</td>\n",
              "      <td>0</td>\n",
              "      <td>0</td>\n",
              "      <td>0</td>\n",
              "      <td>0</td>\n",
              "      <td>0</td>\n",
              "      <td>0</td>\n",
              "      <td>0</td>\n",
              "      <td>1</td>\n",
              "      <td>82.500000</td>\n",
              "      <td>42.000000</td>\n",
              "      <td>102.000000</td>\n",
              "      <td>99.985580</td>\n",
              "      <td>0</td>\n",
              "      <td>0</td>\n",
              "      <td>0</td>\n",
              "      <td>0</td>\n",
              "      <td>0</td>\n",
              "      <td>0</td>\n",
              "      <td>2</td>\n",
              "      <td>84</td>\n",
              "      <td>2</td>\n",
              "      <td>3.112351e-05</td>\n",
              "      <td>0.000000</td>\n",
              "      <td>0.000000</td>\n",
              "      <td>1</td>\n",
              "      <td>99.999977</td>\n",
              "      <td>0.0000</td>\n",
              "      <td>0.0000</td>\n",
              "      <td>0</td>\n",
              "      <td>0</td>\n",
              "      <td>0.000000</td>\n",
              "      <td>0.000000</td>\n",
              "      <td>0</td>\n",
              "      <td>0</td>\n",
              "      <td>BENIGN</td>\n",
              "    </tr>\n",
              "    <tr>\n",
              "      <th>1977965</th>\n",
              "      <td>0.080873</td>\n",
              "      <td>0.000152</td>\n",
              "      <td>2</td>\n",
              "      <td>2</td>\n",
              "      <td>88</td>\n",
              "      <td>188</td>\n",
              "      <td>44</td>\n",
              "      <td>44</td>\n",
              "      <td>44.000000</td>\n",
              "      <td>0.000000</td>\n",
              "      <td>94</td>\n",
              "      <td>94</td>\n",
              "      <td>94.00000</td>\n",
              "      <td>0.000000</td>\n",
              "      <td>11.261729</td>\n",
              "      <td>33.725491</td>\n",
              "      <td>0.000058</td>\n",
              "      <td>0.000108</td>\n",
              "      <td>0</td>\n",
              "      <td>0</td>\n",
              "      <td>0.000003</td>\n",
              "      <td>0.000003</td>\n",
              "      <td>0.000000</td>\n",
              "      <td>4</td>\n",
              "      <td>0.000013</td>\n",
              "      <td>4</td>\n",
              "      <td>4.000000e+00</td>\n",
              "      <td>0.000000e+00</td>\n",
              "      <td>4</td>\n",
              "      <td>4</td>\n",
              "      <td>0</td>\n",
              "      <td>0</td>\n",
              "      <td>0</td>\n",
              "      <td>0</td>\n",
              "      <td>40</td>\n",
              "      <td>99.459198</td>\n",
              "      <td>0.392157</td>\n",
              "      <td>11764.705880</td>\n",
              "      <td>44</td>\n",
              "      <td>94</td>\n",
              "      <td>64.000000</td>\n",
              "      <td>27.386127</td>\n",
              "      <td>0.003348</td>\n",
              "      <td>0</td>\n",
              "      <td>0</td>\n",
              "      <td>0</td>\n",
              "      <td>0</td>\n",
              "      <td>0</td>\n",
              "      <td>0</td>\n",
              "      <td>0</td>\n",
              "      <td>0</td>\n",
              "      <td>1</td>\n",
              "      <td>80.000000</td>\n",
              "      <td>44.000000</td>\n",
              "      <td>94.000000</td>\n",
              "      <td>99.985580</td>\n",
              "      <td>0</td>\n",
              "      <td>0</td>\n",
              "      <td>0</td>\n",
              "      <td>0</td>\n",
              "      <td>0</td>\n",
              "      <td>0</td>\n",
              "      <td>2</td>\n",
              "      <td>88</td>\n",
              "      <td>2</td>\n",
              "      <td>2.868245e-05</td>\n",
              "      <td>0.000000</td>\n",
              "      <td>0.000000</td>\n",
              "      <td>1</td>\n",
              "      <td>99.999977</td>\n",
              "      <td>0.0000</td>\n",
              "      <td>0.0000</td>\n",
              "      <td>0</td>\n",
              "      <td>0</td>\n",
              "      <td>0.000000</td>\n",
              "      <td>0.000000</td>\n",
              "      <td>0</td>\n",
              "      <td>0</td>\n",
              "      <td>BENIGN</td>\n",
              "    </tr>\n",
              "    <tr>\n",
              "      <th>1665853</th>\n",
              "      <td>0.675975</td>\n",
              "      <td>98.040161</td>\n",
              "      <td>23</td>\n",
              "      <td>23</td>\n",
              "      <td>1557</td>\n",
              "      <td>4572</td>\n",
              "      <td>547</td>\n",
              "      <td>0</td>\n",
              "      <td>67.695656</td>\n",
              "      <td>158.412704</td>\n",
              "      <td>1460</td>\n",
              "      <td>0</td>\n",
              "      <td>198.75000</td>\n",
              "      <td>432.669189</td>\n",
              "      <td>11.192112</td>\n",
              "      <td>33.333340</td>\n",
              "      <td>2.178681</td>\n",
              "      <td>5.062290</td>\n",
              "      <td>8</td>\n",
              "      <td>0</td>\n",
              "      <td>98.333336</td>\n",
              "      <td>4.456371</td>\n",
              "      <td>5.836699</td>\n",
              "      <td>10100000</td>\n",
              "      <td>0.000011</td>\n",
              "      <td>113000000</td>\n",
              "      <td>5.132149e+06</td>\n",
              "      <td>5.097801e+06</td>\n",
              "      <td>10100000</td>\n",
              "      <td>48</td>\n",
              "      <td>0</td>\n",
              "      <td>0</td>\n",
              "      <td>0</td>\n",
              "      <td>0</td>\n",
              "      <td>472</td>\n",
              "      <td>99.459236</td>\n",
              "      <td>0.000007</td>\n",
              "      <td>0.195498</td>\n",
              "      <td>0</td>\n",
              "      <td>1460</td>\n",
              "      <td>130.404251</td>\n",
              "      <td>325.894318</td>\n",
              "      <td>0.474139</td>\n",
              "      <td>0</td>\n",
              "      <td>0</td>\n",
              "      <td>0</td>\n",
              "      <td>1</td>\n",
              "      <td>0</td>\n",
              "      <td>0</td>\n",
              "      <td>0</td>\n",
              "      <td>0</td>\n",
              "      <td>1</td>\n",
              "      <td>133.239136</td>\n",
              "      <td>67.695656</td>\n",
              "      <td>198.782609</td>\n",
              "      <td>99.985580</td>\n",
              "      <td>0</td>\n",
              "      <td>0</td>\n",
              "      <td>0</td>\n",
              "      <td>0</td>\n",
              "      <td>0</td>\n",
              "      <td>0</td>\n",
              "      <td>23</td>\n",
              "      <td>1557</td>\n",
              "      <td>23</td>\n",
              "      <td>6.975328e-04</td>\n",
              "      <td>12.501526</td>\n",
              "      <td>8.857727</td>\n",
              "      <td>22</td>\n",
              "      <td>99.999977</td>\n",
              "      <td>281108.7273</td>\n",
              "      <td>574076.0163</td>\n",
              "      <td>2012013</td>\n",
              "      <td>107784</td>\n",
              "      <td>8.320312</td>\n",
              "      <td>0.081013</td>\n",
              "      <td>8</td>\n",
              "      <td>9795482</td>\n",
              "      <td>BENIGN</td>\n",
              "    </tr>\n",
              "    <tr>\n",
              "      <th>1743944</th>\n",
              "      <td>0.122072</td>\n",
              "      <td>0.000052</td>\n",
              "      <td>2</td>\n",
              "      <td>0</td>\n",
              "      <td>0</td>\n",
              "      <td>0</td>\n",
              "      <td>0</td>\n",
              "      <td>0</td>\n",
              "      <td>0.000000</td>\n",
              "      <td>0.000000</td>\n",
              "      <td>0</td>\n",
              "      <td>0</td>\n",
              "      <td>0.00000</td>\n",
              "      <td>0.000000</td>\n",
              "      <td>11.192110</td>\n",
              "      <td>34.013607</td>\n",
              "      <td>0.000052</td>\n",
              "      <td>0.000000</td>\n",
              "      <td>0</td>\n",
              "      <td>0</td>\n",
              "      <td>0.000041</td>\n",
              "      <td>0.000041</td>\n",
              "      <td>0.000000</td>\n",
              "      <td>49</td>\n",
              "      <td>0.000051</td>\n",
              "      <td>0</td>\n",
              "      <td>0.000000e+00</td>\n",
              "      <td>0.000000e+00</td>\n",
              "      <td>0</td>\n",
              "      <td>0</td>\n",
              "      <td>0</td>\n",
              "      <td>0</td>\n",
              "      <td>0</td>\n",
              "      <td>0</td>\n",
              "      <td>40</td>\n",
              "      <td>99.459190</td>\n",
              "      <td>1.360544</td>\n",
              "      <td>0.000000</td>\n",
              "      <td>0</td>\n",
              "      <td>0</td>\n",
              "      <td>0.000000</td>\n",
              "      <td>0.000000</td>\n",
              "      <td>0.000000</td>\n",
              "      <td>0</td>\n",
              "      <td>0</td>\n",
              "      <td>0</td>\n",
              "      <td>0</td>\n",
              "      <td>1</td>\n",
              "      <td>0</td>\n",
              "      <td>0</td>\n",
              "      <td>0</td>\n",
              "      <td>0</td>\n",
              "      <td>0.000000</td>\n",
              "      <td>0.000000</td>\n",
              "      <td>0.000000</td>\n",
              "      <td>99.985580</td>\n",
              "      <td>0</td>\n",
              "      <td>0</td>\n",
              "      <td>0</td>\n",
              "      <td>0</td>\n",
              "      <td>0</td>\n",
              "      <td>0</td>\n",
              "      <td>2</td>\n",
              "      <td>0</td>\n",
              "      <td>0</td>\n",
              "      <td>0.000000e+00</td>\n",
              "      <td>0.387573</td>\n",
              "      <td>0.000000</td>\n",
              "      <td>0</td>\n",
              "      <td>99.999977</td>\n",
              "      <td>0.0000</td>\n",
              "      <td>0.0000</td>\n",
              "      <td>0</td>\n",
              "      <td>0</td>\n",
              "      <td>0.000000</td>\n",
              "      <td>0.000000</td>\n",
              "      <td>0</td>\n",
              "      <td>0</td>\n",
              "      <td>BENIGN</td>\n",
              "    </tr>\n",
              "    <tr>\n",
              "      <th>1751505</th>\n",
              "      <td>0.675975</td>\n",
              "      <td>4.397148</td>\n",
              "      <td>8</td>\n",
              "      <td>5</td>\n",
              "      <td>346</td>\n",
              "      <td>3194</td>\n",
              "      <td>189</td>\n",
              "      <td>0</td>\n",
              "      <td>43.250000</td>\n",
              "      <td>73.283699</td>\n",
              "      <td>1476</td>\n",
              "      <td>0</td>\n",
              "      <td>639.00000</td>\n",
              "      <td>764.266418</td>\n",
              "      <td>11.192139</td>\n",
              "      <td>33.333374</td>\n",
              "      <td>0.366439</td>\n",
              "      <td>1.575224</td>\n",
              "      <td>3</td>\n",
              "      <td>0</td>\n",
              "      <td>4.397138</td>\n",
              "      <td>0.628163</td>\n",
              "      <td>2.046651</td>\n",
              "      <td>4673961</td>\n",
              "      <td>0.000011</td>\n",
              "      <td>373478</td>\n",
              "      <td>9.336950e+04</td>\n",
              "      <td>1.060011e+05</td>\n",
              "      <td>188140</td>\n",
              "      <td>226</td>\n",
              "      <td>0</td>\n",
              "      <td>0</td>\n",
              "      <td>0</td>\n",
              "      <td>0</td>\n",
              "      <td>172</td>\n",
              "      <td>99.459206</td>\n",
              "      <td>0.000051</td>\n",
              "      <td>0.947586</td>\n",
              "      <td>0</td>\n",
              "      <td>1476</td>\n",
              "      <td>252.857147</td>\n",
              "      <td>521.402222</td>\n",
              "      <td>1.213662</td>\n",
              "      <td>0</td>\n",
              "      <td>0</td>\n",
              "      <td>0</td>\n",
              "      <td>1</td>\n",
              "      <td>0</td>\n",
              "      <td>0</td>\n",
              "      <td>0</td>\n",
              "      <td>0</td>\n",
              "      <td>0</td>\n",
              "      <td>272.307678</td>\n",
              "      <td>43.250000</td>\n",
              "      <td>638.800000</td>\n",
              "      <td>99.985580</td>\n",
              "      <td>0</td>\n",
              "      <td>0</td>\n",
              "      <td>0</td>\n",
              "      <td>0</td>\n",
              "      <td>0</td>\n",
              "      <td>0</td>\n",
              "      <td>8</td>\n",
              "      <td>346</td>\n",
              "      <td>5</td>\n",
              "      <td>4.872966e-04</td>\n",
              "      <td>12.501526</td>\n",
              "      <td>0.048828</td>\n",
              "      <td>3</td>\n",
              "      <td>99.999977</td>\n",
              "      <td>0.0000</td>\n",
              "      <td>0.0000</td>\n",
              "      <td>0</td>\n",
              "      <td>0</td>\n",
              "      <td>0.000000</td>\n",
              "      <td>0.000000</td>\n",
              "      <td>0</td>\n",
              "      <td>0</td>\n",
              "      <td>BENIGN</td>\n",
              "    </tr>\n",
              "    <tr>\n",
              "      <th>568887</th>\n",
              "      <td>0.187686</td>\n",
              "      <td>0.000120</td>\n",
              "      <td>2</td>\n",
              "      <td>2</td>\n",
              "      <td>96</td>\n",
              "      <td>96</td>\n",
              "      <td>48</td>\n",
              "      <td>48</td>\n",
              "      <td>48.000000</td>\n",
              "      <td>0.000000</td>\n",
              "      <td>48</td>\n",
              "      <td>48</td>\n",
              "      <td>48.00000</td>\n",
              "      <td>0.000000</td>\n",
              "      <td>11.254959</td>\n",
              "      <td>33.842239</td>\n",
              "      <td>0.000047</td>\n",
              "      <td>0.000082</td>\n",
              "      <td>0</td>\n",
              "      <td>0</td>\n",
              "      <td>0.000003</td>\n",
              "      <td>0.000003</td>\n",
              "      <td>0.000000</td>\n",
              "      <td>4</td>\n",
              "      <td>0.000013</td>\n",
              "      <td>3</td>\n",
              "      <td>3.000000e+00</td>\n",
              "      <td>0.000000e+00</td>\n",
              "      <td>3</td>\n",
              "      <td>3</td>\n",
              "      <td>0</td>\n",
              "      <td>0</td>\n",
              "      <td>0</td>\n",
              "      <td>0</td>\n",
              "      <td>64</td>\n",
              "      <td>99.459198</td>\n",
              "      <td>0.508906</td>\n",
              "      <td>15267.175570</td>\n",
              "      <td>48</td>\n",
              "      <td>48</td>\n",
              "      <td>48.000000</td>\n",
              "      <td>0.000000</td>\n",
              "      <td>0.000000</td>\n",
              "      <td>0</td>\n",
              "      <td>0</td>\n",
              "      <td>0</td>\n",
              "      <td>0</td>\n",
              "      <td>0</td>\n",
              "      <td>0</td>\n",
              "      <td>0</td>\n",
              "      <td>0</td>\n",
              "      <td>1</td>\n",
              "      <td>60.000000</td>\n",
              "      <td>48.000000</td>\n",
              "      <td>48.000000</td>\n",
              "      <td>99.985580</td>\n",
              "      <td>0</td>\n",
              "      <td>0</td>\n",
              "      <td>0</td>\n",
              "      <td>0</td>\n",
              "      <td>0</td>\n",
              "      <td>0</td>\n",
              "      <td>2</td>\n",
              "      <td>96</td>\n",
              "      <td>2</td>\n",
              "      <td>1.464636e-05</td>\n",
              "      <td>0.000000</td>\n",
              "      <td>0.000000</td>\n",
              "      <td>1</td>\n",
              "      <td>99.999977</td>\n",
              "      <td>0.0000</td>\n",
              "      <td>0.0000</td>\n",
              "      <td>0</td>\n",
              "      <td>0</td>\n",
              "      <td>0.000000</td>\n",
              "      <td>0.000000</td>\n",
              "      <td>0</td>\n",
              "      <td>0</td>\n",
              "      <td>BENIGN</td>\n",
              "    </tr>\n",
              "  </tbody>\n",
              "</table>\n",
              "</div>"
            ],
            "text/plain": [
              "          Destination Port   Flow Duration  ...   Idle Min        Label\n",
              "460954            0.675975       97.975197  ...   10000000       BENIGN\n",
              "1758162           0.032044        7.564078  ...          0  FTP-Patator\n",
              "762474            0.122072        1.080437  ...          0       BENIGN\n",
              "738088            0.122072       16.601877  ...   10007825       BENIGN\n",
              "700003           54.004730        0.000042  ...          0       BENIGN\n",
              "424203           50.016022        0.000052  ...          0     PortScan\n",
              "244233            0.080873        0.045125  ...          0       BENIGN\n",
              "1334496           0.080873        0.000207  ...          0       BENIGN\n",
              "2643299           0.675975        4.729495  ...    5299177       BENIGN\n",
              "643120            0.080873        0.026397  ...          0       BENIGN\n",
              "734213            0.080873        0.030799  ...          0       BENIGN\n",
              "854229            0.675975        0.095849  ...          0       BENIGN\n",
              "320350           11.902037        0.000050  ...          0     PortScan\n",
              "1854675           0.080873        0.040342  ...          0       BENIGN\n",
              "2677589           0.080873        0.000187  ...          0       BENIGN\n",
              "1977965           0.080873        0.000152  ...          0       BENIGN\n",
              "1665853           0.675975       98.040161  ...    9795482       BENIGN\n",
              "1743944           0.122072        0.000052  ...          0       BENIGN\n",
              "1751505           0.675975        4.397148  ...          0       BENIGN\n",
              "568887            0.187686        0.000120  ...          0       BENIGN\n",
              "\n",
              "[20 rows x 79 columns]"
            ]
          },
          "metadata": {},
          "execution_count": 105
        }
      ]
    },
    {
      "cell_type": "code",
      "metadata": {
        "id": "BqZYMLQLkRpt"
      },
      "source": [
        ""
      ],
      "execution_count": null,
      "outputs": []
    },
    {
      "cell_type": "code",
      "metadata": {
        "id": "su5hvR_XkRtP"
      },
      "source": [
        ""
      ],
      "execution_count": null,
      "outputs": []
    },
    {
      "cell_type": "code",
      "metadata": {
        "id": "BPFpARXsd3IZ"
      },
      "source": [
        "target.value_counts()"
      ],
      "execution_count": null,
      "outputs": []
    },
    {
      "cell_type": "code",
      "metadata": {
        "id": "LpMbYIkyi0kf",
        "colab": {
          "base_uri": "https://localhost:8080/"
        },
        "outputId": "3f8e1dd5-0165-41b6-f94c-6f35a38e2312"
      },
      "source": [
        "X=df.iloc[:,:-1]\n",
        "X.head(20)\n",
        "X.shape"
      ],
      "execution_count": null,
      "outputs": [
        {
          "output_type": "execute_result",
          "data": {
            "text/plain": [
              "(2827876, 78)"
            ]
          },
          "metadata": {},
          "execution_count": 203
        }
      ]
    },
    {
      "cell_type": "code",
      "metadata": {
        "id": "3TeeOl7GeTU_"
      },
      "source": [
        "# target = df[' Label']\n",
        "# X=df.iloc[:,:-1]\n",
        "def max_min_df(X):\n",
        "  # X = X.apply(lambda col: ((col - col.min(axis=0)) / col.max(axis=0)))\n",
        "  X = X.apply(lambda col: (col.astype('float16')), axis=1)\n",
        "              # meta={' Destination Port': 'float16', ' Flow Duration': 'float16',\n",
        "              #       ' Total Fwd Packets': 'float16', ' Total Backward Packets': 'float16', 'Total Length of Fwd Packets': 'float16', \n",
        "              #       ' Total Length of Bwd Packets': 'float16', ' Fwd Packet Length Max': 'float16', ' Fwd Packet Length Min': 'float16',\n",
        "              #       ' Fwd Packet Length Mean': 'float16', ' Fwd Packet Length Std': 'float16', 'Bwd Packet Length Max': 'float16', \n",
        "              #       ' Bwd Packet Length Min': 'float16', ' Bwd Packet Length Mean': 'float16', ' Bwd Packet Length Std': 'float16', \n",
        "              #       'Flow Bytes/s': 'float16', ' Flow Packets/s': 'float16', ' Flow IAT Mean': 'float16', ' Flow IAT Std': 'float16',\n",
        "              #       ' Flow IAT Max': 'float16', ' Flow IAT Min': 'float16', 'Fwd IAT Total': 'float16', ' Fwd IAT Mean': 'float16',\n",
        "              #       ' Fwd IAT Std': 'float16', ' Fwd IAT Max': 'float16', ' Fwd IAT Min': 'float16', 'Bwd IAT Total': 'float16',\n",
        "              #       ' Bwd IAT Mean': 'float16', ' Bwd IAT Std': 'float16', ' Bwd IAT Max': 'float16', ' Bwd IAT Min': 'float16', \n",
        "              #       'Fwd PSH Flags': 'float16', ' Bwd PSH Flags': 'float16', ' Fwd URG Flags': 'float16', ' Bwd URG Flags': 'float16', \n",
        "              #       ' Fwd Header Length': 'float16', ' Bwd Header Length': 'float16', 'Fwd Packets/s': 'float16', ' Bwd Packets/s': 'float16', \n",
        "              #       ' Min Packet Length': 'float16', ' Max Packet Length': 'float16', ' Packet Length Mean': 'float16',\n",
        "              #       ' Packet Length Std': 'float16', ' Packet Length Variance': 'float16', 'FIN Flag Count': 'float16', \n",
        "              #       ' SYN Flag Count': 'float16', ' RST Flag Count': 'float16', ' PSH Flag Count': 'float16', \n",
        "              #       ' ACK Flag Count': 'float16', ' URG Flag Count': 'float16', ' CWE Flag Count': 'float16', \n",
        "              #       ' ECE Flag Count': 'float16', ' Down/Up Ratio': 'float16', ' Average Packet Size': 'float16',\n",
        "              #       ' Avg Fwd Segment Size': 'float16', ' Avg Bwd Segment Size': 'float16', ' Fwd Header Length.1': 'float16',\n",
        "              #       'Fwd Avg Bytes/Bulk': 'float16', ' Fwd Avg Packets/Bulk': 'float16', ' Fwd Avg Bulk Rate': 'float16',\n",
        "              #       ' Bwd Avg Bytes/Bulk': 'float16', ' Bwd Avg Packets/Bulk': 'float16', 'Bwd Avg Bulk Rate': 'float16', \n",
        "              #       'Subflow Fwd Packets': 'float16', ' Subflow Fwd Bytes': 'float16', ' Subflow Bwd Packets': 'float16', \n",
        "              #       ' Subflow Bwd Bytes': 'float16', 'Init_Win_bytes_forward': 'float16', ' Init_Win_bytes_backward': 'float16',\n",
        "              #       ' act_data_pkt_fwd': 'float16', ' min_seg_size_forward': 'float16', 'Active Mean': 'float16', ' Active Std': 'float16',\n",
        "              #       ' Active Max': 'float16', ' Active Min': 'float16', 'Idle Mean': 'float16', ' Idle Std': 'float16', ' Idle Max': 'float16',\n",
        "              #       ' Idle Min': 'float16'})\n",
        "\n",
        "  \n",
        "  return X\n",
        "def normalize(df):\n",
        "  normalized_df=((df-df.min())/(df.max()-df.min())) * df.max()\n",
        "  return normalized_df\n",
        "\n",
        "# df.drop[' Label']\n",
        "# X = max_min_df(X)"
      ],
      "execution_count": null,
      "outputs": []
    },
    {
      "cell_type": "code",
      "metadata": {
        "id": "Ib32gw3kipQE"
      },
      "source": [
        "ndf = normalize(X)"
      ],
      "execution_count": null,
      "outputs": []
    },
    {
      "cell_type": "code",
      "metadata": {
        "id": "mkyfbq_nqKkP"
      },
      "source": [
        "ndf = max_min_df(ndf)"
      ],
      "execution_count": null,
      "outputs": []
    },
    {
      "cell_type": "code",
      "metadata": {
        "colab": {
          "base_uri": "https://localhost:8080/"
        },
        "id": "pvsEPZ96wtmQ",
        "outputId": "e50b942b-679e-410e-da2e-686767c5d6c6"
      },
      "source": [
        "# ndf.sample(10)\n",
        "ndf.info()"
      ],
      "execution_count": null,
      "outputs": [
        {
          "output_type": "stream",
          "name": "stdout",
          "text": [
            "<class 'dask.dataframe.core.DataFrame'>\n",
            "Columns: 78 entries,  Destination Port to  Idle Min\n",
            "dtypes: float64(78)"
          ]
        }
      ]
    },
    {
      "cell_type": "code",
      "metadata": {
        "id": "xV7AV7l2fvJH",
        "colab": {
          "base_uri": "https://localhost:8080/",
          "height": 573
        },
        "outputId": "148766bc-dada-4ead-e5c4-a1cdce7190dc"
      },
      "source": [
        "\n",
        "del df[' Fwd Avg Bytes/Bulk']\n",
        "del df[' SYN Flag Count']\n",
        "del df['Bwd Avg Bulk Rate']\n",
        "del df[' RST Flag Count']\n",
        "del df[' Fwd Avg Packets/Bulk']\n",
        "del df[' Fwd Avg Bulk Rate']\n",
        "del df[' ECE Flag Count']\n",
        "del df[' CWE Flag Count']\n",
        "del df[' Bwd URG Flags']\n",
        "del df[' Bwd PSH Flags']\n",
        "del df[' Bwd Avg Packets/Bulk']\n",
        "del df[' Bwd Avg Bytes/Bulk']\n",
        "del df[' Bwd Packets/s']\n",
        "del df['Active Mean']\n",
        "del df[' Active Min']\n",
        "del df[' Total Length of Bwd Packets']\n",
        "del df[ ' Bwd IAT Std']\n",
        "del df[ ' Bwd IAT Mean']\n",
        "del df[' Active Std']\n",
        "del df[ ' Bwd IAT Min']\n",
        "del df[' Down/Up Ratio']\n",
        "del df[' Active Max']\n",
        "del df[' Fwd URG Flags']\n",
        "\n"
      ],
      "execution_count": null,
      "outputs": [
        {
          "output_type": "error",
          "ename": "KeyError",
          "evalue": "ignored",
          "traceback": [
            "\u001b[0;31m---------------------------------------------------------------------------\u001b[0m",
            "\u001b[0;31mKeyError\u001b[0m                                  Traceback (most recent call last)",
            "\u001b[0;32m/usr/local/lib/python3.7/dist-packages/pandas/core/indexes/base.py\u001b[0m in \u001b[0;36mget_loc\u001b[0;34m(self, key, method, tolerance)\u001b[0m\n\u001b[1;32m   2897\u001b[0m             \u001b[0;32mtry\u001b[0m\u001b[0;34m:\u001b[0m\u001b[0;34m\u001b[0m\u001b[0;34m\u001b[0m\u001b[0m\n\u001b[0;32m-> 2898\u001b[0;31m                 \u001b[0;32mreturn\u001b[0m \u001b[0mself\u001b[0m\u001b[0;34m.\u001b[0m\u001b[0m_engine\u001b[0m\u001b[0;34m.\u001b[0m\u001b[0mget_loc\u001b[0m\u001b[0;34m(\u001b[0m\u001b[0mcasted_key\u001b[0m\u001b[0;34m)\u001b[0m\u001b[0;34m\u001b[0m\u001b[0;34m\u001b[0m\u001b[0m\n\u001b[0m\u001b[1;32m   2899\u001b[0m             \u001b[0;32mexcept\u001b[0m \u001b[0mKeyError\u001b[0m \u001b[0;32mas\u001b[0m \u001b[0merr\u001b[0m\u001b[0;34m:\u001b[0m\u001b[0;34m\u001b[0m\u001b[0;34m\u001b[0m\u001b[0m\n",
            "\u001b[0;32mpandas/_libs/index.pyx\u001b[0m in \u001b[0;36mpandas._libs.index.IndexEngine.get_loc\u001b[0;34m()\u001b[0m\n",
            "\u001b[0;32mpandas/_libs/index.pyx\u001b[0m in \u001b[0;36mpandas._libs.index.IndexEngine.get_loc\u001b[0;34m()\u001b[0m\n",
            "\u001b[0;32mpandas/_libs/hashtable_class_helper.pxi\u001b[0m in \u001b[0;36mpandas._libs.hashtable.PyObjectHashTable.get_item\u001b[0;34m()\u001b[0m\n",
            "\u001b[0;32mpandas/_libs/hashtable_class_helper.pxi\u001b[0m in \u001b[0;36mpandas._libs.hashtable.PyObjectHashTable.get_item\u001b[0;34m()\u001b[0m\n",
            "\u001b[0;31mKeyError\u001b[0m: 'Bwd Avg Bulk Rate'",
            "\nThe above exception was the direct cause of the following exception:\n",
            "\u001b[0;31mKeyError\u001b[0m                                  Traceback (most recent call last)",
            "\u001b[0;32m<ipython-input-209-7567ae97bb32>\u001b[0m in \u001b[0;36m<module>\u001b[0;34m()\u001b[0m\n\u001b[0;32m----> 1\u001b[0;31m \u001b[0;32mdel\u001b[0m \u001b[0mdf\u001b[0m\u001b[0;34m[\u001b[0m\u001b[0;34m'Bwd Avg Bulk Rate'\u001b[0m\u001b[0;34m]\u001b[0m\u001b[0;34m\u001b[0m\u001b[0;34m\u001b[0m\u001b[0m\n\u001b[0m",
            "\u001b[0;32m/usr/local/lib/python3.7/dist-packages/pandas/core/generic.py\u001b[0m in \u001b[0;36m__delitem__\u001b[0;34m(self, key)\u001b[0m\n\u001b[1;32m   3711\u001b[0m             \u001b[0;31m# there was no match, this call should raise the appropriate\u001b[0m\u001b[0;34m\u001b[0m\u001b[0;34m\u001b[0m\u001b[0;34m\u001b[0m\u001b[0m\n\u001b[1;32m   3712\u001b[0m             \u001b[0;31m# exception:\u001b[0m\u001b[0;34m\u001b[0m\u001b[0;34m\u001b[0m\u001b[0;34m\u001b[0m\u001b[0m\n\u001b[0;32m-> 3713\u001b[0;31m             \u001b[0mloc\u001b[0m \u001b[0;34m=\u001b[0m \u001b[0mself\u001b[0m\u001b[0;34m.\u001b[0m\u001b[0maxes\u001b[0m\u001b[0;34m[\u001b[0m\u001b[0;34m-\u001b[0m\u001b[0;36m1\u001b[0m\u001b[0;34m]\u001b[0m\u001b[0;34m.\u001b[0m\u001b[0mget_loc\u001b[0m\u001b[0;34m(\u001b[0m\u001b[0mkey\u001b[0m\u001b[0;34m)\u001b[0m\u001b[0;34m\u001b[0m\u001b[0;34m\u001b[0m\u001b[0m\n\u001b[0m\u001b[1;32m   3714\u001b[0m             \u001b[0mself\u001b[0m\u001b[0;34m.\u001b[0m\u001b[0m_mgr\u001b[0m\u001b[0;34m.\u001b[0m\u001b[0midelete\u001b[0m\u001b[0;34m(\u001b[0m\u001b[0mloc\u001b[0m\u001b[0;34m)\u001b[0m\u001b[0;34m\u001b[0m\u001b[0;34m\u001b[0m\u001b[0m\n\u001b[1;32m   3715\u001b[0m \u001b[0;34m\u001b[0m\u001b[0m\n",
            "\u001b[0;32m/usr/local/lib/python3.7/dist-packages/pandas/core/indexes/base.py\u001b[0m in \u001b[0;36mget_loc\u001b[0;34m(self, key, method, tolerance)\u001b[0m\n\u001b[1;32m   2898\u001b[0m                 \u001b[0;32mreturn\u001b[0m \u001b[0mself\u001b[0m\u001b[0;34m.\u001b[0m\u001b[0m_engine\u001b[0m\u001b[0;34m.\u001b[0m\u001b[0mget_loc\u001b[0m\u001b[0;34m(\u001b[0m\u001b[0mcasted_key\u001b[0m\u001b[0;34m)\u001b[0m\u001b[0;34m\u001b[0m\u001b[0;34m\u001b[0m\u001b[0m\n\u001b[1;32m   2899\u001b[0m             \u001b[0;32mexcept\u001b[0m \u001b[0mKeyError\u001b[0m \u001b[0;32mas\u001b[0m \u001b[0merr\u001b[0m\u001b[0;34m:\u001b[0m\u001b[0;34m\u001b[0m\u001b[0;34m\u001b[0m\u001b[0m\n\u001b[0;32m-> 2900\u001b[0;31m                 \u001b[0;32mraise\u001b[0m \u001b[0mKeyError\u001b[0m\u001b[0;34m(\u001b[0m\u001b[0mkey\u001b[0m\u001b[0;34m)\u001b[0m \u001b[0;32mfrom\u001b[0m \u001b[0merr\u001b[0m\u001b[0;34m\u001b[0m\u001b[0;34m\u001b[0m\u001b[0m\n\u001b[0m\u001b[1;32m   2901\u001b[0m \u001b[0;34m\u001b[0m\u001b[0m\n\u001b[1;32m   2902\u001b[0m         \u001b[0;32mif\u001b[0m \u001b[0mtolerance\u001b[0m \u001b[0;32mis\u001b[0m \u001b[0;32mnot\u001b[0m \u001b[0;32mNone\u001b[0m\u001b[0;34m:\u001b[0m\u001b[0;34m\u001b[0m\u001b[0;34m\u001b[0m\u001b[0m\n",
            "\u001b[0;31mKeyError\u001b[0m: 'Bwd Avg Bulk Rate'"
          ]
        }
      ]
    },
    {
      "cell_type": "code",
      "metadata": {
        "colab": {
          "base_uri": "https://localhost:8080/",
          "height": 167
        },
        "id": "sQaXZl9HcCds",
        "outputId": "cb5b178c-2187-458b-9157-c3a64b156f47"
      },
      "source": [
        "ndf.columns"
      ],
      "execution_count": null,
      "outputs": [
        {
          "output_type": "error",
          "ename": "NameError",
          "evalue": "ignored",
          "traceback": [
            "\u001b[0;31m---------------------------------------------------------------------------\u001b[0m",
            "\u001b[0;31mNameError\u001b[0m                                 Traceback (most recent call last)",
            "\u001b[0;32m<ipython-input-206-bf9e3e164be3>\u001b[0m in \u001b[0;36m<module>\u001b[0;34m()\u001b[0m\n\u001b[0;32m----> 1\u001b[0;31m \u001b[0mndf\u001b[0m\u001b[0;34m.\u001b[0m\u001b[0mcolumns\u001b[0m\u001b[0;34m\u001b[0m\u001b[0;34m\u001b[0m\u001b[0m\n\u001b[0m",
            "\u001b[0;31mNameError\u001b[0m: name 'ndf' is not defined"
          ]
        }
      ]
    },
    {
      "cell_type": "code",
      "metadata": {
        "id": "2D7MVHoH_pG3"
      },
      "source": [
        "target = df[' Label']\n",
        "from sklearn.preprocessing import LabelEncoder\n",
        "\n",
        "def transform_target(target):\n",
        "  SS = LabelEncoder()\n",
        "  X = SS.fit_transform(target)\n",
        "  # X = normalize(X)\n",
        "  X = X.astype('int8')\n",
        "  return X\n",
        "\n",
        "target = transform_target(target)\n",
        "# target.value_counts\n",
        "# dataframes = dd.concat([ndf, target])\n",
        "# dataframes[' Label'].shape"
      ],
      "execution_count": null,
      "outputs": []
    },
    {
      "cell_type": "code",
      "metadata": {
        "colab": {
          "base_uri": "https://localhost:8080/",
          "height": 435
        },
        "id": "eevEBtg6fdsA",
        "outputId": "fcc854d8-bcdd-43de-8660-b61327547f02"
      },
      "source": [
        "# ndf = dd.concat([ndf, target])\n",
        "# ndf[' Label']\n",
        "ndf.columns\n",
        "ndf.head(10)"
      ],
      "execution_count": null,
      "outputs": [
        {
          "output_type": "execute_result",
          "data": {
            "text/html": [
              "<div>\n",
              "<style scoped>\n",
              "    .dataframe tbody tr th:only-of-type {\n",
              "        vertical-align: middle;\n",
              "    }\n",
              "\n",
              "    .dataframe tbody tr th {\n",
              "        vertical-align: top;\n",
              "    }\n",
              "\n",
              "    .dataframe thead th {\n",
              "        text-align: right;\n",
              "    }\n",
              "</style>\n",
              "<table border=\"1\" class=\"dataframe\">\n",
              "  <thead>\n",
              "    <tr style=\"text-align: right;\">\n",
              "      <th></th>\n",
              "      <th>0</th>\n",
              "      <th>ACK Flag Count</th>\n",
              "      <th>Average Packet Size</th>\n",
              "      <th>Avg Bwd Segment Size</th>\n",
              "      <th>Avg Fwd Segment Size</th>\n",
              "      <th>Bwd Header Length</th>\n",
              "      <th>Bwd IAT Max</th>\n",
              "      <th>Bwd Packet Length Mean</th>\n",
              "      <th>Bwd Packet Length Min</th>\n",
              "      <th>Bwd Packet Length Std</th>\n",
              "      <th>Destination Port</th>\n",
              "      <th>Flow Duration</th>\n",
              "      <th>Flow IAT Max</th>\n",
              "      <th>Flow IAT Mean</th>\n",
              "      <th>Flow IAT Min</th>\n",
              "      <th>Flow IAT Std</th>\n",
              "      <th>Flow Packets/s</th>\n",
              "      <th>Fwd Header Length</th>\n",
              "      <th>Fwd Header Length.1</th>\n",
              "      <th>Fwd IAT Max</th>\n",
              "      <th>Fwd IAT Mean</th>\n",
              "      <th>Fwd IAT Min</th>\n",
              "      <th>Fwd IAT Std</th>\n",
              "      <th>Fwd Packet Length Max</th>\n",
              "      <th>Fwd Packet Length Mean</th>\n",
              "      <th>Fwd Packet Length Min</th>\n",
              "      <th>Fwd Packet Length Std</th>\n",
              "      <th>Idle Max</th>\n",
              "      <th>Idle Min</th>\n",
              "      <th>Idle Std</th>\n",
              "      <th>Init_Win_bytes_backward</th>\n",
              "      <th>Max Packet Length</th>\n",
              "      <th>Min Packet Length</th>\n",
              "      <th>PSH Flag Count</th>\n",
              "      <th>Packet Length Mean</th>\n",
              "      <th>Packet Length Std</th>\n",
              "      <th>Packet Length Variance</th>\n",
              "      <th>Subflow Bwd Bytes</th>\n",
              "      <th>Subflow Bwd Packets</th>\n",
              "      <th>Subflow Fwd Bytes</th>\n",
              "      <th>Total Backward Packets</th>\n",
              "      <th>Total Fwd Packets</th>\n",
              "      <th>URG Flag Count</th>\n",
              "      <th>act_data_pkt_fwd</th>\n",
              "      <th>min_seg_size_forward</th>\n",
              "      <th>Bwd IAT Total</th>\n",
              "      <th>Bwd Packet Length Max</th>\n",
              "      <th>FIN Flag Count</th>\n",
              "      <th>Flow Bytes/s</th>\n",
              "      <th>Fwd IAT Total</th>\n",
              "      <th>Fwd PSH Flags</th>\n",
              "      <th>Fwd Packets/s</th>\n",
              "      <th>Idle Mean</th>\n",
              "      <th>Init_Win_bytes_forward</th>\n",
              "      <th>Subflow Fwd Packets</th>\n",
              "      <th>Total Length of Fwd Packets</th>\n",
              "    </tr>\n",
              "  </thead>\n",
              "  <tbody>\n",
              "    <tr>\n",
              "      <th>0</th>\n",
              "      <td>NaN</td>\n",
              "      <td>1000.0</td>\n",
              "      <td>2.312500</td>\n",
              "      <td>0.00000</td>\n",
              "      <td>1.009766</td>\n",
              "      <td>994.5</td>\n",
              "      <td>0.0</td>\n",
              "      <td>0.00000</td>\n",
              "      <td>0.000000</td>\n",
              "      <td>0.0</td>\n",
              "      <td>837.000</td>\n",
              "      <td>0.000133</td>\n",
              "      <td>0.000133</td>\n",
              "      <td>0.000133</td>\n",
              "      <td>0.000142</td>\n",
              "      <td>0.0</td>\n",
              "      <td>0.0</td>\n",
              "      <td>1000.0</td>\n",
              "      <td>1000.0</td>\n",
              "      <td>0.000025</td>\n",
              "      <td>0.000025</td>\n",
              "      <td>0.000125</td>\n",
              "      <td>0.0</td>\n",
              "      <td>0.241699</td>\n",
              "      <td>1.009766</td>\n",
              "      <td>2.580078</td>\n",
              "      <td>0.000000</td>\n",
              "      <td>0.0</td>\n",
              "      <td>0.0</td>\n",
              "      <td>0.0</td>\n",
              "      <td>0.000000</td>\n",
              "      <td>0.241699</td>\n",
              "      <td>4.144531</td>\n",
              "      <td>0.0</td>\n",
              "      <td>1.797852</td>\n",
              "      <td>0.000000</td>\n",
              "      <td>0.0000</td>\n",
              "      <td>0.000000</td>\n",
              "      <td>0.000000</td>\n",
              "      <td>0.000932</td>\n",
              "      <td>0.000000</td>\n",
              "      <td>0.004551</td>\n",
              "      <td>0.0</td>\n",
              "      <td>0.004684</td>\n",
              "      <td>1000.0</td>\n",
              "      <td>0.0</td>\n",
              "      <td>0.000000</td>\n",
              "      <td>0.0</td>\n",
              "      <td>0.0</td>\n",
              "      <td>0.000025</td>\n",
              "      <td>0.0</td>\n",
              "      <td>222.250000</td>\n",
              "      <td>0.0</td>\n",
              "      <td>0.518555</td>\n",
              "      <td>0.004551</td>\n",
              "      <td>0.000930</td>\n",
              "    </tr>\n",
              "    <tr>\n",
              "      <th>1</th>\n",
              "      <td>NaN</td>\n",
              "      <td>1000.0</td>\n",
              "      <td>2.312500</td>\n",
              "      <td>1.03418</td>\n",
              "      <td>1.009766</td>\n",
              "      <td>994.5</td>\n",
              "      <td>0.0</td>\n",
              "      <td>1.03418</td>\n",
              "      <td>2.072266</td>\n",
              "      <td>0.0</td>\n",
              "      <td>840.000</td>\n",
              "      <td>0.001017</td>\n",
              "      <td>0.001017</td>\n",
              "      <td>0.001017</td>\n",
              "      <td>0.001025</td>\n",
              "      <td>0.0</td>\n",
              "      <td>0.0</td>\n",
              "      <td>1000.0</td>\n",
              "      <td>1000.0</td>\n",
              "      <td>0.000000</td>\n",
              "      <td>0.000000</td>\n",
              "      <td>0.000100</td>\n",
              "      <td>0.0</td>\n",
              "      <td>0.241699</td>\n",
              "      <td>1.009766</td>\n",
              "      <td>2.580078</td>\n",
              "      <td>0.000000</td>\n",
              "      <td>0.0</td>\n",
              "      <td>0.0</td>\n",
              "      <td>0.0</td>\n",
              "      <td>3.921875</td>\n",
              "      <td>0.241699</td>\n",
              "      <td>4.144531</td>\n",
              "      <td>0.0</td>\n",
              "      <td>1.797852</td>\n",
              "      <td>0.000000</td>\n",
              "      <td>0.0000</td>\n",
              "      <td>0.000009</td>\n",
              "      <td>0.003426</td>\n",
              "      <td>0.000466</td>\n",
              "      <td>0.003426</td>\n",
              "      <td>0.000000</td>\n",
              "      <td>1000.0</td>\n",
              "      <td>0.000000</td>\n",
              "      <td>1000.0</td>\n",
              "      <td>0.0</td>\n",
              "      <td>0.307129</td>\n",
              "      <td>0.0</td>\n",
              "      <td>0.0</td>\n",
              "      <td>0.000000</td>\n",
              "      <td>0.0</td>\n",
              "      <td>3.058594</td>\n",
              "      <td>0.0</td>\n",
              "      <td>0.457764</td>\n",
              "      <td>0.000000</td>\n",
              "      <td>0.000465</td>\n",
              "    </tr>\n",
              "    <tr>\n",
              "      <th>2</th>\n",
              "      <td>NaN</td>\n",
              "      <td>1000.0</td>\n",
              "      <td>2.312500</td>\n",
              "      <td>1.03418</td>\n",
              "      <td>1.009766</td>\n",
              "      <td>994.5</td>\n",
              "      <td>0.0</td>\n",
              "      <td>1.03418</td>\n",
              "      <td>2.072266</td>\n",
              "      <td>0.0</td>\n",
              "      <td>840.000</td>\n",
              "      <td>0.000542</td>\n",
              "      <td>0.000542</td>\n",
              "      <td>0.000542</td>\n",
              "      <td>0.000550</td>\n",
              "      <td>0.0</td>\n",
              "      <td>0.0</td>\n",
              "      <td>1000.0</td>\n",
              "      <td>1000.0</td>\n",
              "      <td>0.000000</td>\n",
              "      <td>0.000000</td>\n",
              "      <td>0.000100</td>\n",
              "      <td>0.0</td>\n",
              "      <td>0.241699</td>\n",
              "      <td>1.009766</td>\n",
              "      <td>2.580078</td>\n",
              "      <td>0.000000</td>\n",
              "      <td>0.0</td>\n",
              "      <td>0.0</td>\n",
              "      <td>0.0</td>\n",
              "      <td>3.921875</td>\n",
              "      <td>0.241699</td>\n",
              "      <td>4.144531</td>\n",
              "      <td>0.0</td>\n",
              "      <td>1.797852</td>\n",
              "      <td>0.000000</td>\n",
              "      <td>0.0000</td>\n",
              "      <td>0.000009</td>\n",
              "      <td>0.003426</td>\n",
              "      <td>0.000466</td>\n",
              "      <td>0.003426</td>\n",
              "      <td>0.000000</td>\n",
              "      <td>1000.0</td>\n",
              "      <td>0.000000</td>\n",
              "      <td>1000.0</td>\n",
              "      <td>0.0</td>\n",
              "      <td>0.307129</td>\n",
              "      <td>0.0</td>\n",
              "      <td>0.0</td>\n",
              "      <td>0.000000</td>\n",
              "      <td>0.0</td>\n",
              "      <td>6.410156</td>\n",
              "      <td>0.0</td>\n",
              "      <td>0.457764</td>\n",
              "      <td>0.000000</td>\n",
              "      <td>0.000465</td>\n",
              "    </tr>\n",
              "    <tr>\n",
              "      <th>3</th>\n",
              "      <td>NaN</td>\n",
              "      <td>1000.0</td>\n",
              "      <td>2.312500</td>\n",
              "      <td>1.03418</td>\n",
              "      <td>1.009766</td>\n",
              "      <td>994.5</td>\n",
              "      <td>0.0</td>\n",
              "      <td>1.03418</td>\n",
              "      <td>2.072266</td>\n",
              "      <td>0.0</td>\n",
              "      <td>705.500</td>\n",
              "      <td>0.000392</td>\n",
              "      <td>0.000392</td>\n",
              "      <td>0.000392</td>\n",
              "      <td>0.000400</td>\n",
              "      <td>0.0</td>\n",
              "      <td>0.0</td>\n",
              "      <td>1000.0</td>\n",
              "      <td>1000.0</td>\n",
              "      <td>0.000000</td>\n",
              "      <td>0.000000</td>\n",
              "      <td>0.000100</td>\n",
              "      <td>0.0</td>\n",
              "      <td>0.241699</td>\n",
              "      <td>1.009766</td>\n",
              "      <td>2.580078</td>\n",
              "      <td>0.000000</td>\n",
              "      <td>0.0</td>\n",
              "      <td>0.0</td>\n",
              "      <td>0.0</td>\n",
              "      <td>5.035156</td>\n",
              "      <td>0.241699</td>\n",
              "      <td>4.144531</td>\n",
              "      <td>0.0</td>\n",
              "      <td>1.797852</td>\n",
              "      <td>0.000000</td>\n",
              "      <td>0.0000</td>\n",
              "      <td>0.000009</td>\n",
              "      <td>0.003426</td>\n",
              "      <td>0.000466</td>\n",
              "      <td>0.003426</td>\n",
              "      <td>0.000000</td>\n",
              "      <td>1000.0</td>\n",
              "      <td>0.000000</td>\n",
              "      <td>1000.0</td>\n",
              "      <td>0.0</td>\n",
              "      <td>0.307129</td>\n",
              "      <td>0.0</td>\n",
              "      <td>0.0</td>\n",
              "      <td>0.000000</td>\n",
              "      <td>0.0</td>\n",
              "      <td>9.804688</td>\n",
              "      <td>0.0</td>\n",
              "      <td>0.488281</td>\n",
              "      <td>0.000000</td>\n",
              "      <td>0.000465</td>\n",
              "    </tr>\n",
              "    <tr>\n",
              "      <th>4</th>\n",
              "      <td>NaN</td>\n",
              "      <td>1000.0</td>\n",
              "      <td>2.312500</td>\n",
              "      <td>0.00000</td>\n",
              "      <td>1.009766</td>\n",
              "      <td>994.5</td>\n",
              "      <td>0.0</td>\n",
              "      <td>0.00000</td>\n",
              "      <td>0.000000</td>\n",
              "      <td>0.0</td>\n",
              "      <td>837.000</td>\n",
              "      <td>0.000133</td>\n",
              "      <td>0.000133</td>\n",
              "      <td>0.000133</td>\n",
              "      <td>0.000142</td>\n",
              "      <td>0.0</td>\n",
              "      <td>0.0</td>\n",
              "      <td>1000.0</td>\n",
              "      <td>1000.0</td>\n",
              "      <td>0.000025</td>\n",
              "      <td>0.000025</td>\n",
              "      <td>0.000125</td>\n",
              "      <td>0.0</td>\n",
              "      <td>0.241699</td>\n",
              "      <td>1.009766</td>\n",
              "      <td>2.580078</td>\n",
              "      <td>0.000000</td>\n",
              "      <td>0.0</td>\n",
              "      <td>0.0</td>\n",
              "      <td>0.0</td>\n",
              "      <td>0.000000</td>\n",
              "      <td>0.241699</td>\n",
              "      <td>4.144531</td>\n",
              "      <td>0.0</td>\n",
              "      <td>1.797852</td>\n",
              "      <td>0.000000</td>\n",
              "      <td>0.0000</td>\n",
              "      <td>0.000000</td>\n",
              "      <td>0.000000</td>\n",
              "      <td>0.000932</td>\n",
              "      <td>0.000000</td>\n",
              "      <td>0.004551</td>\n",
              "      <td>0.0</td>\n",
              "      <td>0.004684</td>\n",
              "      <td>1000.0</td>\n",
              "      <td>0.0</td>\n",
              "      <td>0.000000</td>\n",
              "      <td>0.0</td>\n",
              "      <td>0.0</td>\n",
              "      <td>0.000025</td>\n",
              "      <td>0.0</td>\n",
              "      <td>222.250000</td>\n",
              "      <td>0.0</td>\n",
              "      <td>0.503418</td>\n",
              "      <td>0.004551</td>\n",
              "      <td>0.000930</td>\n",
              "    </tr>\n",
              "    <tr>\n",
              "      <th>5</th>\n",
              "      <td>NaN</td>\n",
              "      <td>1000.0</td>\n",
              "      <td>2.312500</td>\n",
              "      <td>0.00000</td>\n",
              "      <td>1.009766</td>\n",
              "      <td>994.5</td>\n",
              "      <td>0.0</td>\n",
              "      <td>0.00000</td>\n",
              "      <td>0.000000</td>\n",
              "      <td>0.0</td>\n",
              "      <td>837.500</td>\n",
              "      <td>0.008621</td>\n",
              "      <td>0.008621</td>\n",
              "      <td>0.008621</td>\n",
              "      <td>0.008636</td>\n",
              "      <td>0.0</td>\n",
              "      <td>0.0</td>\n",
              "      <td>1000.0</td>\n",
              "      <td>1000.0</td>\n",
              "      <td>0.008514</td>\n",
              "      <td>0.008514</td>\n",
              "      <td>0.008614</td>\n",
              "      <td>0.0</td>\n",
              "      <td>0.241699</td>\n",
              "      <td>1.009766</td>\n",
              "      <td>2.580078</td>\n",
              "      <td>0.000000</td>\n",
              "      <td>0.0</td>\n",
              "      <td>0.0</td>\n",
              "      <td>0.0</td>\n",
              "      <td>0.000000</td>\n",
              "      <td>0.241699</td>\n",
              "      <td>4.144531</td>\n",
              "      <td>0.0</td>\n",
              "      <td>1.797852</td>\n",
              "      <td>0.000000</td>\n",
              "      <td>0.0000</td>\n",
              "      <td>0.000000</td>\n",
              "      <td>0.000000</td>\n",
              "      <td>0.000932</td>\n",
              "      <td>0.000000</td>\n",
              "      <td>0.004551</td>\n",
              "      <td>0.0</td>\n",
              "      <td>0.004684</td>\n",
              "      <td>1000.0</td>\n",
              "      <td>0.0</td>\n",
              "      <td>0.000000</td>\n",
              "      <td>0.0</td>\n",
              "      <td>0.0</td>\n",
              "      <td>0.008514</td>\n",
              "      <td>0.0</td>\n",
              "      <td>0.652344</td>\n",
              "      <td>0.0</td>\n",
              "      <td>0.503418</td>\n",
              "      <td>0.004551</td>\n",
              "      <td>0.000930</td>\n",
              "    </tr>\n",
              "    <tr>\n",
              "      <th>6</th>\n",
              "      <td>NaN</td>\n",
              "      <td>1000.0</td>\n",
              "      <td>2.312500</td>\n",
              "      <td>0.00000</td>\n",
              "      <td>1.009766</td>\n",
              "      <td>994.5</td>\n",
              "      <td>0.0</td>\n",
              "      <td>0.00000</td>\n",
              "      <td>0.000000</td>\n",
              "      <td>0.0</td>\n",
              "      <td>838.000</td>\n",
              "      <td>0.000142</td>\n",
              "      <td>0.000142</td>\n",
              "      <td>0.000142</td>\n",
              "      <td>0.000150</td>\n",
              "      <td>0.0</td>\n",
              "      <td>0.0</td>\n",
              "      <td>1000.0</td>\n",
              "      <td>1000.0</td>\n",
              "      <td>0.000033</td>\n",
              "      <td>0.000033</td>\n",
              "      <td>0.000133</td>\n",
              "      <td>0.0</td>\n",
              "      <td>0.241699</td>\n",
              "      <td>1.009766</td>\n",
              "      <td>2.580078</td>\n",
              "      <td>0.000000</td>\n",
              "      <td>0.0</td>\n",
              "      <td>0.0</td>\n",
              "      <td>0.0</td>\n",
              "      <td>0.000000</td>\n",
              "      <td>0.241699</td>\n",
              "      <td>4.144531</td>\n",
              "      <td>0.0</td>\n",
              "      <td>1.797852</td>\n",
              "      <td>0.000000</td>\n",
              "      <td>0.0000</td>\n",
              "      <td>0.000000</td>\n",
              "      <td>0.000000</td>\n",
              "      <td>0.000932</td>\n",
              "      <td>0.000000</td>\n",
              "      <td>0.004551</td>\n",
              "      <td>0.0</td>\n",
              "      <td>0.004684</td>\n",
              "      <td>1000.0</td>\n",
              "      <td>0.0</td>\n",
              "      <td>0.000000</td>\n",
              "      <td>0.0</td>\n",
              "      <td>0.0</td>\n",
              "      <td>0.000033</td>\n",
              "      <td>0.0</td>\n",
              "      <td>166.625000</td>\n",
              "      <td>0.0</td>\n",
              "      <td>0.503418</td>\n",
              "      <td>0.004551</td>\n",
              "      <td>0.000930</td>\n",
              "    </tr>\n",
              "    <tr>\n",
              "      <th>7</th>\n",
              "      <td>NaN</td>\n",
              "      <td>1000.0</td>\n",
              "      <td>2.312500</td>\n",
              "      <td>1.03418</td>\n",
              "      <td>1.009766</td>\n",
              "      <td>994.5</td>\n",
              "      <td>0.0</td>\n",
              "      <td>1.03418</td>\n",
              "      <td>2.072266</td>\n",
              "      <td>0.0</td>\n",
              "      <td>838.000</td>\n",
              "      <td>0.000458</td>\n",
              "      <td>0.000458</td>\n",
              "      <td>0.000458</td>\n",
              "      <td>0.000467</td>\n",
              "      <td>0.0</td>\n",
              "      <td>0.0</td>\n",
              "      <td>1000.0</td>\n",
              "      <td>1000.0</td>\n",
              "      <td>0.000000</td>\n",
              "      <td>0.000000</td>\n",
              "      <td>0.000100</td>\n",
              "      <td>0.0</td>\n",
              "      <td>0.241699</td>\n",
              "      <td>1.009766</td>\n",
              "      <td>2.580078</td>\n",
              "      <td>0.000000</td>\n",
              "      <td>0.0</td>\n",
              "      <td>0.0</td>\n",
              "      <td>0.0</td>\n",
              "      <td>3.921875</td>\n",
              "      <td>0.241699</td>\n",
              "      <td>4.144531</td>\n",
              "      <td>0.0</td>\n",
              "      <td>1.797852</td>\n",
              "      <td>0.000000</td>\n",
              "      <td>0.0000</td>\n",
              "      <td>0.000009</td>\n",
              "      <td>0.003426</td>\n",
              "      <td>0.000466</td>\n",
              "      <td>0.003426</td>\n",
              "      <td>0.000000</td>\n",
              "      <td>0.0</td>\n",
              "      <td>0.000000</td>\n",
              "      <td>1000.0</td>\n",
              "      <td>0.0</td>\n",
              "      <td>0.307129</td>\n",
              "      <td>0.0</td>\n",
              "      <td>0.0</td>\n",
              "      <td>0.000000</td>\n",
              "      <td>0.0</td>\n",
              "      <td>7.937500</td>\n",
              "      <td>0.0</td>\n",
              "      <td>0.503418</td>\n",
              "      <td>0.000000</td>\n",
              "      <td>0.000465</td>\n",
              "    </tr>\n",
              "    <tr>\n",
              "      <th>8</th>\n",
              "      <td>NaN</td>\n",
              "      <td>1000.0</td>\n",
              "      <td>2.312500</td>\n",
              "      <td>0.00000</td>\n",
              "      <td>1.009766</td>\n",
              "      <td>994.5</td>\n",
              "      <td>0.0</td>\n",
              "      <td>0.00000</td>\n",
              "      <td>0.000000</td>\n",
              "      <td>0.0</td>\n",
              "      <td>141.625</td>\n",
              "      <td>0.000142</td>\n",
              "      <td>0.000142</td>\n",
              "      <td>0.000142</td>\n",
              "      <td>0.000150</td>\n",
              "      <td>0.0</td>\n",
              "      <td>0.0</td>\n",
              "      <td>1000.0</td>\n",
              "      <td>1000.0</td>\n",
              "      <td>0.000033</td>\n",
              "      <td>0.000033</td>\n",
              "      <td>0.000133</td>\n",
              "      <td>0.0</td>\n",
              "      <td>0.241699</td>\n",
              "      <td>1.009766</td>\n",
              "      <td>2.580078</td>\n",
              "      <td>0.000000</td>\n",
              "      <td>0.0</td>\n",
              "      <td>0.0</td>\n",
              "      <td>0.0</td>\n",
              "      <td>0.000000</td>\n",
              "      <td>0.241699</td>\n",
              "      <td>4.144531</td>\n",
              "      <td>0.0</td>\n",
              "      <td>1.797852</td>\n",
              "      <td>0.000000</td>\n",
              "      <td>0.0000</td>\n",
              "      <td>0.000000</td>\n",
              "      <td>0.000000</td>\n",
              "      <td>0.000932</td>\n",
              "      <td>0.000000</td>\n",
              "      <td>0.004551</td>\n",
              "      <td>0.0</td>\n",
              "      <td>0.004684</td>\n",
              "      <td>1000.0</td>\n",
              "      <td>0.0</td>\n",
              "      <td>0.000000</td>\n",
              "      <td>0.0</td>\n",
              "      <td>0.0</td>\n",
              "      <td>0.000033</td>\n",
              "      <td>0.0</td>\n",
              "      <td>166.625000</td>\n",
              "      <td>0.0</td>\n",
              "      <td>0.503418</td>\n",
              "      <td>0.004551</td>\n",
              "      <td>0.000930</td>\n",
              "    </tr>\n",
              "    <tr>\n",
              "      <th>9</th>\n",
              "      <td>NaN</td>\n",
              "      <td>1000.0</td>\n",
              "      <td>8.734375</td>\n",
              "      <td>0.00000</td>\n",
              "      <td>3.113281</td>\n",
              "      <td>994.5</td>\n",
              "      <td>0.0</td>\n",
              "      <td>0.00000</td>\n",
              "      <td>0.000000</td>\n",
              "      <td>0.0</td>\n",
              "      <td>841.500</td>\n",
              "      <td>0.000142</td>\n",
              "      <td>0.000142</td>\n",
              "      <td>0.000142</td>\n",
              "      <td>0.000150</td>\n",
              "      <td>0.0</td>\n",
              "      <td>0.0</td>\n",
              "      <td>1000.0</td>\n",
              "      <td>1000.0</td>\n",
              "      <td>0.000033</td>\n",
              "      <td>0.000033</td>\n",
              "      <td>0.000133</td>\n",
              "      <td>0.0</td>\n",
              "      <td>1.249023</td>\n",
              "      <td>3.113281</td>\n",
              "      <td>2.580078</td>\n",
              "      <td>2.480469</td>\n",
              "      <td>0.0</td>\n",
              "      <td>0.0</td>\n",
              "      <td>0.0</td>\n",
              "      <td>0.000000</td>\n",
              "      <td>1.249023</td>\n",
              "      <td>4.144531</td>\n",
              "      <td>0.0</td>\n",
              "      <td>6.792969</td>\n",
              "      <td>3.050781</td>\n",
              "      <td>0.0093</td>\n",
              "      <td>0.000000</td>\n",
              "      <td>0.000000</td>\n",
              "      <td>0.002874</td>\n",
              "      <td>0.000000</td>\n",
              "      <td>0.004551</td>\n",
              "      <td>0.0</td>\n",
              "      <td>0.004684</td>\n",
              "      <td>1000.0</td>\n",
              "      <td>0.0</td>\n",
              "      <td>0.000000</td>\n",
              "      <td>0.0</td>\n",
              "      <td>0.0</td>\n",
              "      <td>0.000033</td>\n",
              "      <td>1000.0</td>\n",
              "      <td>166.625000</td>\n",
              "      <td>0.0</td>\n",
              "      <td>14.453125</td>\n",
              "      <td>0.004551</td>\n",
              "      <td>0.002869</td>\n",
              "    </tr>\n",
              "  </tbody>\n",
              "</table>\n",
              "</div>"
            ],
            "text/plain": [
              "     0   ACK Flag Count  ...  Subflow Fwd Packets  Total Length of Fwd Packets\n",
              "0  NaN           1000.0  ...             0.004551                     0.000930\n",
              "1  NaN           1000.0  ...             0.000000                     0.000465\n",
              "2  NaN           1000.0  ...             0.000000                     0.000465\n",
              "3  NaN           1000.0  ...             0.000000                     0.000465\n",
              "4  NaN           1000.0  ...             0.004551                     0.000930\n",
              "5  NaN           1000.0  ...             0.004551                     0.000930\n",
              "6  NaN           1000.0  ...             0.004551                     0.000930\n",
              "7  NaN           1000.0  ...             0.000000                     0.000465\n",
              "8  NaN           1000.0  ...             0.004551                     0.000930\n",
              "9  NaN           1000.0  ...             0.004551                     0.002869\n",
              "\n",
              "[10 rows x 56 columns]"
            ]
          },
          "metadata": {},
          "execution_count": 35
        }
      ]
    },
    {
      "cell_type": "code",
      "metadata": {
        "id": "fRfbdQprhEkh"
      },
      "source": [
        "ndf = ndf.iloc[: , 1:]"
      ],
      "execution_count": null,
      "outputs": []
    },
    {
      "cell_type": "code",
      "metadata": {
        "colab": {
          "base_uri": "https://localhost:8080/",
          "height": 313
        },
        "id": "4JvYVE1YvCuB",
        "outputId": "6e3f34c1-690c-42d2-e659-1a46ca579654"
      },
      "source": [
        "ndf.dropna()\n"
      ],
      "execution_count": null,
      "outputs": [
        {
          "output_type": "execute_result",
          "data": {
            "text/html": [
              "<div><strong>Dask DataFrame Structure:</strong></div>\n",
              "<div>\n",
              "<style scoped>\n",
              "    .dataframe tbody tr th:only-of-type {\n",
              "        vertical-align: middle;\n",
              "    }\n",
              "\n",
              "    .dataframe tbody tr th {\n",
              "        vertical-align: top;\n",
              "    }\n",
              "\n",
              "    .dataframe thead th {\n",
              "        text-align: right;\n",
              "    }\n",
              "</style>\n",
              "<table border=\"1\" class=\"dataframe\">\n",
              "  <thead>\n",
              "    <tr style=\"text-align: right;\">\n",
              "      <th></th>\n",
              "      <th>Destination Port</th>\n",
              "      <th>Flow Duration</th>\n",
              "      <th>Total Fwd Packets</th>\n",
              "      <th>Total Backward Packets</th>\n",
              "      <th>Total Length of Fwd Packets</th>\n",
              "      <th>Fwd Packet Length Max</th>\n",
              "      <th>Fwd Packet Length Min</th>\n",
              "      <th>Fwd Packet Length Mean</th>\n",
              "      <th>Fwd Packet Length Std</th>\n",
              "      <th>Bwd Packet Length Max</th>\n",
              "      <th>Bwd Packet Length Min</th>\n",
              "      <th>Bwd Packet Length Mean</th>\n",
              "      <th>Bwd Packet Length Std</th>\n",
              "      <th>Flow Bytes/s</th>\n",
              "      <th>Flow Packets/s</th>\n",
              "      <th>Flow IAT Mean</th>\n",
              "      <th>Flow IAT Std</th>\n",
              "      <th>Flow IAT Max</th>\n",
              "      <th>Flow IAT Min</th>\n",
              "      <th>Fwd IAT Total</th>\n",
              "      <th>Fwd IAT Mean</th>\n",
              "      <th>Fwd IAT Std</th>\n",
              "      <th>Fwd IAT Max</th>\n",
              "      <th>Fwd IAT Min</th>\n",
              "      <th>Bwd IAT Total</th>\n",
              "      <th>Bwd IAT Max</th>\n",
              "      <th>Fwd PSH Flags</th>\n",
              "      <th>Fwd Header Length</th>\n",
              "      <th>Bwd Header Length</th>\n",
              "      <th>Fwd Packets/s</th>\n",
              "      <th>Min Packet Length</th>\n",
              "      <th>Max Packet Length</th>\n",
              "      <th>Packet Length Mean</th>\n",
              "      <th>Packet Length Std</th>\n",
              "      <th>Packet Length Variance</th>\n",
              "      <th>FIN Flag Count</th>\n",
              "      <th>PSH Flag Count</th>\n",
              "      <th>ACK Flag Count</th>\n",
              "      <th>URG Flag Count</th>\n",
              "      <th>Average Packet Size</th>\n",
              "      <th>Avg Fwd Segment Size</th>\n",
              "      <th>Avg Bwd Segment Size</th>\n",
              "      <th>Fwd Header Length.1</th>\n",
              "      <th>Subflow Fwd Packets</th>\n",
              "      <th>Subflow Fwd Bytes</th>\n",
              "      <th>Subflow Bwd Packets</th>\n",
              "      <th>Subflow Bwd Bytes</th>\n",
              "      <th>Init_Win_bytes_forward</th>\n",
              "      <th>Init_Win_bytes_backward</th>\n",
              "      <th>act_data_pkt_fwd</th>\n",
              "      <th>min_seg_size_forward</th>\n",
              "      <th>Idle Mean</th>\n",
              "      <th>Idle Std</th>\n",
              "      <th>Idle Max</th>\n",
              "      <th>Idle Min</th>\n",
              "    </tr>\n",
              "    <tr>\n",
              "      <th>npartitions=3</th>\n",
              "      <th></th>\n",
              "      <th></th>\n",
              "      <th></th>\n",
              "      <th></th>\n",
              "      <th></th>\n",
              "      <th></th>\n",
              "      <th></th>\n",
              "      <th></th>\n",
              "      <th></th>\n",
              "      <th></th>\n",
              "      <th></th>\n",
              "      <th></th>\n",
              "      <th></th>\n",
              "      <th></th>\n",
              "      <th></th>\n",
              "      <th></th>\n",
              "      <th></th>\n",
              "      <th></th>\n",
              "      <th></th>\n",
              "      <th></th>\n",
              "      <th></th>\n",
              "      <th></th>\n",
              "      <th></th>\n",
              "      <th></th>\n",
              "      <th></th>\n",
              "      <th></th>\n",
              "      <th></th>\n",
              "      <th></th>\n",
              "      <th></th>\n",
              "      <th></th>\n",
              "      <th></th>\n",
              "      <th></th>\n",
              "      <th></th>\n",
              "      <th></th>\n",
              "      <th></th>\n",
              "      <th></th>\n",
              "      <th></th>\n",
              "      <th></th>\n",
              "      <th></th>\n",
              "      <th></th>\n",
              "      <th></th>\n",
              "      <th></th>\n",
              "      <th></th>\n",
              "      <th></th>\n",
              "      <th></th>\n",
              "      <th></th>\n",
              "      <th></th>\n",
              "      <th></th>\n",
              "      <th></th>\n",
              "      <th></th>\n",
              "      <th></th>\n",
              "      <th></th>\n",
              "      <th></th>\n",
              "      <th></th>\n",
              "      <th></th>\n",
              "    </tr>\n",
              "  </thead>\n",
              "  <tbody>\n",
              "    <tr>\n",
              "      <th></th>\n",
              "      <td>float16</td>\n",
              "      <td>float16</td>\n",
              "      <td>float16</td>\n",
              "      <td>float16</td>\n",
              "      <td>float16</td>\n",
              "      <td>float16</td>\n",
              "      <td>float16</td>\n",
              "      <td>float16</td>\n",
              "      <td>float16</td>\n",
              "      <td>float16</td>\n",
              "      <td>float16</td>\n",
              "      <td>float16</td>\n",
              "      <td>float16</td>\n",
              "      <td>float16</td>\n",
              "      <td>float16</td>\n",
              "      <td>float16</td>\n",
              "      <td>float16</td>\n",
              "      <td>float16</td>\n",
              "      <td>float16</td>\n",
              "      <td>float16</td>\n",
              "      <td>float16</td>\n",
              "      <td>float16</td>\n",
              "      <td>float16</td>\n",
              "      <td>float16</td>\n",
              "      <td>float16</td>\n",
              "      <td>float16</td>\n",
              "      <td>float16</td>\n",
              "      <td>float16</td>\n",
              "      <td>float16</td>\n",
              "      <td>float16</td>\n",
              "      <td>float16</td>\n",
              "      <td>float16</td>\n",
              "      <td>float16</td>\n",
              "      <td>float16</td>\n",
              "      <td>float16</td>\n",
              "      <td>float16</td>\n",
              "      <td>float16</td>\n",
              "      <td>float16</td>\n",
              "      <td>float16</td>\n",
              "      <td>float16</td>\n",
              "      <td>float16</td>\n",
              "      <td>float16</td>\n",
              "      <td>float16</td>\n",
              "      <td>float16</td>\n",
              "      <td>float16</td>\n",
              "      <td>float16</td>\n",
              "      <td>float16</td>\n",
              "      <td>float16</td>\n",
              "      <td>float16</td>\n",
              "      <td>float16</td>\n",
              "      <td>float16</td>\n",
              "      <td>float16</td>\n",
              "      <td>float16</td>\n",
              "      <td>float16</td>\n",
              "      <td>float16</td>\n",
              "    </tr>\n",
              "    <tr>\n",
              "      <th></th>\n",
              "      <td>...</td>\n",
              "      <td>...</td>\n",
              "      <td>...</td>\n",
              "      <td>...</td>\n",
              "      <td>...</td>\n",
              "      <td>...</td>\n",
              "      <td>...</td>\n",
              "      <td>...</td>\n",
              "      <td>...</td>\n",
              "      <td>...</td>\n",
              "      <td>...</td>\n",
              "      <td>...</td>\n",
              "      <td>...</td>\n",
              "      <td>...</td>\n",
              "      <td>...</td>\n",
              "      <td>...</td>\n",
              "      <td>...</td>\n",
              "      <td>...</td>\n",
              "      <td>...</td>\n",
              "      <td>...</td>\n",
              "      <td>...</td>\n",
              "      <td>...</td>\n",
              "      <td>...</td>\n",
              "      <td>...</td>\n",
              "      <td>...</td>\n",
              "      <td>...</td>\n",
              "      <td>...</td>\n",
              "      <td>...</td>\n",
              "      <td>...</td>\n",
              "      <td>...</td>\n",
              "      <td>...</td>\n",
              "      <td>...</td>\n",
              "      <td>...</td>\n",
              "      <td>...</td>\n",
              "      <td>...</td>\n",
              "      <td>...</td>\n",
              "      <td>...</td>\n",
              "      <td>...</td>\n",
              "      <td>...</td>\n",
              "      <td>...</td>\n",
              "      <td>...</td>\n",
              "      <td>...</td>\n",
              "      <td>...</td>\n",
              "      <td>...</td>\n",
              "      <td>...</td>\n",
              "      <td>...</td>\n",
              "      <td>...</td>\n",
              "      <td>...</td>\n",
              "      <td>...</td>\n",
              "      <td>...</td>\n",
              "      <td>...</td>\n",
              "      <td>...</td>\n",
              "      <td>...</td>\n",
              "      <td>...</td>\n",
              "      <td>...</td>\n",
              "    </tr>\n",
              "    <tr>\n",
              "      <th></th>\n",
              "      <td>...</td>\n",
              "      <td>...</td>\n",
              "      <td>...</td>\n",
              "      <td>...</td>\n",
              "      <td>...</td>\n",
              "      <td>...</td>\n",
              "      <td>...</td>\n",
              "      <td>...</td>\n",
              "      <td>...</td>\n",
              "      <td>...</td>\n",
              "      <td>...</td>\n",
              "      <td>...</td>\n",
              "      <td>...</td>\n",
              "      <td>...</td>\n",
              "      <td>...</td>\n",
              "      <td>...</td>\n",
              "      <td>...</td>\n",
              "      <td>...</td>\n",
              "      <td>...</td>\n",
              "      <td>...</td>\n",
              "      <td>...</td>\n",
              "      <td>...</td>\n",
              "      <td>...</td>\n",
              "      <td>...</td>\n",
              "      <td>...</td>\n",
              "      <td>...</td>\n",
              "      <td>...</td>\n",
              "      <td>...</td>\n",
              "      <td>...</td>\n",
              "      <td>...</td>\n",
              "      <td>...</td>\n",
              "      <td>...</td>\n",
              "      <td>...</td>\n",
              "      <td>...</td>\n",
              "      <td>...</td>\n",
              "      <td>...</td>\n",
              "      <td>...</td>\n",
              "      <td>...</td>\n",
              "      <td>...</td>\n",
              "      <td>...</td>\n",
              "      <td>...</td>\n",
              "      <td>...</td>\n",
              "      <td>...</td>\n",
              "      <td>...</td>\n",
              "      <td>...</td>\n",
              "      <td>...</td>\n",
              "      <td>...</td>\n",
              "      <td>...</td>\n",
              "      <td>...</td>\n",
              "      <td>...</td>\n",
              "      <td>...</td>\n",
              "      <td>...</td>\n",
              "      <td>...</td>\n",
              "      <td>...</td>\n",
              "      <td>...</td>\n",
              "    </tr>\n",
              "    <tr>\n",
              "      <th></th>\n",
              "      <td>...</td>\n",
              "      <td>...</td>\n",
              "      <td>...</td>\n",
              "      <td>...</td>\n",
              "      <td>...</td>\n",
              "      <td>...</td>\n",
              "      <td>...</td>\n",
              "      <td>...</td>\n",
              "      <td>...</td>\n",
              "      <td>...</td>\n",
              "      <td>...</td>\n",
              "      <td>...</td>\n",
              "      <td>...</td>\n",
              "      <td>...</td>\n",
              "      <td>...</td>\n",
              "      <td>...</td>\n",
              "      <td>...</td>\n",
              "      <td>...</td>\n",
              "      <td>...</td>\n",
              "      <td>...</td>\n",
              "      <td>...</td>\n",
              "      <td>...</td>\n",
              "      <td>...</td>\n",
              "      <td>...</td>\n",
              "      <td>...</td>\n",
              "      <td>...</td>\n",
              "      <td>...</td>\n",
              "      <td>...</td>\n",
              "      <td>...</td>\n",
              "      <td>...</td>\n",
              "      <td>...</td>\n",
              "      <td>...</td>\n",
              "      <td>...</td>\n",
              "      <td>...</td>\n",
              "      <td>...</td>\n",
              "      <td>...</td>\n",
              "      <td>...</td>\n",
              "      <td>...</td>\n",
              "      <td>...</td>\n",
              "      <td>...</td>\n",
              "      <td>...</td>\n",
              "      <td>...</td>\n",
              "      <td>...</td>\n",
              "      <td>...</td>\n",
              "      <td>...</td>\n",
              "      <td>...</td>\n",
              "      <td>...</td>\n",
              "      <td>...</td>\n",
              "      <td>...</td>\n",
              "      <td>...</td>\n",
              "      <td>...</td>\n",
              "      <td>...</td>\n",
              "      <td>...</td>\n",
              "      <td>...</td>\n",
              "      <td>...</td>\n",
              "    </tr>\n",
              "  </tbody>\n",
              "</table>\n",
              "</div>\n",
              "<div>Dask Name: dropna, 96 tasks</div>"
            ],
            "text/plain": [
              "Dask DataFrame Structure:\n",
              "               Destination Port  Flow Duration  Total Fwd Packets  Total Backward Packets Total Length of Fwd Packets  Fwd Packet Length Max  Fwd Packet Length Min  Fwd Packet Length Mean  Fwd Packet Length Std Bwd Packet Length Max  Bwd Packet Length Min  Bwd Packet Length Mean  Bwd Packet Length Std Flow Bytes/s  Flow Packets/s  Flow IAT Mean  Flow IAT Std  Flow IAT Max  Flow IAT Min Fwd IAT Total  Fwd IAT Mean  Fwd IAT Std  Fwd IAT Max  Fwd IAT Min Bwd IAT Total  Bwd IAT Max Fwd PSH Flags  Fwd Header Length  Bwd Header Length Fwd Packets/s  Min Packet Length  Max Packet Length  Packet Length Mean  Packet Length Std  Packet Length Variance FIN Flag Count  PSH Flag Count  ACK Flag Count  URG Flag Count  Average Packet Size  Avg Fwd Segment Size  Avg Bwd Segment Size  Fwd Header Length.1 Subflow Fwd Packets  Subflow Fwd Bytes  Subflow Bwd Packets  Subflow Bwd Bytes Init_Win_bytes_forward  Init_Win_bytes_backward  act_data_pkt_fwd  min_seg_size_forward Idle Mean  Idle Std  Idle Max  Idle Min\n",
              "npartitions=3                                                                                                                                                                                                                                                                                                                                                                                                                                                                                                                                                                                                                                                                                                                                                                                                                                                                                                                                                                                                                                \n",
              "                        float16        float16            float16                 float16                     float16                float16                float16                 float16                float16               float16                float16                 float16                float16      float16         float16        float16       float16       float16       float16       float16       float16      float16      float16      float16       float16      float16       float16            float16            float16       float16            float16            float16             float16            float16                 float16        float16         float16         float16         float16              float16               float16               float16              float16             float16            float16              float16            float16                float16                  float16           float16               float16   float16   float16   float16   float16\n",
              "                            ...            ...                ...                     ...                         ...                    ...                    ...                     ...                    ...                   ...                    ...                     ...                    ...          ...             ...            ...           ...           ...           ...           ...           ...          ...          ...          ...           ...          ...           ...                ...                ...           ...                ...                ...                 ...                ...                     ...            ...             ...             ...             ...                  ...                   ...                   ...                  ...                 ...                ...                  ...                ...                    ...                      ...               ...                   ...       ...       ...       ...       ...\n",
              "                            ...            ...                ...                     ...                         ...                    ...                    ...                     ...                    ...                   ...                    ...                     ...                    ...          ...             ...            ...           ...           ...           ...           ...           ...          ...          ...          ...           ...          ...           ...                ...                ...           ...                ...                ...                 ...                ...                     ...            ...             ...             ...             ...                  ...                   ...                   ...                  ...                 ...                ...                  ...                ...                    ...                      ...               ...                   ...       ...       ...       ...       ...\n",
              "                            ...            ...                ...                     ...                         ...                    ...                    ...                     ...                    ...                   ...                    ...                     ...                    ...          ...             ...            ...           ...           ...           ...           ...           ...          ...          ...          ...           ...          ...           ...                ...                ...           ...                ...                ...                 ...                ...                     ...            ...             ...             ...             ...                  ...                   ...                   ...                  ...                 ...                ...                  ...                ...                    ...                      ...               ...                   ...       ...       ...       ...       ...\n",
              "Dask Name: dropna, 96 tasks"
            ]
          },
          "metadata": {},
          "execution_count": 66
        }
      ]
    },
    {
      "cell_type": "code",
      "metadata": {
        "colab": {
          "base_uri": "https://localhost:8080/"
        },
        "id": "zfrgVIRIlQao",
        "outputId": "5717a64e-c90d-4624-8041-2cdce33f53a2"
      },
      "source": [
        "ndf.info()\n"
      ],
      "execution_count": null,
      "outputs": [
        {
          "output_type": "stream",
          "name": "stdout",
          "text": [
            "<class 'dask.dataframe.core.DataFrame'>\n",
            "Columns: 55 entries,  ACK Flag Count to Total Length of Fwd Packets\n",
            "dtypes: float16(55)"
          ]
        }
      ]
    },
    {
      "cell_type": "code",
      "metadata": {
        "id": "wFtd5iD-Z6xT"
      },
      "source": [
        ""
      ],
      "execution_count": null,
      "outputs": []
    },
    {
      "cell_type": "code",
      "metadata": {
        "colab": {
          "base_uri": "https://localhost:8080/"
        },
        "id": "n03PEZaRbpQj",
        "outputId": "77afdce1-c121-4fa6-e4a8-29b3e9ab17db"
      },
      "source": [
        "# convert_datatypes(df[' Total Fwd Packets'],'' )\n",
        "convert_datatypes(df[' Destination Port'],'' )"
      ],
      "execution_count": null,
      "outputs": [
        {
          "output_type": "stream",
          "name": "stdout",
          "text": [
            "Trying to convert datatypes for less memory usage\n",
            "dd.Scalar<series-..., dtype=int64> max\n",
            "dd.Scalar<series-..., dtype=int64> min\n"
          ]
        }
      ]
    },
    {
      "cell_type": "code",
      "metadata": {
        "colab": {
          "base_uri": "https://localhost:8080/"
        },
        "id": "-sRZ_YaHZ6z3",
        "outputId": "1a472470-632e-4fec-f7e3-2618442f7fbb"
      },
      "source": [
        "X.info()"
      ],
      "execution_count": null,
      "outputs": [
        {
          "output_type": "stream",
          "name": "stdout",
          "text": [
            "<class 'dask.dataframe.core.DataFrame'>\n",
            "Columns: 78 entries,  Destination Port to  Idle Min\n",
            "dtypes: float64(24), int64(54)"
          ]
        }
      ]
    },
    {
      "cell_type": "code",
      "metadata": {
        "id": "zUsE662iZ62j"
      },
      "source": [
        ""
      ],
      "execution_count": null,
      "outputs": []
    },
    {
      "cell_type": "code",
      "metadata": {
        "id": "0tASluZUZ65d"
      },
      "source": [
        ""
      ],
      "execution_count": null,
      "outputs": []
    },
    {
      "cell_type": "code",
      "metadata": {
        "id": "-Jk2E-vpZ68F"
      },
      "source": [
        ""
      ],
      "execution_count": null,
      "outputs": []
    },
    {
      "cell_type": "code",
      "metadata": {
        "id": "Mlv3Q9d2Z6-v"
      },
      "source": [
        ""
      ],
      "execution_count": null,
      "outputs": []
    },
    {
      "cell_type": "code",
      "metadata": {
        "id": "qepYfX_lZ7Bg"
      },
      "source": [
        ""
      ],
      "execution_count": null,
      "outputs": []
    },
    {
      "cell_type": "code",
      "metadata": {
        "id": "hsSg0ATtZ7EP"
      },
      "source": [
        ""
      ],
      "execution_count": null,
      "outputs": []
    },
    {
      "cell_type": "code",
      "metadata": {
        "id": "hQ6LLsPq6SMp"
      },
      "source": [
        "tag = df.groupby(' Label')[' Label'].agg('count')\n",
        "print(tag)\n",
        "target = df[' Label']\n",
        "target.value_counts().plot(kind='bar')\n",
        "plt.xticks([0,1,2,3,4,5,6,7,8,9,10,11,12,13], \n",
        "           ['Portscan','BENIGN', '3',                                    \n",
        "            '4Portscan','5BENIGN', '6',\n",
        "            '7Portscan','8BENIGN', '9',\n",
        "            '10Portscan','11BENIGN', '12', \n",
        "            '13Portscan','Bdd' ])\n",
        "plt.xlabel(\"Gender\")\n",
        "plt.ylabel(\"Frequency\")\n",
        "plt.show()"
      ],
      "execution_count": null,
      "outputs": []
    },
    {
      "cell_type": "code",
      "metadata": {
        "id": "B3C9Ks8j6eSI",
        "colab": {
          "base_uri": "https://localhost:8080/"
        },
        "outputId": "795a40ad-e20f-4b8f-a4fc-ff6c08182110"
      },
      "source": [
        "df.memory_usage(index=True).sum() \n",
        "import sys\n",
        "sys.getsizeof(df)"
      ],
      "execution_count": null,
      "outputs": [
        {
          "output_type": "execute_result",
          "data": {
            "text/plain": [
              "1719151847"
            ]
          },
          "metadata": {},
          "execution_count": 9
        }
      ]
    },
    {
      "cell_type": "code",
      "metadata": {
        "id": "yk214gse6ljp",
        "colab": {
          "base_uri": "https://localhost:8080/"
        },
        "outputId": "70d29215-5b72-45f3-e093-ab3d70041ca5"
      },
      "source": [
        "print(df.shape)\n",
        "print(df.columns)\n",
        "print(df.info)\n",
        "df.head(10)\n",
        "\n",
        "del df['Fwd Avg Bytes/Bulk']\n",
        "del df[' SYN Flag Count']\n",
        "del df['Bwd Avg Bulk Rate']\n",
        "del df[' RST Flag Count']\n",
        "del df[' Fwd Avg Packets/Bulk']\n",
        "del df[' Fwd Avg Bulk Rate']\n",
        "del df[' ECE Flag Count']\n",
        "del df[' CWE Flag Count']\n",
        "del df[' Bwd URG Flags']\n",
        "del df[' Bwd PSH Flags']\n",
        "del df[' Bwd Avg Packets/Bulk']"
      ],
      "execution_count": null,
      "outputs": [
        {
          "output_type": "stream",
          "name": "stdout",
          "text": [
            "(2830743, 79)\n",
            "Index([' Destination Port', ' Flow Duration', ' Total Fwd Packets',\n",
            "       ' Total Backward Packets', 'Total Length of Fwd Packets',\n",
            "       ' Total Length of Bwd Packets', ' Fwd Packet Length Max',\n",
            "       ' Fwd Packet Length Min', ' Fwd Packet Length Mean',\n",
            "       ' Fwd Packet Length Std', 'Bwd Packet Length Max',\n",
            "       ' Bwd Packet Length Min', ' Bwd Packet Length Mean',\n",
            "       ' Bwd Packet Length Std', 'Flow Bytes/s', ' Flow Packets/s',\n",
            "       ' Flow IAT Mean', ' Flow IAT Std', ' Flow IAT Max', ' Flow IAT Min',\n",
            "       'Fwd IAT Total', ' Fwd IAT Mean', ' Fwd IAT Std', ' Fwd IAT Max',\n",
            "       ' Fwd IAT Min', 'Bwd IAT Total', ' Bwd IAT Mean', ' Bwd IAT Std',\n",
            "       ' Bwd IAT Max', ' Bwd IAT Min', 'Fwd PSH Flags', ' Bwd PSH Flags',\n",
            "       ' Fwd URG Flags', ' Bwd URG Flags', ' Fwd Header Length',\n",
            "       ' Bwd Header Length', 'Fwd Packets/s', ' Bwd Packets/s',\n",
            "       ' Min Packet Length', ' Max Packet Length', ' Packet Length Mean',\n",
            "       ' Packet Length Std', ' Packet Length Variance', 'FIN Flag Count',\n",
            "       ' SYN Flag Count', ' RST Flag Count', ' PSH Flag Count',\n",
            "       ' ACK Flag Count', ' URG Flag Count', ' CWE Flag Count',\n",
            "       ' ECE Flag Count', ' Down/Up Ratio', ' Average Packet Size',\n",
            "       ' Avg Fwd Segment Size', ' Avg Bwd Segment Size',\n",
            "       ' Fwd Header Length.1', 'Fwd Avg Bytes/Bulk', ' Fwd Avg Packets/Bulk',\n",
            "       ' Fwd Avg Bulk Rate', ' Bwd Avg Bytes/Bulk', ' Bwd Avg Packets/Bulk',\n",
            "       'Bwd Avg Bulk Rate', 'Subflow Fwd Packets', ' Subflow Fwd Bytes',\n",
            "       ' Subflow Bwd Packets', ' Subflow Bwd Bytes', 'Init_Win_bytes_forward',\n",
            "       ' Init_Win_bytes_backward', ' act_data_pkt_fwd',\n",
            "       ' min_seg_size_forward', 'Active Mean', ' Active Std', ' Active Max',\n",
            "       ' Active Min', 'Idle Mean', ' Idle Std', ' Idle Max', ' Idle Min',\n",
            "       ' Label'],\n",
            "      dtype='object')\n",
            "<bound method DataFrame.info of           Destination Port   Flow Duration  ...   Idle Min   Label\n",
            "0                    54865               3  ...          0  BENIGN\n",
            "1                    55054             109  ...          0  BENIGN\n",
            "2                    55055              52  ...          0  BENIGN\n",
            "3                    46236              34  ...          0  BENIGN\n",
            "4                    54863               3  ...          0  BENIGN\n",
            "...                    ...             ...  ...        ...     ...\n",
            "2830738                 53           32215  ...          0  BENIGN\n",
            "2830739                 53             324  ...          0  BENIGN\n",
            "2830740              58030              82  ...          0  BENIGN\n",
            "2830741                 53         1048635  ...          0  BENIGN\n",
            "2830742                 53           94939  ...          0  BENIGN\n",
            "\n",
            "[2830743 rows x 79 columns]>\n"
          ]
        }
      ]
    },
    {
      "cell_type": "code",
      "metadata": {
        "colab": {
          "base_uri": "https://localhost:8080/"
        },
        "id": "MvPakQh6sPaS",
        "outputId": "f6e81f61-8c85-4b06-bdb2-11f8a2b9fc24"
      },
      "source": [
        "\n"
      ],
      "execution_count": null,
      "outputs": [
        {
          "output_type": "execute_result",
          "data": {
            "text/plain": [
              "array([0, 0, 0, ..., 0, 0, 0], dtype=int8)"
            ]
          },
          "metadata": {},
          "execution_count": 22
        }
      ]
    },
    {
      "cell_type": "code",
      "metadata": {
        "id": "VMDxWQ_-6ljq",
        "colab": {
          "base_uri": "https://localhost:8080/"
        },
        "outputId": "27addb6c-9afe-4308-a022-4fe6a3a125e5"
      },
      "source": [
        "from sklearn.preprocessing import LabelEncoder\n",
        "\n",
        "target = df[' Label']\n",
        "le = LabelEncoder()\n",
        "Y=le.fit_transform(target)\n",
        "\n",
        "# print(np.average(Y))\n",
        "# X=df.iloc[:,:-1]\n",
        "# X = X.astype(np.float16 ,copy=False)\n",
        "\n",
        "# X = X.apply(lambda col: ((col - col.min(axis=0)) / col.max(axis=0)))\n",
        "# X = target.apply(lambda col: SS.fit_transform(col), axis=0, result_type='expand')\n",
        "\n",
        "# X.drop(X.columns[31], axis=1,inplace=True)\n",
        "# X.drop(X.columns[32], axis=1,inplace=True)\n",
        "# 52\n",
        "# 53\n",
        "\n",
        "# 56 --- nan\n",
        "# 57 --- nan\n",
        "# 58 --- nan\n",
        "# 59 --- nan\n",
        "# 60 --- nan\n",
        "# 61 --- nan\n",
        "# 62 --- 1.0\n",
        "# 63 --- 1.0\n",
        "# 64 --- 1.0\n",
        "# 65 --- 1.0\n",
        "# 66 --- 1.0\n",
        "# 67 --- 1.0\n",
        "# 68 --- 1.0\n",
        "# 69 --- inf\n",
        "\n",
        "# print(X.shape)\n",
        "# X.dropna()\n",
        "# print(X.shape,np.max(np.max(X).astype(np.float64)))\n",
        "count = -1\n",
        "for i in np.max(ndf).astype(np.float16):\n",
        "    count += 1\n",
        "    print(count, '---',i)"
      ],
      "execution_count": null,
      "outputs": [
        {
          "output_type": "stream",
          "name": "stdout",
          "text": [
            "0 --- 1.0\n",
            "1 --- 1.0\n",
            "2 --- 1.0\n",
            "3 --- 1.0\n",
            "4 --- 1.0\n",
            "5 --- 1.0\n",
            "6 --- 1.0\n",
            "7 --- 1.0\n",
            "8 --- 1.0\n",
            "9 --- 1.0\n",
            "10 --- 1.0\n",
            "11 --- 1.0\n",
            "12 --- 1.0\n",
            "13 --- 0.0\n",
            "14 --- 0.0\n",
            "15 --- 1.0\n",
            "16 --- 1.0\n",
            "17 --- 1.0\n",
            "18 --- 1.0\n",
            "19 --- 1.0\n",
            "20 --- 1.0\n",
            "21 --- 1.0\n",
            "22 --- 1.0\n",
            "23 --- 1.0\n",
            "24 --- 1.0\n",
            "25 --- 1.0\n",
            "26 --- 1.0\n",
            "27 --- 0.01000213623046875\n",
            "28 --- 0.0100555419921875\n",
            "29 --- 1.0\n",
            "30 --- 1.0\n",
            "31 --- 1.0\n",
            "32 --- 1.0\n",
            "33 --- 1.0\n",
            "34 --- 1.0\n",
            "35 --- 1.0\n",
            "36 --- 1.0\n",
            "37 --- 1.0\n",
            "38 --- 1.0\n",
            "39 --- 1.0\n",
            "40 --- 1.0\n",
            "41 --- 1.0\n",
            "42 --- 0.01000213623046875\n",
            "43 --- 1.0\n",
            "44 --- 1.0\n",
            "45 --- 1.0\n",
            "46 --- 1.0\n",
            "47 --- 0.99853515625\n",
            "48 --- 0.99853515625\n",
            "49 --- 1.0\n",
            "50 --- 0.01000213623046875\n",
            "51 --- 1.0\n",
            "52 --- 1.0\n",
            "53 --- 1.0\n",
            "54 --- 1.0\n"
          ]
        }
      ]
    },
    {
      "cell_type": "code",
      "metadata": {
        "colab": {
          "base_uri": "https://localhost:8080/",
          "height": 132
        },
        "id": "n5KO4Xs0Cn-S",
        "outputId": "0ecc54a2-db25-4595-a540-ee340fc381aa"
      },
      "source": [
        "# dfn[' Destination Port'] = (dfn[' Destination Port'] - dfn[' Destination Port'].min(axis=0)) / dfn[' Destination Port'].max(axis=0)\n",
        "# dfn[' PSH Flag Count'] = (dfn[' PSH Flag Count'] - dfn[' PSH Flag Count'].min(axis=0)) / dfn[' PSH Flag Count'].max(axis=0)\n",
        "# \n",
        "# dfn[' min_seg_size_forward'] = (dfn[' min_seg_size_forward'] - dfn[' min_seg_size_forward'].min(axis=0)) / dfn[' min_seg_size_forward'].max(axis=0)\n",
        "# dfn[' Avg Bwd Segment Size'] = (dfn[' Avg Bwd Segment Size'] - dfn[' Avg Bwd Segment Size'].min(axis=0)) / dfn[' Avg Bwd Segment Size'].max(axis=0)\n",
        "# \n",
        "# dfn['Init_Win_bytes_forward'] = (dfn['Init_Win_bytes_forward'] - dfn['Init_Win_bytes_forward'].min(axis=0)) / dfn['Init_Win_bytes_forward'].max(axis=0)\n",
        "# dfn[' Bwd Packet Length Mn'] = (dfn[' Bwd Packet Length Mn'] - dfn[' Bwd Packet Length Mn'].min(axis=0)) / dfn[' Bwd Packet Length Mn'].max(axis=0)\n",
        "# \n",
        "# dfn['Bwd Packet Length Max'] = (dfn['Bwd Packet Length Max'] - dfn['Bwd Packet Length Max'].min(axis=0)) / dfn['Bwd Packet Length Max'].max(axis=0)\n",
        "# \n",
        "# dfn[' Bwd Packet Length Min'] = (dfn[' Bwd Packet Length Min'] - dfn[' Bwd Packet Length Min'].min(axis=0)) / dfn[' Bwd Packet Length Min'].max(axis=0)\n",
        "# dfn[' Bwd Packet Length Std'] = (dfn[' Destination Port'] - dfn[' Destination Port'].min(axis=0)) / dfn[' Destination Port'].max(axis=0)\n",
        "# dfn[' Destination Port'] = (dfn[' Destination Port'] - dfn[' Destination Port'].min(axis=0)) / dfn[' Destination Port'].max(axis=0)\n",
        "# dfn[' Destination Port'] = (dfn[' Destination Port'] - dfn[' Destination Port'].min(axis=0)) / dfn[' Destination Port'].max(axis=0)\n",
        "# dfn[' Destination Port'] = (dfn[' Destination Port'] - dfn[' Destination Port'].min(axis=0)) / dfn[' Destination Port'].max(axis=0)\n",
        "# dfn[' Destination Port'] = (dfn[' Destination Port'] - dfn[' Destination Port'].min(axis=0)) / dfn[' Destination Port'].max(axis=0)\n",
        "# dfn[' Destination Port'] = (dfn[' Destination Port'] - dfn[' Destination Port'].min(axis=0)) / dfn[' Destination Port'].max(axis=0)\n",
        "# dfn[' Destination Port'] = (dfn[' Destination Port'] - dfn[' Destination Port'].min(axis=0)) / dfn[' Destination Port'].max(axis=0)\n",
        "# dfn[' Destination Port'] = (dfn[' Destination Port'] - dfn[' Destination Port'].min(axis=0)) / dfn[' Destination Port'].max(axis=0)\n",
        "# dfn[' Destination Port'] = (dfn[' Destination Port'] - dfn[' Destination Port'].min(axis=0)) / dfn[' Destination Port'].max(axis=0)\n",
        "# dfn[' Destination Port'] = (dfn[' Destination Port'] - dfn[' Destination Port'].min(axis=0)) / dfn[' Destination Port'].max(axis=0)\n",
        "# dfn[' Destination Port'] = (dfn[' Destination Port'] - dfn[' Destination Port'].min(axis=0)) / dfn[' Destination Port'].max(axis=0) \n",
        "\n",
        "\n",
        " #, result_type='expand')\n",
        "# dfn = dfn.apply(lambda col: SS.fit_transform(col.astype(str)), axis=0, result_type='expand')\n"
      ],
      "execution_count": null,
      "outputs": [
        {
          "output_type": "error",
          "ename": "SyntaxError",
          "evalue": "ignored",
          "traceback": [
            "\u001b[0;36m  File \u001b[0;32m\"<ipython-input-43-29e74ff77e53>\"\u001b[0;36m, line \u001b[0;32m28\u001b[0m\n\u001b[0;31m    # dfn = dfn.apply(lambda col: SS.fit_transform(col.astype(str)), axis=0, result_type='expand')\u001b[0m\n\u001b[0m                                                                                                  ^\u001b[0m\n\u001b[0;31mSyntaxError\u001b[0m\u001b[0;31m:\u001b[0m unexpected EOF while parsing\n"
          ]
        }
      ]
    },
    {
      "cell_type": "code",
      "metadata": {
        "id": "vskPB93UVB9G"
      },
      "source": [
        "X=df.iloc[:,:-1]\n",
        "X = X.apply(lambda col: (col.astype('float16')))"
      ],
      "execution_count": null,
      "outputs": []
    },
    {
      "cell_type": "code",
      "metadata": {
        "id": "rtyY8vAbVFnT"
      },
      "source": [
        "X.info()\n",
        "X.head(15)"
      ],
      "execution_count": null,
      "outputs": []
    },
    {
      "cell_type": "code",
      "metadata": {
        "colab": {
          "base_uri": "https://localhost:8080/",
          "height": 661
        },
        "id": "ZaMAvbZ1HO5Z",
        "outputId": "0d62a726-0ec7-4704-f684-7703ee426aa6"
      },
      "source": [
        "print(X.head(10))\n",
        "SS = LabelEncoder()\n",
        "X = X.apply(lambda col: ((col - col.min(axis=0)) / col.max(axis=0)))\n",
        "# X = X.apply(lambda col: (col.astype('int8')))\n",
        "\n",
        "# X = X.apply(lambda col: SS.fit_transform(col), axis=0, result_type='expand')\n",
        "X.head(10)"
      ],
      "execution_count": null,
      "outputs": [
        {
          "output_type": "stream",
          "name": "stdout",
          "text": [
            "    Destination Port   Flow Duration  ...   Idle Max   Idle Min\n",
            "0                 81               3  ...          0          0\n",
            "1                 14             109  ...          0          0\n",
            "2                 15              52  ...          0          0\n",
            "3               -100              34  ...          0          0\n",
            "4                 79               3  ...          0          0\n",
            "5                 87              -2  ...          0          0\n",
            "6               -115               4  ...          0          0\n",
            "7               -115              42  ...          0          0\n",
            "8                 66               4  ...          0          0\n",
            "9                113               4  ...          0          0\n",
            "\n",
            "[10 rows x 65 columns]\n"
          ]
        },
        {
          "output_type": "execute_result",
          "data": {
            "text/html": [
              "<div>\n",
              "<style scoped>\n",
              "    .dataframe tbody tr th:only-of-type {\n",
              "        vertical-align: middle;\n",
              "    }\n",
              "\n",
              "    .dataframe tbody tr th {\n",
              "        vertical-align: top;\n",
              "    }\n",
              "\n",
              "    .dataframe thead th {\n",
              "        text-align: right;\n",
              "    }\n",
              "</style>\n",
              "<table border=\"1\" class=\"dataframe\">\n",
              "  <thead>\n",
              "    <tr style=\"text-align: right;\">\n",
              "      <th></th>\n",
              "      <th>Destination Port</th>\n",
              "      <th>Flow Duration</th>\n",
              "      <th>Total Fwd Packets</th>\n",
              "      <th>Total Backward Packets</th>\n",
              "      <th>Total Length of Fwd Packets</th>\n",
              "      <th>Total Length of Bwd Packets</th>\n",
              "      <th>Fwd Packet Length Max</th>\n",
              "      <th>Fwd Packet Length Min</th>\n",
              "      <th>Fwd Packet Length Mean</th>\n",
              "      <th>Fwd Packet Length Std</th>\n",
              "      <th>Bwd Packet Length Max</th>\n",
              "      <th>Bwd Packet Length Min</th>\n",
              "      <th>Bwd Packet Length Mean</th>\n",
              "      <th>Bwd Packet Length Std</th>\n",
              "      <th>Flow IAT Mean</th>\n",
              "      <th>Flow IAT Std</th>\n",
              "      <th>Flow IAT Max</th>\n",
              "      <th>Flow IAT Min</th>\n",
              "      <th>Fwd IAT Total</th>\n",
              "      <th>Fwd IAT Mean</th>\n",
              "      <th>Fwd IAT Std</th>\n",
              "      <th>Fwd IAT Max</th>\n",
              "      <th>Fwd IAT Min</th>\n",
              "      <th>Bwd IAT Total</th>\n",
              "      <th>Bwd IAT Mean</th>\n",
              "      <th>Bwd IAT Std</th>\n",
              "      <th>Bwd IAT Max</th>\n",
              "      <th>Bwd IAT Min</th>\n",
              "      <th>Fwd PSH Flags</th>\n",
              "      <th>Fwd URG Flags</th>\n",
              "      <th>Fwd Header Length</th>\n",
              "      <th>Bwd Header Length</th>\n",
              "      <th>Fwd Packets/s</th>\n",
              "      <th>Bwd Packets/s</th>\n",
              "      <th>Min Packet Length</th>\n",
              "      <th>Max Packet Length</th>\n",
              "      <th>Packet Length Mean</th>\n",
              "      <th>Packet Length Std</th>\n",
              "      <th>Packet Length Variance</th>\n",
              "      <th>FIN Flag Count</th>\n",
              "      <th>PSH Flag Count</th>\n",
              "      <th>ACK Flag Count</th>\n",
              "      <th>URG Flag Count</th>\n",
              "      <th>Down/Up Ratio</th>\n",
              "      <th>Average Packet Size</th>\n",
              "      <th>Avg Fwd Segment Size</th>\n",
              "      <th>Avg Bwd Segment Size</th>\n",
              "      <th>Fwd Header Length.1</th>\n",
              "      <th>Bwd Avg Bytes/Bulk</th>\n",
              "      <th>Subflow Fwd Packets</th>\n",
              "      <th>Subflow Fwd Bytes</th>\n",
              "      <th>Subflow Bwd Packets</th>\n",
              "      <th>Subflow Bwd Bytes</th>\n",
              "      <th>Init_Win_bytes_forward</th>\n",
              "      <th>Init_Win_bytes_backward</th>\n",
              "      <th>act_data_pkt_fwd</th>\n",
              "      <th>min_seg_size_forward</th>\n",
              "      <th>Active Mean</th>\n",
              "      <th>Active Std</th>\n",
              "      <th>Active Max</th>\n",
              "      <th>Active Min</th>\n",
              "      <th>Idle Mean</th>\n",
              "      <th>Idle Std</th>\n",
              "      <th>Idle Max</th>\n",
              "      <th>Idle Min</th>\n",
              "    </tr>\n",
              "  </thead>\n",
              "  <tbody>\n",
              "    <tr>\n",
              "      <th>0</th>\n",
              "      <td>-0.370079</td>\n",
              "      <td>-0.984252</td>\n",
              "      <td>-0.992126</td>\n",
              "      <td>-1.007874</td>\n",
              "      <td>-0.913386</td>\n",
              "      <td>-1.007874</td>\n",
              "      <td>-0.96063</td>\n",
              "      <td>-0.96063</td>\n",
              "      <td>-0.960630</td>\n",
              "      <td>-1.007874</td>\n",
              "      <td>-1.007874</td>\n",
              "      <td>-1.007874</td>\n",
              "      <td>-1.007874</td>\n",
              "      <td>-1.007874</td>\n",
              "      <td>-0.984252</td>\n",
              "      <td>-1.007874</td>\n",
              "      <td>-0.984252</td>\n",
              "      <td>-0.984252</td>\n",
              "      <td>-0.984252</td>\n",
              "      <td>-0.984252</td>\n",
              "      <td>-1.007874</td>\n",
              "      <td>-0.984252</td>\n",
              "      <td>-0.984252</td>\n",
              "      <td>-1.007874</td>\n",
              "      <td>-1.007874</td>\n",
              "      <td>-1.007874</td>\n",
              "      <td>-1.007874</td>\n",
              "      <td>-1.007874</td>\n",
              "      <td>0.0</td>\n",
              "      <td>0.0</td>\n",
              "      <td>-0.709677</td>\n",
              "      <td>-1.032258</td>\n",
              "      <td>-0.677165</td>\n",
              "      <td>-1.007874</td>\n",
              "      <td>-0.96063</td>\n",
              "      <td>-0.96063</td>\n",
              "      <td>-0.960630</td>\n",
              "      <td>-1.007874</td>\n",
              "      <td>-1.007874</td>\n",
              "      <td>0.0</td>\n",
              "      <td>0.0</td>\n",
              "      <td>1.0</td>\n",
              "      <td>0.0</td>\n",
              "      <td>0.806452</td>\n",
              "      <td>-0.937008</td>\n",
              "      <td>-0.960630</td>\n",
              "      <td>-1.007874</td>\n",
              "      <td>-0.709677</td>\n",
              "      <td>NaN</td>\n",
              "      <td>-0.992126</td>\n",
              "      <td>-0.913386</td>\n",
              "      <td>-1.007874</td>\n",
              "      <td>-1.007874</td>\n",
              "      <td>-0.748031</td>\n",
              "      <td>1.000000</td>\n",
              "      <td>-1.000000</td>\n",
              "      <td>-0.936508</td>\n",
              "      <td>-1.007874</td>\n",
              "      <td>-1.007874</td>\n",
              "      <td>-1.007874</td>\n",
              "      <td>-1.007874</td>\n",
              "      <td>-1.007874</td>\n",
              "      <td>-1.007874</td>\n",
              "      <td>-1.007874</td>\n",
              "      <td>-1.007874</td>\n",
              "    </tr>\n",
              "    <tr>\n",
              "      <th>1</th>\n",
              "      <td>-0.897638</td>\n",
              "      <td>-0.149606</td>\n",
              "      <td>-1.000000</td>\n",
              "      <td>-1.000000</td>\n",
              "      <td>-0.960630</td>\n",
              "      <td>-0.960630</td>\n",
              "      <td>-0.96063</td>\n",
              "      <td>-0.96063</td>\n",
              "      <td>-0.960630</td>\n",
              "      <td>-1.007874</td>\n",
              "      <td>-0.960630</td>\n",
              "      <td>-0.960630</td>\n",
              "      <td>-0.960630</td>\n",
              "      <td>-1.007874</td>\n",
              "      <td>-0.149606</td>\n",
              "      <td>-1.007874</td>\n",
              "      <td>-0.149606</td>\n",
              "      <td>-0.149606</td>\n",
              "      <td>-1.007874</td>\n",
              "      <td>-1.007874</td>\n",
              "      <td>-1.007874</td>\n",
              "      <td>-1.007874</td>\n",
              "      <td>-1.007874</td>\n",
              "      <td>-1.007874</td>\n",
              "      <td>-1.007874</td>\n",
              "      <td>-1.007874</td>\n",
              "      <td>-1.007874</td>\n",
              "      <td>-1.007874</td>\n",
              "      <td>0.0</td>\n",
              "      <td>0.0</td>\n",
              "      <td>-0.870968</td>\n",
              "      <td>-0.870968</td>\n",
              "      <td>0.677165</td>\n",
              "      <td>0.677165</td>\n",
              "      <td>-0.96063</td>\n",
              "      <td>-0.96063</td>\n",
              "      <td>-0.960630</td>\n",
              "      <td>-1.007874</td>\n",
              "      <td>-1.007874</td>\n",
              "      <td>0.0</td>\n",
              "      <td>0.0</td>\n",
              "      <td>1.0</td>\n",
              "      <td>1.0</td>\n",
              "      <td>0.814516</td>\n",
              "      <td>-0.937008</td>\n",
              "      <td>-0.960630</td>\n",
              "      <td>-0.960630</td>\n",
              "      <td>-0.870968</td>\n",
              "      <td>NaN</td>\n",
              "      <td>-1.000000</td>\n",
              "      <td>-0.960630</td>\n",
              "      <td>-1.000000</td>\n",
              "      <td>-0.960630</td>\n",
              "      <td>-0.779528</td>\n",
              "      <td>-1.007874</td>\n",
              "      <td>-1.007874</td>\n",
              "      <td>-0.936508</td>\n",
              "      <td>-1.007874</td>\n",
              "      <td>-1.007874</td>\n",
              "      <td>-1.007874</td>\n",
              "      <td>-1.007874</td>\n",
              "      <td>-1.007874</td>\n",
              "      <td>-1.007874</td>\n",
              "      <td>-1.007874</td>\n",
              "      <td>-1.007874</td>\n",
              "    </tr>\n",
              "    <tr>\n",
              "      <th>2</th>\n",
              "      <td>-0.889764</td>\n",
              "      <td>-0.598425</td>\n",
              "      <td>-1.000000</td>\n",
              "      <td>-1.000000</td>\n",
              "      <td>-0.960630</td>\n",
              "      <td>-0.960630</td>\n",
              "      <td>-0.96063</td>\n",
              "      <td>-0.96063</td>\n",
              "      <td>-0.960630</td>\n",
              "      <td>-1.007874</td>\n",
              "      <td>-0.960630</td>\n",
              "      <td>-0.960630</td>\n",
              "      <td>-0.960630</td>\n",
              "      <td>-1.007874</td>\n",
              "      <td>-0.598425</td>\n",
              "      <td>-1.007874</td>\n",
              "      <td>-0.598425</td>\n",
              "      <td>-0.598425</td>\n",
              "      <td>-1.007874</td>\n",
              "      <td>-1.007874</td>\n",
              "      <td>-1.007874</td>\n",
              "      <td>-1.007874</td>\n",
              "      <td>-1.007874</td>\n",
              "      <td>-1.007874</td>\n",
              "      <td>-1.007874</td>\n",
              "      <td>-1.007874</td>\n",
              "      <td>-1.007874</td>\n",
              "      <td>-1.007874</td>\n",
              "      <td>0.0</td>\n",
              "      <td>0.0</td>\n",
              "      <td>-0.870968</td>\n",
              "      <td>-0.870968</td>\n",
              "      <td>-0.771654</td>\n",
              "      <td>-0.771654</td>\n",
              "      <td>-0.96063</td>\n",
              "      <td>-0.96063</td>\n",
              "      <td>-0.960630</td>\n",
              "      <td>-1.007874</td>\n",
              "      <td>-1.007874</td>\n",
              "      <td>0.0</td>\n",
              "      <td>0.0</td>\n",
              "      <td>1.0</td>\n",
              "      <td>1.0</td>\n",
              "      <td>0.814516</td>\n",
              "      <td>-0.937008</td>\n",
              "      <td>-0.960630</td>\n",
              "      <td>-0.960630</td>\n",
              "      <td>-0.870968</td>\n",
              "      <td>NaN</td>\n",
              "      <td>-1.000000</td>\n",
              "      <td>-0.960630</td>\n",
              "      <td>-1.000000</td>\n",
              "      <td>-0.960630</td>\n",
              "      <td>-0.779528</td>\n",
              "      <td>-1.007874</td>\n",
              "      <td>-1.007874</td>\n",
              "      <td>-0.936508</td>\n",
              "      <td>-1.007874</td>\n",
              "      <td>-1.007874</td>\n",
              "      <td>-1.007874</td>\n",
              "      <td>-1.007874</td>\n",
              "      <td>-1.007874</td>\n",
              "      <td>-1.007874</td>\n",
              "      <td>-1.007874</td>\n",
              "      <td>-1.007874</td>\n",
              "    </tr>\n",
              "    <tr>\n",
              "      <th>3</th>\n",
              "      <td>0.220472</td>\n",
              "      <td>-0.740157</td>\n",
              "      <td>-1.000000</td>\n",
              "      <td>-1.000000</td>\n",
              "      <td>-0.960630</td>\n",
              "      <td>-0.960630</td>\n",
              "      <td>-0.96063</td>\n",
              "      <td>-0.96063</td>\n",
              "      <td>-0.960630</td>\n",
              "      <td>-1.007874</td>\n",
              "      <td>-0.960630</td>\n",
              "      <td>-0.960630</td>\n",
              "      <td>-0.960630</td>\n",
              "      <td>-1.007874</td>\n",
              "      <td>-0.740157</td>\n",
              "      <td>-1.007874</td>\n",
              "      <td>-0.740157</td>\n",
              "      <td>-0.740157</td>\n",
              "      <td>-1.007874</td>\n",
              "      <td>-1.007874</td>\n",
              "      <td>-1.007874</td>\n",
              "      <td>-1.007874</td>\n",
              "      <td>-1.007874</td>\n",
              "      <td>-1.007874</td>\n",
              "      <td>-1.007874</td>\n",
              "      <td>-1.007874</td>\n",
              "      <td>-1.007874</td>\n",
              "      <td>-1.007874</td>\n",
              "      <td>0.0</td>\n",
              "      <td>0.0</td>\n",
              "      <td>-0.870968</td>\n",
              "      <td>-0.870968</td>\n",
              "      <td>0.779528</td>\n",
              "      <td>0.779528</td>\n",
              "      <td>-0.96063</td>\n",
              "      <td>-0.96063</td>\n",
              "      <td>-0.960630</td>\n",
              "      <td>-1.007874</td>\n",
              "      <td>-1.007874</td>\n",
              "      <td>0.0</td>\n",
              "      <td>0.0</td>\n",
              "      <td>1.0</td>\n",
              "      <td>1.0</td>\n",
              "      <td>0.814516</td>\n",
              "      <td>-0.937008</td>\n",
              "      <td>-0.960630</td>\n",
              "      <td>-0.960630</td>\n",
              "      <td>-0.870968</td>\n",
              "      <td>NaN</td>\n",
              "      <td>-1.000000</td>\n",
              "      <td>-0.960630</td>\n",
              "      <td>-1.000000</td>\n",
              "      <td>-0.960630</td>\n",
              "      <td>-0.763780</td>\n",
              "      <td>-0.433071</td>\n",
              "      <td>-1.007874</td>\n",
              "      <td>-0.936508</td>\n",
              "      <td>-1.007874</td>\n",
              "      <td>-1.007874</td>\n",
              "      <td>-1.007874</td>\n",
              "      <td>-1.007874</td>\n",
              "      <td>-1.007874</td>\n",
              "      <td>-1.007874</td>\n",
              "      <td>-1.007874</td>\n",
              "      <td>-1.007874</td>\n",
              "    </tr>\n",
              "    <tr>\n",
              "      <th>4</th>\n",
              "      <td>-0.385827</td>\n",
              "      <td>-0.984252</td>\n",
              "      <td>-0.992126</td>\n",
              "      <td>-1.007874</td>\n",
              "      <td>-0.913386</td>\n",
              "      <td>-1.007874</td>\n",
              "      <td>-0.96063</td>\n",
              "      <td>-0.96063</td>\n",
              "      <td>-0.960630</td>\n",
              "      <td>-1.007874</td>\n",
              "      <td>-1.007874</td>\n",
              "      <td>-1.007874</td>\n",
              "      <td>-1.007874</td>\n",
              "      <td>-1.007874</td>\n",
              "      <td>-0.984252</td>\n",
              "      <td>-1.007874</td>\n",
              "      <td>-0.984252</td>\n",
              "      <td>-0.984252</td>\n",
              "      <td>-0.984252</td>\n",
              "      <td>-0.984252</td>\n",
              "      <td>-1.007874</td>\n",
              "      <td>-0.984252</td>\n",
              "      <td>-0.984252</td>\n",
              "      <td>-1.007874</td>\n",
              "      <td>-1.007874</td>\n",
              "      <td>-1.007874</td>\n",
              "      <td>-1.007874</td>\n",
              "      <td>-1.007874</td>\n",
              "      <td>0.0</td>\n",
              "      <td>0.0</td>\n",
              "      <td>-0.709677</td>\n",
              "      <td>-1.032258</td>\n",
              "      <td>-0.677165</td>\n",
              "      <td>-1.007874</td>\n",
              "      <td>-0.96063</td>\n",
              "      <td>-0.96063</td>\n",
              "      <td>-0.960630</td>\n",
              "      <td>-1.007874</td>\n",
              "      <td>-1.007874</td>\n",
              "      <td>0.0</td>\n",
              "      <td>0.0</td>\n",
              "      <td>1.0</td>\n",
              "      <td>0.0</td>\n",
              "      <td>0.806452</td>\n",
              "      <td>-0.937008</td>\n",
              "      <td>-0.960630</td>\n",
              "      <td>-1.007874</td>\n",
              "      <td>-0.709677</td>\n",
              "      <td>NaN</td>\n",
              "      <td>-0.992126</td>\n",
              "      <td>-0.913386</td>\n",
              "      <td>-1.007874</td>\n",
              "      <td>-1.007874</td>\n",
              "      <td>-0.755906</td>\n",
              "      <td>1.000000</td>\n",
              "      <td>-1.000000</td>\n",
              "      <td>-0.936508</td>\n",
              "      <td>-1.007874</td>\n",
              "      <td>-1.007874</td>\n",
              "      <td>-1.007874</td>\n",
              "      <td>-1.007874</td>\n",
              "      <td>-1.007874</td>\n",
              "      <td>-1.007874</td>\n",
              "      <td>-1.007874</td>\n",
              "      <td>-1.007874</td>\n",
              "    </tr>\n",
              "    <tr>\n",
              "      <th>5</th>\n",
              "      <td>-0.322835</td>\n",
              "      <td>0.992126</td>\n",
              "      <td>-0.992126</td>\n",
              "      <td>-1.007874</td>\n",
              "      <td>-0.913386</td>\n",
              "      <td>-1.007874</td>\n",
              "      <td>-0.96063</td>\n",
              "      <td>-0.96063</td>\n",
              "      <td>-0.960630</td>\n",
              "      <td>-1.007874</td>\n",
              "      <td>-1.007874</td>\n",
              "      <td>-1.007874</td>\n",
              "      <td>-1.007874</td>\n",
              "      <td>-1.007874</td>\n",
              "      <td>0.992126</td>\n",
              "      <td>-1.007874</td>\n",
              "      <td>0.992126</td>\n",
              "      <td>0.992126</td>\n",
              "      <td>0.992126</td>\n",
              "      <td>0.992126</td>\n",
              "      <td>-1.007874</td>\n",
              "      <td>0.992126</td>\n",
              "      <td>0.992126</td>\n",
              "      <td>-1.007874</td>\n",
              "      <td>-1.007874</td>\n",
              "      <td>-1.007874</td>\n",
              "      <td>-1.007874</td>\n",
              "      <td>-1.007874</td>\n",
              "      <td>0.0</td>\n",
              "      <td>0.0</td>\n",
              "      <td>-0.709677</td>\n",
              "      <td>-1.032258</td>\n",
              "      <td>0.283465</td>\n",
              "      <td>-1.007874</td>\n",
              "      <td>-0.96063</td>\n",
              "      <td>-0.96063</td>\n",
              "      <td>-0.960630</td>\n",
              "      <td>-1.007874</td>\n",
              "      <td>-1.007874</td>\n",
              "      <td>0.0</td>\n",
              "      <td>0.0</td>\n",
              "      <td>1.0</td>\n",
              "      <td>0.0</td>\n",
              "      <td>0.806452</td>\n",
              "      <td>-0.937008</td>\n",
              "      <td>-0.960630</td>\n",
              "      <td>-1.007874</td>\n",
              "      <td>-0.709677</td>\n",
              "      <td>NaN</td>\n",
              "      <td>-0.992126</td>\n",
              "      <td>-0.913386</td>\n",
              "      <td>-1.007874</td>\n",
              "      <td>-1.007874</td>\n",
              "      <td>-0.755906</td>\n",
              "      <td>1.000000</td>\n",
              "      <td>-1.000000</td>\n",
              "      <td>-0.936508</td>\n",
              "      <td>-1.007874</td>\n",
              "      <td>-1.007874</td>\n",
              "      <td>-1.007874</td>\n",
              "      <td>-1.007874</td>\n",
              "      <td>-1.007874</td>\n",
              "      <td>-1.007874</td>\n",
              "      <td>-1.007874</td>\n",
              "      <td>-1.007874</td>\n",
              "    </tr>\n",
              "    <tr>\n",
              "      <th>6</th>\n",
              "      <td>0.102362</td>\n",
              "      <td>-0.976378</td>\n",
              "      <td>-0.992126</td>\n",
              "      <td>-1.007874</td>\n",
              "      <td>-0.913386</td>\n",
              "      <td>-1.007874</td>\n",
              "      <td>-0.96063</td>\n",
              "      <td>-0.96063</td>\n",
              "      <td>-0.960630</td>\n",
              "      <td>-1.007874</td>\n",
              "      <td>-1.007874</td>\n",
              "      <td>-1.007874</td>\n",
              "      <td>-1.007874</td>\n",
              "      <td>-1.007874</td>\n",
              "      <td>-0.976378</td>\n",
              "      <td>-1.007874</td>\n",
              "      <td>-0.976378</td>\n",
              "      <td>-0.976378</td>\n",
              "      <td>-0.976378</td>\n",
              "      <td>-0.976378</td>\n",
              "      <td>-1.007874</td>\n",
              "      <td>-0.976378</td>\n",
              "      <td>-0.976378</td>\n",
              "      <td>-1.007874</td>\n",
              "      <td>-1.007874</td>\n",
              "      <td>-1.007874</td>\n",
              "      <td>-1.007874</td>\n",
              "      <td>-1.007874</td>\n",
              "      <td>0.0</td>\n",
              "      <td>0.0</td>\n",
              "      <td>-0.709677</td>\n",
              "      <td>-1.032258</td>\n",
              "      <td>-0.755906</td>\n",
              "      <td>-1.007874</td>\n",
              "      <td>-0.96063</td>\n",
              "      <td>-0.96063</td>\n",
              "      <td>-0.960630</td>\n",
              "      <td>-1.007874</td>\n",
              "      <td>-1.007874</td>\n",
              "      <td>0.0</td>\n",
              "      <td>0.0</td>\n",
              "      <td>1.0</td>\n",
              "      <td>0.0</td>\n",
              "      <td>0.806452</td>\n",
              "      <td>-0.937008</td>\n",
              "      <td>-0.960630</td>\n",
              "      <td>-1.007874</td>\n",
              "      <td>-0.709677</td>\n",
              "      <td>NaN</td>\n",
              "      <td>-0.992126</td>\n",
              "      <td>-0.913386</td>\n",
              "      <td>-1.007874</td>\n",
              "      <td>-1.007874</td>\n",
              "      <td>-0.755906</td>\n",
              "      <td>1.000000</td>\n",
              "      <td>-1.000000</td>\n",
              "      <td>-0.936508</td>\n",
              "      <td>-1.007874</td>\n",
              "      <td>-1.007874</td>\n",
              "      <td>-1.007874</td>\n",
              "      <td>-1.007874</td>\n",
              "      <td>-1.007874</td>\n",
              "      <td>-1.007874</td>\n",
              "      <td>-1.007874</td>\n",
              "      <td>-1.007874</td>\n",
              "    </tr>\n",
              "    <tr>\n",
              "      <th>7</th>\n",
              "      <td>0.102362</td>\n",
              "      <td>-0.677165</td>\n",
              "      <td>-1.000000</td>\n",
              "      <td>-1.000000</td>\n",
              "      <td>-0.960630</td>\n",
              "      <td>-0.960630</td>\n",
              "      <td>-0.96063</td>\n",
              "      <td>-0.96063</td>\n",
              "      <td>-0.960630</td>\n",
              "      <td>-1.007874</td>\n",
              "      <td>-0.960630</td>\n",
              "      <td>-0.960630</td>\n",
              "      <td>-0.960630</td>\n",
              "      <td>-1.007874</td>\n",
              "      <td>-0.677165</td>\n",
              "      <td>-1.007874</td>\n",
              "      <td>-0.677165</td>\n",
              "      <td>-0.677165</td>\n",
              "      <td>-1.007874</td>\n",
              "      <td>-1.007874</td>\n",
              "      <td>-1.007874</td>\n",
              "      <td>-1.007874</td>\n",
              "      <td>-1.007874</td>\n",
              "      <td>-1.007874</td>\n",
              "      <td>-1.007874</td>\n",
              "      <td>-1.007874</td>\n",
              "      <td>-1.007874</td>\n",
              "      <td>-1.007874</td>\n",
              "      <td>0.0</td>\n",
              "      <td>0.0</td>\n",
              "      <td>-0.870968</td>\n",
              "      <td>-0.870968</td>\n",
              "      <td>-1.000000</td>\n",
              "      <td>-1.000000</td>\n",
              "      <td>-0.96063</td>\n",
              "      <td>-0.96063</td>\n",
              "      <td>-0.960630</td>\n",
              "      <td>-1.007874</td>\n",
              "      <td>-1.007874</td>\n",
              "      <td>0.0</td>\n",
              "      <td>0.0</td>\n",
              "      <td>1.0</td>\n",
              "      <td>0.0</td>\n",
              "      <td>0.814516</td>\n",
              "      <td>-0.937008</td>\n",
              "      <td>-0.960630</td>\n",
              "      <td>-0.960630</td>\n",
              "      <td>-0.870968</td>\n",
              "      <td>NaN</td>\n",
              "      <td>-1.000000</td>\n",
              "      <td>-0.960630</td>\n",
              "      <td>-1.000000</td>\n",
              "      <td>-0.960630</td>\n",
              "      <td>-0.755906</td>\n",
              "      <td>-1.007874</td>\n",
              "      <td>-1.007874</td>\n",
              "      <td>-0.936508</td>\n",
              "      <td>-1.007874</td>\n",
              "      <td>-1.007874</td>\n",
              "      <td>-1.007874</td>\n",
              "      <td>-1.007874</td>\n",
              "      <td>-1.007874</td>\n",
              "      <td>-1.007874</td>\n",
              "      <td>-1.007874</td>\n",
              "      <td>-1.007874</td>\n",
              "    </tr>\n",
              "    <tr>\n",
              "      <th>8</th>\n",
              "      <td>-0.488189</td>\n",
              "      <td>-0.976378</td>\n",
              "      <td>-0.992126</td>\n",
              "      <td>-1.007874</td>\n",
              "      <td>-0.913386</td>\n",
              "      <td>-1.007874</td>\n",
              "      <td>-0.96063</td>\n",
              "      <td>-0.96063</td>\n",
              "      <td>-0.960630</td>\n",
              "      <td>-1.007874</td>\n",
              "      <td>-1.007874</td>\n",
              "      <td>-1.007874</td>\n",
              "      <td>-1.007874</td>\n",
              "      <td>-1.007874</td>\n",
              "      <td>-0.976378</td>\n",
              "      <td>-1.007874</td>\n",
              "      <td>-0.976378</td>\n",
              "      <td>-0.976378</td>\n",
              "      <td>-0.976378</td>\n",
              "      <td>-0.976378</td>\n",
              "      <td>-1.007874</td>\n",
              "      <td>-0.976378</td>\n",
              "      <td>-0.976378</td>\n",
              "      <td>-1.007874</td>\n",
              "      <td>-1.007874</td>\n",
              "      <td>-1.007874</td>\n",
              "      <td>-1.007874</td>\n",
              "      <td>-1.007874</td>\n",
              "      <td>0.0</td>\n",
              "      <td>0.0</td>\n",
              "      <td>-0.709677</td>\n",
              "      <td>-1.032258</td>\n",
              "      <td>-0.755906</td>\n",
              "      <td>-1.007874</td>\n",
              "      <td>-0.96063</td>\n",
              "      <td>-0.96063</td>\n",
              "      <td>-0.960630</td>\n",
              "      <td>-1.007874</td>\n",
              "      <td>-1.007874</td>\n",
              "      <td>0.0</td>\n",
              "      <td>0.0</td>\n",
              "      <td>1.0</td>\n",
              "      <td>0.0</td>\n",
              "      <td>0.806452</td>\n",
              "      <td>-0.937008</td>\n",
              "      <td>-0.960630</td>\n",
              "      <td>-1.007874</td>\n",
              "      <td>-0.709677</td>\n",
              "      <td>NaN</td>\n",
              "      <td>-0.992126</td>\n",
              "      <td>-0.913386</td>\n",
              "      <td>-1.007874</td>\n",
              "      <td>-1.007874</td>\n",
              "      <td>-0.755906</td>\n",
              "      <td>1.000000</td>\n",
              "      <td>-1.000000</td>\n",
              "      <td>-0.936508</td>\n",
              "      <td>-1.007874</td>\n",
              "      <td>-1.007874</td>\n",
              "      <td>-1.007874</td>\n",
              "      <td>-1.007874</td>\n",
              "      <td>-1.007874</td>\n",
              "      <td>-1.007874</td>\n",
              "      <td>-1.007874</td>\n",
              "      <td>-1.007874</td>\n",
              "    </tr>\n",
              "    <tr>\n",
              "      <th>9</th>\n",
              "      <td>-0.118110</td>\n",
              "      <td>-0.976378</td>\n",
              "      <td>-0.992126</td>\n",
              "      <td>-1.007874</td>\n",
              "      <td>-0.716535</td>\n",
              "      <td>-1.007874</td>\n",
              "      <td>-0.76378</td>\n",
              "      <td>-0.96063</td>\n",
              "      <td>-0.866142</td>\n",
              "      <td>-0.874016</td>\n",
              "      <td>-1.007874</td>\n",
              "      <td>-1.007874</td>\n",
              "      <td>-1.007874</td>\n",
              "      <td>-1.007874</td>\n",
              "      <td>-0.976378</td>\n",
              "      <td>-1.007874</td>\n",
              "      <td>-0.976378</td>\n",
              "      <td>-0.976378</td>\n",
              "      <td>-0.976378</td>\n",
              "      <td>-0.976378</td>\n",
              "      <td>-1.007874</td>\n",
              "      <td>-0.976378</td>\n",
              "      <td>-0.976378</td>\n",
              "      <td>-1.007874</td>\n",
              "      <td>-1.007874</td>\n",
              "      <td>-1.007874</td>\n",
              "      <td>-1.007874</td>\n",
              "      <td>-1.007874</td>\n",
              "      <td>1.0</td>\n",
              "      <td>0.0</td>\n",
              "      <td>-0.709677</td>\n",
              "      <td>-1.032258</td>\n",
              "      <td>-0.755906</td>\n",
              "      <td>-1.007874</td>\n",
              "      <td>-0.96063</td>\n",
              "      <td>-0.76378</td>\n",
              "      <td>-0.834646</td>\n",
              "      <td>-0.897638</td>\n",
              "      <td>0.629921</td>\n",
              "      <td>0.0</td>\n",
              "      <td>0.0</td>\n",
              "      <td>1.0</td>\n",
              "      <td>0.0</td>\n",
              "      <td>0.806452</td>\n",
              "      <td>-0.740157</td>\n",
              "      <td>-0.866142</td>\n",
              "      <td>-1.007874</td>\n",
              "      <td>-0.709677</td>\n",
              "      <td>NaN</td>\n",
              "      <td>-0.992126</td>\n",
              "      <td>-0.716535</td>\n",
              "      <td>-1.007874</td>\n",
              "      <td>-1.007874</td>\n",
              "      <td>0.393701</td>\n",
              "      <td>1.000000</td>\n",
              "      <td>-1.000000</td>\n",
              "      <td>-0.936508</td>\n",
              "      <td>-1.007874</td>\n",
              "      <td>-1.007874</td>\n",
              "      <td>-1.007874</td>\n",
              "      <td>-1.007874</td>\n",
              "      <td>-1.007874</td>\n",
              "      <td>-1.007874</td>\n",
              "      <td>-1.007874</td>\n",
              "      <td>-1.007874</td>\n",
              "    </tr>\n",
              "  </tbody>\n",
              "</table>\n",
              "</div>"
            ],
            "text/plain": [
              "    Destination Port   Flow Duration  ...   Idle Max   Idle Min\n",
              "0          -0.370079       -0.984252  ...  -1.007874  -1.007874\n",
              "1          -0.897638       -0.149606  ...  -1.007874  -1.007874\n",
              "2          -0.889764       -0.598425  ...  -1.007874  -1.007874\n",
              "3           0.220472       -0.740157  ...  -1.007874  -1.007874\n",
              "4          -0.385827       -0.984252  ...  -1.007874  -1.007874\n",
              "5          -0.322835        0.992126  ...  -1.007874  -1.007874\n",
              "6           0.102362       -0.976378  ...  -1.007874  -1.007874\n",
              "7           0.102362       -0.677165  ...  -1.007874  -1.007874\n",
              "8          -0.488189       -0.976378  ...  -1.007874  -1.007874\n",
              "9          -0.118110       -0.976378  ...  -1.007874  -1.007874\n",
              "\n",
              "[10 rows x 65 columns]"
            ]
          },
          "metadata": {},
          "execution_count": 18
        }
      ]
    },
    {
      "cell_type": "code",
      "metadata": {
        "colab": {
          "base_uri": "https://localhost:8080/",
          "height": 167
        },
        "id": "vlvmegi3rmJ4",
        "outputId": "9aa36735-cac4-455c-f46d-69ed22450501"
      },
      "source": [
        "Y.sample(10)"
      ],
      "execution_count": null,
      "outputs": [
        {
          "output_type": "error",
          "ename": "AttributeError",
          "evalue": "ignored",
          "traceback": [
            "\u001b[0;31m---------------------------------------------------------------------------\u001b[0m",
            "\u001b[0;31mAttributeError\u001b[0m                            Traceback (most recent call last)",
            "\u001b[0;32m<ipython-input-35-9ed8f482f3c1>\u001b[0m in \u001b[0;36m<module>\u001b[0;34m()\u001b[0m\n\u001b[0;32m----> 1\u001b[0;31m \u001b[0mY\u001b[0m\u001b[0;34m.\u001b[0m\u001b[0msample\u001b[0m\u001b[0;34m(\u001b[0m\u001b[0;36m10\u001b[0m\u001b[0;34m)\u001b[0m\u001b[0;34m\u001b[0m\u001b[0;34m\u001b[0m\u001b[0m\n\u001b[0m",
            "\u001b[0;31mAttributeError\u001b[0m: 'numpy.ndarray' object has no attribute 'sample'"
          ]
        }
      ]
    },
    {
      "cell_type": "code",
      "metadata": {
        "id": "-K0awKtQ6ljt",
        "colab": {
          "base_uri": "https://localhost:8080/"
        },
        "outputId": "e89feb8c-c40f-4edb-ada7-8df03bf8efb7"
      },
      "source": [
        "np.random.seed(0)\n",
        "#x_train, x_test, y_train, y_test = train_test_split(label_puts, target, test_size = 0.99, random_state = 42)\n",
        "x_train, x_test, y_train, y_test = train_test_split(X, target, test_size = 0.20, random_state = 42)\n",
        "print(x_train.shape,len(y_train),x_test.shape,len(y_test))\n",
        "x_train.columns"
      ],
      "execution_count": null,
      "outputs": [
        {
          "output_type": "stream",
          "name": "stdout",
          "text": [
            "(2262300, 55) 2262300 (565576, 55) 565576\n"
          ]
        },
        {
          "output_type": "execute_result",
          "data": {
            "text/plain": [
              "Index([' Destination Port', ' Flow Duration', ' Total Fwd Packets',\n",
              "       ' Total Backward Packets', 'Total Length of Fwd Packets',\n",
              "       ' Fwd Packet Length Max', ' Fwd Packet Length Min',\n",
              "       ' Fwd Packet Length Mean', ' Fwd Packet Length Std',\n",
              "       'Bwd Packet Length Max', ' Bwd Packet Length Min',\n",
              "       ' Bwd Packet Length Mean', ' Bwd Packet Length Std', 'Flow Bytes/s',\n",
              "       ' Flow Packets/s', ' Flow IAT Mean', ' Flow IAT Std', ' Flow IAT Max',\n",
              "       ' Flow IAT Min', 'Fwd IAT Total', ' Fwd IAT Mean', ' Fwd IAT Std',\n",
              "       ' Fwd IAT Max', ' Fwd IAT Min', 'Bwd IAT Total', ' Bwd IAT Max',\n",
              "       'Fwd PSH Flags', ' Fwd Header Length', ' Bwd Header Length',\n",
              "       'Fwd Packets/s', ' Min Packet Length', ' Max Packet Length',\n",
              "       ' Packet Length Mean', ' Packet Length Std', ' Packet Length Variance',\n",
              "       'FIN Flag Count', ' PSH Flag Count', ' ACK Flag Count',\n",
              "       ' URG Flag Count', ' Average Packet Size', ' Avg Fwd Segment Size',\n",
              "       ' Avg Bwd Segment Size', ' Fwd Header Length.1', 'Subflow Fwd Packets',\n",
              "       ' Subflow Fwd Bytes', ' Subflow Bwd Packets', ' Subflow Bwd Bytes',\n",
              "       'Init_Win_bytes_forward', ' Init_Win_bytes_backward',\n",
              "       ' act_data_pkt_fwd', ' min_seg_size_forward', 'Idle Mean', ' Idle Std',\n",
              "       ' Idle Max', ' Idle Min'],\n",
              "      dtype='object')"
            ]
          },
          "metadata": {},
          "execution_count": 109
        }
      ]
    },
    {
      "cell_type": "code",
      "metadata": {
        "colab": {
          "base_uri": "https://localhost:8080/",
          "height": 237
        },
        "id": "m1eg9VXYXPdk",
        "outputId": "1b7d8092-31e6-43f8-b794-43c5552ef30b"
      },
      "source": [
        "\n",
        "# y_train = y_train.apply(lambda col: (col.astype('float16')))\n",
        "# for col in len(range(y_train)):\n",
        "#   y_train[col] = y_train[col].astype('int8') \n",
        "\n",
        "with np.nditer(y_train, op_flags=['readwrite']) as it:\n",
        "  for x in it:\n",
        "    x = x.astype('int8')\n",
        "    # print(x)\n"
      ],
      "execution_count": null,
      "outputs": [
        {
          "output_type": "error",
          "ename": "TypeError",
          "evalue": "ignored",
          "traceback": [
            "\u001b[0;31m---------------------------------------------------------------------------\u001b[0m",
            "\u001b[0;31mTypeError\u001b[0m                                 Traceback (most recent call last)",
            "\u001b[0;32m<ipython-input-46-29f5b96a4616>\u001b[0m in \u001b[0;36m<module>\u001b[0;34m()\u001b[0m\n\u001b[1;32m      4\u001b[0m \u001b[0;31m#   y_train[col] = y_train[col].astype('int8')\u001b[0m\u001b[0;34m\u001b[0m\u001b[0;34m\u001b[0m\u001b[0;34m\u001b[0m\u001b[0m\n\u001b[1;32m      5\u001b[0m \u001b[0;34m\u001b[0m\u001b[0m\n\u001b[0;32m----> 6\u001b[0;31m \u001b[0;32mwith\u001b[0m \u001b[0mnp\u001b[0m\u001b[0;34m.\u001b[0m\u001b[0mnditer\u001b[0m\u001b[0;34m(\u001b[0m\u001b[0my_train\u001b[0m\u001b[0;34m,\u001b[0m \u001b[0mop_flags\u001b[0m\u001b[0;34m=\u001b[0m\u001b[0;34m[\u001b[0m\u001b[0;34m'readwrite'\u001b[0m\u001b[0;34m]\u001b[0m\u001b[0;34m)\u001b[0m \u001b[0;32mas\u001b[0m \u001b[0mit\u001b[0m\u001b[0;34m:\u001b[0m\u001b[0;34m\u001b[0m\u001b[0;34m\u001b[0m\u001b[0m\n\u001b[0m\u001b[1;32m      7\u001b[0m   \u001b[0;32mfor\u001b[0m \u001b[0mx\u001b[0m \u001b[0;32min\u001b[0m \u001b[0mit\u001b[0m\u001b[0;34m:\u001b[0m\u001b[0;34m\u001b[0m\u001b[0;34m\u001b[0m\u001b[0m\n\u001b[1;32m      8\u001b[0m     \u001b[0mx\u001b[0m \u001b[0;34m=\u001b[0m \u001b[0mx\u001b[0m\u001b[0;34m.\u001b[0m\u001b[0mastype\u001b[0m\u001b[0;34m(\u001b[0m\u001b[0;34m'int8'\u001b[0m\u001b[0;34m)\u001b[0m\u001b[0;34m\u001b[0m\u001b[0;34m\u001b[0m\u001b[0m\n",
            "\u001b[0;31mTypeError\u001b[0m: Iterator operand or requested dtype holds references, but the REFS_OK flag was not enabled"
          ]
        }
      ]
    },
    {
      "cell_type": "code",
      "metadata": {
        "colab": {
          "base_uri": "https://localhost:8080/"
        },
        "id": "mRriDS2eX-Z7",
        "outputId": "b8bc05a1-f398-4a02-8cc0-5d4eeb670d61"
      },
      "source": [
        "type(y_train[0])"
      ],
      "execution_count": null,
      "outputs": [
        {
          "output_type": "execute_result",
          "data": {
            "text/plain": [
              "numpy.int64"
            ]
          },
          "metadata": {},
          "execution_count": 30
        }
      ]
    },
    {
      "cell_type": "code",
      "metadata": {
        "id": "gTkxg2Gk6ee8",
        "colab": {
          "base_uri": "https://localhost:8080/"
        },
        "outputId": "0a955157-7ddf-4ab2-f10a-6d88956991fc"
      },
      "source": [
        "from pandas import read_csv\n",
        "from sklearn.ensemble import ExtraTreesClassifier\n",
        "model = ExtraTreesClassifier()\n",
        "model.fit(x_train,y_train)"
      ],
      "execution_count": null,
      "outputs": [
        {
          "output_type": "execute_result",
          "data": {
            "text/plain": [
              "ExtraTreesClassifier(bootstrap=False, ccp_alpha=0.0, class_weight=None,\n",
              "                     criterion='gini', max_depth=None, max_features='auto',\n",
              "                     max_leaf_nodes=None, max_samples=None,\n",
              "                     min_impurity_decrease=0.0, min_impurity_split=None,\n",
              "                     min_samples_leaf=1, min_samples_split=2,\n",
              "                     min_weight_fraction_leaf=0.0, n_estimators=100,\n",
              "                     n_jobs=None, oob_score=False, random_state=None, verbose=0,\n",
              "                     warm_start=False)"
            ]
          },
          "metadata": {},
          "execution_count": 152
        }
      ]
    },
    {
      "cell_type": "code",
      "metadata": {
        "id": "jPxBEzLi6eiI",
        "colab": {
          "base_uri": "https://localhost:8080/"
        },
        "outputId": "d03c965f-6ad7-49cd-c686-fcf92be92c09"
      },
      "source": [
        "attributes = list(x_train)\n",
        "sorted(zip(model.feature_importances_, attributes), reverse=True)\n",
        "\n",
        "\n",
        "# without removing low importance features\n",
        "# [(0.06725226795705366, ' PSH Flag Count'\n",
        "#  (0.04703924588265128, ' Destination Port'\n",
        "#  (0.04336891200076948, ' min_seg_size_forward'\n",
        "#  (0.032918258942460234, ' Avg Bwd Segment Size'\n",
        "#  (0.0319151585200045, 'Init_Win_bytes_forward,\n",
        "#  (0.031231904998846597, ' Bwd Packet Length Mn'),\n",
        "#  (0.031043828667534953, 'Bwd Packet Length Max'),\n",
        "#  (0.031022820331145052, ' Bwd Packet Length Min'),\n",
        "#  (0.03084828251761542, ' Bwd Packet Length Std'),\n",
        "#  (0.03072821850388161, ' Packet Length Std'),\n",
        "#  (0.030100785213065997, ' Flow IAT Max'),\n",
        "#  (0.028436521776347194, ' ACK Flag Count'),\n",
        "#  (0.027281427074497808, ' Average Packet Size'),\n",
        "#  (0.026910672034640138, ' Packet Length Mean'),\n",
        "#  (0.026513534635049307, ' Fwd IAT Std'),\n",
        "#  (0.02519386171930337, ' Idle Min'),\n",
        "#  (0.02469951817650592, ' Packet Length Variance'),\n",
        "#  (0.022650719915733662, ' Fwd IAT Max'),\n",
        "#  (0.02149375931208453, 'Idle Mean'),\n",
        "#  (0.021387643727711243, ' Idle Max'),\n",
        "#  (0.019695679851880293, 'Fwd IAT Total'),\n",
        "#  (0.018349326562034977, 'Fwd Packets/s'),\n",
        "#  (0.017266255918316865, ' Min Packet Length'),\n",
        "#  (0.015626674633139576, ' Flow Duration'),\n",
        "#  (0.014118829080722541, ' Flow IAT Std'),\n",
        "#  (0.013867841856553067, ' act_data_pkt_fwd'),\n",
        "#  (0.013679521187193299, ' Fwd Packet Length Mean'),\n",
        "#  (0.01331099626769552, ' Down/Up Ratio'),\n",
        "#  (0.012939464770070725, ' Max Packet Length'),\n",
        "#  (0.012047217861556263, 'Subflow Fwd Packets'),\n",
        "#  (0.011862095567088867, ' Fwd IAT Mean'),\n",
        "#  (0.011632402475019983, ' Fwd Header Length'),\n",
        "#  (0.011358750784500476, ' Fwd Header Length.1'),\n",
        "#  (0.010854538908848051, ' Fwd Packet Length Min'),\n",
        "#  (0.010796586010746973, ' URG Flag Count'),\n",
        "#  (0.009597693510985581, ' Fwd Packet Length Std'),\n",
        "#  (0.00902441333452618, 'FIN Flag Count'),\n",
        "#  (0.00877306577163478, ' Fwd Packet Length Max'),\n",
        "#  (0.008720890407471942, ' Flow IAT Mean'),\n",
        "#  (0.008226787320041931, ' Bwd Header Length'),\n",
        "#  (0.007201896418642561, 'Bwd IAT Total'),\n",
        "#  (0.0069803806388032096, ' Bwd IAT Max'),\n",
        "#  (0.006945103049020648, ' Avg Fwd Segment Size'),\n",
        "#  (0.0069378669203904566, ' Fwd IAT Min'),\n",
        "#  (0.006887325250458923, ' Total Backward Packets'),\n",
        "#  (0.006841765990321557, ' Init_Win_bytes_backward'),\n",
        "#  (0.006626668993186727, ' Subflow Bwd Packets'),\n",
        "#  (0.006300917761674071, ' Total Fwd Packets'),\n",
        "#  (0.006126555533887571, ' Subflow Bwd Bytes'),\n",
        "#  (0.00578242343095683, ' Total Length of Bwd Packets'),\n",
        "#  (0.005532007932318445, ' Flow IAT Min'),\n",
        "#  (0.005470814956938054, ' Subflow Fwd Bytes'),\n",
        "#  (0.00510055920240283, ' Bwd IAT Mean'),\n",
        "#  (0.004828698367963238, ' Bwd Packets/s'),\n",
        "#  (0.004661449246139643, ' SYN Flag Count'),\n",
        "#  (0.004656945025439365, 'Total Length of Fwd Packets'),\n",
        "#  (0.004444226295005339, ' Bwd IAT Std'),\n",
        "#  (0.004222930071229493, 'Fwd PSH Flags'),\n",
        "#  (0.002980876838669248, ' Idle Std'),\n",
        "#  (0.0022653559832381213, ' Bwd IAT Min'),\n",
        "#  (0.0020928688268832575, ' Active Min'),\n",
        "#  (0.001723731080556255, 'Active Mean'),\n",
        "#  (0.0013829157201535125, ' Active Max'),\n",
        "#  (0.00020451284954848723, ' Active Std'),\n",
        "#  (9.758497430937929e-06, ' CWE Flag Count'),\n",
        "#  (3.2564982464166172e-06, ' Fwd URG Flags'),\n",
        "#  (1.447782419664425e-06, ' ECE Flag Count'),\n",
        "#  (3.668511452909695e-07, ' RST Flag Count'),\n",
        "#  (0.0, 'Fwd Avg Bytes/Bulk'),\n",
        "#  (0.0, 'Bwd Avg Bulk Rate'),\n",
        "#  (0.0, ' Fwd Avg Packets/Bulk'),\n",
        "#  (0.0, ' Fwd Avg Bulk Rate'),\n",
        "#  (0.0, ' Bwd URG Flags'),\n",
        "#  (0.0, ' Bwd PSH Flags'),\n",
        "#  (0.0, ' Bwd Avg Packets/Bulk'),\n",
        "#  (0.0, ' Bwd Avg Bytes/Bulk')]\n",
        "\n",
        "# ---------------------------------------------------------\n",
        "\n",
        "\n",
        "# [(0.07310365579399741, ' PSH Flag Count'),\n",
        "#  (0.046475815101709984, ' min_seg_size_forward'),\n",
        "#  (0.045934770085670394, ' Destination Port'),\n",
        "#  (0.04354801440171562, ' Avg Bwd Segment Size'),\n",
        "#  (0.03856424646770225, ' Packet Length Std'),\n",
        "#  (0.032581428295322824, 'Bwd Packet Length Max'),\n",
        "#  (0.0304329734798864, ' Fwd IAT Std'),\n",
        "#  (0.030004556066805278, 'Init_Win_bytes_forward'),\n",
        "#  (0.02853429675537719, ' Bwd Packet Length Std'),\n",
        "#  (0.027345633541044186, ' Bwd Packet Length Min'),\n",
        "#  (0.026739433752677427, ' Average Packet Size'),\n",
        "#  (0.026495206853878427, ' Packet Length Variance'),\n",
        "#  (0.02535343343555042, ' ACK Flag Count'),\n",
        "#  (0.02489962913912783, ' Packet Length Mean'),\n",
        "#  (0.024063577466096442, ' Bwd Packet Length Mean'),\n",
        "#  (0.022537784746346854, ' Idle Min'),\n",
        "#  (0.022425677268801836, ' Idle Max'),\n",
        "#  (0.021089457479274577, 'Fwd Packets/s'),\n",
        "#  (0.020905120110969577, ' Fwd IAT Max'),\n",
        "#  (0.020308971281282315, ' Flow IAT Max'),\n",
        "#  (0.018813700501907404, 'Idle Mean'),\n",
        "#  (0.018067791682025974, ' act_data_pkt_fwd'),\n",
        "#  (0.01802237237287912, ' Max Packet Length'),\n",
        "#  (0.017997843113228613, ' Min Packet Length'),\n",
        "#  (0.017872511846361218, 'Fwd IAT Total'),\n",
        "#  (0.017520951239622197, ' Flow IAT Std'),\n",
        "#  (0.014881886721889226, ' Down/Up Ratio'),\n",
        "#  (0.012914199615944012, ' Avg Fwd Segment Size'),\n",
        "#  (0.012055797186893941, ' Flow Duration'),\n",
        "#  (0.011631295140734983, ' Total Fwd Packets'),\n",
        "#  (0.01107404719278104, 'Subflow Fwd Packets'),\n",
        "#  (0.011006568007510521, ' URG Flag Count'),\n",
        "#  (0.010921003583136375, ' Fwd Packet Length Std'),\n",
        "#  (0.010356449469914123, ' Fwd Packet Length Mean'),\n",
        "#  (0.01033395657536567, ' Fwd Header Length'),\n",
        "#  (0.009830207428205373, ' Fwd IAT Mean'),\n",
        "#  (0.009774355533804582, ' Fwd Packet Length Max'),\n",
        "#  (0.009240395689139726, ' Fwd Header Length.1'),\n",
        "#  (0.008618886892888398, ' Fwd Packet Length Min'),\n",
        "#  (0.008352315753258288, 'Fwd PSH Flags'),\n",
        "#  (0.007965808032871996, 'Total Length of Fwd Packets'),\n",
        "#  (0.007922605037918536, ' Flow IAT Mean'),\n",
        "#  (0.007318878754666738, 'Bwd IAT Total'),\n",
        "#  (0.00675529351791052, 'FIN Flag Count'),\n",
        "#  (0.006711274017472827, ' Subflow Bwd Packets'),\n",
        "#  (0.006608910345913243, ' Bwd Header Length'),\n",
        "#  (0.006242128250044523, ' Flow IAT Min'),\n",
        "#  (0.006076130445719157, ' Subflow Fwd Bytes'),\n",
        "#  (0.0059547031747178595, ' Init_Win_bytes_backward'),\n",
        "#  (0.005889936504748974, ' Fwd IAT Min'),\n",
        "#  (0.0058352876533357325, ' Total Backward Packets'),\n",
        "#  (0.004719200925616161, ' Bwd IAT Max'),\n",
        "#  (0.004436353459315346, ' Subflow Bwd Bytes'),\n",
        "#  (0.004288540951000902, ' Bwd IAT Mean'),\n",
        "#  (0.003736318063867649, ' Bwd Packets/s'),\n",
        "#  (0.0035537665999495686, ' Bwd IAT Std'),\n",
        "#  (0.0034097276914085944, ' Idle Std'),\n",
        "#  (0.003350737930263424, ' Total Length of Bwd Packets'),\n",
        "#  (0.002778802459990596, 'Active Mean'),\n",
        "#  (0.002086141001009315, ' Active Min'),\n",
        "#  (0.001986387335518348, ' Active Max'),\n",
        "#  (0.0015935378649943417, ' Bwd IAT Min'),\n",
        "#  (0.000138307198711042, ' Active Std'),\n",
        "#  (1.1005712306563672e-05, ' Fwd URG Flags'),\n",
        "#  (0.0, ' Bwd Avg Bytes/Bulk')]\n",
        "\n",
        "\n"
      ],
      "execution_count": null,
      "outputs": [
        {
          "output_type": "execute_result",
          "data": {
            "text/plain": [
              "[(0.06170295209533064, ' PSH Flag Count'),\n",
              " (0.053228221634459325, ' Destination Port'),\n",
              " (0.03805794457579697, ' Packet Length Std'),\n",
              " (0.03801948452414414, ' Avg Bwd Segment Size'),\n",
              " (0.03457401455333974, ' Bwd Packet Length Mean'),\n",
              " (0.03374150619070316, ' min_seg_size_forward'),\n",
              " (0.03349725604358056, ' Bwd Packet Length Min'),\n",
              " (0.03258869683553349, 'Init_Win_bytes_forward'),\n",
              " (0.03208570478564251, ' Bwd Packet Length Std'),\n",
              " (0.03133473652082477, ' Fwd IAT Max'),\n",
              " (0.02931380455436578, ' Packet Length Mean'),\n",
              " (0.029184833911848767, 'Bwd Packet Length Max'),\n",
              " (0.02720905336834145, 'Idle Mean'),\n",
              " (0.024968855298648354, ' Average Packet Size'),\n",
              " (0.024700437333963, ' ACK Flag Count'),\n",
              " (0.02315732135707468, ' Idle Min'),\n",
              " (0.02253565133784114, ' Fwd IAT Std'),\n",
              " (0.02170220907415493, ' Packet Length Variance'),\n",
              " (0.021425017400659482, ' Max Packet Length'),\n",
              " (0.020882968694986362, ' Flow IAT Max'),\n",
              " (0.020816197863968985, ' Idle Max'),\n",
              " (0.019486616553756286, 'Fwd Packets/s'),\n",
              " (0.019125229270343966, ' Min Packet Length'),\n",
              " (0.01887036099185822, ' Fwd Header Length'),\n",
              " (0.01868866836729717, ' Flow Duration'),\n",
              " (0.01496298545240534, 'Subflow Fwd Packets'),\n",
              " (0.014013298466677291, ' act_data_pkt_fwd'),\n",
              " (0.013557983420549972, 'Fwd IAT Total'),\n",
              " (0.012910392262737231, ' Flow IAT Std'),\n",
              " (0.01278361145877592, ' Fwd Packet Length Std'),\n",
              " (0.01205298861015662, ' Fwd Packet Length Min'),\n",
              " (0.011906347204106904, ' Fwd Packet Length Mean'),\n",
              " (0.0118116280358051, ' Total Fwd Packets'),\n",
              " (0.01146215574232524, ' Fwd IAT Mean'),\n",
              " (0.011108030069789712, ' Fwd Packet Length Max'),\n",
              " (0.011001629600239031, ' Avg Fwd Segment Size'),\n",
              " (0.010253747303670893, ' Bwd IAT Max'),\n",
              " (0.010072470634968063, ' URG Flag Count'),\n",
              " (0.009922135794182859, ' Flow Packets/s'),\n",
              " (0.00923975841239548, ' Subflow Fwd Bytes'),\n",
              " (0.009227021504942461, 'FIN Flag Count'),\n",
              " (0.008713731199145461, 'Total Length of Fwd Packets'),\n",
              " (0.008655420107105493, ' Flow IAT Mean'),\n",
              " (0.008470923147836606, ' Total Backward Packets'),\n",
              " (0.00810226760675454, 'Bwd IAT Total'),\n",
              " (0.007558386291192221, 'Fwd PSH Flags'),\n",
              " (0.007362234955644876, ' Fwd IAT Min'),\n",
              " (0.0071397746515597, ' Bwd Header Length'),\n",
              " (0.00706132507054723, ' Init_Win_bytes_backward'),\n",
              " (0.006805524919443042, ' Subflow Bwd Packets'),\n",
              " (0.005775791820085464, ' Subflow Bwd Bytes'),\n",
              " (0.0028659119180906197, ' Idle Std'),\n",
              " (0.0027287573176150385, 'Flow Bytes/s'),\n",
              " (0.0008207601400567783, ' Flow IAT Min'),\n",
              " (0.0007552637427309656, ' Fwd Header Length.1')]"
            ]
          },
          "metadata": {},
          "execution_count": 154
        }
      ]
    },
    {
      "cell_type": "code",
      "metadata": {
        "id": "OVwZO_1L-C7D",
        "colab": {
          "base_uri": "https://localhost:8080/"
        },
        "outputId": "79d65007-50b2-4f9b-ad87-5edbe407d2cc"
      },
      "source": [
        "y_pred = model.predict(x_test)\n",
        "y_pred"
      ],
      "execution_count": null,
      "outputs": [
        {
          "output_type": "execute_result",
          "data": {
            "text/plain": [
              "array([0, 0, 0, ..., 0, 0, 0], dtype=int8)"
            ]
          },
          "metadata": {},
          "execution_count": 155
        }
      ]
    },
    {
      "cell_type": "code",
      "metadata": {
        "id": "OtdZ1je3-NSq",
        "colab": {
          "base_uri": "https://localhost:8080/"
        },
        "outputId": "9ca04b74-c469-4042-dc58-9eb9ff502dc3"
      },
      "source": [
        "from sklearn.metrics import accuracy_score,f1_score\n",
        "print(model.score(x_test, y_test))\n",
        "print(accuracy_score(y_test, y_pred))\n",
        "print(f1_score(y_test, y_pred, average='macro'))\n",
        "\n",
        "# 0.9984173777574454\n",
        "# 0.9984173777574454\n",
        "# 0.8329280909957083\n",
        "# --------After removal of columns\n",
        "# 0.9984350409521169--------\n",
        "# 0.9984350409521169--------\n",
        "# 0.8395713515182087\n",
        "# -------------- After removal of columns and standardization of data\n",
        "# 0.9983591948738985\n",
        "# 0.9983591948738985\n",
        "# 0.8782021432415873\n"
      ],
      "execution_count": null,
      "outputs": [
        {
          "output_type": "stream",
          "name": "stdout",
          "text": [
            "0.9983591948738985\n",
            "0.9983591948738985\n",
            "0.8782021432415873\n"
          ]
        }
      ]
    },
    {
      "cell_type": "code",
      "metadata": {
        "colab": {
          "base_uri": "https://localhost:8080/",
          "height": 748
        },
        "id": "cC9bdf5XET29",
        "outputId": "cac24d69-3d3f-4dbd-c145-b2d263bff72c"
      },
      "source": [
        "x_train.sample(20)"
      ],
      "execution_count": null,
      "outputs": [
        {
          "output_type": "execute_result",
          "data": {
            "text/html": [
              "<div>\n",
              "<style scoped>\n",
              "    .dataframe tbody tr th:only-of-type {\n",
              "        vertical-align: middle;\n",
              "    }\n",
              "\n",
              "    .dataframe tbody tr th {\n",
              "        vertical-align: top;\n",
              "    }\n",
              "\n",
              "    .dataframe thead th {\n",
              "        text-align: right;\n",
              "    }\n",
              "</style>\n",
              "<table border=\"1\" class=\"dataframe\">\n",
              "  <thead>\n",
              "    <tr style=\"text-align: right;\">\n",
              "      <th></th>\n",
              "      <th>Destination Port</th>\n",
              "      <th>Flow Duration</th>\n",
              "      <th>Total Fwd Packets</th>\n",
              "      <th>Total Backward Packets</th>\n",
              "      <th>Total Length of Fwd Packets</th>\n",
              "      <th>Fwd Packet Length Max</th>\n",
              "      <th>Fwd Packet Length Min</th>\n",
              "      <th>Fwd Packet Length Mean</th>\n",
              "      <th>Fwd Packet Length Std</th>\n",
              "      <th>Bwd Packet Length Max</th>\n",
              "      <th>Bwd Packet Length Min</th>\n",
              "      <th>Bwd Packet Length Mean</th>\n",
              "      <th>Bwd Packet Length Std</th>\n",
              "      <th>Flow Bytes/s</th>\n",
              "      <th>Flow Packets/s</th>\n",
              "      <th>Flow IAT Mean</th>\n",
              "      <th>Flow IAT Std</th>\n",
              "      <th>Flow IAT Max</th>\n",
              "      <th>Flow IAT Min</th>\n",
              "      <th>Fwd IAT Total</th>\n",
              "      <th>Fwd IAT Mean</th>\n",
              "      <th>Fwd IAT Std</th>\n",
              "      <th>Fwd IAT Max</th>\n",
              "      <th>Fwd IAT Min</th>\n",
              "      <th>Bwd IAT Total</th>\n",
              "      <th>Bwd IAT Max</th>\n",
              "      <th>Fwd PSH Flags</th>\n",
              "      <th>Fwd Header Length</th>\n",
              "      <th>Bwd Header Length</th>\n",
              "      <th>Fwd Packets/s</th>\n",
              "      <th>Min Packet Length</th>\n",
              "      <th>Max Packet Length</th>\n",
              "      <th>Packet Length Mean</th>\n",
              "      <th>Packet Length Std</th>\n",
              "      <th>Packet Length Variance</th>\n",
              "      <th>FIN Flag Count</th>\n",
              "      <th>PSH Flag Count</th>\n",
              "      <th>ACK Flag Count</th>\n",
              "      <th>URG Flag Count</th>\n",
              "      <th>Average Packet Size</th>\n",
              "      <th>Avg Fwd Segment Size</th>\n",
              "      <th>Avg Bwd Segment Size</th>\n",
              "      <th>Fwd Header Length.1</th>\n",
              "      <th>Subflow Fwd Packets</th>\n",
              "      <th>Subflow Fwd Bytes</th>\n",
              "      <th>Subflow Bwd Packets</th>\n",
              "      <th>Subflow Bwd Bytes</th>\n",
              "      <th>Init_Win_bytes_forward</th>\n",
              "      <th>Init_Win_bytes_backward</th>\n",
              "      <th>act_data_pkt_fwd</th>\n",
              "      <th>min_seg_size_forward</th>\n",
              "      <th>Idle Mean</th>\n",
              "      <th>Idle Std</th>\n",
              "      <th>Idle Max</th>\n",
              "      <th>Idle Min</th>\n",
              "    </tr>\n",
              "  </thead>\n",
              "  <tbody>\n",
              "    <tr>\n",
              "      <th>187650</th>\n",
              "      <td>0.122072</td>\n",
              "      <td>5.543199</td>\n",
              "      <td>5</td>\n",
              "      <td>0</td>\n",
              "      <td>30</td>\n",
              "      <td>6</td>\n",
              "      <td>6</td>\n",
              "      <td>6.000000</td>\n",
              "      <td>0.000000</td>\n",
              "      <td>0</td>\n",
              "      <td>0</td>\n",
              "      <td>0.00000</td>\n",
              "      <td>0.000000</td>\n",
              "      <td>11.192110</td>\n",
              "      <td>33.333347</td>\n",
              "      <td>1.385808</td>\n",
              "      <td>3.918124</td>\n",
              "      <td>5</td>\n",
              "      <td>0</td>\n",
              "      <td>5.543188e+00</td>\n",
              "      <td>1.385797e+00</td>\n",
              "      <td>3.927263</td>\n",
              "      <td>6646825</td>\n",
              "      <td>0.000012</td>\n",
              "      <td>0</td>\n",
              "      <td>0</td>\n",
              "      <td>0</td>\n",
              "      <td>100</td>\n",
              "      <td>99.459190</td>\n",
              "      <td>0.000025</td>\n",
              "      <td>6</td>\n",
              "      <td>6</td>\n",
              "      <td>6.000000</td>\n",
              "      <td>0.000000</td>\n",
              "      <td>0.000000</td>\n",
              "      <td>0</td>\n",
              "      <td>0</td>\n",
              "      <td>1</td>\n",
              "      <td>0</td>\n",
              "      <td>7.200000</td>\n",
              "      <td>6.000000</td>\n",
              "      <td>0.000000</td>\n",
              "      <td>99.985580</td>\n",
              "      <td>5</td>\n",
              "      <td>30</td>\n",
              "      <td>0</td>\n",
              "      <td>0.000000e+00</td>\n",
              "      <td>0.392151</td>\n",
              "      <td>0.000000</td>\n",
              "      <td>4</td>\n",
              "      <td>99.999977</td>\n",
              "      <td>5.539062</td>\n",
              "      <td>0.000000</td>\n",
              "      <td>5</td>\n",
              "      <td>6646825</td>\n",
              "    </tr>\n",
              "    <tr>\n",
              "      <th>276227</th>\n",
              "      <td>0.675975</td>\n",
              "      <td>0.218747</td>\n",
              "      <td>8</td>\n",
              "      <td>9</td>\n",
              "      <td>944</td>\n",
              "      <td>596</td>\n",
              "      <td>0</td>\n",
              "      <td>118.000000</td>\n",
              "      <td>206.690933</td>\n",
              "      <td>2920</td>\n",
              "      <td>0</td>\n",
              "      <td>1016.00000</td>\n",
              "      <td>1013.510742</td>\n",
              "      <td>11.193758</td>\n",
              "      <td>33.334412</td>\n",
              "      <td>0.013682</td>\n",
              "      <td>0.023217</td>\n",
              "      <td>0</td>\n",
              "      <td>0</td>\n",
              "      <td>2.185825e-01</td>\n",
              "      <td>3.122607e-02</td>\n",
              "      <td>0.028505</td>\n",
              "      <td>80939</td>\n",
              "      <td>0.007943</td>\n",
              "      <td>232437</td>\n",
              "      <td>139489</td>\n",
              "      <td>0</td>\n",
              "      <td>172</td>\n",
              "      <td>99.459213</td>\n",
              "      <td>0.001016</td>\n",
              "      <td>0</td>\n",
              "      <td>2920</td>\n",
              "      <td>560.444458</td>\n",
              "      <td>849.380798</td>\n",
              "      <td>3.220749</td>\n",
              "      <td>0</td>\n",
              "      <td>1</td>\n",
              "      <td>0</td>\n",
              "      <td>0</td>\n",
              "      <td>593.411743</td>\n",
              "      <td>118.000000</td>\n",
              "      <td>1016.000000</td>\n",
              "      <td>99.985580</td>\n",
              "      <td>8</td>\n",
              "      <td>944</td>\n",
              "      <td>9</td>\n",
              "      <td>1.395066e-03</td>\n",
              "      <td>12.501526</td>\n",
              "      <td>0.202942</td>\n",
              "      <td>7</td>\n",
              "      <td>99.999977</td>\n",
              "      <td>0.000000</td>\n",
              "      <td>0.000000</td>\n",
              "      <td>0</td>\n",
              "      <td>0</td>\n",
              "    </tr>\n",
              "    <tr>\n",
              "      <th>712592</th>\n",
              "      <td>0.675975</td>\n",
              "      <td>0.770857</td>\n",
              "      <td>8</td>\n",
              "      <td>8</td>\n",
              "      <td>2725</td>\n",
              "      <td>2413</td>\n",
              "      <td>0</td>\n",
              "      <td>340.625000</td>\n",
              "      <td>840.954529</td>\n",
              "      <td>845</td>\n",
              "      <td>2</td>\n",
              "      <td>130.00000</td>\n",
              "      <td>290.403656</td>\n",
              "      <td>11.192285</td>\n",
              "      <td>33.333622</td>\n",
              "      <td>0.051401</td>\n",
              "      <td>0.113380</td>\n",
              "      <td>0</td>\n",
              "      <td>0</td>\n",
              "      <td>6.985525e-01</td>\n",
              "      <td>9.979321e-02</td>\n",
              "      <td>0.148705</td>\n",
              "      <td>379769</td>\n",
              "      <td>0.000012</td>\n",
              "      <td>838288</td>\n",
              "      <td>466547</td>\n",
              "      <td>0</td>\n",
              "      <td>180</td>\n",
              "      <td>99.459206</td>\n",
              "      <td>0.000288</td>\n",
              "      <td>0</td>\n",
              "      <td>2413</td>\n",
              "      <td>221.470581</td>\n",
              "      <td>600.538208</td>\n",
              "      <td>1.610027</td>\n",
              "      <td>0</td>\n",
              "      <td>1</td>\n",
              "      <td>0</td>\n",
              "      <td>0</td>\n",
              "      <td>235.312500</td>\n",
              "      <td>340.625000</td>\n",
              "      <td>130.000000</td>\n",
              "      <td>99.985580</td>\n",
              "      <td>8</td>\n",
              "      <td>2725</td>\n",
              "      <td>8</td>\n",
              "      <td>1.586689e-04</td>\n",
              "      <td>44.557190</td>\n",
              "      <td>62.498474</td>\n",
              "      <td>7</td>\n",
              "      <td>99.999977</td>\n",
              "      <td>0.000000</td>\n",
              "      <td>0.000000</td>\n",
              "      <td>0</td>\n",
              "      <td>0</td>\n",
              "    </tr>\n",
              "    <tr>\n",
              "      <th>273596</th>\n",
              "      <td>11.580072</td>\n",
              "      <td>0.000012</td>\n",
              "      <td>2</td>\n",
              "      <td>0</td>\n",
              "      <td>12</td>\n",
              "      <td>6</td>\n",
              "      <td>6</td>\n",
              "      <td>6.000000</td>\n",
              "      <td>0.000000</td>\n",
              "      <td>0</td>\n",
              "      <td>0</td>\n",
              "      <td>0.00000</td>\n",
              "      <td>0.000000</td>\n",
              "      <td>11.706690</td>\n",
              "      <td>66.666664</td>\n",
              "      <td>0.000012</td>\n",
              "      <td>0.000000</td>\n",
              "      <td>0</td>\n",
              "      <td>0</td>\n",
              "      <td>8.333333e-07</td>\n",
              "      <td>8.333333e-07</td>\n",
              "      <td>0.000000</td>\n",
              "      <td>1</td>\n",
              "      <td>0.000011</td>\n",
              "      <td>0</td>\n",
              "      <td>0</td>\n",
              "      <td>0</td>\n",
              "      <td>40</td>\n",
              "      <td>99.459190</td>\n",
              "      <td>66.666664</td>\n",
              "      <td>6</td>\n",
              "      <td>6</td>\n",
              "      <td>6.000000</td>\n",
              "      <td>0.000000</td>\n",
              "      <td>0.000000</td>\n",
              "      <td>0</td>\n",
              "      <td>0</td>\n",
              "      <td>1</td>\n",
              "      <td>0</td>\n",
              "      <td>9.000000</td>\n",
              "      <td>6.000000</td>\n",
              "      <td>0.000000</td>\n",
              "      <td>99.985580</td>\n",
              "      <td>2</td>\n",
              "      <td>12</td>\n",
              "      <td>0</td>\n",
              "      <td>0.000000e+00</td>\n",
              "      <td>0.576782</td>\n",
              "      <td>0.000000</td>\n",
              "      <td>1</td>\n",
              "      <td>99.999977</td>\n",
              "      <td>0.000000</td>\n",
              "      <td>0.000000</td>\n",
              "      <td>0</td>\n",
              "      <td>0</td>\n",
              "    </tr>\n",
              "    <tr>\n",
              "      <th>2259315</th>\n",
              "      <td>0.122072</td>\n",
              "      <td>69.075386</td>\n",
              "      <td>9</td>\n",
              "      <td>7</td>\n",
              "      <td>379</td>\n",
              "      <td>373</td>\n",
              "      <td>0</td>\n",
              "      <td>42.111111</td>\n",
              "      <td>124.099197</td>\n",
              "      <td>5792</td>\n",
              "      <td>0</td>\n",
              "      <td>1656.00000</td>\n",
              "      <td>2118.227295</td>\n",
              "      <td>11.192116</td>\n",
              "      <td>33.333336</td>\n",
              "      <td>4.605036</td>\n",
              "      <td>25.235771</td>\n",
              "      <td>68</td>\n",
              "      <td>0</td>\n",
              "      <td>6.900000e+01</td>\n",
              "      <td>8.583333e+00</td>\n",
              "      <td>34.632370</td>\n",
              "      <td>82700000</td>\n",
              "      <td>0.000011</td>\n",
              "      <td>148735</td>\n",
              "      <td>137191</td>\n",
              "      <td>0</td>\n",
              "      <td>284</td>\n",
              "      <td>99.459213</td>\n",
              "      <td>0.000004</td>\n",
              "      <td>0</td>\n",
              "      <td>5792</td>\n",
              "      <td>704.352966</td>\n",
              "      <td>1537.710449</td>\n",
              "      <td>10.556042</td>\n",
              "      <td>0</td>\n",
              "      <td>0</td>\n",
              "      <td>1</td>\n",
              "      <td>0</td>\n",
              "      <td>748.375000</td>\n",
              "      <td>42.111111</td>\n",
              "      <td>1656.428571</td>\n",
              "      <td>99.985580</td>\n",
              "      <td>9</td>\n",
              "      <td>379</td>\n",
              "      <td>7</td>\n",
              "      <td>1.769005e-03</td>\n",
              "      <td>0.384521</td>\n",
              "      <td>0.360107</td>\n",
              "      <td>2</td>\n",
              "      <td>99.999977</td>\n",
              "      <td>68.937500</td>\n",
              "      <td>0.000000</td>\n",
              "      <td>68</td>\n",
              "      <td>82700000</td>\n",
              "    </tr>\n",
              "    <tr>\n",
              "      <th>2434072</th>\n",
              "      <td>0.122072</td>\n",
              "      <td>83.887154</td>\n",
              "      <td>6</td>\n",
              "      <td>6</td>\n",
              "      <td>383</td>\n",
              "      <td>371</td>\n",
              "      <td>0</td>\n",
              "      <td>63.833332</td>\n",
              "      <td>150.509018</td>\n",
              "      <td>8688</td>\n",
              "      <td>0</td>\n",
              "      <td>1932.00000</td>\n",
              "      <td>3506.021729</td>\n",
              "      <td>11.192115</td>\n",
              "      <td>33.333336</td>\n",
              "      <td>7.626114</td>\n",
              "      <td>35.377251</td>\n",
              "      <td>82</td>\n",
              "      <td>0</td>\n",
              "      <td>8.416666e+01</td>\n",
              "      <td>1.675000e+01</td>\n",
              "      <td>52.480453</td>\n",
              "      <td>99500000</td>\n",
              "      <td>0.000013</td>\n",
              "      <td>101000000</td>\n",
              "      <td>101000000</td>\n",
              "      <td>0</td>\n",
              "      <td>184</td>\n",
              "      <td>99.459213</td>\n",
              "      <td>0.000002</td>\n",
              "      <td>0</td>\n",
              "      <td>8688</td>\n",
              "      <td>921.846130</td>\n",
              "      <td>2465.742432</td>\n",
              "      <td>27.142345</td>\n",
              "      <td>1</td>\n",
              "      <td>0</td>\n",
              "      <td>0</td>\n",
              "      <td>0</td>\n",
              "      <td>998.666687</td>\n",
              "      <td>63.833332</td>\n",
              "      <td>1932.500000</td>\n",
              "      <td>99.985580</td>\n",
              "      <td>6</td>\n",
              "      <td>383</td>\n",
              "      <td>6</td>\n",
              "      <td>1.769005e-03</td>\n",
              "      <td>0.001526</td>\n",
              "      <td>0.360107</td>\n",
              "      <td>2</td>\n",
              "      <td>99.999977</td>\n",
              "      <td>82.937500</td>\n",
              "      <td>0.000000</td>\n",
              "      <td>82</td>\n",
              "      <td>99500000</td>\n",
              "    </tr>\n",
              "    <tr>\n",
              "      <th>1756558</th>\n",
              "      <td>0.675975</td>\n",
              "      <td>98.488564</td>\n",
              "      <td>28</td>\n",
              "      <td>33</td>\n",
              "      <td>1134</td>\n",
              "      <td>517</td>\n",
              "      <td>0</td>\n",
              "      <td>40.500000</td>\n",
              "      <td>133.179489</td>\n",
              "      <td>2836</td>\n",
              "      <td>0</td>\n",
              "      <td>741.50000</td>\n",
              "      <td>793.024841</td>\n",
              "      <td>11.192119</td>\n",
              "      <td>33.333344</td>\n",
              "      <td>1.641487</td>\n",
              "      <td>4.605752</td>\n",
              "      <td>8</td>\n",
              "      <td>0</td>\n",
              "      <td>9.833334e+01</td>\n",
              "      <td>3.647725e+00</td>\n",
              "      <td>5.788192</td>\n",
              "      <td>10100000</td>\n",
              "      <td>0.000012</td>\n",
              "      <td>113000000</td>\n",
              "      <td>10100000</td>\n",
              "      <td>0</td>\n",
              "      <td>904</td>\n",
              "      <td>99.459290</td>\n",
              "      <td>0.000008</td>\n",
              "      <td>0</td>\n",
              "      <td>2836</td>\n",
              "      <td>412.983856</td>\n",
              "      <td>680.177856</td>\n",
              "      <td>2.065366</td>\n",
              "      <td>0</td>\n",
              "      <td>1</td>\n",
              "      <td>0</td>\n",
              "      <td>0</td>\n",
              "      <td>419.754089</td>\n",
              "      <td>40.500000</td>\n",
              "      <td>741.545455</td>\n",
              "      <td>99.985588</td>\n",
              "      <td>28</td>\n",
              "      <td>1134</td>\n",
              "      <td>33</td>\n",
              "      <td>3.733448e-03</td>\n",
              "      <td>44.557190</td>\n",
              "      <td>0.534058</td>\n",
              "      <td>4</td>\n",
              "      <td>99.999977</td>\n",
              "      <td>8.335938</td>\n",
              "      <td>0.005124</td>\n",
              "      <td>8</td>\n",
              "      <td>10000000</td>\n",
              "    </tr>\n",
              "    <tr>\n",
              "      <th>725140</th>\n",
              "      <td>0.675975</td>\n",
              "      <td>0.644943</td>\n",
              "      <td>6</td>\n",
              "      <td>5</td>\n",
              "      <td>958</td>\n",
              "      <td>517</td>\n",
              "      <td>0</td>\n",
              "      <td>159.666672</td>\n",
              "      <td>231.960922</td>\n",
              "      <td>137</td>\n",
              "      <td>0</td>\n",
              "      <td>33.59375</td>\n",
              "      <td>59.340542</td>\n",
              "      <td>11.192172</td>\n",
              "      <td>33.333569</td>\n",
              "      <td>0.064504</td>\n",
              "      <td>0.146250</td>\n",
              "      <td>0</td>\n",
              "      <td>0</td>\n",
              "      <td>4.300183e-01</td>\n",
              "      <td>8.600367e-02</td>\n",
              "      <td>0.166159</td>\n",
              "      <td>257347</td>\n",
              "      <td>0.000108</td>\n",
              "      <td>516951</td>\n",
              "      <td>258896</td>\n",
              "      <td>0</td>\n",
              "      <td>200</td>\n",
              "      <td>99.459206</td>\n",
              "      <td>0.000258</td>\n",
              "      <td>0</td>\n",
              "      <td>517</td>\n",
              "      <td>93.833336</td>\n",
              "      <td>174.789139</td>\n",
              "      <td>0.136389</td>\n",
              "      <td>0</td>\n",
              "      <td>1</td>\n",
              "      <td>0</td>\n",
              "      <td>0</td>\n",
              "      <td>102.363640</td>\n",
              "      <td>159.666672</td>\n",
              "      <td>33.600000</td>\n",
              "      <td>99.985580</td>\n",
              "      <td>6</td>\n",
              "      <td>958</td>\n",
              "      <td>5</td>\n",
              "      <td>2.563113e-05</td>\n",
              "      <td>44.557190</td>\n",
              "      <td>0.372314</td>\n",
              "      <td>3</td>\n",
              "      <td>99.999977</td>\n",
              "      <td>0.000000</td>\n",
              "      <td>0.000000</td>\n",
              "      <td>0</td>\n",
              "      <td>0</td>\n",
              "    </tr>\n",
              "    <tr>\n",
              "      <th>2075046</th>\n",
              "      <td>0.080873</td>\n",
              "      <td>0.000247</td>\n",
              "      <td>2</td>\n",
              "      <td>2</td>\n",
              "      <td>62</td>\n",
              "      <td>31</td>\n",
              "      <td>31</td>\n",
              "      <td>31.000000</td>\n",
              "      <td>0.000000</td>\n",
              "      <td>47</td>\n",
              "      <td>47</td>\n",
              "      <td>47.00000</td>\n",
              "      <td>0.000000</td>\n",
              "      <td>11.215665</td>\n",
              "      <td>33.568073</td>\n",
              "      <td>0.000090</td>\n",
              "      <td>0.000143</td>\n",
              "      <td>0</td>\n",
              "      <td>0</td>\n",
              "      <td>3.333333e-06</td>\n",
              "      <td>3.333333e-06</td>\n",
              "      <td>0.000000</td>\n",
              "      <td>4</td>\n",
              "      <td>0.000013</td>\n",
              "      <td>48</td>\n",
              "      <td>48</td>\n",
              "      <td>0</td>\n",
              "      <td>64</td>\n",
              "      <td>99.459198</td>\n",
              "      <td>0.234742</td>\n",
              "      <td>31</td>\n",
              "      <td>47</td>\n",
              "      <td>37.400002</td>\n",
              "      <td>8.763561</td>\n",
              "      <td>0.000343</td>\n",
              "      <td>0</td>\n",
              "      <td>0</td>\n",
              "      <td>0</td>\n",
              "      <td>0</td>\n",
              "      <td>46.750000</td>\n",
              "      <td>31.000000</td>\n",
              "      <td>47.000000</td>\n",
              "      <td>99.985580</td>\n",
              "      <td>2</td>\n",
              "      <td>62</td>\n",
              "      <td>2</td>\n",
              "      <td>1.434123e-05</td>\n",
              "      <td>0.000000</td>\n",
              "      <td>0.000000</td>\n",
              "      <td>1</td>\n",
              "      <td>99.999977</td>\n",
              "      <td>0.000000</td>\n",
              "      <td>0.000000</td>\n",
              "      <td>0</td>\n",
              "      <td>0</td>\n",
              "    </tr>\n",
              "    <tr>\n",
              "      <th>2593299</th>\n",
              "      <td>0.675975</td>\n",
              "      <td>28.708054</td>\n",
              "      <td>159</td>\n",
              "      <td>289</td>\n",
              "      <td>4168</td>\n",
              "      <td>389</td>\n",
              "      <td>0</td>\n",
              "      <td>26.213837</td>\n",
              "      <td>92.338081</td>\n",
              "      <td>4344</td>\n",
              "      <td>0</td>\n",
              "      <td>1882.00000</td>\n",
              "      <td>845.711548</td>\n",
              "      <td>11.192792</td>\n",
              "      <td>33.333549</td>\n",
              "      <td>0.064235</td>\n",
              "      <td>1.668893</td>\n",
              "      <td>24</td>\n",
              "      <td>0</td>\n",
              "      <td>2.866667e+01</td>\n",
              "      <td>1.816965e-01</td>\n",
              "      <td>2.811810</td>\n",
              "      <td>29900000</td>\n",
              "      <td>0.000011</td>\n",
              "      <td>4454301</td>\n",
              "      <td>1170015</td>\n",
              "      <td>0</td>\n",
              "      <td>5100</td>\n",
              "      <td>99.460052</td>\n",
              "      <td>0.000154</td>\n",
              "      <td>0</td>\n",
              "      <td>4344</td>\n",
              "      <td>1220.614746</td>\n",
              "      <td>1120.083740</td>\n",
              "      <td>5.600838</td>\n",
              "      <td>0</td>\n",
              "      <td>1</td>\n",
              "      <td>0</td>\n",
              "      <td>0</td>\n",
              "      <td>1223.339233</td>\n",
              "      <td>26.213837</td>\n",
              "      <td>1881.965398</td>\n",
              "      <td>99.985596</td>\n",
              "      <td>159</td>\n",
              "      <td>4168</td>\n",
              "      <td>289</td>\n",
              "      <td>8.297894e-02</td>\n",
              "      <td>100.000000</td>\n",
              "      <td>1.945496</td>\n",
              "      <td>15</td>\n",
              "      <td>99.999977</td>\n",
              "      <td>24.921875</td>\n",
              "      <td>0.000000</td>\n",
              "      <td>24</td>\n",
              "      <td>29900000</td>\n",
              "    </tr>\n",
              "    <tr>\n",
              "      <th>1567987</th>\n",
              "      <td>0.080873</td>\n",
              "      <td>0.000141</td>\n",
              "      <td>2</td>\n",
              "      <td>2</td>\n",
              "      <td>86</td>\n",
              "      <td>43</td>\n",
              "      <td>43</td>\n",
              "      <td>43.000000</td>\n",
              "      <td>0.000000</td>\n",
              "      <td>59</td>\n",
              "      <td>59</td>\n",
              "      <td>59.00000</td>\n",
              "      <td>0.000000</td>\n",
              "      <td>11.248186</td>\n",
              "      <td>33.760685</td>\n",
              "      <td>0.000054</td>\n",
              "      <td>0.000100</td>\n",
              "      <td>0</td>\n",
              "      <td>0</td>\n",
              "      <td>2.500000e-06</td>\n",
              "      <td>2.500000e-06</td>\n",
              "      <td>0.000000</td>\n",
              "      <td>3</td>\n",
              "      <td>0.000012</td>\n",
              "      <td>3</td>\n",
              "      <td>3</td>\n",
              "      <td>0</td>\n",
              "      <td>40</td>\n",
              "      <td>99.459198</td>\n",
              "      <td>0.427350</td>\n",
              "      <td>43</td>\n",
              "      <td>59</td>\n",
              "      <td>49.400002</td>\n",
              "      <td>8.763561</td>\n",
              "      <td>0.000343</td>\n",
              "      <td>0</td>\n",
              "      <td>0</td>\n",
              "      <td>0</td>\n",
              "      <td>0</td>\n",
              "      <td>61.750000</td>\n",
              "      <td>43.000000</td>\n",
              "      <td>59.000000</td>\n",
              "      <td>99.985580</td>\n",
              "      <td>2</td>\n",
              "      <td>86</td>\n",
              "      <td>2</td>\n",
              "      <td>1.800282e-05</td>\n",
              "      <td>0.000000</td>\n",
              "      <td>0.000000</td>\n",
              "      <td>1</td>\n",
              "      <td>99.999977</td>\n",
              "      <td>0.000000</td>\n",
              "      <td>0.000000</td>\n",
              "      <td>0</td>\n",
              "      <td>0</td>\n",
              "    </tr>\n",
              "    <tr>\n",
              "      <th>1188847</th>\n",
              "      <td>0.080873</td>\n",
              "      <td>0.025846</td>\n",
              "      <td>2</td>\n",
              "      <td>2</td>\n",
              "      <td>62</td>\n",
              "      <td>31</td>\n",
              "      <td>31</td>\n",
              "      <td>31.000000</td>\n",
              "      <td>0.000000</td>\n",
              "      <td>47</td>\n",
              "      <td>47</td>\n",
              "      <td>47.00000</td>\n",
              "      <td>0.000000</td>\n",
              "      <td>11.192326</td>\n",
              "      <td>33.335484</td>\n",
              "      <td>0.008622</td>\n",
              "      <td>0.021101</td>\n",
              "      <td>0</td>\n",
              "      <td>0</td>\n",
              "      <td>2.500000e-06</td>\n",
              "      <td>2.500000e-06</td>\n",
              "      <td>0.000000</td>\n",
              "      <td>3</td>\n",
              "      <td>0.000012</td>\n",
              "      <td>3</td>\n",
              "      <td>3</td>\n",
              "      <td>0</td>\n",
              "      <td>64</td>\n",
              "      <td>99.459198</td>\n",
              "      <td>0.002150</td>\n",
              "      <td>31</td>\n",
              "      <td>47</td>\n",
              "      <td>37.400002</td>\n",
              "      <td>8.763561</td>\n",
              "      <td>0.000343</td>\n",
              "      <td>0</td>\n",
              "      <td>0</td>\n",
              "      <td>0</td>\n",
              "      <td>0</td>\n",
              "      <td>46.750000</td>\n",
              "      <td>31.000000</td>\n",
              "      <td>47.000000</td>\n",
              "      <td>99.985580</td>\n",
              "      <td>2</td>\n",
              "      <td>62</td>\n",
              "      <td>2</td>\n",
              "      <td>1.434123e-05</td>\n",
              "      <td>0.000000</td>\n",
              "      <td>0.000000</td>\n",
              "      <td>1</td>\n",
              "      <td>99.999977</td>\n",
              "      <td>0.000000</td>\n",
              "      <td>0.000000</td>\n",
              "      <td>0</td>\n",
              "      <td>0</td>\n",
              "    </tr>\n",
              "    <tr>\n",
              "      <th>2088262</th>\n",
              "      <td>0.080873</td>\n",
              "      <td>0.310763</td>\n",
              "      <td>2</td>\n",
              "      <td>2</td>\n",
              "      <td>72</td>\n",
              "      <td>36</td>\n",
              "      <td>36</td>\n",
              "      <td>36.000000</td>\n",
              "      <td>0.000000</td>\n",
              "      <td>64</td>\n",
              "      <td>64</td>\n",
              "      <td>64.00000</td>\n",
              "      <td>0.000000</td>\n",
              "      <td>11.192133</td>\n",
              "      <td>33.333511</td>\n",
              "      <td>0.103595</td>\n",
              "      <td>0.253884</td>\n",
              "      <td>0</td>\n",
              "      <td>0</td>\n",
              "      <td>8.333333e-07</td>\n",
              "      <td>8.333333e-07</td>\n",
              "      <td>0.000000</td>\n",
              "      <td>1</td>\n",
              "      <td>0.000011</td>\n",
              "      <td>1</td>\n",
              "      <td>1</td>\n",
              "      <td>0</td>\n",
              "      <td>40</td>\n",
              "      <td>99.459198</td>\n",
              "      <td>0.000179</td>\n",
              "      <td>36</td>\n",
              "      <td>64</td>\n",
              "      <td>47.200001</td>\n",
              "      <td>15.336231</td>\n",
              "      <td>0.001050</td>\n",
              "      <td>0</td>\n",
              "      <td>0</td>\n",
              "      <td>0</td>\n",
              "      <td>0</td>\n",
              "      <td>59.000000</td>\n",
              "      <td>36.000000</td>\n",
              "      <td>64.000000</td>\n",
              "      <td>99.985580</td>\n",
              "      <td>2</td>\n",
              "      <td>72</td>\n",
              "      <td>2</td>\n",
              "      <td>1.952848e-05</td>\n",
              "      <td>0.000000</td>\n",
              "      <td>0.000000</td>\n",
              "      <td>1</td>\n",
              "      <td>99.999977</td>\n",
              "      <td>0.000000</td>\n",
              "      <td>0.000000</td>\n",
              "      <td>0</td>\n",
              "      <td>0</td>\n",
              "    </tr>\n",
              "    <tr>\n",
              "      <th>610024</th>\n",
              "      <td>71.125353</td>\n",
              "      <td>0.000057</td>\n",
              "      <td>1</td>\n",
              "      <td>1</td>\n",
              "      <td>0</td>\n",
              "      <td>0</td>\n",
              "      <td>0</td>\n",
              "      <td>0.000000</td>\n",
              "      <td>0.000000</td>\n",
              "      <td>0</td>\n",
              "      <td>0</td>\n",
              "      <td>0.00000</td>\n",
              "      <td>0.000000</td>\n",
              "      <td>11.192110</td>\n",
              "      <td>33.928570</td>\n",
              "      <td>0.000057</td>\n",
              "      <td>0.000000</td>\n",
              "      <td>0</td>\n",
              "      <td>0</td>\n",
              "      <td>0.000000e+00</td>\n",
              "      <td>0.000000e+00</td>\n",
              "      <td>0.000000</td>\n",
              "      <td>0</td>\n",
              "      <td>0.000010</td>\n",
              "      <td>0</td>\n",
              "      <td>0</td>\n",
              "      <td>0</td>\n",
              "      <td>32</td>\n",
              "      <td>99.459198</td>\n",
              "      <td>0.595238</td>\n",
              "      <td>0</td>\n",
              "      <td>0</td>\n",
              "      <td>0.000000</td>\n",
              "      <td>0.000000</td>\n",
              "      <td>0.000000</td>\n",
              "      <td>0</td>\n",
              "      <td>0</td>\n",
              "      <td>1</td>\n",
              "      <td>1</td>\n",
              "      <td>0.000000</td>\n",
              "      <td>0.000000</td>\n",
              "      <td>0.000000</td>\n",
              "      <td>99.985580</td>\n",
              "      <td>1</td>\n",
              "      <td>0</td>\n",
              "      <td>1</td>\n",
              "      <td>0.000000e+00</td>\n",
              "      <td>0.012207</td>\n",
              "      <td>0.457764</td>\n",
              "      <td>0</td>\n",
              "      <td>99.999977</td>\n",
              "      <td>0.000000</td>\n",
              "      <td>0.000000</td>\n",
              "      <td>0</td>\n",
              "      <td>0</td>\n",
              "    </tr>\n",
              "    <tr>\n",
              "      <th>289093</th>\n",
              "      <td>0.122072</td>\n",
              "      <td>0.027168</td>\n",
              "      <td>1</td>\n",
              "      <td>1</td>\n",
              "      <td>0</td>\n",
              "      <td>0</td>\n",
              "      <td>0</td>\n",
              "      <td>0.000000</td>\n",
              "      <td>0.000000</td>\n",
              "      <td>0</td>\n",
              "      <td>0</td>\n",
              "      <td>0.00000</td>\n",
              "      <td>0.000000</td>\n",
              "      <td>11.192110</td>\n",
              "      <td>33.334354</td>\n",
              "      <td>0.027168</td>\n",
              "      <td>0.000000</td>\n",
              "      <td>0</td>\n",
              "      <td>0</td>\n",
              "      <td>0.000000e+00</td>\n",
              "      <td>0.000000e+00</td>\n",
              "      <td>0.000000</td>\n",
              "      <td>0</td>\n",
              "      <td>0.000010</td>\n",
              "      <td>0</td>\n",
              "      <td>0</td>\n",
              "      <td>0</td>\n",
              "      <td>32</td>\n",
              "      <td>99.459198</td>\n",
              "      <td>0.001023</td>\n",
              "      <td>0</td>\n",
              "      <td>0</td>\n",
              "      <td>0.000000</td>\n",
              "      <td>0.000000</td>\n",
              "      <td>0.000000</td>\n",
              "      <td>0</td>\n",
              "      <td>0</td>\n",
              "      <td>1</td>\n",
              "      <td>1</td>\n",
              "      <td>0.000000</td>\n",
              "      <td>0.000000</td>\n",
              "      <td>0.000000</td>\n",
              "      <td>99.985580</td>\n",
              "      <td>1</td>\n",
              "      <td>0</td>\n",
              "      <td>1</td>\n",
              "      <td>0.000000e+00</td>\n",
              "      <td>0.404358</td>\n",
              "      <td>0.360107</td>\n",
              "      <td>0</td>\n",
              "      <td>99.999977</td>\n",
              "      <td>0.000000</td>\n",
              "      <td>0.000000</td>\n",
              "      <td>0</td>\n",
              "      <td>0</td>\n",
              "    </tr>\n",
              "    <tr>\n",
              "      <th>2315328</th>\n",
              "      <td>0.122072</td>\n",
              "      <td>0.012298</td>\n",
              "      <td>2</td>\n",
              "      <td>2</td>\n",
              "      <td>12</td>\n",
              "      <td>6</td>\n",
              "      <td>6</td>\n",
              "      <td>6.000000</td>\n",
              "      <td>0.000000</td>\n",
              "      <td>0</td>\n",
              "      <td>0</td>\n",
              "      <td>0.00000</td>\n",
              "      <td>0.000000</td>\n",
              "      <td>11.192144</td>\n",
              "      <td>33.337856</td>\n",
              "      <td>0.004107</td>\n",
              "      <td>0.009777</td>\n",
              "      <td>0</td>\n",
              "      <td>0</td>\n",
              "      <td>2.141667e-04</td>\n",
              "      <td>2.141667e-04</td>\n",
              "      <td>0.000000</td>\n",
              "      <td>257</td>\n",
              "      <td>0.000224</td>\n",
              "      <td>14695</td>\n",
              "      <td>14695</td>\n",
              "      <td>0</td>\n",
              "      <td>40</td>\n",
              "      <td>99.459198</td>\n",
              "      <td>0.004521</td>\n",
              "      <td>0</td>\n",
              "      <td>6</td>\n",
              "      <td>3.600000</td>\n",
              "      <td>3.286335</td>\n",
              "      <td>0.000048</td>\n",
              "      <td>1</td>\n",
              "      <td>0</td>\n",
              "      <td>0</td>\n",
              "      <td>0</td>\n",
              "      <td>4.500000</td>\n",
              "      <td>6.000000</td>\n",
              "      <td>0.000000</td>\n",
              "      <td>99.985580</td>\n",
              "      <td>2</td>\n",
              "      <td>12</td>\n",
              "      <td>2</td>\n",
              "      <td>0.000000e+00</td>\n",
              "      <td>0.001526</td>\n",
              "      <td>0.360107</td>\n",
              "      <td>1</td>\n",
              "      <td>99.999977</td>\n",
              "      <td>0.000000</td>\n",
              "      <td>0.000000</td>\n",
              "      <td>0</td>\n",
              "      <td>0</td>\n",
              "    </tr>\n",
              "    <tr>\n",
              "      <th>2501434</th>\n",
              "      <td>0.134279</td>\n",
              "      <td>0.000956</td>\n",
              "      <td>9</td>\n",
              "      <td>6</td>\n",
              "      <td>3150</td>\n",
              "      <td>1575</td>\n",
              "      <td>0</td>\n",
              "      <td>350.000000</td>\n",
              "      <td>694.509705</td>\n",
              "      <td>1576</td>\n",
              "      <td>0</td>\n",
              "      <td>525.50000</td>\n",
              "      <td>813.842896</td>\n",
              "      <td>11.430417</td>\n",
              "      <td>33.553791</td>\n",
              "      <td>0.000078</td>\n",
              "      <td>0.000251</td>\n",
              "      <td>0</td>\n",
              "      <td>0</td>\n",
              "      <td>9.450000e-04</td>\n",
              "      <td>1.181250e-04</td>\n",
              "      <td>0.000348</td>\n",
              "      <td>869</td>\n",
              "      <td>0.000011</td>\n",
              "      <td>1029</td>\n",
              "      <td>817</td>\n",
              "      <td>0</td>\n",
              "      <td>304</td>\n",
              "      <td>99.459213</td>\n",
              "      <td>0.264550</td>\n",
              "      <td>0</td>\n",
              "      <td>1576</td>\n",
              "      <td>393.875000</td>\n",
              "      <td>704.585083</td>\n",
              "      <td>2.216250</td>\n",
              "      <td>0</td>\n",
              "      <td>1</td>\n",
              "      <td>0</td>\n",
              "      <td>0</td>\n",
              "      <td>420.133331</td>\n",
              "      <td>350.000000</td>\n",
              "      <td>525.333333</td>\n",
              "      <td>99.985580</td>\n",
              "      <td>9</td>\n",
              "      <td>3150</td>\n",
              "      <td>6</td>\n",
              "      <td>4.808888e-04</td>\n",
              "      <td>44.557190</td>\n",
              "      <td>3.176880</td>\n",
              "      <td>2</td>\n",
              "      <td>99.999977</td>\n",
              "      <td>0.000000</td>\n",
              "      <td>0.000000</td>\n",
              "      <td>0</td>\n",
              "      <td>0</td>\n",
              "    </tr>\n",
              "    <tr>\n",
              "      <th>928453</th>\n",
              "      <td>67.977417</td>\n",
              "      <td>0.004066</td>\n",
              "      <td>2</td>\n",
              "      <td>0</td>\n",
              "      <td>12</td>\n",
              "      <td>6</td>\n",
              "      <td>6</td>\n",
              "      <td>6.000000</td>\n",
              "      <td>0.000000</td>\n",
              "      <td>0</td>\n",
              "      <td>0</td>\n",
              "      <td>0.00000</td>\n",
              "      <td>0.000000</td>\n",
              "      <td>11.192216</td>\n",
              "      <td>33.340183</td>\n",
              "      <td>0.004066</td>\n",
              "      <td>0.000000</td>\n",
              "      <td>0</td>\n",
              "      <td>0</td>\n",
              "      <td>4.055000e-03</td>\n",
              "      <td>4.055000e-03</td>\n",
              "      <td>0.000000</td>\n",
              "      <td>4866</td>\n",
              "      <td>0.004065</td>\n",
              "      <td>0</td>\n",
              "      <td>0</td>\n",
              "      <td>0</td>\n",
              "      <td>40</td>\n",
              "      <td>99.459190</td>\n",
              "      <td>0.013701</td>\n",
              "      <td>6</td>\n",
              "      <td>6</td>\n",
              "      <td>6.000000</td>\n",
              "      <td>0.000000</td>\n",
              "      <td>0.000000</td>\n",
              "      <td>0</td>\n",
              "      <td>0</td>\n",
              "      <td>1</td>\n",
              "      <td>0</td>\n",
              "      <td>9.000000</td>\n",
              "      <td>6.000000</td>\n",
              "      <td>0.000000</td>\n",
              "      <td>99.985580</td>\n",
              "      <td>2</td>\n",
              "      <td>12</td>\n",
              "      <td>0</td>\n",
              "      <td>0.000000e+00</td>\n",
              "      <td>0.045776</td>\n",
              "      <td>0.000000</td>\n",
              "      <td>1</td>\n",
              "      <td>99.999977</td>\n",
              "      <td>0.000000</td>\n",
              "      <td>0.000000</td>\n",
              "      <td>0</td>\n",
              "      <td>0</td>\n",
              "    </tr>\n",
              "    <tr>\n",
              "      <th>353511</th>\n",
              "      <td>7.722591</td>\n",
              "      <td>0.000024</td>\n",
              "      <td>1</td>\n",
              "      <td>1</td>\n",
              "      <td>2</td>\n",
              "      <td>2</td>\n",
              "      <td>2</td>\n",
              "      <td>2.000000</td>\n",
              "      <td>0.000000</td>\n",
              "      <td>6</td>\n",
              "      <td>6</td>\n",
              "      <td>6.00000</td>\n",
              "      <td>0.000000</td>\n",
              "      <td>11.213551</td>\n",
              "      <td>35.416668</td>\n",
              "      <td>0.000024</td>\n",
              "      <td>0.000000</td>\n",
              "      <td>0</td>\n",
              "      <td>0</td>\n",
              "      <td>0.000000e+00</td>\n",
              "      <td>0.000000e+00</td>\n",
              "      <td>0.000000</td>\n",
              "      <td>0</td>\n",
              "      <td>0.000010</td>\n",
              "      <td>0</td>\n",
              "      <td>0</td>\n",
              "      <td>0</td>\n",
              "      <td>24</td>\n",
              "      <td>99.459198</td>\n",
              "      <td>2.083333</td>\n",
              "      <td>2</td>\n",
              "      <td>6</td>\n",
              "      <td>3.333333</td>\n",
              "      <td>2.309401</td>\n",
              "      <td>0.000024</td>\n",
              "      <td>0</td>\n",
              "      <td>1</td>\n",
              "      <td>0</td>\n",
              "      <td>0</td>\n",
              "      <td>5.000000</td>\n",
              "      <td>2.000000</td>\n",
              "      <td>6.000000</td>\n",
              "      <td>99.985580</td>\n",
              "      <td>1</td>\n",
              "      <td>2</td>\n",
              "      <td>1</td>\n",
              "      <td>9.153974e-07</td>\n",
              "      <td>1.564026</td>\n",
              "      <td>0.001526</td>\n",
              "      <td>0</td>\n",
              "      <td>99.999977</td>\n",
              "      <td>0.000000</td>\n",
              "      <td>0.000000</td>\n",
              "      <td>0</td>\n",
              "      <td>0</td>\n",
              "    </tr>\n",
              "    <tr>\n",
              "      <th>2229120</th>\n",
              "      <td>0.122072</td>\n",
              "      <td>0.124598</td>\n",
              "      <td>3</td>\n",
              "      <td>7</td>\n",
              "      <td>375</td>\n",
              "      <td>375</td>\n",
              "      <td>0</td>\n",
              "      <td>125.000000</td>\n",
              "      <td>216.506348</td>\n",
              "      <td>5792</td>\n",
              "      <td>0</td>\n",
              "      <td>1656.00000</td>\n",
              "      <td>2118.227295</td>\n",
              "      <td>11.195543</td>\n",
              "      <td>33.334450</td>\n",
              "      <td>0.013854</td>\n",
              "      <td>0.052693</td>\n",
              "      <td>0</td>\n",
              "      <td>0</td>\n",
              "      <td>1.170750e-02</td>\n",
              "      <td>5.853750e-03</td>\n",
              "      <td>0.011662</td>\n",
              "      <td>14001</td>\n",
              "      <td>0.000050</td>\n",
              "      <td>149408</td>\n",
              "      <td>135142</td>\n",
              "      <td>0</td>\n",
              "      <td>104</td>\n",
              "      <td>99.459213</td>\n",
              "      <td>0.000669</td>\n",
              "      <td>0</td>\n",
              "      <td>5792</td>\n",
              "      <td>1088.181763</td>\n",
              "      <td>1823.258057</td>\n",
              "      <td>14.840490</td>\n",
              "      <td>0</td>\n",
              "      <td>1</td>\n",
              "      <td>0</td>\n",
              "      <td>0</td>\n",
              "      <td>1197.000000</td>\n",
              "      <td>125.000000</td>\n",
              "      <td>1656.428571</td>\n",
              "      <td>99.985580</td>\n",
              "      <td>3</td>\n",
              "      <td>375</td>\n",
              "      <td>7</td>\n",
              "      <td>1.769005e-03</td>\n",
              "      <td>44.557190</td>\n",
              "      <td>0.360107</td>\n",
              "      <td>1</td>\n",
              "      <td>99.999977</td>\n",
              "      <td>0.000000</td>\n",
              "      <td>0.000000</td>\n",
              "      <td>0</td>\n",
              "      <td>0</td>\n",
              "    </tr>\n",
              "  </tbody>\n",
              "</table>\n",
              "</div>"
            ],
            "text/plain": [
              "          Destination Port   Flow Duration  ...   Idle Max   Idle Min\n",
              "187650            0.122072        5.543199  ...          5    6646825\n",
              "276227            0.675975        0.218747  ...          0          0\n",
              "712592            0.675975        0.770857  ...          0          0\n",
              "273596           11.580072        0.000012  ...          0          0\n",
              "2259315           0.122072       69.075386  ...         68   82700000\n",
              "2434072           0.122072       83.887154  ...         82   99500000\n",
              "1756558           0.675975       98.488564  ...          8   10000000\n",
              "725140            0.675975        0.644943  ...          0          0\n",
              "2075046           0.080873        0.000247  ...          0          0\n",
              "2593299           0.675975       28.708054  ...         24   29900000\n",
              "1567987           0.080873        0.000141  ...          0          0\n",
              "1188847           0.080873        0.025846  ...          0          0\n",
              "2088262           0.080873        0.310763  ...          0          0\n",
              "610024           71.125353        0.000057  ...          0          0\n",
              "289093            0.122072        0.027168  ...          0          0\n",
              "2315328           0.122072        0.012298  ...          0          0\n",
              "2501434           0.134279        0.000956  ...          0          0\n",
              "928453           67.977417        0.004066  ...          0          0\n",
              "353511            7.722591        0.000024  ...          0          0\n",
              "2229120           0.122072        0.124598  ...          0          0\n",
              "\n",
              "[20 rows x 55 columns]"
            ]
          },
          "metadata": {},
          "execution_count": 110
        }
      ]
    },
    {
      "cell_type": "code",
      "metadata": {
        "id": "oaRjwvSj6emC"
      },
      "source": [
        "# (0.0, 'Fwd Avg Bytes/Bulk'),\n",
        "#  (0.0, 'Bwd Avg Bulk Rate'),\n",
        "#  (0.0, ' Fwd Avg Packets/Bulk'),\n",
        "#  (0.0, ' Fwd Avg Bulk Rate'),\n",
        "#  (0.0, ' Bwd URG Flags'),\n",
        "#  (0.0, ' Bwd PSH Flags'),\n",
        "#  (0.0, ' Bwd Avg Packets/Bulk'),\n",
        "#  (0.0, ' Bwd Avg Bytes/Bulk')]\n",
        "\n",
        "# del df[\" CWE Flag Count\"]\n",
        "# del df[\"Bwd Avg Bulk Rate\"]\n",
        "# del df[\" Fwd Avg Packets/Bulk\"]\n",
        "# del df[' Fwd Avg Bulk Rate']\n",
        "# del df[\" Bwd URG Flags\"]\n",
        "# del df[' Bwd PSH Flags']\n",
        "# del df[\" Bwd Avg Packets/Bulk\"]\n",
        "                                                                       \n",
        "# del df[\" SYN Flag Count\"]\n",
        "# del df[\" Fwd URG Flags\"]\n",
        "# del df[\"]\n",
        "# del df[\"\"]\n",
        "# del df[\"\"]\n",
        "# del df[\"\"]\n",
        "# del df[\"\"]\n",
        "# \n",
        "# \n",
        "# \n",
        "# \n",
        "#  -----------------------DTC\n",
        "#  (0.0, 'Fwd Avg Bytes/Bulk'),\n",
        "#  (0.0, 'Bwd Avg Bulk Rate'),\n",
        "#  (0.0, ' SYN Flag Count'),\n",
        "#  (0.0, ' RST Flag Count'),\n",
        "#  (0.0, ' Fwd URG Flags'),\n",
        "#  (0.0, ' Fwd Avg Packets/Bulk'),\n",
        "#  (0.0, ' Fwd Avg Bulk Rate'),\n",
        "#  (0.0, ' ECE Flag Count'),\n",
        "#  (0.0, ' CWE Flag Count'),\n",
        "#  (0.0, ' Bwd URG Flags'),\n",
        "#  (0.0, ' Bwd PSH Flags'),\n",
        "#  (0.0, ' Bwd Avg Packets/Bulk'),\n",
        "#  (0.0, ' Bwd Avg Bytes/Bulk')]\n",
        "# RF\n",
        "  # (0.0, 'Fwd Avg Bytes/Bulk'),\n",
        "#  (0.0, 'Bwd Avg Bulk Rate'),\n",
        "#  (0.0, ' RST Flag Count'),\n",
        "#  (0.0, ' Fwd Avg Packets/Bulk'),\n",
        "#  (0.0, ' Fwd Avg Bulk Rate'),\n",
        "#  (0.0, ' ECE Flag Count'),\n",
        "#  (0.0, ' Bwd URG Flags'),\n",
        "#  (0.0, ' Bwd PSH Flags'),\n",
        "#  (0.0, ' Bwd Avg Packets/Bulk'),\n",
        "#  (0.0, ' Bwd Avg Bytes/Bulk')]\n",
        "\n",
        "# 'Fwd Avg Bytes/Bulk'),\n",
        "# SYN Flag Count')\n",
        "#  (0.0, 'Bwd Avg Bulk Rate'),\n",
        "#  (0.0, ' RST Flag Count'),\n",
        "#  (0.0, ' Fwd Avg Packets/Bulk'),\n",
        "#  (0.0, ' Fwd Avg Bulk Rate'),\n",
        "#  (0.0, ' ECE Flag Count'),\n",
        "#  (0.0, ' CWE Flag Count'),\n",
        "#  (0.0, ' Bwd URG Flags'),\n",
        "#  (0.0, ' Bwd PSH Flags'),\n",
        "#  (0.0, ' Bwd Avg Packets/Bulk'),\n",
        "#  (0.0, ' Bwd Avg Bytes/Bulk')]\n"
      ],
      "execution_count": null,
      "outputs": []
    },
    {
      "cell_type": "code",
      "metadata": {
        "id": "nxN7a74IQf5c",
        "colab": {
          "base_uri": "https://localhost:8080/"
        },
        "outputId": "f4915076-b9da-4e0e-9401-ea3620b4474e"
      },
      "source": [
        "len(df.columns)"
      ],
      "execution_count": null,
      "outputs": [
        {
          "output_type": "execute_result",
          "data": {
            "text/plain": [
              "67"
            ]
          },
          "metadata": {},
          "execution_count": 16
        }
      ]
    },
    {
      "cell_type": "code",
      "metadata": {
        "id": "NvAP_S6R6er7",
        "colab": {
          "base_uri": "https://localhost:8080/"
        },
        "outputId": "54c64c39-67df-4c6c-85ef-a4fee7f7947f"
      },
      "source": [
        "dtc = DecisionTreeClassifier(max_depth = 35)\n",
        "dtc = dtc.fit(x_train,y_train)\n",
        "y_pred = dtc.predict(x_test)\n",
        "y_pred"
      ],
      "execution_count": null,
      "outputs": [
        {
          "output_type": "execute_result",
          "data": {
            "text/plain": [
              "array([0, 0, 0, ..., 0, 0, 0], dtype=int8)"
            ]
          },
          "metadata": {},
          "execution_count": 157
        }
      ]
    },
    {
      "cell_type": "code",
      "metadata": {
        "id": "i5kZFJXD6evI",
        "colab": {
          "base_uri": "https://localhost:8080/"
        },
        "outputId": "ec039882-2d2a-4566-b736-90a83a968ad6"
      },
      "source": [
        "from sklearn.metrics import accuracy_score,f1_score\n",
        "print(dtc.score(x_test, y_test))\n",
        "print(accuracy_score(y_test, y_pred))\n",
        "print(f1_score(y_test, y_pred, average='macro'))\n",
        "# -----------------------------\n",
        "# 0.9984774326193281 after removal of columns\n",
        "# 0.9984774326193281 after removal of columns\n",
        "# 0.8667124765500696 after removal of columns\n",
        "\n",
        "# ------------------------------------------ AFter removal of columns and standardization of data\n",
        "# 0.9984140062520334\n",
        "# 0.9984140062520334\n",
        "# 0.9004401619867812"
      ],
      "execution_count": null,
      "outputs": [
        {
          "output_type": "stream",
          "name": "stdout",
          "text": [
            "0.9984140062520334\n",
            "0.9984140062520334\n",
            "0.9004401619867812\n"
          ]
        }
      ]
    },
    {
      "cell_type": "code",
      "metadata": {
        "id": "pAoCU6ZN-cY4",
        "colab": {
          "base_uri": "https://localhost:8080/"
        },
        "outputId": "721a3837-9806-450c-9a75-28c265acb572"
      },
      "source": [
        "attributes = list(x_train)\n",
        "sorted(zip(dtc.feature_importances_, attributes), reverse=True)\n",
        "# ''' After removal of columns\n",
        "# [(0.28016606811168726, ' Bwd Packet Length Std'),\n",
        "#  (0.1733888947694944, ' Average Packet Size'),\n",
        "#  (0.12351004475960135, ' Packet Length Variance'),\n",
        "#  (0.11069568307466329, ' Fwd Packet Length Max'),\n",
        "#  (0.09594752849111146, ' Destination Port'),\n",
        "#  (0.06755557795314726, ' Flow IAT Std'),\n",
        "#  (0.03493801525095952, ' Flow IAT Mean'),\n",
        "#  (0.01883046832986224, 'Init_Win_bytes_forward'),\n",
        "#  (0.018112034535505223, ' Fwd Header Length.1'),\n",
        "#  (0.015792768068831394, ' Total Length of Bwd Packets'),\n",
        "#  (0.007670806775145387, ' PSH Flag Count'),\n",
        "#  (0.007375691302249404, ' Flow IAT Min'),\n",
        "#  (0.007053658583930834, ' Fwd IAT Min'),\n",
        "#  (0.006798316543684104, ' Init_Win_bytes_backward'),\n",
        "#  (0.003698208209551507, ' Bwd IAT Mean'),\n",
        "#  (0.003231974871338103, ' Bwd Packets/s'),\n",
        "#  (0.0028835305365681294, ' Fwd IAT Std'),\n",
        "#  (0.002531178337354747, ' Packet Length Mean'),\n",
        "#  (0.0020148741561211853, ' Subflow Fwd Bytes'),\n",
        "#  (0.001849292133856775, ' Active Std'),\n",
        "#  (0.0017756112815919029, ' Subflow Bwd Bytes'),\n",
        "#  (0.0017422225064747804, ' Bwd IAT Std'),\n",
        "#  (0.001735979999222193, ' min_seg_size_forward'),\n",
        "#  (0.0014089051417732659, ' act_data_pkt_fwd'),\n",
        "#  (0.001039001917198709, ' Fwd Header Length'),\n",
        "#  (0.0008479153051474898, ' Bwd Packet Length Mean'),\n",
        "#  (0.0007103968653167402, ' Flow Duration'),\n",
        "#  (0.0005975280224517197, ' Fwd IAT Mean'),\n",
        "#  (0.0005879066183263844, ' Fwd Packet Length Min'),\n",
        "#  (0.00048147632219934565, ' Avg Fwd Segment Size'),\n",
        "#  (0.00046751665611389034, ' Avg Bwd Segment Size'),\n",
        "#  (0.00046193767822552304, ' Fwd Packet Length Std'),\n",
        "#  (0.0004135138254924596, 'Total Length of Fwd Packets'),\n",
        "#  (0.00041328739480660486, ' Flow IAT Max'),\n",
        "#  (0.00030597314465320984, 'Subflow Fwd Packets'),\n",
        "#  (0.00026962660081438633, ' Min Packet Length'),\n",
        "#  (0.00026572709485670224, ' URG Flag Count'),\n",
        "#  (0.00025500760488335724, 'Fwd IAT Total'),\n",
        "#  (0.00023741983955396956, ' Bwd IAT Min'),\n",
        "#  (0.00021367862064914888, 'Fwd Packets/s'),\n",
        "#  (0.00018878988623811886, ' Fwd IAT Max'),\n",
        "#  (0.00018270426067764855, 'Bwd Packet Length Max'),\n",
        "#  (0.00015394740150137702, 'Fwd PSH Flags'),\n",
        "#  (0.00015233484758006682, 'Bwd IAT Total'),\n",
        "#  (0.00014963252434221794, ' Down/Up Ratio'),\n",
        "#  (0.00011460363907694974, ' ACK Flag Count'),\n",
        "#  (0.00011027266081469523, ' Subflow Bwd Packets'),\n",
        "#  (0.00010582054978144025, ' Packet Length Std'),\n",
        "#  (0.00010059309850460571, ' Max Packet Length'),\n",
        "#  (9.414921214447345e-05, ' Idle Min'),\n",
        "#  (7.941917652496808e-05, ' Total Backward Packets'),\n",
        "#  (6.328853154705063e-05, ' Fwd Packet Length Mean'),\n",
        "#  (5.221072466639542e-05, ' Active Max'),\n",
        "#  (3.774487080623856e-05, ' Bwd IAT Max'),\n",
        "#  (3.4065258530539905e-05, ' Idle Std'),\n",
        "#  (3.204165726561617e-05, ' Bwd Header Length'),\n",
        "#  (1.975936604384112e-05, 'FIN Flag Count'),\n",
        "#  (1.9724799376597006e-05, ' Total Fwd Packets'),\n",
        "#  (1.445375939585674e-05, ' Idle Max'),\n",
        "#  (6.626751842307504e-06, ' Active Min'),\n",
        "#  (6.228453832736674e-06, 'Active Mean'),\n",
        "#  (4.623810405522742e-06, ' Bwd Packet Length Min'),\n",
        "#  (1.7175246854056034e-06, 'Idle Mean'),\n",
        "#  (0.0, ' Fwd URG Flags'),\n",
        "#  (0.0, ' Bwd Avg Bytes/Bulk')] '''\n",
        "\n",
        "\n",
        "# After removal of columns and stardardization of data\n",
        "# [(0.28081615120727976, ' Bwd Packet Length Std'),\n",
        "#  (0.17342584039345477, ' Average Packet Size'),\n",
        "#  (0.12443267029574392, ' Packet Length Variance'),\n",
        "#  (0.11023026556712232, ' Fwd Packet Length Max'),\n",
        "#  (0.09746895785153119, ' Destination Port'),\n",
        "#  (0.06745392528933074, ' Flow IAT Std'),\n",
        "#  (0.03451220274130996, ' Flow IAT Mean'),\n",
        "#  (0.019190152548959546, ' Fwd Header Length'),\n",
        "#  (0.017462324426230795, ' Subflow Bwd Bytes'),\n",
        "#  (0.017459279711913734, 'Init_Win_bytes_forward'),\n",
        "#  (0.007414904307686484, ' PSH Flag Count'),\n",
        "#  (0.006700317437963121, ' Init_Win_bytes_backward'),\n",
        "#  (0.006663308257260486, ' Fwd IAT Min'),\n",
        "#  (0.006044352514880975, 'Idle Mean'),\n",
        "#  (0.005355512124356029, ' min_seg_size_forward'),\n",
        "#  (0.0036568915883058235, ' Packet Length Mean'),\n",
        "#  (0.0034312123976469504, ' Idle Std'),\n",
        "#  (0.0028462804526412193, ' Fwd IAT Mean'),\n",
        "#  (0.002602149646224776, ' Bwd Packet Length Mean'),\n",
        "#  (0.0014574049358381167, 'Fwd Packets/s'),\n",
        "#  (0.001144727323678923, ' Fwd Packet Length Mean'),\n",
        "#  (0.0009776331906792724, ' Flow Duration'),\n",
        "#  (0.0009776052620744666, ' Avg Bwd Segment Size'),\n",
        "#  (0.0009451194161910165, ' Flow IAT Min'),\n",
        "#  (0.0008056073797510606, ' Fwd IAT Std'),\n",
        "#  (0.0008041586301102237, ' Subflow Fwd Bytes'),\n",
        "#  (0.0007283035349229918, ' Max Packet Length'),\n",
        "#  (0.0005657124060944584, 'Bwd Packet Length Max'),\n",
        "#  (0.0005470064893224677, 'Total Length of Fwd Packets'),\n",
        "#  (0.00047975391134993305, ' Fwd Packet Length Std'),\n",
        "#  (0.00047771592488278036, ' Fwd IAT Max'),\n",
        "#  (0.00037293438198067377, ' Fwd Packet Length Min'),\n",
        "#  (0.00030169869211160504, 'Flow Bytes/s'),\n",
        "#  (0.00028136749737304843, ' Min Packet Length'),\n",
        "#  (0.000273780967577527, ' Idle Min'),\n",
        "#  (0.00020469376312760802, ' URG Flag Count'),\n",
        "#  (0.00018746746412100034, ' Bwd IAT Max'),\n",
        "#  (0.0001790807723947673, ' Subflow Bwd Packets'),\n",
        "#  (0.00017207570059626418, ' ACK Flag Count'),\n",
        "#  (0.00016162335200744376, ' Flow Packets/s'),\n",
        "#  (0.00015204646779520066, ' Total Backward Packets'),\n",
        "#  (0.00015203629652474893, ' Packet Length Std'),\n",
        "#  (0.0001425175604447684, 'Fwd PSH Flags'),\n",
        "#  (9.503481344511872e-05, 'FIN Flag Count'),\n",
        "#  (8.928384850564696e-05, 'Bwd IAT Total'),\n",
        "#  (5.9174596124725984e-05, ' Avg Fwd Segment Size'),\n",
        "#  (3.2795406148957585e-05, 'Subflow Fwd Packets'),\n",
        "#  (1.6901180938118678e-05, ' Total Fwd Packets'),\n",
        "#  (1.2790231641322964e-05, ' Idle Max'),\n",
        "#  (1.0136842077547119e-05, ' Flow IAT Max'),\n",
        "#  (8.902492042750681e-06, ' Bwd Header Length'),\n",
        "#  (8.493611656901823e-06, ' act_data_pkt_fwd'),\n",
        "#  (7.716896626203414e-06, ' Bwd Packet Length Min'),\n",
        "#  (0.0, 'Fwd IAT Total'),\n",
        "#  (0.0, ' Fwd Header Length.1')]\n",
        "\n",
        "\n",
        " \n"
      ],
      "execution_count": null,
      "outputs": [
        {
          "output_type": "execute_result",
          "data": {
            "text/plain": [
              "[(0.28081615120727976, ' Bwd Packet Length Std'),\n",
              " (0.17342584039345477, ' Average Packet Size'),\n",
              " (0.12443267029574392, ' Packet Length Variance'),\n",
              " (0.11023026556712232, ' Fwd Packet Length Max'),\n",
              " (0.09746895785153119, ' Destination Port'),\n",
              " (0.06745392528933074, ' Flow IAT Std'),\n",
              " (0.03451220274130996, ' Flow IAT Mean'),\n",
              " (0.019190152548959546, ' Fwd Header Length'),\n",
              " (0.017462324426230795, ' Subflow Bwd Bytes'),\n",
              " (0.017459279711913734, 'Init_Win_bytes_forward'),\n",
              " (0.007414904307686484, ' PSH Flag Count'),\n",
              " (0.006700317437963121, ' Init_Win_bytes_backward'),\n",
              " (0.006663308257260486, ' Fwd IAT Min'),\n",
              " (0.006044352514880975, 'Idle Mean'),\n",
              " (0.005355512124356029, ' min_seg_size_forward'),\n",
              " (0.0036568915883058235, ' Packet Length Mean'),\n",
              " (0.0034312123976469504, ' Idle Std'),\n",
              " (0.0028462804526412193, ' Fwd IAT Mean'),\n",
              " (0.002602149646224776, ' Bwd Packet Length Mean'),\n",
              " (0.0014574049358381167, 'Fwd Packets/s'),\n",
              " (0.001144727323678923, ' Fwd Packet Length Mean'),\n",
              " (0.0009776331906792724, ' Flow Duration'),\n",
              " (0.0009776052620744666, ' Avg Bwd Segment Size'),\n",
              " (0.0009451194161910165, ' Flow IAT Min'),\n",
              " (0.0008056073797510606, ' Fwd IAT Std'),\n",
              " (0.0008041586301102237, ' Subflow Fwd Bytes'),\n",
              " (0.0007283035349229918, ' Max Packet Length'),\n",
              " (0.0005657124060944584, 'Bwd Packet Length Max'),\n",
              " (0.0005470064893224677, 'Total Length of Fwd Packets'),\n",
              " (0.00047975391134993305, ' Fwd Packet Length Std'),\n",
              " (0.00047771592488278036, ' Fwd IAT Max'),\n",
              " (0.00037293438198067377, ' Fwd Packet Length Min'),\n",
              " (0.00030169869211160504, 'Flow Bytes/s'),\n",
              " (0.00028136749737304843, ' Min Packet Length'),\n",
              " (0.000273780967577527, ' Idle Min'),\n",
              " (0.00020469376312760802, ' URG Flag Count'),\n",
              " (0.00018746746412100034, ' Bwd IAT Max'),\n",
              " (0.0001790807723947673, ' Subflow Bwd Packets'),\n",
              " (0.00017207570059626418, ' ACK Flag Count'),\n",
              " (0.00016162335200744376, ' Flow Packets/s'),\n",
              " (0.00015204646779520066, ' Total Backward Packets'),\n",
              " (0.00015203629652474893, ' Packet Length Std'),\n",
              " (0.0001425175604447684, 'Fwd PSH Flags'),\n",
              " (9.503481344511872e-05, 'FIN Flag Count'),\n",
              " (8.928384850564696e-05, 'Bwd IAT Total'),\n",
              " (5.9174596124725984e-05, ' Avg Fwd Segment Size'),\n",
              " (3.2795406148957585e-05, 'Subflow Fwd Packets'),\n",
              " (1.6901180938118678e-05, ' Total Fwd Packets'),\n",
              " (1.2790231641322964e-05, ' Idle Max'),\n",
              " (1.0136842077547119e-05, ' Flow IAT Max'),\n",
              " (8.902492042750681e-06, ' Bwd Header Length'),\n",
              " (8.493611656901823e-06, ' act_data_pkt_fwd'),\n",
              " (7.716896626203414e-06, ' Bwd Packet Length Min'),\n",
              " (0.0, 'Fwd IAT Total'),\n",
              " (0.0, ' Fwd Header Length.1')]"
            ]
          },
          "metadata": {},
          "execution_count": 160
        }
      ]
    },
    {
      "cell_type": "code",
      "metadata": {
        "id": "yf6zZ4yaABid"
      },
      "source": [
        "from sklearn.model_selection import cross_val_score"
      ],
      "execution_count": null,
      "outputs": []
    },
    {
      "cell_type": "code",
      "metadata": {
        "id": "KhG4LUsQ-cSI",
        "colab": {
          "base_uri": "https://localhost:8080/"
        },
        "outputId": "9552258a-bfb6-4247-cb0e-a34e36ebcdb1"
      },
      "source": [
        "cross_val_score(dtc,X,Y,cv=10)\n",
        "# array([0.97643734, 0.99840325, 0.99742471, 0.99876711, 0.99574316,\n",
        "      #  0.99814536, 0.99919809, 0.9984845 , 0.99836439, 0.98740612])"
      ],
      "execution_count": null,
      "outputs": [
        {
          "output_type": "execute_result",
          "data": {
            "text/plain": [
              "array([0.97643734, 0.99840325, 0.99742471, 0.99876711, 0.99574316,\n",
              "       0.99814536, 0.99919809, 0.9984845 , 0.99836439, 0.98740612])"
            ]
          },
          "metadata": {},
          "execution_count": 35
        }
      ]
    },
    {
      "cell_type": "code",
      "metadata": {
        "id": "MtzBZdZA6e0k",
        "colab": {
          "base_uri": "https://localhost:8080/"
        },
        "outputId": "68567f09-7056-4be0-a83e-dffd7200f6c9"
      },
      "source": [
        "print('---------------------------Random Forest CLassifier------------------')\n",
        "from sklearn.ensemble import RandomForestClassifier\n",
        "model = RandomForestClassifier(n_estimators =5)\n",
        "model = model.fit(x_train, y_train)\n",
        "rfy_pred = model.predict(x_test)\n",
        "acc = metrics.accuracy_score(y_test, y_pred)\n",
        "print(model.score(x_test,y_test))\n",
        "# 0.9985904770652249"
      ],
      "execution_count": null,
      "outputs": [
        {
          "output_type": "stream",
          "name": "stdout",
          "text": [
            "---------------------------Random Forest CLassifier------------------\n",
            "0.9984971073737217\n"
          ]
        }
      ]
    },
    {
      "cell_type": "code",
      "metadata": {
        "id": "fjsnQqS2AIPR",
        "colab": {
          "base_uri": "https://localhost:8080/"
        },
        "outputId": "9726dcc5-fdcb-4e95-a58e-87856ddddbbe"
      },
      "source": [
        "attributes = list(x_train)\n",
        "sorted(zip(model.feature_importances_, attributes), reverse=True)\n",
        "# After removal of zero weight columns\n",
        "# (0.112366494671202, ' Bwd Packet Length Std'),\n",
        "#  (0.06433679659855031, ' Fwd Packet Length Max'),\n",
        "#  (0.056751604919560494, ' Bwd Header Length'),\n",
        "#  (0.053961465096857064, ' Packet Length Std'),\n",
        "#  (0.05211168968251292, ' Avg Bwd Segment Size'),\n",
        "#  (0.04711769474558417, ' Packet Length Variance'),\n",
        "#  (0.047111200354155815, ' Destination Port'),\n",
        "#  (0.04381627786972093, ' Bwd Packets/s'),\n",
        "#  (0.042386429958200925, ' Subflow Fwd Bytes'),\n",
        "#  (0.04204987126438914, ' Subflow Bwd Bytes'),\n",
        "#  (0.04094738171388945, ' Fwd Packet Length Mean'),\n",
        "#  (0.034804649193391636, ' Bwd Packet Length Mean'),\n",
        "#  (0.032309913776511615, 'Total Length of Fwd Packets'),\n",
        "#  (0.030449813998609403, ' Bwd Packet Length Min'),\n",
        "#  (0.02745081831343994, 'Init_Win_bytes_forward'),\n",
        "#  (0.02152068692183791, ' Avg Fwd Segment Size'),\n",
        "#  (0.020606145634675384, ' Total Fwd Packets'),\n",
        "#  (0.020281391542833906, ' Fwd Header Length'),\n",
        "#  (0.019122836450544096, ' Average Packet Size'),\n",
        "#  (0.017856029235357555, ' Fwd IAT Min'),\n",
        "#  (0.016114650228562403, ' Total Length of Bwd Packets'),\n",
        "#  (0.01511369436086099, ' Flow IAT Mean'),\n",
        "#  (0.01462071528436822, 'Bwd Packet Length Max'),\n",
        "#  (0.013104362732868127, ' Fwd IAT Std'),\n",
        "#  (0.012588503895913216, ' Fwd Header Length.1'),\n",
        "#  (0.010829394542185674, ' Flow Duration'),\n",
        "#  (0.010589833636965276, 'Subflow Fwd Packets'),\n",
        "#  (0.008664120438680232, ' Flow IAT Min'),\n",
        "#  (0.006618671803804302, ' Fwd IAT Mean'),\n",
        "#  (0.0062142762806988204, 'Fwd Packets/s'),\n",
        "#  (0.005823333750440481, ' Flow IAT Max'),\n",
        "#  (0.005511802056849195, ' Flow IAT Std'),\n",
        "#  (0.004975819470764161, 'Bwd IAT Total'),\n",
        "#  (0.004627758535310539, ' Fwd IAT Max'),\n",
        "#  (0.00427590994074193, ' Packet Length Mean'),\n",
        "#  (0.0035639700897044913, ' act_data_pkt_fwd'),\n",
        "#  (0.003493204652573267, ' Init_Win_bytes_backward'),\n",
        "#  (0.003374753383737507, ' PSH Flag Count'),\n",
        "#  (0.002515781500541767, 'Idle Mean'),\n",
        "#  (0.0024516354845426636, ' min_seg_size_forward'),\n",
        "#  (0.0022335619575645444, ' ACK Flag Count'),\n",
        "#  (0.0019732395805961366, ' Fwd Packet Length Min'),\n",
        "#  (0.0014831160895369868, 'Fwd IAT Total'),\n",
        "#  (0.0014772666869454546, ' Bwd IAT Min'),\n",
        "#  (0.0013384636148983016, ' Active Max'),\n",
        "#  (0.0012520161369063434, 'FIN Flag Count'),\n",
        "#  (0.0011475731461011319, ' Subflow Bwd Packets'),\n",
        "#  (0.0010386363262575413, ' Idle Min'),\n",
        "#  (0.0009966626895916914, ' Fwd Packet Length Std'),\n",
        "#  (0.0008592233719482215, ' Max Packet Length'),\n",
        "#  (0.0006909782162334799, ' Idle Std'),\n",
        "#  (0.0006473875360388798, ' URG Flag Count'),\n",
        "#  (0.0006114456684819397, ' Bwd IAT Max'),\n",
        "#  (0.00036808559597668086, ' Bwd IAT Mean'),\n",
        "#  (0.0003629025503343455, ' Active Std'),\n",
        "#  (0.00029293235026810893, ' Idle Max'),\n",
        "#  (0.00025669564002782765, ' Min Packet Length'),\n",
        "#  (0.00017962329022629367, 'Fwd PSH Flags'),\n",
        "#  (0.00011231918372564187, ' Total Backward Packets'),\n",
        "#  (8.998730128113458e-05, ' Bwd IAT Std'),\n",
        "#  (7.53315373177969e-05, ' Down/Up Ratio'),\n",
        "#  (3.7701044193251527e-05, ' Active Min'),\n",
        "#  (3.760200258525163e-05, 'Active Mean'),\n",
        "#  (5.86447102523287e-06, ' Fwd URG Flags'),\n",
        "#  (0.0, ' Bwd Avg Bytes/Bulk')]"
      ],
      "execution_count": null,
      "outputs": [
        {
          "output_type": "execute_result",
          "data": {
            "text/plain": [
              "[(0.17264213650493487, ' Packet Length Variance'),\n",
              " (0.10929411540036674, 'Bwd Packet Length Max'),\n",
              " (0.06612861047647771, ' Subflow Bwd Bytes'),\n",
              " (0.05752707568688149, ' Destination Port'),\n",
              " (0.04698507226380129, ' Init_Win_bytes_backward'),\n",
              " (0.043020283817403526, ' Packet Length Std'),\n",
              " (0.040909778150494916, ' Fwd Packet Length Max'),\n",
              " (0.03781775040088564, ' Idle Min'),\n",
              " (0.03330447849172774, ' Subflow Fwd Bytes'),\n",
              " (0.03136079899933671, ' Max Packet Length'),\n",
              " (0.030408554337534012, ' Fwd Header Length'),\n",
              " (0.02838726450750728, ' Bwd Packet Length Std'),\n",
              " (0.027907337869760972, 'Flow Bytes/s'),\n",
              " (0.025777129321326163, ' Fwd Packet Length Mean'),\n",
              " (0.025674828434905088, ' Flow Duration'),\n",
              " (0.024029452148425924, 'Init_Win_bytes_forward'),\n",
              " (0.020368702497241528, ' min_seg_size_forward'),\n",
              " (0.01876630461018363, 'Subflow Fwd Packets'),\n",
              " (0.018514971860028637, ' Bwd Packet Length Mean'),\n",
              " (0.01416092864198388, ' Total Fwd Packets'),\n",
              " (0.013906849559424403, 'Fwd Packets/s'),\n",
              " (0.011669532888573236, ' Fwd IAT Min'),\n",
              " (0.010812596795481685, ' Flow Packets/s'),\n",
              " (0.009939798853239281, ' Avg Fwd Segment Size'),\n",
              " (0.009464102283101994, ' Min Packet Length'),\n",
              " (0.008266417175510538, ' Fwd IAT Max'),\n",
              " (0.00735351368764213, ' Packet Length Mean'),\n",
              " (0.007004287187495779, ' Flow IAT Std'),\n",
              " (0.006541315324788269, ' Fwd IAT Mean'),\n",
              " (0.005205046012144017, ' Total Backward Packets'),\n",
              " (0.004320070909198058, ' Fwd Packet Length Std'),\n",
              " (0.004218162963894379, ' ACK Flag Count'),\n",
              " (0.0029610014102748805, ' Flow IAT Mean'),\n",
              " (0.002504337380188974, ' Bwd Header Length'),\n",
              " (0.0023688423590896472, ' Average Packet Size'),\n",
              " (0.0022987533212395174, 'Idle Mean'),\n",
              " (0.002104791343000034, ' Subflow Bwd Packets'),\n",
              " (0.0020097124915789627, ' Bwd Packet Length Min'),\n",
              " (0.0014853679850626855, ' Idle Max'),\n",
              " (0.0014599042146560045, 'Total Length of Fwd Packets'),\n",
              " (0.0013282058261521305, ' Fwd IAT Std'),\n",
              " (0.001118824646422392, ' Flow IAT Max'),\n",
              " (0.0010597729123159288, 'Fwd PSH Flags'),\n",
              " (0.001051505234374691, ' Fwd Packet Length Min'),\n",
              " (0.0010326603727914992, ' act_data_pkt_fwd'),\n",
              " (0.0010082448577929278, 'Bwd IAT Total'),\n",
              " (0.0008910914930101137, ' PSH Flag Count'),\n",
              " (0.000779663109412984, ' Idle Std'),\n",
              " (0.0007430734041970816, ' Bwd IAT Max'),\n",
              " (0.0005801915175931968, ' URG Flag Count'),\n",
              " (0.0005468906031592714, 'Fwd IAT Total'),\n",
              " (0.0005334182042232326, ' Avg Bwd Segment Size'),\n",
              " (0.0004075089258447206, 'FIN Flag Count'),\n",
              " (2.8039389666593724e-05, ' Flow IAT Min'),\n",
              " (1.0930936251031857e-05, ' Fwd Header Length.1')]"
            ]
          },
          "metadata": {},
          "execution_count": 162
        }
      ]
    },
    {
      "cell_type": "code",
      "metadata": {
        "id": "mJBa8XRkLxSW",
        "colab": {
          "base_uri": "https://localhost:8080/"
        },
        "outputId": "93db86f7-20dc-42b9-c3fd-6243766ab7c1"
      },
      "source": [
        "from sklearn.metrics import accuracy_score,f1_score\n",
        "print(model.score(x_test, y_test))\n",
        "print(accuracy_score(y_test, y_pred))\n",
        "print(f1_score(y_test, y_pred, average='macro'))\n",
        "\n",
        "# 0.9985904770652249\n",
        "# 0.9984774326193281\n",
        "# 0.8667124765500696\n",
        "\n",
        "# 0.9984971073737217\n",
        "# 0.9984140062520334\n",
        "# 0.9004401619867812"
      ],
      "execution_count": null,
      "outputs": [
        {
          "output_type": "stream",
          "name": "stdout",
          "text": [
            "0.9984971073737217\n",
            "0.9984140062520334\n",
            "0.9004401619867812\n"
          ]
        }
      ]
    },
    {
      "cell_type": "code",
      "metadata": {
        "id": "WngK0y8xexGR",
        "colab": {
          "base_uri": "https://localhost:8080/",
          "height": 278
        },
        "outputId": "2e251187-916d-4073-f19e-78aba9d33c6f"
      },
      "source": [
        "X.head()"
      ],
      "execution_count": null,
      "outputs": [
        {
          "output_type": "execute_result",
          "data": {
            "text/html": [
              "<div>\n",
              "<style scoped>\n",
              "    .dataframe tbody tr th:only-of-type {\n",
              "        vertical-align: middle;\n",
              "    }\n",
              "\n",
              "    .dataframe tbody tr th {\n",
              "        vertical-align: top;\n",
              "    }\n",
              "\n",
              "    .dataframe thead th {\n",
              "        text-align: right;\n",
              "    }\n",
              "</style>\n",
              "<table border=\"1\" class=\"dataframe\">\n",
              "  <thead>\n",
              "    <tr style=\"text-align: right;\">\n",
              "      <th></th>\n",
              "      <th>Destination Port</th>\n",
              "      <th>Flow Duration</th>\n",
              "      <th>Total Fwd Packets</th>\n",
              "      <th>Total Backward Packets</th>\n",
              "      <th>Total Length of Fwd Packets</th>\n",
              "      <th>Fwd Packet Length Max</th>\n",
              "      <th>Fwd Packet Length Min</th>\n",
              "      <th>Fwd Packet Length Mean</th>\n",
              "      <th>Fwd Packet Length Std</th>\n",
              "      <th>Bwd Packet Length Max</th>\n",
              "      <th>Bwd Packet Length Min</th>\n",
              "      <th>Bwd Packet Length Mean</th>\n",
              "      <th>Bwd Packet Length Std</th>\n",
              "      <th>Flow Bytes/s</th>\n",
              "      <th>Flow Packets/s</th>\n",
              "      <th>Flow IAT Mean</th>\n",
              "      <th>Flow IAT Std</th>\n",
              "      <th>Flow IAT Max</th>\n",
              "      <th>Flow IAT Min</th>\n",
              "      <th>Fwd IAT Total</th>\n",
              "      <th>Fwd IAT Mean</th>\n",
              "      <th>Fwd IAT Std</th>\n",
              "      <th>Fwd IAT Max</th>\n",
              "      <th>Fwd IAT Min</th>\n",
              "      <th>Bwd IAT Total</th>\n",
              "      <th>Bwd IAT Max</th>\n",
              "      <th>Fwd PSH Flags</th>\n",
              "      <th>Fwd Header Length</th>\n",
              "      <th>Bwd Header Length</th>\n",
              "      <th>Fwd Packets/s</th>\n",
              "      <th>Min Packet Length</th>\n",
              "      <th>Max Packet Length</th>\n",
              "      <th>Packet Length Mean</th>\n",
              "      <th>Packet Length Std</th>\n",
              "      <th>Packet Length Variance</th>\n",
              "      <th>FIN Flag Count</th>\n",
              "      <th>PSH Flag Count</th>\n",
              "      <th>ACK Flag Count</th>\n",
              "      <th>URG Flag Count</th>\n",
              "      <th>Average Packet Size</th>\n",
              "      <th>Avg Fwd Segment Size</th>\n",
              "      <th>Avg Bwd Segment Size</th>\n",
              "      <th>Fwd Header Length.1</th>\n",
              "      <th>Subflow Fwd Packets</th>\n",
              "      <th>Subflow Fwd Bytes</th>\n",
              "      <th>Subflow Bwd Packets</th>\n",
              "      <th>Subflow Bwd Bytes</th>\n",
              "      <th>Init_Win_bytes_forward</th>\n",
              "      <th>Init_Win_bytes_backward</th>\n",
              "      <th>act_data_pkt_fwd</th>\n",
              "      <th>min_seg_size_forward</th>\n",
              "      <th>Idle Mean</th>\n",
              "      <th>Idle Std</th>\n",
              "      <th>Idle Max</th>\n",
              "      <th>Idle Min</th>\n",
              "    </tr>\n",
              "  </thead>\n",
              "  <tbody>\n",
              "    <tr>\n",
              "      <th>0</th>\n",
              "      <td>83.718624</td>\n",
              "      <td>0.000013</td>\n",
              "      <td>2</td>\n",
              "      <td>0</td>\n",
              "      <td>12</td>\n",
              "      <td>6</td>\n",
              "      <td>6</td>\n",
              "      <td>6.0</td>\n",
              "      <td>0.0</td>\n",
              "      <td>0</td>\n",
              "      <td>0</td>\n",
              "      <td>0.0</td>\n",
              "      <td>0.0</td>\n",
              "      <td>11.363636</td>\n",
              "      <td>44.444443</td>\n",
              "      <td>0.000013</td>\n",
              "      <td>0.0</td>\n",
              "      <td>0</td>\n",
              "      <td>0</td>\n",
              "      <td>0.0</td>\n",
              "      <td>0.000002</td>\n",
              "      <td>0.0</td>\n",
              "      <td>3</td>\n",
              "      <td>0.000012</td>\n",
              "      <td>0</td>\n",
              "      <td>0</td>\n",
              "      <td>0</td>\n",
              "      <td>40</td>\n",
              "      <td>99.459190</td>\n",
              "      <td>22.222221</td>\n",
              "      <td>6</td>\n",
              "      <td>6</td>\n",
              "      <td>6.0</td>\n",
              "      <td>0.0</td>\n",
              "      <td>0.0</td>\n",
              "      <td>0</td>\n",
              "      <td>0</td>\n",
              "      <td>1</td>\n",
              "      <td>0</td>\n",
              "      <td>9.0</td>\n",
              "      <td>6.0</td>\n",
              "      <td>0.0</td>\n",
              "      <td>99.98558</td>\n",
              "      <td>2</td>\n",
              "      <td>12</td>\n",
              "      <td>0</td>\n",
              "      <td>0.000000e+00</td>\n",
              "      <td>0.051880</td>\n",
              "      <td>0.000000</td>\n",
              "      <td>1</td>\n",
              "      <td>99.999977</td>\n",
              "      <td>0.0</td>\n",
              "      <td>0.0</td>\n",
              "      <td>0</td>\n",
              "      <td>0</td>\n",
              "    </tr>\n",
              "    <tr>\n",
              "      <th>1</th>\n",
              "      <td>84.007019</td>\n",
              "      <td>0.000102</td>\n",
              "      <td>1</td>\n",
              "      <td>1</td>\n",
              "      <td>6</td>\n",
              "      <td>6</td>\n",
              "      <td>6</td>\n",
              "      <td>6.0</td>\n",
              "      <td>0.0</td>\n",
              "      <td>6</td>\n",
              "      <td>6</td>\n",
              "      <td>6.0</td>\n",
              "      <td>0.0</td>\n",
              "      <td>11.196831</td>\n",
              "      <td>33.639145</td>\n",
              "      <td>0.000102</td>\n",
              "      <td>0.0</td>\n",
              "      <td>0</td>\n",
              "      <td>0</td>\n",
              "      <td>0.0</td>\n",
              "      <td>0.000000</td>\n",
              "      <td>0.0</td>\n",
              "      <td>0</td>\n",
              "      <td>0.000010</td>\n",
              "      <td>0</td>\n",
              "      <td>0</td>\n",
              "      <td>0</td>\n",
              "      <td>20</td>\n",
              "      <td>99.459198</td>\n",
              "      <td>0.305810</td>\n",
              "      <td>6</td>\n",
              "      <td>6</td>\n",
              "      <td>6.0</td>\n",
              "      <td>0.0</td>\n",
              "      <td>0.0</td>\n",
              "      <td>0</td>\n",
              "      <td>0</td>\n",
              "      <td>1</td>\n",
              "      <td>1</td>\n",
              "      <td>9.0</td>\n",
              "      <td>6.0</td>\n",
              "      <td>6.0</td>\n",
              "      <td>99.98558</td>\n",
              "      <td>1</td>\n",
              "      <td>6</td>\n",
              "      <td>1</td>\n",
              "      <td>9.153974e-07</td>\n",
              "      <td>0.045776</td>\n",
              "      <td>0.392151</td>\n",
              "      <td>0</td>\n",
              "      <td>99.999977</td>\n",
              "      <td>0.0</td>\n",
              "      <td>0.0</td>\n",
              "      <td>0</td>\n",
              "      <td>0</td>\n",
              "    </tr>\n",
              "    <tr>\n",
              "      <th>2</th>\n",
              "      <td>84.008545</td>\n",
              "      <td>0.000054</td>\n",
              "      <td>1</td>\n",
              "      <td>1</td>\n",
              "      <td>6</td>\n",
              "      <td>6</td>\n",
              "      <td>6</td>\n",
              "      <td>6.0</td>\n",
              "      <td>0.0</td>\n",
              "      <td>6</td>\n",
              "      <td>6</td>\n",
              "      <td>6.0</td>\n",
              "      <td>0.0</td>\n",
              "      <td>11.202005</td>\n",
              "      <td>33.974358</td>\n",
              "      <td>0.000054</td>\n",
              "      <td>0.0</td>\n",
              "      <td>0</td>\n",
              "      <td>0</td>\n",
              "      <td>0.0</td>\n",
              "      <td>0.000000</td>\n",
              "      <td>0.0</td>\n",
              "      <td>0</td>\n",
              "      <td>0.000010</td>\n",
              "      <td>0</td>\n",
              "      <td>0</td>\n",
              "      <td>0</td>\n",
              "      <td>20</td>\n",
              "      <td>99.459198</td>\n",
              "      <td>0.641026</td>\n",
              "      <td>6</td>\n",
              "      <td>6</td>\n",
              "      <td>6.0</td>\n",
              "      <td>0.0</td>\n",
              "      <td>0.0</td>\n",
              "      <td>0</td>\n",
              "      <td>0</td>\n",
              "      <td>1</td>\n",
              "      <td>1</td>\n",
              "      <td>9.0</td>\n",
              "      <td>6.0</td>\n",
              "      <td>6.0</td>\n",
              "      <td>99.98558</td>\n",
              "      <td>1</td>\n",
              "      <td>6</td>\n",
              "      <td>1</td>\n",
              "      <td>9.153974e-07</td>\n",
              "      <td>0.045776</td>\n",
              "      <td>0.392151</td>\n",
              "      <td>0</td>\n",
              "      <td>99.999977</td>\n",
              "      <td>0.0</td>\n",
              "      <td>0.0</td>\n",
              "      <td>0</td>\n",
              "      <td>0</td>\n",
              "    </tr>\n",
              "    <tr>\n",
              "      <th>3</th>\n",
              "      <td>70.551614</td>\n",
              "      <td>0.000039</td>\n",
              "      <td>1</td>\n",
              "      <td>1</td>\n",
              "      <td>6</td>\n",
              "      <td>6</td>\n",
              "      <td>6</td>\n",
              "      <td>6.0</td>\n",
              "      <td>0.0</td>\n",
              "      <td>6</td>\n",
              "      <td>6</td>\n",
              "      <td>6.0</td>\n",
              "      <td>0.0</td>\n",
              "      <td>11.207245</td>\n",
              "      <td>34.313725</td>\n",
              "      <td>0.000039</td>\n",
              "      <td>0.0</td>\n",
              "      <td>0</td>\n",
              "      <td>0</td>\n",
              "      <td>0.0</td>\n",
              "      <td>0.000000</td>\n",
              "      <td>0.0</td>\n",
              "      <td>0</td>\n",
              "      <td>0.000010</td>\n",
              "      <td>0</td>\n",
              "      <td>0</td>\n",
              "      <td>0</td>\n",
              "      <td>20</td>\n",
              "      <td>99.459198</td>\n",
              "      <td>0.980392</td>\n",
              "      <td>6</td>\n",
              "      <td>6</td>\n",
              "      <td>6.0</td>\n",
              "      <td>0.0</td>\n",
              "      <td>0.0</td>\n",
              "      <td>0</td>\n",
              "      <td>0</td>\n",
              "      <td>1</td>\n",
              "      <td>1</td>\n",
              "      <td>9.0</td>\n",
              "      <td>6.0</td>\n",
              "      <td>6.0</td>\n",
              "      <td>99.98558</td>\n",
              "      <td>1</td>\n",
              "      <td>6</td>\n",
              "      <td>1</td>\n",
              "      <td>9.153974e-07</td>\n",
              "      <td>0.048828</td>\n",
              "      <td>0.503540</td>\n",
              "      <td>0</td>\n",
              "      <td>99.999977</td>\n",
              "      <td>0.0</td>\n",
              "      <td>0.0</td>\n",
              "      <td>0</td>\n",
              "      <td>0</td>\n",
              "    </tr>\n",
              "    <tr>\n",
              "      <th>4</th>\n",
              "      <td>83.715572</td>\n",
              "      <td>0.000013</td>\n",
              "      <td>2</td>\n",
              "      <td>0</td>\n",
              "      <td>12</td>\n",
              "      <td>6</td>\n",
              "      <td>6</td>\n",
              "      <td>6.0</td>\n",
              "      <td>0.0</td>\n",
              "      <td>0</td>\n",
              "      <td>0</td>\n",
              "      <td>0.0</td>\n",
              "      <td>0.0</td>\n",
              "      <td>11.363636</td>\n",
              "      <td>44.444443</td>\n",
              "      <td>0.000013</td>\n",
              "      <td>0.0</td>\n",
              "      <td>0</td>\n",
              "      <td>0</td>\n",
              "      <td>0.0</td>\n",
              "      <td>0.000002</td>\n",
              "      <td>0.0</td>\n",
              "      <td>3</td>\n",
              "      <td>0.000012</td>\n",
              "      <td>0</td>\n",
              "      <td>0</td>\n",
              "      <td>0</td>\n",
              "      <td>40</td>\n",
              "      <td>99.459190</td>\n",
              "      <td>22.222221</td>\n",
              "      <td>6</td>\n",
              "      <td>6</td>\n",
              "      <td>6.0</td>\n",
              "      <td>0.0</td>\n",
              "      <td>0.0</td>\n",
              "      <td>0</td>\n",
              "      <td>0</td>\n",
              "      <td>1</td>\n",
              "      <td>0</td>\n",
              "      <td>9.0</td>\n",
              "      <td>6.0</td>\n",
              "      <td>0.0</td>\n",
              "      <td>99.98558</td>\n",
              "      <td>2</td>\n",
              "      <td>12</td>\n",
              "      <td>0</td>\n",
              "      <td>0.000000e+00</td>\n",
              "      <td>0.050354</td>\n",
              "      <td>0.000000</td>\n",
              "      <td>1</td>\n",
              "      <td>99.999977</td>\n",
              "      <td>0.0</td>\n",
              "      <td>0.0</td>\n",
              "      <td>0</td>\n",
              "      <td>0</td>\n",
              "    </tr>\n",
              "  </tbody>\n",
              "</table>\n",
              "</div>"
            ],
            "text/plain": [
              "    Destination Port   Flow Duration  ...   Idle Max   Idle Min\n",
              "0          83.718624        0.000013  ...          0          0\n",
              "1          84.007019        0.000102  ...          0          0\n",
              "2          84.008545        0.000054  ...          0          0\n",
              "3          70.551614        0.000039  ...          0          0\n",
              "4          83.715572        0.000013  ...          0          0\n",
              "\n",
              "[5 rows x 55 columns]"
            ]
          },
          "metadata": {},
          "execution_count": 165
        }
      ]
    },
    {
      "cell_type": "code",
      "metadata": {
        "id": "wRVunOVrexOL"
      },
      "source": [
        ""
      ],
      "execution_count": null,
      "outputs": []
    },
    {
      "cell_type": "code",
      "metadata": {
        "id": "mO4AjVATexRb"
      },
      "source": [
        ""
      ],
      "execution_count": null,
      "outputs": []
    },
    {
      "cell_type": "code",
      "metadata": {
        "id": "oYsV4H8fCpZ-",
        "colab": {
          "base_uri": "https://localhost:8080/"
        },
        "outputId": "33cab37a-710b-4281-dacc-9c38334ad3ee"
      },
      "source": [
        "import torch\n",
        "\n",
        "# If there's a GPU available...\n",
        "if torch.cuda.is_available():    \n",
        "\n",
        "    # Tell PyTorch to use the GPU.    \n",
        "    device = torch.device(\"cuda\")\n",
        "\n",
        "    print('There are %d GPU(s) available.' % torch.cuda.device_count())\n",
        "\n",
        "    print('We will use the GPU:', torch.cuda.get_device_name(0))\n",
        "\n",
        "# If not...\n",
        "else:\n",
        "    print('No GPU available, using the CPU instead.')\n",
        "    device = torch.device(\"cpu\")"
      ],
      "execution_count": null,
      "outputs": [
        {
          "output_type": "stream",
          "name": "stdout",
          "text": [
            "There are 1 GPU(s) available.\n",
            "We will use the GPU: Tesla K80\n"
          ]
        }
      ]
    },
    {
      "cell_type": "code",
      "metadata": {
        "id": "4r0zqOkvexUT"
      },
      "source": [
        ""
      ],
      "execution_count": null,
      "outputs": []
    },
    {
      "cell_type": "code",
      "metadata": {
        "id": "TPKS4GPIexXa"
      },
      "source": [
        ""
      ],
      "execution_count": null,
      "outputs": []
    },
    {
      "cell_type": "code",
      "metadata": {
        "id": "MnOfNUpkexZ7"
      },
      "source": [
        ""
      ],
      "execution_count": null,
      "outputs": []
    },
    {
      "cell_type": "code",
      "metadata": {
        "id": "u6DBT0GYLxO5",
        "colab": {
          "base_uri": "https://localhost:8080/"
        },
        "outputId": "a5cea972-c2f0-4a26-daf1-df659898fbe0"
      },
      "source": [
        "df.columns"
      ],
      "execution_count": null,
      "outputs": [
        {
          "output_type": "execute_result",
          "data": {
            "text/plain": [
              "Index([' Destination Port', ' Flow Duration', ' Total Fwd Packets',\n",
              "       ' Total Backward Packets', 'Total Length of Fwd Packets',\n",
              "       ' Total Length of Bwd Packets', ' Fwd Packet Length Max',\n",
              "       ' Fwd Packet Length Min', ' Fwd Packet Length Mean',\n",
              "       ' Fwd Packet Length Std', 'Bwd Packet Length Max',\n",
              "       ' Bwd Packet Length Min', ' Bwd Packet Length Mean',\n",
              "       ' Bwd Packet Length Std', 'Flow Bytes/s', ' Flow Packets/s',\n",
              "       ' Flow IAT Mean', ' Flow IAT Std', ' Flow IAT Max', ' Flow IAT Min',\n",
              "       'Fwd IAT Total', ' Fwd IAT Mean', ' Fwd IAT Std', ' Fwd IAT Max',\n",
              "       ' Fwd IAT Min', 'Bwd IAT Total', ' Bwd IAT Mean', ' Bwd IAT Std',\n",
              "       ' Bwd IAT Max', ' Bwd IAT Min', 'Fwd PSH Flags', ' Bwd PSH Flags',\n",
              "       ' Fwd URG Flags', ' Bwd URG Flags', ' Fwd Header Length',\n",
              "       ' Bwd Header Length', 'Fwd Packets/s', ' Bwd Packets/s',\n",
              "       ' Min Packet Length', ' Max Packet Length', ' Packet Length Mean',\n",
              "       ' Packet Length Std', ' Packet Length Variance', 'FIN Flag Count',\n",
              "       ' SYN Flag Count', ' RST Flag Count', ' PSH Flag Count',\n",
              "       ' ACK Flag Count', ' URG Flag Count', ' CWE Flag Count',\n",
              "       ' ECE Flag Count', ' Down/Up Ratio', ' Average Packet Size',\n",
              "       ' Avg Fwd Segment Size', ' Avg Bwd Segment Size',\n",
              "       ' Fwd Header Length.1', 'Fwd Avg Bytes/Bulk', ' Fwd Avg Packets/Bulk',\n",
              "       ' Fwd Avg Bulk Rate', ' Bwd Avg Bytes/Bulk', ' Bwd Avg Packets/Bulk',\n",
              "       'Bwd Avg Bulk Rate', 'Subflow Fwd Packets', ' Subflow Fwd Bytes',\n",
              "       ' Subflow Bwd Packets', ' Subflow Bwd Bytes', 'Init_Win_bytes_forward',\n",
              "       ' Init_Win_bytes_backward', ' act_data_pkt_fwd',\n",
              "       ' min_seg_size_forward', 'Active Mean', ' Active Std', ' Active Max',\n",
              "       ' Active Min', 'Idle Mean', ' Idle Std', ' Idle Max', ' Idle Min',\n",
              "       ' Label'],\n",
              "      dtype='object')"
            ]
          },
          "metadata": {},
          "execution_count": 8
        }
      ]
    },
    {
      "cell_type": "code",
      "metadata": {
        "colab": {
          "base_uri": "https://localhost:8080/"
        },
        "id": "hNEoOoA_w6Zv",
        "outputId": "a43de43b-b959-462d-9632-c2dd26eba6db"
      },
      "source": [
        "# new_df = \n",
        "df.shape\n",
        "X.columns\n",
        "# data = {}\n",
        "# for column_name, rows in df.iteritems():\n",
        "    # data[column_name] = rows.to_list()\n",
        "# \n",
        "# print(data)\n",
        "# X.shape\n",
        "# len(target)"
      ],
      "execution_count": null,
      "outputs": [
        {
          "output_type": "execute_result",
          "data": {
            "text/plain": [
              "Index([' Destination Port', ' Flow Duration', ' Total Fwd Packets',\n",
              "       ' Total Backward Packets', 'Total Length of Fwd Packets',\n",
              "       ' Fwd Packet Length Max', ' Fwd Packet Length Min',\n",
              "       ' Fwd Packet Length Mean', ' Fwd Packet Length Std',\n",
              "       'Bwd Packet Length Max', ' Bwd Packet Length Min',\n",
              "       ' Bwd Packet Length Mean', ' Bwd Packet Length Std', 'Flow Bytes/s',\n",
              "       ' Flow Packets/s', ' Flow IAT Mean', ' Flow IAT Std', ' Flow IAT Max',\n",
              "       ' Flow IAT Min', 'Fwd IAT Total', ' Fwd IAT Mean', ' Fwd IAT Std',\n",
              "       ' Fwd IAT Max', ' Fwd IAT Min', 'Bwd IAT Total', ' Bwd IAT Max',\n",
              "       'Fwd PSH Flags', ' Fwd Header Length', ' Bwd Header Length',\n",
              "       'Fwd Packets/s', ' Min Packet Length', ' Max Packet Length',\n",
              "       ' Packet Length Mean', ' Packet Length Std', ' Packet Length Variance',\n",
              "       'FIN Flag Count', ' PSH Flag Count', ' ACK Flag Count',\n",
              "       ' URG Flag Count', ' Average Packet Size', ' Avg Fwd Segment Size',\n",
              "       ' Avg Bwd Segment Size', ' Fwd Header Length.1', 'Subflow Fwd Packets',\n",
              "       ' Subflow Fwd Bytes', ' Subflow Bwd Packets', ' Subflow Bwd Bytes',\n",
              "       'Init_Win_bytes_forward', ' Init_Win_bytes_backward',\n",
              "       ' act_data_pkt_fwd', ' min_seg_size_forward', 'Idle Mean', ' Idle Std',\n",
              "       ' Idle Max', ' Idle Min'],\n",
              "      dtype='object')"
            ]
          },
          "metadata": {},
          "execution_count": 169
        }
      ]
    },
    {
      "cell_type": "code",
      "metadata": {
        "id": "ijZu4CDJLw_A",
        "colab": {
          "base_uri": "https://localhost:8080/",
          "height": 237
        },
        "outputId": "9c25fb61-05a8-4fb5-b107-e2f33d9fe71c"
      },
      "source": [
        "# /string = ''\n",
        "ll = []\n",
        "sp = ' '\n",
        "for index, row in X.iterrows():\n",
        "    ll.append(\n",
        "      str(row[' Flow Duration']) \n",
        "     + sp + str(row[' Total Fwd Packets'])\n",
        "     + sp + str(row[' Destination Port']) \n",
        "    #  + sp + str(row[' Flow Duration'])  \n",
        "     + sp + str(row[' Total Fwd Packets']) \n",
        "     + sp + str(row[' Total Backward Packets']) \n",
        "     + sp + str(row['Total Length of Fwd Packets'])\n",
        "    #  + sp + str(row[' Total Length of Bwd Packets'])\n",
        "     + sp + str(row[' Fwd Packet Length Max'])\n",
        "     + sp + str(row[' Fwd Packet Length Min'])\n",
        "     + sp + str(row[' Fwd Packet Length Mean'])  \n",
        "     + sp + str(row[' Fwd Packet Length Std' ])  \n",
        "     + sp + str(row['Bwd Packet Length Max']) \n",
        "     + sp + str(row[' Bwd Packet Length Min']) \n",
        "     + sp + str(row[' Bwd Packet Length Mean'])\n",
        "     + sp + str(row[' Bwd Packet Length Std'])\n",
        "     + sp + str(row['Flow Bytes/s']) \n",
        "     + sp + str(row[' Flow Packets/s'])    \n",
        "     + sp + str(row[' Flow IAT Mean']) \n",
        "     + sp + str(row[' Flow IAT Std']) \n",
        "     + sp + str(row[' Flow IAT Max']) \n",
        "     + sp + str(row[' Flow IAT Min']) \n",
        "     + sp + str(row['Fwd IAT Total']) \n",
        "     + sp + str(row[' Fwd IAT Mean']) \n",
        "     + sp + str(row[' Fwd IAT Std']) \n",
        "     + sp + str(row[' Fwd IAT Max']) \n",
        "     + sp + str(row[' Fwd IAT Min']) \n",
        "     + sp + str(row['Bwd IAT Total']) \n",
        "    #  + sp + str(row[' Bwd IAT Mean']) \n",
        "    #  + sp + str(row[' Bwd IAT Std']) \n",
        "     + sp + str(row[' Bwd IAT Max']) \n",
        "     + sp + str(row[' Bwd IAT Min']) \n",
        "     + sp + str(row['Fwd PSH Flags'])  \n",
        "     + sp + str(row[' Fwd URG Flags']) \n",
        "     + sp + str(row[' Fwd Header Length']) \n",
        "     + sp + str(row[' Bwd Header Length']) \n",
        "     + sp + str(row['Fwd Packets/s']) \n",
        "     + sp + str(row[' Bwd Packets/s']) \n",
        "     + sp + str(row[' Min Packet Length']) \n",
        "     + sp + str(row[' Max Packet Length']) \n",
        "     + sp + str(row[' Packet Length Mean'])\n",
        "     + sp + str(row[' Packet Length Std']) \n",
        "     + sp + str(row[' Packet Length Variance'])\n",
        "     + sp + str(row['FIN Flag Count'])  \n",
        "     + sp + str(row[' PSH Flag Count' ]) \n",
        "     + sp + str(row[' ACK Flag Count']) \n",
        "     + sp + str(row[' URG Flag Count']) \n",
        "    #  + sp + str(row[' Down/Up Ratio']) \n",
        "     + sp + str(row[' Average Packet Size'])  \n",
        "     + sp + str(row[' Avg Fwd Segment Size']) \n",
        "     + sp + str(row[' Avg Bwd Segment Size']) \n",
        "     + sp + str(row[' Fwd Header Length.1']) \n",
        "     + sp + str(row['Subflow Fwd Packets'])       \n",
        "     + sp + str(row[' Subflow Fwd Bytes'])        \n",
        "     + sp + str(row[' Subflow Bwd Packets'])      \n",
        "     + sp + str(row[' Subflow Bwd Bytes'])        \n",
        "     + sp + str(row['Init_Win_bytes_forward'])    \n",
        "     + sp + str(row[' Init_Win_bytes_backward']) \n",
        "     + sp + str(row[' act_data_pkt_fwd']) \n",
        "     + sp + str(row[' min_seg_size_forward'])\n",
        "     + sp + str(row['Active Mean'])  \n",
        "     + sp + str(row[' Active Std' ])  \n",
        "     + sp + str(row[' Active Max']) \n",
        "     + sp + str(row[' Active Min']) \n",
        "     + sp + str(row['Idle Mean']) \n",
        "     + sp + str(row[' Idle Std']) \n",
        "     + sp + str(row[' Idle Max']) \n",
        "     + sp + str(row[' Idle Min'])\n",
        "    )\n",
        "\n",
        "    # print(string)\n",
        "    # ll.append(string)\n",
        "        "
      ],
      "execution_count": null,
      "outputs": [
        {
          "output_type": "error",
          "ename": "NameError",
          "evalue": "ignored",
          "traceback": [
            "\u001b[0;31m---------------------------------------------------------------------------\u001b[0m",
            "\u001b[0;31mNameError\u001b[0m                                 Traceback (most recent call last)",
            "\u001b[0;32m<ipython-input-1-20e47aad2c07>\u001b[0m in \u001b[0;36m<module>\u001b[0;34m()\u001b[0m\n\u001b[1;32m      2\u001b[0m \u001b[0mll\u001b[0m \u001b[0;34m=\u001b[0m \u001b[0;34m[\u001b[0m\u001b[0;34m]\u001b[0m\u001b[0;34m\u001b[0m\u001b[0;34m\u001b[0m\u001b[0m\n\u001b[1;32m      3\u001b[0m \u001b[0msp\u001b[0m \u001b[0;34m=\u001b[0m \u001b[0;34m' '\u001b[0m\u001b[0;34m\u001b[0m\u001b[0;34m\u001b[0m\u001b[0m\n\u001b[0;32m----> 4\u001b[0;31m \u001b[0;32mfor\u001b[0m \u001b[0mindex\u001b[0m\u001b[0;34m,\u001b[0m \u001b[0mrow\u001b[0m \u001b[0;32min\u001b[0m \u001b[0mdf\u001b[0m\u001b[0;34m.\u001b[0m\u001b[0miterrows\u001b[0m\u001b[0;34m(\u001b[0m\u001b[0;34m)\u001b[0m\u001b[0;34m:\u001b[0m\u001b[0;34m\u001b[0m\u001b[0;34m\u001b[0m\u001b[0m\n\u001b[0m\u001b[1;32m      5\u001b[0m     ll.append(\n\u001b[1;32m      6\u001b[0m       \u001b[0mstr\u001b[0m\u001b[0;34m(\u001b[0m\u001b[0mrow\u001b[0m\u001b[0;34m[\u001b[0m\u001b[0;34m' Flow Duration'\u001b[0m\u001b[0;34m]\u001b[0m\u001b[0;34m)\u001b[0m\u001b[0;34m\u001b[0m\u001b[0;34m\u001b[0m\u001b[0m\n",
            "\u001b[0;31mNameError\u001b[0m: name 'df' is not defined"
          ]
        }
      ]
    },
    {
      "cell_type": "code",
      "metadata": {
        "colab": {
          "base_uri": "https://localhost:8080/",
          "height": 573
        },
        "id": "mkwmhPLbE5dG",
        "outputId": "b076cf77-0499-4da0-a68f-2ea8e83fbda0"
      },
      "source": [
        "X[' Bwd IAT Mean']"
      ],
      "execution_count": null,
      "outputs": [
        {
          "output_type": "error",
          "ename": "KeyError",
          "evalue": "ignored",
          "traceback": [
            "\u001b[0;31m---------------------------------------------------------------------------\u001b[0m",
            "\u001b[0;31mKeyError\u001b[0m                                  Traceback (most recent call last)",
            "\u001b[0;32m/usr/local/lib/python3.7/dist-packages/pandas/core/indexes/base.py\u001b[0m in \u001b[0;36mget_loc\u001b[0;34m(self, key, method, tolerance)\u001b[0m\n\u001b[1;32m   2897\u001b[0m             \u001b[0;32mtry\u001b[0m\u001b[0;34m:\u001b[0m\u001b[0;34m\u001b[0m\u001b[0;34m\u001b[0m\u001b[0m\n\u001b[0;32m-> 2898\u001b[0;31m                 \u001b[0;32mreturn\u001b[0m \u001b[0mself\u001b[0m\u001b[0;34m.\u001b[0m\u001b[0m_engine\u001b[0m\u001b[0;34m.\u001b[0m\u001b[0mget_loc\u001b[0m\u001b[0;34m(\u001b[0m\u001b[0mcasted_key\u001b[0m\u001b[0;34m)\u001b[0m\u001b[0;34m\u001b[0m\u001b[0;34m\u001b[0m\u001b[0m\n\u001b[0m\u001b[1;32m   2899\u001b[0m             \u001b[0;32mexcept\u001b[0m \u001b[0mKeyError\u001b[0m \u001b[0;32mas\u001b[0m \u001b[0merr\u001b[0m\u001b[0;34m:\u001b[0m\u001b[0;34m\u001b[0m\u001b[0;34m\u001b[0m\u001b[0m\n",
            "\u001b[0;32mpandas/_libs/index.pyx\u001b[0m in \u001b[0;36mpandas._libs.index.IndexEngine.get_loc\u001b[0;34m()\u001b[0m\n",
            "\u001b[0;32mpandas/_libs/index.pyx\u001b[0m in \u001b[0;36mpandas._libs.index.IndexEngine.get_loc\u001b[0;34m()\u001b[0m\n",
            "\u001b[0;32mpandas/_libs/hashtable_class_helper.pxi\u001b[0m in \u001b[0;36mpandas._libs.hashtable.PyObjectHashTable.get_item\u001b[0;34m()\u001b[0m\n",
            "\u001b[0;32mpandas/_libs/hashtable_class_helper.pxi\u001b[0m in \u001b[0;36mpandas._libs.hashtable.PyObjectHashTable.get_item\u001b[0;34m()\u001b[0m\n",
            "\u001b[0;31mKeyError\u001b[0m: ' Bwd IAT Mean'",
            "\nThe above exception was the direct cause of the following exception:\n",
            "\u001b[0;31mKeyError\u001b[0m                                  Traceback (most recent call last)",
            "\u001b[0;32m<ipython-input-113-84d94a2f37bf>\u001b[0m in \u001b[0;36m<module>\u001b[0;34m()\u001b[0m\n\u001b[0;32m----> 1\u001b[0;31m \u001b[0mX\u001b[0m\u001b[0;34m[\u001b[0m\u001b[0;34m' Bwd IAT Mean'\u001b[0m\u001b[0;34m]\u001b[0m\u001b[0;34m\u001b[0m\u001b[0;34m\u001b[0m\u001b[0m\n\u001b[0m",
            "\u001b[0;32m/usr/local/lib/python3.7/dist-packages/pandas/core/frame.py\u001b[0m in \u001b[0;36m__getitem__\u001b[0;34m(self, key)\u001b[0m\n\u001b[1;32m   2904\u001b[0m             \u001b[0;32mif\u001b[0m \u001b[0mself\u001b[0m\u001b[0;34m.\u001b[0m\u001b[0mcolumns\u001b[0m\u001b[0;34m.\u001b[0m\u001b[0mnlevels\u001b[0m \u001b[0;34m>\u001b[0m \u001b[0;36m1\u001b[0m\u001b[0;34m:\u001b[0m\u001b[0;34m\u001b[0m\u001b[0;34m\u001b[0m\u001b[0m\n\u001b[1;32m   2905\u001b[0m                 \u001b[0;32mreturn\u001b[0m \u001b[0mself\u001b[0m\u001b[0;34m.\u001b[0m\u001b[0m_getitem_multilevel\u001b[0m\u001b[0;34m(\u001b[0m\u001b[0mkey\u001b[0m\u001b[0;34m)\u001b[0m\u001b[0;34m\u001b[0m\u001b[0;34m\u001b[0m\u001b[0m\n\u001b[0;32m-> 2906\u001b[0;31m             \u001b[0mindexer\u001b[0m \u001b[0;34m=\u001b[0m \u001b[0mself\u001b[0m\u001b[0;34m.\u001b[0m\u001b[0mcolumns\u001b[0m\u001b[0;34m.\u001b[0m\u001b[0mget_loc\u001b[0m\u001b[0;34m(\u001b[0m\u001b[0mkey\u001b[0m\u001b[0;34m)\u001b[0m\u001b[0;34m\u001b[0m\u001b[0;34m\u001b[0m\u001b[0m\n\u001b[0m\u001b[1;32m   2907\u001b[0m             \u001b[0;32mif\u001b[0m \u001b[0mis_integer\u001b[0m\u001b[0;34m(\u001b[0m\u001b[0mindexer\u001b[0m\u001b[0;34m)\u001b[0m\u001b[0;34m:\u001b[0m\u001b[0;34m\u001b[0m\u001b[0;34m\u001b[0m\u001b[0m\n\u001b[1;32m   2908\u001b[0m                 \u001b[0mindexer\u001b[0m \u001b[0;34m=\u001b[0m \u001b[0;34m[\u001b[0m\u001b[0mindexer\u001b[0m\u001b[0;34m]\u001b[0m\u001b[0;34m\u001b[0m\u001b[0;34m\u001b[0m\u001b[0m\n",
            "\u001b[0;32m/usr/local/lib/python3.7/dist-packages/pandas/core/indexes/base.py\u001b[0m in \u001b[0;36mget_loc\u001b[0;34m(self, key, method, tolerance)\u001b[0m\n\u001b[1;32m   2898\u001b[0m                 \u001b[0;32mreturn\u001b[0m \u001b[0mself\u001b[0m\u001b[0;34m.\u001b[0m\u001b[0m_engine\u001b[0m\u001b[0;34m.\u001b[0m\u001b[0mget_loc\u001b[0m\u001b[0;34m(\u001b[0m\u001b[0mcasted_key\u001b[0m\u001b[0;34m)\u001b[0m\u001b[0;34m\u001b[0m\u001b[0;34m\u001b[0m\u001b[0m\n\u001b[1;32m   2899\u001b[0m             \u001b[0;32mexcept\u001b[0m \u001b[0mKeyError\u001b[0m \u001b[0;32mas\u001b[0m \u001b[0merr\u001b[0m\u001b[0;34m:\u001b[0m\u001b[0;34m\u001b[0m\u001b[0;34m\u001b[0m\u001b[0m\n\u001b[0;32m-> 2900\u001b[0;31m                 \u001b[0;32mraise\u001b[0m \u001b[0mKeyError\u001b[0m\u001b[0;34m(\u001b[0m\u001b[0mkey\u001b[0m\u001b[0;34m)\u001b[0m \u001b[0;32mfrom\u001b[0m \u001b[0merr\u001b[0m\u001b[0;34m\u001b[0m\u001b[0;34m\u001b[0m\u001b[0m\n\u001b[0m\u001b[1;32m   2901\u001b[0m \u001b[0;34m\u001b[0m\u001b[0m\n\u001b[1;32m   2902\u001b[0m         \u001b[0;32mif\u001b[0m \u001b[0mtolerance\u001b[0m \u001b[0;32mis\u001b[0m \u001b[0;32mnot\u001b[0m \u001b[0;32mNone\u001b[0m\u001b[0;34m:\u001b[0m\u001b[0;34m\u001b[0m\u001b[0;34m\u001b[0m\u001b[0m\n",
            "\u001b[0;31mKeyError\u001b[0m: ' Bwd IAT Mean'"
          ]
        }
      ]
    },
    {
      "cell_type": "code",
      "metadata": {
        "colab": {
          "base_uri": "https://localhost:8080/",
          "height": 35
        },
        "id": "IRmNqthRdgHE",
        "outputId": "519594e4-3417-4942-a014-8f4c1aea2a1b"
      },
      "source": [
        "# string\n",
        "# df.new_col = string\n",
        "len(ll[3])\n",
        "ll[1]"
      ],
      "execution_count": null,
      "outputs": [
        {
          "output_type": "execute_result",
          "data": {
            "application/vnd.google.colaboratory.intrinsic+json": {
              "type": "string"
            },
            "text/plain": [
              "'1091550541091166666.00.0666.00.0110091.743118348.62385109.00.010910900.00.00000.00.0000020209174.3119269999999174.311926999999666.00.00.0001119.06.06.0201616292560200.00.0000.00.000'"
            ]
          },
          "metadata": {},
          "execution_count": 16
        }
      ]
    },
    {
      "cell_type": "code",
      "metadata": {
        "id": "C86EPfu2wFHJ"
      },
      "source": [
        "df['new']"
      ],
      "execution_count": null,
      "outputs": []
    },
    {
      "cell_type": "code",
      "metadata": {
        "colab": {
          "base_uri": "https://localhost:8080/",
          "height": 278
        },
        "id": "tEJcTnZThhYp",
        "outputId": "bcf57146-0327-4fd2-af31-b5925866030b"
      },
      "source": [
        "df.head(5)"
      ],
      "execution_count": null,
      "outputs": [
        {
          "output_type": "execute_result",
          "data": {
            "text/html": [
              "<div>\n",
              "<style scoped>\n",
              "    .dataframe tbody tr th:only-of-type {\n",
              "        vertical-align: middle;\n",
              "    }\n",
              "\n",
              "    .dataframe tbody tr th {\n",
              "        vertical-align: top;\n",
              "    }\n",
              "\n",
              "    .dataframe thead th {\n",
              "        text-align: right;\n",
              "    }\n",
              "</style>\n",
              "<table border=\"1\" class=\"dataframe\">\n",
              "  <thead>\n",
              "    <tr style=\"text-align: right;\">\n",
              "      <th></th>\n",
              "      <th>Destination Port</th>\n",
              "      <th>Flow Duration</th>\n",
              "      <th>Total Fwd Packets</th>\n",
              "      <th>Total Backward Packets</th>\n",
              "      <th>Total Length of Fwd Packets</th>\n",
              "      <th>Total Length of Bwd Packets</th>\n",
              "      <th>Fwd Packet Length Max</th>\n",
              "      <th>Fwd Packet Length Min</th>\n",
              "      <th>Fwd Packet Length Mean</th>\n",
              "      <th>Fwd Packet Length Std</th>\n",
              "      <th>Bwd Packet Length Max</th>\n",
              "      <th>Bwd Packet Length Min</th>\n",
              "      <th>Bwd Packet Length Mean</th>\n",
              "      <th>Bwd Packet Length Std</th>\n",
              "      <th>Flow Bytes/s</th>\n",
              "      <th>Flow Packets/s</th>\n",
              "      <th>Flow IAT Mean</th>\n",
              "      <th>Flow IAT Std</th>\n",
              "      <th>Flow IAT Max</th>\n",
              "      <th>Flow IAT Min</th>\n",
              "      <th>Fwd IAT Total</th>\n",
              "      <th>Fwd IAT Mean</th>\n",
              "      <th>Fwd IAT Std</th>\n",
              "      <th>Fwd IAT Max</th>\n",
              "      <th>Fwd IAT Min</th>\n",
              "      <th>Bwd IAT Total</th>\n",
              "      <th>Bwd IAT Mean</th>\n",
              "      <th>Bwd IAT Std</th>\n",
              "      <th>Bwd IAT Max</th>\n",
              "      <th>Bwd IAT Min</th>\n",
              "      <th>Fwd PSH Flags</th>\n",
              "      <th>Fwd URG Flags</th>\n",
              "      <th>Fwd Header Length</th>\n",
              "      <th>Bwd Header Length</th>\n",
              "      <th>Fwd Packets/s</th>\n",
              "      <th>Bwd Packets/s</th>\n",
              "      <th>Min Packet Length</th>\n",
              "      <th>Max Packet Length</th>\n",
              "      <th>Packet Length Mean</th>\n",
              "      <th>Packet Length Std</th>\n",
              "      <th>Packet Length Variance</th>\n",
              "      <th>FIN Flag Count</th>\n",
              "      <th>PSH Flag Count</th>\n",
              "      <th>ACK Flag Count</th>\n",
              "      <th>URG Flag Count</th>\n",
              "      <th>Down/Up Ratio</th>\n",
              "      <th>Average Packet Size</th>\n",
              "      <th>Avg Fwd Segment Size</th>\n",
              "      <th>Avg Bwd Segment Size</th>\n",
              "      <th>Fwd Header Length.1</th>\n",
              "      <th>Subflow Fwd Packets</th>\n",
              "      <th>Subflow Fwd Bytes</th>\n",
              "      <th>Subflow Bwd Packets</th>\n",
              "      <th>Subflow Bwd Bytes</th>\n",
              "      <th>Init_Win_bytes_forward</th>\n",
              "      <th>Init_Win_bytes_backward</th>\n",
              "      <th>act_data_pkt_fwd</th>\n",
              "      <th>min_seg_size_forward</th>\n",
              "      <th>Active Mean</th>\n",
              "      <th>Active Std</th>\n",
              "      <th>Active Max</th>\n",
              "      <th>Active Min</th>\n",
              "      <th>Idle Mean</th>\n",
              "      <th>Idle Std</th>\n",
              "      <th>Idle Max</th>\n",
              "      <th>Idle Min</th>\n",
              "      <th>Label</th>\n",
              "    </tr>\n",
              "  </thead>\n",
              "  <tbody>\n",
              "    <tr>\n",
              "      <th>0</th>\n",
              "      <td>54865</td>\n",
              "      <td>3</td>\n",
              "      <td>2</td>\n",
              "      <td>0</td>\n",
              "      <td>12</td>\n",
              "      <td>0</td>\n",
              "      <td>6</td>\n",
              "      <td>6</td>\n",
              "      <td>6.0</td>\n",
              "      <td>0.0</td>\n",
              "      <td>0</td>\n",
              "      <td>0</td>\n",
              "      <td>0.0</td>\n",
              "      <td>0.0</td>\n",
              "      <td>4.000000e+06</td>\n",
              "      <td>666666.66670</td>\n",
              "      <td>3.0</td>\n",
              "      <td>0.0</td>\n",
              "      <td>3</td>\n",
              "      <td>3</td>\n",
              "      <td>3</td>\n",
              "      <td>3.0</td>\n",
              "      <td>0.0</td>\n",
              "      <td>3</td>\n",
              "      <td>3</td>\n",
              "      <td>0</td>\n",
              "      <td>0.0</td>\n",
              "      <td>0.0</td>\n",
              "      <td>0</td>\n",
              "      <td>0</td>\n",
              "      <td>0</td>\n",
              "      <td>0</td>\n",
              "      <td>40</td>\n",
              "      <td>0</td>\n",
              "      <td>666666.666700</td>\n",
              "      <td>0.000000</td>\n",
              "      <td>6</td>\n",
              "      <td>6</td>\n",
              "      <td>6.0</td>\n",
              "      <td>0.0</td>\n",
              "      <td>0.0</td>\n",
              "      <td>0</td>\n",
              "      <td>0</td>\n",
              "      <td>1</td>\n",
              "      <td>0</td>\n",
              "      <td>0</td>\n",
              "      <td>9.0</td>\n",
              "      <td>6.0</td>\n",
              "      <td>0.0</td>\n",
              "      <td>40</td>\n",
              "      <td>2</td>\n",
              "      <td>12</td>\n",
              "      <td>0</td>\n",
              "      <td>0</td>\n",
              "      <td>33</td>\n",
              "      <td>-1</td>\n",
              "      <td>1</td>\n",
              "      <td>20</td>\n",
              "      <td>0.0</td>\n",
              "      <td>0.0</td>\n",
              "      <td>0</td>\n",
              "      <td>0</td>\n",
              "      <td>0.0</td>\n",
              "      <td>0.0</td>\n",
              "      <td>0</td>\n",
              "      <td>0</td>\n",
              "      <td>BENIGN</td>\n",
              "    </tr>\n",
              "    <tr>\n",
              "      <th>1</th>\n",
              "      <td>55054</td>\n",
              "      <td>109</td>\n",
              "      <td>1</td>\n",
              "      <td>1</td>\n",
              "      <td>6</td>\n",
              "      <td>6</td>\n",
              "      <td>6</td>\n",
              "      <td>6</td>\n",
              "      <td>6.0</td>\n",
              "      <td>0.0</td>\n",
              "      <td>6</td>\n",
              "      <td>6</td>\n",
              "      <td>6.0</td>\n",
              "      <td>0.0</td>\n",
              "      <td>1.100917e+05</td>\n",
              "      <td>18348.62385</td>\n",
              "      <td>109.0</td>\n",
              "      <td>0.0</td>\n",
              "      <td>109</td>\n",
              "      <td>109</td>\n",
              "      <td>0</td>\n",
              "      <td>0.0</td>\n",
              "      <td>0.0</td>\n",
              "      <td>0</td>\n",
              "      <td>0</td>\n",
              "      <td>0</td>\n",
              "      <td>0.0</td>\n",
              "      <td>0.0</td>\n",
              "      <td>0</td>\n",
              "      <td>0</td>\n",
              "      <td>0</td>\n",
              "      <td>0</td>\n",
              "      <td>20</td>\n",
              "      <td>20</td>\n",
              "      <td>9174.311927</td>\n",
              "      <td>9174.311927</td>\n",
              "      <td>6</td>\n",
              "      <td>6</td>\n",
              "      <td>6.0</td>\n",
              "      <td>0.0</td>\n",
              "      <td>0.0</td>\n",
              "      <td>0</td>\n",
              "      <td>0</td>\n",
              "      <td>1</td>\n",
              "      <td>1</td>\n",
              "      <td>1</td>\n",
              "      <td>9.0</td>\n",
              "      <td>6.0</td>\n",
              "      <td>6.0</td>\n",
              "      <td>20</td>\n",
              "      <td>1</td>\n",
              "      <td>6</td>\n",
              "      <td>1</td>\n",
              "      <td>6</td>\n",
              "      <td>29</td>\n",
              "      <td>256</td>\n",
              "      <td>0</td>\n",
              "      <td>20</td>\n",
              "      <td>0.0</td>\n",
              "      <td>0.0</td>\n",
              "      <td>0</td>\n",
              "      <td>0</td>\n",
              "      <td>0.0</td>\n",
              "      <td>0.0</td>\n",
              "      <td>0</td>\n",
              "      <td>0</td>\n",
              "      <td>BENIGN</td>\n",
              "    </tr>\n",
              "    <tr>\n",
              "      <th>2</th>\n",
              "      <td>55055</td>\n",
              "      <td>52</td>\n",
              "      <td>1</td>\n",
              "      <td>1</td>\n",
              "      <td>6</td>\n",
              "      <td>6</td>\n",
              "      <td>6</td>\n",
              "      <td>6</td>\n",
              "      <td>6.0</td>\n",
              "      <td>0.0</td>\n",
              "      <td>6</td>\n",
              "      <td>6</td>\n",
              "      <td>6.0</td>\n",
              "      <td>0.0</td>\n",
              "      <td>2.307692e+05</td>\n",
              "      <td>38461.53846</td>\n",
              "      <td>52.0</td>\n",
              "      <td>0.0</td>\n",
              "      <td>52</td>\n",
              "      <td>52</td>\n",
              "      <td>0</td>\n",
              "      <td>0.0</td>\n",
              "      <td>0.0</td>\n",
              "      <td>0</td>\n",
              "      <td>0</td>\n",
              "      <td>0</td>\n",
              "      <td>0.0</td>\n",
              "      <td>0.0</td>\n",
              "      <td>0</td>\n",
              "      <td>0</td>\n",
              "      <td>0</td>\n",
              "      <td>0</td>\n",
              "      <td>20</td>\n",
              "      <td>20</td>\n",
              "      <td>19230.769230</td>\n",
              "      <td>19230.769230</td>\n",
              "      <td>6</td>\n",
              "      <td>6</td>\n",
              "      <td>6.0</td>\n",
              "      <td>0.0</td>\n",
              "      <td>0.0</td>\n",
              "      <td>0</td>\n",
              "      <td>0</td>\n",
              "      <td>1</td>\n",
              "      <td>1</td>\n",
              "      <td>1</td>\n",
              "      <td>9.0</td>\n",
              "      <td>6.0</td>\n",
              "      <td>6.0</td>\n",
              "      <td>20</td>\n",
              "      <td>1</td>\n",
              "      <td>6</td>\n",
              "      <td>1</td>\n",
              "      <td>6</td>\n",
              "      <td>29</td>\n",
              "      <td>256</td>\n",
              "      <td>0</td>\n",
              "      <td>20</td>\n",
              "      <td>0.0</td>\n",
              "      <td>0.0</td>\n",
              "      <td>0</td>\n",
              "      <td>0</td>\n",
              "      <td>0.0</td>\n",
              "      <td>0.0</td>\n",
              "      <td>0</td>\n",
              "      <td>0</td>\n",
              "      <td>BENIGN</td>\n",
              "    </tr>\n",
              "    <tr>\n",
              "      <th>3</th>\n",
              "      <td>46236</td>\n",
              "      <td>34</td>\n",
              "      <td>1</td>\n",
              "      <td>1</td>\n",
              "      <td>6</td>\n",
              "      <td>6</td>\n",
              "      <td>6</td>\n",
              "      <td>6</td>\n",
              "      <td>6.0</td>\n",
              "      <td>0.0</td>\n",
              "      <td>6</td>\n",
              "      <td>6</td>\n",
              "      <td>6.0</td>\n",
              "      <td>0.0</td>\n",
              "      <td>3.529412e+05</td>\n",
              "      <td>58823.52941</td>\n",
              "      <td>34.0</td>\n",
              "      <td>0.0</td>\n",
              "      <td>34</td>\n",
              "      <td>34</td>\n",
              "      <td>0</td>\n",
              "      <td>0.0</td>\n",
              "      <td>0.0</td>\n",
              "      <td>0</td>\n",
              "      <td>0</td>\n",
              "      <td>0</td>\n",
              "      <td>0.0</td>\n",
              "      <td>0.0</td>\n",
              "      <td>0</td>\n",
              "      <td>0</td>\n",
              "      <td>0</td>\n",
              "      <td>0</td>\n",
              "      <td>20</td>\n",
              "      <td>20</td>\n",
              "      <td>29411.764710</td>\n",
              "      <td>29411.764710</td>\n",
              "      <td>6</td>\n",
              "      <td>6</td>\n",
              "      <td>6.0</td>\n",
              "      <td>0.0</td>\n",
              "      <td>0.0</td>\n",
              "      <td>0</td>\n",
              "      <td>0</td>\n",
              "      <td>1</td>\n",
              "      <td>1</td>\n",
              "      <td>1</td>\n",
              "      <td>9.0</td>\n",
              "      <td>6.0</td>\n",
              "      <td>6.0</td>\n",
              "      <td>20</td>\n",
              "      <td>1</td>\n",
              "      <td>6</td>\n",
              "      <td>1</td>\n",
              "      <td>6</td>\n",
              "      <td>31</td>\n",
              "      <td>329</td>\n",
              "      <td>0</td>\n",
              "      <td>20</td>\n",
              "      <td>0.0</td>\n",
              "      <td>0.0</td>\n",
              "      <td>0</td>\n",
              "      <td>0</td>\n",
              "      <td>0.0</td>\n",
              "      <td>0.0</td>\n",
              "      <td>0</td>\n",
              "      <td>0</td>\n",
              "      <td>BENIGN</td>\n",
              "    </tr>\n",
              "    <tr>\n",
              "      <th>4</th>\n",
              "      <td>54863</td>\n",
              "      <td>3</td>\n",
              "      <td>2</td>\n",
              "      <td>0</td>\n",
              "      <td>12</td>\n",
              "      <td>0</td>\n",
              "      <td>6</td>\n",
              "      <td>6</td>\n",
              "      <td>6.0</td>\n",
              "      <td>0.0</td>\n",
              "      <td>0</td>\n",
              "      <td>0</td>\n",
              "      <td>0.0</td>\n",
              "      <td>0.0</td>\n",
              "      <td>4.000000e+06</td>\n",
              "      <td>666666.66670</td>\n",
              "      <td>3.0</td>\n",
              "      <td>0.0</td>\n",
              "      <td>3</td>\n",
              "      <td>3</td>\n",
              "      <td>3</td>\n",
              "      <td>3.0</td>\n",
              "      <td>0.0</td>\n",
              "      <td>3</td>\n",
              "      <td>3</td>\n",
              "      <td>0</td>\n",
              "      <td>0.0</td>\n",
              "      <td>0.0</td>\n",
              "      <td>0</td>\n",
              "      <td>0</td>\n",
              "      <td>0</td>\n",
              "      <td>0</td>\n",
              "      <td>40</td>\n",
              "      <td>0</td>\n",
              "      <td>666666.666700</td>\n",
              "      <td>0.000000</td>\n",
              "      <td>6</td>\n",
              "      <td>6</td>\n",
              "      <td>6.0</td>\n",
              "      <td>0.0</td>\n",
              "      <td>0.0</td>\n",
              "      <td>0</td>\n",
              "      <td>0</td>\n",
              "      <td>1</td>\n",
              "      <td>0</td>\n",
              "      <td>0</td>\n",
              "      <td>9.0</td>\n",
              "      <td>6.0</td>\n",
              "      <td>0.0</td>\n",
              "      <td>40</td>\n",
              "      <td>2</td>\n",
              "      <td>12</td>\n",
              "      <td>0</td>\n",
              "      <td>0</td>\n",
              "      <td>32</td>\n",
              "      <td>-1</td>\n",
              "      <td>1</td>\n",
              "      <td>20</td>\n",
              "      <td>0.0</td>\n",
              "      <td>0.0</td>\n",
              "      <td>0</td>\n",
              "      <td>0</td>\n",
              "      <td>0.0</td>\n",
              "      <td>0.0</td>\n",
              "      <td>0</td>\n",
              "      <td>0</td>\n",
              "      <td>BENIGN</td>\n",
              "    </tr>\n",
              "  </tbody>\n",
              "</table>\n",
              "</div>"
            ],
            "text/plain": [
              "    Destination Port   Flow Duration  ...   Idle Min   Label\n",
              "0              54865               3  ...          0  BENIGN\n",
              "1              55054             109  ...          0  BENIGN\n",
              "2              55055              52  ...          0  BENIGN\n",
              "3              46236              34  ...          0  BENIGN\n",
              "4              54863               3  ...          0  BENIGN\n",
              "\n",
              "[5 rows x 67 columns]"
            ]
          },
          "metadata": {},
          "execution_count": 23
        }
      ]
    },
    {
      "cell_type": "code",
      "metadata": {
        "id": "xqnDRpxEmtNO"
      },
      "source": [
        ""
      ],
      "execution_count": null,
      "outputs": []
    }
  ]
}