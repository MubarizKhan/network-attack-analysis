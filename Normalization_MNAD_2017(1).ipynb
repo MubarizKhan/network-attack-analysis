{
  "nbformat": 4,
  "nbformat_minor": 0,
  "metadata": {
    "colab": {
      "name": "Normalization-MNAD-2017.ipynb",
      "provenance": [],
      "collapsed_sections": []
    },
    "kernelspec": {
      "name": "python3",
      "display_name": "Python 3"
    },
    "language_info": {
      "name": "python"
    }
  },
  "cells": [
    {
      "cell_type": "code",
      "metadata": {
        "id": "uzk5Cwsyibdu",
        "colab": {
          "base_uri": "https://localhost:8080/"
        },
        "outputId": "c3efbcc3-14bf-4ba2-9cf5-0ffed172ee28"
      },
      "source": [
        "from google.colab import drive\n",
        "drive.mount('/content/drive')"
      ],
      "execution_count": null,
      "outputs": [
        {
          "output_type": "stream",
          "name": "stdout",
          "text": [
            "Drive already mounted at /content/drive; to attempt to forcibly remount, call drive.mount(\"/content/drive\", force_remount=True).\n"
          ]
        }
      ]
    },
    {
      "cell_type": "code",
      "metadata": {
        "id": "0zC_3MM_jdgG"
      },
      "source": [
        "import matplotlib \n",
        "import matplotlib.pyplot as plt\n",
        "%matplotlib inline\n",
        "import numpy as np\n",
        "import pandas as pd\n",
        "import seaborn as sns\n",
        "from sklearn.model_selection import train_test_split\n",
        "from sklearn.tree import DecisionTreeClassifier\n",
        "from sklearn import metrics\n",
        "\n"
      ],
      "execution_count": null,
      "outputs": []
    },
    {
      "cell_type": "code",
      "metadata": {
        "colab": {
          "base_uri": "https://localhost:8080/"
        },
        "id": "sBJ0FPA6jZZo",
        "outputId": "29b8a734-e8d1-4cdc-bd2b-62ea9d080726"
      },
      "source": [
        "!pip install dask\n",
        "!python -m pip install 'fsspec>=0.3.3'\n",
        "import dask.dataframe as dd"
      ],
      "execution_count": null,
      "outputs": [
        {
          "output_type": "stream",
          "name": "stdout",
          "text": [
            "Requirement already satisfied: dask in /usr/local/lib/python3.7/dist-packages (2.12.0)\n",
            "Requirement already satisfied: fsspec>=0.3.3 in /usr/local/lib/python3.7/dist-packages (2021.8.1)\n"
          ]
        }
      ]
    },
    {
      "cell_type": "code",
      "metadata": {
        "id": "gkUmoOa_ih3B",
        "colab": {
          "base_uri": "https://localhost:8080/"
        },
        "outputId": "2a490d21-3c00-49dc-9536-7ed4a99c0dc2"
      },
      "source": [
        "import pandas as pd\n",
        "%time df = pd.read_csv('/content/drive/MyDrive/MNAD-FYP/MachineLearningCVE/Dataset-Analysis/all_data.csv', encoding='utf-8')"
      ],
      "execution_count": null,
      "outputs": [
        {
          "output_type": "stream",
          "name": "stdout",
          "text": [
            "CPU times: user 19.5 s, sys: 5.34 s, total: 24.9 s\n",
            "Wall time: 30.2 s\n"
          ]
        }
      ]
    },
    {
      "cell_type": "code",
      "metadata": {
        "id": "cGPLLEKXj0Z-"
      },
      "source": [
        "%time df = dd.read_csv(\"/content/drive/MyDrive/MNAD-FYP/MachineLearningCVE/Dataset-Analysis/all_data.csv\")"
      ],
      "execution_count": null,
      "outputs": []
    },
    {
      "cell_type": "code",
      "metadata": {
        "id": "YEqDvnx6j3nb",
        "colab": {
          "base_uri": "https://localhost:8080/"
        },
        "outputId": "3b2e341a-8945-46e1-cf17-9a842998adf8"
      },
      "source": [
        "df.shape"
      ],
      "execution_count": null,
      "outputs": [
        {
          "output_type": "execute_result",
          "data": {
            "text/plain": [
              "(2830743, 80)"
            ]
          },
          "metadata": {},
          "execution_count": 4
        }
      ]
    },
    {
      "cell_type": "code",
      "metadata": {
        "id": "gwKQL2uWkMS9"
      },
      "source": [
        "# from sklearn.feature_selection import RFE\n",
        "# from sklearn.linear_model import LogisticRegression\n",
        "# model = LogisticRegression()\n",
        "# rfe = RFE(model, 4)\n",
        "# fit = rfe.fit(X, Y)\n",
        "# print(\"Number of Features: %d\")\n",
        "# print(\"Selected Features: %s\")\n",
        "# print(\"Feature Ranking: %s\")"
      ],
      "execution_count": null,
      "outputs": []
    },
    {
      "cell_type": "code",
      "metadata": {
        "id": "X8HjTdD8kMIL"
      },
      "source": [
        "# from sklearn.decomposition import PCA\n",
        "# pca = PCA(n_components=40)\n",
        "# fit = pca.fit(X)\n",
        "# print(\"Explained Variance: %s\") % fit.explained_variance_ratio_\n",
        "# print(fit.components_)\n"
      ],
      "execution_count": null,
      "outputs": []
    },
    {
      "cell_type": "code",
      "metadata": {
        "id": "t0oS0mpikMEH"
      },
      "source": [
        "# print('---------------------------Random Forest CLassifier------------------')\n",
        "# from sklearn.ensemble import RandomForestClassifier\n",
        "# model = RandomForestClassifier(n_estimators =15)\n",
        "# model = model.fit(x_train, y_train)\n",
        "# rfy_pred = model.predict(x_test)\n",
        "# acc = metrics.accuracy_score(y_test, y_pred)\n",
        "# print(model.score(x_test,y_test))"
      ],
      "execution_count": null,
      "outputs": []
    },
    {
      "cell_type": "code",
      "metadata": {
        "id": "6rxBlIwo1us-"
      },
      "source": [
        "# attributes = list(x_train)\n",
        "# sorted(zip(model.feature_importances_, attributes), reverse=True)"
      ],
      "execution_count": null,
      "outputs": []
    },
    {
      "cell_type": "code",
      "metadata": {
        "id": "H_Pi8SHn13KP"
      },
      "source": [
        "!pip install h5py"
      ],
      "execution_count": null,
      "outputs": []
    },
    {
      "cell_type": "code",
      "metadata": {
        "id": "S1GnF2c03WLf",
        "colab": {
          "base_uri": "https://localhost:8080/",
          "height": 201
        },
        "outputId": "2b6873b1-149b-4942-f858-452cce724b64"
      },
      "source": [
        "# Save to HDF5\n",
        "df.to_hdf(filename, 'data', mode='w', format='table')\n",
        "del df"
      ],
      "execution_count": null,
      "outputs": [
        {
          "output_type": "error",
          "ename": "NameError",
          "evalue": "ignored",
          "traceback": [
            "\u001b[0;31m---------------------------------------------------------------------------\u001b[0m",
            "\u001b[0;31mNameError\u001b[0m                                 Traceback (most recent call last)",
            "\u001b[0;32m<ipython-input-4-c37f46762fc9>\u001b[0m in \u001b[0;36m<module>\u001b[0;34m()\u001b[0m\n\u001b[1;32m      1\u001b[0m \u001b[0;31m# Save to HDF5\u001b[0m\u001b[0;34m\u001b[0m\u001b[0;34m\u001b[0m\u001b[0;34m\u001b[0m\u001b[0m\n\u001b[0;32m----> 2\u001b[0;31m \u001b[0mdf\u001b[0m\u001b[0;34m.\u001b[0m\u001b[0mto_hdf\u001b[0m\u001b[0;34m(\u001b[0m\u001b[0mfilename\u001b[0m\u001b[0;34m,\u001b[0m \u001b[0;34m'data'\u001b[0m\u001b[0;34m,\u001b[0m \u001b[0mmode\u001b[0m\u001b[0;34m=\u001b[0m\u001b[0;34m'w'\u001b[0m\u001b[0;34m,\u001b[0m \u001b[0mformat\u001b[0m\u001b[0;34m=\u001b[0m\u001b[0;34m'table'\u001b[0m\u001b[0;34m)\u001b[0m\u001b[0;34m\u001b[0m\u001b[0;34m\u001b[0m\u001b[0m\n\u001b[0m\u001b[1;32m      3\u001b[0m \u001b[0;32mdel\u001b[0m \u001b[0mdf\u001b[0m\u001b[0;34m\u001b[0m\u001b[0;34m\u001b[0m\u001b[0m\n",
            "\u001b[0;31mNameError\u001b[0m: name 'df' is not defined"
          ]
        }
      ]
    },
    {
      "cell_type": "code",
      "metadata": {
        "id": "560dEmBbaKYw"
      },
      "source": [
        "filename = '/content/drive/MyDrive/MNAD-FYP/MachineLearningCVE/Dataset-Analysis/test_data.h5'"
      ],
      "execution_count": null,
      "outputs": []
    },
    {
      "cell_type": "code",
      "metadata": {
        "id": "xo51jbwr4O24"
      },
      "source": [
        "\n",
        "# print(pd.read_hdf(filename, 'data'))\n",
        "%time df = dd.read_hdf(filename, 'data')"
      ],
      "execution_count": null,
      "outputs": []
    },
    {
      "cell_type": "code",
      "metadata": {
        "id": "ORa3dJhOkqaJ",
        "colab": {
          "base_uri": "https://localhost:8080/"
        },
        "outputId": "67a351af-ce9f-4091-a8f9-e4ea9dd85e15"
      },
      "source": [
        "%time df = pd.read_hdf(filename, 'data')"
      ],
      "execution_count": null,
      "outputs": [
        {
          "output_type": "stream",
          "name": "stdout",
          "text": [
            "CPU times: user 7.02 s, sys: 4.11 s, total: 11.1 s\n",
            "Wall time: 56.9 s\n"
          ]
        }
      ]
    },
    {
      "cell_type": "code",
      "metadata": {
        "id": "WSLA9J7640G9",
        "colab": {
          "base_uri": "https://localhost:8080/",
          "height": 1000
        },
        "outputId": "becb047e-f049-4cea-e4a5-5c521c0693c0"
      },
      "source": [
        "# # df.head(10)\n",
        "# df.shape\n",
        "df.info()\n",
        "df.columns[0]"
      ],
      "execution_count": null,
      "outputs": [
        {
          "output_type": "stream",
          "name": "stdout",
          "text": [
            "<class 'pandas.core.frame.DataFrame'>\n",
            "Int64Index: 2830743 entries, 0 to 2830742\n",
            "Data columns (total 79 columns):\n",
            " #   Column                        Dtype  \n",
            "---  ------                        -----  \n",
            " 0    Destination Port             int64  \n",
            " 1    Flow Duration                int64  \n",
            " 2    Total Fwd Packets            int64  \n",
            " 3    Total Backward Packets       int64  \n",
            " 4   Total Length of Fwd Packets   int64  \n",
            " 5    Total Length of Bwd Packets  int64  \n",
            " 6    Fwd Packet Length Max        int64  \n",
            " 7    Fwd Packet Length Min        int64  \n",
            " 8    Fwd Packet Length Mean       float64\n",
            " 9    Fwd Packet Length Std        float64\n",
            " 10  Bwd Packet Length Max         int64  \n",
            " 11   Bwd Packet Length Min        int64  \n",
            " 12   Bwd Packet Length Mean       float64\n",
            " 13   Bwd Packet Length Std        float64\n",
            " 14  Flow Bytes/s                  float64\n",
            " 15   Flow Packets/s               float64\n",
            " 16   Flow IAT Mean                float64\n",
            " 17   Flow IAT Std                 float64\n",
            " 18   Flow IAT Max                 int64  \n",
            " 19   Flow IAT Min                 int64  \n",
            " 20  Fwd IAT Total                 int64  \n",
            " 21   Fwd IAT Mean                 float64\n",
            " 22   Fwd IAT Std                  float64\n",
            " 23   Fwd IAT Max                  int64  \n",
            " 24   Fwd IAT Min                  int64  \n",
            " 25  Bwd IAT Total                 int64  \n",
            " 26   Bwd IAT Mean                 float64\n",
            " 27   Bwd IAT Std                  float64\n",
            " 28   Bwd IAT Max                  int64  \n",
            " 29   Bwd IAT Min                  int64  \n",
            " 30  Fwd PSH Flags                 int64  \n",
            " 31   Bwd PSH Flags                int64  \n",
            " 32   Fwd URG Flags                int64  \n",
            " 33   Bwd URG Flags                int64  \n",
            " 34   Fwd Header Length            int64  \n",
            " 35   Bwd Header Length            int64  \n",
            " 36  Fwd Packets/s                 float64\n",
            " 37   Bwd Packets/s                float64\n",
            " 38   Min Packet Length            int64  \n",
            " 39   Max Packet Length            int64  \n",
            " 40   Packet Length Mean           float64\n",
            " 41   Packet Length Std            float64\n",
            " 42   Packet Length Variance       float64\n",
            " 43  FIN Flag Count                int64  \n",
            " 44   SYN Flag Count               int64  \n",
            " 45   RST Flag Count               int64  \n",
            " 46   PSH Flag Count               int64  \n",
            " 47   ACK Flag Count               int64  \n",
            " 48   URG Flag Count               int64  \n",
            " 49   CWE Flag Count               int64  \n",
            " 50   ECE Flag Count               int64  \n",
            " 51   Down/Up Ratio                int64  \n",
            " 52   Average Packet Size          float64\n",
            " 53   Avg Fwd Segment Size         float64\n",
            " 54   Avg Bwd Segment Size         float64\n",
            " 55   Fwd Header Length.1          int64  \n",
            " 56  Fwd Avg Bytes/Bulk            int64  \n",
            " 57   Fwd Avg Packets/Bulk         int64  \n",
            " 58   Fwd Avg Bulk Rate            int64  \n",
            " 59   Bwd Avg Bytes/Bulk           int64  \n",
            " 60   Bwd Avg Packets/Bulk         int64  \n",
            " 61  Bwd Avg Bulk Rate             int64  \n",
            " 62  Subflow Fwd Packets           int64  \n",
            " 63   Subflow Fwd Bytes            int64  \n",
            " 64   Subflow Bwd Packets          int64  \n",
            " 65   Subflow Bwd Bytes            int64  \n",
            " 66  Init_Win_bytes_forward        int64  \n",
            " 67   Init_Win_bytes_backward      int64  \n",
            " 68   act_data_pkt_fwd             int64  \n",
            " 69   min_seg_size_forward         int64  \n",
            " 70  Active Mean                   float64\n",
            " 71   Active Std                   float64\n",
            " 72   Active Max                   int64  \n",
            " 73   Active Min                   int64  \n",
            " 74  Idle Mean                     float64\n",
            " 75   Idle Std                     float64\n",
            " 76   Idle Max                     int64  \n",
            " 77   Idle Min                     int64  \n",
            " 78   Label                        object \n",
            "dtypes: float64(24), int64(54), object(1)\n",
            "memory usage: 1.7+ GB\n"
          ]
        },
        {
          "output_type": "execute_result",
          "data": {
            "application/vnd.google.colaboratory.intrinsic+json": {
              "type": "string"
            },
            "text/plain": [
              "' Destination Port'"
            ]
          },
          "metadata": {},
          "execution_count": 8
        }
      ]
    },
    {
      "cell_type": "code",
      "metadata": {
        "colab": {
          "base_uri": "https://localhost:8080/"
        },
        "id": "IKK-bngDzmmS",
        "outputId": "ce4125b3-3aab-4f90-d640-d718cd13563a"
      },
      "source": [
        "df.shape"
      ],
      "execution_count": null,
      "outputs": [
        {
          "output_type": "execute_result",
          "data": {
            "text/plain": [
              "(2830743, 79)"
            ]
          },
          "metadata": {},
          "execution_count": 108
        }
      ]
    },
    {
      "cell_type": "code",
      "metadata": {
        "id": "eSeORXGD7Ze0"
      },
      "source": [
        ""
      ],
      "execution_count": null,
      "outputs": []
    },
    {
      "cell_type": "code",
      "metadata": {
        "id": "51Vz1v1SoVhl"
      },
      "source": [
        "df.replace([np.inf, -np.inf], np.nan, inplace=True)\n",
        "  \n",
        "# Dropping all the rows with nan values\n",
        "df.dropna(inplace=True)"
      ],
      "execution_count": 6,
      "outputs": []
    },
    {
      "cell_type": "code",
      "metadata": {
        "id": "Jr37mMDfxYB9"
      },
      "source": [
        "ll = []\n",
        "for i in df.columns:\n",
        "  ll.append(i)\n"
      ],
      "execution_count": null,
      "outputs": []
    },
    {
      "cell_type": "code",
      "metadata": {
        "id": "xw1AUArFxnh4"
      },
      "source": [
        "ll\n",
        "# print(len(ll))"
      ],
      "execution_count": null,
      "outputs": []
    },
    {
      "cell_type": "code",
      "metadata": {
        "id": "UAv_gaSQkRLy"
      },
      "source": [
        "# -------------------changing datatypes\n",
        "\n",
        "def check_size_dtypes(df):\n",
        "  max = df.max()\n",
        "  print(max, 'max')\n",
        "\n",
        "  min = df.min()\n",
        "  print(min, 'min')\n",
        "  # print(df.value_counts())\n",
        "  var1 = df.memory_usage(index=False, deep=True)\n",
        "  print(var1,'This is the memory usage')\n",
        "  print(df.sample(20))\n",
        "\n",
        "\n",
        "def convert_datatypes(df,a='uint8'):\n",
        "  print('Trying to convert datatypes for less memory usage')\n",
        "  max = df.max()\n",
        "  print(max, 'max')\n",
        "\n",
        "  min = df.min()\n",
        "  print(min, 'min')\n",
        "\n",
        "  # print(df.value_counts())\n",
        "\n",
        "  var1 = df.memory_usage(index=False, deep=True)\n",
        "  print(var1, 'memory usage')\n",
        "  df = df.astype(a)\n",
        "  var2 = df.memory_usage(index=False, deep=True)\n",
        "  print(var2, ' new memory usage| the difference -> ', var1 / var2)\n",
        "  return df\n",
        "\n",
        "def normalize(df):\n",
        "  normalized_df=( (df-df.min() ) / (df.max() )) * 255\n",
        "  return normalized_df"
      ],
      "execution_count": 7,
      "outputs": []
    },
    {
      "cell_type": "code",
      "metadata": {
        "colab": {
          "base_uri": "https://localhost:8080/"
        },
        "id": "Ttx7giqB0PQ6",
        "outputId": "e6878205-b131-406b-bda8-65d280fa60c5"
      },
      "source": [
        "print('--------Destination Port---------------')\n",
        "check_size_dtypes(df[' Destination Port'])"
      ],
      "execution_count": 10,
      "outputs": [
        {
          "output_type": "stream",
          "name": "stdout",
          "text": [
            "--------Destination Port---------------\n",
            "255.0 max\n",
            "0.0 min\n",
            "22623008 This is the memory usage\n",
            "802800       0.311284\n",
            "732333       0.311284\n",
            "1143655      0.206226\n",
            "2367894      0.311284\n",
            "2765940      0.206226\n",
            "1411633      0.023346\n",
            "443715       2.801556\n",
            "296824       0.311284\n",
            "2562139    226.622568\n",
            "2786904      0.311284\n",
            "2803977     66.478599\n",
            "2124244      0.206226\n",
            "2533158      0.206226\n",
            "2570706      0.206226\n",
            "632673       1.723735\n",
            "2101942      0.206226\n",
            "1613212    151.750973\n",
            "1067911      0.206226\n",
            "2657786      0.206226\n",
            "812668       0.206226\n",
            "Name:  Destination Port, dtype: float64\n"
          ]
        }
      ]
    },
    {
      "cell_type": "code",
      "metadata": {
        "colab": {
          "base_uri": "https://localhost:8080/"
        },
        "id": "4Z_AU2OPkROz",
        "outputId": "e34974af-6a8b-4d9a-978d-1db87d0b94f6"
      },
      "source": [
        "# convert_datatypes(df[' Destination Port'])\n",
        "df[' Destination Port'] = normalize(df[' Destination Port'])\n",
        "df[' Destination Port'] = convert_datatypes(df[' Destination Port'])"
      ],
      "execution_count": 11,
      "outputs": [
        {
          "output_type": "stream",
          "name": "stdout",
          "text": [
            "Trying to convert datatypes for less memory usage\n",
            "255.0 max\n",
            "0.0 min\n",
            "22623008 memory usage\n",
            "2827876  new memory usage| the difference ->  8.0\n"
          ]
        }
      ]
    },
    {
      "cell_type": "code",
      "metadata": {
        "id": "Bq6jKPX8kRVO",
        "colab": {
          "base_uri": "https://localhost:8080/"
        },
        "outputId": "2119619f-3127-4e10-b006-9cd277d24107"
      },
      "source": [
        "check_size_dtypes(df[' Destination Port'])"
      ],
      "execution_count": 12,
      "outputs": [
        {
          "output_type": "stream",
          "name": "stdout",
          "text": [
            "255 max\n",
            "0 min\n",
            "2827876 This is the memory usage\n",
            "2057912      0\n",
            "2291621      0\n",
            "2041277      0\n",
            "2789200      0\n",
            "1470462      1\n",
            "1791608      0\n",
            "47116        0\n",
            "550879       1\n",
            "1318262      0\n",
            "688814       1\n",
            "404331      29\n",
            "938557     185\n",
            "775293       1\n",
            "2731233      0\n",
            "2043088    242\n",
            "783020     184\n",
            "1191531      1\n",
            "505903       0\n",
            "2722765      0\n",
            "2815043      0\n",
            "Name:  Destination Port, dtype: uint8\n"
          ]
        }
      ]
    },
    {
      "cell_type": "code",
      "metadata": {
        "id": "qElPYBlwkRX3",
        "colab": {
          "base_uri": "https://localhost:8080/"
        },
        "outputId": "28c903b0-c26f-47c4-9b4a-7f7d70acc065"
      },
      "source": [
        "# obv.sample(10)\n",
        "print(df[' Destination Port'].memory_usage(index=False, deep=True), 'memory usage')"
      ],
      "execution_count": null,
      "outputs": [
        {
          "output_type": "stream",
          "name": "stdout",
          "text": [
            "2830743 memory usage\n"
          ]
        }
      ]
    },
    {
      "cell_type": "code",
      "metadata": {
        "colab": {
          "base_uri": "https://localhost:8080/"
        },
        "id": "fdaEqO4ZNTpf",
        "outputId": "dcf25398-309c-4910-edc2-7849dbddfc8c"
      },
      "source": [
        "df[' Destination Port'].max()"
      ],
      "execution_count": null,
      "outputs": [
        {
          "output_type": "execute_result",
          "data": {
            "text/plain": [
              "255"
            ]
          },
          "metadata": {},
          "execution_count": 10
        }
      ]
    },
    {
      "cell_type": "code",
      "metadata": {
        "colab": {
          "base_uri": "https://localhost:8080/"
        },
        "id": "7kWTAbywz9gW",
        "outputId": "d33c5ee5-8f49-4801-a6bb-2ff20b19c580"
      },
      "source": [
        "print('-----------flow duration dtype change-------------')\n",
        "# ----------------------------------------------------\n",
        "# ----------\n",
        "# ----------------------------------------------')"
      ],
      "execution_count": null,
      "outputs": [
        {
          "output_type": "stream",
          "name": "stdout",
          "text": [
            "-----------flow duration dtype change-------------\n"
          ]
        }
      ]
    },
    {
      "cell_type": "code",
      "metadata": {
        "colab": {
          "base_uri": "https://localhost:8080/"
        },
        "id": "yteDTV9ksi3k",
        "outputId": "fe00163c-4c73-4d20-c090-d7d792b9d46a"
      },
      "source": [
        " check_size_dtypes(df[' Flow Duration']) #df[' Flow Duration'] = \n",
        "# check_size_dtypes(obv)"
      ],
      "execution_count": 15,
      "outputs": [
        {
          "output_type": "stream",
          "name": "stdout",
          "text": [
            "255.00002762500048 max\n",
            "0.0 min\n",
            "22623008 This is the memory usage\n",
            "912683       0.000442\n",
            "1392751    245.947967\n",
            "1970460      0.000431\n",
            "1745474      1.599437\n",
            "1337916      0.059041\n",
            "1577203      0.049413\n",
            "194987      11.515906\n",
            "2006228      0.276063\n",
            "17349        0.000482\n",
            "932460       0.066066\n",
            "459590      22.164832\n",
            "1959014      0.000168\n",
            "2058111      0.620936\n",
            "351637       0.000034\n",
            "155414       0.000174\n",
            "2829217      0.000083\n",
            "1398400      0.000164\n",
            "2195938      0.000034\n",
            "344945       0.000117\n",
            "1534016      0.068293\n",
            "Name:  Flow Duration, dtype: float64\n"
          ]
        }
      ]
    },
    {
      "cell_type": "code",
      "metadata": {
        "colab": {
          "base_uri": "https://localhost:8080/"
        },
        "id": "w8W-Z6ssNiN2",
        "outputId": "8ef4c3c4-2f3a-410e-af17-fa99cd3c7ba7"
      },
      "source": [
        "df[' Flow Duration'].sample(10)\n",
        "df[' Flow Duration'].max()"
      ],
      "execution_count": null,
      "outputs": [
        {
          "output_type": "execute_result",
          "data": {
            "text/plain": [
              "100.0"
            ]
          },
          "metadata": {},
          "execution_count": 93
        }
      ]
    },
    {
      "cell_type": "code",
      "metadata": {
        "id": "KLkZm26psQdj"
      },
      "source": [
        "df[' Flow Duration'] = normalize(df[' Flow Duration'])"
      ],
      "execution_count": 14,
      "outputs": []
    },
    {
      "cell_type": "code",
      "metadata": {
        "colab": {
          "base_uri": "https://localhost:8080/"
        },
        "id": "UnbvenXEsOMw",
        "outputId": "f72a89e1-681d-4261-a172-207bf120a548"
      },
      "source": [
        "df[' Flow Duration'] = convert_datatypes(df[' Flow Duration'])\n",
        "# convert_datatypes(df[obv], 'int8')"
      ],
      "execution_count": 16,
      "outputs": [
        {
          "output_type": "stream",
          "name": "stdout",
          "text": [
            "Trying to convert datatypes for less memory usage\n",
            "255.00002762500048 max\n",
            "0.0 min\n",
            "22623008 memory usage\n",
            "2827876  new memory usage| the difference ->  8.0\n"
          ]
        }
      ]
    },
    {
      "cell_type": "code",
      "metadata": {
        "colab": {
          "base_uri": "https://localhost:8080/"
        },
        "id": "n5Ewm2vRQl45",
        "outputId": "749ab140-1ed0-468b-efdb-5d7896609816"
      },
      "source": [
        "check_size_dtypes(df[' Flow Duration'])"
      ],
      "execution_count": 17,
      "outputs": [
        {
          "output_type": "stream",
          "name": "stdout",
          "text": [
            "255 max\n",
            "0 min\n",
            "2827876 This is the memory usage\n",
            "2263927    209\n",
            "1126905      0\n",
            "1488484      0\n",
            "1290131    127\n",
            "1099519      0\n",
            "1126088      0\n",
            "2425253    214\n",
            "176321       1\n",
            "1049104      0\n",
            "1392085      0\n",
            "539563       0\n",
            "119729       0\n",
            "572257       0\n",
            "26785        3\n",
            "1040088      0\n",
            "746076       0\n",
            "2218058    209\n",
            "449831       0\n",
            "134624       0\n",
            "696677       0\n",
            "Name:  Flow Duration, dtype: uint8\n"
          ]
        }
      ]
    },
    {
      "cell_type": "code",
      "metadata": {
        "colab": {
          "base_uri": "https://localhost:8080/"
        },
        "id": "cIg_c77Vz7bP",
        "outputId": "5939d11b-8bb7-418c-e926-074ac859c023"
      },
      "source": [
        "print('---------changing total fwd packets dtype----')"
      ],
      "execution_count": null,
      "outputs": [
        {
          "output_type": "stream",
          "name": "stdout",
          "text": [
            "---------changing total fwd packets dtype----\n"
          ]
        }
      ]
    },
    {
      "cell_type": "code",
      "metadata": {
        "colab": {
          "base_uri": "https://localhost:8080/"
        },
        "id": "4UlufSJ9z7d6",
        "outputId": "cb26980c-55e2-480f-94a4-a8a3af0cd417"
      },
      "source": [
        "print(check_size_dtypes(df[' Total Fwd Packets']))\n",
        "# check_size_dtypes(obv)\n",
        "df[' Total Fwd Packets'].sample(10)\n",
        "df[' Total Fwd Packets'].max()"
      ],
      "execution_count": 18,
      "outputs": [
        {
          "output_type": "stream",
          "name": "stdout",
          "text": [
            "219759 max\n",
            "1 min\n",
            "22623008 This is the memory usage\n",
            "226469       1\n",
            "10774        1\n",
            "2197398    112\n",
            "1386002      2\n",
            "2315093      4\n",
            "746447       2\n",
            "988600       1\n",
            "1154246      2\n",
            "2122283      1\n",
            "283906       1\n",
            "1116827      1\n",
            "1840108      2\n",
            "696698       2\n",
            "61670        2\n",
            "460549       5\n",
            "1884227      1\n",
            "1604352      2\n",
            "1614947      1\n",
            "1195299      1\n",
            "2447584      9\n",
            "Name:  Total Fwd Packets, dtype: int64\n",
            "None\n"
          ]
        },
        {
          "output_type": "execute_result",
          "data": {
            "text/plain": [
              "219759"
            ]
          },
          "metadata": {},
          "execution_count": 18
        }
      ]
    },
    {
      "cell_type": "code",
      "metadata": {
        "id": "WMH6HnmCQvn7"
      },
      "source": [
        "df[' Total Fwd Packets'] = normalize(df[' Total Fwd Packets'])"
      ],
      "execution_count": 114,
      "outputs": []
    },
    {
      "cell_type": "code",
      "metadata": {
        "colab": {
          "base_uri": "https://localhost:8080/"
        },
        "id": "QQczikkQz7hK",
        "outputId": "d2d12c0c-2827-4e8b-8eba-edaaabe0f1a1"
      },
      "source": [
        " df[' Total Fwd Packets'] = convert_datatypes(df[' Total Fwd Packets'])"
      ],
      "execution_count": 115,
      "outputs": [
        {
          "output_type": "stream",
          "name": "stdout",
          "text": [
            "Trying to convert datatypes for less memory usage\n",
            "255.0 max\n",
            "0.0 min\n",
            "22623008 memory usage\n",
            "2827876  new memory usage| the difference ->  8.0\n"
          ]
        }
      ]
    },
    {
      "cell_type": "code",
      "metadata": {
        "colab": {
          "base_uri": "https://localhost:8080/"
        },
        "id": "u97Eg01WQ7Kr",
        "outputId": "aca98caf-209a-44ef-b6b2-ceb8924f1b8f"
      },
      "source": [
        "check_size_dtypes(df[' Total Fwd Packets'])"
      ],
      "execution_count": 116,
      "outputs": [
        {
          "output_type": "stream",
          "name": "stdout",
          "text": [
            "255 max\n",
            "0 min\n",
            "2827876 This is the memory usage\n",
            "287986     0\n",
            "2273974    0\n",
            "401947     0\n",
            "1292375    0\n",
            "931414     0\n",
            "2277982    0\n",
            "2234395    0\n",
            "1069517    0\n",
            "1322972    0\n",
            "310527     0\n",
            "583595     0\n",
            "1474783    0\n",
            "206256     0\n",
            "2160328    0\n",
            "1192551    0\n",
            "2170557    0\n",
            "1828045    0\n",
            "1664470    0\n",
            "2427767    0\n",
            "2357418    0\n",
            "Name:  Total Fwd Packets, dtype: uint8\n"
          ]
        }
      ]
    },
    {
      "cell_type": "code",
      "metadata": {
        "colab": {
          "base_uri": "https://localhost:8080/"
        },
        "id": "apN38nAlz7k-",
        "outputId": "2edb77b2-a861-4bb6-a53b-8e3609bc5c90"
      },
      "source": [
        "type(df[' Total Fwd Packets'][1111])\n",
        "# del obv\n"
      ],
      "execution_count": null,
      "outputs": [
        {
          "output_type": "execute_result",
          "data": {
            "text/plain": [
              "numpy.uint8"
            ]
          },
          "metadata": {},
          "execution_count": 21
        }
      ]
    },
    {
      "cell_type": "code",
      "metadata": {
        "colab": {
          "base_uri": "https://localhost:8080/"
        },
        "id": "GhZYaREB_INC",
        "outputId": "d8a9831b-202d-4c1b-9e85-1d8d54d88587"
      },
      "source": [
        "print('---------------------changing total backward packets datatype------------------')\n",
        "print(df[' Total Backward Packets'].sample(10))\n",
        "df[' Total Backward Packets'].max()"
      ],
      "execution_count": null,
      "outputs": [
        {
          "output_type": "stream",
          "name": "stdout",
          "text": [
            "---------------------changing total backward packets datatype------------------\n",
            "2461197    0\n",
            "2308260    0\n",
            "586738     1\n",
            "2642451    2\n",
            "799537     1\n",
            "1886057    0\n",
            "454182     1\n",
            "560203     2\n",
            "2009971    2\n",
            "125873     0\n",
            "Name:  Total Backward Packets, dtype: int64\n"
          ]
        },
        {
          "output_type": "execute_result",
          "data": {
            "text/plain": [
              "291922"
            ]
          },
          "metadata": {},
          "execution_count": 21
        }
      ]
    },
    {
      "cell_type": "code",
      "metadata": {
        "colab": {
          "base_uri": "https://localhost:8080/"
        },
        "id": "D18Jp9Dxz7rP",
        "outputId": "8a76d399-94c8-4003-f222-172cd00ed752"
      },
      "source": [
        "check_size_dtypes(df[' Total Backward Packets'])\n",
        "df[' Total Backward Packets'] = normalize(df[' Total Backward Packets'])\n",
        "df[' Total Backward Packets'] = convert_datatypes(df[' Total Backward Packets'])"
      ],
      "execution_count": 22,
      "outputs": [
        {
          "output_type": "stream",
          "name": "stdout",
          "text": [
            "291922 max\n",
            "0 min\n",
            "22623008 This is the memory usage\n",
            "2218868     6\n",
            "1941334     0\n",
            "1593301     1\n",
            "1618823     1\n",
            "1221786     2\n",
            "732885     14\n",
            "979500      1\n",
            "2496349     1\n",
            "858073      1\n",
            "2264758     6\n",
            "1852755     1\n",
            "2539371     6\n",
            "1102206     2\n",
            "196052      5\n",
            "254946      2\n",
            "651385      2\n",
            "2746803     1\n",
            "1899012     2\n",
            "82433       0\n",
            "834144      0\n",
            "Name:  Total Backward Packets, dtype: int64\n",
            "Trying to convert datatypes for less memory usage\n",
            "255.0 max\n",
            "0.0 min\n",
            "22623008 memory usage\n",
            "2827876  new memory usage| the difference ->  8.0\n"
          ]
        }
      ]
    },
    {
      "cell_type": "code",
      "metadata": {
        "id": "Z5jErZqtWLEe",
        "colab": {
          "base_uri": "https://localhost:8080/"
        },
        "outputId": "d988bc34-33c0-4658-d2a4-ddb7074fe5b1"
      },
      "source": [
        "print(df[' Total Backward Packets'].mean())\n",
        "check_size_dtypes(df[' Total Backward Packets'])"
      ],
      "execution_count": 25,
      "outputs": [
        {
          "output_type": "stream",
          "name": "stdout",
          "text": [
            "0.004363699115519917\n",
            "255 max\n",
            "0 min\n",
            "2827876 This is the memory usage\n",
            "449468     0\n",
            "73523      0\n",
            "896823     0\n",
            "2389766    0\n",
            "620649     0\n",
            "1275579    0\n",
            "386294     0\n",
            "1169624    0\n",
            "1859648    0\n",
            "1242844    0\n",
            "3421       0\n",
            "1837925    0\n",
            "2474673    0\n",
            "78950      0\n",
            "955457     0\n",
            "29650      0\n",
            "2651810    0\n",
            "1988835    0\n",
            "658136     0\n",
            "1828237    0\n",
            "Name:  Total Backward Packets, dtype: uint8\n"
          ]
        }
      ]
    },
    {
      "cell_type": "code",
      "metadata": {
        "colab": {
          "base_uri": "https://localhost:8080/"
        },
        "id": "BZ47aFPEPD4S",
        "outputId": "a74c1eb5-5024-4519-dbcc-64a2982060b3"
      },
      "source": [
        "df['Total Length of Fwd Packets'].sample(10)\n",
        "df['Total Length of Fwd Packets'].max()"
      ],
      "execution_count": null,
      "outputs": [
        {
          "output_type": "execute_result",
          "data": {
            "text/plain": [
              "12900000"
            ]
          },
          "metadata": {},
          "execution_count": 24
        }
      ]
    },
    {
      "cell_type": "code",
      "metadata": {
        "colab": {
          "base_uri": "https://localhost:8080/"
        },
        "id": "lFYoLoXc-Om3",
        "outputId": "7378bd11-8a3b-4bc8-b112-dd64df0c183d"
      },
      "source": [
        "# check_size_dtypes(df['Total Length of Fwd Packets'])\n",
        "df[' Fwd Packet Length Max'] = normalize(df[' Fwd Packet Length Max'])\n",
        "df[' Fwd Packet Length Max'] = convert_datatypes(df[' Fwd Packet Length Max'])"
      ],
      "execution_count": 26,
      "outputs": [
        {
          "output_type": "stream",
          "name": "stdout",
          "text": [
            "Trying to convert datatypes for less memory usage\n",
            "255.0 max\n",
            "0.0 min\n",
            "22623008 memory usage\n",
            "2827876  new memory usage| the difference ->  8.0\n"
          ]
        }
      ]
    },
    {
      "cell_type": "code",
      "metadata": {
        "colab": {
          "base_uri": "https://localhost:8080/"
        },
        "id": "a539UsOdPfz3",
        "outputId": "f37ed6c7-89c1-4a9e-be45-4f78c8b217e6"
      },
      "source": [
        "# df[' Fwd Packet Length Max'].sample(10)\n",
        "# df[' Fwd Packet Length Max'].max()\n",
        "check_size_dtypes(df[' Fwd Packet Length Max'])"
      ],
      "execution_count": 27,
      "outputs": [
        {
          "output_type": "stream",
          "name": "stdout",
          "text": [
            "255 max\n",
            "0 min\n",
            "2827876 This is the memory usage\n",
            "883654     4\n",
            "1321123    0\n",
            "938958     0\n",
            "2360812    0\n",
            "2050339    0\n",
            "53166      0\n",
            "130502     0\n",
            "1000367    0\n",
            "2400546    0\n",
            "150675     0\n",
            "1847944    0\n",
            "1978863    0\n",
            "1369405    0\n",
            "1634715    0\n",
            "20297      0\n",
            "1934904    0\n",
            "2319707    4\n",
            "824165     0\n",
            "2644864    0\n",
            "1943875    0\n",
            "Name:  Fwd Packet Length Max, dtype: uint8\n"
          ]
        }
      ]
    },
    {
      "cell_type": "code",
      "metadata": {
        "colab": {
          "base_uri": "https://localhost:8080/"
        },
        "id": "4NLxxFmy-Opq",
        "outputId": "97fc6b2a-afdb-4ae1-fc05-ed5da4a196e1"
      },
      "source": [
        "\n",
        "def print_title(a):  \n",
        "  for i in range(5):\n",
        "    print('---------------',a,'-----------------')\n",
        "print_title('Fwd Packet Length Min')"
      ],
      "execution_count": null,
      "outputs": [
        {
          "output_type": "stream",
          "name": "stdout",
          "text": [
            "--------------- Fwd Packet Length Min -----------------\n",
            "--------------- Fwd Packet Length Min -----------------\n",
            "--------------- Fwd Packet Length Min -----------------\n",
            "--------------- Fwd Packet Length Min -----------------\n",
            "--------------- Fwd Packet Length Min -----------------\n"
          ]
        }
      ]
    },
    {
      "cell_type": "code",
      "metadata": {
        "colab": {
          "base_uri": "https://localhost:8080/"
        },
        "id": "c3m0Br8PQBHK",
        "outputId": "2517b6e7-7a13-4392-fba0-15c43d865229"
      },
      "source": [
        "check_size_dtypes(df[' Fwd Packet Length Min'])"
      ],
      "execution_count": 28,
      "outputs": [
        {
          "output_type": "stream",
          "name": "stdout",
          "text": [
            "2325 max\n",
            "0 min\n",
            "22623008 This is the memory usage\n",
            "600499      6\n",
            "577292      0\n",
            "2685690     0\n",
            "2786292    48\n",
            "605340     44\n",
            "235523      0\n",
            "2435309     0\n",
            "590027      0\n",
            "2671485    35\n",
            "925284     42\n",
            "449842      0\n",
            "1926774     0\n",
            "2247776     0\n",
            "40415      34\n",
            "268359     44\n",
            "821400      0\n",
            "121318      0\n",
            "1726351     0\n",
            "2438269     0\n",
            "2284228     0\n",
            "Name:  Fwd Packet Length Min, dtype: int64\n"
          ]
        }
      ]
    },
    {
      "cell_type": "code",
      "metadata": {
        "colab": {
          "base_uri": "https://localhost:8080/"
        },
        "id": "TMo3AWPb-OsQ",
        "outputId": "49bac1dd-3e52-47b6-c3e2-d40b1ae91cd2"
      },
      "source": [
        "check_size_dtypes(df[' Fwd Packet Length Min'])\n",
        "df[' Fwd Packet Length Min'] = normalize(df[' Fwd Packet Length Min'])\n",
        "df[' Fwd Packet Length Min'] = convert_datatypes(df[' Fwd Packet Length Min'])"
      ],
      "execution_count": 29,
      "outputs": [
        {
          "output_type": "stream",
          "name": "stdout",
          "text": [
            "2325 max\n",
            "0 min\n",
            "22623008 This is the memory usage\n",
            "2556029     6\n",
            "2691000    37\n",
            "37257       0\n",
            "2574488    31\n",
            "969869      0\n",
            "1249908     0\n",
            "2549980     0\n",
            "1344541     0\n",
            "110426      6\n",
            "2750899     0\n",
            "1765538     0\n",
            "2683612    40\n",
            "2663265     0\n",
            "2696414     6\n",
            "1122077     0\n",
            "347797      2\n",
            "1698947     0\n",
            "635394     47\n",
            "693185      0\n",
            "2474130    56\n",
            "Name:  Fwd Packet Length Min, dtype: int64\n",
            "Trying to convert datatypes for less memory usage\n",
            "255.0 max\n",
            "0.0 min\n",
            "22623008 memory usage\n",
            "2827876  new memory usage| the difference ->  8.0\n"
          ]
        }
      ]
    },
    {
      "cell_type": "code",
      "metadata": {
        "id": "fBbdQgHS-Oyy",
        "colab": {
          "base_uri": "https://localhost:8080/"
        },
        "outputId": "20e22182-94a2-416f-eb0d-5e91fa25807e"
      },
      "source": [
        "check_size_dtypes(df[' Fwd Packet Length Min'])"
      ],
      "execution_count": 30,
      "outputs": [
        {
          "output_type": "stream",
          "name": "stdout",
          "text": [
            "255 max\n",
            "0 min\n",
            "2827876 This is the memory usage\n",
            "785031      6\n",
            "632712     17\n",
            "1226861     4\n",
            "1778830     5\n",
            "1541004     0\n",
            "1901238     0\n",
            "2355602     0\n",
            "2743833     3\n",
            "1776414     4\n",
            "1782182     0\n",
            "2113229     5\n",
            "638268      0\n",
            "2234415     0\n",
            "209950      6\n",
            "879926      0\n",
            "494227      0\n",
            "2343031     0\n",
            "2540149     5\n",
            "1583205     0\n",
            "2131905     0\n",
            "Name:  Fwd Packet Length Min, dtype: uint8\n"
          ]
        }
      ]
    },
    {
      "cell_type": "code",
      "metadata": {
        "id": "uH9Ol9tI-O1u"
      },
      "source": [
        "# check_size_dtypes(df[''])"
      ],
      "execution_count": null,
      "outputs": []
    },
    {
      "cell_type": "code",
      "metadata": {
        "id": "vm9oN-RB-O4r"
      },
      "source": [
        "# check_size_dtypes(df[''])\n",
        "# df[''] = convert_datatypes([df[' '], 'int16')"
      ],
      "execution_count": null,
      "outputs": []
    },
    {
      "cell_type": "code",
      "metadata": {
        "id": "3Ll0t5jZ-O71"
      },
      "source": [
        "# check_size_dtypes(df[' Fwd Packet Length Min'])"
      ],
      "execution_count": null,
      "outputs": []
    },
    {
      "cell_type": "code",
      "metadata": {
        "id": "dxL3z5yESCu1"
      },
      "source": [
        ""
      ],
      "execution_count": null,
      "outputs": []
    },
    {
      "cell_type": "code",
      "metadata": {
        "colab": {
          "base_uri": "https://localhost:8080/"
        },
        "id": "_lZtf3ErXa8g",
        "outputId": "d8fb8490-4060-4ebf-f366-722a8777e2ce"
      },
      "source": [
        "print_title('Fwd Packet Length Mean')"
      ],
      "execution_count": null,
      "outputs": [
        {
          "output_type": "stream",
          "name": "stdout",
          "text": [
            "--------------- Fwd Packet Length Mean -----------------\n",
            "--------------- Fwd Packet Length Mean -----------------\n",
            "--------------- Fwd Packet Length Mean -----------------\n",
            "--------------- Fwd Packet Length Mean -----------------\n",
            "--------------- Fwd Packet Length Mean -----------------\n"
          ]
        }
      ]
    },
    {
      "cell_type": "code",
      "metadata": {
        "colab": {
          "base_uri": "https://localhost:8080/"
        },
        "id": "vU0AB7td-O-O",
        "outputId": "a40e0424-a5db-431c-fb5f-a5523b7c1def"
      },
      "source": [
        "check_size_dtypes(df[' Fwd Packet Length Mean'])\n",
        "# df[' Fwd Packet Length Mean'] = convert_datatypes(df[' Fwd Packet Length Mean'], 'int16')"
      ],
      "execution_count": 31,
      "outputs": [
        {
          "output_type": "stream",
          "name": "stdout",
          "text": [
            "5940.857143 max\n",
            "0.0 min\n",
            "22623008 This is the memory usage\n",
            "380831       0.000000\n",
            "1300381     50.000000\n",
            "1032671     32.437500\n",
            "1456105      0.000000\n",
            "909384      34.000000\n",
            "2093878     35.000000\n",
            "2221725    111.666667\n",
            "53978        6.000000\n",
            "607717      32.000000\n",
            "2083181     44.000000\n",
            "2382225     48.000000\n",
            "1212171     47.000000\n",
            "2090126      0.000000\n",
            "352124       2.000000\n",
            "1635916     14.333333\n",
            "633692      30.588235\n",
            "2229811    217.857143\n",
            "2034683     45.000000\n",
            "891296      74.333333\n",
            "917332      44.000000\n",
            "Name:  Fwd Packet Length Mean, dtype: float64\n"
          ]
        }
      ]
    },
    {
      "cell_type": "code",
      "metadata": {
        "colab": {
          "base_uri": "https://localhost:8080/"
        },
        "id": "yT1x_LKDYDKK",
        "outputId": "9318b6f1-bda5-45c0-f05e-1192242f8c9b"
      },
      "source": [
        "df[' Fwd Packet Length Mean'] = normalize(df[' Fwd Packet Length Mean'])\n",
        "# check_size_dtypes(df[' Fwd Packet Length Mean'])\n",
        "df[' Fwd Packet Length Mean'] = convert_datatypes(df[' Fwd Packet Length Mean'])\n",
        "check_size_dtypes(df[' Fwd Packet Length Mean'])"
      ],
      "execution_count": 32,
      "outputs": [
        {
          "output_type": "stream",
          "name": "stdout",
          "text": [
            "Trying to convert datatypes for less memory usage\n",
            "255.0 max\n",
            "0.0 min\n",
            "22623008 memory usage\n",
            "2827876  new memory usage| the difference ->  8.0\n",
            "255 max\n",
            "0 min\n",
            "2827876 This is the memory usage\n",
            "1282145     1\n",
            "424366      0\n",
            "2349879     3\n",
            "1489073     1\n",
            "1071148     1\n",
            "1128679     1\n",
            "1230791     1\n",
            "1487945     1\n",
            "1791070     0\n",
            "2414547    71\n",
            "2409463     2\n",
            "2246402     3\n",
            "1913168     1\n",
            "2248996     1\n",
            "426609      0\n",
            "1710404     1\n",
            "1861969     2\n",
            "191199      0\n",
            "1234745     0\n",
            "1268076     1\n",
            "Name:  Fwd Packet Length Mean, dtype: uint8\n"
          ]
        }
      ]
    },
    {
      "cell_type": "code",
      "metadata": {
        "id": "WKGUA8AfQXil"
      },
      "source": [
        ""
      ],
      "execution_count": null,
      "outputs": []
    },
    {
      "cell_type": "code",
      "metadata": {
        "colab": {
          "base_uri": "https://localhost:8080/"
        },
        "id": "zYWOyAZGgCku",
        "outputId": "a64520b0-a0d5-44a0-def8-5712b0a8e276"
      },
      "source": [
        "print_title('Fwd Packet Length Std')"
      ],
      "execution_count": null,
      "outputs": [
        {
          "output_type": "stream",
          "name": "stdout",
          "text": [
            "--------------- Fwd Packet Length Std -----------------\n",
            "--------------- Fwd Packet Length Std -----------------\n",
            "--------------- Fwd Packet Length Std -----------------\n",
            "--------------- Fwd Packet Length Std -----------------\n",
            "--------------- Fwd Packet Length Std -----------------\n"
          ]
        }
      ]
    },
    {
      "cell_type": "code",
      "metadata": {
        "colab": {
          "base_uri": "https://localhost:8080/"
        },
        "id": "Lj9WGrNnQcks",
        "outputId": "d76d5aa9-e93c-4104-c077-7c9da44c6063"
      },
      "source": [
        "check_size_dtypes(df[' Fwd Packet Length Std'])"
      ],
      "execution_count": 33,
      "outputs": [
        {
          "output_type": "stream",
          "name": "stdout",
          "text": [
            "7125.5968458437 max\n",
            "0.0 min\n",
            "22623008 This is the memory usage\n",
            "2577639    110.177178\n",
            "1772653     81.386960\n",
            "2124658      0.000000\n",
            "224182       0.000000\n",
            "1183698      0.000000\n",
            "1717871     26.558112\n",
            "1178941      0.000000\n",
            "2309303      0.000000\n",
            "1695166     79.078171\n",
            "1940729     21.920310\n",
            "38723       10.263203\n",
            "1940464    434.164555\n",
            "2759570      0.000000\n",
            "238702      72.623917\n",
            "2629951      0.000000\n",
            "172847       0.000000\n",
            "459901      20.124612\n",
            "866206       0.000000\n",
            "618632     105.426959\n",
            "1326010      0.000000\n",
            "Name:  Fwd Packet Length Std, dtype: float64\n"
          ]
        }
      ]
    },
    {
      "cell_type": "code",
      "metadata": {
        "colab": {
          "base_uri": "https://localhost:8080/"
        },
        "id": "RRzPmFHTQcku",
        "outputId": "f837d711-ab6a-4c6a-f562-4726be869a4c"
      },
      "source": [
        "df[' Fwd Packet Length Std'] = normalize(df[' Fwd Packet Length Std'])\n",
        "df[' Fwd Packet Length Std'] = convert_datatypes(df[' Fwd Packet Length Std'])\n",
        "check_size_dtypes(df[' Fwd Packet Length Std'])\n"
      ],
      "execution_count": 34,
      "outputs": [
        {
          "output_type": "stream",
          "name": "stdout",
          "text": [
            "Trying to convert datatypes for less memory usage\n",
            "255.0 max\n",
            "0.0 min\n",
            "22623008 memory usage\n",
            "2827876  new memory usage| the difference ->  8.0\n",
            "255 max\n",
            "0 min\n",
            "2827876 This is the memory usage\n",
            "2563246     0\n",
            "603632      2\n",
            "2174363     5\n",
            "1716735     0\n",
            "732388      2\n",
            "1065313     0\n",
            "1976532     0\n",
            "381593      0\n",
            "391560      0\n",
            "2286480     4\n",
            "2595638     2\n",
            "181099      0\n",
            "1674655    15\n",
            "2086454     0\n",
            "1896213     8\n",
            "416688      0\n",
            "531830      0\n",
            "1338901     0\n",
            "907934      0\n",
            "2256762     0\n",
            "Name:  Fwd Packet Length Std, dtype: uint8\n"
          ]
        }
      ]
    },
    {
      "cell_type": "code",
      "metadata": {
        "id": "zCb8a2xeRfg_",
        "colab": {
          "base_uri": "https://localhost:8080/"
        },
        "outputId": "5ab50322-508c-411d-a319-dd02ff058f92"
      },
      "source": [
        " 'Bwd Packet Length Max',\n",
        " ' Bwd Packet Length Min',\n",
        " ' Bwd Packet Length Mean',\n",
        " ' Bwd Packet Length Std',"
      ],
      "execution_count": null,
      "outputs": [
        {
          "output_type": "execute_result",
          "data": {
            "text/plain": [
              "(' Bwd Packet Length Std',)"
            ]
          },
          "metadata": {},
          "execution_count": 42
        }
      ]
    },
    {
      "cell_type": "code",
      "metadata": {
        "colab": {
          "base_uri": "https://localhost:8080/"
        },
        "id": "wzkeE4dfgIaF",
        "outputId": "9babe320-5101-4b27-f07d-197aa0673799"
      },
      "source": [
        "print_title('Bwd Packet Length Max')"
      ],
      "execution_count": null,
      "outputs": [
        {
          "output_type": "stream",
          "name": "stdout",
          "text": [
            "--------------- Bwd Packet Length Max -----------------\n",
            "--------------- Bwd Packet Length Max -----------------\n",
            "--------------- Bwd Packet Length Max -----------------\n",
            "--------------- Bwd Packet Length Max -----------------\n",
            "--------------- Bwd Packet Length Max -----------------\n"
          ]
        }
      ]
    },
    {
      "cell_type": "code",
      "metadata": {
        "colab": {
          "base_uri": "https://localhost:8080/"
        },
        "id": "BaMpes7GQckw",
        "outputId": "a38a2f89-a453-4776-9df6-a27d7a83e1a4"
      },
      "source": [
        "check_size_dtypes(df['Bwd Packet Length Max'])"
      ],
      "execution_count": 35,
      "outputs": [
        {
          "output_type": "stream",
          "name": "stdout",
          "text": [
            "19530 max\n",
            "0 min\n",
            "22623008 This is the memory usage\n",
            "367379        6\n",
            "2406929    4344\n",
            "2583249     111\n",
            "1067784     207\n",
            "506069      109\n",
            "2783459       0\n",
            "1005202      75\n",
            "785076        0\n",
            "2176787     859\n",
            "1200625       6\n",
            "206907        0\n",
            "2026858     141\n",
            "2631563     186\n",
            "2508061     146\n",
            "427238        6\n",
            "1869335      59\n",
            "1253088      58\n",
            "621150      125\n",
            "729983       48\n",
            "965176     1418\n",
            "Name: Bwd Packet Length Max, dtype: int64\n"
          ]
        }
      ]
    },
    {
      "cell_type": "code",
      "metadata": {
        "colab": {
          "base_uri": "https://localhost:8080/"
        },
        "id": "5zDquUgJQckx",
        "outputId": "78fd10e8-ff53-4506-c4a5-26133a4b4d81"
      },
      "source": [
        "df['Bwd Packet Length Max'] = normalize(df['Bwd Packet Length Max'])\n",
        "df['Bwd Packet Length Max'] = convert_datatypes(df['Bwd Packet Length Max'])\n",
        "check_size_dtypes(df['Bwd Packet Length Max'])\n"
      ],
      "execution_count": 36,
      "outputs": [
        {
          "output_type": "stream",
          "name": "stdout",
          "text": [
            "Trying to convert datatypes for less memory usage\n",
            "255.0 max\n",
            "0.0 min\n",
            "22623008 memory usage\n",
            "2827876  new memory usage| the difference ->  8.0\n",
            "255 max\n",
            "0 min\n",
            "2827876 This is the memory usage\n",
            "2537505     0\n",
            "1305513    37\n",
            "1884985     1\n",
            "217804      5\n",
            "2278678     0\n",
            "2000550     0\n",
            "1878865     0\n",
            "574711     18\n",
            "1990976     0\n",
            "2067906     0\n",
            "1606585     0\n",
            "1158682     1\n",
            "947578      0\n",
            "896537      0\n",
            "2186506     0\n",
            "142414     76\n",
            "1773221     1\n",
            "1869975     0\n",
            "776609      1\n",
            "1551270     1\n",
            "Name: Bwd Packet Length Max, dtype: uint8\n"
          ]
        }
      ]
    },
    {
      "cell_type": "code",
      "metadata": {
        "id": "OWYGuNHXSAl7"
      },
      "source": [
        ""
      ],
      "execution_count": null,
      "outputs": []
    },
    {
      "cell_type": "code",
      "metadata": {
        "colab": {
          "base_uri": "https://localhost:8080/"
        },
        "id": "6y72ssn0gPzX",
        "outputId": "ab0c6b81-26bd-44a1-fe3c-38ef16ea99e6"
      },
      "source": [
        "print_title(' Bwd Packet Length Min')"
      ],
      "execution_count": null,
      "outputs": [
        {
          "output_type": "stream",
          "name": "stdout",
          "text": [
            "---------------  Bwd Packet Length Min -----------------\n",
            "---------------  Bwd Packet Length Min -----------------\n",
            "---------------  Bwd Packet Length Min -----------------\n",
            "---------------  Bwd Packet Length Min -----------------\n",
            "---------------  Bwd Packet Length Min -----------------\n"
          ]
        }
      ]
    },
    {
      "cell_type": "code",
      "metadata": {
        "colab": {
          "base_uri": "https://localhost:8080/"
        },
        "id": "R_zi2qPNQcqS",
        "outputId": "08c10fd6-9991-4eed-c129-c5727d756fb0"
      },
      "source": [
        "check_size_dtypes(df[' Bwd Packet Length Min'])"
      ],
      "execution_count": 37,
      "outputs": [
        {
          "output_type": "stream",
          "name": "stdout",
          "text": [
            "2896 max\n",
            "0 min\n",
            "22623008 This is the memory usage\n",
            "1285732    192\n",
            "948941      75\n",
            "2760404    100\n",
            "623527      48\n",
            "2083847    127\n",
            "2071726    175\n",
            "1829858      0\n",
            "2318371      0\n",
            "1704186      0\n",
            "2127370      0\n",
            "2784649     57\n",
            "1042885    142\n",
            "872188     109\n",
            "2132935    103\n",
            "1093387      6\n",
            "775730       0\n",
            "1217512    111\n",
            "621898     126\n",
            "2327591      0\n",
            "18981        0\n",
            "Name:  Bwd Packet Length Min, dtype: int64\n"
          ]
        }
      ]
    },
    {
      "cell_type": "code",
      "metadata": {
        "colab": {
          "base_uri": "https://localhost:8080/"
        },
        "id": "nkMpJsfoQcqT",
        "outputId": "c2c840c7-ce17-4388-b9f4-1f180fa8ba7c"
      },
      "source": [
        "df[' Bwd Packet Length Min'] = normalize(df[' Bwd Packet Length Min'])\n",
        "df[' Bwd Packet Length Min'] = convert_datatypes(df[' Bwd Packet Length Min'])\n",
        "check_size_dtypes(df[' Bwd Packet Length Min'])\n"
      ],
      "execution_count": 38,
      "outputs": [
        {
          "output_type": "stream",
          "name": "stdout",
          "text": [
            "Trying to convert datatypes for less memory usage\n",
            "255.0 max\n",
            "0.0 min\n",
            "22623008 memory usage\n",
            "2827876  new memory usage| the difference ->  8.0\n",
            "255 max\n",
            "0 min\n",
            "2827876 This is the memory usage\n",
            "116427      0\n",
            "1362845     0\n",
            "1060700     8\n",
            "548237      0\n",
            "309462      0\n",
            "2714248     9\n",
            "1181697    10\n",
            "1425268     0\n",
            "2651372    10\n",
            "1838306     4\n",
            "1718688     0\n",
            "1418531     0\n",
            "102626     11\n",
            "1221023     4\n",
            "1754080     0\n",
            "2273236     0\n",
            "2188385     0\n",
            "2335427     0\n",
            "88368       0\n",
            "1481096     0\n",
            "Name:  Bwd Packet Length Min, dtype: uint8\n"
          ]
        }
      ]
    },
    {
      "cell_type": "code",
      "metadata": {
        "id": "fNiv26_lSBdS"
      },
      "source": [
        ""
      ],
      "execution_count": null,
      "outputs": []
    },
    {
      "cell_type": "code",
      "metadata": {
        "colab": {
          "base_uri": "https://localhost:8080/"
        },
        "id": "5s2hJJ1nghDj",
        "outputId": "ca7315e3-1ee0-4403-f971-2fc6b804c476"
      },
      "source": [
        "print_title(' Bwd Packet Length Std')"
      ],
      "execution_count": null,
      "outputs": [
        {
          "output_type": "stream",
          "name": "stdout",
          "text": [
            "---------------  Bwd Packet Length Std -----------------\n",
            "---------------  Bwd Packet Length Std -----------------\n",
            "---------------  Bwd Packet Length Std -----------------\n",
            "---------------  Bwd Packet Length Std -----------------\n",
            "---------------  Bwd Packet Length Std -----------------\n"
          ]
        }
      ]
    },
    {
      "cell_type": "code",
      "metadata": {
        "colab": {
          "base_uri": "https://localhost:8080/"
        },
        "id": "JtMWsosiQcqT",
        "outputId": "864d65a6-c831-4a8c-9c87-87ac879268ad"
      },
      "source": [
        "check_size_dtypes(df[' Bwd Packet Length Std'])"
      ],
      "execution_count": 39,
      "outputs": [
        {
          "output_type": "stream",
          "name": "stdout",
          "text": [
            "8194.660487000001 max\n",
            "0.0 min\n",
            "22623008 This is the memory usage\n",
            "1897362      0.000000\n",
            "2376448      0.000000\n",
            "1433879      0.000000\n",
            "835431     498.067628\n",
            "865673       0.000000\n",
            "710835       0.000000\n",
            "1328220    721.287836\n",
            "685538     810.495815\n",
            "2324181      0.000000\n",
            "1308055      0.000000\n",
            "1949500      0.000000\n",
            "575169       0.000000\n",
            "1208203      0.000000\n",
            "2511660      0.000000\n",
            "2512485    111.722871\n",
            "1665521      0.000000\n",
            "2814425      0.000000\n",
            "1432905      0.000000\n",
            "1953985      0.000000\n",
            "1556798      0.000000\n",
            "Name:  Bwd Packet Length Std, dtype: float64\n"
          ]
        }
      ]
    },
    {
      "cell_type": "code",
      "metadata": {
        "colab": {
          "base_uri": "https://localhost:8080/"
        },
        "id": "i77fvDytajOX",
        "outputId": "c70466e4-72be-4d8e-ff59-a3babef9ad5d"
      },
      "source": [
        "df[' Bwd Packet Length Std'] = normalize(df[' Bwd Packet Length Std'])\n",
        "df[' Bwd Packet Length Std'] = convert_datatypes(df[' Bwd Packet Length Std'])\n",
        "check_size_dtypes(df[' Bwd Packet Length Std'])"
      ],
      "execution_count": 40,
      "outputs": [
        {
          "output_type": "stream",
          "name": "stdout",
          "text": [
            "Trying to convert datatypes for less memory usage\n",
            "255.0 max\n",
            "0.0 min\n",
            "22623008 memory usage\n",
            "2827876  new memory usage| the difference ->  8.0\n",
            "255 max\n",
            "0 min\n",
            "2827876 This is the memory usage\n",
            "156800       0\n",
            "2823385      0\n",
            "225329       0\n",
            "1573724      0\n",
            "1290439      0\n",
            "1419043      0\n",
            "47985      110\n",
            "1727810      0\n",
            "1315047      0\n",
            "1496877      0\n",
            "2575275      0\n",
            "957778       0\n",
            "1596203      0\n",
            "35872      104\n",
            "569860       0\n",
            "933274       0\n",
            "2351947      0\n",
            "2280186      0\n",
            "385639       0\n",
            "1885694     28\n",
            "Name:  Bwd Packet Length Std, dtype: uint8\n"
          ]
        }
      ]
    },
    {
      "cell_type": "code",
      "metadata": {
        "id": "Uvdlr-uIbFtb"
      },
      "source": [
        ""
      ],
      "execution_count": null,
      "outputs": []
    },
    {
      "cell_type": "code",
      "metadata": {
        "colab": {
          "base_uri": "https://localhost:8080/"
        },
        "id": "tCFvnnYLgsXW",
        "outputId": "6915e9fd-4276-42d1-bff2-46a1db480f62"
      },
      "source": [
        "print_title(' Bwd Packet Length Mean')"
      ],
      "execution_count": null,
      "outputs": [
        {
          "output_type": "stream",
          "name": "stdout",
          "text": [
            "---------------  Bwd Packet Length Mean -----------------\n",
            "---------------  Bwd Packet Length Mean -----------------\n",
            "---------------  Bwd Packet Length Mean -----------------\n",
            "---------------  Bwd Packet Length Mean -----------------\n",
            "---------------  Bwd Packet Length Mean -----------------\n"
          ]
        }
      ]
    },
    {
      "cell_type": "code",
      "metadata": {
        "colab": {
          "base_uri": "https://localhost:8080/"
        },
        "id": "Py4gmqHwbFzw",
        "outputId": "356135cf-4a3f-4cf8-9d89-c53392340770"
      },
      "source": [
        "check_size_dtypes(df[' Bwd Packet Length Mean'])\n"
      ],
      "execution_count": 41,
      "outputs": [
        {
          "output_type": "stream",
          "name": "stdout",
          "text": [
            "5800.5 max\n",
            "0.0 min\n",
            "22623008 This is the memory usage\n",
            "351761       6.000000\n",
            "1368675      0.000000\n",
            "922324     114.000000\n",
            "1947654    100.000000\n",
            "1413813      6.000000\n",
            "771946       0.000000\n",
            "1172918     56.000000\n",
            "1451552     95.222222\n",
            "2578168    206.000000\n",
            "1862214    142.000000\n",
            "2150472      0.000000\n",
            "483658     988.090909\n",
            "2207839      0.000000\n",
            "2557969     48.000000\n",
            "805258       0.000000\n",
            "361700       6.000000\n",
            "407159       6.000000\n",
            "924920     193.000000\n",
            "2526521    143.000000\n",
            "2140820     48.000000\n",
            "Name:  Bwd Packet Length Mean, dtype: float64\n"
          ]
        }
      ]
    },
    {
      "cell_type": "code",
      "metadata": {
        "colab": {
          "base_uri": "https://localhost:8080/"
        },
        "id": "QWsoTIetQcqU",
        "outputId": "4b4046a3-6de3-46fc-fae0-3b31b3b50d89"
      },
      "source": [
        "df[' Bwd Packet Length Mean'] = normalize(df[' Bwd Packet Length Mean'])\n",
        "df[' Bwd Packet Length Mean'] = convert_datatypes(df[' Bwd Packet Length Mean'])\n",
        "check_size_dtypes(df[' Bwd Packet Length Mean'])\n"
      ],
      "execution_count": 42,
      "outputs": [
        {
          "output_type": "stream",
          "name": "stdout",
          "text": [
            "Trying to convert datatypes for less memory usage\n",
            "255.0 max\n",
            "0.0 min\n",
            "22623008 memory usage\n",
            "2827876  new memory usage| the difference ->  8.0\n",
            "255 max\n",
            "0 min\n",
            "2827876 This is the memory usage\n",
            "1232725    0\n",
            "2622985    0\n",
            "1114394    3\n",
            "1814836    5\n",
            "1779303    4\n",
            "297162     2\n",
            "1394002    0\n",
            "1204956    0\n",
            "2245180    3\n",
            "1268236    0\n",
            "1163435    0\n",
            "2682435    7\n",
            "758935     4\n",
            "2789969    3\n",
            "327600     0\n",
            "1244114    4\n",
            "2797907    5\n",
            "442507     0\n",
            "1498501    0\n",
            "2554544    5\n",
            "Name:  Bwd Packet Length Mean, dtype: uint8\n"
          ]
        }
      ]
    },
    {
      "cell_type": "code",
      "metadata": {
        "id": "juM94O1XQXmr"
      },
      "source": [
        "ll"
      ],
      "execution_count": null,
      "outputs": []
    },
    {
      "cell_type": "code",
      "metadata": {
        "colab": {
          "base_uri": "https://localhost:8080/"
        },
        "id": "oC2c8TM2QXsS",
        "outputId": "40a09e54-34a6-414e-f9e4-1ca0f40336b0"
      },
      "source": [
        "print_title('flow bytes')"
      ],
      "execution_count": null,
      "outputs": [
        {
          "output_type": "stream",
          "name": "stdout",
          "text": [
            "--------------- flow bytes -----------------\n",
            "--------------- flow bytes -----------------\n",
            "--------------- flow bytes -----------------\n",
            "--------------- flow bytes -----------------\n",
            "--------------- flow bytes -----------------\n"
          ]
        }
      ]
    },
    {
      "cell_type": "code",
      "metadata": {
        "colab": {
          "base_uri": "https://localhost:8080/"
        },
        "id": "Tilf589KQXvR",
        "outputId": "cd0f44d0-e914-4b8e-ccb7-d21b8bbf491b"
      },
      "source": [
        "check_size_dtypes(df['Flow Bytes/s'])"
      ],
      "execution_count": 43,
      "outputs": [
        {
          "output_type": "stream",
          "name": "stdout",
          "text": [
            "2071000000.0 max\n",
            "-261000000.0 min\n",
            "22623008 This is the memory usage\n",
            "817231     1.234531e+03\n",
            "2458817    0.000000e+00\n",
            "1559043    4.300000e+07\n",
            "2550574    7.389485e+03\n",
            "748967     4.753623e+05\n",
            "807340     3.000000e+06\n",
            "2489170    1.030000e+07\n",
            "1938477    2.437743e+01\n",
            "2068980    0.000000e+00\n",
            "1205132    5.714286e+05\n",
            "1888401    1.471880e+03\n",
            "2564550    2.099939e+02\n",
            "1486452    0.000000e+00\n",
            "673361     1.591162e+04\n",
            "1238592    8.099215e+03\n",
            "821315     1.940981e+03\n",
            "124889     1.293589e+02\n",
            "2393997    1.244426e+02\n",
            "288876     0.000000e+00\n",
            "762952     8.052751e+03\n",
            "Name: Flow Bytes/s, dtype: float64\n"
          ]
        }
      ]
    },
    {
      "cell_type": "code",
      "metadata": {
        "colab": {
          "base_uri": "https://localhost:8080/"
        },
        "id": "BhtIFUUpnpVY",
        "outputId": "3fd2003b-956f-4921-b85b-709146978a9e"
      },
      "source": [
        "# normalize(df['Flow Bytes/s'])\n",
        "df['Flow Bytes/s'].sample(20)"
      ],
      "execution_count": null,
      "outputs": [
        {
          "output_type": "execute_result",
          "data": {
            "text/plain": [
              "2352427    32\n",
              "757708     32\n",
              "113298     32\n",
              "2560968    32\n",
              "1766809    32\n",
              "279924     32\n",
              "476795     32\n",
              "2650600    32\n",
              "310196     32\n",
              "1161922    32\n",
              "2429163    32\n",
              "2163890    32\n",
              "1411450    32\n",
              "542497     32\n",
              "1128521    32\n",
              "384644     32\n",
              "193474     32\n",
              "2379959    32\n",
              "1462267    32\n",
              "1024140    32\n",
              "Name: Flow Bytes/s, dtype: uint8"
            ]
          },
          "metadata": {},
          "execution_count": 43
        }
      ]
    },
    {
      "cell_type": "code",
      "metadata": {
        "colab": {
          "base_uri": "https://localhost:8080/"
        },
        "id": "K9EKtabVQXyq",
        "outputId": "55b2993c-bc88-465f-91c8-49311245cee2"
      },
      "source": [
        "df['Flow Bytes/s'] = normalize(df['Flow Bytes/s'])\n",
        "\n",
        "df['Flow Bytes/s'] = convert_datatypes(df['Flow Bytes/s'])\n",
        "check_size_dtypes(df['Flow Bytes/s'])"
      ],
      "execution_count": 44,
      "outputs": [
        {
          "output_type": "stream",
          "name": "stdout",
          "text": [
            "Trying to convert datatypes for less memory usage\n",
            "287.1366489618542 max\n",
            "0.0 min\n",
            "22623008 memory usage\n",
            "2827876  new memory usage| the difference ->  8.0\n",
            "210 max\n",
            "0 min\n",
            "2827876 This is the memory usage\n",
            "1505128    32\n",
            "1914372    32\n",
            "2153374    32\n",
            "1141374    32\n",
            "1709850    32\n",
            "1770105    32\n",
            "2394964    32\n",
            "2198550    32\n",
            "2200732    32\n",
            "658476     32\n",
            "495343     32\n",
            "2434593    32\n",
            "358847     32\n",
            "661924     32\n",
            "1952249    32\n",
            "1132321    32\n",
            "1202813    32\n",
            "464417     32\n",
            "2710602    32\n",
            "242629     32\n",
            "Name: Flow Bytes/s, dtype: uint8\n"
          ]
        }
      ]
    },
    {
      "cell_type": "code",
      "metadata": {
        "id": "5mAz2r2EiMkJ",
        "colab": {
          "base_uri": "https://localhost:8080/"
        },
        "outputId": "079bb495-453d-42b6-efb4-002991536705"
      },
      "source": [
        "check_size_dtypes(df['Flow Bytes/s'])"
      ],
      "execution_count": 45,
      "outputs": [
        {
          "output_type": "stream",
          "name": "stdout",
          "text": [
            "210 max\n",
            "0 min\n",
            "2827876 This is the memory usage\n",
            "1270420    32\n",
            "2225183    32\n",
            "1062530    32\n",
            "2729648    32\n",
            "1941061    32\n",
            "2737251    32\n",
            "980707     32\n",
            "2500393    32\n",
            "1552024    32\n",
            "1610622    32\n",
            "698139     32\n",
            "46838      32\n",
            "786678     32\n",
            "352613     32\n",
            "1292482    33\n",
            "1221917    32\n",
            "342557     32\n",
            "794539     32\n",
            "1379856    32\n",
            "1213758    32\n",
            "Name: Flow Bytes/s, dtype: uint8\n"
          ]
        }
      ]
    },
    {
      "cell_type": "code",
      "metadata": {
        "colab": {
          "base_uri": "https://localhost:8080/"
        },
        "id": "0e7J-1p1QX4r",
        "outputId": "e1be1131-eedb-4460-fd98-ba7a454bbae1"
      },
      "source": [
        "check_size_dtypes(df[' Flow IAT Mean'])"
      ],
      "execution_count": 46,
      "outputs": [
        {
          "output_type": "stream",
          "name": "stdout",
          "text": [
            "120000000.0 max\n",
            "-13.0 min\n",
            "22623008 This is the memory usage\n",
            "1859271    3.682700e+04\n",
            "547989     9.630793e+05\n",
            "1556405    6.872333e+03\n",
            "1557767    1.993150e+06\n",
            "1405618    2.433333e+01\n",
            "275359     2.632260e+04\n",
            "2077699    1.900000e+01\n",
            "1609325    1.981807e+06\n",
            "2662615    1.559020e+04\n",
            "2545161    1.586229e+05\n",
            "885827     2.076450e+05\n",
            "1624767    5.400000e+01\n",
            "1710766    4.717500e+04\n",
            "2583612    5.159458e+04\n",
            "668869     1.676058e+04\n",
            "2801269    1.400000e+01\n",
            "2575488    2.414916e+06\n",
            "1170213    4.400000e+01\n",
            "721568     2.353700e+04\n",
            "198293     3.294394e+05\n",
            "Name:  Flow IAT Mean, dtype: float64\n"
          ]
        }
      ]
    },
    {
      "cell_type": "code",
      "metadata": {
        "colab": {
          "base_uri": "https://localhost:8080/"
        },
        "id": "efUpE-z3hl-n",
        "outputId": "8e96ee2e-76e9-4fbd-c5aa-089c47f838d2"
      },
      "source": [
        "df[' Flow IAT Mean'] = normalize(df[' Flow IAT Mean'])\n",
        "df[' Flow IAT Mean'] = convert_datatypes(df[' Flow IAT Mean'])\n",
        "check_size_dtypes(df[' Flow IAT Mean'])\n"
      ],
      "execution_count": 47,
      "outputs": [
        {
          "output_type": "stream",
          "name": "stdout",
          "text": [
            "Trying to convert datatypes for less memory usage\n",
            "255.00002762500003 max\n",
            "0.0 min\n",
            "22623008 memory usage\n",
            "2827876  new memory usage| the difference ->  8.0\n",
            "255 max\n",
            "0 min\n",
            "2827876 This is the memory usage\n",
            "2170917     0\n",
            "2626660     7\n",
            "608865      0\n",
            "76795       0\n",
            "2783530     0\n",
            "61090      10\n",
            "1159832     0\n",
            "464961      0\n",
            "2812971     0\n",
            "1013905     7\n",
            "1420335     0\n",
            "935460      0\n",
            "1623344     2\n",
            "2717166     0\n",
            "1879212     4\n",
            "1192033     0\n",
            "574039      0\n",
            "2782113     0\n",
            "879944      0\n",
            "1572237     0\n",
            "Name:  Flow IAT Mean, dtype: uint8\n"
          ]
        }
      ]
    },
    {
      "cell_type": "code",
      "metadata": {
        "colab": {
          "base_uri": "https://localhost:8080/"
        },
        "id": "8gVXqdp2h1Df",
        "outputId": "3496077c-fded-4367-9d11-e7b5f05d9074"
      },
      "source": [
        "print_title('flow IAT STD')"
      ],
      "execution_count": null,
      "outputs": [
        {
          "output_type": "stream",
          "name": "stdout",
          "text": [
            "--------------- flow IAT STD -----------------\n",
            "--------------- flow IAT STD -----------------\n",
            "--------------- flow IAT STD -----------------\n",
            "--------------- flow IAT STD -----------------\n",
            "--------------- flow IAT STD -----------------\n"
          ]
        }
      ]
    },
    {
      "cell_type": "code",
      "metadata": {
        "colab": {
          "base_uri": "https://localhost:8080/"
        },
        "id": "qPY7bTxKhmBf",
        "outputId": "c5816789-3734-4efe-e177-faef216353ee"
      },
      "source": [
        " check_size_dtypes(df[' Flow IAT Std'])"
      ],
      "execution_count": 48,
      "outputs": [
        {
          "output_type": "stream",
          "name": "stdout",
          "text": [
            "84800261.5664079 max\n",
            "0.0 min\n",
            "22623008 This is the memory usage\n",
            "613795     6.223343e+01\n",
            "273526     6.107645e+01\n",
            "158706     1.251953e+06\n",
            "912398     0.000000e+00\n",
            "400770     0.000000e+00\n",
            "2445076    4.722046e+06\n",
            "2191188    0.000000e+00\n",
            "2431809    3.030000e+07\n",
            "2473347    1.556308e+06\n",
            "2137896    7.079058e+04\n",
            "2576104    1.530000e+07\n",
            "298232     2.874223e+05\n",
            "2796992    0.000000e+00\n",
            "2085022    0.000000e+00\n",
            "428060     0.000000e+00\n",
            "2440649    6.844794e+02\n",
            "1073002    4.324434e+06\n",
            "1246403    1.366879e+04\n",
            "2457400    0.000000e+00\n",
            "170446     4.145761e+06\n",
            "Name:  Flow IAT Std, dtype: float64\n"
          ]
        }
      ]
    },
    {
      "cell_type": "code",
      "metadata": {
        "colab": {
          "base_uri": "https://localhost:8080/"
        },
        "id": "K2ihkRzfhmDw",
        "outputId": "024ff335-ed08-4599-fdb7-6d509bf45b71"
      },
      "source": [
        "df[' Flow IAT Std'] = normalize(df[' Flow IAT Std'])\n",
        "df[' Flow IAT Std'] = convert_datatypes(df[' Flow IAT Std'])\n",
        "check_size_dtypes(df[' Flow IAT Std'])"
      ],
      "execution_count": 49,
      "outputs": [
        {
          "output_type": "stream",
          "name": "stdout",
          "text": [
            "Trying to convert datatypes for less memory usage\n",
            "255.0 max\n",
            "0.0 min\n",
            "22623008 memory usage\n",
            "2827876  new memory usage| the difference ->  8.0\n",
            "255 max\n",
            "0 min\n",
            "2827876 This is the memory usage\n",
            "1559995     0\n",
            "1436568     7\n",
            "1476097     0\n",
            "69373       0\n",
            "133038      0\n",
            "2178267     0\n",
            "770968      0\n",
            "1622810     0\n",
            "227262      0\n",
            "1095419     0\n",
            "831990      0\n",
            "1863186     4\n",
            "144450      3\n",
            "1743854     0\n",
            "505345      0\n",
            "910332      0\n",
            "445624      0\n",
            "2579925     0\n",
            "2156167     0\n",
            "2590218    13\n",
            "Name:  Flow IAT Std, dtype: uint8\n"
          ]
        }
      ]
    },
    {
      "cell_type": "code",
      "metadata": {
        "colab": {
          "base_uri": "https://localhost:8080/"
        },
        "id": "wiWZjlobhmGv",
        "outputId": "560fb2ea-0083-4c9e-ccbc-e23d1c07e0d4"
      },
      "source": [
        "print_title('Flow packets')"
      ],
      "execution_count": null,
      "outputs": [
        {
          "output_type": "stream",
          "name": "stdout",
          "text": [
            "--------------- Flow packets -----------------\n",
            "--------------- Flow packets -----------------\n",
            "--------------- Flow packets -----------------\n",
            "--------------- Flow packets -----------------\n",
            "--------------- Flow packets -----------------\n"
          ]
        }
      ]
    },
    {
      "cell_type": "code",
      "metadata": {
        "colab": {
          "base_uri": "https://localhost:8080/"
        },
        "id": "iuKVAFqWhmJo",
        "outputId": "9c9c8756-016d-4d5b-af23-ea5b08735a79"
      },
      "source": [
        "check_size_dtypes(df[' Flow Packets/s'])"
      ],
      "execution_count": 50,
      "outputs": [
        {
          "output_type": "stream",
          "name": "stdout",
          "text": [
            "4000000.0 max\n",
            "-2000000.0 min\n",
            "22623008 This is the memory usage\n",
            "329757     20618.556700\n",
            "1579333    82474.226800\n",
            "1938180       40.152580\n",
            "2222965        0.103421\n",
            "725618     21164.021164\n",
            "384566     43478.260870\n",
            "2215540       71.554815\n",
            "1149238       46.728426\n",
            "2191933        0.165650\n",
            "530807         0.058809\n",
            "633122     11527.377520\n",
            "1162501    24390.243902\n",
            "2826896    22471.910110\n",
            "1143463    17391.304348\n",
            "2587874    22471.910110\n",
            "2118494       81.076699\n",
            "2827394    35087.719300\n",
            "2787512    19047.619050\n",
            "1693644        0.451275\n",
            "1028645       65.683602\n",
            "Name:  Flow Packets/s, dtype: float64\n"
          ]
        }
      ]
    },
    {
      "cell_type": "code",
      "metadata": {
        "colab": {
          "base_uri": "https://localhost:8080/"
        },
        "id": "vAVp7IduhmMQ",
        "outputId": "9e95db3a-b349-495e-a140-c2bdb65c8518"
      },
      "source": [
        "df[' Flow Packets/s'] = normalize(df[' Flow Packets/s'])\n",
        "df[' Flow Packets/s'] = convert_datatypes(df[' Flow Packets/s'])\n",
        "check_size_dtypes(df[' Flow Packets/s'])"
      ],
      "execution_count": 51,
      "outputs": [
        {
          "output_type": "stream",
          "name": "stdout",
          "text": [
            "Trying to convert datatypes for less memory usage\n",
            "382.5 max\n",
            "0.0 min\n",
            "22623008 memory usage\n",
            "2827876  new memory usage| the difference ->  8.0\n",
            "255 max\n",
            "0 min\n",
            "2827876 This is the memory usage\n",
            "1708455    127\n",
            "380355     129\n",
            "590442     128\n",
            "697657     127\n",
            "1026824    128\n",
            "116579     127\n",
            "1932814    127\n",
            "64710      127\n",
            "1113060    127\n",
            "1345443    129\n",
            "2226908    127\n",
            "2341798    127\n",
            "1795290    127\n",
            "2441179    127\n",
            "1819323    127\n",
            "414295     130\n",
            "1310328    127\n",
            "325894     130\n",
            "1056112    127\n",
            "582268     127\n",
            "Name:  Flow Packets/s, dtype: uint8\n"
          ]
        }
      ]
    },
    {
      "cell_type": "code",
      "metadata": {
        "colab": {
          "base_uri": "https://localhost:8080/"
        },
        "id": "GGuM6eCmhmPJ",
        "outputId": "7c81c171-7fbc-4a75-9ae1-f500ca44bf01"
      },
      "source": [
        "print_title(' Flow IAT Max')"
      ],
      "execution_count": null,
      "outputs": [
        {
          "output_type": "stream",
          "name": "stdout",
          "text": [
            "---------------  Flow IAT Max -----------------\n",
            "---------------  Flow IAT Max -----------------\n",
            "---------------  Flow IAT Max -----------------\n",
            "---------------  Flow IAT Max -----------------\n",
            "---------------  Flow IAT Max -----------------\n"
          ]
        }
      ]
    },
    {
      "cell_type": "code",
      "metadata": {
        "colab": {
          "base_uri": "https://localhost:8080/"
        },
        "id": "mPyXz4O7hmUY",
        "outputId": "91bc3033-5979-4c8b-c519-95386f7d660a"
      },
      "source": [
        " check_size_dtypes(df[' Flow IAT Max'])\n",
        " "
      ],
      "execution_count": 52,
      "outputs": [
        {
          "output_type": "stream",
          "name": "stdout",
          "text": [
            "120000000 max\n",
            "-13 min\n",
            "22623008 This is the memory usage\n",
            "1460632         184\n",
            "2419305         198\n",
            "574694        30469\n",
            "307860      9798956\n",
            "2437050    82800000\n",
            "80483        116366\n",
            "513400        15088\n",
            "438424           26\n",
            "1200426       24436\n",
            "2094120        1256\n",
            "1991973       32929\n",
            "2069141      185740\n",
            "2586901       30384\n",
            "2788537          84\n",
            "1681153    92800000\n",
            "1396812          13\n",
            "1553334       30999\n",
            "693541      1867734\n",
            "2225187           3\n",
            "728277      5220396\n",
            "Name:  Flow IAT Max, dtype: int64\n"
          ]
        }
      ]
    },
    {
      "cell_type": "code",
      "metadata": {
        "colab": {
          "base_uri": "https://localhost:8080/"
        },
        "id": "BKvIHvVjhmXn",
        "outputId": "96de2375-9185-4947-9b8a-dec819f564c6"
      },
      "source": [
        "df[' Flow IAT Max'] = normalize(df[' Flow IAT Max'])\n",
        "df[' Flow IAT Max'] = convert_datatypes(df[' Flow IAT Max'])\n",
        "\n",
        "check_size_dtypes(df[' Flow IAT Max'])"
      ],
      "execution_count": 53,
      "outputs": [
        {
          "output_type": "stream",
          "name": "stdout",
          "text": [
            "Trying to convert datatypes for less memory usage\n",
            "255.00002762500003 max\n",
            "0.0 min\n",
            "22623008 memory usage\n",
            "2827876  new memory usage| the difference ->  8.0\n",
            "255 max\n",
            "0 min\n",
            "2827876 This is the memory usage\n",
            "2280209     0\n",
            "2797118    21\n",
            "1112093     0\n",
            "1285337     0\n",
            "1886023     0\n",
            "2751305     1\n",
            "1581021     0\n",
            "1366165     9\n",
            "397553      0\n",
            "1930209     0\n",
            "2725653     0\n",
            "1101366     0\n",
            "2689756     0\n",
            "479022      0\n",
            "1518502     0\n",
            "1507217     0\n",
            "2726962     0\n",
            "1306777     0\n",
            "717538      0\n",
            "219496      0\n",
            "Name:  Flow IAT Max, dtype: uint8\n"
          ]
        }
      ]
    },
    {
      "cell_type": "code",
      "metadata": {
        "id": "Iiweq7Edh96P"
      },
      "source": [
        ""
      ],
      "execution_count": null,
      "outputs": []
    },
    {
      "cell_type": "code",
      "metadata": {
        "id": "OQivAEF7h985"
      },
      "source": [
        "# check_size_dtypes(df[' Flow IAT Mean'])\n",
        " \n",
        " "
      ],
      "execution_count": null,
      "outputs": []
    },
    {
      "cell_type": "code",
      "metadata": {
        "id": "MmRtFk6Zh9_m"
      },
      "source": [
        "# check_size_dtypes(df[' Flow IAT Max'])"
      ],
      "execution_count": null,
      "outputs": []
    },
    {
      "cell_type": "code",
      "metadata": {
        "colab": {
          "base_uri": "https://localhost:8080/"
        },
        "id": "JKILVVeTh-CL",
        "outputId": "710910e6-c77f-4271-939b-e2d1cb94e9a8"
      },
      "source": [
        "print_title('flow IAT mean')"
      ],
      "execution_count": null,
      "outputs": [
        {
          "output_type": "stream",
          "name": "stdout",
          "text": [
            "--------------- flow IAT mean -----------------\n",
            "--------------- flow IAT mean -----------------\n",
            "--------------- flow IAT mean -----------------\n",
            "--------------- flow IAT mean -----------------\n",
            "--------------- flow IAT mean -----------------\n"
          ]
        }
      ]
    },
    {
      "cell_type": "code",
      "metadata": {
        "colab": {
          "base_uri": "https://localhost:8080/"
        },
        "id": "suZaKT2ih-E_",
        "outputId": "269efb97-6eae-4673-d1c5-001a529d60d9"
      },
      "source": [
        "check_size_dtypes(df[' Flow IAT Min'])"
      ],
      "execution_count": 54,
      "outputs": [
        {
          "output_type": "stream",
          "name": "stdout",
          "text": [
            "120000000 max\n",
            "-14 min\n",
            "22623008 This is the memory usage\n",
            "598333         4\n",
            "810772      7360\n",
            "785938     77537\n",
            "1313408        3\n",
            "428522        97\n",
            "1480497        3\n",
            "134814       319\n",
            "2385128        3\n",
            "876232       113\n",
            "1802789    61083\n",
            "136294         3\n",
            "2023529        4\n",
            "68794          3\n",
            "914568     12411\n",
            "220132     19745\n",
            "1908812        1\n",
            "1803009        3\n",
            "2332369       30\n",
            "2401764        1\n",
            "1039191        1\n",
            "Name:  Flow IAT Min, dtype: int64\n"
          ]
        }
      ]
    },
    {
      "cell_type": "code",
      "metadata": {
        "colab": {
          "base_uri": "https://localhost:8080/"
        },
        "id": "sO17C4YUh-Hp",
        "outputId": "41c6e3a1-47d6-4eca-8638-e551f8095263"
      },
      "source": [
        "df[' Flow IAT Min'] = normalize(df[' Flow IAT Min'])\n",
        "df[' Flow IAT Min'] = convert_datatypes(df[' Flow IAT Min'])\n",
        "check_size_dtypes(df[' Flow IAT Min'])\n",
        "\n",
        "# df[' Flow IAT Min'].value_counts()"
      ],
      "execution_count": 55,
      "outputs": [
        {
          "output_type": "stream",
          "name": "stdout",
          "text": [
            "Trying to convert datatypes for less memory usage\n",
            "255.00002975000004 max\n",
            "0.0 min\n",
            "22623008 memory usage\n",
            "2827876  new memory usage| the difference ->  8.0\n",
            "255 max\n",
            "0 min\n",
            "2827876 This is the memory usage\n",
            "2672717    0\n",
            "139907     0\n",
            "1102203    0\n",
            "232878     0\n",
            "1699980    0\n",
            "418264     0\n",
            "2790249    0\n",
            "1766422    0\n",
            "10674      0\n",
            "1045051    0\n",
            "786150     0\n",
            "796788     0\n",
            "251470     0\n",
            "890986     0\n",
            "2026407    0\n",
            "1426556    0\n",
            "1733782    0\n",
            "1231740    0\n",
            "2254936    0\n",
            "2111072    0\n",
            "Name:  Flow IAT Min, dtype: uint8\n"
          ]
        }
      ]
    },
    {
      "cell_type": "code",
      "metadata": {
        "id": "J9MQ7Ytih-OI"
      },
      "source": [
        ""
      ],
      "execution_count": null,
      "outputs": []
    },
    {
      "cell_type": "code",
      "metadata": {
        "colab": {
          "base_uri": "https://localhost:8080/"
        },
        "id": "Ql0ijaJ6jz3u",
        "outputId": "1a0a83fd-64b0-483a-ab20-9abc1ef44712"
      },
      "source": [
        "print_title('FWD IAT Total')"
      ],
      "execution_count": null,
      "outputs": [
        {
          "output_type": "stream",
          "name": "stdout",
          "text": [
            "--------------- FWD IAT Total -----------------\n",
            "--------------- FWD IAT Total -----------------\n",
            "--------------- FWD IAT Total -----------------\n",
            "--------------- FWD IAT Total -----------------\n",
            "--------------- FWD IAT Total -----------------\n"
          ]
        }
      ]
    },
    {
      "cell_type": "code",
      "metadata": {
        "colab": {
          "base_uri": "https://localhost:8080/"
        },
        "id": "k24bMoFFiScy",
        "outputId": "d41a3aa8-600f-4a7d-b9dd-09f427ff448c"
      },
      "source": [
        "check_size_dtypes(df['Fwd IAT Total'])"
      ],
      "execution_count": 56,
      "outputs": [
        {
          "output_type": "stream",
          "name": "stdout",
          "text": [
            "120000000 max\n",
            "0 min\n",
            "22623008 This is the memory usage\n",
            "2749501          48\n",
            "954397            0\n",
            "2245137        1986\n",
            "1416447           4\n",
            "1485509          48\n",
            "2539904           0\n",
            "995873       146373\n",
            "2195079     1588370\n",
            "397800            0\n",
            "874152        92572\n",
            "1599414           0\n",
            "1075787           3\n",
            "2410728    98800000\n",
            "1541647       22650\n",
            "2656891           0\n",
            "327462            0\n",
            "2592885     5235721\n",
            "757009      5551392\n",
            "1351014           3\n",
            "1316975     4180748\n",
            "Name: Fwd IAT Total, dtype: int64\n"
          ]
        }
      ]
    },
    {
      "cell_type": "code",
      "metadata": {
        "colab": {
          "base_uri": "https://localhost:8080/"
        },
        "id": "0fZ7smqsiSfV",
        "outputId": "0426708c-946d-424f-97c3-2656f75d9ddf"
      },
      "source": [
        "df['Fwd IAT Total'] = normalize(df['Fwd IAT Total'])\n",
        "df['Fwd IAT Total'] = convert_datatypes(df['Fwd IAT Total'])\n",
        "\n",
        "check_size_dtypes(df['Fwd IAT Total'])\n"
      ],
      "execution_count": 57,
      "outputs": [
        {
          "output_type": "stream",
          "name": "stdout",
          "text": [
            "Trying to convert datatypes for less memory usage\n",
            "255.0 max\n",
            "0.0 min\n",
            "22623008 memory usage\n",
            "2827876  new memory usage| the difference ->  8.0\n",
            "255 max\n",
            "0 min\n",
            "2827876 This is the memory usage\n",
            "2672832      0\n",
            "73061        0\n",
            "2206182      0\n",
            "1079993      0\n",
            "945596       0\n",
            "2813147      0\n",
            "928550       0\n",
            "1570096      0\n",
            "23328        0\n",
            "1294236      0\n",
            "1315916    248\n",
            "451583       0\n",
            "2307364    209\n",
            "2343876    209\n",
            "1422639      0\n",
            "292441       0\n",
            "1063698      0\n",
            "1367291      0\n",
            "518752       0\n",
            "388323       0\n",
            "Name: Fwd IAT Total, dtype: uint8\n"
          ]
        }
      ]
    },
    {
      "cell_type": "code",
      "metadata": {
        "id": "Z7Ahl-lPiSiG",
        "colab": {
          "base_uri": "https://localhost:8080/"
        },
        "outputId": "a0713ced-200b-414a-d681-f708170282e6"
      },
      "source": [
        "print_title('FWD IAT MEAN')"
      ],
      "execution_count": null,
      "outputs": [
        {
          "output_type": "stream",
          "name": "stdout",
          "text": [
            "--------------- FWD IAT MEAN -----------------\n",
            "--------------- FWD IAT MEAN -----------------\n",
            "--------------- FWD IAT MEAN -----------------\n",
            "--------------- FWD IAT MEAN -----------------\n",
            "--------------- FWD IAT MEAN -----------------\n"
          ]
        }
      ]
    },
    {
      "cell_type": "code",
      "metadata": {
        "colab": {
          "base_uri": "https://localhost:8080/"
        },
        "id": "dsNguEaWiSlI",
        "outputId": "906579ed-5eca-48ed-ba9d-2e511ce2887e"
      },
      "source": [
        " check_size_dtypes(df[' Fwd IAT Mean'])\n"
      ],
      "execution_count": 58,
      "outputs": [
        {
          "output_type": "stream",
          "name": "stdout",
          "text": [
            "120000000.0 max\n",
            "0.0 min\n",
            "22623008 This is the memory usage\n",
            "2478365    0.000000e+00\n",
            "2557884    6.079367e+04\n",
            "1376626    0.000000e+00\n",
            "302816     4.374663e+06\n",
            "1933020    0.000000e+00\n",
            "738805     7.705296e+05\n",
            "1369406    3.000000e+00\n",
            "1890839    1.327180e+04\n",
            "236578     1.276667e+02\n",
            "1663617    0.000000e+00\n",
            "1717983    7.872654e+06\n",
            "1718914    7.026289e+05\n",
            "2765430    0.000000e+00\n",
            "645724     0.000000e+00\n",
            "2731684    1.749160e+05\n",
            "68774      1.000000e+00\n",
            "2490027    1.086319e+06\n",
            "1360960    1.000000e+00\n",
            "2569483    6.765500e+03\n",
            "2012946    0.000000e+00\n",
            "Name:  Fwd IAT Mean, dtype: float64\n"
          ]
        }
      ]
    },
    {
      "cell_type": "code",
      "metadata": {
        "colab": {
          "base_uri": "https://localhost:8080/"
        },
        "id": "VkFy5lRbiSn1",
        "outputId": "e42f6737-4fc2-4e23-e67a-557d6a33ee44"
      },
      "source": [
        "df[' Fwd IAT Mean'] = normalize(df[' Fwd IAT Mean'])\n",
        "df[' Fwd IAT Mean'] = convert_datatypes(df[' Fwd IAT Mean'])\n",
        "\n",
        "check_size_dtypes(df[' Fwd IAT Mean'])\n"
      ],
      "execution_count": 59,
      "outputs": [
        {
          "output_type": "stream",
          "name": "stdout",
          "text": [
            "Trying to convert datatypes for less memory usage\n",
            "255.0 max\n",
            "0.0 min\n",
            "22623008 memory usage\n",
            "2827876  new memory usage| the difference ->  8.0\n",
            "255 max\n",
            "0 min\n",
            "2827876 This is the memory usage\n",
            "2008986     0\n",
            "1560788     0\n",
            "2654158     0\n",
            "1135768     0\n",
            "788776      0\n",
            "1992827     0\n",
            "2753709     0\n",
            "198111      0\n",
            "782002      0\n",
            "308380      0\n",
            "34128       0\n",
            "2425434     0\n",
            "1664990     0\n",
            "2401612    29\n",
            "1405288     0\n",
            "2309644    29\n",
            "2557357     0\n",
            "1027067     0\n",
            "22627       3\n",
            "2117544     0\n",
            "Name:  Fwd IAT Mean, dtype: uint8\n"
          ]
        }
      ]
    },
    {
      "cell_type": "code",
      "metadata": {
        "colab": {
          "base_uri": "https://localhost:8080/"
        },
        "id": "aBnejvuJiSqt",
        "outputId": "45e2981a-29ba-4577-ac8b-d7a359da25f1"
      },
      "source": [
        "print_title(' Fwd IAT Std')"
      ],
      "execution_count": null,
      "outputs": [
        {
          "output_type": "stream",
          "name": "stdout",
          "text": [
            "---------------  Fwd IAT Std -----------------\n",
            "---------------  Fwd IAT Std -----------------\n",
            "---------------  Fwd IAT Std -----------------\n",
            "---------------  Fwd IAT Std -----------------\n",
            "---------------  Fwd IAT Std -----------------\n"
          ]
        }
      ]
    },
    {
      "cell_type": "code",
      "metadata": {
        "id": "msrgCTGmt6xi"
      },
      "source": [
        "df.replace([np.inf, -np.inf], np.nan, inplace=True)\n",
        "  \n",
        "# Dropping all the rows with nan values\n",
        "df.dropna(inplace=True)"
      ],
      "execution_count": 60,
      "outputs": []
    },
    {
      "cell_type": "code",
      "metadata": {
        "colab": {
          "base_uri": "https://localhost:8080/"
        },
        "id": "8ZaXQInFV2Mh",
        "outputId": "cf5a1e79-8f52-42d6-ad4c-621b5f148073"
      },
      "source": [
        "check_size_dtypes(df[' Fwd IAT Std'])\n"
      ],
      "execution_count": 61,
      "outputs": [
        {
          "output_type": "stream",
          "name": "stdout",
          "text": [
            "84602929.2769822 max\n",
            "0.0 min\n",
            "22623008 This is the memory usage\n",
            "927393     4.435964e+06\n",
            "757826     0.000000e+00\n",
            "2799660    0.000000e+00\n",
            "535730     0.000000e+00\n",
            "625173     0.000000e+00\n",
            "2601902    4.973385e+06\n",
            "1569213    9.832122e+06\n",
            "2280596    4.010000e+07\n",
            "1206217    0.000000e+00\n",
            "1644650    1.781790e+04\n",
            "321590     0.000000e+00\n",
            "1690172    0.000000e+00\n",
            "1557743    0.000000e+00\n",
            "1397085    0.000000e+00\n",
            "1327181    0.000000e+00\n",
            "398234     0.000000e+00\n",
            "832806     0.000000e+00\n",
            "1712035    4.903537e+06\n",
            "2464401    0.000000e+00\n",
            "671164     0.000000e+00\n",
            "Name:  Fwd IAT Std, dtype: float64\n"
          ]
        }
      ]
    },
    {
      "cell_type": "code",
      "metadata": {
        "colab": {
          "base_uri": "https://localhost:8080/"
        },
        "id": "t9WnLeKUiStz",
        "outputId": "37e31b0f-687a-4204-aa50-0d06c80dc94a"
      },
      "source": [
        " \n",
        "df[' Fwd IAT Std']= normalize(df[' Fwd IAT Std'])\n",
        "df[' Fwd IAT Std']= convert_datatypes(df[' Fwd IAT Std'])\n",
        "check_size_dtypes(df[' Fwd IAT Std'])\n"
      ],
      "execution_count": 62,
      "outputs": [
        {
          "output_type": "stream",
          "name": "stdout",
          "text": [
            "Trying to convert datatypes for less memory usage\n",
            "255.0 max\n",
            "0.0 min\n",
            "22623008 memory usage\n",
            "2827876  new memory usage| the difference ->  8.0\n",
            "255 max\n",
            "0 min\n",
            "2827876 This is the memory usage\n",
            "212605      0\n",
            "1033315     3\n",
            "110252      0\n",
            "1375910     5\n",
            "637781      0\n",
            "197765      0\n",
            "1267723     0\n",
            "664395     10\n",
            "2628189     0\n",
            "570575      0\n",
            "637748      0\n",
            "2159236     0\n",
            "2256879     0\n",
            "1558911     0\n",
            "205748     14\n",
            "350491      0\n",
            "1390250     0\n",
            "2536659     0\n",
            "1901825     0\n",
            "399295      0\n",
            "Name:  Fwd IAT Std, dtype: uint8\n"
          ]
        }
      ]
    },
    {
      "cell_type": "code",
      "metadata": {
        "id": "uioaJFmDiSwy",
        "colab": {
          "base_uri": "https://localhost:8080/"
        },
        "outputId": "f2bfed08-04dd-4edd-cc74-1076b85a5f77"
      },
      "source": [
        " check_size_dtypes(df[' Fwd IAT Std'])\n"
      ],
      "execution_count": 63,
      "outputs": [
        {
          "output_type": "stream",
          "name": "stdout",
          "text": [
            "255 max\n",
            "0 min\n",
            "2827876 This is the memory usage\n",
            "1890831     0\n",
            "2774771     0\n",
            "1275267     0\n",
            "2539991     0\n",
            "1385155     0\n",
            "489400      0\n",
            "2579190     0\n",
            "894793      0\n",
            "2774886     0\n",
            "99401       7\n",
            "1156327     0\n",
            "2112471     0\n",
            "163840     20\n",
            "149913     97\n",
            "1013125     0\n",
            "366933      0\n",
            "2312758     0\n",
            "2735490     0\n",
            "2620814     0\n",
            "1189382     0\n",
            "Name:  Fwd IAT Std, dtype: uint8\n"
          ]
        }
      ]
    },
    {
      "cell_type": "code",
      "metadata": {
        "colab": {
          "base_uri": "https://localhost:8080/"
        },
        "id": "Ur1c2VcdiS1x",
        "outputId": "102acdfe-c7b2-4bc9-de1e-a4bc55557760"
      },
      "source": [
        "print_title(\"FWD IAT MAX\")"
      ],
      "execution_count": null,
      "outputs": [
        {
          "output_type": "stream",
          "name": "stdout",
          "text": [
            "--------------- FWD IAT MAX -----------------\n",
            "--------------- FWD IAT MAX -----------------\n",
            "--------------- FWD IAT MAX -----------------\n",
            "--------------- FWD IAT MAX -----------------\n",
            "--------------- FWD IAT MAX -----------------\n"
          ]
        }
      ]
    },
    {
      "cell_type": "code",
      "metadata": {
        "colab": {
          "base_uri": "https://localhost:8080/"
        },
        "id": "L387tHIIiS9r",
        "outputId": "f4e51059-9d20-430d-9fb1-9c5b4ab0ef9a"
      },
      "source": [
        " check_size_dtypes(df[' Fwd IAT Max'])"
      ],
      "execution_count": 64,
      "outputs": [
        {
          "output_type": "stream",
          "name": "stdout",
          "text": [
            "120000000 max\n",
            "0 min\n",
            "22623008 This is the memory usage\n",
            "2382611    100000000\n",
            "2239243     85000000\n",
            "739252       5174055\n",
            "12071          24128\n",
            "925930            48\n",
            "748072      67001537\n",
            "2376968     99800000\n",
            "2274508     98300000\n",
            "2470666     10000000\n",
            "2635336     60000000\n",
            "254800            48\n",
            "739272        248623\n",
            "1741319    119000000\n",
            "896220             0\n",
            "2032814            0\n",
            "269326        110383\n",
            "2422772     99900000\n",
            "1919780        38972\n",
            "1010578            3\n",
            "780137         12170\n",
            "Name:  Fwd IAT Max, dtype: int64\n"
          ]
        }
      ]
    },
    {
      "cell_type": "code",
      "metadata": {
        "colab": {
          "base_uri": "https://localhost:8080/"
        },
        "id": "6U63uiODjNj_",
        "outputId": "e9c3fdbc-b162-4cf6-b0e5-8f3c37539389"
      },
      "source": [
        "# df[' Fwd IAT Max'] = normalize(df[' Fwd IAT Max']) \n",
        "df[' Fwd IAT Max'] = convert_datatypes(df[' Fwd IAT Max'])\n",
        "check_size_dtypes(df[' Fwd IAT Max'])"
      ],
      "execution_count": 65,
      "outputs": [
        {
          "output_type": "stream",
          "name": "stdout",
          "text": [
            "Trying to convert datatypes for less memory usage\n",
            "120000000 max\n",
            "0 min\n",
            "22623008 memory usage\n",
            "2827876  new memory usage| the difference ->  8.0\n",
            "255 max\n",
            "0 min\n",
            "2827876 This is the memory usage\n",
            "1214187     48\n",
            "2671164      3\n",
            "406876       0\n",
            "1429440      4\n",
            "2456617     45\n",
            "1693774     20\n",
            "2413041    128\n",
            "2527731    192\n",
            "2321867    224\n",
            "223431       0\n",
            "2294277      0\n",
            "839997     203\n",
            "1881759      4\n",
            "2339155    224\n",
            "961886     141\n",
            "597966     155\n",
            "366387       0\n",
            "2241586     96\n",
            "1238352      3\n",
            "2533740      0\n",
            "Name:  Fwd IAT Max, dtype: uint8\n"
          ]
        }
      ]
    },
    {
      "cell_type": "code",
      "metadata": {
        "id": "HIpMl4UrjNm0"
      },
      "source": [
        ""
      ],
      "execution_count": null,
      "outputs": []
    },
    {
      "cell_type": "code",
      "metadata": {
        "colab": {
          "base_uri": "https://localhost:8080/"
        },
        "id": "IleWoYlijNpe",
        "outputId": "e76d60bb-ce62-4984-ec83-6825ce626d22"
      },
      "source": [
        "#  print_title(' Fwd IAT Min')\n",
        "check_size_dtypes(df[' Fwd IAT Min'])"
      ],
      "execution_count": 68,
      "outputs": [
        {
          "output_type": "stream",
          "name": "stdout",
          "text": [
            "120000000 max\n",
            "-12 min\n",
            "22623008 This is the memory usage\n",
            "2486399         1\n",
            "538032         48\n",
            "479458          0\n",
            "491773         71\n",
            "406548          0\n",
            "930122          4\n",
            "244221          3\n",
            "392913          0\n",
            "1411352        49\n",
            "2515509         3\n",
            "2200259         2\n",
            "2044457         3\n",
            "1598223         1\n",
            "1948173         3\n",
            "620322          1\n",
            "1689356    116141\n",
            "65384         258\n",
            "378818          0\n",
            "1274435       225\n",
            "1455757         3\n",
            "Name:  Fwd IAT Min, dtype: int64\n"
          ]
        }
      ]
    },
    {
      "cell_type": "code",
      "metadata": {
        "colab": {
          "base_uri": "https://localhost:8080/"
        },
        "id": "vWXUxKCFjNsR",
        "outputId": "9d1c9e1f-fd41-4822-c6b9-db510a3ea9cb"
      },
      "source": [
        "df[' Fwd IAT Min'] = normalize(df[' Fwd IAT Min'])\n",
        "df[' Fwd IAT Min'] = convert_datatypes(df[' Fwd IAT Min'])\n",
        "check_size_dtypes(df[' Fwd IAT Min'])"
      ],
      "execution_count": 69,
      "outputs": [
        {
          "output_type": "stream",
          "name": "stdout",
          "text": [
            "Trying to convert datatypes for less memory usage\n",
            "255.00002550000002 max\n",
            "0.0 min\n",
            "22623008 memory usage\n",
            "2827876  new memory usage| the difference ->  8.0\n",
            "255 max\n",
            "0 min\n",
            "2827876 This is the memory usage\n",
            "2278199    0\n",
            "2024865    0\n",
            "2763156    0\n",
            "874497     0\n",
            "1080508    0\n",
            "1999798    0\n",
            "1290476    0\n",
            "1293401    0\n",
            "2620084    0\n",
            "1891549    0\n",
            "515686     0\n",
            "1119971    0\n",
            "263599     0\n",
            "1475306    0\n",
            "1957122    0\n",
            "1123615    0\n",
            "2061356    0\n",
            "1030191    0\n",
            "71138      0\n",
            "373362     0\n",
            "Name:  Fwd IAT Min, dtype: uint8\n"
          ]
        }
      ]
    },
    {
      "cell_type": "code",
      "metadata": {
        "colab": {
          "base_uri": "https://localhost:8080/",
          "height": 167
        },
        "id": "L1ZS7qkBjNu-",
        "outputId": "82cb0471-0d51-4558-b062-01031227f9ea"
      },
      "source": [
        "len(ll)"
      ],
      "execution_count": null,
      "outputs": [
        {
          "output_type": "error",
          "ename": "NameError",
          "evalue": "ignored",
          "traceback": [
            "\u001b[0;31m---------------------------------------------------------------------------\u001b[0m",
            "\u001b[0;31mNameError\u001b[0m                                 Traceback (most recent call last)",
            "\u001b[0;32m<ipython-input-80-43df7b33dcce>\u001b[0m in \u001b[0;36m<module>\u001b[0;34m()\u001b[0m\n\u001b[0;32m----> 1\u001b[0;31m \u001b[0mlen\u001b[0m\u001b[0;34m(\u001b[0m\u001b[0mll\u001b[0m\u001b[0;34m)\u001b[0m\u001b[0;34m\u001b[0m\u001b[0;34m\u001b[0m\u001b[0m\n\u001b[0m",
            "\u001b[0;31mNameError\u001b[0m: name 'll' is not defined"
          ]
        }
      ]
    },
    {
      "cell_type": "code",
      "metadata": {
        "id": "8-0vYShijNxi"
      },
      "source": [
        "print_title('Bwd IAT Total')"
      ],
      "execution_count": null,
      "outputs": []
    },
    {
      "cell_type": "code",
      "metadata": {
        "id": "Z-i4tjBC8O2C",
        "colab": {
          "base_uri": "https://localhost:8080/"
        },
        "outputId": "754c9372-fd5e-4956-9290-22bf0865e00b"
      },
      "source": [
        "check_size_dtypes(df['Bwd IAT Total'])\n"
      ],
      "execution_count": 70,
      "outputs": [
        {
          "output_type": "stream",
          "name": "stdout",
          "text": [
            "120000000 max\n",
            "0 min\n",
            "22623008 This is the memory usage\n",
            "1721485           0\n",
            "947096       367762\n",
            "1622080           0\n",
            "1962835      148411\n",
            "1002265           0\n",
            "728042            0\n",
            "2498191           0\n",
            "748669     15911882\n",
            "2581353           0\n",
            "1573505           0\n",
            "2153217           0\n",
            "1553603           3\n",
            "1665414    10200000\n",
            "91235             0\n",
            "975116            0\n",
            "1193984           0\n",
            "2198785          48\n",
            "1013505     8038485\n",
            "490365            3\n",
            "1161024           0\n",
            "Name: Bwd IAT Total, dtype: int64\n"
          ]
        }
      ]
    },
    {
      "cell_type": "code",
      "metadata": {
        "id": "6NgcBRvawVen",
        "colab": {
          "base_uri": "https://localhost:8080/"
        },
        "outputId": "91870292-5f3e-4d58-d61b-d75698d4bdc4"
      },
      "source": [
        "df['Bwd IAT Total'] = normalize(df['Bwd IAT Total'])\n",
        "df['Bwd IAT Total'] = convert_datatypes(df['Bwd IAT Total'])\n",
        "check_size_dtypes(df['Bwd IAT Total'])\n",
        "\n",
        "\n",
        "\n",
        "# df['Bwd IAT Total']\n",
        "# df[' Bwd IAT Max']\n",
        "# df['Fwd PSH Flags']\n",
        "# df['Fwd Packets/s']"
      ],
      "execution_count": 71,
      "outputs": [
        {
          "output_type": "stream",
          "name": "stdout",
          "text": [
            "Trying to convert datatypes for less memory usage\n",
            "255.0 max\n",
            "0.0 min\n",
            "22623008 memory usage\n",
            "2827876  new memory usage| the difference ->  8.0\n",
            "255 max\n",
            "0 min\n",
            "2827876 This is the memory usage\n",
            "1069896      0\n",
            "2395250    212\n",
            "1621915      0\n",
            "1610591      0\n",
            "2774476      1\n",
            "1680204      0\n",
            "1220706      0\n",
            "861849       0\n",
            "1687093      0\n",
            "2413430    210\n",
            "2358171      0\n",
            "1730654    142\n",
            "369009       0\n",
            "1063718      0\n",
            "33648        1\n",
            "2390870      0\n",
            "1373485      0\n",
            "2154616    255\n",
            "2457583    188\n",
            "1939001      0\n",
            "Name: Bwd IAT Total, dtype: uint8\n"
          ]
        }
      ]
    },
    {
      "cell_type": "code",
      "metadata": {
        "id": "xXaD7gu9wVhR",
        "colab": {
          "base_uri": "https://localhost:8080/"
        },
        "outputId": "3427a78d-02a7-4eab-fc73-ae2b5e186a6e"
      },
      "source": [
        "print_title(' Bwd IAT Max')\n",
        "# df[' Bwd IAT Max']\n"
      ],
      "execution_count": null,
      "outputs": [
        {
          "output_type": "stream",
          "name": "stdout",
          "text": [
            "---------------  Bwd IAT Max -----------------\n",
            "---------------  Bwd IAT Max -----------------\n",
            "---------------  Bwd IAT Max -----------------\n",
            "---------------  Bwd IAT Max -----------------\n",
            "---------------  Bwd IAT Max -----------------\n"
          ]
        }
      ]
    },
    {
      "cell_type": "code",
      "metadata": {
        "colab": {
          "base_uri": "https://localhost:8080/"
        },
        "id": "xCK2bB8-8hT5",
        "outputId": "d4a58752-4f20-4172-d38f-73fc1793dd9e"
      },
      "source": [
        "df[' Bwd IAT Max'] = normalize(df[' Bwd IAT Max'])\n",
        "df[' Bwd IAT Max'] = convert_datatypes(df[' Bwd IAT Max'])\n",
        "check_size_dtypes(df[' Bwd IAT Max'])\n"
      ],
      "execution_count": 72,
      "outputs": [
        {
          "output_type": "stream",
          "name": "stdout",
          "text": [
            "Trying to convert datatypes for less memory usage\n",
            "255.0 max\n",
            "0.0 min\n",
            "22623008 memory usage\n",
            "2827876  new memory usage| the difference ->  8.0\n",
            "255 max\n",
            "0 min\n",
            "2827876 This is the memory usage\n",
            "1387677     0\n",
            "1699966     0\n",
            "2532003     0\n",
            "1205799     0\n",
            "112569      0\n",
            "2539985     0\n",
            "1156646     0\n",
            "1203226     0\n",
            "1178557     0\n",
            "2736481    23\n",
            "425679      0\n",
            "1140611     0\n",
            "1583245    21\n",
            "1288230     0\n",
            "1137020     0\n",
            "2798635     0\n",
            "1540165     0\n",
            "70307      10\n",
            "1331899     0\n",
            "1804216     0\n",
            "Name:  Bwd IAT Max, dtype: uint8\n"
          ]
        }
      ]
    },
    {
      "cell_type": "code",
      "metadata": {
        "id": "2EvjEHCKwVkE",
        "colab": {
          "base_uri": "https://localhost:8080/"
        },
        "outputId": "7e815a4b-1006-45cc-90a0-368592970002"
      },
      "source": [
        "print_title('Fwd PSH Flags')\n"
      ],
      "execution_count": null,
      "outputs": [
        {
          "output_type": "stream",
          "name": "stdout",
          "text": [
            "--------------- Fwd PSH Flags -----------------\n",
            "--------------- Fwd PSH Flags -----------------\n",
            "--------------- Fwd PSH Flags -----------------\n",
            "--------------- Fwd PSH Flags -----------------\n",
            "--------------- Fwd PSH Flags -----------------\n"
          ]
        }
      ]
    },
    {
      "cell_type": "code",
      "metadata": {
        "colab": {
          "base_uri": "https://localhost:8080/"
        },
        "id": "D66tiWO985Cf",
        "outputId": "1eeab4ec-1c91-4b80-e677-e6ce0a0db6f7"
      },
      "source": [
        "df['Fwd PSH Flags'] = normalize(df['Fwd PSH Flags'])\n",
        "df['Fwd PSH Flags'] = convert_datatypes(df['Fwd PSH Flags'])\n",
        "check_size_dtypes(df['Fwd PSH Flags'])"
      ],
      "execution_count": 73,
      "outputs": [
        {
          "output_type": "stream",
          "name": "stdout",
          "text": [
            "Trying to convert datatypes for less memory usage\n",
            "255.0 max\n",
            "0.0 min\n",
            "22623008 memory usage\n",
            "2827876  new memory usage| the difference ->  8.0\n",
            "255 max\n",
            "0 min\n",
            "2827876 This is the memory usage\n",
            "229546       0\n",
            "1618996    255\n",
            "1480751      0\n",
            "2484511      0\n",
            "982127       0\n",
            "424346       0\n",
            "2586435      0\n",
            "2009193      0\n",
            "989787       0\n",
            "374812       0\n",
            "987687       0\n",
            "87221        0\n",
            "2611899      0\n",
            "2806445      0\n",
            "2554892      0\n",
            "567073       0\n",
            "1920794      0\n",
            "246650       0\n",
            "1329458      0\n",
            "1263872      0\n",
            "Name: Fwd PSH Flags, dtype: uint8\n"
          ]
        }
      ]
    },
    {
      "cell_type": "code",
      "metadata": {
        "colab": {
          "base_uri": "https://localhost:8080/"
        },
        "id": "FKnQ0ek09RvH",
        "outputId": "f930ffa6-13e8-4d3f-92ce-5f94afe7d282"
      },
      "source": [
        "print_title('Fwd Packets/s')"
      ],
      "execution_count": null,
      "outputs": [
        {
          "output_type": "stream",
          "name": "stdout",
          "text": [
            "--------------- Fwd Packets/s -----------------\n",
            "--------------- Fwd Packets/s -----------------\n",
            "--------------- Fwd Packets/s -----------------\n",
            "--------------- Fwd Packets/s -----------------\n",
            "--------------- Fwd Packets/s -----------------\n"
          ]
        }
      ]
    },
    {
      "cell_type": "code",
      "metadata": {
        "id": "_uGY0JpMwVmV",
        "colab": {
          "base_uri": "https://localhost:8080/"
        },
        "outputId": "862ce11d-e6d5-450d-dac8-0f273223bf3e"
      },
      "source": [
        "\n",
        "df['Fwd Packets/s'] = normalize(df['Fwd Packets/s'])\n",
        "df['Fwd Packets/s'] = convert_datatypes(df['Fwd Packets/s'])\n",
        "check_size_dtypes(df['Fwd Packets/s'])"
      ],
      "execution_count": 74,
      "outputs": [
        {
          "output_type": "stream",
          "name": "stdout",
          "text": [
            "Trying to convert datatypes for less memory usage\n",
            "255.0 max\n",
            "0.0 min\n",
            "22623008 memory usage\n",
            "2827876  new memory usage| the difference ->  8.0\n",
            "255 max\n",
            "0 min\n",
            "2827876 This is the memory usage\n",
            "1818429      0\n",
            "878976      56\n",
            "941017       2\n",
            "1880244      1\n",
            "183543       0\n",
            "801029       1\n",
            "2018645      0\n",
            "2486369     85\n",
            "1575716      0\n",
            "15540        0\n",
            "1883467      0\n",
            "1150850      0\n",
            "2262555     85\n",
            "1103912      0\n",
            "1521857      0\n",
            "110318       0\n",
            "1437761    170\n",
            "2945         0\n",
            "2345691      0\n",
            "2526585      0\n",
            "Name: Fwd Packets/s, dtype: uint8\n"
          ]
        }
      ]
    },
    {
      "cell_type": "code",
      "metadata": {
        "id": "cJbSIgo2wVpJ"
      },
      "source": [
        "# print_title(' Packet Length Std')"
      ],
      "execution_count": null,
      "outputs": []
    },
    {
      "cell_type": "code",
      "metadata": {
        "id": "VR8O8DTa0Qlg",
        "colab": {
          "base_uri": "https://localhost:8080/"
        },
        "outputId": "a6611b0d-68be-48eb-8688-2d92241f5eb7"
      },
      "source": [
        "check_size_dtypes(df[' Packet Length Std'])"
      ],
      "execution_count": 75,
      "outputs": [
        {
          "output_type": "stream",
          "name": "stdout",
          "text": [
            "4731.522394 max\n",
            "0.0 min\n",
            "22623008 This is the memory usage\n",
            "2502161      0.000000\n",
            "2479401     32.331615\n",
            "1160531      0.000000\n",
            "1848773     23.094011\n",
            "2541022      0.000000\n",
            "2754246      7.807201\n",
            "348350       2.309401\n",
            "2143234     97.572195\n",
            "1100569      0.000000\n",
            "553352     589.590112\n",
            "987099      45.033321\n",
            "2483076     35.795717\n",
            "2466855      0.000000\n",
            "357336       2.309401\n",
            "1200083     20.265735\n",
            "2598487     52.581366\n",
            "369292       2.309401\n",
            "1775843     92.376043\n",
            "2499237     15.500000\n",
            "342827       2.309401\n",
            "Name:  Packet Length Std, dtype: float64\n"
          ]
        }
      ]
    },
    {
      "cell_type": "code",
      "metadata": {
        "id": "Mb1Snzcw0Qoi",
        "colab": {
          "base_uri": "https://localhost:8080/"
        },
        "outputId": "bac53fb8-12ca-4998-c497-805e480abf21"
      },
      "source": [
        "df[' Packet Length Std'] = normalize(df[' Packet Length Std'])\n",
        "df[' Packet Length Std'] = convert_datatypes(df[' Packet Length Std'])\n",
        "check_size_dtypes(df[' Packet Length Std'])"
      ],
      "execution_count": 76,
      "outputs": [
        {
          "output_type": "stream",
          "name": "stdout",
          "text": [
            "Trying to convert datatypes for less memory usage\n",
            "255.0 max\n",
            "0.0 min\n",
            "22623008 memory usage\n",
            "2827876  new memory usage| the difference ->  8.0\n",
            "255 max\n",
            "0 min\n",
            "2827876 This is the memory usage\n",
            "2702965    121\n",
            "1635783      0\n",
            "2423842     78\n",
            "1256580      0\n",
            "2239296     94\n",
            "2725955      0\n",
            "2246320    134\n",
            "1977800      0\n",
            "710098      30\n",
            "2168980      5\n",
            "2261109      0\n",
            "2587537      5\n",
            "949006       0\n",
            "485925      33\n",
            "813058       1\n",
            "1858351      1\n",
            "2093099      1\n",
            "766602       0\n",
            "121587      34\n",
            "2689423      3\n",
            "Name:  Packet Length Std, dtype: uint8\n"
          ]
        }
      ]
    },
    {
      "cell_type": "code",
      "metadata": {
        "colab": {
          "base_uri": "https://localhost:8080/"
        },
        "id": "bAAXwdif-Ajk",
        "outputId": "8b9194bc-4b1e-481e-bd12-6733ae76e2eb"
      },
      "source": [
        "print_title(' Fwd Header Length')"
      ],
      "execution_count": null,
      "outputs": [
        {
          "output_type": "stream",
          "name": "stdout",
          "text": [
            "---------------  Fwd Header Length -----------------\n",
            "---------------  Fwd Header Length -----------------\n",
            "---------------  Fwd Header Length -----------------\n",
            "---------------  Fwd Header Length -----------------\n",
            "---------------  Fwd Header Length -----------------\n"
          ]
        }
      ]
    },
    {
      "cell_type": "code",
      "metadata": {
        "id": "cKTLgBuN0rGB",
        "colab": {
          "base_uri": "https://localhost:8080/"
        },
        "outputId": "3e6d235a-d27f-454b-a405-86a5419ff46a"
      },
      "source": [
        "# convert_datatypes(df[' Fwd Header Length'] ,'')\n",
        "check_size_dtypes(df[' Fwd Header Length'])\n"
      ],
      "execution_count": 77,
      "outputs": [
        {
          "output_type": "stream",
          "name": "stdout",
          "text": [
            "4644908 max\n",
            "-32212234632 min\n",
            "22623008 This is the memory usage\n",
            "89746       80\n",
            "1318785     32\n",
            "425204      40\n",
            "436037      40\n",
            "1436598     64\n",
            "1148949     40\n",
            "2799436     40\n",
            "612494     212\n",
            "1372428    104\n",
            "482621      20\n",
            "1508448     64\n",
            "1612194     64\n",
            "2201616     60\n",
            "1513521     32\n",
            "446348      20\n",
            "2559741     32\n",
            "1287115     60\n",
            "2508467     64\n",
            "15427       64\n",
            "1445617     48\n",
            "Name:  Fwd Header Length, dtype: int64\n"
          ]
        }
      ]
    },
    {
      "cell_type": "code",
      "metadata": {
        "id": "jIu3Zp4N0sep",
        "colab": {
          "base_uri": "https://localhost:8080/"
        },
        "outputId": "276904e3-aa59-4c72-c6f0-c5896fad76ac"
      },
      "source": [
        "df[' Bwd Header Length'] = normalize(df[' Bwd Header Length'])\n",
        "df[' Bwd Header Length'] = convert_datatypes(df[' Bwd Header Length'] )\n",
        "check_size_dtypes(df[' Bwd Header Length'])\n"
      ],
      "execution_count": 78,
      "outputs": [
        {
          "output_type": "stream",
          "name": "stdout",
          "text": [
            "Trying to convert datatypes for less memory usage\n",
            "47151.78006453779 max\n",
            "0.0 min\n",
            "22623008 memory usage\n",
            "2827876  new memory usage| the difference ->  8.0\n",
            "252 max\n",
            "0 min\n",
            "2827876 This is the memory usage\n",
            "1724666    48\n",
            "521226     48\n",
            "1872667    48\n",
            "1280894    48\n",
            "1890100    48\n",
            "1390662    48\n",
            "1777099    48\n",
            "2094885    48\n",
            "2564826    48\n",
            "2275774    48\n",
            "1753180    48\n",
            "2724898    48\n",
            "454641     48\n",
            "2541595    48\n",
            "844619     48\n",
            "140765     48\n",
            "2556514    48\n",
            "132200     48\n",
            "1562579    48\n",
            "1162462    48\n",
            "Name:  Bwd Header Length, dtype: uint8\n"
          ]
        }
      ]
    },
    {
      "cell_type": "code",
      "metadata": {
        "colab": {
          "base_uri": "https://localhost:8080/"
        },
        "id": "nbf2udPa-drW",
        "outputId": "2a13e1f0-7ea6-412a-f728-292b3be5f623"
      },
      "source": [
        "print_title(' Min Packet Length')"
      ],
      "execution_count": null,
      "outputs": [
        {
          "output_type": "stream",
          "name": "stdout",
          "text": [
            "---------------  Min Packet Length -----------------\n",
            "---------------  Min Packet Length -----------------\n",
            "---------------  Min Packet Length -----------------\n",
            "---------------  Min Packet Length -----------------\n",
            "---------------  Min Packet Length -----------------\n"
          ]
        }
      ]
    },
    {
      "cell_type": "code",
      "metadata": {
        "colab": {
          "base_uri": "https://localhost:8080/"
        },
        "id": "4MBt6WVv-h5O",
        "outputId": "29757c46-1921-4b6b-ae4d-4679ed5597f9"
      },
      "source": [
        "check_size_dtypes(df[' Min Packet Length'])"
      ],
      "execution_count": 79,
      "outputs": [
        {
          "output_type": "stream",
          "name": "stdout",
          "text": [
            "1448 max\n",
            "0 min\n",
            "22623008 This is the memory usage\n",
            "519477     48\n",
            "1949468    34\n",
            "1250967     0\n",
            "482063      6\n",
            "32147       6\n",
            "1234010     0\n",
            "1732562     0\n",
            "773882     49\n",
            "1809847     0\n",
            "1042503     0\n",
            "2467768     0\n",
            "2633890     0\n",
            "2107940     0\n",
            "2111163     0\n",
            "428954      0\n",
            "1546353     0\n",
            "2631590    50\n",
            "1938019    45\n",
            "1152529    44\n",
            "272311      0\n",
            "Name:  Min Packet Length, dtype: int64\n"
          ]
        }
      ]
    },
    {
      "cell_type": "code",
      "metadata": {
        "id": "TGxRex830Qra",
        "colab": {
          "base_uri": "https://localhost:8080/"
        },
        "outputId": "62780a2f-de02-4b0b-ec8e-a4062af34b14"
      },
      "source": [
        "df[' Min Packet Length'] = normalize(df[' Min Packet Length'])\n",
        "df[' Min Packet Length'] = convert_datatypes(df[' Min Packet Length'])\n",
        "check_size_dtypes(df[' Min Packet Length'])\n",
        " "
      ],
      "execution_count": 80,
      "outputs": [
        {
          "output_type": "stream",
          "name": "stdout",
          "text": [
            "Trying to convert datatypes for less memory usage\n",
            "255.0 max\n",
            "0.0 min\n",
            "22623008 memory usage\n",
            "2827876  new memory usage| the difference ->  8.0\n",
            "255 max\n",
            "0 min\n",
            "2827876 This is the memory usage\n",
            "819201     0\n",
            "2631918    0\n",
            "763730     0\n",
            "2323374    0\n",
            "2143158    8\n",
            "2536732    0\n",
            "1415530    0\n",
            "1031194    7\n",
            "1451140    0\n",
            "182532     1\n",
            "433146     0\n",
            "1180810    5\n",
            "2705185    5\n",
            "146629     0\n",
            "622365     1\n",
            "356519     0\n",
            "624439     0\n",
            "1382365    0\n",
            "2128793    5\n",
            "651047     5\n",
            "Name:  Min Packet Length, dtype: uint8\n"
          ]
        }
      ]
    },
    {
      "cell_type": "code",
      "metadata": {
        "colab": {
          "base_uri": "https://localhost:8080/"
        },
        "id": "klQYaXHT-2uI",
        "outputId": "673ea188-3cdf-4e61-f250-b817cc03af01"
      },
      "source": [
        "print_title('packet length mean')"
      ],
      "execution_count": null,
      "outputs": [
        {
          "output_type": "stream",
          "name": "stdout",
          "text": [
            "--------------- packet length mean -----------------\n",
            "--------------- packet length mean -----------------\n",
            "--------------- packet length mean -----------------\n",
            "--------------- packet length mean -----------------\n",
            "--------------- packet length mean -----------------\n"
          ]
        }
      ]
    },
    {
      "cell_type": "code",
      "metadata": {
        "id": "7oGK9p_50BmV",
        "colab": {
          "base_uri": "https://localhost:8080/"
        },
        "outputId": "7641a71f-f150-4699-99ae-c4db7bf2560f"
      },
      "source": [
        "df[' Packet Length Mean'] = normalize(df[' Packet Length Mean'])\n",
        "df[' Packet Length Mean'] = convert_datatypes(df[' Packet Length Mean']) \n",
        "check_size_dtypes(df[' Packet Length Mean'])\n"
      ],
      "execution_count": 81,
      "outputs": [
        {
          "output_type": "stream",
          "name": "stdout",
          "text": [
            "Trying to convert datatypes for less memory usage\n",
            "255.0 max\n",
            "0.0 min\n",
            "22623008 memory usage\n",
            "2827876  new memory usage| the difference ->  8.0\n",
            "255 max\n",
            "0 min\n",
            "2827876 This is the memory usage\n",
            "1195253     0\n",
            "249943      4\n",
            "1803750    31\n",
            "2065380     4\n",
            "2632167     1\n",
            "2709032     0\n",
            "1663002     5\n",
            "1234718    20\n",
            "486892      0\n",
            "199469      3\n",
            "2489378     0\n",
            "293865      3\n",
            "1199873     0\n",
            "268611      0\n",
            "1346177     5\n",
            "1144509    12\n",
            "2823512     3\n",
            "2436299    70\n",
            "1215196     3\n",
            "2498446     0\n",
            "Name:  Packet Length Mean, dtype: uint8\n"
          ]
        }
      ]
    },
    {
      "cell_type": "code",
      "metadata": {
        "colab": {
          "base_uri": "https://localhost:8080/"
        },
        "id": "rVmF7BKe_Kn-",
        "outputId": "1156d423-7b02-43ce-e6f6-9e6acb54506e"
      },
      "source": [
        "print_title('Max packet length')"
      ],
      "execution_count": null,
      "outputs": [
        {
          "output_type": "stream",
          "name": "stdout",
          "text": [
            "--------------- Max packet length -----------------\n",
            "--------------- Max packet length -----------------\n",
            "--------------- Max packet length -----------------\n",
            "--------------- Max packet length -----------------\n",
            "--------------- Max packet length -----------------\n"
          ]
        }
      ]
    },
    {
      "cell_type": "code",
      "metadata": {
        "id": "gHIj_2se0BpF",
        "colab": {
          "base_uri": "https://localhost:8080/"
        },
        "outputId": "fc302d80-bc2d-4615-994e-d34a9820247f"
      },
      "source": [
        "check_size_dtypes(df[' Max Packet Length'])\n"
      ],
      "execution_count": 82,
      "outputs": [
        {
          "output_type": "stream",
          "name": "stdout",
          "text": [
            "24820 max\n",
            "0 min\n",
            "22623008 This is the memory usage\n",
            "1079573       0\n",
            "1461154     249\n",
            "2732053     108\n",
            "2390148       0\n",
            "708403     1448\n",
            "1744913      48\n",
            "1874553       0\n",
            "540499       51\n",
            "468489        6\n",
            "2558896    1398\n",
            "2667182     131\n",
            "1086944     105\n",
            "246123       37\n",
            "1538591    1093\n",
            "1269075      79\n",
            "2038029      62\n",
            "746383     2836\n",
            "2628853       0\n",
            "1799475      37\n",
            "2415197    5792\n",
            "Name:  Max Packet Length, dtype: int64\n"
          ]
        }
      ]
    },
    {
      "cell_type": "code",
      "metadata": {
        "colab": {
          "base_uri": "https://localhost:8080/"
        },
        "id": "ggR714A4_Sxs",
        "outputId": "852cdad8-0700-420c-fb23-30572f07f9c6"
      },
      "source": [
        "df[' Max Packet Length'] = normalize(df[' Max Packet Length'])\n",
        "df[' Max Packet Length'] = convert_datatypes(df[' Max Packet Length'])\n",
        "check_size_dtypes(df[' Max Packet Length'])\n"
      ],
      "execution_count": 83,
      "outputs": [
        {
          "output_type": "stream",
          "name": "stdout",
          "text": [
            "Trying to convert datatypes for less memory usage\n",
            "255.0 max\n",
            "0.0 min\n",
            "22623008 memory usage\n",
            "2827876  new memory usage| the difference ->  8.0\n",
            "255 max\n",
            "0 min\n",
            "2827876 This is the memory usage\n",
            "2422729    59\n",
            "1817379    12\n",
            "935676      0\n",
            "754186      0\n",
            "2282505    74\n",
            "1649613     0\n",
            "354822      0\n",
            "1416126     0\n",
            "1334887     0\n",
            "2286220    59\n",
            "1345220     0\n",
            "2408624    59\n",
            "1617803     1\n",
            "2455935     0\n",
            "1021112     6\n",
            "2159593    30\n",
            "267689      1\n",
            "395756      0\n",
            "1448512     0\n",
            "2172154    15\n",
            "Name:  Max Packet Length, dtype: uint8\n"
          ]
        }
      ]
    },
    {
      "cell_type": "code",
      "metadata": {
        "colab": {
          "base_uri": "https://localhost:8080/"
        },
        "id": "rbIkDqVrwVrp",
        "outputId": "36685cb6-fe65-4031-c4c2-eec368891025"
      },
      "source": [
        "print_title('Packet Length Variance')"
      ],
      "execution_count": null,
      "outputs": [
        {
          "output_type": "stream",
          "name": "stdout",
          "text": [
            "--------------- Packet Length Variance -----------------\n",
            "--------------- Packet Length Variance -----------------\n",
            "--------------- Packet Length Variance -----------------\n",
            "--------------- Packet Length Variance -----------------\n",
            "--------------- Packet Length Variance -----------------\n"
          ]
        }
      ]
    },
    {
      "cell_type": "code",
      "metadata": {
        "id": "qcMc5cc0wVuD",
        "colab": {
          "base_uri": "https://localhost:8080/"
        },
        "outputId": "826df1c0-e44e-4673-99d8-6fba2415e227"
      },
      "source": [
        "check_size_dtypes(df[' Packet Length Variance'])\n"
      ],
      "execution_count": 84,
      "outputs": [
        {
          "output_type": "stream",
          "name": "stdout",
          "text": [
            "22400000.0 max\n",
            "0.0 min\n",
            "22623008 This is the memory usage\n",
            "182418     9.696701e+06\n",
            "1954544    0.000000e+00\n",
            "42640      4.021971e+05\n",
            "428142     1.200000e+01\n",
            "2684299    2.707500e+03\n",
            "68044      2.258760e+06\n",
            "2826502    1.720238e+03\n",
            "246819     3.307500e+03\n",
            "753753     1.080000e+01\n",
            "1417206    9.408000e+02\n",
            "661710     2.675238e+03\n",
            "1032455    9.747000e+02\n",
            "2130814    0.000000e+00\n",
            "2271818    5.030777e+06\n",
            "237536     3.072000e+02\n",
            "686059     3.419667e+03\n",
            "1951969    0.000000e+00\n",
            "884314     1.260019e+05\n",
            "882818     8.112000e+02\n",
            "2685671    9.747000e+02\n",
            "Name:  Packet Length Variance, dtype: float64\n"
          ]
        }
      ]
    },
    {
      "cell_type": "code",
      "metadata": {
        "id": "TBAj1Cjc3DTg",
        "colab": {
          "base_uri": "https://localhost:8080/"
        },
        "outputId": "b4a947c0-3225-4818-eb81-e3127e5463d7"
      },
      "source": [
        "df[' Packet Length Variance'] = normalize(df[' Packet Length Variance'])\n",
        "df[' Packet Length Variance'] = convert_datatypes(df[' Packet Length Variance'])\n",
        "check_size_dtypes(df[' Packet Length Variance'])\n"
      ],
      "execution_count": 85,
      "outputs": [
        {
          "output_type": "stream",
          "name": "stdout",
          "text": [
            "Trying to convert datatypes for less memory usage\n",
            "255.0 max\n",
            "0.0 min\n",
            "22623008 memory usage\n",
            "2827876  new memory usage| the difference ->  8.0\n",
            "255 max\n",
            "0 min\n",
            "2827876 This is the memory usage\n",
            "343287       0\n",
            "564335       0\n",
            "735348       2\n",
            "90322      191\n",
            "1358916      0\n",
            "2552698      0\n",
            "1550295      0\n",
            "1207804      0\n",
            "14449        0\n",
            "2089580      0\n",
            "2404327      0\n",
            "1329986      0\n",
            "159292     110\n",
            "85540       93\n",
            "1469193      0\n",
            "758581       0\n",
            "1004360      0\n",
            "2461435      0\n",
            "2523147      0\n",
            "2792693      9\n",
            "Name:  Packet Length Variance, dtype: uint8\n"
          ]
        }
      ]
    },
    {
      "cell_type": "code",
      "metadata": {
        "colab": {
          "base_uri": "https://localhost:8080/"
        },
        "id": "qWGKCTUUAjCq",
        "outputId": "4aa0466a-df03-45af-b44d-488625221c70"
      },
      "source": [
        "print_title('fin flag count')"
      ],
      "execution_count": null,
      "outputs": [
        {
          "output_type": "stream",
          "name": "stdout",
          "text": [
            "--------------- fin flag count -----------------\n",
            "--------------- fin flag count -----------------\n",
            "--------------- fin flag count -----------------\n",
            "--------------- fin flag count -----------------\n",
            "--------------- fin flag count -----------------\n"
          ]
        }
      ]
    },
    {
      "cell_type": "code",
      "metadata": {
        "id": "Hze3C1D52aCJ",
        "colab": {
          "base_uri": "https://localhost:8080/"
        },
        "outputId": "78f51b9b-6451-45c2-b861-5f1552b908e7"
      },
      "source": [
        "  # df['FIN Flag Count'] =  convert_datatypes(df['FIN Flag Count', '')\n",
        "check_size_dtypes(df['FIN Flag Count'])\n"
      ],
      "execution_count": 86,
      "outputs": [
        {
          "output_type": "stream",
          "name": "stdout",
          "text": [
            "1 max\n",
            "0 min\n",
            "22623008 This is the memory usage\n",
            "2340226    0\n",
            "948783     0\n",
            "1965158    0\n",
            "1571052    0\n",
            "175936     0\n",
            "429293     0\n",
            "1159914    0\n",
            "2175606    0\n",
            "1737011    0\n",
            "1985537    0\n",
            "1922812    0\n",
            "785552     0\n",
            "1904775    0\n",
            "1463730    0\n",
            "1089848    0\n",
            "1870742    0\n",
            "18192      0\n",
            "1346577    0\n",
            "2093744    0\n",
            "1387086    0\n",
            "Name: FIN Flag Count, dtype: int64\n"
          ]
        }
      ]
    },
    {
      "cell_type": "code",
      "metadata": {
        "id": "4Ri273lO2Z6o",
        "colab": {
          "base_uri": "https://localhost:8080/"
        },
        "outputId": "b92878ec-9915-4585-dbdb-2856f371689c"
      },
      "source": [
        "df[' PSH Flag Count'] = convert_datatypes(df[' PSH Flag Count'])\n",
        "  \n",
        "check_size_dtypes(df[' PSH Flag Count'])\n",
        "# df[' PSH Flag Count'].value_counts()"
      ],
      "execution_count": 87,
      "outputs": [
        {
          "output_type": "stream",
          "name": "stdout",
          "text": [
            "Trying to convert datatypes for less memory usage\n",
            "1 max\n",
            "0 min\n",
            "22623008 memory usage\n",
            "2827876  new memory usage| the difference ->  8.0\n",
            "1 max\n",
            "0 min\n",
            "2827876 This is the memory usage\n",
            "2620514    0\n",
            "2483647    0\n",
            "1020890    0\n",
            "1845050    0\n",
            "780895     0\n",
            "1129428    0\n",
            "2666951    0\n",
            "868121     1\n",
            "2055539    0\n",
            "352427     1\n",
            "2670957    0\n",
            "1189195    0\n",
            "172068     0\n",
            "771367     0\n",
            "934742     1\n",
            "1596814    0\n",
            "1104256    0\n",
            "1276551    0\n",
            "900496     1\n",
            "316197     1\n",
            "Name:  PSH Flag Count, dtype: uint8\n"
          ]
        }
      ]
    },
    {
      "cell_type": "code",
      "metadata": {
        "id": "RZAru5Xh2Zzw",
        "colab": {
          "base_uri": "https://localhost:8080/"
        },
        "outputId": "82cc2d02-9cfd-4ea7-8880-89fba9d17476"
      },
      "source": [
        "\n",
        "df[' ACK Flag Count'] =  convert_datatypes(df[' ACK Flag Count'])\n",
        "check_size_dtypes(df[' ACK Flag Count'])\n"
      ],
      "execution_count": 88,
      "outputs": [
        {
          "output_type": "stream",
          "name": "stdout",
          "text": [
            "Trying to convert datatypes for less memory usage\n",
            "1 max\n",
            "0 min\n",
            "22623008 memory usage\n",
            "2827876  new memory usage| the difference ->  8.0\n",
            "1 max\n",
            "0 min\n",
            "2827876 This is the memory usage\n",
            "1060444    1\n",
            "1613698    0\n",
            "646694     0\n",
            "282003     0\n",
            "2641450    0\n",
            "2198695    0\n",
            "1180788    1\n",
            "993998     1\n",
            "1214133    0\n",
            "336523     0\n",
            "1457308    0\n",
            "2379291    0\n",
            "2399444    1\n",
            "1420546    0\n",
            "1235906    0\n",
            "1948504    0\n",
            "2786034    0\n",
            "2226272    0\n",
            "628195     0\n",
            "1298564    1\n",
            "Name:  ACK Flag Count, dtype: uint8\n"
          ]
        }
      ]
    },
    {
      "cell_type": "code",
      "metadata": {
        "id": "xYDTLM412ZsQ",
        "colab": {
          "base_uri": "https://localhost:8080/"
        },
        "outputId": "a5d93a6b-36c8-4b9c-ceb0-760e14be7709"
      },
      "source": [
        "\n",
        "check_size_dtypes(df[' URG Flag Count'])\n",
        "df[' URG Flag Count'] = convert_datatypes(df[' URG Flag Count'])"
      ],
      "execution_count": 89,
      "outputs": [
        {
          "output_type": "stream",
          "name": "stdout",
          "text": [
            "1 max\n",
            "0 min\n",
            "22623008 This is the memory usage\n",
            "2091507    0\n",
            "545034     0\n",
            "1804908    0\n",
            "2282848    0\n",
            "54168      0\n",
            "483824     0\n",
            "1333590    0\n",
            "1919689    0\n",
            "1787446    0\n",
            "1749545    0\n",
            "57866      0\n",
            "2386399    0\n",
            "1076551    0\n",
            "560496     0\n",
            "2607284    0\n",
            "2015621    0\n",
            "2757010    0\n",
            "1896509    0\n",
            "754467     0\n",
            "374232     0\n",
            "Name:  URG Flag Count, dtype: int64\n",
            "Trying to convert datatypes for less memory usage\n",
            "1 max\n",
            "0 min\n",
            "22623008 memory usage\n",
            "2827876  new memory usage| the difference ->  8.0\n"
          ]
        }
      ]
    },
    {
      "cell_type": "code",
      "metadata": {
        "id": "q1sCuEDI2Zpn",
        "colab": {
          "base_uri": "https://localhost:8080/"
        },
        "outputId": "bbc168c6-ba68-4c45-ef37-3462e4de8937"
      },
      "source": [
        "check_size_dtypes(df[' URG Flag Count'])\n"
      ],
      "execution_count": 90,
      "outputs": [
        {
          "output_type": "stream",
          "name": "stdout",
          "text": [
            "1 max\n",
            "0 min\n",
            "2827876 This is the memory usage\n",
            "1729320    0\n",
            "283624     0\n",
            "2128482    0\n",
            "1659449    0\n",
            "1672005    0\n",
            "1185685    0\n",
            "1807589    0\n",
            "1569442    0\n",
            "1682156    1\n",
            "744221     0\n",
            "1050968    0\n",
            "483928     1\n",
            "109421     0\n",
            "1010344    0\n",
            "1001223    0\n",
            "1679139    1\n",
            "1216425    0\n",
            "1064961    0\n",
            "2629347    0\n",
            "1918944    0\n",
            "Name:  URG Flag Count, dtype: uint8\n"
          ]
        }
      ]
    },
    {
      "cell_type": "code",
      "metadata": {
        "id": "xtIgaa-62ZnI",
        "colab": {
          "base_uri": "https://localhost:8080/"
        },
        "outputId": "96e14ce8-a0c9-4e09-880b-770c54b3bb5d"
      },
      "source": [
        "print_title(' Average Packet Size')"
      ],
      "execution_count": null,
      "outputs": [
        {
          "output_type": "stream",
          "name": "stdout",
          "text": [
            "---------------  Average Packet Size -----------------\n",
            "---------------  Average Packet Size -----------------\n",
            "---------------  Average Packet Size -----------------\n",
            "---------------  Average Packet Size -----------------\n",
            "---------------  Average Packet Size -----------------\n"
          ]
        }
      ]
    },
    {
      "cell_type": "code",
      "metadata": {
        "colab": {
          "base_uri": "https://localhost:8080/"
        },
        "id": "y370QzxxB0R3",
        "outputId": "b85fc523-b523-4b7f-f7b5-b9726c043837"
      },
      "source": [
        "check_size_dtypes(df[' Average Packet Size'])\n",
        "df[' Average Packet Size'] = normalize(df[' Average Packet Size'])\n",
        "df[' Average Packet Size'] = convert_datatypes(df[' Average Packet Size'])"
      ],
      "execution_count": 91,
      "outputs": [
        {
          "output_type": "stream",
          "name": "stdout",
          "text": [
            "3893.333333 max\n",
            "0.0 min\n",
            "22623008 This is the memory usage\n",
            "159689     1292.555556\n",
            "1625958      85.272727\n",
            "956064       55.500000\n",
            "2502094     134.000000\n",
            "1001835     112.285714\n",
            "658400       74.000000\n",
            "1413653       0.000000\n",
            "2443857       0.000000\n",
            "1334103     835.071429\n",
            "347776        5.000000\n",
            "1688758       0.000000\n",
            "790127       70.875000\n",
            "1140431      80.500000\n",
            "1863954     164.725000\n",
            "1339754       0.000000\n",
            "1836679     177.000000\n",
            "727974       94.500000\n",
            "710108      517.818182\n",
            "820784     1133.226415\n",
            "2750860       0.000000\n",
            "Name:  Average Packet Size, dtype: float64\n",
            "Trying to convert datatypes for less memory usage\n",
            "255.0 max\n",
            "0.0 min\n",
            "22623008 memory usage\n",
            "2827876  new memory usage| the difference ->  8.0\n"
          ]
        }
      ]
    },
    {
      "cell_type": "code",
      "metadata": {
        "id": "EzUDSxaM2Zkp",
        "colab": {
          "base_uri": "https://localhost:8080/"
        },
        "outputId": "b4150c3e-61d7-44c0-9a24-a55dcc6cf5c6"
      },
      "source": [
        "df[' Average Packet Size'] = convert_datatypes(df[' Average Packet Size'])\n",
        "check_size_dtypes(df[' Average Packet Size'])\n",
        " "
      ],
      "execution_count": 92,
      "outputs": [
        {
          "output_type": "stream",
          "name": "stdout",
          "text": [
            "Trying to convert datatypes for less memory usage\n",
            "255 max\n",
            "0 min\n",
            "2827876 memory usage\n",
            "2827876  new memory usage| the difference ->  1.0\n",
            "255 max\n",
            "0 min\n",
            "2827876 This is the memory usage\n",
            "240843      18\n",
            "2255765      0\n",
            "844543      20\n",
            "1365491      3\n",
            "266011       8\n",
            "180648     108\n",
            "2725321      2\n",
            "1159495      5\n",
            "379275       0\n",
            "526476       0\n",
            "1733534      4\n",
            "1287440      3\n",
            "1375992      0\n",
            "2074626      7\n",
            "1714123      5\n",
            "2547242      4\n",
            "516962       5\n",
            "1141545      8\n",
            "1662509      4\n",
            "2693689      2\n",
            "Name:  Average Packet Size, dtype: uint8\n"
          ]
        }
      ]
    },
    {
      "cell_type": "code",
      "metadata": {
        "id": "Cl3Y6XaM2Zhg",
        "colab": {
          "base_uri": "https://localhost:8080/"
        },
        "outputId": "20e4849b-24cc-44fa-eda5-19c94ae5c911"
      },
      "source": [
        "check_size_dtypes(df[' Avg Fwd Segment Size'])\n",
        "\n",
        "df[' Avg Fwd Segment Size'] = convert_datatypes(df[' Avg Fwd Segment Size'])\n",
        "check_size_dtypes(df[' Avg Fwd Segment Size'])                  "
      ],
      "execution_count": 93,
      "outputs": [
        {
          "output_type": "stream",
          "name": "stdout",
          "text": [
            "5940.857143 max\n",
            "0.0 min\n",
            "22623008 This is the memory usage\n",
            "1751025    146.666667\n",
            "1959076     50.454545\n",
            "578103       6.000000\n",
            "2554071     30.000000\n",
            "1417621     30.000000\n",
            "446811       0.000000\n",
            "2651170     24.600000\n",
            "444727       0.000000\n",
            "1697142     43.466667\n",
            "1590046      6.000000\n",
            "2269394     49.000000\n",
            "2548057     34.000000\n",
            "284196       0.000000\n",
            "1680979     15.500000\n",
            "2214052    226.666667\n",
            "2003744     35.000000\n",
            "1170961     27.000000\n",
            "1594909     30.000000\n",
            "2454022      0.000000\n",
            "1783950      0.000000\n",
            "Name:  Avg Fwd Segment Size, dtype: float64\n",
            "Trying to convert datatypes for less memory usage\n",
            "5940.857143 max\n",
            "0.0 min\n",
            "22623008 memory usage\n",
            "2827876  new memory usage| the difference ->  8.0\n",
            "255 max\n",
            "0 min\n",
            "2827876 This is the memory usage\n",
            "1895031     53\n",
            "1184871     62\n",
            "1244358     50\n",
            "2414516     58\n",
            "1071130      6\n",
            "97074        8\n",
            "1439375      2\n",
            "1479081      6\n",
            "2114924      0\n",
            "2687457      0\n",
            "1280626     64\n",
            "912454      27\n",
            "842784      26\n",
            "2606241     90\n",
            "550716      30\n",
            "743269      55\n",
            "287283     153\n",
            "2756452     69\n",
            "2654060     58\n",
            "2325524      0\n",
            "Name:  Avg Fwd Segment Size, dtype: uint8\n"
          ]
        }
      ]
    },
    {
      "cell_type": "code",
      "metadata": {
        "id": "VaUlYznl2Zb9",
        "colab": {
          "base_uri": "https://localhost:8080/"
        },
        "outputId": "d0fb813a-d17d-4eaa-b694-0ec4fed4df74"
      },
      "source": [
        "check_size_dtypes(df[ 'Subflow Fwd Packets']) \n",
        "df[ 'Subflow Fwd Packets'] = normalize(df[ 'Subflow Fwd Packets'])\n",
        "df[ 'Subflow Fwd Packets'] = convert_datatypes(df[ 'Subflow Fwd Packets'])"
      ],
      "execution_count": 94,
      "outputs": [
        {
          "output_type": "stream",
          "name": "stdout",
          "text": [
            "219759 max\n",
            "1 min\n",
            "22623008 This is the memory usage\n",
            "2639580     1\n",
            "2484002     7\n",
            "1624525     1\n",
            "1661650     3\n",
            "1561278     1\n",
            "1023822     2\n",
            "236956      2\n",
            "2038314     2\n",
            "972662      6\n",
            "38460       3\n",
            "289162      2\n",
            "1618793     2\n",
            "79531       4\n",
            "1139741     1\n",
            "803109     17\n",
            "893520      2\n",
            "12136       2\n",
            "260410      2\n",
            "1892910     1\n",
            "1605664     2\n",
            "Name: Subflow Fwd Packets, dtype: int64\n",
            "Trying to convert datatypes for less memory usage\n",
            "254.99883963796705 max\n",
            "0.0 min\n",
            "22623008 memory usage\n",
            "2827876  new memory usage| the difference ->  8.0\n"
          ]
        }
      ]
    },
    {
      "cell_type": "code",
      "metadata": {
        "colab": {
          "base_uri": "https://localhost:8080/"
        },
        "id": "YzFTkARHDVdW",
        "outputId": "edb32ded-1af0-4adc-95b0-98ac61049a2a"
      },
      "source": [
        "check_size_dtypes(df[ 'Subflow Fwd Packets']) "
      ],
      "execution_count": null,
      "outputs": [
        {
          "output_type": "stream",
          "name": "stdout",
          "text": [
            "219759 max\n",
            "1 min\n",
            "11311504 This is the memory usage\n",
            "6123        2\n",
            "2342808     5\n",
            "1475228     1\n",
            "1775541     2\n",
            "2764351     7\n",
            "2000351     3\n",
            "1631664     2\n",
            "565539     10\n",
            "1087350     4\n",
            "1976376     2\n",
            "299903      2\n",
            "616234      3\n",
            "2669412    14\n",
            "1735123     1\n",
            "520496     10\n",
            "900948      2\n",
            "394061      1\n",
            "2632023     1\n",
            "1177752     3\n",
            "49711       6\n",
            "Name: Subflow Fwd Packets, dtype: int32\n"
          ]
        }
      ]
    },
    {
      "cell_type": "code",
      "metadata": {
        "id": "4C9UQfnqwVwz",
        "colab": {
          "base_uri": "https://localhost:8080/"
        },
        "outputId": "91ec8679-f78b-45d8-930c-ba0f2db21556"
      },
      "source": [
        "check_size_dtypes(df[' Fwd Header Length.1'])\n",
        "df[' Fwd Header Length.1'] = normalize(df[' Fwd Header Length.1'])\n",
        "df[' Fwd Header Length.1'] = convert_datatypes(df[' Fwd Header Length.1'])\n",
        "check_size_dtypes(df[' Fwd Header Length.1'])\n"
      ],
      "execution_count": 95,
      "outputs": [
        {
          "output_type": "stream",
          "name": "stdout",
          "text": [
            "4644908 max\n",
            "-32212234632 min\n",
            "22623008 This is the memory usage\n",
            "1154335      40\n",
            "1331452     112\n",
            "4153         64\n",
            "437688       40\n",
            "188949       72\n",
            "350091       24\n",
            "482752       40\n",
            "790867      244\n",
            "1904715     224\n",
            "2695851      64\n",
            "529955       64\n",
            "1098875      88\n",
            "322616       24\n",
            "2035698      20\n",
            "2091092      80\n",
            "301669       20\n",
            "2829779      40\n",
            "846388       20\n",
            "1899617    1612\n",
            "1064408      40\n",
            "Name:  Fwd Header Length.1, dtype: int64\n",
            "Trying to convert datatypes for less memory usage\n",
            "1768668.8913321856 max\n",
            "0.0 min\n",
            "22623008 memory usage\n",
            "2827876  new memory usage| the difference ->  8.0\n",
            "255 max\n",
            "0 min\n",
            "2827876 This is the memory usage\n",
            "1125739    221\n",
            "1095098    221\n",
            "358241     221\n",
            "1359071    221\n",
            "1360433    221\n",
            "1562209    221\n",
            "2815337    221\n",
            "196882     221\n",
            "1911369    221\n",
            "1177085    221\n",
            "963803     221\n",
            "2135486    221\n",
            "2810038    221\n",
            "2598951    221\n",
            "1434150    221\n",
            "527601     221\n",
            "612677     221\n",
            "221744     221\n",
            "948154     221\n",
            "1709255    221\n",
            "Name:  Fwd Header Length.1, dtype: uint8\n"
          ]
        }
      ]
    },
    {
      "cell_type": "code",
      "metadata": {
        "id": "ngQGjFxuwVzX",
        "colab": {
          "base_uri": "https://localhost:8080/"
        },
        "outputId": "db5b4238-a083-42ff-a379-2e075dd0536a"
      },
      "source": [
        "check_size_dtypes(df[' Fwd Header Length.1'])\n"
      ],
      "execution_count": 96,
      "outputs": [
        {
          "output_type": "stream",
          "name": "stdout",
          "text": [
            "255 max\n",
            "0 min\n",
            "2827876 This is the memory usage\n",
            "1057381    221\n",
            "604175     221\n",
            "1596492    221\n",
            "1742640    222\n",
            "2467301    221\n",
            "2437346    221\n",
            "1817345    221\n",
            "650642     221\n",
            "2359494    221\n",
            "2650275    221\n",
            "1068950    221\n",
            "2346906    221\n",
            "815183     221\n",
            "93109      221\n",
            "2459794    221\n",
            "429390     221\n",
            "706775     221\n",
            "560143     221\n",
            "2554656    221\n",
            "241544     221\n",
            "Name:  Fwd Header Length.1, dtype: uint8\n"
          ]
        }
      ]
    },
    {
      "cell_type": "code",
      "metadata": {
        "id": "IX-iKY0H4QEy",
        "colab": {
          "base_uri": "https://localhost:8080/"
        },
        "outputId": "7691e0f0-0c77-43a8-a463-08167e361029"
      },
      "source": [
        "check_size_dtypes(df[' Subflow Fwd Bytes'])\n",
        "df[' Subflow Fwd Bytes'] = normalize(df[' Subflow Fwd Bytes'])\n",
        "df[' Subflow Fwd Bytes'] = convert_datatypes(df[' Subflow Fwd Bytes'])\n"
      ],
      "execution_count": 97,
      "outputs": [
        {
          "output_type": "stream",
          "name": "stdout",
          "text": [
            "12870338 max\n",
            "0 min\n",
            "22623008 This is the memory usage\n",
            "467924       43\n",
            "109337       30\n",
            "2242369       0\n",
            "1458943      70\n",
            "312990      200\n",
            "1666743     518\n",
            "2192488      70\n",
            "1534326      56\n",
            "1422294       4\n",
            "2732170      72\n",
            "2728120       6\n",
            "1402607       4\n",
            "696867       80\n",
            "2356795       0\n",
            "1292180      60\n",
            "1671530    1132\n",
            "20121        30\n",
            "1846683       0\n",
            "1207410      76\n",
            "2367414     692\n",
            "Name:  Subflow Fwd Bytes, dtype: int64\n",
            "Trying to convert datatypes for less memory usage\n",
            "255.0 max\n",
            "0.0 min\n",
            "22623008 memory usage\n",
            "2827876  new memory usage| the difference ->  8.0\n"
          ]
        }
      ]
    },
    {
      "cell_type": "code",
      "metadata": {
        "id": "SdLgnFkq4QHo",
        "colab": {
          "base_uri": "https://localhost:8080/"
        },
        "outputId": "48cbd434-3de4-4070-a9b6-8a6e2915313a"
      },
      "source": [
        "check_size_dtypes(df[' Subflow Fwd Bytes'])\n",
        "df[' Subflow Bwd Packets'] = normalize(df[' Subflow Bwd Packets'])\n",
        "df[' Subflow Bwd Packets'] = convert_datatypes(df[' Subflow Bwd Packets'])"
      ],
      "execution_count": 98,
      "outputs": [
        {
          "output_type": "stream",
          "name": "stdout",
          "text": [
            "255 max\n",
            "0 min\n",
            "2827876 This is the memory usage\n",
            "1968576    0\n",
            "1775862    0\n",
            "48985      0\n",
            "1227758    0\n",
            "1210602    0\n",
            "2448255    0\n",
            "338352     0\n",
            "2179950    0\n",
            "1275826    0\n",
            "1933246    0\n",
            "353382     0\n",
            "158607     0\n",
            "1867664    0\n",
            "2223363    0\n",
            "972150     0\n",
            "37839      0\n",
            "775574     0\n",
            "439735     0\n",
            "1977453    0\n",
            "2248562    0\n",
            "Name:  Subflow Fwd Bytes, dtype: uint8\n",
            "Trying to convert datatypes for less memory usage\n",
            "255.0 max\n",
            "0.0 min\n",
            "22623008 memory usage\n",
            "2827876  new memory usage| the difference ->  8.0\n"
          ]
        }
      ]
    },
    {
      "cell_type": "code",
      "metadata": {
        "id": "HLGJEhA64QKb",
        "colab": {
          "base_uri": "https://localhost:8080/"
        },
        "outputId": "de2ccd18-c941-4b3f-9ec3-8a03be84c1c1"
      },
      "source": [
        "check_size_dtypes(df[' Subflow Bwd Bytes'] )\n",
        "df[' Subflow Bwd Bytes'] = normalize(df[' Subflow Bwd Bytes'])\n",
        "df[' Subflow Bwd Bytes'] = convert_datatypes(df[' Subflow Bwd Bytes'])\n",
        "check_size_dtypes(df[' Subflow Bwd Bytes'] )\n",
        "# df[' Subflow Bwd Bytes'].value_counts()"
      ],
      "execution_count": 100,
      "outputs": [
        {
          "output_type": "stream",
          "name": "stdout",
          "text": [
            "255 max\n",
            "0 min\n",
            "2827876 This is the memory usage\n",
            "2120392    0\n",
            "2464841    0\n",
            "2242512    0\n",
            "2686733    0\n",
            "1247407    0\n",
            "119854     0\n",
            "67464      0\n",
            "1133272    0\n",
            "94339      0\n",
            "464125     0\n",
            "1538591    0\n",
            "2335473    0\n",
            "645148     0\n",
            "1606532    0\n",
            "2610438    0\n",
            "1961722    0\n",
            "372803     0\n",
            "1542581    0\n",
            "2355133    0\n",
            "1832190    0\n",
            "Name:  Subflow Bwd Bytes, dtype: uint8\n",
            "Trying to convert datatypes for less memory usage\n",
            "255.0 max\n",
            "0.0 min\n",
            "22623008 memory usage\n",
            "2827876  new memory usage| the difference ->  8.0\n",
            "255 max\n",
            "0 min\n",
            "2827876 This is the memory usage\n",
            "2282436    0\n",
            "1548730    0\n",
            "1172832    0\n",
            "5337       0\n",
            "1302239    0\n",
            "11196      0\n",
            "2266297    0\n",
            "2545878    0\n",
            "1935698    0\n",
            "690381     0\n",
            "1486619    0\n",
            "365067     0\n",
            "1932408    0\n",
            "2152028    0\n",
            "376891     0\n",
            "812650     0\n",
            "2204599    0\n",
            "65760      0\n",
            "1692779    0\n",
            "1840320    0\n",
            "Name:  Subflow Bwd Bytes, dtype: uint8\n"
          ]
        }
      ]
    },
    {
      "cell_type": "code",
      "metadata": {
        "id": "53JuNYDt4QNC",
        "colab": {
          "base_uri": "https://localhost:8080/"
        },
        "outputId": "4e22065d-f373-466d-a42d-df794a6795fc"
      },
      "source": [
        "check_size_dtypes(df[' act_data_pkt_fwd'])\n",
        "df[' act_data_pkt_fwd'] = normalize(df[' act_data_pkt_fwd'])\n",
        "df[' act_data_pkt_fwd'] = convert_datatypes(df[' act_data_pkt_fwd'] )"
      ],
      "execution_count": 101,
      "outputs": [
        {
          "output_type": "stream",
          "name": "stdout",
          "text": [
            "213557 max\n",
            "0 min\n",
            "22623008 This is the memory usage\n",
            "2070336    1\n",
            "1337214    0\n",
            "1944256    1\n",
            "820758     0\n",
            "1851496    0\n",
            "18564      1\n",
            "691864     6\n",
            "1623690    2\n",
            "2449896    7\n",
            "2071191    0\n",
            "2110321    0\n",
            "2433624    2\n",
            "2171465    0\n",
            "991550     3\n",
            "1505477    1\n",
            "2724291    1\n",
            "1502758    1\n",
            "1238972    0\n",
            "673764     1\n",
            "1611198    2\n",
            "Name:  act_data_pkt_fwd, dtype: int64\n",
            "Trying to convert datatypes for less memory usage\n",
            "255.0 max\n",
            "0.0 min\n",
            "22623008 memory usage\n",
            "2827876  new memory usage| the difference ->  8.0\n"
          ]
        }
      ]
    },
    {
      "cell_type": "code",
      "metadata": {
        "colab": {
          "base_uri": "https://localhost:8080/"
        },
        "id": "VDW_ijgBWks8",
        "outputId": "ee9aaeb7-e554-40c4-bf48-ea6fbe3768de"
      },
      "source": [
        "check_size_dtypes(df[' act_data_pkt_fwd'])\n",
        "df[' act_data_pkt_fwd'].value_counts()"
      ],
      "execution_count": 102,
      "outputs": [
        {
          "output_type": "stream",
          "name": "stdout",
          "text": [
            "255 max\n",
            "0 min\n",
            "2827876 This is the memory usage\n",
            "2005060    0\n",
            "1975789    0\n",
            "809714     0\n",
            "227173     0\n",
            "628120     0\n",
            "1118113    0\n",
            "1109821    0\n",
            "2195612    0\n",
            "2094801    0\n",
            "153726     0\n",
            "1670893    0\n",
            "2567056    0\n",
            "461656     0\n",
            "2423275    0\n",
            "869836     0\n",
            "36893      0\n",
            "169716     0\n",
            "987053     0\n",
            "2298118    0\n",
            "2566107    0\n",
            "Name:  act_data_pkt_fwd, dtype: uint8\n"
          ]
        },
        {
          "output_type": "execute_result",
          "data": {
            "text/plain": [
              "0      2827458\n",
              "1          215\n",
              "2           47\n",
              "3           39\n",
              "4           14\n",
              "6           14\n",
              "5           13\n",
              "7            9\n",
              "21           5\n",
              "22           4\n",
              "10           3\n",
              "12           2\n",
              "182          2\n",
              "247          2\n",
              "16           2\n",
              "20           2\n",
              "11           2\n",
              "9            2\n",
              "207          2\n",
              "8            2\n",
              "223          2\n",
              "225          2\n",
              "227          2\n",
              "229          2\n",
              "243          2\n",
              "37           1\n",
              "14           1\n",
              "18           1\n",
              "19           1\n",
              "24           1\n",
              "255          1\n",
              "53           1\n",
              "209          1\n",
              "239          1\n",
              "237          1\n",
              "236          1\n",
              "235          1\n",
              "226          1\n",
              "222          1\n",
              "217          1\n",
              "211          1\n",
              "198          1\n",
              "88           1\n",
              "194          1\n",
              "190          1\n",
              "189          1\n",
              "181          1\n",
              "164          1\n",
              "139          1\n",
              "134          1\n",
              "123          1\n",
              "129          1\n",
              "Name:  act_data_pkt_fwd, dtype: int64"
            ]
          },
          "metadata": {},
          "execution_count": 102
        }
      ]
    },
    {
      "cell_type": "code",
      "metadata": {
        "id": "-6B3dAO04QPq"
      },
      "source": [
        ""
      ],
      "execution_count": null,
      "outputs": []
    },
    {
      "cell_type": "code",
      "metadata": {
        "id": "6xCIuZVN4_W4"
      },
      "source": [
        ""
      ],
      "execution_count": null,
      "outputs": []
    },
    {
      "cell_type": "code",
      "metadata": {
        "id": "DfTrdk7Z4_aO",
        "colab": {
          "base_uri": "https://localhost:8080/"
        },
        "outputId": "e1ca8d2a-a753-48d1-e6e4-9efda1b21329"
      },
      "source": [
        "\n",
        "df[' min_seg_size_forward'] = normalize(df[' min_seg_size_forward'])\n",
        "df[' min_seg_size_forward'] = convert_datatypes(df[' min_seg_size_forward'])\n",
        "check_size_dtypes(df[' min_seg_size_forward'])"
      ],
      "execution_count": 103,
      "outputs": [
        {
          "output_type": "stream",
          "name": "stdout",
          "text": [
            "Trying to convert datatypes for less memory usage\n",
            "992043867.7173914 max\n",
            "0.0 min\n",
            "22623008 memory usage\n",
            "2827876  new memory usage| the difference ->  8.0\n",
            "236 max\n",
            "0 min\n",
            "2827876 This is the memory usage\n",
            "1229432    151\n",
            "1758172    129\n",
            "1167576    129\n",
            "307902     129\n",
            "2298786    151\n",
            "1440455    129\n",
            "87851      129\n",
            "1767981    129\n",
            "1213927    151\n",
            "454673     166\n",
            "1684660    129\n",
            "988299     151\n",
            "228905     151\n",
            "1703082    151\n",
            "332432     137\n",
            "1636811    151\n",
            "66063      129\n",
            "1974480    129\n",
            "2341494    129\n",
            "2097206    129\n",
            "Name:  min_seg_size_forward, dtype: uint8\n"
          ]
        }
      ]
    },
    {
      "cell_type": "code",
      "metadata": {
        "id": "Jhicpi424_dj",
        "colab": {
          "base_uri": "https://localhost:8080/"
        },
        "outputId": "acd181a9-d029-4e6c-ab05-7ae1dc823462"
      },
      "source": [
        "# check_size_dtypes(df['Init_Win_bytes_forward'])\n",
        "df['Init_Win_bytes_forward'] = normalize(df['Init_Win_bytes_forward'])\n",
        "df['Init_Win_bytes_forward'] = convert_datatypes(df['Init_Win_bytes_forward'])\n",
        "check_size_dtypes(df['Init_Win_bytes_forward'])"
      ],
      "execution_count": 104,
      "outputs": [
        {
          "output_type": "stream",
          "name": "stdout",
          "text": [
            "Trying to convert datatypes for less memory usage\n",
            "255.00389105058366 max\n",
            "0.0 min\n",
            "22623008 memory usage\n",
            "2827876  new memory usage| the difference ->  8.0\n",
            "255 max\n",
            "0 min\n",
            "2827876 This is the memory usage\n",
            "651502       0\n",
            "123253       1\n",
            "844459     113\n",
            "2570112     31\n",
            "2743721      0\n",
            "2401813      0\n",
            "705149       0\n",
            "1418790      3\n",
            "1827384     31\n",
            "1766787    255\n",
            "802404      31\n",
            "1127940      0\n",
            "517050       0\n",
            "2707378      0\n",
            "979358       0\n",
            "72646       31\n",
            "2037329      0\n",
            "992526       0\n",
            "758668     113\n",
            "2237011      1\n",
            "Name: Init_Win_bytes_forward, dtype: uint8\n"
          ]
        }
      ]
    },
    {
      "cell_type": "code",
      "metadata": {
        "id": "fSzi6eng4_gk",
        "colab": {
          "base_uri": "https://localhost:8080/"
        },
        "outputId": "0ed5494c-c09f-4cd0-c80c-aa77efefa32a"
      },
      "source": [
        "check_size_dtypes(df[' Init_Win_bytes_backward'])\n",
        "df[' Init_Win_bytes_backward'] = normalize(df[' Init_Win_bytes_backward'])\n",
        "df[' Init_Win_bytes_backward'] = convert_datatypes(df[' Init_Win_bytes_backward'])\n",
        "check_size_dtypes(df[' Init_Win_bytes_backward'])\n"
      ],
      "execution_count": 105,
      "outputs": [
        {
          "output_type": "stream",
          "name": "stdout",
          "text": [
            "65535 max\n",
            "-1 min\n",
            "22623008 This is the memory usage\n",
            "1443097        0\n",
            "89629         -1\n",
            "2655759       -1\n",
            "507340       119\n",
            "586779        -1\n",
            "190807        -1\n",
            "2488822    42408\n",
            "50818         -1\n",
            "1141448       -1\n",
            "2108919     1024\n",
            "1017906       -1\n",
            "1204960        0\n",
            "1942704       -1\n",
            "2031552      229\n",
            "1221463       -1\n",
            "1824924      123\n",
            "1810314       -1\n",
            "2538867       -1\n",
            "1194488        0\n",
            "321402         0\n",
            "Name:  Init_Win_bytes_backward, dtype: int64\n",
            "Trying to convert datatypes for less memory usage\n",
            "255.00389105058366 max\n",
            "0.0 min\n",
            "22623008 memory usage\n",
            "2827876  new memory usage| the difference ->  8.0\n",
            "255 max\n",
            "0 min\n",
            "2827876 This is the memory usage\n",
            "679612     0\n",
            "1455438    0\n",
            "2813132    0\n",
            "1215332    1\n",
            "1077658    0\n",
            "78475      1\n",
            "2519305    0\n",
            "346276     0\n",
            "990745     0\n",
            "259494     0\n",
            "2569288    0\n",
            "525178     0\n",
            "2521077    1\n",
            "57748      0\n",
            "1298092    0\n",
            "1239733    0\n",
            "164153     0\n",
            "1601576    0\n",
            "11139      0\n",
            "620469     0\n",
            "Name:  Init_Win_bytes_backward, dtype: uint8\n"
          ]
        }
      ]
    },
    {
      "cell_type": "code",
      "metadata": {
        "id": "hzLIlXrD5mmv",
        "colab": {
          "base_uri": "https://localhost:8080/"
        },
        "outputId": "cc0c71cb-285c-4611-a5c4-2252aad64688"
      },
      "source": [
        "check_size_dtypes(df['Idle Mean']) \n",
        "df['Idle Mean'] = normalize(df['Idle Mean'])\n",
        "df['Idle Mean'] = convert_datatypes(df['Idle Mean'])\n",
        "check_size_dtypes(df['Idle Mean'])\n",
        "df['Idle Mean'].value_counts()"
      ],
      "execution_count": 106,
      "outputs": [
        {
          "output_type": "stream",
          "name": "stdout",
          "text": [
            "120000000.0 max\n",
            "0.0 min\n",
            "22623008 This is the memory usage\n",
            "2667202           0.0\n",
            "2806279           0.0\n",
            "2570636           0.0\n",
            "807686            0.0\n",
            "489009            0.0\n",
            "2305326    84300000.0\n",
            "1388362           0.0\n",
            "2310499           0.0\n",
            "1640692           0.0\n",
            "2334162    85300000.0\n",
            "408446            0.0\n",
            "1819100           0.0\n",
            "2062273           0.0\n",
            "811455            0.0\n",
            "1295591           0.0\n",
            "2545598    10000000.0\n",
            "2067775           0.0\n",
            "1716229    19900000.0\n",
            "1287422           0.0\n",
            "2557852           0.0\n",
            "Name: Idle Mean, dtype: float64\n",
            "Trying to convert datatypes for less memory usage\n",
            "255.0 max\n",
            "0.0 min\n",
            "22623008 memory usage\n",
            "2827876  new memory usage| the difference ->  8.0\n",
            "255 max\n",
            "0 min\n",
            "2827876 This is the memory usage\n",
            "898676       0\n",
            "1275179      0\n",
            "2575202      0\n",
            "1128342      0\n",
            "2512490      0\n",
            "1065479      0\n",
            "1296036      0\n",
            "463765       0\n",
            "2374002      0\n",
            "1291509      0\n",
            "2047990      0\n",
            "494943       0\n",
            "1129535      0\n",
            "2753786      0\n",
            "790794       0\n",
            "1369031      0\n",
            "2416527    209\n",
            "1259457      0\n",
            "1932191     12\n",
            "2649930      0\n",
            "Name: Idle Mean, dtype: uint8\n"
          ]
        },
        {
          "output_type": "execute_result",
          "data": {
            "text/plain": [
              "0      2260593\n",
              "21      146903\n",
              "20       33852\n",
              "11       26921\n",
              "209      22628\n",
              "        ...   \n",
              "232         38\n",
              "217         38\n",
              "237         37\n",
              "230         33\n",
              "220         28\n",
              "Name: Idle Mean, Length: 247, dtype: int64"
            ]
          },
          "metadata": {},
          "execution_count": 106
        }
      ]
    },
    {
      "cell_type": "code",
      "metadata": {
        "id": "uF0AqqS85mpS",
        "colab": {
          "base_uri": "https://localhost:8080/"
        },
        "outputId": "e0fcb109-2778-4d62-ca62-30416c89c124"
      },
      "source": [
        "check_size_dtypes(df[' Idle Std'])\n",
        "df[' Idle Std'] = normalize(df[' Idle Std'])\n",
        "# df[' Idle Std'] = \n",
        "df[' Idle Std'] = convert_datatypes(df[' Idle Std'])\n",
        "check_size_dtypes(df[' Idle Std'])\n"
      ],
      "execution_count": 107,
      "outputs": [
        {
          "output_type": "stream",
          "name": "stdout",
          "text": [
            "76900000.0 max\n",
            "0.0 min\n",
            "22623008 This is the memory usage\n",
            "765343     0.000000e+00\n",
            "1058055    0.000000e+00\n",
            "1128560    0.000000e+00\n",
            "2319425    0.000000e+00\n",
            "2786793    0.000000e+00\n",
            "2710069    0.000000e+00\n",
            "1825551    9.221643e+03\n",
            "1096366    0.000000e+00\n",
            "1782125    5.867077e+05\n",
            "1401747    0.000000e+00\n",
            "549969     0.000000e+00\n",
            "2507311    0.000000e+00\n",
            "625915     0.000000e+00\n",
            "1489506    0.000000e+00\n",
            "1891420    4.324186e+04\n",
            "1162767    0.000000e+00\n",
            "420688     0.000000e+00\n",
            "1919433    0.000000e+00\n",
            "123814     5.210000e+07\n",
            "2396296    0.000000e+00\n",
            "Name:  Idle Std, dtype: float64\n",
            "Trying to convert datatypes for less memory usage\n",
            "255.0 max\n",
            "0.0 min\n",
            "22623008 memory usage\n",
            "2827876  new memory usage| the difference ->  8.0\n",
            "255 max\n",
            "0 min\n",
            "2827876 This is the memory usage\n",
            "342138     0\n",
            "447646     0\n",
            "1240972    0\n",
            "1096217    0\n",
            "402314     0\n",
            "1375548    0\n",
            "443075     0\n",
            "796172     0\n",
            "1468564    0\n",
            "1595477    0\n",
            "2264250    0\n",
            "1245093    0\n",
            "119605     0\n",
            "1747070    0\n",
            "1811715    0\n",
            "2061416    0\n",
            "834275     0\n",
            "444913     0\n",
            "317389     0\n",
            "949373     0\n",
            "Name:  Idle Std, dtype: uint8\n"
          ]
        }
      ]
    },
    {
      "cell_type": "code",
      "metadata": {
        "id": "b7fJ8c365msE",
        "colab": {
          "base_uri": "https://localhost:8080/"
        },
        "outputId": "ae4ccb48-ab52-40a6-d9fe-6a9ec7931e44"
      },
      "source": [
        "check_size_dtypes(df[' Idle Max'])\n",
        "df[' Idle Max'] = normalize(df[' Idle Max'])\n",
        "df[' Idle Max'] = convert_datatypes(df[' Idle Max'])\n",
        "check_size_dtypes(df[' Idle Max'])\n",
        "\n",
        "df[' Idle Max'].value_counts()\n",
        "\n"
      ],
      "execution_count": 108,
      "outputs": [
        {
          "output_type": "stream",
          "name": "stdout",
          "text": [
            "120000000 max\n",
            "0 min\n",
            "22623008 This is the memory usage\n",
            "1615122           0\n",
            "5105              0\n",
            "2692661           0\n",
            "1679510           0\n",
            "269382            0\n",
            "2063305           0\n",
            "129828            0\n",
            "973680            0\n",
            "833615            0\n",
            "753569            0\n",
            "2248269    99000000\n",
            "1346700           0\n",
            "1572320           0\n",
            "423683            0\n",
            "2770581           0\n",
            "2093611           0\n",
            "1763070           0\n",
            "693872            0\n",
            "409042            0\n",
            "635116            0\n",
            "Name:  Idle Max, dtype: int64\n",
            "Trying to convert datatypes for less memory usage\n",
            "255.0 max\n",
            "0.0 min\n",
            "22623008 memory usage\n",
            "2827876  new memory usage| the difference ->  8.0\n",
            "255 max\n",
            "0 min\n",
            "2827876 This is the memory usage\n",
            "1700354      0\n",
            "1481500      0\n",
            "823625      21\n",
            "2317470    212\n",
            "2325067    211\n",
            "1075115      0\n",
            "207889       0\n",
            "225100       0\n",
            "2609131      0\n",
            "1529767      0\n",
            "722643       0\n",
            "661359       0\n",
            "1455919      0\n",
            "1254632      0\n",
            "784998       0\n",
            "2148371      0\n",
            "541903       0\n",
            "2150505    140\n",
            "36244       22\n",
            "1579612      0\n",
            "Name:  Idle Max, dtype: uint8\n"
          ]
        },
        {
          "output_type": "execute_result",
          "data": {
            "text/plain": [
              "0      2260593\n",
              "21      180690\n",
              "11       26848\n",
              "209      22727\n",
              "12       18484\n",
              "        ...   \n",
              "237         39\n",
              "243         39\n",
              "217         38\n",
              "230         34\n",
              "220         30\n",
              "Name:  Idle Max, Length: 247, dtype: int64"
            ]
          },
          "metadata": {},
          "execution_count": 108
        }
      ]
    },
    {
      "cell_type": "code",
      "metadata": {
        "id": "9uEoe9P35mus",
        "colab": {
          "base_uri": "https://localhost:8080/"
        },
        "outputId": "0cc5ca2a-151c-425f-a133-7b34f08b852c"
      },
      "source": [
        "check_size_dtypes(df[' Idle Min'])\n",
        "df[' Idle Min'] = normalize(df[' Idle Min'])\n",
        "df[' Idle Min'] = convert_datatypes(df[' Idle Min'])"
      ],
      "execution_count": 109,
      "outputs": [
        {
          "output_type": "stream",
          "name": "stdout",
          "text": [
            "120000000 max\n",
            "0 min\n",
            "22623008 This is the memory usage\n",
            "2190475     9958710\n",
            "381               0\n",
            "903121      9998264\n",
            "2479464           0\n",
            "2645354           0\n",
            "40333             0\n",
            "1008885           0\n",
            "830429            0\n",
            "1650548           0\n",
            "1470580           0\n",
            "1627738           0\n",
            "1598064           0\n",
            "1175037           0\n",
            "846458            0\n",
            "565861            0\n",
            "599748            0\n",
            "99662       8077843\n",
            "2196473     5883374\n",
            "772579            0\n",
            "91836      11700000\n",
            "Name:  Idle Min, dtype: int64\n",
            "Trying to convert datatypes for less memory usage\n",
            "255.0 max\n",
            "0.0 min\n",
            "22623008 memory usage\n",
            "2827876  new memory usage| the difference ->  8.0\n"
          ]
        }
      ]
    },
    {
      "cell_type": "code",
      "metadata": {
        "id": "5n6owJkL5mxc",
        "colab": {
          "base_uri": "https://localhost:8080/"
        },
        "outputId": "db311e31-7388-40b9-f0c8-37fee5d2ccda"
      },
      "source": [
        "df[' Idle Min'].value_counts()"
      ],
      "execution_count": null,
      "outputs": [
        {
          "output_type": "execute_result",
          "data": {
            "text/plain": [
              "0            2260593\n",
              "10000000       23056\n",
              "100000000       8597\n",
              "98300000        7247\n",
              "98700000        6262\n",
              "              ...   \n",
              "5571878            1\n",
              "9864716            1\n",
              "8973761            1\n",
              "5053823            1\n",
              "58761196           1\n",
              "Name:  Idle Min, Length: 223888, dtype: int64"
            ]
          },
          "metadata": {},
          "execution_count": 130
        }
      ]
    },
    {
      "cell_type": "code",
      "metadata": {
        "id": "SRas-GUx5m0E"
      },
      "source": [
        ""
      ],
      "execution_count": null,
      "outputs": []
    },
    {
      "cell_type": "code",
      "metadata": {
        "id": "QO_ouwSg5m29"
      },
      "source": [
        ""
      ],
      "execution_count": null,
      "outputs": []
    },
    {
      "cell_type": "code",
      "metadata": {
        "id": "FNDnnRgu4QSH"
      },
      "source": [
        ""
      ],
      "execution_count": null,
      "outputs": []
    },
    {
      "cell_type": "code",
      "metadata": {
        "id": "DXuynlYX4QVF"
      },
      "source": [
        ""
      ],
      "execution_count": null,
      "outputs": []
    },
    {
      "cell_type": "code",
      "metadata": {
        "id": "S4N9O-dQjN1o"
      },
      "source": [
        ""
      ],
      "execution_count": null,
      "outputs": []
    },
    {
      "cell_type": "code",
      "metadata": {
        "id": "fwaO_h87sOS7"
      },
      "source": [
        ""
      ],
      "execution_count": null,
      "outputs": []
    },
    {
      "cell_type": "code",
      "metadata": {
        "colab": {
          "base_uri": "https://localhost:8080/"
        },
        "id": "zIrRHTHbkRbW",
        "outputId": "4ea77a29-7eb4-4cec-da30-80ac4c957492"
      },
      "source": [
        "22645944 / 5661486"
      ],
      "execution_count": null,
      "outputs": [
        {
          "output_type": "execute_result",
          "data": {
            "text/plain": [
              "4.0"
            ]
          },
          "metadata": {},
          "execution_count": 42
        }
      ]
    },
    {
      "cell_type": "code",
      "metadata": {
        "colab": {
          "base_uri": "https://localhost:8080/",
          "height": 1000
        },
        "id": "cEwzBmszkRnB",
        "outputId": "3e9ebef3-1077-48a9-d911-71b6859b984b"
      },
      "source": [
        "df.info()\n",
        "df.sample(20)\n",
        "\n"
      ],
      "execution_count": 113,
      "outputs": [
        {
          "output_type": "stream",
          "name": "stdout",
          "text": [
            "<class 'pandas.core.frame.DataFrame'>\n",
            "Int64Index: 2827876 entries, 0 to 2830742\n",
            "Data columns (total 56 columns):\n",
            " #   Column                       Dtype  \n",
            "---  ------                       -----  \n",
            " 0    Destination Port            uint8  \n",
            " 1    Flow Duration               uint8  \n",
            " 2    Total Fwd Packets           uint8  \n",
            " 3    Total Backward Packets      uint8  \n",
            " 4   Total Length of Fwd Packets  int64  \n",
            " 5    Fwd Packet Length Max       uint8  \n",
            " 6    Fwd Packet Length Min       uint8  \n",
            " 7    Fwd Packet Length Mean      uint8  \n",
            " 8    Fwd Packet Length Std       uint8  \n",
            " 9   Bwd Packet Length Max        uint8  \n",
            " 10   Bwd Packet Length Min       uint8  \n",
            " 11   Bwd Packet Length Mean      uint8  \n",
            " 12   Bwd Packet Length Std       uint8  \n",
            " 13  Flow Bytes/s                 uint8  \n",
            " 14   Flow Packets/s              uint8  \n",
            " 15   Flow IAT Mean               uint8  \n",
            " 16   Flow IAT Std                uint8  \n",
            " 17   Flow IAT Max                uint8  \n",
            " 18   Flow IAT Min                uint8  \n",
            " 19  Fwd IAT Total                uint8  \n",
            " 20   Fwd IAT Mean                uint8  \n",
            " 21   Fwd IAT Std                 uint8  \n",
            " 22   Fwd IAT Max                 uint8  \n",
            " 23   Fwd IAT Min                 uint8  \n",
            " 24  Bwd IAT Total                uint8  \n",
            " 25   Bwd IAT Max                 uint8  \n",
            " 26  Fwd PSH Flags                uint8  \n",
            " 27   Fwd Header Length           int64  \n",
            " 28   Bwd Header Length           uint8  \n",
            " 29  Fwd Packets/s                uint8  \n",
            " 30   Min Packet Length           uint8  \n",
            " 31   Max Packet Length           uint8  \n",
            " 32   Packet Length Mean          uint8  \n",
            " 33   Packet Length Std           uint8  \n",
            " 34   Packet Length Variance      uint8  \n",
            " 35  FIN Flag Count               int64  \n",
            " 36   PSH Flag Count              uint8  \n",
            " 37   ACK Flag Count              uint8  \n",
            " 38   URG Flag Count              uint8  \n",
            " 39   Average Packet Size         uint8  \n",
            " 40   Avg Fwd Segment Size        uint8  \n",
            " 41   Avg Bwd Segment Size        float64\n",
            " 42   Fwd Header Length.1         uint8  \n",
            " 43  Subflow Fwd Packets          uint8  \n",
            " 44   Subflow Fwd Bytes           uint8  \n",
            " 45   Subflow Bwd Packets         uint8  \n",
            " 46   Subflow Bwd Bytes           uint8  \n",
            " 47  Init_Win_bytes_forward       uint8  \n",
            " 48   Init_Win_bytes_backward     uint8  \n",
            " 49   act_data_pkt_fwd            uint8  \n",
            " 50   min_seg_size_forward        uint8  \n",
            " 51  Idle Mean                    uint8  \n",
            " 52   Idle Std                    uint8  \n",
            " 53   Idle Max                    uint8  \n",
            " 54   Idle Min                    uint8  \n",
            " 55   Label                       object \n",
            "dtypes: float64(1), int64(3), object(1), uint8(51)\n",
            "memory usage: 267.0+ MB\n"
          ]
        },
        {
          "output_type": "execute_result",
          "data": {
            "text/html": [
              "<div>\n",
              "<style scoped>\n",
              "    .dataframe tbody tr th:only-of-type {\n",
              "        vertical-align: middle;\n",
              "    }\n",
              "\n",
              "    .dataframe tbody tr th {\n",
              "        vertical-align: top;\n",
              "    }\n",
              "\n",
              "    .dataframe thead th {\n",
              "        text-align: right;\n",
              "    }\n",
              "</style>\n",
              "<table border=\"1\" class=\"dataframe\">\n",
              "  <thead>\n",
              "    <tr style=\"text-align: right;\">\n",
              "      <th></th>\n",
              "      <th>Destination Port</th>\n",
              "      <th>Flow Duration</th>\n",
              "      <th>Total Fwd Packets</th>\n",
              "      <th>Total Backward Packets</th>\n",
              "      <th>Total Length of Fwd Packets</th>\n",
              "      <th>Fwd Packet Length Max</th>\n",
              "      <th>Fwd Packet Length Min</th>\n",
              "      <th>Fwd Packet Length Mean</th>\n",
              "      <th>Fwd Packet Length Std</th>\n",
              "      <th>Bwd Packet Length Max</th>\n",
              "      <th>Bwd Packet Length Min</th>\n",
              "      <th>Bwd Packet Length Mean</th>\n",
              "      <th>Bwd Packet Length Std</th>\n",
              "      <th>Flow Bytes/s</th>\n",
              "      <th>Flow Packets/s</th>\n",
              "      <th>Flow IAT Mean</th>\n",
              "      <th>Flow IAT Std</th>\n",
              "      <th>Flow IAT Max</th>\n",
              "      <th>Flow IAT Min</th>\n",
              "      <th>Fwd IAT Total</th>\n",
              "      <th>Fwd IAT Mean</th>\n",
              "      <th>Fwd IAT Std</th>\n",
              "      <th>Fwd IAT Max</th>\n",
              "      <th>Fwd IAT Min</th>\n",
              "      <th>Bwd IAT Total</th>\n",
              "      <th>Bwd IAT Max</th>\n",
              "      <th>Fwd PSH Flags</th>\n",
              "      <th>Fwd Header Length</th>\n",
              "      <th>Bwd Header Length</th>\n",
              "      <th>Fwd Packets/s</th>\n",
              "      <th>Min Packet Length</th>\n",
              "      <th>Max Packet Length</th>\n",
              "      <th>Packet Length Mean</th>\n",
              "      <th>Packet Length Std</th>\n",
              "      <th>Packet Length Variance</th>\n",
              "      <th>FIN Flag Count</th>\n",
              "      <th>PSH Flag Count</th>\n",
              "      <th>ACK Flag Count</th>\n",
              "      <th>URG Flag Count</th>\n",
              "      <th>Average Packet Size</th>\n",
              "      <th>Avg Fwd Segment Size</th>\n",
              "      <th>Avg Bwd Segment Size</th>\n",
              "      <th>Fwd Header Length.1</th>\n",
              "      <th>Subflow Fwd Packets</th>\n",
              "      <th>Subflow Fwd Bytes</th>\n",
              "      <th>Subflow Bwd Packets</th>\n",
              "      <th>Subflow Bwd Bytes</th>\n",
              "      <th>Init_Win_bytes_forward</th>\n",
              "      <th>Init_Win_bytes_backward</th>\n",
              "      <th>act_data_pkt_fwd</th>\n",
              "      <th>min_seg_size_forward</th>\n",
              "      <th>Idle Mean</th>\n",
              "      <th>Idle Std</th>\n",
              "      <th>Idle Max</th>\n",
              "      <th>Idle Min</th>\n",
              "      <th>Label</th>\n",
              "    </tr>\n",
              "  </thead>\n",
              "  <tbody>\n",
              "    <tr>\n",
              "      <th>316342</th>\n",
              "      <td>13</td>\n",
              "      <td>0</td>\n",
              "      <td>0</td>\n",
              "      <td>0</td>\n",
              "      <td>2</td>\n",
              "      <td>0</td>\n",
              "      <td>0</td>\n",
              "      <td>0</td>\n",
              "      <td>0</td>\n",
              "      <td>0</td>\n",
              "      <td>0</td>\n",
              "      <td>0</td>\n",
              "      <td>0</td>\n",
              "      <td>32</td>\n",
              "      <td>128</td>\n",
              "      <td>0</td>\n",
              "      <td>0</td>\n",
              "      <td>0</td>\n",
              "      <td>0</td>\n",
              "      <td>0</td>\n",
              "      <td>0</td>\n",
              "      <td>0</td>\n",
              "      <td>0</td>\n",
              "      <td>0</td>\n",
              "      <td>0</td>\n",
              "      <td>0</td>\n",
              "      <td>0</td>\n",
              "      <td>24</td>\n",
              "      <td>48</td>\n",
              "      <td>0</td>\n",
              "      <td>0</td>\n",
              "      <td>0</td>\n",
              "      <td>0</td>\n",
              "      <td>0</td>\n",
              "      <td>0</td>\n",
              "      <td>0</td>\n",
              "      <td>1</td>\n",
              "      <td>0</td>\n",
              "      <td>0</td>\n",
              "      <td>0</td>\n",
              "      <td>2</td>\n",
              "      <td>6.0</td>\n",
              "      <td>221</td>\n",
              "      <td>0</td>\n",
              "      <td>0</td>\n",
              "      <td>0</td>\n",
              "      <td>0</td>\n",
              "      <td>3</td>\n",
              "      <td>0</td>\n",
              "      <td>0</td>\n",
              "      <td>137</td>\n",
              "      <td>0</td>\n",
              "      <td>0</td>\n",
              "      <td>0</td>\n",
              "      <td>0</td>\n",
              "      <td>PortScan</td>\n",
              "    </tr>\n",
              "    <tr>\n",
              "      <th>2299076</th>\n",
              "      <td>0</td>\n",
              "      <td>0</td>\n",
              "      <td>0</td>\n",
              "      <td>0</td>\n",
              "      <td>0</td>\n",
              "      <td>0</td>\n",
              "      <td>0</td>\n",
              "      <td>0</td>\n",
              "      <td>0</td>\n",
              "      <td>0</td>\n",
              "      <td>0</td>\n",
              "      <td>0</td>\n",
              "      <td>0</td>\n",
              "      <td>32</td>\n",
              "      <td>255</td>\n",
              "      <td>0</td>\n",
              "      <td>0</td>\n",
              "      <td>0</td>\n",
              "      <td>0</td>\n",
              "      <td>0</td>\n",
              "      <td>0</td>\n",
              "      <td>0</td>\n",
              "      <td>1</td>\n",
              "      <td>0</td>\n",
              "      <td>0</td>\n",
              "      <td>0</td>\n",
              "      <td>0</td>\n",
              "      <td>64</td>\n",
              "      <td>48</td>\n",
              "      <td>170</td>\n",
              "      <td>0</td>\n",
              "      <td>0</td>\n",
              "      <td>0</td>\n",
              "      <td>0</td>\n",
              "      <td>0</td>\n",
              "      <td>0</td>\n",
              "      <td>0</td>\n",
              "      <td>1</td>\n",
              "      <td>0</td>\n",
              "      <td>0</td>\n",
              "      <td>0</td>\n",
              "      <td>0.0</td>\n",
              "      <td>221</td>\n",
              "      <td>0</td>\n",
              "      <td>0</td>\n",
              "      <td>0</td>\n",
              "      <td>0</td>\n",
              "      <td>0</td>\n",
              "      <td>0</td>\n",
              "      <td>0</td>\n",
              "      <td>151</td>\n",
              "      <td>0</td>\n",
              "      <td>0</td>\n",
              "      <td>0</td>\n",
              "      <td>0</td>\n",
              "      <td>DoS Hulk</td>\n",
              "    </tr>\n",
              "    <tr>\n",
              "      <th>212416</th>\n",
              "      <td>0</td>\n",
              "      <td>0</td>\n",
              "      <td>0</td>\n",
              "      <td>0</td>\n",
              "      <td>52</td>\n",
              "      <td>0</td>\n",
              "      <td>5</td>\n",
              "      <td>2</td>\n",
              "      <td>0</td>\n",
              "      <td>0</td>\n",
              "      <td>5</td>\n",
              "      <td>2</td>\n",
              "      <td>0</td>\n",
              "      <td>32</td>\n",
              "      <td>127</td>\n",
              "      <td>0</td>\n",
              "      <td>0</td>\n",
              "      <td>0</td>\n",
              "      <td>0</td>\n",
              "      <td>0</td>\n",
              "      <td>0</td>\n",
              "      <td>0</td>\n",
              "      <td>0</td>\n",
              "      <td>0</td>\n",
              "      <td>0</td>\n",
              "      <td>0</td>\n",
              "      <td>0</td>\n",
              "      <td>32</td>\n",
              "      <td>48</td>\n",
              "      <td>0</td>\n",
              "      <td>9</td>\n",
              "      <td>0</td>\n",
              "      <td>4</td>\n",
              "      <td>0</td>\n",
              "      <td>0</td>\n",
              "      <td>0</td>\n",
              "      <td>0</td>\n",
              "      <td>0</td>\n",
              "      <td>0</td>\n",
              "      <td>5</td>\n",
              "      <td>52</td>\n",
              "      <td>68.0</td>\n",
              "      <td>221</td>\n",
              "      <td>0</td>\n",
              "      <td>0</td>\n",
              "      <td>0</td>\n",
              "      <td>0</td>\n",
              "      <td>0</td>\n",
              "      <td>0</td>\n",
              "      <td>0</td>\n",
              "      <td>151</td>\n",
              "      <td>0</td>\n",
              "      <td>0</td>\n",
              "      <td>0</td>\n",
              "      <td>0</td>\n",
              "      <td>BENIGN</td>\n",
              "    </tr>\n",
              "    <tr>\n",
              "      <th>826775</th>\n",
              "      <td>1</td>\n",
              "      <td>0</td>\n",
              "      <td>0</td>\n",
              "      <td>0</td>\n",
              "      <td>531</td>\n",
              "      <td>2</td>\n",
              "      <td>0</td>\n",
              "      <td>2</td>\n",
              "      <td>2</td>\n",
              "      <td>18</td>\n",
              "      <td>0</td>\n",
              "      <td>20</td>\n",
              "      <td>19</td>\n",
              "      <td>32</td>\n",
              "      <td>127</td>\n",
              "      <td>0</td>\n",
              "      <td>0</td>\n",
              "      <td>0</td>\n",
              "      <td>0</td>\n",
              "      <td>0</td>\n",
              "      <td>0</td>\n",
              "      <td>0</td>\n",
              "      <td>14</td>\n",
              "      <td>0</td>\n",
              "      <td>0</td>\n",
              "      <td>0</td>\n",
              "      <td>0</td>\n",
              "      <td>212</td>\n",
              "      <td>48</td>\n",
              "      <td>0</td>\n",
              "      <td>0</td>\n",
              "      <td>14</td>\n",
              "      <td>18</td>\n",
              "      <td>24</td>\n",
              "      <td>2</td>\n",
              "      <td>0</td>\n",
              "      <td>1</td>\n",
              "      <td>0</td>\n",
              "      <td>0</td>\n",
              "      <td>16</td>\n",
              "      <td>53</td>\n",
              "      <td>466.0</td>\n",
              "      <td>221</td>\n",
              "      <td>0</td>\n",
              "      <td>0</td>\n",
              "      <td>0</td>\n",
              "      <td>0</td>\n",
              "      <td>31</td>\n",
              "      <td>1</td>\n",
              "      <td>0</td>\n",
              "      <td>129</td>\n",
              "      <td>0</td>\n",
              "      <td>0</td>\n",
              "      <td>0</td>\n",
              "      <td>0</td>\n",
              "      <td>BENIGN</td>\n",
              "    </tr>\n",
              "    <tr>\n",
              "      <th>1878900</th>\n",
              "      <td>0</td>\n",
              "      <td>0</td>\n",
              "      <td>0</td>\n",
              "      <td>0</td>\n",
              "      <td>53</td>\n",
              "      <td>0</td>\n",
              "      <td>5</td>\n",
              "      <td>2</td>\n",
              "      <td>0</td>\n",
              "      <td>1</td>\n",
              "      <td>10</td>\n",
              "      <td>5</td>\n",
              "      <td>0</td>\n",
              "      <td>32</td>\n",
              "      <td>127</td>\n",
              "      <td>0</td>\n",
              "      <td>0</td>\n",
              "      <td>0</td>\n",
              "      <td>0</td>\n",
              "      <td>0</td>\n",
              "      <td>0</td>\n",
              "      <td>0</td>\n",
              "      <td>0</td>\n",
              "      <td>0</td>\n",
              "      <td>0</td>\n",
              "      <td>0</td>\n",
              "      <td>0</td>\n",
              "      <td>32</td>\n",
              "      <td>48</td>\n",
              "      <td>0</td>\n",
              "      <td>9</td>\n",
              "      <td>1</td>\n",
              "      <td>5</td>\n",
              "      <td>1</td>\n",
              "      <td>0</td>\n",
              "      <td>0</td>\n",
              "      <td>0</td>\n",
              "      <td>0</td>\n",
              "      <td>0</td>\n",
              "      <td>7</td>\n",
              "      <td>53</td>\n",
              "      <td>116.0</td>\n",
              "      <td>221</td>\n",
              "      <td>0</td>\n",
              "      <td>0</td>\n",
              "      <td>0</td>\n",
              "      <td>0</td>\n",
              "      <td>0</td>\n",
              "      <td>0</td>\n",
              "      <td>0</td>\n",
              "      <td>151</td>\n",
              "      <td>0</td>\n",
              "      <td>0</td>\n",
              "      <td>0</td>\n",
              "      <td>0</td>\n",
              "      <td>BENIGN</td>\n",
              "    </tr>\n",
              "    <tr>\n",
              "      <th>810581</th>\n",
              "      <td>1</td>\n",
              "      <td>11</td>\n",
              "      <td>0</td>\n",
              "      <td>0</td>\n",
              "      <td>457</td>\n",
              "      <td>2</td>\n",
              "      <td>0</td>\n",
              "      <td>2</td>\n",
              "      <td>3</td>\n",
              "      <td>21</td>\n",
              "      <td>0</td>\n",
              "      <td>23</td>\n",
              "      <td>24</td>\n",
              "      <td>32</td>\n",
              "      <td>127</td>\n",
              "      <td>0</td>\n",
              "      <td>3</td>\n",
              "      <td>10</td>\n",
              "      <td>0</td>\n",
              "      <td>11</td>\n",
              "      <td>1</td>\n",
              "      <td>5</td>\n",
              "      <td>52</td>\n",
              "      <td>0</td>\n",
              "      <td>0</td>\n",
              "      <td>0</td>\n",
              "      <td>0</td>\n",
              "      <td>296</td>\n",
              "      <td>48</td>\n",
              "      <td>0</td>\n",
              "      <td>0</td>\n",
              "      <td>17</td>\n",
              "      <td>17</td>\n",
              "      <td>28</td>\n",
              "      <td>3</td>\n",
              "      <td>0</td>\n",
              "      <td>1</td>\n",
              "      <td>0</td>\n",
              "      <td>0</td>\n",
              "      <td>15</td>\n",
              "      <td>50</td>\n",
              "      <td>534.0</td>\n",
              "      <td>221</td>\n",
              "      <td>0</td>\n",
              "      <td>0</td>\n",
              "      <td>0</td>\n",
              "      <td>0</td>\n",
              "      <td>113</td>\n",
              "      <td>18</td>\n",
              "      <td>0</td>\n",
              "      <td>151</td>\n",
              "      <td>0</td>\n",
              "      <td>0</td>\n",
              "      <td>0</td>\n",
              "      <td>0</td>\n",
              "      <td>BENIGN</td>\n",
              "    </tr>\n",
              "    <tr>\n",
              "      <th>1010934</th>\n",
              "      <td>1</td>\n",
              "      <td>54</td>\n",
              "      <td>0</td>\n",
              "      <td>0</td>\n",
              "      <td>37</td>\n",
              "      <td>0</td>\n",
              "      <td>0</td>\n",
              "      <td>0</td>\n",
              "      <td>0</td>\n",
              "      <td>0</td>\n",
              "      <td>0</td>\n",
              "      <td>0</td>\n",
              "      <td>0</td>\n",
              "      <td>32</td>\n",
              "      <td>127</td>\n",
              "      <td>18</td>\n",
              "      <td>44</td>\n",
              "      <td>54</td>\n",
              "      <td>0</td>\n",
              "      <td>54</td>\n",
              "      <td>18</td>\n",
              "      <td>44</td>\n",
              "      <td>183</td>\n",
              "      <td>0</td>\n",
              "      <td>0</td>\n",
              "      <td>0</td>\n",
              "      <td>0</td>\n",
              "      <td>128</td>\n",
              "      <td>48</td>\n",
              "      <td>0</td>\n",
              "      <td>0</td>\n",
              "      <td>0</td>\n",
              "      <td>0</td>\n",
              "      <td>0</td>\n",
              "      <td>0</td>\n",
              "      <td>0</td>\n",
              "      <td>0</td>\n",
              "      <td>1</td>\n",
              "      <td>0</td>\n",
              "      <td>0</td>\n",
              "      <td>9</td>\n",
              "      <td>0.0</td>\n",
              "      <td>221</td>\n",
              "      <td>0</td>\n",
              "      <td>0</td>\n",
              "      <td>0</td>\n",
              "      <td>0</td>\n",
              "      <td>129</td>\n",
              "      <td>0</td>\n",
              "      <td>0</td>\n",
              "      <td>151</td>\n",
              "      <td>54</td>\n",
              "      <td>0</td>\n",
              "      <td>54</td>\n",
              "      <td>54</td>\n",
              "      <td>BENIGN</td>\n",
              "    </tr>\n",
              "    <tr>\n",
              "      <th>108609</th>\n",
              "      <td>0</td>\n",
              "      <td>20</td>\n",
              "      <td>0</td>\n",
              "      <td>0</td>\n",
              "      <td>24</td>\n",
              "      <td>0</td>\n",
              "      <td>0</td>\n",
              "      <td>0</td>\n",
              "      <td>0</td>\n",
              "      <td>0</td>\n",
              "      <td>0</td>\n",
              "      <td>0</td>\n",
              "      <td>0</td>\n",
              "      <td>32</td>\n",
              "      <td>127</td>\n",
              "      <td>6</td>\n",
              "      <td>16</td>\n",
              "      <td>20</td>\n",
              "      <td>0</td>\n",
              "      <td>20</td>\n",
              "      <td>6</td>\n",
              "      <td>16</td>\n",
              "      <td>225</td>\n",
              "      <td>0</td>\n",
              "      <td>0</td>\n",
              "      <td>0</td>\n",
              "      <td>0</td>\n",
              "      <td>80</td>\n",
              "      <td>48</td>\n",
              "      <td>0</td>\n",
              "      <td>1</td>\n",
              "      <td>0</td>\n",
              "      <td>0</td>\n",
              "      <td>0</td>\n",
              "      <td>0</td>\n",
              "      <td>0</td>\n",
              "      <td>0</td>\n",
              "      <td>1</td>\n",
              "      <td>0</td>\n",
              "      <td>0</td>\n",
              "      <td>6</td>\n",
              "      <td>0.0</td>\n",
              "      <td>221</td>\n",
              "      <td>0</td>\n",
              "      <td>0</td>\n",
              "      <td>0</td>\n",
              "      <td>0</td>\n",
              "      <td>1</td>\n",
              "      <td>0</td>\n",
              "      <td>0</td>\n",
              "      <td>129</td>\n",
              "      <td>20</td>\n",
              "      <td>0</td>\n",
              "      <td>20</td>\n",
              "      <td>20</td>\n",
              "      <td>DDoS</td>\n",
              "    </tr>\n",
              "    <tr>\n",
              "      <th>1373205</th>\n",
              "      <td>35</td>\n",
              "      <td>0</td>\n",
              "      <td>0</td>\n",
              "      <td>0</td>\n",
              "      <td>4</td>\n",
              "      <td>0</td>\n",
              "      <td>0</td>\n",
              "      <td>0</td>\n",
              "      <td>0</td>\n",
              "      <td>0</td>\n",
              "      <td>0</td>\n",
              "      <td>0</td>\n",
              "      <td>0</td>\n",
              "      <td>32</td>\n",
              "      <td>130</td>\n",
              "      <td>0</td>\n",
              "      <td>0</td>\n",
              "      <td>0</td>\n",
              "      <td>0</td>\n",
              "      <td>0</td>\n",
              "      <td>0</td>\n",
              "      <td>0</td>\n",
              "      <td>1</td>\n",
              "      <td>0</td>\n",
              "      <td>0</td>\n",
              "      <td>0</td>\n",
              "      <td>0</td>\n",
              "      <td>48</td>\n",
              "      <td>48</td>\n",
              "      <td>1</td>\n",
              "      <td>0</td>\n",
              "      <td>0</td>\n",
              "      <td>0</td>\n",
              "      <td>0</td>\n",
              "      <td>0</td>\n",
              "      <td>0</td>\n",
              "      <td>1</td>\n",
              "      <td>0</td>\n",
              "      <td>0</td>\n",
              "      <td>0</td>\n",
              "      <td>2</td>\n",
              "      <td>6.0</td>\n",
              "      <td>221</td>\n",
              "      <td>0</td>\n",
              "      <td>0</td>\n",
              "      <td>0</td>\n",
              "      <td>0</td>\n",
              "      <td>3</td>\n",
              "      <td>0</td>\n",
              "      <td>0</td>\n",
              "      <td>137</td>\n",
              "      <td>0</td>\n",
              "      <td>0</td>\n",
              "      <td>0</td>\n",
              "      <td>0</td>\n",
              "      <td>BENIGN</td>\n",
              "    </tr>\n",
              "    <tr>\n",
              "      <th>1626470</th>\n",
              "      <td>0</td>\n",
              "      <td>0</td>\n",
              "      <td>0</td>\n",
              "      <td>0</td>\n",
              "      <td>60</td>\n",
              "      <td>0</td>\n",
              "      <td>3</td>\n",
              "      <td>1</td>\n",
              "      <td>0</td>\n",
              "      <td>1</td>\n",
              "      <td>7</td>\n",
              "      <td>3</td>\n",
              "      <td>0</td>\n",
              "      <td>32</td>\n",
              "      <td>127</td>\n",
              "      <td>0</td>\n",
              "      <td>0</td>\n",
              "      <td>0</td>\n",
              "      <td>0</td>\n",
              "      <td>0</td>\n",
              "      <td>0</td>\n",
              "      <td>0</td>\n",
              "      <td>4</td>\n",
              "      <td>0</td>\n",
              "      <td>0</td>\n",
              "      <td>0</td>\n",
              "      <td>0</td>\n",
              "      <td>40</td>\n",
              "      <td>48</td>\n",
              "      <td>0</td>\n",
              "      <td>5</td>\n",
              "      <td>0</td>\n",
              "      <td>3</td>\n",
              "      <td>1</td>\n",
              "      <td>0</td>\n",
              "      <td>0</td>\n",
              "      <td>0</td>\n",
              "      <td>0</td>\n",
              "      <td>0</td>\n",
              "      <td>4</td>\n",
              "      <td>30</td>\n",
              "      <td>81.0</td>\n",
              "      <td>221</td>\n",
              "      <td>0</td>\n",
              "      <td>0</td>\n",
              "      <td>0</td>\n",
              "      <td>0</td>\n",
              "      <td>0</td>\n",
              "      <td>0</td>\n",
              "      <td>0</td>\n",
              "      <td>129</td>\n",
              "      <td>0</td>\n",
              "      <td>0</td>\n",
              "      <td>0</td>\n",
              "      <td>0</td>\n",
              "      <td>BENIGN</td>\n",
              "    </tr>\n",
              "    <tr>\n",
              "      <th>1244451</th>\n",
              "      <td>0</td>\n",
              "      <td>0</td>\n",
              "      <td>0</td>\n",
              "      <td>0</td>\n",
              "      <td>12</td>\n",
              "      <td>0</td>\n",
              "      <td>0</td>\n",
              "      <td>0</td>\n",
              "      <td>0</td>\n",
              "      <td>0</td>\n",
              "      <td>0</td>\n",
              "      <td>0</td>\n",
              "      <td>0</td>\n",
              "      <td>32</td>\n",
              "      <td>128</td>\n",
              "      <td>0</td>\n",
              "      <td>0</td>\n",
              "      <td>0</td>\n",
              "      <td>0</td>\n",
              "      <td>0</td>\n",
              "      <td>0</td>\n",
              "      <td>0</td>\n",
              "      <td>121</td>\n",
              "      <td>0</td>\n",
              "      <td>0</td>\n",
              "      <td>0</td>\n",
              "      <td>0</td>\n",
              "      <td>40</td>\n",
              "      <td>48</td>\n",
              "      <td>1</td>\n",
              "      <td>1</td>\n",
              "      <td>0</td>\n",
              "      <td>0</td>\n",
              "      <td>0</td>\n",
              "      <td>0</td>\n",
              "      <td>0</td>\n",
              "      <td>0</td>\n",
              "      <td>1</td>\n",
              "      <td>0</td>\n",
              "      <td>0</td>\n",
              "      <td>6</td>\n",
              "      <td>0.0</td>\n",
              "      <td>221</td>\n",
              "      <td>0</td>\n",
              "      <td>0</td>\n",
              "      <td>0</td>\n",
              "      <td>0</td>\n",
              "      <td>249</td>\n",
              "      <td>0</td>\n",
              "      <td>0</td>\n",
              "      <td>129</td>\n",
              "      <td>0</td>\n",
              "      <td>0</td>\n",
              "      <td>0</td>\n",
              "      <td>0</td>\n",
              "      <td>BENIGN</td>\n",
              "    </tr>\n",
              "    <tr>\n",
              "      <th>413712</th>\n",
              "      <td>16</td>\n",
              "      <td>0</td>\n",
              "      <td>0</td>\n",
              "      <td>0</td>\n",
              "      <td>0</td>\n",
              "      <td>0</td>\n",
              "      <td>0</td>\n",
              "      <td>0</td>\n",
              "      <td>0</td>\n",
              "      <td>0</td>\n",
              "      <td>0</td>\n",
              "      <td>0</td>\n",
              "      <td>0</td>\n",
              "      <td>32</td>\n",
              "      <td>130</td>\n",
              "      <td>0</td>\n",
              "      <td>0</td>\n",
              "      <td>0</td>\n",
              "      <td>0</td>\n",
              "      <td>0</td>\n",
              "      <td>0</td>\n",
              "      <td>0</td>\n",
              "      <td>0</td>\n",
              "      <td>0</td>\n",
              "      <td>0</td>\n",
              "      <td>0</td>\n",
              "      <td>0</td>\n",
              "      <td>40</td>\n",
              "      <td>48</td>\n",
              "      <td>2</td>\n",
              "      <td>0</td>\n",
              "      <td>0</td>\n",
              "      <td>0</td>\n",
              "      <td>0</td>\n",
              "      <td>0</td>\n",
              "      <td>0</td>\n",
              "      <td>1</td>\n",
              "      <td>0</td>\n",
              "      <td>0</td>\n",
              "      <td>0</td>\n",
              "      <td>0</td>\n",
              "      <td>6.0</td>\n",
              "      <td>221</td>\n",
              "      <td>0</td>\n",
              "      <td>0</td>\n",
              "      <td>0</td>\n",
              "      <td>0</td>\n",
              "      <td>113</td>\n",
              "      <td>0</td>\n",
              "      <td>0</td>\n",
              "      <td>166</td>\n",
              "      <td>0</td>\n",
              "      <td>0</td>\n",
              "      <td>0</td>\n",
              "      <td>0</td>\n",
              "      <td>PortScan</td>\n",
              "    </tr>\n",
              "    <tr>\n",
              "      <th>2830572</th>\n",
              "      <td>0</td>\n",
              "      <td>0</td>\n",
              "      <td>0</td>\n",
              "      <td>0</td>\n",
              "      <td>96</td>\n",
              "      <td>0</td>\n",
              "      <td>5</td>\n",
              "      <td>2</td>\n",
              "      <td>0</td>\n",
              "      <td>0</td>\n",
              "      <td>5</td>\n",
              "      <td>2</td>\n",
              "      <td>0</td>\n",
              "      <td>32</td>\n",
              "      <td>129</td>\n",
              "      <td>0</td>\n",
              "      <td>0</td>\n",
              "      <td>0</td>\n",
              "      <td>0</td>\n",
              "      <td>0</td>\n",
              "      <td>0</td>\n",
              "      <td>0</td>\n",
              "      <td>4</td>\n",
              "      <td>0</td>\n",
              "      <td>0</td>\n",
              "      <td>0</td>\n",
              "      <td>0</td>\n",
              "      <td>40</td>\n",
              "      <td>48</td>\n",
              "      <td>1</td>\n",
              "      <td>8</td>\n",
              "      <td>0</td>\n",
              "      <td>4</td>\n",
              "      <td>0</td>\n",
              "      <td>0</td>\n",
              "      <td>0</td>\n",
              "      <td>0</td>\n",
              "      <td>0</td>\n",
              "      <td>0</td>\n",
              "      <td>4</td>\n",
              "      <td>48</td>\n",
              "      <td>64.0</td>\n",
              "      <td>221</td>\n",
              "      <td>0</td>\n",
              "      <td>0</td>\n",
              "      <td>0</td>\n",
              "      <td>0</td>\n",
              "      <td>0</td>\n",
              "      <td>0</td>\n",
              "      <td>0</td>\n",
              "      <td>129</td>\n",
              "      <td>0</td>\n",
              "      <td>0</td>\n",
              "      <td>0</td>\n",
              "      <td>0</td>\n",
              "      <td>BENIGN</td>\n",
              "    </tr>\n",
              "    <tr>\n",
              "      <th>453692</th>\n",
              "      <td>191</td>\n",
              "      <td>0</td>\n",
              "      <td>0</td>\n",
              "      <td>0</td>\n",
              "      <td>0</td>\n",
              "      <td>0</td>\n",
              "      <td>0</td>\n",
              "      <td>0</td>\n",
              "      <td>0</td>\n",
              "      <td>0</td>\n",
              "      <td>0</td>\n",
              "      <td>0</td>\n",
              "      <td>0</td>\n",
              "      <td>32</td>\n",
              "      <td>131</td>\n",
              "      <td>0</td>\n",
              "      <td>0</td>\n",
              "      <td>0</td>\n",
              "      <td>0</td>\n",
              "      <td>0</td>\n",
              "      <td>0</td>\n",
              "      <td>0</td>\n",
              "      <td>0</td>\n",
              "      <td>0</td>\n",
              "      <td>0</td>\n",
              "      <td>0</td>\n",
              "      <td>0</td>\n",
              "      <td>40</td>\n",
              "      <td>48</td>\n",
              "      <td>2</td>\n",
              "      <td>0</td>\n",
              "      <td>0</td>\n",
              "      <td>0</td>\n",
              "      <td>0</td>\n",
              "      <td>0</td>\n",
              "      <td>0</td>\n",
              "      <td>1</td>\n",
              "      <td>0</td>\n",
              "      <td>0</td>\n",
              "      <td>0</td>\n",
              "      <td>0</td>\n",
              "      <td>6.0</td>\n",
              "      <td>221</td>\n",
              "      <td>0</td>\n",
              "      <td>0</td>\n",
              "      <td>0</td>\n",
              "      <td>0</td>\n",
              "      <td>113</td>\n",
              "      <td>0</td>\n",
              "      <td>0</td>\n",
              "      <td>166</td>\n",
              "      <td>0</td>\n",
              "      <td>0</td>\n",
              "      <td>0</td>\n",
              "      <td>0</td>\n",
              "      <td>PortScan</td>\n",
              "    </tr>\n",
              "    <tr>\n",
              "      <th>117745</th>\n",
              "      <td>0</td>\n",
              "      <td>12</td>\n",
              "      <td>0</td>\n",
              "      <td>0</td>\n",
              "      <td>24</td>\n",
              "      <td>0</td>\n",
              "      <td>0</td>\n",
              "      <td>0</td>\n",
              "      <td>0</td>\n",
              "      <td>0</td>\n",
              "      <td>0</td>\n",
              "      <td>0</td>\n",
              "      <td>0</td>\n",
              "      <td>32</td>\n",
              "      <td>127</td>\n",
              "      <td>4</td>\n",
              "      <td>10</td>\n",
              "      <td>12</td>\n",
              "      <td>0</td>\n",
              "      <td>12</td>\n",
              "      <td>4</td>\n",
              "      <td>10</td>\n",
              "      <td>168</td>\n",
              "      <td>0</td>\n",
              "      <td>0</td>\n",
              "      <td>0</td>\n",
              "      <td>0</td>\n",
              "      <td>80</td>\n",
              "      <td>48</td>\n",
              "      <td>0</td>\n",
              "      <td>1</td>\n",
              "      <td>0</td>\n",
              "      <td>0</td>\n",
              "      <td>0</td>\n",
              "      <td>0</td>\n",
              "      <td>0</td>\n",
              "      <td>0</td>\n",
              "      <td>1</td>\n",
              "      <td>0</td>\n",
              "      <td>0</td>\n",
              "      <td>6</td>\n",
              "      <td>0.0</td>\n",
              "      <td>221</td>\n",
              "      <td>0</td>\n",
              "      <td>0</td>\n",
              "      <td>0</td>\n",
              "      <td>0</td>\n",
              "      <td>1</td>\n",
              "      <td>0</td>\n",
              "      <td>0</td>\n",
              "      <td>129</td>\n",
              "      <td>12</td>\n",
              "      <td>0</td>\n",
              "      <td>12</td>\n",
              "      <td>12</td>\n",
              "      <td>DDoS</td>\n",
              "    </tr>\n",
              "    <tr>\n",
              "      <th>738760</th>\n",
              "      <td>0</td>\n",
              "      <td>0</td>\n",
              "      <td>0</td>\n",
              "      <td>0</td>\n",
              "      <td>0</td>\n",
              "      <td>0</td>\n",
              "      <td>0</td>\n",
              "      <td>0</td>\n",
              "      <td>0</td>\n",
              "      <td>0</td>\n",
              "      <td>0</td>\n",
              "      <td>0</td>\n",
              "      <td>0</td>\n",
              "      <td>32</td>\n",
              "      <td>128</td>\n",
              "      <td>0</td>\n",
              "      <td>0</td>\n",
              "      <td>0</td>\n",
              "      <td>0</td>\n",
              "      <td>0</td>\n",
              "      <td>0</td>\n",
              "      <td>0</td>\n",
              "      <td>0</td>\n",
              "      <td>0</td>\n",
              "      <td>0</td>\n",
              "      <td>0</td>\n",
              "      <td>0</td>\n",
              "      <td>32</td>\n",
              "      <td>48</td>\n",
              "      <td>0</td>\n",
              "      <td>0</td>\n",
              "      <td>0</td>\n",
              "      <td>0</td>\n",
              "      <td>0</td>\n",
              "      <td>0</td>\n",
              "      <td>0</td>\n",
              "      <td>0</td>\n",
              "      <td>1</td>\n",
              "      <td>1</td>\n",
              "      <td>0</td>\n",
              "      <td>0</td>\n",
              "      <td>0.0</td>\n",
              "      <td>221</td>\n",
              "      <td>0</td>\n",
              "      <td>0</td>\n",
              "      <td>0</td>\n",
              "      <td>0</td>\n",
              "      <td>1</td>\n",
              "      <td>0</td>\n",
              "      <td>0</td>\n",
              "      <td>151</td>\n",
              "      <td>0</td>\n",
              "      <td>0</td>\n",
              "      <td>0</td>\n",
              "      <td>0</td>\n",
              "      <td>BENIGN</td>\n",
              "    </tr>\n",
              "    <tr>\n",
              "      <th>1076874</th>\n",
              "      <td>0</td>\n",
              "      <td>0</td>\n",
              "      <td>0</td>\n",
              "      <td>0</td>\n",
              "      <td>70</td>\n",
              "      <td>0</td>\n",
              "      <td>3</td>\n",
              "      <td>1</td>\n",
              "      <td>0</td>\n",
              "      <td>1</td>\n",
              "      <td>8</td>\n",
              "      <td>4</td>\n",
              "      <td>0</td>\n",
              "      <td>32</td>\n",
              "      <td>127</td>\n",
              "      <td>0</td>\n",
              "      <td>0</td>\n",
              "      <td>0</td>\n",
              "      <td>0</td>\n",
              "      <td>0</td>\n",
              "      <td>0</td>\n",
              "      <td>0</td>\n",
              "      <td>0</td>\n",
              "      <td>0</td>\n",
              "      <td>0</td>\n",
              "      <td>0</td>\n",
              "      <td>0</td>\n",
              "      <td>64</td>\n",
              "      <td>48</td>\n",
              "      <td>0</td>\n",
              "      <td>6</td>\n",
              "      <td>1</td>\n",
              "      <td>4</td>\n",
              "      <td>1</td>\n",
              "      <td>0</td>\n",
              "      <td>0</td>\n",
              "      <td>0</td>\n",
              "      <td>0</td>\n",
              "      <td>0</td>\n",
              "      <td>5</td>\n",
              "      <td>35</td>\n",
              "      <td>102.0</td>\n",
              "      <td>221</td>\n",
              "      <td>0</td>\n",
              "      <td>0</td>\n",
              "      <td>0</td>\n",
              "      <td>0</td>\n",
              "      <td>0</td>\n",
              "      <td>0</td>\n",
              "      <td>0</td>\n",
              "      <td>151</td>\n",
              "      <td>0</td>\n",
              "      <td>0</td>\n",
              "      <td>0</td>\n",
              "      <td>0</td>\n",
              "      <td>BENIGN</td>\n",
              "    </tr>\n",
              "    <tr>\n",
              "      <th>2084985</th>\n",
              "      <td>0</td>\n",
              "      <td>0</td>\n",
              "      <td>0</td>\n",
              "      <td>0</td>\n",
              "      <td>110</td>\n",
              "      <td>0</td>\n",
              "      <td>6</td>\n",
              "      <td>2</td>\n",
              "      <td>0</td>\n",
              "      <td>1</td>\n",
              "      <td>7</td>\n",
              "      <td>3</td>\n",
              "      <td>0</td>\n",
              "      <td>32</td>\n",
              "      <td>129</td>\n",
              "      <td>0</td>\n",
              "      <td>0</td>\n",
              "      <td>0</td>\n",
              "      <td>0</td>\n",
              "      <td>0</td>\n",
              "      <td>0</td>\n",
              "      <td>0</td>\n",
              "      <td>3</td>\n",
              "      <td>0</td>\n",
              "      <td>0</td>\n",
              "      <td>0</td>\n",
              "      <td>0</td>\n",
              "      <td>40</td>\n",
              "      <td>48</td>\n",
              "      <td>1</td>\n",
              "      <td>9</td>\n",
              "      <td>0</td>\n",
              "      <td>5</td>\n",
              "      <td>0</td>\n",
              "      <td>0</td>\n",
              "      <td>0</td>\n",
              "      <td>0</td>\n",
              "      <td>0</td>\n",
              "      <td>0</td>\n",
              "      <td>5</td>\n",
              "      <td>55</td>\n",
              "      <td>87.0</td>\n",
              "      <td>221</td>\n",
              "      <td>0</td>\n",
              "      <td>0</td>\n",
              "      <td>0</td>\n",
              "      <td>0</td>\n",
              "      <td>0</td>\n",
              "      <td>0</td>\n",
              "      <td>0</td>\n",
              "      <td>129</td>\n",
              "      <td>0</td>\n",
              "      <td>0</td>\n",
              "      <td>0</td>\n",
              "      <td>0</td>\n",
              "      <td>BENIGN</td>\n",
              "    </tr>\n",
              "    <tr>\n",
              "      <th>857093</th>\n",
              "      <td>0</td>\n",
              "      <td>0</td>\n",
              "      <td>0</td>\n",
              "      <td>0</td>\n",
              "      <td>56</td>\n",
              "      <td>0</td>\n",
              "      <td>6</td>\n",
              "      <td>2</td>\n",
              "      <td>0</td>\n",
              "      <td>1</td>\n",
              "      <td>11</td>\n",
              "      <td>5</td>\n",
              "      <td>0</td>\n",
              "      <td>32</td>\n",
              "      <td>127</td>\n",
              "      <td>0</td>\n",
              "      <td>0</td>\n",
              "      <td>0</td>\n",
              "      <td>0</td>\n",
              "      <td>0</td>\n",
              "      <td>0</td>\n",
              "      <td>0</td>\n",
              "      <td>0</td>\n",
              "      <td>0</td>\n",
              "      <td>0</td>\n",
              "      <td>0</td>\n",
              "      <td>0</td>\n",
              "      <td>32</td>\n",
              "      <td>48</td>\n",
              "      <td>0</td>\n",
              "      <td>9</td>\n",
              "      <td>1</td>\n",
              "      <td>6</td>\n",
              "      <td>2</td>\n",
              "      <td>0</td>\n",
              "      <td>0</td>\n",
              "      <td>0</td>\n",
              "      <td>0</td>\n",
              "      <td>0</td>\n",
              "      <td>7</td>\n",
              "      <td>56</td>\n",
              "      <td>127.0</td>\n",
              "      <td>221</td>\n",
              "      <td>0</td>\n",
              "      <td>0</td>\n",
              "      <td>0</td>\n",
              "      <td>0</td>\n",
              "      <td>0</td>\n",
              "      <td>0</td>\n",
              "      <td>0</td>\n",
              "      <td>151</td>\n",
              "      <td>0</td>\n",
              "      <td>0</td>\n",
              "      <td>0</td>\n",
              "      <td>0</td>\n",
              "      <td>BENIGN</td>\n",
              "    </tr>\n",
              "    <tr>\n",
              "      <th>2458412</th>\n",
              "      <td>0</td>\n",
              "      <td>0</td>\n",
              "      <td>0</td>\n",
              "      <td>0</td>\n",
              "      <td>18</td>\n",
              "      <td>0</td>\n",
              "      <td>0</td>\n",
              "      <td>0</td>\n",
              "      <td>0</td>\n",
              "      <td>0</td>\n",
              "      <td>0</td>\n",
              "      <td>0</td>\n",
              "      <td>0</td>\n",
              "      <td>32</td>\n",
              "      <td>127</td>\n",
              "      <td>0</td>\n",
              "      <td>0</td>\n",
              "      <td>0</td>\n",
              "      <td>0</td>\n",
              "      <td>0</td>\n",
              "      <td>0</td>\n",
              "      <td>0</td>\n",
              "      <td>56</td>\n",
              "      <td>0</td>\n",
              "      <td>0</td>\n",
              "      <td>0</td>\n",
              "      <td>0</td>\n",
              "      <td>60</td>\n",
              "      <td>48</td>\n",
              "      <td>0</td>\n",
              "      <td>0</td>\n",
              "      <td>0</td>\n",
              "      <td>0</td>\n",
              "      <td>0</td>\n",
              "      <td>0</td>\n",
              "      <td>1</td>\n",
              "      <td>0</td>\n",
              "      <td>0</td>\n",
              "      <td>0</td>\n",
              "      <td>0</td>\n",
              "      <td>6</td>\n",
              "      <td>0.0</td>\n",
              "      <td>221</td>\n",
              "      <td>0</td>\n",
              "      <td>0</td>\n",
              "      <td>0</td>\n",
              "      <td>0</td>\n",
              "      <td>0</td>\n",
              "      <td>0</td>\n",
              "      <td>0</td>\n",
              "      <td>129</td>\n",
              "      <td>0</td>\n",
              "      <td>0</td>\n",
              "      <td>0</td>\n",
              "      <td>0</td>\n",
              "      <td>DoS Hulk</td>\n",
              "    </tr>\n",
              "  </tbody>\n",
              "</table>\n",
              "</div>"
            ],
            "text/plain": [
              "          Destination Port   Flow Duration  ...   Idle Min     Label\n",
              "316342                  13               0  ...          0  PortScan\n",
              "2299076                  0               0  ...          0  DoS Hulk\n",
              "212416                   0               0  ...          0    BENIGN\n",
              "826775                   1               0  ...          0    BENIGN\n",
              "1878900                  0               0  ...          0    BENIGN\n",
              "810581                   1              11  ...          0    BENIGN\n",
              "1010934                  1              54  ...         54    BENIGN\n",
              "108609                   0              20  ...         20      DDoS\n",
              "1373205                 35               0  ...          0    BENIGN\n",
              "1626470                  0               0  ...          0    BENIGN\n",
              "1244451                  0               0  ...          0    BENIGN\n",
              "413712                  16               0  ...          0  PortScan\n",
              "2830572                  0               0  ...          0    BENIGN\n",
              "453692                 191               0  ...          0  PortScan\n",
              "117745                   0              12  ...         12      DDoS\n",
              "738760                   0               0  ...          0    BENIGN\n",
              "1076874                  0               0  ...          0    BENIGN\n",
              "2084985                  0               0  ...          0    BENIGN\n",
              "857093                   0               0  ...          0    BENIGN\n",
              "2458412                  0               0  ...          0  DoS Hulk\n",
              "\n",
              "[20 rows x 56 columns]"
            ]
          },
          "metadata": {},
          "execution_count": 113
        }
      ]
    },
    {
      "cell_type": "code",
      "metadata": {
        "id": "BqZYMLQLkRpt"
      },
      "source": [
        "df.replace([np.inf, -np.inf], np.nan, inplace=True)\n",
        "  \n",
        "# Dropping all the rows with nan values\n",
        "df.dropna(inplace=True)"
      ],
      "execution_count": 112,
      "outputs": []
    },
    {
      "cell_type": "code",
      "metadata": {
        "id": "su5hvR_XkRtP"
      },
      "source": [
        ""
      ],
      "execution_count": null,
      "outputs": []
    },
    {
      "cell_type": "code",
      "metadata": {
        "id": "BPFpARXsd3IZ"
      },
      "source": [
        "target.value_counts()"
      ],
      "execution_count": null,
      "outputs": []
    },
    {
      "cell_type": "code",
      "metadata": {
        "id": "LpMbYIkyi0kf",
        "colab": {
          "base_uri": "https://localhost:8080/"
        },
        "outputId": "747be31d-a182-4dff-ab6c-475d70a40dad"
      },
      "source": [
        "X=df.iloc[:,:-1]\n",
        "X.head(20)\n",
        "X.shape"
      ],
      "execution_count": null,
      "outputs": [
        {
          "output_type": "execute_result",
          "data": {
            "text/plain": [
              "(2827876, 55)"
            ]
          },
          "metadata": {},
          "execution_count": 182
        }
      ]
    },
    {
      "cell_type": "code",
      "metadata": {
        "id": "3TeeOl7GeTU_"
      },
      "source": [
        "# target = df[' Label']\n",
        "# X=df.iloc[:,:-1]\n",
        "def max_min_df(X):\n",
        "  # X = X.apply(lambda col: ((col - col.min(axis=0)) / col.max(axis=0)))\n",
        "  X = X.apply(lambda col: (col.astype(str)), axis=1)\n",
        "  X.info()\n",
        "max_min_df(X)"
      ],
      "execution_count": null,
      "outputs": []
    },
    {
      "cell_type": "code",
      "metadata": {
        "id": "xV7AV7l2fvJH"
      },
      "source": [
        "\n",
        "del df['Fwd Avg Bytes/Bulk']\n",
        "del df[' SYN Flag Count']\n",
        "del df['Bwd Avg Bulk Rate']\n",
        "del df[' RST Flag Count']\n",
        "del df[' Fwd Avg Packets/Bulk']\n",
        "del df[' Fwd Avg Bulk Rate']\n",
        "del df[' ECE Flag Count']\n",
        "del df[' CWE Flag Count']\n",
        "del df[' Bwd URG Flags']\n",
        "del df[' Bwd PSH Flags']\n",
        "del df[' Bwd Avg Packets/Bulk']\n",
        "del df[' Bwd Avg Bytes/Bulk']\n",
        "del df[' Bwd Packets/s']\n",
        "del df['Active Mean']\n",
        "del df[' Active Min']\n",
        "del df[' Total Length of Bwd Packets']\n",
        "del df[ ' Bwd IAT Std']\n",
        "del df[ ' Bwd IAT Mean']\n",
        "del df[' Active Std']\n",
        "del df[ ' Bwd IAT Min']\n",
        "del df[' Down/Up Ratio']\n",
        "del df[' Active Max']\n",
        "del df[' Fwd URG Flags']\n",
        "\n"
      ],
      "execution_count": 111,
      "outputs": []
    },
    {
      "cell_type": "code",
      "metadata": {
        "id": "2D7MVHoH_pG3"
      },
      "source": [
        "target = df[' Label']\n",
        "from sklearn.preprocessing import LabelEncoder\n",
        "\n",
        "def transform_target(target):\n",
        "  SS = LabelEncoder()\n",
        "  X = SS.fit_transform(target)\n",
        "  # X = normalize(X)\n",
        "  X = X.astype('int8')\n",
        "  return X\n",
        "\n",
        "target = transform_target(target)\n",
        "# target.value_counts\n",
        "# dataframes = dd.concat([ndf, target])\n",
        "# dataframes[' Label'].shape"
      ],
      "execution_count": null,
      "outputs": []
    },
    {
      "cell_type": "code",
      "metadata": {
        "colab": {
          "base_uri": "https://localhost:8080/",
          "height": 167
        },
        "id": "-sRZ_YaHZ6z3",
        "outputId": "ac18c507-e35a-403f-cc5a-028dbac3bdf4"
      },
      "source": [
        "X.info()"
      ],
      "execution_count": null,
      "outputs": [
        {
          "output_type": "error",
          "ename": "NameError",
          "evalue": "ignored",
          "traceback": [
            "\u001b[0;31m---------------------------------------------------------------------------\u001b[0m",
            "\u001b[0;31mNameError\u001b[0m                                 Traceback (most recent call last)",
            "\u001b[0;32m<ipython-input-108-9545f5b82155>\u001b[0m in \u001b[0;36m<module>\u001b[0;34m()\u001b[0m\n\u001b[0;32m----> 1\u001b[0;31m \u001b[0mX\u001b[0m\u001b[0;34m.\u001b[0m\u001b[0minfo\u001b[0m\u001b[0;34m(\u001b[0m\u001b[0;34m)\u001b[0m\u001b[0;34m\u001b[0m\u001b[0;34m\u001b[0m\u001b[0m\n\u001b[0m",
            "\u001b[0;31mNameError\u001b[0m: name 'X' is not defined"
          ]
        }
      ]
    },
    {
      "cell_type": "code",
      "metadata": {
        "id": "zUsE662iZ62j"
      },
      "source": [
        ""
      ],
      "execution_count": null,
      "outputs": []
    },
    {
      "cell_type": "code",
      "metadata": {
        "id": "0tASluZUZ65d"
      },
      "source": [
        ""
      ],
      "execution_count": null,
      "outputs": []
    },
    {
      "cell_type": "code",
      "metadata": {
        "id": "-Jk2E-vpZ68F"
      },
      "source": [
        ""
      ],
      "execution_count": null,
      "outputs": []
    },
    {
      "cell_type": "code",
      "metadata": {
        "id": "Mlv3Q9d2Z6-v"
      },
      "source": [
        ""
      ],
      "execution_count": null,
      "outputs": []
    },
    {
      "cell_type": "code",
      "metadata": {
        "id": "qepYfX_lZ7Bg"
      },
      "source": [
        ""
      ],
      "execution_count": null,
      "outputs": []
    },
    {
      "cell_type": "code",
      "metadata": {
        "id": "hsSg0ATtZ7EP"
      },
      "source": [
        ""
      ],
      "execution_count": null,
      "outputs": []
    },
    {
      "cell_type": "code",
      "metadata": {
        "id": "hQ6LLsPq6SMp",
        "colab": {
          "base_uri": "https://localhost:8080/",
          "height": 631
        },
        "outputId": "c6a54024-a01e-423b-e2c7-cf1d8ffaf106"
      },
      "source": [
        "tag = df.groupby(' Label')[' Label'].agg('count')\n",
        "print(tag)\n",
        "target = df[' Label']\n",
        "target.value_counts().plot(kind='bar')\n",
        "plt.xticks([0,1,2,3,4,5,6,7,8,9,10,11,12,13], \n",
        "           ['Portscan','BENIGN', '3',                                    \n",
        "            '4Portscan','5BENIGN', '6',\n",
        "            '7Portscan','8BENIGN', '9',\n",
        "            '10Portscan','11BENIGN', '12', \n",
        "            '13Portscan','Bdd' ])\n",
        "plt.xlabel(\"Gender\")\n",
        "plt.ylabel(\"Frequency\")\n",
        "plt.show()"
      ],
      "execution_count": null,
      "outputs": [
        {
          "output_type": "stream",
          "name": "stdout",
          "text": [
            " Label\n",
            "BENIGN                        2271320\n",
            "Bot                              1956\n",
            "DDoS                           128025\n",
            "DoS GoldenEye                   10293\n",
            "DoS Hulk                       230124\n",
            "DoS Slowhttptest                 5499\n",
            "DoS slowloris                    5796\n",
            "FTP-Patator                      7935\n",
            "Heartbleed                         11\n",
            "Infiltration                       36\n",
            "PortScan                       158804\n",
            "SSH-Patator                      5897\n",
            "Web Attack � Brute Force         1507\n",
            "Web Attack � Sql Injection         21\n",
            "Web Attack � XSS                  652\n",
            "Name:  Label, dtype: int64\n"
          ]
        },
        {
          "output_type": "display_data",
          "data": {
            "image/png": "[encoded data removed]",
            "text/plain": [
              "<Figure size 432x288 with 1 Axes>"
            ]
          },
          "metadata": {
            "needs_background": "light"
          }
        }
      ]
    },
    {
      "cell_type": "code",
      "metadata": {
        "id": "B3C9Ks8j6eSI",
        "colab": {
          "base_uri": "https://localhost:8080/"
        },
        "outputId": "795a40ad-e20f-4b8f-a4fc-ff6c08182110"
      },
      "source": [
        "df.memory_usage(index=True).sum() \n",
        "import sys\n",
        "sys.getsizeof(df)"
      ],
      "execution_count": null,
      "outputs": [
        {
          "output_type": "execute_result",
          "data": {
            "text/plain": [
              "1719151847"
            ]
          },
          "metadata": {},
          "execution_count": 9
        }
      ]
    },
    {
      "cell_type": "code",
      "metadata": {
        "id": "yk214gse6ljp",
        "colab": {
          "base_uri": "https://localhost:8080/"
        },
        "outputId": "70d29215-5b72-45f3-e093-ab3d70041ca5"
      },
      "source": [
        "print(df.shape)\n",
        "print(df.columns)\n",
        "print(df.info)\n",
        "df.head(10)\n",
        "\n",
        "del df['Fwd Avg Bytes/Bulk']\n",
        "del df[' SYN Flag Count']\n",
        "del df['Bwd Avg Bulk Rate']\n",
        "del df[' RST Flag Count']\n",
        "del df[' Fwd Avg Packets/Bulk']\n",
        "del df[' Fwd Avg Bulk Rate']\n",
        "del df[' ECE Flag Count']\n",
        "del df[' CWE Flag Count']\n",
        "del df[' Bwd URG Flags']\n",
        "del df[' Bwd PSH Flags']\n",
        "del df[' Bwd Avg Packets/Bulk']"
      ],
      "execution_count": null,
      "outputs": [
        {
          "output_type": "stream",
          "name": "stdout",
          "text": [
            "(2830743, 79)\n",
            "Index([' Destination Port', ' Flow Duration', ' Total Fwd Packets',\n",
            "       ' Total Backward Packets', 'Total Length of Fwd Packets',\n",
            "       ' Total Length of Bwd Packets', ' Fwd Packet Length Max',\n",
            "       ' Fwd Packet Length Min', ' Fwd Packet Length Mean',\n",
            "       ' Fwd Packet Length Std', 'Bwd Packet Length Max',\n",
            "       ' Bwd Packet Length Min', ' Bwd Packet Length Mean',\n",
            "       ' Bwd Packet Length Std', 'Flow Bytes/s', ' Flow Packets/s',\n",
            "       ' Flow IAT Mean', ' Flow IAT Std', ' Flow IAT Max', ' Flow IAT Min',\n",
            "       'Fwd IAT Total', ' Fwd IAT Mean', ' Fwd IAT Std', ' Fwd IAT Max',\n",
            "       ' Fwd IAT Min', 'Bwd IAT Total', ' Bwd IAT Mean', ' Bwd IAT Std',\n",
            "       ' Bwd IAT Max', ' Bwd IAT Min', 'Fwd PSH Flags', ' Bwd PSH Flags',\n",
            "       ' Fwd URG Flags', ' Bwd URG Flags', ' Fwd Header Length',\n",
            "       ' Bwd Header Length', 'Fwd Packets/s', ' Bwd Packets/s',\n",
            "       ' Min Packet Length', ' Max Packet Length', ' Packet Length Mean',\n",
            "       ' Packet Length Std', ' Packet Length Variance', 'FIN Flag Count',\n",
            "       ' SYN Flag Count', ' RST Flag Count', ' PSH Flag Count',\n",
            "       ' ACK Flag Count', ' URG Flag Count', ' CWE Flag Count',\n",
            "       ' ECE Flag Count', ' Down/Up Ratio', ' Average Packet Size',\n",
            "       ' Avg Fwd Segment Size', ' Avg Bwd Segment Size',\n",
            "       ' Fwd Header Length.1', 'Fwd Avg Bytes/Bulk', ' Fwd Avg Packets/Bulk',\n",
            "       ' Fwd Avg Bulk Rate', ' Bwd Avg Bytes/Bulk', ' Bwd Avg Packets/Bulk',\n",
            "       'Bwd Avg Bulk Rate', 'Subflow Fwd Packets', ' Subflow Fwd Bytes',\n",
            "       ' Subflow Bwd Packets', ' Subflow Bwd Bytes', 'Init_Win_bytes_forward',\n",
            "       ' Init_Win_bytes_backward', ' act_data_pkt_fwd',\n",
            "       ' min_seg_size_forward', 'Active Mean', ' Active Std', ' Active Max',\n",
            "       ' Active Min', 'Idle Mean', ' Idle Std', ' Idle Max', ' Idle Min',\n",
            "       ' Label'],\n",
            "      dtype='object')\n",
            "<bound method DataFrame.info of           Destination Port   Flow Duration  ...   Idle Min   Label\n",
            "0                    54865               3  ...          0  BENIGN\n",
            "1                    55054             109  ...          0  BENIGN\n",
            "2                    55055              52  ...          0  BENIGN\n",
            "3                    46236              34  ...          0  BENIGN\n",
            "4                    54863               3  ...          0  BENIGN\n",
            "...                    ...             ...  ...        ...     ...\n",
            "2830738                 53           32215  ...          0  BENIGN\n",
            "2830739                 53             324  ...          0  BENIGN\n",
            "2830740              58030              82  ...          0  BENIGN\n",
            "2830741                 53         1048635  ...          0  BENIGN\n",
            "2830742                 53           94939  ...          0  BENIGN\n",
            "\n",
            "[2830743 rows x 79 columns]>\n"
          ]
        }
      ]
    },
    {
      "cell_type": "code",
      "metadata": {
        "colab": {
          "base_uri": "https://localhost:8080/"
        },
        "id": "MvPakQh6sPaS",
        "outputId": "f6e81f61-8c85-4b06-bdb2-11f8a2b9fc24"
      },
      "source": [
        "\n"
      ],
      "execution_count": null,
      "outputs": [
        {
          "output_type": "execute_result",
          "data": {
            "text/plain": [
              "array([0, 0, 0, ..., 0, 0, 0], dtype=int8)"
            ]
          },
          "metadata": {},
          "execution_count": 22
        }
      ]
    },
    {
      "cell_type": "code",
      "metadata": {
        "id": "VMDxWQ_-6ljq"
      },
      "source": [
        "from sklearn.preprocessing import LabelEncoder\n",
        "\n",
        "# target = df[' Label']\n",
        "# le = LabelEncoder()\n",
        "# Y=le.fit_transform(target)\n",
        "\n",
        "# print(np.average(Y))\n",
        "# X=df.iloc[:,:-1]\n",
        "# X = X.astype(np.float16 ,copy=False)\n",
        "\n",
        "# X = X.apply(lambda col: ((col - col.min(axis=0)) / col.max(axis=0)))\n",
        "# X = target.apply(lambda col: SS.fit_transform(col), axis=0, result_type='expand')\n",
        "\n",
        "# X.drop(X.columns[31], axis=1,inplace=True)\n",
        "# X.drop(X.columns[32], axis=1,inplace=True)\n",
        "# 52\n",
        "# 53\n",
        "\n",
        "# 56 --- nan\n",
        "# 57 --- nan\n",
        "# 58 --- nan\n",
        "# 59 --- nan\n",
        "# 60 --- nan\n",
        "# 61 --- nan\n",
        "# 62 --- 1.0\n",
        "# 63 --- 1.0\n",
        "# 64 --- 1.0\n",
        "# 65 --- 1.0\n",
        "# 66 --- 1.0\n",
        "# 67 --- 1.0\n",
        "# 68 --- 1.0\n",
        "# 69 --- inf\n",
        "\n",
        "# print(X.shape)\n",
        "# X.dropna()\n",
        "# print(X.shape,np.max(np.max(X).astype(np.float64)))\n",
        "count = -1\n",
        "for i in np.max(df).astype(np.float16):\n",
        "    count += 1\n",
        "    print(count, '---',i)"
      ],
      "execution_count": null,
      "outputs": []
    },
    {
      "cell_type": "code",
      "metadata": {
        "id": "mJEMs5utygpU"
      },
      "source": [
        "# df.columns\n",
        "df.info()"
      ],
      "execution_count": null,
      "outputs": []
    },
    {
      "cell_type": "code",
      "metadata": {
        "id": "AAS-oYa5yfXK"
      },
      "source": [
        "\n",
        "check_size_dtypes(df[' Fwd Header Length'])\n"
      ],
      "execution_count": null,
      "outputs": []
    },
    {
      "cell_type": "code",
      "metadata": {
        "colab": {
          "base_uri": "https://localhost:8080/"
        },
        "id": "ugVLd7yc0To0",
        "outputId": "203de46b-dfea-40c7-e829-eb6dac6e2272"
      },
      "source": [
        "check_size_dtypes(df['Total Length of Fwd Packets'])\n",
        "df['Total Length of Fwd Packets'] = normalize(df['Total Length of Fwd Packets'])\n",
        "df['Total Length of Fwd Packets'] =  convert_datatypes(df['Total Length of Fwd Packets'])"
      ],
      "execution_count": 133,
      "outputs": [
        {
          "output_type": "stream",
          "name": "stdout",
          "text": [
            "255 max\n",
            "0 min\n",
            "2827876 This is the memory usage\n",
            "1470880    0\n",
            "353744     0\n",
            "1911717    0\n",
            "2141611    0\n",
            "2400299    0\n",
            "1567545    0\n",
            "356713     0\n",
            "2198937    0\n",
            "1991716    0\n",
            "2626627    0\n",
            "1568499    0\n",
            "1424568    0\n",
            "456901     0\n",
            "1210049    0\n",
            "1545951    0\n",
            "301193     0\n",
            "2380419    0\n",
            "2597644    0\n",
            "1095790    0\n",
            "1715167    0\n",
            "Name: Total Length of Fwd Packets, dtype: uint8\n",
            "Trying to convert datatypes for less memory usage\n",
            "255.0 max\n",
            "0.0 min\n",
            "22623008 memory usage\n",
            "2827876  new memory usage| the difference ->  8.0\n"
          ]
        }
      ]
    },
    {
      "cell_type": "code",
      "metadata": {
        "colab": {
          "base_uri": "https://localhost:8080/"
        },
        "id": "dx1tl5-Wz7mu",
        "outputId": "74c76119-bbab-4a36-ea64-f54a66360bba"
      },
      "source": [
        "check_size_dtypes(df['FIN Flag Count'] )\n",
        "df['FIN Flag Count'] = normalize(df['FIN Flag Count'])\n",
        "df['FIN Flag Count']  =  convert_datatypes(df['FIN Flag Count'])"
      ],
      "execution_count": 131,
      "outputs": [
        {
          "output_type": "stream",
          "name": "stdout",
          "text": [
            "1 max\n",
            "0 min\n",
            "22623008 This is the memory usage\n",
            "382752     0\n",
            "2479706    0\n",
            "807717     0\n",
            "1210450    0\n",
            "528121     0\n",
            "1200779    0\n",
            "330787     0\n",
            "2446976    0\n",
            "326878     0\n",
            "1268304    0\n",
            "1915243    0\n",
            "2156770    0\n",
            "1261397    1\n",
            "1460520    0\n",
            "30578      0\n",
            "1854676    0\n",
            "1127657    1\n",
            "1232060    0\n",
            "1026424    0\n",
            "2806780    0\n",
            "Name: FIN Flag Count, dtype: int64\n",
            "Trying to convert datatypes for less memory usage\n",
            "255.0 max\n",
            "0.0 min\n",
            "22623008 memory usage\n",
            "2827876  new memory usage| the difference ->  8.0\n"
          ]
        }
      ]
    },
    {
      "cell_type": "code",
      "metadata": {
        "colab": {
          "base_uri": "https://localhost:8080/"
        },
        "id": "heSidNg4zkVd",
        "outputId": "75affbcd-bfe7-4c02-8b6f-178d01e0b3b9"
      },
      "source": [
        "check_size_dtypes(df[' Avg Bwd Segment Size'])\n",
        "# df[' Avg Bwd Segment Size'] = normalize(df[' Avg Bwd Segment Size'])\n",
        "# df[' Avg Bwd Segment Size'] =  convert_datatypes(df[' Avg Bwd Segment Size'])"
      ],
      "execution_count": 129,
      "outputs": [
        {
          "output_type": "stream",
          "name": "stdout",
          "text": [
            "255 max\n",
            "0 min\n",
            "2827876 This is the memory usage\n",
            "371424       0\n",
            "465624       1\n",
            "959236       0\n",
            "1195810      1\n",
            "1095899      0\n",
            "560548       0\n",
            "944216       0\n",
            "2571743      1\n",
            "2364303     84\n",
            "2690516      7\n",
            "1535491      5\n",
            "2755196      2\n",
            "89170      102\n",
            "927080       5\n",
            "282478       0\n",
            "1458416      4\n",
            "2579564     17\n",
            "1349109     34\n",
            "2656091      4\n",
            "1657455      2\n",
            "Name:  Avg Bwd Segment Size, dtype: uint8\n"
          ]
        }
      ]
    },
    {
      "cell_type": "code",
      "metadata": {
        "id": "j4uEFMrw1PZS"
      },
      "source": [
        "from sklearn.preprocessing import LabelEncoder\n",
        "\n",
        "target = df[' Label']\n",
        "le = LabelEncoder()\n",
        "target = le.fit_transform(target)"
      ],
      "execution_count": 142,
      "outputs": []
    },
    {
      "cell_type": "code",
      "metadata": {
        "id": "dq1Tnvwz1Pb2"
      },
      "source": [
        "# X = X.apply(lambda col: (col.astype('float16')))\n",
        "X=df.iloc[:,:-1]\n",
        "X.info()\n",
        "X.head(15)"
      ],
      "execution_count": null,
      "outputs": []
    },
    {
      "cell_type": "code",
      "metadata": {
        "id": "-K0awKtQ6ljt",
        "colab": {
          "base_uri": "https://localhost:8080/"
        },
        "outputId": "f2cbbfd3-41a1-489c-c66d-145f7eb0875f"
      },
      "source": [
        "np.random.seed(0)\n",
        "#x_train, x_test, y_train, y_test = train_test_split(label_puts, target, test_size = 0.99, random_state = 42)\n",
        "x_train, x_test, y_train, y_test = train_test_split(X, target, test_size = 0.20, random_state = 42)\n",
        "print(x_train.shape,len(y_train),x_test.shape,len(y_test))\n",
        "x_train.columns"
      ],
      "execution_count": 143,
      "outputs": [
        {
          "output_type": "stream",
          "name": "stdout",
          "text": [
            "(2262300, 55) 2262300 (565576, 55) 565576\n"
          ]
        },
        {
          "output_type": "execute_result",
          "data": {
            "text/plain": [
              "Index([' Destination Port', ' Flow Duration', ' Total Fwd Packets',\n",
              "       ' Total Backward Packets', 'Total Length of Fwd Packets',\n",
              "       ' Fwd Packet Length Max', ' Fwd Packet Length Min',\n",
              "       ' Fwd Packet Length Mean', ' Fwd Packet Length Std',\n",
              "       'Bwd Packet Length Max', ' Bwd Packet Length Min',\n",
              "       ' Bwd Packet Length Mean', ' Bwd Packet Length Std', 'Flow Bytes/s',\n",
              "       ' Flow Packets/s', ' Flow IAT Mean', ' Flow IAT Std', ' Flow IAT Max',\n",
              "       ' Flow IAT Min', 'Fwd IAT Total', ' Fwd IAT Mean', ' Fwd IAT Std',\n",
              "       ' Fwd IAT Max', ' Fwd IAT Min', 'Bwd IAT Total', ' Bwd IAT Max',\n",
              "       'Fwd PSH Flags', ' Fwd Header Length', ' Bwd Header Length',\n",
              "       'Fwd Packets/s', ' Min Packet Length', ' Max Packet Length',\n",
              "       ' Packet Length Mean', ' Packet Length Std', ' Packet Length Variance',\n",
              "       'FIN Flag Count', ' PSH Flag Count', ' ACK Flag Count',\n",
              "       ' URG Flag Count', ' Average Packet Size', ' Avg Fwd Segment Size',\n",
              "       ' Avg Bwd Segment Size', ' Fwd Header Length.1', 'Subflow Fwd Packets',\n",
              "       ' Subflow Fwd Bytes', ' Subflow Bwd Packets', ' Subflow Bwd Bytes',\n",
              "       'Init_Win_bytes_forward', ' Init_Win_bytes_backward',\n",
              "       ' act_data_pkt_fwd', ' min_seg_size_forward', 'Idle Mean', ' Idle Std',\n",
              "       ' Idle Max', ' Idle Min'],\n",
              "      dtype='object')"
            ]
          },
          "metadata": {},
          "execution_count": 143
        }
      ]
    },
    {
      "cell_type": "code",
      "metadata": {
        "colab": {
          "base_uri": "https://localhost:8080/"
        },
        "id": "mRriDS2eX-Z7",
        "outputId": "b8bc05a1-f398-4a02-8cc0-5d4eeb670d61"
      },
      "source": [
        "type(y_train[0])"
      ],
      "execution_count": null,
      "outputs": [
        {
          "output_type": "execute_result",
          "data": {
            "text/plain": [
              "numpy.int64"
            ]
          },
          "metadata": {},
          "execution_count": 30
        }
      ]
    },
    {
      "cell_type": "code",
      "metadata": {
        "id": "gTkxg2Gk6ee8",
        "colab": {
          "base_uri": "https://localhost:8080/"
        },
        "outputId": "31aa5aca-fe74-45c1-cf77-339eb26eba9b"
      },
      "source": [
        "from pandas import read_csv\n",
        "from sklearn.ensemble import ExtraTreesClassifier\n",
        "model = ExtraTreesClassifier()\n",
        "model.fit(x_train,y_train)"
      ],
      "execution_count": null,
      "outputs": [
        {
          "output_type": "execute_result",
          "data": {
            "text/plain": [
              "ExtraTreesClassifier(bootstrap=False, ccp_alpha=0.0, class_weight=None,\n",
              "                     criterion='gini', max_depth=None, max_features='auto',\n",
              "                     max_leaf_nodes=None, max_samples=None,\n",
              "                     min_impurity_decrease=0.0, min_impurity_split=None,\n",
              "                     min_samples_leaf=1, min_samples_split=2,\n",
              "                     min_weight_fraction_leaf=0.0, n_estimators=100,\n",
              "                     n_jobs=None, oob_score=False, random_state=None, verbose=0,\n",
              "                     warm_start=False)"
            ]
          },
          "metadata": {},
          "execution_count": 114
        }
      ]
    },
    {
      "cell_type": "code",
      "metadata": {
        "id": "jPxBEzLi6eiI",
        "colab": {
          "base_uri": "https://localhost:8080/"
        },
        "outputId": "6ed9c8a2-49d0-4e17-8c95-4d08c448e93e"
      },
      "source": [
        "attributes = list(x_train)\n",
        "sorted(zip(model.feature_importances_, attributes), reverse=True)\n",
        "\n",
        "\n",
        "# without removing low importance features\n",
        "# [(0.06725226795705366, ' PSH Flag Count'\n",
        "#  (0.04703924588265128, ' Destination Port'\n",
        "#  (0.04336891200076948, ' min_seg_size_forward'\n",
        "#  (0.032918258942460234, ' Avg Bwd Segment Size'\n",
        "#  (0.0319151585200045, 'Init_Win_bytes_forward,\n",
        "#  (0.031231904998846597, ' Bwd Packet Length Mn'),\n",
        "#  (0.031043828667534953, 'Bwd Packet Length Max'),\n",
        "#  (0.031022820331145052, ' Bwd Packet Length Min'),\n",
        "#  (0.03084828251761542, ' Bwd Packet Length Std'),\n",
        "#  (0.03072821850388161, ' Packet Length Std'),\n",
        "#  (0.030100785213065997, ' Flow IAT Max'),\n",
        "#  (0.028436521776347194, ' ACK Flag Count'),\n",
        "#  (0.027281427074497808, ' Average Packet Size'),\n",
        "#  (0.026910672034640138, ' Packet Length Mean'),\n",
        "#  (0.026513534635049307, ' Fwd IAT Std'),\n",
        "#  (0.02519386171930337, ' Idle Min'),\n",
        "#  (0.02469951817650592, ' Packet Length Variance'),\n",
        "#  (0.022650719915733662, ' Fwd IAT Max'),\n",
        "#  (0.02149375931208453, 'Idle Mean'),\n",
        "#  (0.021387643727711243, ' Idle Max'),\n",
        "#  (0.019695679851880293, 'Fwd IAT Total'),\n",
        "#  (0.018349326562034977, 'Fwd Packets/s'),\n",
        "#  (0.017266255918316865, ' Min Packet Length'),\n",
        "#  (0.015626674633139576, ' Flow Duration'),\n",
        "#  (0.014118829080722541, ' Flow IAT Std'),\n",
        "#  (0.013867841856553067, ' act_data_pkt_fwd'),\n",
        "#  (0.013679521187193299, ' Fwd Packet Length Mean'),\n",
        "#  (0.01331099626769552, ' Down/Up Ratio'),\n",
        "#  (0.012939464770070725, ' Max Packet Length'),\n",
        "#  (0.012047217861556263, 'Subflow Fwd Packets'),\n",
        "#  (0.011862095567088867, ' Fwd IAT Mean'),\n",
        "#  (0.011632402475019983, ' Fwd Header Length'),\n",
        "#  (0.011358750784500476, ' Fwd Header Length.1'),\n",
        "#  (0.010854538908848051, ' Fwd Packet Length Min'),\n",
        "#  (0.010796586010746973, ' URG Flag Count'),\n",
        "#  (0.009597693510985581, ' Fwd Packet Length Std'),\n",
        "#  (0.00902441333452618, 'FIN Flag Count'),\n",
        "#  (0.00877306577163478, ' Fwd Packet Length Max'),\n",
        "#  (0.008720890407471942, ' Flow IAT Mean'),\n",
        "#  (0.008226787320041931, ' Bwd Header Length'),\n",
        "#  (0.007201896418642561, 'Bwd IAT Total'),\n",
        "#  (0.0069803806388032096, ' Bwd IAT Max'),\n",
        "#  (0.006945103049020648, ' Avg Fwd Segment Size'),\n",
        "#  (0.0069378669203904566, ' Fwd IAT Min'),\n",
        "#  (0.006887325250458923, ' Total Backward Packets'),\n",
        "#  (0.006841765990321557, ' Init_Win_bytes_backward'),\n",
        "#  (0.006626668993186727, ' Subflow Bwd Packets'),\n",
        "#  (0.006300917761674071, ' Total Fwd Packets'),\n",
        "#  (0.006126555533887571, ' Subflow Bwd Bytes'),\n",
        "#  (0.00578242343095683, ' Total Length of Bwd Packets'),\n",
        "#  (0.005532007932318445, ' Flow IAT Min'),\n",
        "#  (0.005470814956938054, ' Subflow Fwd Bytes'),\n",
        "#  (0.00510055920240283, ' Bwd IAT Mean'),\n",
        "#  (0.004828698367963238, ' Bwd Packets/s'),\n",
        "#  (0.004661449246139643, ' SYN Flag Count'),\n",
        "#  (0.004656945025439365, 'Total Length of Fwd Packets'),\n",
        "#  (0.004444226295005339, ' Bwd IAT Std'),\n",
        "#  (0.004222930071229493, 'Fwd PSH Flags'),\n",
        "#  (0.002980876838669248, ' Idle Std'),\n",
        "#  (0.0022653559832381213, ' Bwd IAT Min'),\n",
        "#  (0.0020928688268832575, ' Active Min'),\n",
        "#  (0.001723731080556255, 'Active Mean'),\n",
        "#  (0.0013829157201535125, ' Active Max'),\n",
        "#  (0.00020451284954848723, ' Active Std'),\n",
        "#  (9.758497430937929e-06, ' CWE Flag Count'),\n",
        "#  (3.2564982464166172e-06, ' Fwd URG Flags'),\n",
        "#  (1.447782419664425e-06, ' ECE Flag Count'),\n",
        "#  (3.668511452909695e-07, ' RST Flag Count'),\n",
        "#  (0.0, 'Fwd Avg Bytes/Bulk'),\n",
        "#  (0.0, 'Bwd Avg Bulk Rate'),\n",
        "#  (0.0, ' Fwd Avg Packets/Bulk'),\n",
        "#  (0.0, ' Fwd Avg Bulk Rate'),\n",
        "#  (0.0, ' Bwd URG Flags'),\n",
        "#  (0.0, ' Bwd PSH Flags'),\n",
        "#  (0.0, ' Bwd Avg Packets/Bulk'),\n",
        "#  (0.0, ' Bwd Avg Bytes/Bulk')]\n",
        "\n",
        "# ---------------------------------------------------------\n",
        "\n",
        "\n",
        "# [(0.07310365579399741, ' PSH Flag Count'),\n",
        "#  (0.046475815101709984, ' min_seg_size_forward'),\n",
        "#  (0.045934770085670394, ' Destination Port'),\n",
        "#  (0.04354801440171562, ' Avg Bwd Segment Size'),\n",
        "#  (0.03856424646770225, ' Packet Length Std'),\n",
        "#  (0.032581428295322824, 'Bwd Packet Length Max'),\n",
        "#  (0.0304329734798864, ' Fwd IAT Std'),\n",
        "#  (0.030004556066805278, 'Init_Win_bytes_forward'),\n",
        "#  (0.02853429675537719, ' Bwd Packet Length Std'),\n",
        "#  (0.027345633541044186, ' Bwd Packet Length Min'),\n",
        "#  (0.026739433752677427, ' Average Packet Size'),\n",
        "#  (0.026495206853878427, ' Packet Length Variance'),\n",
        "#  (0.02535343343555042, ' ACK Flag Count'),\n",
        "#  (0.02489962913912783, ' Packet Length Mean'),\n",
        "#  (0.024063577466096442, ' Bwd Packet Length Mean'),\n",
        "#  (0.022537784746346854, ' Idle Min'),\n",
        "#  (0.022425677268801836, ' Idle Max'),\n",
        "#  (0.021089457479274577, 'Fwd Packets/s'),\n",
        "#  (0.020905120110969577, ' Fwd IAT Max'),\n",
        "#  (0.020308971281282315, ' Flow IAT Max'),\n",
        "#  (0.018813700501907404, 'Idle Mean'),\n",
        "#  (0.018067791682025974, ' act_data_pkt_fwd'),\n",
        "#  (0.01802237237287912, ' Max Packet Length'),\n",
        "#  (0.017997843113228613, ' Min Packet Length'),\n",
        "#  (0.017872511846361218, 'Fwd IAT Total'),\n",
        "#  (0.017520951239622197, ' Flow IAT Std'),\n",
        "#  (0.014881886721889226, ' Down/Up Ratio'),\n",
        "#  (0.012914199615944012, ' Avg Fwd Segment Size'),\n",
        "#  (0.012055797186893941, ' Flow Duration'),\n",
        "#  (0.011631295140734983, ' Total Fwd Packets'),\n",
        "#  (0.01107404719278104, 'Subflow Fwd Packets'),\n",
        "#  (0.011006568007510521, ' URG Flag Count'),\n",
        "#  (0.010921003583136375, ' Fwd Packet Length Std'),\n",
        "#  (0.010356449469914123, ' Fwd Packet Length Mean'),\n",
        "#  (0.01033395657536567, ' Fwd Header Length'),\n",
        "#  (0.009830207428205373, ' Fwd IAT Mean'),\n",
        "#  (0.009774355533804582, ' Fwd Packet Length Max'),\n",
        "#  (0.009240395689139726, ' Fwd Header Length.1'),\n",
        "#  (0.008618886892888398, ' Fwd Packet Length Min'),\n",
        "#  (0.008352315753258288, 'Fwd PSH Flags'),\n",
        "#  (0.007965808032871996, 'Total Length of Fwd Packets'),\n",
        "#  (0.007922605037918536, ' Flow IAT Mean'),\n",
        "#  (0.007318878754666738, 'Bwd IAT Total'),\n",
        "#  (0.00675529351791052, 'FIN Flag Count'),\n",
        "#  (0.006711274017472827, ' Subflow Bwd Packets'),\n",
        "#  (0.006608910345913243, ' Bwd Header Length'),\n",
        "#  (0.006242128250044523, ' Flow IAT Min'),\n",
        "#  (0.006076130445719157, ' Subflow Fwd Bytes'),\n",
        "#  (0.0059547031747178595, ' Init_Win_bytes_backward'),\n",
        "#  (0.005889936504748974, ' Fwd IAT Min'),\n",
        "#  (0.0058352876533357325, ' Total Backward Packets'),\n",
        "#  (0.004719200925616161, ' Bwd IAT Max'),\n",
        "#  (0.004436353459315346, ' Subflow Bwd Bytes'),\n",
        "#  (0.004288540951000902, ' Bwd IAT Mean'),\n",
        "#  (0.003736318063867649, ' Bwd Packets/s'),\n",
        "#  (0.0035537665999495686, ' Bwd IAT Std'),\n",
        "#  (0.0034097276914085944, ' Idle Std'),\n",
        "#  (0.003350737930263424, ' Total Length of Bwd Packets'),\n",
        "#  (0.002778802459990596, 'Active Mean'),\n",
        "#  (0.002086141001009315, ' Active Min'),\n",
        "#  (0.001986387335518348, ' Active Max'),\n",
        "#  (0.0015935378649943417, ' Bwd IAT Min'),\n",
        "#  (0.000138307198711042, ' Active Std'),\n",
        "#  (1.1005712306563672e-05, ' Fwd URG Flags'),\n",
        "#  (0.0, ' Bwd Avg Bytes/Bulk')]\n",
        "\n",
        "\n"
      ],
      "execution_count": null,
      "outputs": [
        {
          "output_type": "execute_result",
          "data": {
            "text/plain": [
              "[(0.06690100667896441, ' PSH Flag Count'),\n",
              " (0.058216087779977325, ' Destination Port'),\n",
              " (0.04861332355550372, ' min_seg_size_forward'),\n",
              " (0.04806183464065997, ' Avg Bwd Segment Size'),\n",
              " (0.04453371445806573, ' Average Packet Size'),\n",
              " (0.04255847124833064, ' Packet Length Std'),\n",
              " (0.038802730583122946, ' Bwd Packet Length Mean'),\n",
              " (0.03726604669718304, ' Fwd IAT Max'),\n",
              " (0.033130227855284175, ' Fwd IAT Std'),\n",
              " (0.031657894941570626, 'Idle Mean'),\n",
              " (0.029700974282850928, 'Init_Win_bytes_forward'),\n",
              " (0.029622252495992103, ' Idle Max'),\n",
              " (0.028765344515707197, ' Avg Fwd Segment Size'),\n",
              " (0.02833319672239302, ' Flow IAT Max'),\n",
              " (0.02756093527388941, ' Fwd Header Length'),\n",
              " (0.0269162747917426, ' Bwd Packet Length Std'),\n",
              " (0.026470866149284136, ' ACK Flag Count'),\n",
              " (0.02549206830249687, 'Bwd Packet Length Max'),\n",
              " (0.021708599173531434, ' Packet Length Mean'),\n",
              " (0.019101943160504616, 'Fwd Packets/s'),\n",
              " (0.018998546558886865, ' Packet Length Variance'),\n",
              " (0.01857977733946383, ' Flow Duration'),\n",
              " (0.018388053240293432, ' Bwd IAT Max'),\n",
              " (0.0170731984339204, ' Total Backward Packets'),\n",
              " (0.016759221161307257, ' Max Packet Length'),\n",
              " (0.01633062813386431, 'Total Length of Fwd Packets'),\n",
              " (0.016298310172223954, 'Fwd IAT Total'),\n",
              " (0.01568866193729801, ' Flow IAT Std'),\n",
              " (0.01473696328584167, ' URG Flag Count'),\n",
              " (0.012898187992757725, 'Bwd IAT Total'),\n",
              " (0.011766583009052214, ' Min Packet Length'),\n",
              " (0.011690333851017079, 'FIN Flag Count'),\n",
              " (0.011106076041710947, ' Flow Packets/s'),\n",
              " (0.011060570242545706, ' Fwd IAT Mean'),\n",
              " (0.010444174453597107, ' Fwd Packet Length Std'),\n",
              " (0.009620840475624828, 'Fwd PSH Flags'),\n",
              " (0.009184995443744029, ' Fwd Packet Length Max'),\n",
              " (0.008519910139396542, ' Idle Min'),\n",
              " (0.007607252017953021, ' Fwd Packet Length Mean'),\n",
              " (0.007175835571201257, ' Flow IAT Mean'),\n",
              " (0.006277520218232515, ' Init_Win_bytes_backward'),\n",
              " (0.004072546715848819, ' Idle Std'),\n",
              " (0.0033421082853045637, ' Fwd IAT Min'),\n",
              " (0.003290618506422977, ' Bwd Packet Length Min'),\n",
              " (0.0027062143992241535, ' Fwd Packet Length Min'),\n",
              " (0.0020355394001170487, ' Flow IAT Min'),\n",
              " (0.0007567326375962421, 'Flow Bytes/s'),\n",
              " (0.00010343547187421901, ' Fwd Header Length.1'),\n",
              " (2.370189060187069e-05, ' Bwd Header Length'),\n",
              " (2.0680423666726554e-05, ' Subflow Fwd Bytes'),\n",
              " (7.855761467397105e-06, ' Total Fwd Packets'),\n",
              " (7.4529195960190944e-06, 'Subflow Fwd Packets'),\n",
              " (5.318293186688273e-06, ' Subflow Bwd Packets'),\n",
              " (4.238019754702517e-06, ' act_data_pkt_fwd'),\n",
              " (4.12424835096425e-06, ' Subflow Bwd Bytes')]"
            ]
          },
          "metadata": {},
          "execution_count": 115
        }
      ]
    },
    {
      "cell_type": "code",
      "metadata": {
        "id": "OVwZO_1L-C7D",
        "colab": {
          "base_uri": "https://localhost:8080/"
        },
        "outputId": "6480cfd5-1152-44f5-8098-e5c50ed67a06"
      },
      "source": [
        "y_pred = model.predict(x_test)\n",
        "y_pred"
      ],
      "execution_count": null,
      "outputs": [
        {
          "output_type": "execute_result",
          "data": {
            "text/plain": [
              "array(['BENIGN', 'BENIGN', 'BENIGN', ..., 'BENIGN', 'BENIGN', 'BENIGN'],\n",
              "      dtype=object)"
            ]
          },
          "metadata": {},
          "execution_count": 116
        }
      ]
    },
    {
      "cell_type": "code",
      "metadata": {
        "id": "OtdZ1je3-NSq",
        "colab": {
          "base_uri": "https://localhost:8080/"
        },
        "outputId": "e7b1cf9f-7585-408c-fd8f-f2bc6dd019ee"
      },
      "source": [
        "from sklearn.metrics import accuracy_score,f1_score\n",
        "print(model.score(x_test, y_test))\n",
        "print(accuracy_score(y_test, y_pred))\n",
        "print(f1_score(y_test, y_pred, average='macro'))\n",
        "\n",
        "# 0.9984173777574454\n",
        "# 0.9984173777574454\n",
        "# 0.8329280909957083\n",
        "# --------After removal of columns\n",
        "# 0.9984350409521169--------\n",
        "# 0.9984350409521169--------\n",
        "# 0.8395713515182087\n",
        "# -------------- After removal of columns and standardization of data\n",
        "# 0.9983591948738985\n",
        "# 0.9983591948738985\n",
        "# 0.8782021432415873\n"
      ],
      "execution_count": null,
      "outputs": [
        {
          "output_type": "stream",
          "name": "stdout",
          "text": [
            "0.996605230773583\n",
            "0.996605230773583\n",
            "0.8037094062777358\n"
          ]
        }
      ]
    },
    {
      "cell_type": "code",
      "metadata": {
        "colab": {
          "base_uri": "https://localhost:8080/",
          "height": 748
        },
        "id": "cC9bdf5XET29",
        "outputId": "cac24d69-3d3f-4dbd-c145-b2d263bff72c"
      },
      "source": [
        "x_train.sample(20)"
      ],
      "execution_count": null,
      "outputs": [
        {
          "output_type": "execute_result",
          "data": {
            "text/html": [
              "<div>\n",
              "<style scoped>\n",
              "    .dataframe tbody tr th:only-of-type {\n",
              "        vertical-align: middle;\n",
              "    }\n",
              "\n",
              "    .dataframe tbody tr th {\n",
              "        vertical-align: top;\n",
              "    }\n",
              "\n",
              "    .dataframe thead th {\n",
              "        text-align: right;\n",
              "    }\n",
              "</style>\n",
              "<table border=\"1\" class=\"dataframe\">\n",
              "  <thead>\n",
              "    <tr style=\"text-align: right;\">\n",
              "      <th></th>\n",
              "      <th>Destination Port</th>\n",
              "      <th>Flow Duration</th>\n",
              "      <th>Total Fwd Packets</th>\n",
              "      <th>Total Backward Packets</th>\n",
              "      <th>Total Length of Fwd Packets</th>\n",
              "      <th>Fwd Packet Length Max</th>\n",
              "      <th>Fwd Packet Length Min</th>\n",
              "      <th>Fwd Packet Length Mean</th>\n",
              "      <th>Fwd Packet Length Std</th>\n",
              "      <th>Bwd Packet Length Max</th>\n",
              "      <th>Bwd Packet Length Min</th>\n",
              "      <th>Bwd Packet Length Mean</th>\n",
              "      <th>Bwd Packet Length Std</th>\n",
              "      <th>Flow Bytes/s</th>\n",
              "      <th>Flow Packets/s</th>\n",
              "      <th>Flow IAT Mean</th>\n",
              "      <th>Flow IAT Std</th>\n",
              "      <th>Flow IAT Max</th>\n",
              "      <th>Flow IAT Min</th>\n",
              "      <th>Fwd IAT Total</th>\n",
              "      <th>Fwd IAT Mean</th>\n",
              "      <th>Fwd IAT Std</th>\n",
              "      <th>Fwd IAT Max</th>\n",
              "      <th>Fwd IAT Min</th>\n",
              "      <th>Bwd IAT Total</th>\n",
              "      <th>Bwd IAT Max</th>\n",
              "      <th>Fwd PSH Flags</th>\n",
              "      <th>Fwd Header Length</th>\n",
              "      <th>Bwd Header Length</th>\n",
              "      <th>Fwd Packets/s</th>\n",
              "      <th>Min Packet Length</th>\n",
              "      <th>Max Packet Length</th>\n",
              "      <th>Packet Length Mean</th>\n",
              "      <th>Packet Length Std</th>\n",
              "      <th>Packet Length Variance</th>\n",
              "      <th>FIN Flag Count</th>\n",
              "      <th>PSH Flag Count</th>\n",
              "      <th>ACK Flag Count</th>\n",
              "      <th>URG Flag Count</th>\n",
              "      <th>Average Packet Size</th>\n",
              "      <th>Avg Fwd Segment Size</th>\n",
              "      <th>Avg Bwd Segment Size</th>\n",
              "      <th>Fwd Header Length.1</th>\n",
              "      <th>Subflow Fwd Packets</th>\n",
              "      <th>Subflow Fwd Bytes</th>\n",
              "      <th>Subflow Bwd Packets</th>\n",
              "      <th>Subflow Bwd Bytes</th>\n",
              "      <th>Init_Win_bytes_forward</th>\n",
              "      <th>Init_Win_bytes_backward</th>\n",
              "      <th>act_data_pkt_fwd</th>\n",
              "      <th>min_seg_size_forward</th>\n",
              "      <th>Idle Mean</th>\n",
              "      <th>Idle Std</th>\n",
              "      <th>Idle Max</th>\n",
              "      <th>Idle Min</th>\n",
              "    </tr>\n",
              "  </thead>\n",
              "  <tbody>\n",
              "    <tr>\n",
              "      <th>187650</th>\n",
              "      <td>0.122072</td>\n",
              "      <td>5.543199</td>\n",
              "      <td>5</td>\n",
              "      <td>0</td>\n",
              "      <td>30</td>\n",
              "      <td>6</td>\n",
              "      <td>6</td>\n",
              "      <td>6.000000</td>\n",
              "      <td>0.000000</td>\n",
              "      <td>0</td>\n",
              "      <td>0</td>\n",
              "      <td>0.00000</td>\n",
              "      <td>0.000000</td>\n",
              "      <td>11.192110</td>\n",
              "      <td>33.333347</td>\n",
              "      <td>1.385808</td>\n",
              "      <td>3.918124</td>\n",
              "      <td>5</td>\n",
              "      <td>0</td>\n",
              "      <td>5.543188e+00</td>\n",
              "      <td>1.385797e+00</td>\n",
              "      <td>3.927263</td>\n",
              "      <td>6646825</td>\n",
              "      <td>0.000012</td>\n",
              "      <td>0</td>\n",
              "      <td>0</td>\n",
              "      <td>0</td>\n",
              "      <td>100</td>\n",
              "      <td>99.459190</td>\n",
              "      <td>0.000025</td>\n",
              "      <td>6</td>\n",
              "      <td>6</td>\n",
              "      <td>6.000000</td>\n",
              "      <td>0.000000</td>\n",
              "      <td>0.000000</td>\n",
              "      <td>0</td>\n",
              "      <td>0</td>\n",
              "      <td>1</td>\n",
              "      <td>0</td>\n",
              "      <td>7.200000</td>\n",
              "      <td>6.000000</td>\n",
              "      <td>0.000000</td>\n",
              "      <td>99.985580</td>\n",
              "      <td>5</td>\n",
              "      <td>30</td>\n",
              "      <td>0</td>\n",
              "      <td>0.000000e+00</td>\n",
              "      <td>0.392151</td>\n",
              "      <td>0.000000</td>\n",
              "      <td>4</td>\n",
              "      <td>99.999977</td>\n",
              "      <td>5.539062</td>\n",
              "      <td>0.000000</td>\n",
              "      <td>5</td>\n",
              "      <td>6646825</td>\n",
              "    </tr>\n",
              "    <tr>\n",
              "      <th>276227</th>\n",
              "      <td>0.675975</td>\n",
              "      <td>0.218747</td>\n",
              "      <td>8</td>\n",
              "      <td>9</td>\n",
              "      <td>944</td>\n",
              "      <td>596</td>\n",
              "      <td>0</td>\n",
              "      <td>118.000000</td>\n",
              "      <td>206.690933</td>\n",
              "      <td>2920</td>\n",
              "      <td>0</td>\n",
              "      <td>1016.00000</td>\n",
              "      <td>1013.510742</td>\n",
              "      <td>11.193758</td>\n",
              "      <td>33.334412</td>\n",
              "      <td>0.013682</td>\n",
              "      <td>0.023217</td>\n",
              "      <td>0</td>\n",
              "      <td>0</td>\n",
              "      <td>2.185825e-01</td>\n",
              "      <td>3.122607e-02</td>\n",
              "      <td>0.028505</td>\n",
              "      <td>80939</td>\n",
              "      <td>0.007943</td>\n",
              "      <td>232437</td>\n",
              "      <td>139489</td>\n",
              "      <td>0</td>\n",
              "      <td>172</td>\n",
              "      <td>99.459213</td>\n",
              "      <td>0.001016</td>\n",
              "      <td>0</td>\n",
              "      <td>2920</td>\n",
              "      <td>560.444458</td>\n",
              "      <td>849.380798</td>\n",
              "      <td>3.220749</td>\n",
              "      <td>0</td>\n",
              "      <td>1</td>\n",
              "      <td>0</td>\n",
              "      <td>0</td>\n",
              "      <td>593.411743</td>\n",
              "      <td>118.000000</td>\n",
              "      <td>1016.000000</td>\n",
              "      <td>99.985580</td>\n",
              "      <td>8</td>\n",
              "      <td>944</td>\n",
              "      <td>9</td>\n",
              "      <td>1.395066e-03</td>\n",
              "      <td>12.501526</td>\n",
              "      <td>0.202942</td>\n",
              "      <td>7</td>\n",
              "      <td>99.999977</td>\n",
              "      <td>0.000000</td>\n",
              "      <td>0.000000</td>\n",
              "      <td>0</td>\n",
              "      <td>0</td>\n",
              "    </tr>\n",
              "    <tr>\n",
              "      <th>712592</th>\n",
              "      <td>0.675975</td>\n",
              "      <td>0.770857</td>\n",
              "      <td>8</td>\n",
              "      <td>8</td>\n",
              "      <td>2725</td>\n",
              "      <td>2413</td>\n",
              "      <td>0</td>\n",
              "      <td>340.625000</td>\n",
              "      <td>840.954529</td>\n",
              "      <td>845</td>\n",
              "      <td>2</td>\n",
              "      <td>130.00000</td>\n",
              "      <td>290.403656</td>\n",
              "      <td>11.192285</td>\n",
              "      <td>33.333622</td>\n",
              "      <td>0.051401</td>\n",
              "      <td>0.113380</td>\n",
              "      <td>0</td>\n",
              "      <td>0</td>\n",
              "      <td>6.985525e-01</td>\n",
              "      <td>9.979321e-02</td>\n",
              "      <td>0.148705</td>\n",
              "      <td>379769</td>\n",
              "      <td>0.000012</td>\n",
              "      <td>838288</td>\n",
              "      <td>466547</td>\n",
              "      <td>0</td>\n",
              "      <td>180</td>\n",
              "      <td>99.459206</td>\n",
              "      <td>0.000288</td>\n",
              "      <td>0</td>\n",
              "      <td>2413</td>\n",
              "      <td>221.470581</td>\n",
              "      <td>600.538208</td>\n",
              "      <td>1.610027</td>\n",
              "      <td>0</td>\n",
              "      <td>1</td>\n",
              "      <td>0</td>\n",
              "      <td>0</td>\n",
              "      <td>235.312500</td>\n",
              "      <td>340.625000</td>\n",
              "      <td>130.000000</td>\n",
              "      <td>99.985580</td>\n",
              "      <td>8</td>\n",
              "      <td>2725</td>\n",
              "      <td>8</td>\n",
              "      <td>1.586689e-04</td>\n",
              "      <td>44.557190</td>\n",
              "      <td>62.498474</td>\n",
              "      <td>7</td>\n",
              "      <td>99.999977</td>\n",
              "      <td>0.000000</td>\n",
              "      <td>0.000000</td>\n",
              "      <td>0</td>\n",
              "      <td>0</td>\n",
              "    </tr>\n",
              "    <tr>\n",
              "      <th>273596</th>\n",
              "      <td>11.580072</td>\n",
              "      <td>0.000012</td>\n",
              "      <td>2</td>\n",
              "      <td>0</td>\n",
              "      <td>12</td>\n",
              "      <td>6</td>\n",
              "      <td>6</td>\n",
              "      <td>6.000000</td>\n",
              "      <td>0.000000</td>\n",
              "      <td>0</td>\n",
              "      <td>0</td>\n",
              "      <td>0.00000</td>\n",
              "      <td>0.000000</td>\n",
              "      <td>11.706690</td>\n",
              "      <td>66.666664</td>\n",
              "      <td>0.000012</td>\n",
              "      <td>0.000000</td>\n",
              "      <td>0</td>\n",
              "      <td>0</td>\n",
              "      <td>8.333333e-07</td>\n",
              "      <td>8.333333e-07</td>\n",
              "      <td>0.000000</td>\n",
              "      <td>1</td>\n",
              "      <td>0.000011</td>\n",
              "      <td>0</td>\n",
              "      <td>0</td>\n",
              "      <td>0</td>\n",
              "      <td>40</td>\n",
              "      <td>99.459190</td>\n",
              "      <td>66.666664</td>\n",
              "      <td>6</td>\n",
              "      <td>6</td>\n",
              "      <td>6.000000</td>\n",
              "      <td>0.000000</td>\n",
              "      <td>0.000000</td>\n",
              "      <td>0</td>\n",
              "      <td>0</td>\n",
              "      <td>1</td>\n",
              "      <td>0</td>\n",
              "      <td>9.000000</td>\n",
              "      <td>6.000000</td>\n",
              "      <td>0.000000</td>\n",
              "      <td>99.985580</td>\n",
              "      <td>2</td>\n",
              "      <td>12</td>\n",
              "      <td>0</td>\n",
              "      <td>0.000000e+00</td>\n",
              "      <td>0.576782</td>\n",
              "      <td>0.000000</td>\n",
              "      <td>1</td>\n",
              "      <td>99.999977</td>\n",
              "      <td>0.000000</td>\n",
              "      <td>0.000000</td>\n",
              "      <td>0</td>\n",
              "      <td>0</td>\n",
              "    </tr>\n",
              "    <tr>\n",
              "      <th>2259315</th>\n",
              "      <td>0.122072</td>\n",
              "      <td>69.075386</td>\n",
              "      <td>9</td>\n",
              "      <td>7</td>\n",
              "      <td>379</td>\n",
              "      <td>373</td>\n",
              "      <td>0</td>\n",
              "      <td>42.111111</td>\n",
              "      <td>124.099197</td>\n",
              "      <td>5792</td>\n",
              "      <td>0</td>\n",
              "      <td>1656.00000</td>\n",
              "      <td>2118.227295</td>\n",
              "      <td>11.192116</td>\n",
              "      <td>33.333336</td>\n",
              "      <td>4.605036</td>\n",
              "      <td>25.235771</td>\n",
              "      <td>68</td>\n",
              "      <td>0</td>\n",
              "      <td>6.900000e+01</td>\n",
              "      <td>8.583333e+00</td>\n",
              "      <td>34.632370</td>\n",
              "      <td>82700000</td>\n",
              "      <td>0.000011</td>\n",
              "      <td>148735</td>\n",
              "      <td>137191</td>\n",
              "      <td>0</td>\n",
              "      <td>284</td>\n",
              "      <td>99.459213</td>\n",
              "      <td>0.000004</td>\n",
              "      <td>0</td>\n",
              "      <td>5792</td>\n",
              "      <td>704.352966</td>\n",
              "      <td>1537.710449</td>\n",
              "      <td>10.556042</td>\n",
              "      <td>0</td>\n",
              "      <td>0</td>\n",
              "      <td>1</td>\n",
              "      <td>0</td>\n",
              "      <td>748.375000</td>\n",
              "      <td>42.111111</td>\n",
              "      <td>1656.428571</td>\n",
              "      <td>99.985580</td>\n",
              "      <td>9</td>\n",
              "      <td>379</td>\n",
              "      <td>7</td>\n",
              "      <td>1.769005e-03</td>\n",
              "      <td>0.384521</td>\n",
              "      <td>0.360107</td>\n",
              "      <td>2</td>\n",
              "      <td>99.999977</td>\n",
              "      <td>68.937500</td>\n",
              "      <td>0.000000</td>\n",
              "      <td>68</td>\n",
              "      <td>82700000</td>\n",
              "    </tr>\n",
              "    <tr>\n",
              "      <th>2434072</th>\n",
              "      <td>0.122072</td>\n",
              "      <td>83.887154</td>\n",
              "      <td>6</td>\n",
              "      <td>6</td>\n",
              "      <td>383</td>\n",
              "      <td>371</td>\n",
              "      <td>0</td>\n",
              "      <td>63.833332</td>\n",
              "      <td>150.509018</td>\n",
              "      <td>8688</td>\n",
              "      <td>0</td>\n",
              "      <td>1932.00000</td>\n",
              "      <td>3506.021729</td>\n",
              "      <td>11.192115</td>\n",
              "      <td>33.333336</td>\n",
              "      <td>7.626114</td>\n",
              "      <td>35.377251</td>\n",
              "      <td>82</td>\n",
              "      <td>0</td>\n",
              "      <td>8.416666e+01</td>\n",
              "      <td>1.675000e+01</td>\n",
              "      <td>52.480453</td>\n",
              "      <td>99500000</td>\n",
              "      <td>0.000013</td>\n",
              "      <td>101000000</td>\n",
              "      <td>101000000</td>\n",
              "      <td>0</td>\n",
              "      <td>184</td>\n",
              "      <td>99.459213</td>\n",
              "      <td>0.000002</td>\n",
              "      <td>0</td>\n",
              "      <td>8688</td>\n",
              "      <td>921.846130</td>\n",
              "      <td>2465.742432</td>\n",
              "      <td>27.142345</td>\n",
              "      <td>1</td>\n",
              "      <td>0</td>\n",
              "      <td>0</td>\n",
              "      <td>0</td>\n",
              "      <td>998.666687</td>\n",
              "      <td>63.833332</td>\n",
              "      <td>1932.500000</td>\n",
              "      <td>99.985580</td>\n",
              "      <td>6</td>\n",
              "      <td>383</td>\n",
              "      <td>6</td>\n",
              "      <td>1.769005e-03</td>\n",
              "      <td>0.001526</td>\n",
              "      <td>0.360107</td>\n",
              "      <td>2</td>\n",
              "      <td>99.999977</td>\n",
              "      <td>82.937500</td>\n",
              "      <td>0.000000</td>\n",
              "      <td>82</td>\n",
              "      <td>99500000</td>\n",
              "    </tr>\n",
              "    <tr>\n",
              "      <th>1756558</th>\n",
              "      <td>0.675975</td>\n",
              "      <td>98.488564</td>\n",
              "      <td>28</td>\n",
              "      <td>33</td>\n",
              "      <td>1134</td>\n",
              "      <td>517</td>\n",
              "      <td>0</td>\n",
              "      <td>40.500000</td>\n",
              "      <td>133.179489</td>\n",
              "      <td>2836</td>\n",
              "      <td>0</td>\n",
              "      <td>741.50000</td>\n",
              "      <td>793.024841</td>\n",
              "      <td>11.192119</td>\n",
              "      <td>33.333344</td>\n",
              "      <td>1.641487</td>\n",
              "      <td>4.605752</td>\n",
              "      <td>8</td>\n",
              "      <td>0</td>\n",
              "      <td>9.833334e+01</td>\n",
              "      <td>3.647725e+00</td>\n",
              "      <td>5.788192</td>\n",
              "      <td>10100000</td>\n",
              "      <td>0.000012</td>\n",
              "      <td>113000000</td>\n",
              "      <td>10100000</td>\n",
              "      <td>0</td>\n",
              "      <td>904</td>\n",
              "      <td>99.459290</td>\n",
              "      <td>0.000008</td>\n",
              "      <td>0</td>\n",
              "      <td>2836</td>\n",
              "      <td>412.983856</td>\n",
              "      <td>680.177856</td>\n",
              "      <td>2.065366</td>\n",
              "      <td>0</td>\n",
              "      <td>1</td>\n",
              "      <td>0</td>\n",
              "      <td>0</td>\n",
              "      <td>419.754089</td>\n",
              "      <td>40.500000</td>\n",
              "      <td>741.545455</td>\n",
              "      <td>99.985588</td>\n",
              "      <td>28</td>\n",
              "      <td>1134</td>\n",
              "      <td>33</td>\n",
              "      <td>3.733448e-03</td>\n",
              "      <td>44.557190</td>\n",
              "      <td>0.534058</td>\n",
              "      <td>4</td>\n",
              "      <td>99.999977</td>\n",
              "      <td>8.335938</td>\n",
              "      <td>0.005124</td>\n",
              "      <td>8</td>\n",
              "      <td>10000000</td>\n",
              "    </tr>\n",
              "    <tr>\n",
              "      <th>725140</th>\n",
              "      <td>0.675975</td>\n",
              "      <td>0.644943</td>\n",
              "      <td>6</td>\n",
              "      <td>5</td>\n",
              "      <td>958</td>\n",
              "      <td>517</td>\n",
              "      <td>0</td>\n",
              "      <td>159.666672</td>\n",
              "      <td>231.960922</td>\n",
              "      <td>137</td>\n",
              "      <td>0</td>\n",
              "      <td>33.59375</td>\n",
              "      <td>59.340542</td>\n",
              "      <td>11.192172</td>\n",
              "      <td>33.333569</td>\n",
              "      <td>0.064504</td>\n",
              "      <td>0.146250</td>\n",
              "      <td>0</td>\n",
              "      <td>0</td>\n",
              "      <td>4.300183e-01</td>\n",
              "      <td>8.600367e-02</td>\n",
              "      <td>0.166159</td>\n",
              "      <td>257347</td>\n",
              "      <td>0.000108</td>\n",
              "      <td>516951</td>\n",
              "      <td>258896</td>\n",
              "      <td>0</td>\n",
              "      <td>200</td>\n",
              "      <td>99.459206</td>\n",
              "      <td>0.000258</td>\n",
              "      <td>0</td>\n",
              "      <td>517</td>\n",
              "      <td>93.833336</td>\n",
              "      <td>174.789139</td>\n",
              "      <td>0.136389</td>\n",
              "      <td>0</td>\n",
              "      <td>1</td>\n",
              "      <td>0</td>\n",
              "      <td>0</td>\n",
              "      <td>102.363640</td>\n",
              "      <td>159.666672</td>\n",
              "      <td>33.600000</td>\n",
              "      <td>99.985580</td>\n",
              "      <td>6</td>\n",
              "      <td>958</td>\n",
              "      <td>5</td>\n",
              "      <td>2.563113e-05</td>\n",
              "      <td>44.557190</td>\n",
              "      <td>0.372314</td>\n",
              "      <td>3</td>\n",
              "      <td>99.999977</td>\n",
              "      <td>0.000000</td>\n",
              "      <td>0.000000</td>\n",
              "      <td>0</td>\n",
              "      <td>0</td>\n",
              "    </tr>\n",
              "    <tr>\n",
              "      <th>2075046</th>\n",
              "      <td>0.080873</td>\n",
              "      <td>0.000247</td>\n",
              "      <td>2</td>\n",
              "      <td>2</td>\n",
              "      <td>62</td>\n",
              "      <td>31</td>\n",
              "      <td>31</td>\n",
              "      <td>31.000000</td>\n",
              "      <td>0.000000</td>\n",
              "      <td>47</td>\n",
              "      <td>47</td>\n",
              "      <td>47.00000</td>\n",
              "      <td>0.000000</td>\n",
              "      <td>11.215665</td>\n",
              "      <td>33.568073</td>\n",
              "      <td>0.000090</td>\n",
              "      <td>0.000143</td>\n",
              "      <td>0</td>\n",
              "      <td>0</td>\n",
              "      <td>3.333333e-06</td>\n",
              "      <td>3.333333e-06</td>\n",
              "      <td>0.000000</td>\n",
              "      <td>4</td>\n",
              "      <td>0.000013</td>\n",
              "      <td>48</td>\n",
              "      <td>48</td>\n",
              "      <td>0</td>\n",
              "      <td>64</td>\n",
              "      <td>99.459198</td>\n",
              "      <td>0.234742</td>\n",
              "      <td>31</td>\n",
              "      <td>47</td>\n",
              "      <td>37.400002</td>\n",
              "      <td>8.763561</td>\n",
              "      <td>0.000343</td>\n",
              "      <td>0</td>\n",
              "      <td>0</td>\n",
              "      <td>0</td>\n",
              "      <td>0</td>\n",
              "      <td>46.750000</td>\n",
              "      <td>31.000000</td>\n",
              "      <td>47.000000</td>\n",
              "      <td>99.985580</td>\n",
              "      <td>2</td>\n",
              "      <td>62</td>\n",
              "      <td>2</td>\n",
              "      <td>1.434123e-05</td>\n",
              "      <td>0.000000</td>\n",
              "      <td>0.000000</td>\n",
              "      <td>1</td>\n",
              "      <td>99.999977</td>\n",
              "      <td>0.000000</td>\n",
              "      <td>0.000000</td>\n",
              "      <td>0</td>\n",
              "      <td>0</td>\n",
              "    </tr>\n",
              "    <tr>\n",
              "      <th>2593299</th>\n",
              "      <td>0.675975</td>\n",
              "      <td>28.708054</td>\n",
              "      <td>159</td>\n",
              "      <td>289</td>\n",
              "      <td>4168</td>\n",
              "      <td>389</td>\n",
              "      <td>0</td>\n",
              "      <td>26.213837</td>\n",
              "      <td>92.338081</td>\n",
              "      <td>4344</td>\n",
              "      <td>0</td>\n",
              "      <td>1882.00000</td>\n",
              "      <td>845.711548</td>\n",
              "      <td>11.192792</td>\n",
              "      <td>33.333549</td>\n",
              "      <td>0.064235</td>\n",
              "      <td>1.668893</td>\n",
              "      <td>24</td>\n",
              "      <td>0</td>\n",
              "      <td>2.866667e+01</td>\n",
              "      <td>1.816965e-01</td>\n",
              "      <td>2.811810</td>\n",
              "      <td>29900000</td>\n",
              "      <td>0.000011</td>\n",
              "      <td>4454301</td>\n",
              "      <td>1170015</td>\n",
              "      <td>0</td>\n",
              "      <td>5100</td>\n",
              "      <td>99.460052</td>\n",
              "      <td>0.000154</td>\n",
              "      <td>0</td>\n",
              "      <td>4344</td>\n",
              "      <td>1220.614746</td>\n",
              "      <td>1120.083740</td>\n",
              "      <td>5.600838</td>\n",
              "      <td>0</td>\n",
              "      <td>1</td>\n",
              "      <td>0</td>\n",
              "      <td>0</td>\n",
              "      <td>1223.339233</td>\n",
              "      <td>26.213837</td>\n",
              "      <td>1881.965398</td>\n",
              "      <td>99.985596</td>\n",
              "      <td>159</td>\n",
              "      <td>4168</td>\n",
              "      <td>289</td>\n",
              "      <td>8.297894e-02</td>\n",
              "      <td>100.000000</td>\n",
              "      <td>1.945496</td>\n",
              "      <td>15</td>\n",
              "      <td>99.999977</td>\n",
              "      <td>24.921875</td>\n",
              "      <td>0.000000</td>\n",
              "      <td>24</td>\n",
              "      <td>29900000</td>\n",
              "    </tr>\n",
              "    <tr>\n",
              "      <th>1567987</th>\n",
              "      <td>0.080873</td>\n",
              "      <td>0.000141</td>\n",
              "      <td>2</td>\n",
              "      <td>2</td>\n",
              "      <td>86</td>\n",
              "      <td>43</td>\n",
              "      <td>43</td>\n",
              "      <td>43.000000</td>\n",
              "      <td>0.000000</td>\n",
              "      <td>59</td>\n",
              "      <td>59</td>\n",
              "      <td>59.00000</td>\n",
              "      <td>0.000000</td>\n",
              "      <td>11.248186</td>\n",
              "      <td>33.760685</td>\n",
              "      <td>0.000054</td>\n",
              "      <td>0.000100</td>\n",
              "      <td>0</td>\n",
              "      <td>0</td>\n",
              "      <td>2.500000e-06</td>\n",
              "      <td>2.500000e-06</td>\n",
              "      <td>0.000000</td>\n",
              "      <td>3</td>\n",
              "      <td>0.000012</td>\n",
              "      <td>3</td>\n",
              "      <td>3</td>\n",
              "      <td>0</td>\n",
              "      <td>40</td>\n",
              "      <td>99.459198</td>\n",
              "      <td>0.427350</td>\n",
              "      <td>43</td>\n",
              "      <td>59</td>\n",
              "      <td>49.400002</td>\n",
              "      <td>8.763561</td>\n",
              "      <td>0.000343</td>\n",
              "      <td>0</td>\n",
              "      <td>0</td>\n",
              "      <td>0</td>\n",
              "      <td>0</td>\n",
              "      <td>61.750000</td>\n",
              "      <td>43.000000</td>\n",
              "      <td>59.000000</td>\n",
              "      <td>99.985580</td>\n",
              "      <td>2</td>\n",
              "      <td>86</td>\n",
              "      <td>2</td>\n",
              "      <td>1.800282e-05</td>\n",
              "      <td>0.000000</td>\n",
              "      <td>0.000000</td>\n",
              "      <td>1</td>\n",
              "      <td>99.999977</td>\n",
              "      <td>0.000000</td>\n",
              "      <td>0.000000</td>\n",
              "      <td>0</td>\n",
              "      <td>0</td>\n",
              "    </tr>\n",
              "    <tr>\n",
              "      <th>1188847</th>\n",
              "      <td>0.080873</td>\n",
              "      <td>0.025846</td>\n",
              "      <td>2</td>\n",
              "      <td>2</td>\n",
              "      <td>62</td>\n",
              "      <td>31</td>\n",
              "      <td>31</td>\n",
              "      <td>31.000000</td>\n",
              "      <td>0.000000</td>\n",
              "      <td>47</td>\n",
              "      <td>47</td>\n",
              "      <td>47.00000</td>\n",
              "      <td>0.000000</td>\n",
              "      <td>11.192326</td>\n",
              "      <td>33.335484</td>\n",
              "      <td>0.008622</td>\n",
              "      <td>0.021101</td>\n",
              "      <td>0</td>\n",
              "      <td>0</td>\n",
              "      <td>2.500000e-06</td>\n",
              "      <td>2.500000e-06</td>\n",
              "      <td>0.000000</td>\n",
              "      <td>3</td>\n",
              "      <td>0.000012</td>\n",
              "      <td>3</td>\n",
              "      <td>3</td>\n",
              "      <td>0</td>\n",
              "      <td>64</td>\n",
              "      <td>99.459198</td>\n",
              "      <td>0.002150</td>\n",
              "      <td>31</td>\n",
              "      <td>47</td>\n",
              "      <td>37.400002</td>\n",
              "      <td>8.763561</td>\n",
              "      <td>0.000343</td>\n",
              "      <td>0</td>\n",
              "      <td>0</td>\n",
              "      <td>0</td>\n",
              "      <td>0</td>\n",
              "      <td>46.750000</td>\n",
              "      <td>31.000000</td>\n",
              "      <td>47.000000</td>\n",
              "      <td>99.985580</td>\n",
              "      <td>2</td>\n",
              "      <td>62</td>\n",
              "      <td>2</td>\n",
              "      <td>1.434123e-05</td>\n",
              "      <td>0.000000</td>\n",
              "      <td>0.000000</td>\n",
              "      <td>1</td>\n",
              "      <td>99.999977</td>\n",
              "      <td>0.000000</td>\n",
              "      <td>0.000000</td>\n",
              "      <td>0</td>\n",
              "      <td>0</td>\n",
              "    </tr>\n",
              "    <tr>\n",
              "      <th>2088262</th>\n",
              "      <td>0.080873</td>\n",
              "      <td>0.310763</td>\n",
              "      <td>2</td>\n",
              "      <td>2</td>\n",
              "      <td>72</td>\n",
              "      <td>36</td>\n",
              "      <td>36</td>\n",
              "      <td>36.000000</td>\n",
              "      <td>0.000000</td>\n",
              "      <td>64</td>\n",
              "      <td>64</td>\n",
              "      <td>64.00000</td>\n",
              "      <td>0.000000</td>\n",
              "      <td>11.192133</td>\n",
              "      <td>33.333511</td>\n",
              "      <td>0.103595</td>\n",
              "      <td>0.253884</td>\n",
              "      <td>0</td>\n",
              "      <td>0</td>\n",
              "      <td>8.333333e-07</td>\n",
              "      <td>8.333333e-07</td>\n",
              "      <td>0.000000</td>\n",
              "      <td>1</td>\n",
              "      <td>0.000011</td>\n",
              "      <td>1</td>\n",
              "      <td>1</td>\n",
              "      <td>0</td>\n",
              "      <td>40</td>\n",
              "      <td>99.459198</td>\n",
              "      <td>0.000179</td>\n",
              "      <td>36</td>\n",
              "      <td>64</td>\n",
              "      <td>47.200001</td>\n",
              "      <td>15.336231</td>\n",
              "      <td>0.001050</td>\n",
              "      <td>0</td>\n",
              "      <td>0</td>\n",
              "      <td>0</td>\n",
              "      <td>0</td>\n",
              "      <td>59.000000</td>\n",
              "      <td>36.000000</td>\n",
              "      <td>64.000000</td>\n",
              "      <td>99.985580</td>\n",
              "      <td>2</td>\n",
              "      <td>72</td>\n",
              "      <td>2</td>\n",
              "      <td>1.952848e-05</td>\n",
              "      <td>0.000000</td>\n",
              "      <td>0.000000</td>\n",
              "      <td>1</td>\n",
              "      <td>99.999977</td>\n",
              "      <td>0.000000</td>\n",
              "      <td>0.000000</td>\n",
              "      <td>0</td>\n",
              "      <td>0</td>\n",
              "    </tr>\n",
              "    <tr>\n",
              "      <th>610024</th>\n",
              "      <td>71.125353</td>\n",
              "      <td>0.000057</td>\n",
              "      <td>1</td>\n",
              "      <td>1</td>\n",
              "      <td>0</td>\n",
              "      <td>0</td>\n",
              "      <td>0</td>\n",
              "      <td>0.000000</td>\n",
              "      <td>0.000000</td>\n",
              "      <td>0</td>\n",
              "      <td>0</td>\n",
              "      <td>0.00000</td>\n",
              "      <td>0.000000</td>\n",
              "      <td>11.192110</td>\n",
              "      <td>33.928570</td>\n",
              "      <td>0.000057</td>\n",
              "      <td>0.000000</td>\n",
              "      <td>0</td>\n",
              "      <td>0</td>\n",
              "      <td>0.000000e+00</td>\n",
              "      <td>0.000000e+00</td>\n",
              "      <td>0.000000</td>\n",
              "      <td>0</td>\n",
              "      <td>0.000010</td>\n",
              "      <td>0</td>\n",
              "      <td>0</td>\n",
              "      <td>0</td>\n",
              "      <td>32</td>\n",
              "      <td>99.459198</td>\n",
              "      <td>0.595238</td>\n",
              "      <td>0</td>\n",
              "      <td>0</td>\n",
              "      <td>0.000000</td>\n",
              "      <td>0.000000</td>\n",
              "      <td>0.000000</td>\n",
              "      <td>0</td>\n",
              "      <td>0</td>\n",
              "      <td>1</td>\n",
              "      <td>1</td>\n",
              "      <td>0.000000</td>\n",
              "      <td>0.000000</td>\n",
              "      <td>0.000000</td>\n",
              "      <td>99.985580</td>\n",
              "      <td>1</td>\n",
              "      <td>0</td>\n",
              "      <td>1</td>\n",
              "      <td>0.000000e+00</td>\n",
              "      <td>0.012207</td>\n",
              "      <td>0.457764</td>\n",
              "      <td>0</td>\n",
              "      <td>99.999977</td>\n",
              "      <td>0.000000</td>\n",
              "      <td>0.000000</td>\n",
              "      <td>0</td>\n",
              "      <td>0</td>\n",
              "    </tr>\n",
              "    <tr>\n",
              "      <th>289093</th>\n",
              "      <td>0.122072</td>\n",
              "      <td>0.027168</td>\n",
              "      <td>1</td>\n",
              "      <td>1</td>\n",
              "      <td>0</td>\n",
              "      <td>0</td>\n",
              "      <td>0</td>\n",
              "      <td>0.000000</td>\n",
              "      <td>0.000000</td>\n",
              "      <td>0</td>\n",
              "      <td>0</td>\n",
              "      <td>0.00000</td>\n",
              "      <td>0.000000</td>\n",
              "      <td>11.192110</td>\n",
              "      <td>33.334354</td>\n",
              "      <td>0.027168</td>\n",
              "      <td>0.000000</td>\n",
              "      <td>0</td>\n",
              "      <td>0</td>\n",
              "      <td>0.000000e+00</td>\n",
              "      <td>0.000000e+00</td>\n",
              "      <td>0.000000</td>\n",
              "      <td>0</td>\n",
              "      <td>0.000010</td>\n",
              "      <td>0</td>\n",
              "      <td>0</td>\n",
              "      <td>0</td>\n",
              "      <td>32</td>\n",
              "      <td>99.459198</td>\n",
              "      <td>0.001023</td>\n",
              "      <td>0</td>\n",
              "      <td>0</td>\n",
              "      <td>0.000000</td>\n",
              "      <td>0.000000</td>\n",
              "      <td>0.000000</td>\n",
              "      <td>0</td>\n",
              "      <td>0</td>\n",
              "      <td>1</td>\n",
              "      <td>1</td>\n",
              "      <td>0.000000</td>\n",
              "      <td>0.000000</td>\n",
              "      <td>0.000000</td>\n",
              "      <td>99.985580</td>\n",
              "      <td>1</td>\n",
              "      <td>0</td>\n",
              "      <td>1</td>\n",
              "      <td>0.000000e+00</td>\n",
              "      <td>0.404358</td>\n",
              "      <td>0.360107</td>\n",
              "      <td>0</td>\n",
              "      <td>99.999977</td>\n",
              "      <td>0.000000</td>\n",
              "      <td>0.000000</td>\n",
              "      <td>0</td>\n",
              "      <td>0</td>\n",
              "    </tr>\n",
              "    <tr>\n",
              "      <th>2315328</th>\n",
              "      <td>0.122072</td>\n",
              "      <td>0.012298</td>\n",
              "      <td>2</td>\n",
              "      <td>2</td>\n",
              "      <td>12</td>\n",
              "      <td>6</td>\n",
              "      <td>6</td>\n",
              "      <td>6.000000</td>\n",
              "      <td>0.000000</td>\n",
              "      <td>0</td>\n",
              "      <td>0</td>\n",
              "      <td>0.00000</td>\n",
              "      <td>0.000000</td>\n",
              "      <td>11.192144</td>\n",
              "      <td>33.337856</td>\n",
              "      <td>0.004107</td>\n",
              "      <td>0.009777</td>\n",
              "      <td>0</td>\n",
              "      <td>0</td>\n",
              "      <td>2.141667e-04</td>\n",
              "      <td>2.141667e-04</td>\n",
              "      <td>0.000000</td>\n",
              "      <td>257</td>\n",
              "      <td>0.000224</td>\n",
              "      <td>14695</td>\n",
              "      <td>14695</td>\n",
              "      <td>0</td>\n",
              "      <td>40</td>\n",
              "      <td>99.459198</td>\n",
              "      <td>0.004521</td>\n",
              "      <td>0</td>\n",
              "      <td>6</td>\n",
              "      <td>3.600000</td>\n",
              "      <td>3.286335</td>\n",
              "      <td>0.000048</td>\n",
              "      <td>1</td>\n",
              "      <td>0</td>\n",
              "      <td>0</td>\n",
              "      <td>0</td>\n",
              "      <td>4.500000</td>\n",
              "      <td>6.000000</td>\n",
              "      <td>0.000000</td>\n",
              "      <td>99.985580</td>\n",
              "      <td>2</td>\n",
              "      <td>12</td>\n",
              "      <td>2</td>\n",
              "      <td>0.000000e+00</td>\n",
              "      <td>0.001526</td>\n",
              "      <td>0.360107</td>\n",
              "      <td>1</td>\n",
              "      <td>99.999977</td>\n",
              "      <td>0.000000</td>\n",
              "      <td>0.000000</td>\n",
              "      <td>0</td>\n",
              "      <td>0</td>\n",
              "    </tr>\n",
              "    <tr>\n",
              "      <th>2501434</th>\n",
              "      <td>0.134279</td>\n",
              "      <td>0.000956</td>\n",
              "      <td>9</td>\n",
              "      <td>6</td>\n",
              "      <td>3150</td>\n",
              "      <td>1575</td>\n",
              "      <td>0</td>\n",
              "      <td>350.000000</td>\n",
              "      <td>694.509705</td>\n",
              "      <td>1576</td>\n",
              "      <td>0</td>\n",
              "      <td>525.50000</td>\n",
              "      <td>813.842896</td>\n",
              "      <td>11.430417</td>\n",
              "      <td>33.553791</td>\n",
              "      <td>0.000078</td>\n",
              "      <td>0.000251</td>\n",
              "      <td>0</td>\n",
              "      <td>0</td>\n",
              "      <td>9.450000e-04</td>\n",
              "      <td>1.181250e-04</td>\n",
              "      <td>0.000348</td>\n",
              "      <td>869</td>\n",
              "      <td>0.000011</td>\n",
              "      <td>1029</td>\n",
              "      <td>817</td>\n",
              "      <td>0</td>\n",
              "      <td>304</td>\n",
              "      <td>99.459213</td>\n",
              "      <td>0.264550</td>\n",
              "      <td>0</td>\n",
              "      <td>1576</td>\n",
              "      <td>393.875000</td>\n",
              "      <td>704.585083</td>\n",
              "      <td>2.216250</td>\n",
              "      <td>0</td>\n",
              "      <td>1</td>\n",
              "      <td>0</td>\n",
              "      <td>0</td>\n",
              "      <td>420.133331</td>\n",
              "      <td>350.000000</td>\n",
              "      <td>525.333333</td>\n",
              "      <td>99.985580</td>\n",
              "      <td>9</td>\n",
              "      <td>3150</td>\n",
              "      <td>6</td>\n",
              "      <td>4.808888e-04</td>\n",
              "      <td>44.557190</td>\n",
              "      <td>3.176880</td>\n",
              "      <td>2</td>\n",
              "      <td>99.999977</td>\n",
              "      <td>0.000000</td>\n",
              "      <td>0.000000</td>\n",
              "      <td>0</td>\n",
              "      <td>0</td>\n",
              "    </tr>\n",
              "    <tr>\n",
              "      <th>928453</th>\n",
              "      <td>67.977417</td>\n",
              "      <td>0.004066</td>\n",
              "      <td>2</td>\n",
              "      <td>0</td>\n",
              "      <td>12</td>\n",
              "      <td>6</td>\n",
              "      <td>6</td>\n",
              "      <td>6.000000</td>\n",
              "      <td>0.000000</td>\n",
              "      <td>0</td>\n",
              "      <td>0</td>\n",
              "      <td>0.00000</td>\n",
              "      <td>0.000000</td>\n",
              "      <td>11.192216</td>\n",
              "      <td>33.340183</td>\n",
              "      <td>0.004066</td>\n",
              "      <td>0.000000</td>\n",
              "      <td>0</td>\n",
              "      <td>0</td>\n",
              "      <td>4.055000e-03</td>\n",
              "      <td>4.055000e-03</td>\n",
              "      <td>0.000000</td>\n",
              "      <td>4866</td>\n",
              "      <td>0.004065</td>\n",
              "      <td>0</td>\n",
              "      <td>0</td>\n",
              "      <td>0</td>\n",
              "      <td>40</td>\n",
              "      <td>99.459190</td>\n",
              "      <td>0.013701</td>\n",
              "      <td>6</td>\n",
              "      <td>6</td>\n",
              "      <td>6.000000</td>\n",
              "      <td>0.000000</td>\n",
              "      <td>0.000000</td>\n",
              "      <td>0</td>\n",
              "      <td>0</td>\n",
              "      <td>1</td>\n",
              "      <td>0</td>\n",
              "      <td>9.000000</td>\n",
              "      <td>6.000000</td>\n",
              "      <td>0.000000</td>\n",
              "      <td>99.985580</td>\n",
              "      <td>2</td>\n",
              "      <td>12</td>\n",
              "      <td>0</td>\n",
              "      <td>0.000000e+00</td>\n",
              "      <td>0.045776</td>\n",
              "      <td>0.000000</td>\n",
              "      <td>1</td>\n",
              "      <td>99.999977</td>\n",
              "      <td>0.000000</td>\n",
              "      <td>0.000000</td>\n",
              "      <td>0</td>\n",
              "      <td>0</td>\n",
              "    </tr>\n",
              "    <tr>\n",
              "      <th>353511</th>\n",
              "      <td>7.722591</td>\n",
              "      <td>0.000024</td>\n",
              "      <td>1</td>\n",
              "      <td>1</td>\n",
              "      <td>2</td>\n",
              "      <td>2</td>\n",
              "      <td>2</td>\n",
              "      <td>2.000000</td>\n",
              "      <td>0.000000</td>\n",
              "      <td>6</td>\n",
              "      <td>6</td>\n",
              "      <td>6.00000</td>\n",
              "      <td>0.000000</td>\n",
              "      <td>11.213551</td>\n",
              "      <td>35.416668</td>\n",
              "      <td>0.000024</td>\n",
              "      <td>0.000000</td>\n",
              "      <td>0</td>\n",
              "      <td>0</td>\n",
              "      <td>0.000000e+00</td>\n",
              "      <td>0.000000e+00</td>\n",
              "      <td>0.000000</td>\n",
              "      <td>0</td>\n",
              "      <td>0.000010</td>\n",
              "      <td>0</td>\n",
              "      <td>0</td>\n",
              "      <td>0</td>\n",
              "      <td>24</td>\n",
              "      <td>99.459198</td>\n",
              "      <td>2.083333</td>\n",
              "      <td>2</td>\n",
              "      <td>6</td>\n",
              "      <td>3.333333</td>\n",
              "      <td>2.309401</td>\n",
              "      <td>0.000024</td>\n",
              "      <td>0</td>\n",
              "      <td>1</td>\n",
              "      <td>0</td>\n",
              "      <td>0</td>\n",
              "      <td>5.000000</td>\n",
              "      <td>2.000000</td>\n",
              "      <td>6.000000</td>\n",
              "      <td>99.985580</td>\n",
              "      <td>1</td>\n",
              "      <td>2</td>\n",
              "      <td>1</td>\n",
              "      <td>9.153974e-07</td>\n",
              "      <td>1.564026</td>\n",
              "      <td>0.001526</td>\n",
              "      <td>0</td>\n",
              "      <td>99.999977</td>\n",
              "      <td>0.000000</td>\n",
              "      <td>0.000000</td>\n",
              "      <td>0</td>\n",
              "      <td>0</td>\n",
              "    </tr>\n",
              "    <tr>\n",
              "      <th>2229120</th>\n",
              "      <td>0.122072</td>\n",
              "      <td>0.124598</td>\n",
              "      <td>3</td>\n",
              "      <td>7</td>\n",
              "      <td>375</td>\n",
              "      <td>375</td>\n",
              "      <td>0</td>\n",
              "      <td>125.000000</td>\n",
              "      <td>216.506348</td>\n",
              "      <td>5792</td>\n",
              "      <td>0</td>\n",
              "      <td>1656.00000</td>\n",
              "      <td>2118.227295</td>\n",
              "      <td>11.195543</td>\n",
              "      <td>33.334450</td>\n",
              "      <td>0.013854</td>\n",
              "      <td>0.052693</td>\n",
              "      <td>0</td>\n",
              "      <td>0</td>\n",
              "      <td>1.170750e-02</td>\n",
              "      <td>5.853750e-03</td>\n",
              "      <td>0.011662</td>\n",
              "      <td>14001</td>\n",
              "      <td>0.000050</td>\n",
              "      <td>149408</td>\n",
              "      <td>135142</td>\n",
              "      <td>0</td>\n",
              "      <td>104</td>\n",
              "      <td>99.459213</td>\n",
              "      <td>0.000669</td>\n",
              "      <td>0</td>\n",
              "      <td>5792</td>\n",
              "      <td>1088.181763</td>\n",
              "      <td>1823.258057</td>\n",
              "      <td>14.840490</td>\n",
              "      <td>0</td>\n",
              "      <td>1</td>\n",
              "      <td>0</td>\n",
              "      <td>0</td>\n",
              "      <td>1197.000000</td>\n",
              "      <td>125.000000</td>\n",
              "      <td>1656.428571</td>\n",
              "      <td>99.985580</td>\n",
              "      <td>3</td>\n",
              "      <td>375</td>\n",
              "      <td>7</td>\n",
              "      <td>1.769005e-03</td>\n",
              "      <td>44.557190</td>\n",
              "      <td>0.360107</td>\n",
              "      <td>1</td>\n",
              "      <td>99.999977</td>\n",
              "      <td>0.000000</td>\n",
              "      <td>0.000000</td>\n",
              "      <td>0</td>\n",
              "      <td>0</td>\n",
              "    </tr>\n",
              "  </tbody>\n",
              "</table>\n",
              "</div>"
            ],
            "text/plain": [
              "          Destination Port   Flow Duration  ...   Idle Max   Idle Min\n",
              "187650            0.122072        5.543199  ...          5    6646825\n",
              "276227            0.675975        0.218747  ...          0          0\n",
              "712592            0.675975        0.770857  ...          0          0\n",
              "273596           11.580072        0.000012  ...          0          0\n",
              "2259315           0.122072       69.075386  ...         68   82700000\n",
              "2434072           0.122072       83.887154  ...         82   99500000\n",
              "1756558           0.675975       98.488564  ...          8   10000000\n",
              "725140            0.675975        0.644943  ...          0          0\n",
              "2075046           0.080873        0.000247  ...          0          0\n",
              "2593299           0.675975       28.708054  ...         24   29900000\n",
              "1567987           0.080873        0.000141  ...          0          0\n",
              "1188847           0.080873        0.025846  ...          0          0\n",
              "2088262           0.080873        0.310763  ...          0          0\n",
              "610024           71.125353        0.000057  ...          0          0\n",
              "289093            0.122072        0.027168  ...          0          0\n",
              "2315328           0.122072        0.012298  ...          0          0\n",
              "2501434           0.134279        0.000956  ...          0          0\n",
              "928453           67.977417        0.004066  ...          0          0\n",
              "353511            7.722591        0.000024  ...          0          0\n",
              "2229120           0.122072        0.124598  ...          0          0\n",
              "\n",
              "[20 rows x 55 columns]"
            ]
          },
          "metadata": {},
          "execution_count": 110
        }
      ]
    },
    {
      "cell_type": "code",
      "metadata": {
        "id": "oaRjwvSj6emC"
      },
      "source": [
        "# (0.0, 'Fwd Avg Bytes/Bulk'),\n",
        "#  (0.0, 'Bwd Avg Bulk Rate'),\n",
        "#  (0.0, ' Fwd Avg Packets/Bulk'),\n",
        "#  (0.0, ' Fwd Avg Bulk Rate'),\n",
        "#  (0.0, ' Bwd URG Flags'),\n",
        "#  (0.0, ' Bwd PSH Flags'),\n",
        "#  (0.0, ' Bwd Avg Packets/Bulk'),\n",
        "#  (0.0, ' Bwd Avg Bytes/Bulk')]\n",
        "\n",
        "# del df[\" CWE Flag Count\"]\n",
        "# del df[\"Bwd Avg Bulk Rate\"]\n",
        "# del df[\" Fwd Avg Packets/Bulk\"]\n",
        "# del df[' Fwd Avg Bulk Rate']\n",
        "# del df[\" Bwd URG Flags\"]\n",
        "# del df[' Bwd PSH Flags']\n",
        "# del df[\" Bwd Avg Packets/Bulk\"]\n",
        "                                                                       \n",
        "# del df[\" SYN Flag Count\"]\n",
        "# del df[\" Fwd URG Flags\"]\n",
        "# del df[\"]\n",
        "# del df[\"\"]\n",
        "# del df[\"\"]\n",
        "# del df[\"\"]\n",
        "# del df[\"\"]\n",
        "# \n",
        "# \n",
        "# \n",
        "# \n",
        "#  -----------------------DTC\n",
        "#  (0.0, 'Fwd Avg Bytes/Bulk'),\n",
        "#  (0.0, 'Bwd Avg Bulk Rate'),\n",
        "#  (0.0, ' SYN Flag Count'),\n",
        "#  (0.0, ' RST Flag Count'),\n",
        "#  (0.0, ' Fwd URG Flags'),\n",
        "#  (0.0, ' Fwd Avg Packets/Bulk'),\n",
        "#  (0.0, ' Fwd Avg Bulk Rate'),\n",
        "#  (0.0, ' ECE Flag Count'),\n",
        "#  (0.0, ' CWE Flag Count'),\n",
        "#  (0.0, ' Bwd URG Flags'),\n",
        "#  (0.0, ' Bwd PSH Flags'),\n",
        "#  (0.0, ' Bwd Avg Packets/Bulk'),\n",
        "#  (0.0, ' Bwd Avg Bytes/Bulk')]\n",
        "# RF\n",
        "  # (0.0, 'Fwd Avg Bytes/Bulk'),\n",
        "#  (0.0, 'Bwd Avg Bulk Rate'),\n",
        "#  (0.0, ' RST Flag Count'),\n",
        "#  (0.0, ' Fwd Avg Packets/Bulk'),\n",
        "#  (0.0, ' Fwd Avg Bulk Rate'),\n",
        "#  (0.0, ' ECE Flag Count'),\n",
        "#  (0.0, ' Bwd URG Flags'),\n",
        "#  (0.0, ' Bwd PSH Flags'),\n",
        "#  (0.0, ' Bwd Avg Packets/Bulk'),\n",
        "#  (0.0, ' Bwd Avg Bytes/Bulk')]\n",
        "\n",
        "# 'Fwd Avg Bytes/Bulk'),\n",
        "# SYN Flag Count')\n",
        "#  (0.0, 'Bwd Avg Bulk Rate'),\n",
        "#  (0.0, ' RST Flag Count'),\n",
        "#  (0.0, ' Fwd Avg Packets/Bulk'),\n",
        "#  (0.0, ' Fwd Avg Bulk Rate'),\n",
        "#  (0.0, ' ECE Flag Count'),\n",
        "#  (0.0, ' CWE Flag Count'),\n",
        "#  (0.0, ' Bwd URG Flags'),\n",
        "#  (0.0, ' Bwd PSH Flags'),\n",
        "#  (0.0, ' Bwd Avg Packets/Bulk'),\n",
        "#  (0.0, ' Bwd Avg Bytes/Bulk')]\n"
      ],
      "execution_count": null,
      "outputs": []
    },
    {
      "cell_type": "code",
      "metadata": {
        "id": "nxN7a74IQf5c",
        "colab": {
          "base_uri": "https://localhost:8080/"
        },
        "outputId": "f4915076-b9da-4e0e-9401-ea3620b4474e"
      },
      "source": [
        "len(df.columns)"
      ],
      "execution_count": null,
      "outputs": [
        {
          "output_type": "execute_result",
          "data": {
            "text/plain": [
              "67"
            ]
          },
          "metadata": {},
          "execution_count": 16
        }
      ]
    },
    {
      "cell_type": "code",
      "metadata": {
        "id": "NvAP_S6R6er7",
        "colab": {
          "base_uri": "https://localhost:8080/"
        },
        "outputId": "31d22965-b432-4bd9-beb8-2e8af6389f2c"
      },
      "source": [
        "dtc = DecisionTreeClassifier(max_depth = 35)\n",
        "dtc = dtc.fit(x_train,y_train)\n",
        "y_pred = dtc.predict(x_test)\n",
        "y_pred"
      ],
      "execution_count": null,
      "outputs": [
        {
          "output_type": "execute_result",
          "data": {
            "text/plain": [
              "array(['BENIGN', 'BENIGN', 'BENIGN', ..., 'BENIGN', 'BENIGN', 'BENIGN'],\n",
              "      dtype=object)"
            ]
          },
          "metadata": {},
          "execution_count": 118
        }
      ]
    },
    {
      "cell_type": "code",
      "metadata": {
        "id": "i5kZFJXD6evI",
        "colab": {
          "base_uri": "https://localhost:8080/"
        },
        "outputId": "45ecdfd7-db7b-41f8-edae-befd8cbf50ec"
      },
      "source": [
        "from sklearn.metrics import accuracy_score,f1_score\n",
        "print(dtc.score(x_test, y_test))\n",
        "print(accuracy_score(y_test, y_pred))\n",
        "print(f1_score(y_test, y_pred, average='macro'))\n",
        "# -----------------------------\n",
        "# 0.9984774326193281 after removal of columns\n",
        "# 0.9984774326193281 after removal of columns\n",
        "# 0.8667124765500696 after removal of columns\n",
        "\n",
        "# ------------------------------------------ AFter removal of columns and standardization of data\n",
        "# 0.9984140062520334\n",
        "# 0.9984140062520334\n",
        "# 0.9004401619867812"
      ],
      "execution_count": null,
      "outputs": [
        {
          "output_type": "stream",
          "name": "stdout",
          "text": [
            "0.9965451150685319\n",
            "0.9965451150685319\n",
            "0.7985818024194927\n"
          ]
        }
      ]
    },
    {
      "cell_type": "code",
      "metadata": {
        "id": "pAoCU6ZN-cY4",
        "colab": {
          "base_uri": "https://localhost:8080/"
        },
        "outputId": "37ed6eaf-e73b-4685-b904-16f508c4c057"
      },
      "source": [
        "attributes = list(x_train)\n",
        "sorted(zip(dtc.feature_importances_, attributes), reverse=True)\n",
        "# ''' After removal of columns\n",
        "# [(0.28016606811168726, ' Bwd Packet Length Std'),\n",
        "#  (0.1733888947694944, ' Average Packet Size'),\n",
        "#  (0.12351004475960135, ' Packet Length Variance'),\n",
        "#  (0.11069568307466329, ' Fwd Packet Length Max'),\n",
        "#  (0.09594752849111146, ' Destination Port'),\n",
        "#  (0.06755557795314726, ' Flow IAT Std'),\n",
        "#  (0.03493801525095952, ' Flow IAT Mean'),\n",
        "#  (0.01883046832986224, 'Init_Win_bytes_forward'),\n",
        "#  (0.018112034535505223, ' Fwd Header Length.1'),\n",
        "#  (0.015792768068831394, ' Total Length of Bwd Packets'),\n",
        "#  (0.007670806775145387, ' PSH Flag Count'),\n",
        "#  (0.007375691302249404, ' Flow IAT Min'),\n",
        "#  (0.007053658583930834, ' Fwd IAT Min'),\n",
        "#  (0.006798316543684104, ' Init_Win_bytes_backward'),\n",
        "#  (0.003698208209551507, ' Bwd IAT Mean'),\n",
        "#  (0.003231974871338103, ' Bwd Packets/s'),\n",
        "#  (0.0028835305365681294, ' Fwd IAT Std'),\n",
        "#  (0.002531178337354747, ' Packet Length Mean'),\n",
        "#  (0.0020148741561211853, ' Subflow Fwd Bytes'),\n",
        "#  (0.001849292133856775, ' Active Std'),\n",
        "#  (0.0017756112815919029, ' Subflow Bwd Bytes'),\n",
        "#  (0.0017422225064747804, ' Bwd IAT Std'),\n",
        "#  (0.001735979999222193, ' min_seg_size_forward'),\n",
        "#  (0.0014089051417732659, ' act_data_pkt_fwd'),\n",
        "#  (0.001039001917198709, ' Fwd Header Length'),\n",
        "#  (0.0008479153051474898, ' Bwd Packet Length Mean'),\n",
        "#  (0.0007103968653167402, ' Flow Duration'),\n",
        "#  (0.0005975280224517197, ' Fwd IAT Mean'),\n",
        "#  (0.0005879066183263844, ' Fwd Packet Length Min'),\n",
        "#  (0.00048147632219934565, ' Avg Fwd Segment Size'),\n",
        "#  (0.00046751665611389034, ' Avg Bwd Segment Size'),\n",
        "#  (0.00046193767822552304, ' Fwd Packet Length Std'),\n",
        "#  (0.0004135138254924596, 'Total Length of Fwd Packets'),\n",
        "#  (0.00041328739480660486, ' Flow IAT Max'),\n",
        "#  (0.00030597314465320984, 'Subflow Fwd Packets'),\n",
        "#  (0.00026962660081438633, ' Min Packet Length'),\n",
        "#  (0.00026572709485670224, ' URG Flag Count'),\n",
        "#  (0.00025500760488335724, 'Fwd IAT Total'),\n",
        "#  (0.00023741983955396956, ' Bwd IAT Min'),\n",
        "#  (0.00021367862064914888, 'Fwd Packets/s'),\n",
        "#  (0.00018878988623811886, ' Fwd IAT Max'),\n",
        "#  (0.00018270426067764855, 'Bwd Packet Length Max'),\n",
        "#  (0.00015394740150137702, 'Fwd PSH Flags'),\n",
        "#  (0.00015233484758006682, 'Bwd IAT Total'),\n",
        "#  (0.00014963252434221794, ' Down/Up Ratio'),\n",
        "#  (0.00011460363907694974, ' ACK Flag Count'),\n",
        "#  (0.00011027266081469523, ' Subflow Bwd Packets'),\n",
        "#  (0.00010582054978144025, ' Packet Length Std'),\n",
        "#  (0.00010059309850460571, ' Max Packet Length'),\n",
        "#  (9.414921214447345e-05, ' Idle Min'),\n",
        "#  (7.941917652496808e-05, ' Total Backward Packets'),\n",
        "#  (6.328853154705063e-05, ' Fwd Packet Length Mean'),\n",
        "#  (5.221072466639542e-05, ' Active Max'),\n",
        "#  (3.774487080623856e-05, ' Bwd IAT Max'),\n",
        "#  (3.4065258530539905e-05, ' Idle Std'),\n",
        "#  (3.204165726561617e-05, ' Bwd Header Length'),\n",
        "#  (1.975936604384112e-05, 'FIN Flag Count'),\n",
        "#  (1.9724799376597006e-05, ' Total Fwd Packets'),\n",
        "#  (1.445375939585674e-05, ' Idle Max'),\n",
        "#  (6.626751842307504e-06, ' Active Min'),\n",
        "#  (6.228453832736674e-06, 'Active Mean'),\n",
        "#  (4.623810405522742e-06, ' Bwd Packet Length Min'),\n",
        "#  (1.7175246854056034e-06, 'Idle Mean'),\n",
        "#  (0.0, ' Fwd URG Flags'),\n",
        "#  (0.0, ' Bwd Avg Bytes/Bulk')] '''\n",
        "\n",
        "\n",
        "# After removal of columns and stardardization of data\n",
        "# [(0.28081615120727976, ' Bwd Packet Length Std'),\n",
        "#  (0.17342584039345477, ' Average Packet Size'),\n",
        "#  (0.12443267029574392, ' Packet Length Variance'),\n",
        "#  (0.11023026556712232, ' Fwd Packet Length Max'),\n",
        "#  (0.09746895785153119, ' Destination Port'),\n",
        "#  (0.06745392528933074, ' Flow IAT Std'),\n",
        "#  (0.03451220274130996, ' Flow IAT Mean'),\n",
        "#  (0.019190152548959546, ' Fwd Header Length'),\n",
        "#  (0.017462324426230795, ' Subflow Bwd Bytes'),\n",
        "#  (0.017459279711913734, 'Init_Win_bytes_forward'),\n",
        "#  (0.007414904307686484, ' PSH Flag Count'),\n",
        "#  (0.006700317437963121, ' Init_Win_bytes_backward'),\n",
        "#  (0.006663308257260486, ' Fwd IAT Min'),\n",
        "#  (0.006044352514880975, 'Idle Mean'),\n",
        "#  (0.005355512124356029, ' min_seg_size_forward'),\n",
        "#  (0.0036568915883058235, ' Packet Length Mean'),\n",
        "#  (0.0034312123976469504, ' Idle Std'),\n",
        "#  (0.0028462804526412193, ' Fwd IAT Mean'),\n",
        "#  (0.002602149646224776, ' Bwd Packet Length Mean'),\n",
        "#  (0.0014574049358381167, 'Fwd Packets/s'),\n",
        "#  (0.001144727323678923, ' Fwd Packet Length Mean'),\n",
        "#  (0.0009776331906792724, ' Flow Duration'),\n",
        "#  (0.0009776052620744666, ' Avg Bwd Segment Size'),\n",
        "#  (0.0009451194161910165, ' Flow IAT Min'),\n",
        "#  (0.0008056073797510606, ' Fwd IAT Std'),\n",
        "#  (0.0008041586301102237, ' Subflow Fwd Bytes'),\n",
        "#  (0.0007283035349229918, ' Max Packet Length'),\n",
        "#  (0.0005657124060944584, 'Bwd Packet Length Max'),\n",
        "#  (0.0005470064893224677, 'Total Length of Fwd Packets'),\n",
        "#  (0.00047975391134993305, ' Fwd Packet Length Std'),\n",
        "#  (0.00047771592488278036, ' Fwd IAT Max'),\n",
        "#  (0.00037293438198067377, ' Fwd Packet Length Min'),\n",
        "#  (0.00030169869211160504, 'Flow Bytes/s'),\n",
        "#  (0.00028136749737304843, ' Min Packet Length'),\n",
        "#  (0.000273780967577527, ' Idle Min'),\n",
        "#  (0.00020469376312760802, ' URG Flag Count'),\n",
        "#  (0.00018746746412100034, ' Bwd IAT Max'),\n",
        "#  (0.0001790807723947673, ' Subflow Bwd Packets'),\n",
        "#  (0.00017207570059626418, ' ACK Flag Count'),\n",
        "#  (0.00016162335200744376, ' Flow Packets/s'),\n",
        "#  (0.00015204646779520066, ' Total Backward Packets'),\n",
        "#  (0.00015203629652474893, ' Packet Length Std'),\n",
        "#  (0.0001425175604447684, 'Fwd PSH Flags'),\n",
        "#  (9.503481344511872e-05, 'FIN Flag Count'),\n",
        "#  (8.928384850564696e-05, 'Bwd IAT Total'),\n",
        "#  (5.9174596124725984e-05, ' Avg Fwd Segment Size'),\n",
        "#  (3.2795406148957585e-05, 'Subflow Fwd Packets'),\n",
        "#  (1.6901180938118678e-05, ' Total Fwd Packets'),\n",
        "#  (1.2790231641322964e-05, ' Idle Max'),\n",
        "#  (1.0136842077547119e-05, ' Flow IAT Max'),\n",
        "#  (8.902492042750681e-06, ' Bwd Header Length'),\n",
        "#  (8.493611656901823e-06, ' act_data_pkt_fwd'),\n",
        "#  (7.716896626203414e-06, ' Bwd Packet Length Min'),\n",
        "#  (0.0, 'Fwd IAT Total'),\n",
        "#  (0.0, ' Fwd Header Length.1')]\n",
        "\n",
        "\n",
        " \n"
      ],
      "execution_count": null,
      "outputs": [
        {
          "output_type": "execute_result",
          "data": {
            "text/plain": [
              "[(0.2841986687385719, ' Bwd Packet Length Std'),\n",
              " (0.1205062740170743, ' Average Packet Size'),\n",
              " (0.11226953333492203, ' Avg Bwd Segment Size'),\n",
              " (0.10739965783960106, 'Total Length of Fwd Packets'),\n",
              " (0.09785351344591915, ' Total Backward Packets'),\n",
              " (0.07233203131516476, ' Min Packet Length'),\n",
              " (0.05529314115453851, ' Destination Port'),\n",
              " (0.03630655122223505, 'Fwd Packets/s'),\n",
              " (0.013242193017545584, ' Fwd Header Length'),\n",
              " (0.012428438875777277, ' Flow IAT Max'),\n",
              " (0.012147270876081829, ' Init_Win_bytes_backward'),\n",
              " (0.011285773419572081, ' Packet Length Mean'),\n",
              " (0.01013688836205035, ' Fwd IAT Max'),\n",
              " (0.005807709516039644, 'Idle Mean'),\n",
              " (0.00561459872965805, 'Fwd PSH Flags'),\n",
              " (0.005496011744640998, 'FIN Flag Count'),\n",
              " (0.004894725169502786, ' PSH Flag Count'),\n",
              " (0.004525055352380332, 'Init_Win_bytes_forward'),\n",
              " (0.003992293632705794, ' min_seg_size_forward'),\n",
              " (0.003990039286765114, ' Fwd IAT Std'),\n",
              " (0.0036360207527965202, 'Bwd IAT Total'),\n",
              " (0.002526940953714889, ' Flow IAT Min'),\n",
              " (0.002311569698065978, 'Fwd IAT Total'),\n",
              " (0.002306244213436734, ' Flow IAT Std'),\n",
              " (0.002027970337013603, ' Avg Fwd Segment Size'),\n",
              " (0.0009632050841703023, ' URG Flag Count'),\n",
              " (0.0009230833589785824, ' Flow Packets/s'),\n",
              " (0.0009039238174620018, ' Max Packet Length'),\n",
              " (0.0008239896114524065, ' Fwd IAT Min'),\n",
              " (0.000742789773448595, 'Bwd Packet Length Max'),\n",
              " (0.0007102869449364931, ' Flow Duration'),\n",
              " (0.0006204158368551399, ' ACK Flag Count'),\n",
              " (0.0005355218393998513, ' Idle Std'),\n",
              " (0.0004929881935553363, ' Fwd Packet Length Min'),\n",
              " (0.00032376811058885247, ' Bwd IAT Max'),\n",
              " (8.907408713479623e-05, ' Idle Max'),\n",
              " (6.195169553087977e-05, ' Fwd Packet Length Std'),\n",
              " (5.4310988033521135e-05, ' Flow IAT Mean'),\n",
              " (4.96072540504537e-05, ' Packet Length Std'),\n",
              " (3.992912119370632e-05, ' Fwd Packet Length Mean'),\n",
              " (3.9384828284625425e-05, ' Bwd Packet Length Min'),\n",
              " (3.324419882878096e-05, ' Idle Min'),\n",
              " (2.279632463800733e-05, ' Fwd IAT Mean'),\n",
              " (1.5975046280201238e-05, ' Bwd Packet Length Mean'),\n",
              " (1.1263968680693362e-05, ' Fwd Packet Length Max'),\n",
              " (6.122641536236652e-06, ' Packet Length Variance'),\n",
              " (5.216303637531294e-06, 'Subflow Fwd Packets'),\n",
              " (1.739359056892836e-06, ' act_data_pkt_fwd'),\n",
              " (2.9660649180698955e-07, 'Flow Bytes/s'),\n",
              " (0.0, ' Total Fwd Packets'),\n",
              " (0.0, ' Subflow Fwd Bytes'),\n",
              " (0.0, ' Subflow Bwd Packets'),\n",
              " (0.0, ' Subflow Bwd Bytes'),\n",
              " (0.0, ' Fwd Header Length.1'),\n",
              " (0.0, ' Bwd Header Length')]"
            ]
          },
          "metadata": {},
          "execution_count": 120
        }
      ]
    },
    {
      "cell_type": "code",
      "metadata": {
        "id": "yf6zZ4yaABid"
      },
      "source": [
        "from sklearn.model_selection import cross_val_score"
      ],
      "execution_count": null,
      "outputs": []
    },
    {
      "cell_type": "code",
      "metadata": {
        "id": "KhG4LUsQ-cSI",
        "colab": {
          "base_uri": "https://localhost:8080/"
        },
        "outputId": "9552258a-bfb6-4247-cb0e-a34e36ebcdb1"
      },
      "source": [
        "cross_val_score(dtc,X,Y,cv=10)\n",
        "# array([0.97643734, 0.99840325, 0.99742471, 0.99876711, 0.99574316,\n",
        "      #  0.99814536, 0.99919809, 0.9984845 , 0.99836439, 0.98740612])"
      ],
      "execution_count": null,
      "outputs": [
        {
          "output_type": "execute_result",
          "data": {
            "text/plain": [
              "array([0.97643734, 0.99840325, 0.99742471, 0.99876711, 0.99574316,\n",
              "       0.99814536, 0.99919809, 0.9984845 , 0.99836439, 0.98740612])"
            ]
          },
          "metadata": {},
          "execution_count": 35
        }
      ]
    },
    {
      "cell_type": "code",
      "metadata": {
        "id": "MtzBZdZA6e0k",
        "colab": {
          "base_uri": "https://localhost:8080/"
        },
        "outputId": "d1feca4b-4a4c-4a63-95b5-ea004fde8d24"
      },
      "source": [
        "print('---------------------------Random Forest CLassifier------------------')\n",
        "from sklearn.ensemble import RandomForestClassifier\n",
        "model = RandomForestClassifier(n_estimators =5)\n",
        "model = model.fit(x_train, y_train)\n",
        "rfy_pred = model.predict(x_test)\n",
        "acc = metrics.accuracy_score(y_test, y_pred)\n",
        "print(model.score(x_test,y_test))\n",
        "# 0.9985904770652249"
      ],
      "execution_count": null,
      "outputs": [
        {
          "output_type": "stream",
          "name": "stdout",
          "text": [
            "---------------------------Random Forest CLassifier------------------\n",
            "0.9964461009660948\n"
          ]
        }
      ]
    },
    {
      "cell_type": "code",
      "metadata": {
        "id": "fjsnQqS2AIPR",
        "colab": {
          "base_uri": "https://localhost:8080/"
        },
        "outputId": "c2ee11af-b57f-422f-9e06-de2e42d7921a"
      },
      "source": [
        "attributes = list(x_train)\n",
        "sorted(zip(model.feature_importances_, attributes), reverse=True)\n",
        "# After removal of zero weight columns\n",
        "# (0.112366494671202, ' Bwd Packet Length Std'),\n",
        "#  (0.06433679659855031, ' Fwd Packet Length Max'),\n",
        "#  (0.056751604919560494, ' Bwd Header Length'),\n",
        "#  (0.053961465096857064, ' Packet Length Std'),\n",
        "#  (0.05211168968251292, ' Avg Bwd Segment Size'),\n",
        "#  (0.04711769474558417, ' Packet Length Variance'),\n",
        "#  (0.047111200354155815, ' Destination Port'),\n",
        "#  (0.04381627786972093, ' Bwd Packets/s'),\n",
        "#  (0.042386429958200925, ' Subflow Fwd Bytes'),\n",
        "#  (0.04204987126438914, ' Subflow Bwd Bytes'),\n",
        "#  (0.04094738171388945, ' Fwd Packet Length Mean'),\n",
        "#  (0.034804649193391636, ' Bwd Packet Length Mean'),\n",
        "#  (0.032309913776511615, 'Total Length of Fwd Packets'),\n",
        "#  (0.030449813998609403, ' Bwd Packet Length Min'),\n",
        "#  (0.02745081831343994, 'Init_Win_bytes_forward'),\n",
        "#  (0.02152068692183791, ' Avg Fwd Segment Size'),\n",
        "#  (0.020606145634675384, ' Total Fwd Packets'),\n",
        "#  (0.020281391542833906, ' Fwd Header Length'),\n",
        "#  (0.019122836450544096, ' Average Packet Size'),\n",
        "#  (0.017856029235357555, ' Fwd IAT Min'),\n",
        "#  (0.016114650228562403, ' Total Length of Bwd Packets'),\n",
        "#  (0.01511369436086099, ' Flow IAT Mean'),\n",
        "#  (0.01462071528436822, 'Bwd Packet Length Max'),\n",
        "#  (0.013104362732868127, ' Fwd IAT Std'),\n",
        "#  (0.012588503895913216, ' Fwd Header Length.1'),\n",
        "#  (0.010829394542185674, ' Flow Duration'),\n",
        "#  (0.010589833636965276, 'Subflow Fwd Packets'),\n",
        "#  (0.008664120438680232, ' Flow IAT Min'),\n",
        "#  (0.006618671803804302, ' Fwd IAT Mean'),\n",
        "#  (0.0062142762806988204, 'Fwd Packets/s'),\n",
        "#  (0.005823333750440481, ' Flow IAT Max'),\n",
        "#  (0.005511802056849195, ' Flow IAT Std'),\n",
        "#  (0.004975819470764161, 'Bwd IAT Total'),\n",
        "#  (0.004627758535310539, ' Fwd IAT Max'),\n",
        "#  (0.00427590994074193, ' Packet Length Mean'),\n",
        "#  (0.0035639700897044913, ' act_data_pkt_fwd'),\n",
        "#  (0.003493204652573267, ' Init_Win_bytes_backward'),\n",
        "#  (0.003374753383737507, ' PSH Flag Count'),\n",
        "#  (0.002515781500541767, 'Idle Mean'),\n",
        "#  (0.0024516354845426636, ' min_seg_size_forward'),\n",
        "#  (0.0022335619575645444, ' ACK Flag Count'),\n",
        "#  (0.0019732395805961366, ' Fwd Packet Length Min'),\n",
        "#  (0.0014831160895369868, 'Fwd IAT Total'),\n",
        "#  (0.0014772666869454546, ' Bwd IAT Min'),\n",
        "#  (0.0013384636148983016, ' Active Max'),\n",
        "#  (0.0012520161369063434, 'FIN Flag Count'),\n",
        "#  (0.0011475731461011319, ' Subflow Bwd Packets'),\n",
        "#  (0.0010386363262575413, ' Idle Min'),\n",
        "#  (0.0009966626895916914, ' Fwd Packet Length Std'),\n",
        "#  (0.0008592233719482215, ' Max Packet Length'),\n",
        "#  (0.0006909782162334799, ' Idle Std'),\n",
        "#  (0.0006473875360388798, ' URG Flag Count'),\n",
        "#  (0.0006114456684819397, ' Bwd IAT Max'),\n",
        "#  (0.00036808559597668086, ' Bwd IAT Mean'),\n",
        "#  (0.0003629025503343455, ' Active Std'),\n",
        "#  (0.00029293235026810893, ' Idle Max'),\n",
        "#  (0.00025669564002782765, ' Min Packet Length'),\n",
        "#  (0.00017962329022629367, 'Fwd PSH Flags'),\n",
        "#  (0.00011231918372564187, ' Total Backward Packets'),\n",
        "#  (8.998730128113458e-05, ' Bwd IAT Std'),\n",
        "#  (7.53315373177969e-05, ' Down/Up Ratio'),\n",
        "#  (3.7701044193251527e-05, ' Active Min'),\n",
        "#  (3.760200258525163e-05, 'Active Mean'),\n",
        "#  (5.86447102523287e-06, ' Fwd URG Flags'),\n",
        "#  (0.0, ' Bwd Avg Bytes/Bulk')]"
      ],
      "execution_count": null,
      "outputs": [
        {
          "output_type": "execute_result",
          "data": {
            "text/plain": [
              "[(0.145025745627561, ' Packet Length Variance'),\n",
              " (0.06267163493604241, ' Destination Port'),\n",
              " (0.0613918930084727, ' PSH Flag Count'),\n",
              " (0.0587190302579525, ' Avg Bwd Segment Size'),\n",
              " (0.05567222321678052, 'Bwd Packet Length Max'),\n",
              " (0.05363953853421155, ' Fwd IAT Max'),\n",
              " (0.05134533203335825, 'Total Length of Fwd Packets'),\n",
              " (0.05109128945754957, ' Fwd Packet Length Std'),\n",
              " (0.03675270238645671, 'Init_Win_bytes_forward'),\n",
              " (0.036362303411364885, ' Fwd Header Length'),\n",
              " (0.03456560673549618, ' Avg Fwd Segment Size'),\n",
              " (0.0322907394110563, ' Bwd Packet Length Min'),\n",
              " (0.03165224756469898, ' Flow IAT Mean'),\n",
              " (0.027649571191133194, 'Fwd Packets/s'),\n",
              " (0.027577997989101884, ' min_seg_size_forward'),\n",
              " (0.027526175213779196, ' Packet Length Std'),\n",
              " (0.022985435197068013, ' Fwd Packet Length Max'),\n",
              " (0.01622232951297151, ' Average Packet Size'),\n",
              " (0.0157778643055697, ' Max Packet Length'),\n",
              " (0.015208580293901819, ' Fwd IAT Std'),\n",
              " (0.014542295433024191, ' ACK Flag Count'),\n",
              " (0.013926470584685153, ' Flow Packets/s'),\n",
              " (0.013912485370335468, ' Total Backward Packets'),\n",
              " (0.011897282753556795, ' Packet Length Mean'),\n",
              " (0.011186520981103076, 'Fwd IAT Total'),\n",
              " (0.008981160776681919, ' Idle Min'),\n",
              " (0.008166374402848776, ' Bwd Packet Length Mean'),\n",
              " (0.007054034698162145, 'FIN Flag Count'),\n",
              " (0.006779345236203507, ' Idle Max'),\n",
              " (0.004901980480258652, ' Init_Win_bytes_backward'),\n",
              " (0.0041973276192842565, 'Idle Mean'),\n",
              " (0.004114094449759387, ' Flow Duration'),\n",
              " (0.003575179071713228, ' URG Flag Count'),\n",
              " (0.0031726578390899205, ' Fwd Packet Length Mean'),\n",
              " (0.002896423713223249, 'Bwd IAT Total'),\n",
              " (0.002866310167922087, ' Flow IAT Max'),\n",
              " (0.002697245372183057, ' Flow IAT Std'),\n",
              " (0.002687426245032637, ' Fwd IAT Mean'),\n",
              " (0.0023148789044199055, ' Bwd Packet Length Std'),\n",
              " (0.002310296820081801, ' Bwd IAT Max'),\n",
              " (0.0009942082302186368, 'Fwd PSH Flags'),\n",
              " (0.0009447136259976063, ' Min Packet Length'),\n",
              " (0.0007164949371540597, ' Fwd IAT Min'),\n",
              " (0.0004083371507471582, ' Flow IAT Min'),\n",
              " (0.00026711667249516337, ' Fwd Packet Length Min'),\n",
              " (0.0002063295181371486, ' Idle Std'),\n",
              " (5.602914129849069e-05, 'Subflow Fwd Packets'),\n",
              " (4.5652094976380604e-05, 'Flow Bytes/s'),\n",
              " (3.244287368370988e-05, ' Fwd Header Length.1'),\n",
              " (5.737713813263056e-06, ' Bwd Header Length'),\n",
              " (5.715648609194829e-06, ' Total Fwd Packets'),\n",
              " (4.1357079871984525e-06, ' Subflow Fwd Bytes'),\n",
              " (3.5500174664761235e-06, ' Subflow Bwd Packets'),\n",
              " (1.5054633194367872e-06, ' act_data_pkt_fwd'),\n",
              " (0.0, ' Subflow Bwd Bytes')]"
            ]
          },
          "metadata": {},
          "execution_count": 122
        }
      ]
    },
    {
      "cell_type": "code",
      "metadata": {
        "id": "mJBa8XRkLxSW",
        "colab": {
          "base_uri": "https://localhost:8080/"
        },
        "outputId": "961feedf-0df0-46a3-bf9d-c0622c979306"
      },
      "source": [
        "from sklearn.metrics import accuracy_score,f1_score\n",
        "print(model.score(x_test, y_test))\n",
        "print(accuracy_score(y_test, y_pred))\n",
        "print(f1_score(y_test, y_pred, average='macro'))\n",
        "\n",
        "# 0.9985904770652249\n",
        "# 0.9984774326193281\n",
        "# 0.8667124765500696\n",
        "\n",
        "# 0.9984971073737217\n",
        "# 0.9984140062520334\n",
        "# 0.9004401619867812\n",
        "\n",
        "# After normalization and removal of columns\n",
        "# 0.9964461009660948\n",
        "# 0.9965451150685319\n",
        "# 0.7985818024194927\n"
      ],
      "execution_count": null,
      "outputs": [
        {
          "output_type": "stream",
          "name": "stdout",
          "text": [
            "0.9964461009660948\n",
            "0.9965451150685319\n",
            "0.7985818024194927\n"
          ]
        }
      ]
    },
    {
      "cell_type": "code",
      "metadata": {
        "id": "WngK0y8xexGR",
        "colab": {
          "base_uri": "https://localhost:8080/",
          "height": 278
        },
        "outputId": "2e251187-916d-4073-f19e-78aba9d33c6f"
      },
      "source": [
        "X.head()"
      ],
      "execution_count": null,
      "outputs": [
        {
          "output_type": "execute_result",
          "data": {
            "text/html": [
              "<div>\n",
              "<style scoped>\n",
              "    .dataframe tbody tr th:only-of-type {\n",
              "        vertical-align: middle;\n",
              "    }\n",
              "\n",
              "    .dataframe tbody tr th {\n",
              "        vertical-align: top;\n",
              "    }\n",
              "\n",
              "    .dataframe thead th {\n",
              "        text-align: right;\n",
              "    }\n",
              "</style>\n",
              "<table border=\"1\" class=\"dataframe\">\n",
              "  <thead>\n",
              "    <tr style=\"text-align: right;\">\n",
              "      <th></th>\n",
              "      <th>Destination Port</th>\n",
              "      <th>Flow Duration</th>\n",
              "      <th>Total Fwd Packets</th>\n",
              "      <th>Total Backward Packets</th>\n",
              "      <th>Total Length of Fwd Packets</th>\n",
              "      <th>Fwd Packet Length Max</th>\n",
              "      <th>Fwd Packet Length Min</th>\n",
              "      <th>Fwd Packet Length Mean</th>\n",
              "      <th>Fwd Packet Length Std</th>\n",
              "      <th>Bwd Packet Length Max</th>\n",
              "      <th>Bwd Packet Length Min</th>\n",
              "      <th>Bwd Packet Length Mean</th>\n",
              "      <th>Bwd Packet Length Std</th>\n",
              "      <th>Flow Bytes/s</th>\n",
              "      <th>Flow Packets/s</th>\n",
              "      <th>Flow IAT Mean</th>\n",
              "      <th>Flow IAT Std</th>\n",
              "      <th>Flow IAT Max</th>\n",
              "      <th>Flow IAT Min</th>\n",
              "      <th>Fwd IAT Total</th>\n",
              "      <th>Fwd IAT Mean</th>\n",
              "      <th>Fwd IAT Std</th>\n",
              "      <th>Fwd IAT Max</th>\n",
              "      <th>Fwd IAT Min</th>\n",
              "      <th>Bwd IAT Total</th>\n",
              "      <th>Bwd IAT Max</th>\n",
              "      <th>Fwd PSH Flags</th>\n",
              "      <th>Fwd Header Length</th>\n",
              "      <th>Bwd Header Length</th>\n",
              "      <th>Fwd Packets/s</th>\n",
              "      <th>Min Packet Length</th>\n",
              "      <th>Max Packet Length</th>\n",
              "      <th>Packet Length Mean</th>\n",
              "      <th>Packet Length Std</th>\n",
              "      <th>Packet Length Variance</th>\n",
              "      <th>FIN Flag Count</th>\n",
              "      <th>PSH Flag Count</th>\n",
              "      <th>ACK Flag Count</th>\n",
              "      <th>URG Flag Count</th>\n",
              "      <th>Average Packet Size</th>\n",
              "      <th>Avg Fwd Segment Size</th>\n",
              "      <th>Avg Bwd Segment Size</th>\n",
              "      <th>Fwd Header Length.1</th>\n",
              "      <th>Subflow Fwd Packets</th>\n",
              "      <th>Subflow Fwd Bytes</th>\n",
              "      <th>Subflow Bwd Packets</th>\n",
              "      <th>Subflow Bwd Bytes</th>\n",
              "      <th>Init_Win_bytes_forward</th>\n",
              "      <th>Init_Win_bytes_backward</th>\n",
              "      <th>act_data_pkt_fwd</th>\n",
              "      <th>min_seg_size_forward</th>\n",
              "      <th>Idle Mean</th>\n",
              "      <th>Idle Std</th>\n",
              "      <th>Idle Max</th>\n",
              "      <th>Idle Min</th>\n",
              "    </tr>\n",
              "  </thead>\n",
              "  <tbody>\n",
              "    <tr>\n",
              "      <th>0</th>\n",
              "      <td>83.718624</td>\n",
              "      <td>0.000013</td>\n",
              "      <td>2</td>\n",
              "      <td>0</td>\n",
              "      <td>12</td>\n",
              "      <td>6</td>\n",
              "      <td>6</td>\n",
              "      <td>6.0</td>\n",
              "      <td>0.0</td>\n",
              "      <td>0</td>\n",
              "      <td>0</td>\n",
              "      <td>0.0</td>\n",
              "      <td>0.0</td>\n",
              "      <td>11.363636</td>\n",
              "      <td>44.444443</td>\n",
              "      <td>0.000013</td>\n",
              "      <td>0.0</td>\n",
              "      <td>0</td>\n",
              "      <td>0</td>\n",
              "      <td>0.0</td>\n",
              "      <td>0.000002</td>\n",
              "      <td>0.0</td>\n",
              "      <td>3</td>\n",
              "      <td>0.000012</td>\n",
              "      <td>0</td>\n",
              "      <td>0</td>\n",
              "      <td>0</td>\n",
              "      <td>40</td>\n",
              "      <td>99.459190</td>\n",
              "      <td>22.222221</td>\n",
              "      <td>6</td>\n",
              "      <td>6</td>\n",
              "      <td>6.0</td>\n",
              "      <td>0.0</td>\n",
              "      <td>0.0</td>\n",
              "      <td>0</td>\n",
              "      <td>0</td>\n",
              "      <td>1</td>\n",
              "      <td>0</td>\n",
              "      <td>9.0</td>\n",
              "      <td>6.0</td>\n",
              "      <td>0.0</td>\n",
              "      <td>99.98558</td>\n",
              "      <td>2</td>\n",
              "      <td>12</td>\n",
              "      <td>0</td>\n",
              "      <td>0.000000e+00</td>\n",
              "      <td>0.051880</td>\n",
              "      <td>0.000000</td>\n",
              "      <td>1</td>\n",
              "      <td>99.999977</td>\n",
              "      <td>0.0</td>\n",
              "      <td>0.0</td>\n",
              "      <td>0</td>\n",
              "      <td>0</td>\n",
              "    </tr>\n",
              "    <tr>\n",
              "      <th>1</th>\n",
              "      <td>84.007019</td>\n",
              "      <td>0.000102</td>\n",
              "      <td>1</td>\n",
              "      <td>1</td>\n",
              "      <td>6</td>\n",
              "      <td>6</td>\n",
              "      <td>6</td>\n",
              "      <td>6.0</td>\n",
              "      <td>0.0</td>\n",
              "      <td>6</td>\n",
              "      <td>6</td>\n",
              "      <td>6.0</td>\n",
              "      <td>0.0</td>\n",
              "      <td>11.196831</td>\n",
              "      <td>33.639145</td>\n",
              "      <td>0.000102</td>\n",
              "      <td>0.0</td>\n",
              "      <td>0</td>\n",
              "      <td>0</td>\n",
              "      <td>0.0</td>\n",
              "      <td>0.000000</td>\n",
              "      <td>0.0</td>\n",
              "      <td>0</td>\n",
              "      <td>0.000010</td>\n",
              "      <td>0</td>\n",
              "      <td>0</td>\n",
              "      <td>0</td>\n",
              "      <td>20</td>\n",
              "      <td>99.459198</td>\n",
              "      <td>0.305810</td>\n",
              "      <td>6</td>\n",
              "      <td>6</td>\n",
              "      <td>6.0</td>\n",
              "      <td>0.0</td>\n",
              "      <td>0.0</td>\n",
              "      <td>0</td>\n",
              "      <td>0</td>\n",
              "      <td>1</td>\n",
              "      <td>1</td>\n",
              "      <td>9.0</td>\n",
              "      <td>6.0</td>\n",
              "      <td>6.0</td>\n",
              "      <td>99.98558</td>\n",
              "      <td>1</td>\n",
              "      <td>6</td>\n",
              "      <td>1</td>\n",
              "      <td>9.153974e-07</td>\n",
              "      <td>0.045776</td>\n",
              "      <td>0.392151</td>\n",
              "      <td>0</td>\n",
              "      <td>99.999977</td>\n",
              "      <td>0.0</td>\n",
              "      <td>0.0</td>\n",
              "      <td>0</td>\n",
              "      <td>0</td>\n",
              "    </tr>\n",
              "    <tr>\n",
              "      <th>2</th>\n",
              "      <td>84.008545</td>\n",
              "      <td>0.000054</td>\n",
              "      <td>1</td>\n",
              "      <td>1</td>\n",
              "      <td>6</td>\n",
              "      <td>6</td>\n",
              "      <td>6</td>\n",
              "      <td>6.0</td>\n",
              "      <td>0.0</td>\n",
              "      <td>6</td>\n",
              "      <td>6</td>\n",
              "      <td>6.0</td>\n",
              "      <td>0.0</td>\n",
              "      <td>11.202005</td>\n",
              "      <td>33.974358</td>\n",
              "      <td>0.000054</td>\n",
              "      <td>0.0</td>\n",
              "      <td>0</td>\n",
              "      <td>0</td>\n",
              "      <td>0.0</td>\n",
              "      <td>0.000000</td>\n",
              "      <td>0.0</td>\n",
              "      <td>0</td>\n",
              "      <td>0.000010</td>\n",
              "      <td>0</td>\n",
              "      <td>0</td>\n",
              "      <td>0</td>\n",
              "      <td>20</td>\n",
              "      <td>99.459198</td>\n",
              "      <td>0.641026</td>\n",
              "      <td>6</td>\n",
              "      <td>6</td>\n",
              "      <td>6.0</td>\n",
              "      <td>0.0</td>\n",
              "      <td>0.0</td>\n",
              "      <td>0</td>\n",
              "      <td>0</td>\n",
              "      <td>1</td>\n",
              "      <td>1</td>\n",
              "      <td>9.0</td>\n",
              "      <td>6.0</td>\n",
              "      <td>6.0</td>\n",
              "      <td>99.98558</td>\n",
              "      <td>1</td>\n",
              "      <td>6</td>\n",
              "      <td>1</td>\n",
              "      <td>9.153974e-07</td>\n",
              "      <td>0.045776</td>\n",
              "      <td>0.392151</td>\n",
              "      <td>0</td>\n",
              "      <td>99.999977</td>\n",
              "      <td>0.0</td>\n",
              "      <td>0.0</td>\n",
              "      <td>0</td>\n",
              "      <td>0</td>\n",
              "    </tr>\n",
              "    <tr>\n",
              "      <th>3</th>\n",
              "      <td>70.551614</td>\n",
              "      <td>0.000039</td>\n",
              "      <td>1</td>\n",
              "      <td>1</td>\n",
              "      <td>6</td>\n",
              "      <td>6</td>\n",
              "      <td>6</td>\n",
              "      <td>6.0</td>\n",
              "      <td>0.0</td>\n",
              "      <td>6</td>\n",
              "      <td>6</td>\n",
              "      <td>6.0</td>\n",
              "      <td>0.0</td>\n",
              "      <td>11.207245</td>\n",
              "      <td>34.313725</td>\n",
              "      <td>0.000039</td>\n",
              "      <td>0.0</td>\n",
              "      <td>0</td>\n",
              "      <td>0</td>\n",
              "      <td>0.0</td>\n",
              "      <td>0.000000</td>\n",
              "      <td>0.0</td>\n",
              "      <td>0</td>\n",
              "      <td>0.000010</td>\n",
              "      <td>0</td>\n",
              "      <td>0</td>\n",
              "      <td>0</td>\n",
              "      <td>20</td>\n",
              "      <td>99.459198</td>\n",
              "      <td>0.980392</td>\n",
              "      <td>6</td>\n",
              "      <td>6</td>\n",
              "      <td>6.0</td>\n",
              "      <td>0.0</td>\n",
              "      <td>0.0</td>\n",
              "      <td>0</td>\n",
              "      <td>0</td>\n",
              "      <td>1</td>\n",
              "      <td>1</td>\n",
              "      <td>9.0</td>\n",
              "      <td>6.0</td>\n",
              "      <td>6.0</td>\n",
              "      <td>99.98558</td>\n",
              "      <td>1</td>\n",
              "      <td>6</td>\n",
              "      <td>1</td>\n",
              "      <td>9.153974e-07</td>\n",
              "      <td>0.048828</td>\n",
              "      <td>0.503540</td>\n",
              "      <td>0</td>\n",
              "      <td>99.999977</td>\n",
              "      <td>0.0</td>\n",
              "      <td>0.0</td>\n",
              "      <td>0</td>\n",
              "      <td>0</td>\n",
              "    </tr>\n",
              "    <tr>\n",
              "      <th>4</th>\n",
              "      <td>83.715572</td>\n",
              "      <td>0.000013</td>\n",
              "      <td>2</td>\n",
              "      <td>0</td>\n",
              "      <td>12</td>\n",
              "      <td>6</td>\n",
              "      <td>6</td>\n",
              "      <td>6.0</td>\n",
              "      <td>0.0</td>\n",
              "      <td>0</td>\n",
              "      <td>0</td>\n",
              "      <td>0.0</td>\n",
              "      <td>0.0</td>\n",
              "      <td>11.363636</td>\n",
              "      <td>44.444443</td>\n",
              "      <td>0.000013</td>\n",
              "      <td>0.0</td>\n",
              "      <td>0</td>\n",
              "      <td>0</td>\n",
              "      <td>0.0</td>\n",
              "      <td>0.000002</td>\n",
              "      <td>0.0</td>\n",
              "      <td>3</td>\n",
              "      <td>0.000012</td>\n",
              "      <td>0</td>\n",
              "      <td>0</td>\n",
              "      <td>0</td>\n",
              "      <td>40</td>\n",
              "      <td>99.459190</td>\n",
              "      <td>22.222221</td>\n",
              "      <td>6</td>\n",
              "      <td>6</td>\n",
              "      <td>6.0</td>\n",
              "      <td>0.0</td>\n",
              "      <td>0.0</td>\n",
              "      <td>0</td>\n",
              "      <td>0</td>\n",
              "      <td>1</td>\n",
              "      <td>0</td>\n",
              "      <td>9.0</td>\n",
              "      <td>6.0</td>\n",
              "      <td>0.0</td>\n",
              "      <td>99.98558</td>\n",
              "      <td>2</td>\n",
              "      <td>12</td>\n",
              "      <td>0</td>\n",
              "      <td>0.000000e+00</td>\n",
              "      <td>0.050354</td>\n",
              "      <td>0.000000</td>\n",
              "      <td>1</td>\n",
              "      <td>99.999977</td>\n",
              "      <td>0.0</td>\n",
              "      <td>0.0</td>\n",
              "      <td>0</td>\n",
              "      <td>0</td>\n",
              "    </tr>\n",
              "  </tbody>\n",
              "</table>\n",
              "</div>"
            ],
            "text/plain": [
              "    Destination Port   Flow Duration  ...   Idle Max   Idle Min\n",
              "0          83.718624        0.000013  ...          0          0\n",
              "1          84.007019        0.000102  ...          0          0\n",
              "2          84.008545        0.000054  ...          0          0\n",
              "3          70.551614        0.000039  ...          0          0\n",
              "4          83.715572        0.000013  ...          0          0\n",
              "\n",
              "[5 rows x 55 columns]"
            ]
          },
          "metadata": {},
          "execution_count": 165
        }
      ]
    },
    {
      "cell_type": "code",
      "metadata": {
        "id": "wRVunOVrexOL"
      },
      "source": [
        ""
      ],
      "execution_count": null,
      "outputs": []
    },
    {
      "cell_type": "code",
      "metadata": {
        "id": "mO4AjVATexRb"
      },
      "source": [
        ""
      ],
      "execution_count": null,
      "outputs": []
    },
    {
      "cell_type": "code",
      "metadata": {
        "id": "TPKS4GPIexXa"
      },
      "source": [
        ""
      ],
      "execution_count": null,
      "outputs": []
    },
    {
      "cell_type": "code",
      "metadata": {
        "id": "MnOfNUpkexZ7"
      },
      "source": [
        ""
      ],
      "execution_count": null,
      "outputs": []
    },
    {
      "cell_type": "code",
      "metadata": {
        "id": "u6DBT0GYLxO5",
        "colab": {
          "base_uri": "https://localhost:8080/"
        },
        "outputId": "a5cea972-c2f0-4a26-daf1-df659898fbe0"
      },
      "source": [
        "df.columns"
      ],
      "execution_count": null,
      "outputs": [
        {
          "output_type": "execute_result",
          "data": {
            "text/plain": [
              "Index([' Destination Port', ' Flow Duration', ' Total Fwd Packets',\n",
              "       ' Total Backward Packets', 'Total Length of Fwd Packets',\n",
              "       ' Total Length of Bwd Packets', ' Fwd Packet Length Max',\n",
              "       ' Fwd Packet Length Min', ' Fwd Packet Length Mean',\n",
              "       ' Fwd Packet Length Std', 'Bwd Packet Length Max',\n",
              "       ' Bwd Packet Length Min', ' Bwd Packet Length Mean',\n",
              "       ' Bwd Packet Length Std', 'Flow Bytes/s', ' Flow Packets/s',\n",
              "       ' Flow IAT Mean', ' Flow IAT Std', ' Flow IAT Max', ' Flow IAT Min',\n",
              "       'Fwd IAT Total', ' Fwd IAT Mean', ' Fwd IAT Std', ' Fwd IAT Max',\n",
              "       ' Fwd IAT Min', 'Bwd IAT Total', ' Bwd IAT Mean', ' Bwd IAT Std',\n",
              "       ' Bwd IAT Max', ' Bwd IAT Min', 'Fwd PSH Flags', ' Bwd PSH Flags',\n",
              "       ' Fwd URG Flags', ' Bwd URG Flags', ' Fwd Header Length',\n",
              "       ' Bwd Header Length', 'Fwd Packets/s', ' Bwd Packets/s',\n",
              "       ' Min Packet Length', ' Max Packet Length', ' Packet Length Mean',\n",
              "       ' Packet Length Std', ' Packet Length Variance', 'FIN Flag Count',\n",
              "       ' SYN Flag Count', ' RST Flag Count', ' PSH Flag Count',\n",
              "       ' ACK Flag Count', ' URG Flag Count', ' CWE Flag Count',\n",
              "       ' ECE Flag Count', ' Down/Up Ratio', ' Average Packet Size',\n",
              "       ' Avg Fwd Segment Size', ' Avg Bwd Segment Size',\n",
              "       ' Fwd Header Length.1', 'Fwd Avg Bytes/Bulk', ' Fwd Avg Packets/Bulk',\n",
              "       ' Fwd Avg Bulk Rate', ' Bwd Avg Bytes/Bulk', ' Bwd Avg Packets/Bulk',\n",
              "       'Bwd Avg Bulk Rate', 'Subflow Fwd Packets', ' Subflow Fwd Bytes',\n",
              "       ' Subflow Bwd Packets', ' Subflow Bwd Bytes', 'Init_Win_bytes_forward',\n",
              "       ' Init_Win_bytes_backward', ' act_data_pkt_fwd',\n",
              "       ' min_seg_size_forward', 'Active Mean', ' Active Std', ' Active Max',\n",
              "       ' Active Min', 'Idle Mean', ' Idle Std', ' Idle Max', ' Idle Min',\n",
              "       ' Label'],\n",
              "      dtype='object')"
            ]
          },
          "metadata": {},
          "execution_count": 8
        }
      ]
    },
    {
      "cell_type": "code",
      "metadata": {
        "id": "ijZu4CDJLw_A",
        "colab": {
          "base_uri": "https://localhost:8080/"
        },
        "outputId": "024c80a8-c488-4e11-9f62-7cae3a42a8b8"
      },
      "source": [
        "type(X[' ACK Flag Count'][0])"
      ],
      "execution_count": null,
      "outputs": [
        {
          "output_type": "execute_result",
          "data": {
            "text/plain": [
              "numpy.uint8"
            ]
          },
          "metadata": {},
          "execution_count": 148
        }
      ]
    },
    {
      "cell_type": "code",
      "metadata": {
        "colab": {
          "base_uri": "https://localhost:8080/"
        },
        "id": "mkwmhPLbE5dG",
        "outputId": "5063f568-1d24-4364-adda-b70a355f1b20"
      },
      "source": [
        "l = X.values\n",
        "len(l)"
      ],
      "execution_count": null,
      "outputs": [
        {
          "output_type": "execute_result",
          "data": {
            "text/plain": [
              "2827876"
            ]
          },
          "metadata": {},
          "execution_count": 128
        }
      ]
    },
    {
      "cell_type": "code",
      "metadata": {
        "colab": {
          "base_uri": "https://localhost:8080/"
        },
        "id": "ROx-tyH6cL6D",
        "outputId": "5b6344e3-4146-40b5-f1e9-1c4f71db1bb8"
      },
      "source": [
        "target"
      ],
      "execution_count": null,
      "outputs": [
        {
          "output_type": "execute_result",
          "data": {
            "text/plain": [
              "0          BENIGN\n",
              "1          BENIGN\n",
              "2          BENIGN\n",
              "3          BENIGN\n",
              "4          BENIGN\n",
              "            ...  \n",
              "2830738    BENIGN\n",
              "2830739    BENIGN\n",
              "2830740    BENIGN\n",
              "2830741    BENIGN\n",
              "2830742    BENIGN\n",
              "Name:  Label, Length: 2827876, dtype: object"
            ]
          },
          "metadata": {},
          "execution_count": 125
        }
      ]
    },
    {
      "cell_type": "code",
      "metadata": {
        "colab": {
          "base_uri": "https://localhost:8080/",
          "height": 35
        },
        "id": "IRmNqthRdgHE",
        "outputId": "519594e4-3417-4942-a014-8f4c1aea2a1b"
      },
      "source": [
        "# string\n",
        "# df.new_col = string\n",
        "len(ll[3])\n",
        "ll[1]"
      ],
      "execution_count": null,
      "outputs": [
        {
          "output_type": "execute_result",
          "data": {
            "application/vnd.google.colaboratory.intrinsic+json": {
              "type": "string"
            },
            "text/plain": [
              "'1091550541091166666.00.0666.00.0110091.743118348.62385109.00.010910900.00.00000.00.0000020209174.3119269999999174.311926999999666.00.00.0001119.06.06.0201616292560200.00.0000.00.000'"
            ]
          },
          "metadata": {},
          "execution_count": 16
        }
      ]
    },
    {
      "cell_type": "code",
      "metadata": {
        "colab": {
          "base_uri": "https://localhost:8080/",
          "height": 278
        },
        "id": "tEJcTnZThhYp",
        "outputId": "bcf57146-0327-4fd2-af31-b5925866030b"
      },
      "source": [
        "df.head(5)"
      ],
      "execution_count": null,
      "outputs": [
        {
          "output_type": "execute_result",
          "data": {
            "text/html": [
              "<div>\n",
              "<style scoped>\n",
              "    .dataframe tbody tr th:only-of-type {\n",
              "        vertical-align: middle;\n",
              "    }\n",
              "\n",
              "    .dataframe tbody tr th {\n",
              "        vertical-align: top;\n",
              "    }\n",
              "\n",
              "    .dataframe thead th {\n",
              "        text-align: right;\n",
              "    }\n",
              "</style>\n",
              "<table border=\"1\" class=\"dataframe\">\n",
              "  <thead>\n",
              "    <tr style=\"text-align: right;\">\n",
              "      <th></th>\n",
              "      <th>Destination Port</th>\n",
              "      <th>Flow Duration</th>\n",
              "      <th>Total Fwd Packets</th>\n",
              "      <th>Total Backward Packets</th>\n",
              "      <th>Total Length of Fwd Packets</th>\n",
              "      <th>Total Length of Bwd Packets</th>\n",
              "      <th>Fwd Packet Length Max</th>\n",
              "      <th>Fwd Packet Length Min</th>\n",
              "      <th>Fwd Packet Length Mean</th>\n",
              "      <th>Fwd Packet Length Std</th>\n",
              "      <th>Bwd Packet Length Max</th>\n",
              "      <th>Bwd Packet Length Min</th>\n",
              "      <th>Bwd Packet Length Mean</th>\n",
              "      <th>Bwd Packet Length Std</th>\n",
              "      <th>Flow Bytes/s</th>\n",
              "      <th>Flow Packets/s</th>\n",
              "      <th>Flow IAT Mean</th>\n",
              "      <th>Flow IAT Std</th>\n",
              "      <th>Flow IAT Max</th>\n",
              "      <th>Flow IAT Min</th>\n",
              "      <th>Fwd IAT Total</th>\n",
              "      <th>Fwd IAT Mean</th>\n",
              "      <th>Fwd IAT Std</th>\n",
              "      <th>Fwd IAT Max</th>\n",
              "      <th>Fwd IAT Min</th>\n",
              "      <th>Bwd IAT Total</th>\n",
              "      <th>Bwd IAT Mean</th>\n",
              "      <th>Bwd IAT Std</th>\n",
              "      <th>Bwd IAT Max</th>\n",
              "      <th>Bwd IAT Min</th>\n",
              "      <th>Fwd PSH Flags</th>\n",
              "      <th>Fwd URG Flags</th>\n",
              "      <th>Fwd Header Length</th>\n",
              "      <th>Bwd Header Length</th>\n",
              "      <th>Fwd Packets/s</th>\n",
              "      <th>Bwd Packets/s</th>\n",
              "      <th>Min Packet Length</th>\n",
              "      <th>Max Packet Length</th>\n",
              "      <th>Packet Length Mean</th>\n",
              "      <th>Packet Length Std</th>\n",
              "      <th>Packet Length Variance</th>\n",
              "      <th>FIN Flag Count</th>\n",
              "      <th>PSH Flag Count</th>\n",
              "      <th>ACK Flag Count</th>\n",
              "      <th>URG Flag Count</th>\n",
              "      <th>Down/Up Ratio</th>\n",
              "      <th>Average Packet Size</th>\n",
              "      <th>Avg Fwd Segment Size</th>\n",
              "      <th>Avg Bwd Segment Size</th>\n",
              "      <th>Fwd Header Length.1</th>\n",
              "      <th>Subflow Fwd Packets</th>\n",
              "      <th>Subflow Fwd Bytes</th>\n",
              "      <th>Subflow Bwd Packets</th>\n",
              "      <th>Subflow Bwd Bytes</th>\n",
              "      <th>Init_Win_bytes_forward</th>\n",
              "      <th>Init_Win_bytes_backward</th>\n",
              "      <th>act_data_pkt_fwd</th>\n",
              "      <th>min_seg_size_forward</th>\n",
              "      <th>Active Mean</th>\n",
              "      <th>Active Std</th>\n",
              "      <th>Active Max</th>\n",
              "      <th>Active Min</th>\n",
              "      <th>Idle Mean</th>\n",
              "      <th>Idle Std</th>\n",
              "      <th>Idle Max</th>\n",
              "      <th>Idle Min</th>\n",
              "      <th>Label</th>\n",
              "    </tr>\n",
              "  </thead>\n",
              "  <tbody>\n",
              "    <tr>\n",
              "      <th>0</th>\n",
              "      <td>54865</td>\n",
              "      <td>3</td>\n",
              "      <td>2</td>\n",
              "      <td>0</td>\n",
              "      <td>12</td>\n",
              "      <td>0</td>\n",
              "      <td>6</td>\n",
              "      <td>6</td>\n",
              "      <td>6.0</td>\n",
              "      <td>0.0</td>\n",
              "      <td>0</td>\n",
              "      <td>0</td>\n",
              "      <td>0.0</td>\n",
              "      <td>0.0</td>\n",
              "      <td>4.000000e+06</td>\n",
              "      <td>666666.66670</td>\n",
              "      <td>3.0</td>\n",
              "      <td>0.0</td>\n",
              "      <td>3</td>\n",
              "      <td>3</td>\n",
              "      <td>3</td>\n",
              "      <td>3.0</td>\n",
              "      <td>0.0</td>\n",
              "      <td>3</td>\n",
              "      <td>3</td>\n",
              "      <td>0</td>\n",
              "      <td>0.0</td>\n",
              "      <td>0.0</td>\n",
              "      <td>0</td>\n",
              "      <td>0</td>\n",
              "      <td>0</td>\n",
              "      <td>0</td>\n",
              "      <td>40</td>\n",
              "      <td>0</td>\n",
              "      <td>666666.666700</td>\n",
              "      <td>0.000000</td>\n",
              "      <td>6</td>\n",
              "      <td>6</td>\n",
              "      <td>6.0</td>\n",
              "      <td>0.0</td>\n",
              "      <td>0.0</td>\n",
              "      <td>0</td>\n",
              "      <td>0</td>\n",
              "      <td>1</td>\n",
              "      <td>0</td>\n",
              "      <td>0</td>\n",
              "      <td>9.0</td>\n",
              "      <td>6.0</td>\n",
              "      <td>0.0</td>\n",
              "      <td>40</td>\n",
              "      <td>2</td>\n",
              "      <td>12</td>\n",
              "      <td>0</td>\n",
              "      <td>0</td>\n",
              "      <td>33</td>\n",
              "      <td>-1</td>\n",
              "      <td>1</td>\n",
              "      <td>20</td>\n",
              "      <td>0.0</td>\n",
              "      <td>0.0</td>\n",
              "      <td>0</td>\n",
              "      <td>0</td>\n",
              "      <td>0.0</td>\n",
              "      <td>0.0</td>\n",
              "      <td>0</td>\n",
              "      <td>0</td>\n",
              "      <td>BENIGN</td>\n",
              "    </tr>\n",
              "    <tr>\n",
              "      <th>1</th>\n",
              "      <td>55054</td>\n",
              "      <td>109</td>\n",
              "      <td>1</td>\n",
              "      <td>1</td>\n",
              "      <td>6</td>\n",
              "      <td>6</td>\n",
              "      <td>6</td>\n",
              "      <td>6</td>\n",
              "      <td>6.0</td>\n",
              "      <td>0.0</td>\n",
              "      <td>6</td>\n",
              "      <td>6</td>\n",
              "      <td>6.0</td>\n",
              "      <td>0.0</td>\n",
              "      <td>1.100917e+05</td>\n",
              "      <td>18348.62385</td>\n",
              "      <td>109.0</td>\n",
              "      <td>0.0</td>\n",
              "      <td>109</td>\n",
              "      <td>109</td>\n",
              "      <td>0</td>\n",
              "      <td>0.0</td>\n",
              "      <td>0.0</td>\n",
              "      <td>0</td>\n",
              "      <td>0</td>\n",
              "      <td>0</td>\n",
              "      <td>0.0</td>\n",
              "      <td>0.0</td>\n",
              "      <td>0</td>\n",
              "      <td>0</td>\n",
              "      <td>0</td>\n",
              "      <td>0</td>\n",
              "      <td>20</td>\n",
              "      <td>20</td>\n",
              "      <td>9174.311927</td>\n",
              "      <td>9174.311927</td>\n",
              "      <td>6</td>\n",
              "      <td>6</td>\n",
              "      <td>6.0</td>\n",
              "      <td>0.0</td>\n",
              "      <td>0.0</td>\n",
              "      <td>0</td>\n",
              "      <td>0</td>\n",
              "      <td>1</td>\n",
              "      <td>1</td>\n",
              "      <td>1</td>\n",
              "      <td>9.0</td>\n",
              "      <td>6.0</td>\n",
              "      <td>6.0</td>\n",
              "      <td>20</td>\n",
              "      <td>1</td>\n",
              "      <td>6</td>\n",
              "      <td>1</td>\n",
              "      <td>6</td>\n",
              "      <td>29</td>\n",
              "      <td>256</td>\n",
              "      <td>0</td>\n",
              "      <td>20</td>\n",
              "      <td>0.0</td>\n",
              "      <td>0.0</td>\n",
              "      <td>0</td>\n",
              "      <td>0</td>\n",
              "      <td>0.0</td>\n",
              "      <td>0.0</td>\n",
              "      <td>0</td>\n",
              "      <td>0</td>\n",
              "      <td>BENIGN</td>\n",
              "    </tr>\n",
              "    <tr>\n",
              "      <th>2</th>\n",
              "      <td>55055</td>\n",
              "      <td>52</td>\n",
              "      <td>1</td>\n",
              "      <td>1</td>\n",
              "      <td>6</td>\n",
              "      <td>6</td>\n",
              "      <td>6</td>\n",
              "      <td>6</td>\n",
              "      <td>6.0</td>\n",
              "      <td>0.0</td>\n",
              "      <td>6</td>\n",
              "      <td>6</td>\n",
              "      <td>6.0</td>\n",
              "      <td>0.0</td>\n",
              "      <td>2.307692e+05</td>\n",
              "      <td>38461.53846</td>\n",
              "      <td>52.0</td>\n",
              "      <td>0.0</td>\n",
              "      <td>52</td>\n",
              "      <td>52</td>\n",
              "      <td>0</td>\n",
              "      <td>0.0</td>\n",
              "      <td>0.0</td>\n",
              "      <td>0</td>\n",
              "      <td>0</td>\n",
              "      <td>0</td>\n",
              "      <td>0.0</td>\n",
              "      <td>0.0</td>\n",
              "      <td>0</td>\n",
              "      <td>0</td>\n",
              "      <td>0</td>\n",
              "      <td>0</td>\n",
              "      <td>20</td>\n",
              "      <td>20</td>\n",
              "      <td>19230.769230</td>\n",
              "      <td>19230.769230</td>\n",
              "      <td>6</td>\n",
              "      <td>6</td>\n",
              "      <td>6.0</td>\n",
              "      <td>0.0</td>\n",
              "      <td>0.0</td>\n",
              "      <td>0</td>\n",
              "      <td>0</td>\n",
              "      <td>1</td>\n",
              "      <td>1</td>\n",
              "      <td>1</td>\n",
              "      <td>9.0</td>\n",
              "      <td>6.0</td>\n",
              "      <td>6.0</td>\n",
              "      <td>20</td>\n",
              "      <td>1</td>\n",
              "      <td>6</td>\n",
              "      <td>1</td>\n",
              "      <td>6</td>\n",
              "      <td>29</td>\n",
              "      <td>256</td>\n",
              "      <td>0</td>\n",
              "      <td>20</td>\n",
              "      <td>0.0</td>\n",
              "      <td>0.0</td>\n",
              "      <td>0</td>\n",
              "      <td>0</td>\n",
              "      <td>0.0</td>\n",
              "      <td>0.0</td>\n",
              "      <td>0</td>\n",
              "      <td>0</td>\n",
              "      <td>BENIGN</td>\n",
              "    </tr>\n",
              "    <tr>\n",
              "      <th>3</th>\n",
              "      <td>46236</td>\n",
              "      <td>34</td>\n",
              "      <td>1</td>\n",
              "      <td>1</td>\n",
              "      <td>6</td>\n",
              "      <td>6</td>\n",
              "      <td>6</td>\n",
              "      <td>6</td>\n",
              "      <td>6.0</td>\n",
              "      <td>0.0</td>\n",
              "      <td>6</td>\n",
              "      <td>6</td>\n",
              "      <td>6.0</td>\n",
              "      <td>0.0</td>\n",
              "      <td>3.529412e+05</td>\n",
              "      <td>58823.52941</td>\n",
              "      <td>34.0</td>\n",
              "      <td>0.0</td>\n",
              "      <td>34</td>\n",
              "      <td>34</td>\n",
              "      <td>0</td>\n",
              "      <td>0.0</td>\n",
              "      <td>0.0</td>\n",
              "      <td>0</td>\n",
              "      <td>0</td>\n",
              "      <td>0</td>\n",
              "      <td>0.0</td>\n",
              "      <td>0.0</td>\n",
              "      <td>0</td>\n",
              "      <td>0</td>\n",
              "      <td>0</td>\n",
              "      <td>0</td>\n",
              "      <td>20</td>\n",
              "      <td>20</td>\n",
              "      <td>29411.764710</td>\n",
              "      <td>29411.764710</td>\n",
              "      <td>6</td>\n",
              "      <td>6</td>\n",
              "      <td>6.0</td>\n",
              "      <td>0.0</td>\n",
              "      <td>0.0</td>\n",
              "      <td>0</td>\n",
              "      <td>0</td>\n",
              "      <td>1</td>\n",
              "      <td>1</td>\n",
              "      <td>1</td>\n",
              "      <td>9.0</td>\n",
              "      <td>6.0</td>\n",
              "      <td>6.0</td>\n",
              "      <td>20</td>\n",
              "      <td>1</td>\n",
              "      <td>6</td>\n",
              "      <td>1</td>\n",
              "      <td>6</td>\n",
              "      <td>31</td>\n",
              "      <td>329</td>\n",
              "      <td>0</td>\n",
              "      <td>20</td>\n",
              "      <td>0.0</td>\n",
              "      <td>0.0</td>\n",
              "      <td>0</td>\n",
              "      <td>0</td>\n",
              "      <td>0.0</td>\n",
              "      <td>0.0</td>\n",
              "      <td>0</td>\n",
              "      <td>0</td>\n",
              "      <td>BENIGN</td>\n",
              "    </tr>\n",
              "    <tr>\n",
              "      <th>4</th>\n",
              "      <td>54863</td>\n",
              "      <td>3</td>\n",
              "      <td>2</td>\n",
              "      <td>0</td>\n",
              "      <td>12</td>\n",
              "      <td>0</td>\n",
              "      <td>6</td>\n",
              "      <td>6</td>\n",
              "      <td>6.0</td>\n",
              "      <td>0.0</td>\n",
              "      <td>0</td>\n",
              "      <td>0</td>\n",
              "      <td>0.0</td>\n",
              "      <td>0.0</td>\n",
              "      <td>4.000000e+06</td>\n",
              "      <td>666666.66670</td>\n",
              "      <td>3.0</td>\n",
              "      <td>0.0</td>\n",
              "      <td>3</td>\n",
              "      <td>3</td>\n",
              "      <td>3</td>\n",
              "      <td>3.0</td>\n",
              "      <td>0.0</td>\n",
              "      <td>3</td>\n",
              "      <td>3</td>\n",
              "      <td>0</td>\n",
              "      <td>0.0</td>\n",
              "      <td>0.0</td>\n",
              "      <td>0</td>\n",
              "      <td>0</td>\n",
              "      <td>0</td>\n",
              "      <td>0</td>\n",
              "      <td>40</td>\n",
              "      <td>0</td>\n",
              "      <td>666666.666700</td>\n",
              "      <td>0.000000</td>\n",
              "      <td>6</td>\n",
              "      <td>6</td>\n",
              "      <td>6.0</td>\n",
              "      <td>0.0</td>\n",
              "      <td>0.0</td>\n",
              "      <td>0</td>\n",
              "      <td>0</td>\n",
              "      <td>1</td>\n",
              "      <td>0</td>\n",
              "      <td>0</td>\n",
              "      <td>9.0</td>\n",
              "      <td>6.0</td>\n",
              "      <td>0.0</td>\n",
              "      <td>40</td>\n",
              "      <td>2</td>\n",
              "      <td>12</td>\n",
              "      <td>0</td>\n",
              "      <td>0</td>\n",
              "      <td>32</td>\n",
              "      <td>-1</td>\n",
              "      <td>1</td>\n",
              "      <td>20</td>\n",
              "      <td>0.0</td>\n",
              "      <td>0.0</td>\n",
              "      <td>0</td>\n",
              "      <td>0</td>\n",
              "      <td>0.0</td>\n",
              "      <td>0.0</td>\n",
              "      <td>0</td>\n",
              "      <td>0</td>\n",
              "      <td>BENIGN</td>\n",
              "    </tr>\n",
              "  </tbody>\n",
              "</table>\n",
              "</div>"
            ],
            "text/plain": [
              "    Destination Port   Flow Duration  ...   Idle Min   Label\n",
              "0              54865               3  ...          0  BENIGN\n",
              "1              55054             109  ...          0  BENIGN\n",
              "2              55055              52  ...          0  BENIGN\n",
              "3              46236              34  ...          0  BENIGN\n",
              "4              54863               3  ...          0  BENIGN\n",
              "\n",
              "[5 rows x 67 columns]"
            ]
          },
          "metadata": {},
          "execution_count": 23
        }
      ]
    },
    {
      "cell_type": "code",
      "metadata": {
        "id": "xqnDRpxEmtNO",
        "colab": {
          "base_uri": "https://localhost:8080/",
          "height": 167
        },
        "outputId": "7dded6d1-1425-40c0-b858-c503fa2c50df"
      },
      "source": [
        ""
      ],
      "execution_count": null,
      "outputs": [
        {
          "output_type": "error",
          "ename": "NameError",
          "evalue": "ignored",
          "traceback": [
            "\u001b[0;31m---------------------------------------------------------------------------\u001b[0m",
            "\u001b[0;31mNameError\u001b[0m                                 Traceback (most recent call last)",
            "\u001b[0;32m<ipython-input-181-b5fec669aca1>\u001b[0m in \u001b[0;36m<module>\u001b[0;34m()\u001b[0m\n\u001b[0;32m----> 1\u001b[0;31m \u001b[0mX\u001b[0m\u001b[0;34m\u001b[0m\u001b[0;34m\u001b[0m\u001b[0m\n\u001b[0m",
            "\u001b[0;31mNameError\u001b[0m: name 'X' is not defined"
          ]
        }
      ]
    },
    {
      "cell_type": "code",
      "metadata": {
        "colab": {
          "base_uri": "https://localhost:8080/",
          "height": 496
        },
        "id": "0odLLxSfKNVU",
        "outputId": "897f7f81-5998-49e0-8121-e483ae254df8"
      },
      "source": [
        "X.sample(1000)"
      ],
      "execution_count": null,
      "outputs": [
        {
          "output_type": "execute_result",
          "data": {
            "text/html": [
              "<div>\n",
              "<style scoped>\n",
              "    .dataframe tbody tr th:only-of-type {\n",
              "        vertical-align: middle;\n",
              "    }\n",
              "\n",
              "    .dataframe tbody tr th {\n",
              "        vertical-align: top;\n",
              "    }\n",
              "\n",
              "    .dataframe thead th {\n",
              "        text-align: right;\n",
              "    }\n",
              "</style>\n",
              "<table border=\"1\" class=\"dataframe\">\n",
              "  <thead>\n",
              "    <tr style=\"text-align: right;\">\n",
              "      <th></th>\n",
              "      <th>Destination Port</th>\n",
              "      <th>Flow Duration</th>\n",
              "      <th>Total Fwd Packets</th>\n",
              "      <th>Total Backward Packets</th>\n",
              "      <th>Total Length of Fwd Packets</th>\n",
              "      <th>Fwd Packet Length Max</th>\n",
              "      <th>Fwd Packet Length Min</th>\n",
              "      <th>Fwd Packet Length Mean</th>\n",
              "      <th>Fwd Packet Length Std</th>\n",
              "      <th>Bwd Packet Length Max</th>\n",
              "      <th>Bwd Packet Length Min</th>\n",
              "      <th>Bwd Packet Length Mean</th>\n",
              "      <th>Bwd Packet Length Std</th>\n",
              "      <th>Flow Bytes/s</th>\n",
              "      <th>Flow Packets/s</th>\n",
              "      <th>Flow IAT Mean</th>\n",
              "      <th>Flow IAT Std</th>\n",
              "      <th>Flow IAT Max</th>\n",
              "      <th>Flow IAT Min</th>\n",
              "      <th>Fwd IAT Total</th>\n",
              "      <th>Fwd IAT Mean</th>\n",
              "      <th>Fwd IAT Std</th>\n",
              "      <th>Fwd IAT Max</th>\n",
              "      <th>Fwd IAT Min</th>\n",
              "      <th>Bwd IAT Total</th>\n",
              "      <th>Bwd IAT Max</th>\n",
              "      <th>Fwd PSH Flags</th>\n",
              "      <th>Fwd Header Length</th>\n",
              "      <th>Bwd Header Length</th>\n",
              "      <th>Fwd Packets/s</th>\n",
              "      <th>Min Packet Length</th>\n",
              "      <th>Max Packet Length</th>\n",
              "      <th>Packet Length Mean</th>\n",
              "      <th>Packet Length Std</th>\n",
              "      <th>Packet Length Variance</th>\n",
              "      <th>FIN Flag Count</th>\n",
              "      <th>PSH Flag Count</th>\n",
              "      <th>ACK Flag Count</th>\n",
              "      <th>URG Flag Count</th>\n",
              "      <th>Average Packet Size</th>\n",
              "      <th>Avg Fwd Segment Size</th>\n",
              "      <th>Avg Bwd Segment Size</th>\n",
              "      <th>Fwd Header Length.1</th>\n",
              "      <th>Subflow Fwd Packets</th>\n",
              "      <th>Subflow Fwd Bytes</th>\n",
              "      <th>Subflow Bwd Packets</th>\n",
              "      <th>Subflow Bwd Bytes</th>\n",
              "      <th>Init_Win_bytes_forward</th>\n",
              "      <th>Init_Win_bytes_backward</th>\n",
              "      <th>act_data_pkt_fwd</th>\n",
              "      <th>min_seg_size_forward</th>\n",
              "      <th>Idle Mean</th>\n",
              "      <th>Idle Std</th>\n",
              "      <th>Idle Max</th>\n",
              "      <th>Idle Min</th>\n",
              "    </tr>\n",
              "  </thead>\n",
              "  <tbody>\n",
              "    <tr>\n",
              "      <th>1336925</th>\n",
              "      <td>192</td>\n",
              "      <td>0</td>\n",
              "      <td>0</td>\n",
              "      <td>1</td>\n",
              "      <td>6</td>\n",
              "      <td>0</td>\n",
              "      <td>0</td>\n",
              "      <td>0</td>\n",
              "      <td>0</td>\n",
              "      <td>0</td>\n",
              "      <td>0</td>\n",
              "      <td>0</td>\n",
              "      <td>0</td>\n",
              "      <td>38</td>\n",
              "      <td>87</td>\n",
              "      <td>0</td>\n",
              "      <td>0</td>\n",
              "      <td>0</td>\n",
              "      <td>0</td>\n",
              "      <td>0</td>\n",
              "      <td>0</td>\n",
              "      <td>0</td>\n",
              "      <td>0</td>\n",
              "      <td>0</td>\n",
              "      <td>0</td>\n",
              "      <td>0</td>\n",
              "      <td>0</td>\n",
              "      <td>20</td>\n",
              "      <td>48</td>\n",
              "      <td>2</td>\n",
              "      <td>1</td>\n",
              "      <td>0</td>\n",
              "      <td>0</td>\n",
              "      <td>0</td>\n",
              "      <td>0</td>\n",
              "      <td>0</td>\n",
              "      <td>0</td>\n",
              "      <td>1</td>\n",
              "      <td>1</td>\n",
              "      <td>9</td>\n",
              "      <td>6</td>\n",
              "      <td>6.000000</td>\n",
              "      <td>221</td>\n",
              "      <td>0</td>\n",
              "      <td>0</td>\n",
              "      <td>0</td>\n",
              "      <td>0</td>\n",
              "      <td>3</td>\n",
              "      <td>0</td>\n",
              "      <td>0</td>\n",
              "      <td>129</td>\n",
              "      <td>0</td>\n",
              "      <td>0</td>\n",
              "      <td>0</td>\n",
              "      <td>0</td>\n",
              "    </tr>\n",
              "    <tr>\n",
              "      <th>2042665</th>\n",
              "      <td>0</td>\n",
              "      <td>0</td>\n",
              "      <td>0</td>\n",
              "      <td>2</td>\n",
              "      <td>68</td>\n",
              "      <td>0</td>\n",
              "      <td>3</td>\n",
              "      <td>1</td>\n",
              "      <td>0</td>\n",
              "      <td>0</td>\n",
              "      <td>5</td>\n",
              "      <td>2</td>\n",
              "      <td>0</td>\n",
              "      <td>38</td>\n",
              "      <td>85</td>\n",
              "      <td>0</td>\n",
              "      <td>0</td>\n",
              "      <td>0</td>\n",
              "      <td>0</td>\n",
              "      <td>0</td>\n",
              "      <td>0</td>\n",
              "      <td>0</td>\n",
              "      <td>2</td>\n",
              "      <td>0</td>\n",
              "      <td>0</td>\n",
              "      <td>47</td>\n",
              "      <td>0</td>\n",
              "      <td>64</td>\n",
              "      <td>48</td>\n",
              "      <td>0</td>\n",
              "      <td>5</td>\n",
              "      <td>0</td>\n",
              "      <td>3</td>\n",
              "      <td>0</td>\n",
              "      <td>0</td>\n",
              "      <td>0</td>\n",
              "      <td>0</td>\n",
              "      <td>0</td>\n",
              "      <td>0</td>\n",
              "      <td>58</td>\n",
              "      <td>34</td>\n",
              "      <td>66.000000</td>\n",
              "      <td>221</td>\n",
              "      <td>0</td>\n",
              "      <td>0</td>\n",
              "      <td>0</td>\n",
              "      <td>0</td>\n",
              "      <td>0</td>\n",
              "      <td>0</td>\n",
              "      <td>0</td>\n",
              "      <td>151</td>\n",
              "      <td>0</td>\n",
              "      <td>0</td>\n",
              "      <td>0</td>\n",
              "      <td>0</td>\n",
              "    </tr>\n",
              "    <tr>\n",
              "      <th>539568</th>\n",
              "      <td>1</td>\n",
              "      <td>0</td>\n",
              "      <td>0</td>\n",
              "      <td>0</td>\n",
              "      <td>12</td>\n",
              "      <td>0</td>\n",
              "      <td>0</td>\n",
              "      <td>0</td>\n",
              "      <td>0</td>\n",
              "      <td>0</td>\n",
              "      <td>0</td>\n",
              "      <td>0</td>\n",
              "      <td>0</td>\n",
              "      <td>38</td>\n",
              "      <td>85</td>\n",
              "      <td>0</td>\n",
              "      <td>0</td>\n",
              "      <td>0</td>\n",
              "      <td>0</td>\n",
              "      <td>0</td>\n",
              "      <td>0</td>\n",
              "      <td>0</td>\n",
              "      <td>71</td>\n",
              "      <td>0</td>\n",
              "      <td>0</td>\n",
              "      <td>0</td>\n",
              "      <td>0</td>\n",
              "      <td>40</td>\n",
              "      <td>48</td>\n",
              "      <td>0</td>\n",
              "      <td>1</td>\n",
              "      <td>0</td>\n",
              "      <td>0</td>\n",
              "      <td>0</td>\n",
              "      <td>0</td>\n",
              "      <td>0</td>\n",
              "      <td>0</td>\n",
              "      <td>1</td>\n",
              "      <td>0</td>\n",
              "      <td>9</td>\n",
              "      <td>6</td>\n",
              "      <td>0.000000</td>\n",
              "      <td>221</td>\n",
              "      <td>0</td>\n",
              "      <td>0</td>\n",
              "      <td>0</td>\n",
              "      <td>0</td>\n",
              "      <td>1</td>\n",
              "      <td>0</td>\n",
              "      <td>0</td>\n",
              "      <td>129</td>\n",
              "      <td>0</td>\n",
              "      <td>0</td>\n",
              "      <td>0</td>\n",
              "      <td>0</td>\n",
              "    </tr>\n",
              "    <tr>\n",
              "      <th>509350</th>\n",
              "      <td>1</td>\n",
              "      <td>11</td>\n",
              "      <td>0</td>\n",
              "      <td>6</td>\n",
              "      <td>376</td>\n",
              "      <td>1</td>\n",
              "      <td>0</td>\n",
              "      <td>1</td>\n",
              "      <td>2</td>\n",
              "      <td>29</td>\n",
              "      <td>0</td>\n",
              "      <td>41</td>\n",
              "      <td>28</td>\n",
              "      <td>38</td>\n",
              "      <td>85</td>\n",
              "      <td>0</td>\n",
              "      <td>3</td>\n",
              "      <td>10</td>\n",
              "      <td>0</td>\n",
              "      <td>11</td>\n",
              "      <td>1</td>\n",
              "      <td>4</td>\n",
              "      <td>176</td>\n",
              "      <td>0</td>\n",
              "      <td>1</td>\n",
              "      <td>6</td>\n",
              "      <td>0</td>\n",
              "      <td>224</td>\n",
              "      <td>48</td>\n",
              "      <td>0</td>\n",
              "      <td>0</td>\n",
              "      <td>23</td>\n",
              "      <td>27</td>\n",
              "      <td>36</td>\n",
              "      <td>5</td>\n",
              "      <td>0</td>\n",
              "      <td>1</td>\n",
              "      <td>0</td>\n",
              "      <td>0</td>\n",
              "      <td>121</td>\n",
              "      <td>37</td>\n",
              "      <td>944.000000</td>\n",
              "      <td>221</td>\n",
              "      <td>0</td>\n",
              "      <td>0</td>\n",
              "      <td>0</td>\n",
              "      <td>0</td>\n",
              "      <td>31</td>\n",
              "      <td>0</td>\n",
              "      <td>0</td>\n",
              "      <td>129</td>\n",
              "      <td>0</td>\n",
              "      <td>0</td>\n",
              "      <td>0</td>\n",
              "      <td>0</td>\n",
              "    </tr>\n",
              "    <tr>\n",
              "      <th>1473443</th>\n",
              "      <td>0</td>\n",
              "      <td>246</td>\n",
              "      <td>0</td>\n",
              "      <td>14</td>\n",
              "      <td>514</td>\n",
              "      <td>4</td>\n",
              "      <td>0</td>\n",
              "      <td>1</td>\n",
              "      <td>3</td>\n",
              "      <td>23</td>\n",
              "      <td>0</td>\n",
              "      <td>5</td>\n",
              "      <td>14</td>\n",
              "      <td>38</td>\n",
              "      <td>85</td>\n",
              "      <td>8</td>\n",
              "      <td>14</td>\n",
              "      <td>21</td>\n",
              "      <td>0</td>\n",
              "      <td>246</td>\n",
              "      <td>16</td>\n",
              "      <td>12</td>\n",
              "      <td>32</td>\n",
              "      <td>0</td>\n",
              "      <td>235</td>\n",
              "      <td>32</td>\n",
              "      <td>0</td>\n",
              "      <td>332</td>\n",
              "      <td>48</td>\n",
              "      <td>0</td>\n",
              "      <td>0</td>\n",
              "      <td>18</td>\n",
              "      <td>5</td>\n",
              "      <td>17</td>\n",
              "      <td>1</td>\n",
              "      <td>0</td>\n",
              "      <td>1</td>\n",
              "      <td>0</td>\n",
              "      <td>0</td>\n",
              "      <td>76</td>\n",
              "      <td>32</td>\n",
              "      <td>126.857143</td>\n",
              "      <td>221</td>\n",
              "      <td>0</td>\n",
              "      <td>0</td>\n",
              "      <td>0</td>\n",
              "      <td>0</td>\n",
              "      <td>31</td>\n",
              "      <td>3</td>\n",
              "      <td>0</td>\n",
              "      <td>129</td>\n",
              "      <td>21</td>\n",
              "      <td>0</td>\n",
              "      <td>21</td>\n",
              "      <td>105</td>\n",
              "    </tr>\n",
              "    <tr>\n",
              "      <th>...</th>\n",
              "      <td>...</td>\n",
              "      <td>...</td>\n",
              "      <td>...</td>\n",
              "      <td>...</td>\n",
              "      <td>...</td>\n",
              "      <td>...</td>\n",
              "      <td>...</td>\n",
              "      <td>...</td>\n",
              "      <td>...</td>\n",
              "      <td>...</td>\n",
              "      <td>...</td>\n",
              "      <td>...</td>\n",
              "      <td>...</td>\n",
              "      <td>...</td>\n",
              "      <td>...</td>\n",
              "      <td>...</td>\n",
              "      <td>...</td>\n",
              "      <td>...</td>\n",
              "      <td>...</td>\n",
              "      <td>...</td>\n",
              "      <td>...</td>\n",
              "      <td>...</td>\n",
              "      <td>...</td>\n",
              "      <td>...</td>\n",
              "      <td>...</td>\n",
              "      <td>...</td>\n",
              "      <td>...</td>\n",
              "      <td>...</td>\n",
              "      <td>...</td>\n",
              "      <td>...</td>\n",
              "      <td>...</td>\n",
              "      <td>...</td>\n",
              "      <td>...</td>\n",
              "      <td>...</td>\n",
              "      <td>...</td>\n",
              "      <td>...</td>\n",
              "      <td>...</td>\n",
              "      <td>...</td>\n",
              "      <td>...</td>\n",
              "      <td>...</td>\n",
              "      <td>...</td>\n",
              "      <td>...</td>\n",
              "      <td>...</td>\n",
              "      <td>...</td>\n",
              "      <td>...</td>\n",
              "      <td>...</td>\n",
              "      <td>...</td>\n",
              "      <td>...</td>\n",
              "      <td>...</td>\n",
              "      <td>...</td>\n",
              "      <td>...</td>\n",
              "      <td>...</td>\n",
              "      <td>...</td>\n",
              "      <td>...</td>\n",
              "      <td>...</td>\n",
              "    </tr>\n",
              "    <tr>\n",
              "      <th>1132317</th>\n",
              "      <td>0</td>\n",
              "      <td>0</td>\n",
              "      <td>0</td>\n",
              "      <td>2</td>\n",
              "      <td>78</td>\n",
              "      <td>0</td>\n",
              "      <td>4</td>\n",
              "      <td>1</td>\n",
              "      <td>0</td>\n",
              "      <td>1</td>\n",
              "      <td>7</td>\n",
              "      <td>3</td>\n",
              "      <td>0</td>\n",
              "      <td>38</td>\n",
              "      <td>85</td>\n",
              "      <td>0</td>\n",
              "      <td>0</td>\n",
              "      <td>0</td>\n",
              "      <td>0</td>\n",
              "      <td>0</td>\n",
              "      <td>0</td>\n",
              "      <td>0</td>\n",
              "      <td>49</td>\n",
              "      <td>0</td>\n",
              "      <td>0</td>\n",
              "      <td>3</td>\n",
              "      <td>0</td>\n",
              "      <td>64</td>\n",
              "      <td>48</td>\n",
              "      <td>0</td>\n",
              "      <td>6</td>\n",
              "      <td>0</td>\n",
              "      <td>4</td>\n",
              "      <td>1</td>\n",
              "      <td>0</td>\n",
              "      <td>0</td>\n",
              "      <td>0</td>\n",
              "      <td>0</td>\n",
              "      <td>0</td>\n",
              "      <td>69</td>\n",
              "      <td>39</td>\n",
              "      <td>80.000000</td>\n",
              "      <td>221</td>\n",
              "      <td>0</td>\n",
              "      <td>0</td>\n",
              "      <td>0</td>\n",
              "      <td>0</td>\n",
              "      <td>0</td>\n",
              "      <td>0</td>\n",
              "      <td>0</td>\n",
              "      <td>151</td>\n",
              "      <td>0</td>\n",
              "      <td>0</td>\n",
              "      <td>0</td>\n",
              "      <td>0</td>\n",
              "    </tr>\n",
              "    <tr>\n",
              "      <th>142138</th>\n",
              "      <td>0</td>\n",
              "      <td>201</td>\n",
              "      <td>0</td>\n",
              "      <td>4</td>\n",
              "      <td>56</td>\n",
              "      <td>0</td>\n",
              "      <td>0</td>\n",
              "      <td>0</td>\n",
              "      <td>0</td>\n",
              "      <td>114</td>\n",
              "      <td>0</td>\n",
              "      <td>127</td>\n",
              "      <td>128</td>\n",
              "      <td>38</td>\n",
              "      <td>85</td>\n",
              "      <td>18</td>\n",
              "      <td>76</td>\n",
              "      <td>181</td>\n",
              "      <td>0</td>\n",
              "      <td>201</td>\n",
              "      <td>28</td>\n",
              "      <td>96</td>\n",
              "      <td>192</td>\n",
              "      <td>0</td>\n",
              "      <td>0</td>\n",
              "      <td>182</td>\n",
              "      <td>0</td>\n",
              "      <td>172</td>\n",
              "      <td>48</td>\n",
              "      <td>0</td>\n",
              "      <td>0</td>\n",
              "      <td>90</td>\n",
              "      <td>68</td>\n",
              "      <td>134</td>\n",
              "      <td>70</td>\n",
              "      <td>0</td>\n",
              "      <td>0</td>\n",
              "      <td>1</td>\n",
              "      <td>0</td>\n",
              "      <td>203</td>\n",
              "      <td>7</td>\n",
              "      <td>2900.250000</td>\n",
              "      <td>221</td>\n",
              "      <td>0</td>\n",
              "      <td>0</td>\n",
              "      <td>0</td>\n",
              "      <td>0</td>\n",
              "      <td>1</td>\n",
              "      <td>0</td>\n",
              "      <td>0</td>\n",
              "      <td>129</td>\n",
              "      <td>100</td>\n",
              "      <td>178</td>\n",
              "      <td>181</td>\n",
              "      <td>202</td>\n",
              "    </tr>\n",
              "    <tr>\n",
              "      <th>1502371</th>\n",
              "      <td>0</td>\n",
              "      <td>0</td>\n",
              "      <td>0</td>\n",
              "      <td>2</td>\n",
              "      <td>82</td>\n",
              "      <td>0</td>\n",
              "      <td>4</td>\n",
              "      <td>1</td>\n",
              "      <td>0</td>\n",
              "      <td>0</td>\n",
              "      <td>6</td>\n",
              "      <td>3</td>\n",
              "      <td>0</td>\n",
              "      <td>38</td>\n",
              "      <td>86</td>\n",
              "      <td>0</td>\n",
              "      <td>0</td>\n",
              "      <td>0</td>\n",
              "      <td>0</td>\n",
              "      <td>0</td>\n",
              "      <td>0</td>\n",
              "      <td>0</td>\n",
              "      <td>5</td>\n",
              "      <td>0</td>\n",
              "      <td>0</td>\n",
              "      <td>4</td>\n",
              "      <td>0</td>\n",
              "      <td>40</td>\n",
              "      <td>48</td>\n",
              "      <td>1</td>\n",
              "      <td>7</td>\n",
              "      <td>0</td>\n",
              "      <td>4</td>\n",
              "      <td>1</td>\n",
              "      <td>0</td>\n",
              "      <td>0</td>\n",
              "      <td>0</td>\n",
              "      <td>0</td>\n",
              "      <td>0</td>\n",
              "      <td>68</td>\n",
              "      <td>41</td>\n",
              "      <td>76.000000</td>\n",
              "      <td>221</td>\n",
              "      <td>0</td>\n",
              "      <td>0</td>\n",
              "      <td>0</td>\n",
              "      <td>0</td>\n",
              "      <td>0</td>\n",
              "      <td>0</td>\n",
              "      <td>0</td>\n",
              "      <td>129</td>\n",
              "      <td>0</td>\n",
              "      <td>0</td>\n",
              "      <td>0</td>\n",
              "      <td>0</td>\n",
              "    </tr>\n",
              "    <tr>\n",
              "      <th>1234998</th>\n",
              "      <td>0</td>\n",
              "      <td>0</td>\n",
              "      <td>0</td>\n",
              "      <td>2</td>\n",
              "      <td>82</td>\n",
              "      <td>0</td>\n",
              "      <td>4</td>\n",
              "      <td>1</td>\n",
              "      <td>0</td>\n",
              "      <td>0</td>\n",
              "      <td>6</td>\n",
              "      <td>3</td>\n",
              "      <td>0</td>\n",
              "      <td>38</td>\n",
              "      <td>86</td>\n",
              "      <td>0</td>\n",
              "      <td>0</td>\n",
              "      <td>0</td>\n",
              "      <td>0</td>\n",
              "      <td>0</td>\n",
              "      <td>0</td>\n",
              "      <td>0</td>\n",
              "      <td>47</td>\n",
              "      <td>0</td>\n",
              "      <td>0</td>\n",
              "      <td>4</td>\n",
              "      <td>0</td>\n",
              "      <td>40</td>\n",
              "      <td>48</td>\n",
              "      <td>1</td>\n",
              "      <td>7</td>\n",
              "      <td>0</td>\n",
              "      <td>4</td>\n",
              "      <td>0</td>\n",
              "      <td>0</td>\n",
              "      <td>0</td>\n",
              "      <td>0</td>\n",
              "      <td>0</td>\n",
              "      <td>0</td>\n",
              "      <td>67</td>\n",
              "      <td>41</td>\n",
              "      <td>73.000000</td>\n",
              "      <td>221</td>\n",
              "      <td>0</td>\n",
              "      <td>0</td>\n",
              "      <td>0</td>\n",
              "      <td>0</td>\n",
              "      <td>0</td>\n",
              "      <td>0</td>\n",
              "      <td>0</td>\n",
              "      <td>129</td>\n",
              "      <td>0</td>\n",
              "      <td>0</td>\n",
              "      <td>0</td>\n",
              "      <td>0</td>\n",
              "    </tr>\n",
              "    <tr>\n",
              "      <th>1437786</th>\n",
              "      <td>155</td>\n",
              "      <td>0</td>\n",
              "      <td>0</td>\n",
              "      <td>1</td>\n",
              "      <td>0</td>\n",
              "      <td>0</td>\n",
              "      <td>0</td>\n",
              "      <td>0</td>\n",
              "      <td>0</td>\n",
              "      <td>0</td>\n",
              "      <td>0</td>\n",
              "      <td>0</td>\n",
              "      <td>0</td>\n",
              "      <td>38</td>\n",
              "      <td>86</td>\n",
              "      <td>0</td>\n",
              "      <td>0</td>\n",
              "      <td>0</td>\n",
              "      <td>0</td>\n",
              "      <td>0</td>\n",
              "      <td>0</td>\n",
              "      <td>0</td>\n",
              "      <td>0</td>\n",
              "      <td>0</td>\n",
              "      <td>0</td>\n",
              "      <td>0</td>\n",
              "      <td>0</td>\n",
              "      <td>32</td>\n",
              "      <td>48</td>\n",
              "      <td>1</td>\n",
              "      <td>0</td>\n",
              "      <td>0</td>\n",
              "      <td>0</td>\n",
              "      <td>0</td>\n",
              "      <td>0</td>\n",
              "      <td>0</td>\n",
              "      <td>0</td>\n",
              "      <td>1</td>\n",
              "      <td>1</td>\n",
              "      <td>0</td>\n",
              "      <td>0</td>\n",
              "      <td>0.000000</td>\n",
              "      <td>221</td>\n",
              "      <td>0</td>\n",
              "      <td>0</td>\n",
              "      <td>0</td>\n",
              "      <td>0</td>\n",
              "      <td>1</td>\n",
              "      <td>0</td>\n",
              "      <td>0</td>\n",
              "      <td>151</td>\n",
              "      <td>0</td>\n",
              "      <td>0</td>\n",
              "      <td>0</td>\n",
              "      <td>0</td>\n",
              "    </tr>\n",
              "  </tbody>\n",
              "</table>\n",
              "<p>1000 rows × 55 columns</p>\n",
              "</div>"
            ],
            "text/plain": [
              "          Destination Port   Flow Duration  ...   Idle Max   Idle Min\n",
              "1336925                192               0  ...          0          0\n",
              "2042665                  0               0  ...          0          0\n",
              "539568                   1               0  ...          0          0\n",
              "509350                   1              11  ...          0          0\n",
              "1473443                  0             246  ...         21        105\n",
              "...                    ...             ...  ...        ...        ...\n",
              "1132317                  0               0  ...          0          0\n",
              "142138                   0             201  ...        181        202\n",
              "1502371                  0               0  ...          0          0\n",
              "1234998                  0               0  ...          0          0\n",
              "1437786                155               0  ...          0          0\n",
              "\n",
              "[1000 rows x 55 columns]"
            ]
          },
          "metadata": {},
          "execution_count": 130
        }
      ]
    },
    {
      "cell_type": "code",
      "metadata": {
        "colab": {
          "base_uri": "https://localhost:8080/"
        },
        "id": "-XFx4tOnlKRB",
        "outputId": "7bac9bd3-502c-4eb2-b0f8-c10e928c4403"
      },
      "source": [
        "# df.to_hdf(filename, 'data', mode='w', format='table')\n",
        "# for i in l:\n",
        "  # for j in i:\n",
        "    # print(type(j), 'this is j', j )\n",
        "  # break\n",
        "len(target)"
      ],
      "execution_count": 161,
      "outputs": [
        {
          "output_type": "execute_result",
          "data": {
            "text/plain": [
              "2827876"
            ]
          },
          "metadata": {},
          "execution_count": 161
        }
      ]
    },
    {
      "cell_type": "code",
      "metadata": {
        "colab": {
          "base_uri": "https://localhost:8080/"
        },
        "id": "mm-sJhBdnZWs",
        "outputId": "b22a8ca2-1432-47df-ae33-b2c195503c7d"
      },
      "source": [
        "c = X.values\n",
        "c[55]"
      ],
      "execution_count": 147,
      "outputs": [
        {
          "output_type": "execute_result",
          "data": {
            "text/plain": [
              "array([215,   0,   0,   0,   0,   0,   0,   0,   0,   0,   0,   0,   0,\n",
              "        32, 170,   0,   0,   0,   0,   0,   0,   0,   3,   0,   0,   0,\n",
              "         0, 221,  48,  56,   1,   0,   0,   0,   0,   0,   0,   1,   0,\n",
              "         0,   6,   0, 221,   0,   0,   0,   0,   1,   0,   0, 129,   0,\n",
              "         0,   0,   0], dtype=uint8)"
            ]
          },
          "metadata": {},
          "execution_count": 147
        }
      ]
    },
    {
      "cell_type": "code",
      "metadata": {
        "id": "oFr4nJBuoFYI"
      },
      "source": [
        "mother_list = []\n",
        "for i in c:\n",
        "  kid_list = ''\n",
        "  for j in i:\n",
        "    kid_list += str(j)\n",
        "    kid_list += ' '\n",
        "  mother_list.append(kid_list)\n",
        "\n"
      ],
      "execution_count": 153,
      "outputs": []
    },
    {
      "cell_type": "code",
      "metadata": {
        "colab": {
          "base_uri": "https://localhost:8080/"
        },
        "id": "XNrqH4kX3bGC",
        "outputId": "45fe185c-26e5-4780-fdb5-6a527d56e38f"
      },
      "source": [
        "X[' ACK Flag Count'].shape"
      ],
      "execution_count": 151,
      "outputs": [
        {
          "output_type": "execute_result",
          "data": {
            "text/plain": [
              "(2827876,)"
            ]
          },
          "metadata": {},
          "execution_count": 151
        }
      ]
    },
    {
      "cell_type": "code",
      "metadata": {
        "colab": {
          "base_uri": "https://localhost:8080/"
        },
        "id": "kcpR7fpB2dwY",
        "outputId": "b585a676-24f9-4aa2-8ff8-ddac7ee6a092"
      },
      "source": [
        "target.shape"
      ],
      "execution_count": 152,
      "outputs": [
        {
          "output_type": "execute_result",
          "data": {
            "text/plain": [
              "(2827876,)"
            ]
          },
          "metadata": {},
          "execution_count": 152
        }
      ]
    },
    {
      "cell_type": "code",
      "metadata": {
        "colab": {
          "base_uri": "https://localhost:8080/"
        },
        "id": "Q797BhDX3k9P",
        "outputId": "c8423a1d-1232-4303-9b3c-9525359967c5"
      },
      "source": [
        "len(mother_list)"
      ],
      "execution_count": 154,
      "outputs": [
        {
          "output_type": "execute_result",
          "data": {
            "text/plain": [
              "2827876"
            ]
          },
          "metadata": {},
          "execution_count": 154
        }
      ]
    },
    {
      "cell_type": "code",
      "metadata": {
        "colab": {
          "base_uri": "https://localhost:8080/",
          "height": 35
        },
        "id": "DKHMPQej5Cb8",
        "outputId": "b5fe503c-4fa6-4443-eb60-6c7f9c61b1ac"
      },
      "source": [
        "mother_list[0]"
      ],
      "execution_count": 156,
      "outputs": [
        {
          "output_type": "execute_result",
          "data": {
            "application/vnd.google.colaboratory.intrinsic+json": {
              "type": "string"
            },
            "text/plain": [
              "'213 0 0 0 0 0 0 0 0 0 0 0 0 32 170 0 0 0 0 0 0 0 3 0 0 0 0 221 48 56 1 0 0 0 0 0 0 1 0 0 6 0 221 0 0 0 0 0 0 0 129 0 0 0 0 '"
            ]
          },
          "metadata": {},
          "execution_count": 156
        }
      ]
    },
    {
      "cell_type": "code",
      "metadata": {
        "id": "7EkJbgTR5E6H"
      },
      "source": [
        "df = pd.DataFrame(list(zip(mother_list, target)),\n",
        "               columns =['packet-data', 'label'])"
      ],
      "execution_count": 162,
      "outputs": []
    },
    {
      "cell_type": "code",
      "metadata": {
        "colab": {
          "base_uri": "https://localhost:8080/"
        },
        "id": "XQ2ruO0h6SQ2",
        "outputId": "9e945622-5adb-4569-ba5d-06fd55ac0ffa"
      },
      "source": [
        "df.label.value_counts()"
      ],
      "execution_count": 165,
      "outputs": [
        {
          "output_type": "execute_result",
          "data": {
            "text/plain": [
              "0     2271320\n",
              "4      230124\n",
              "10     158804\n",
              "2      128025\n",
              "3       10293\n",
              "7        7935\n",
              "11       5897\n",
              "6        5796\n",
              "5        5499\n",
              "1        1956\n",
              "12       1507\n",
              "14        652\n",
              "9          36\n",
              "13         21\n",
              "8          11\n",
              "Name: label, dtype: int64"
            ]
          },
          "metadata": {},
          "execution_count": 165
        }
      ]
    },
    {
      "cell_type": "code",
      "metadata": {
        "id": "WqcfEK-A6VI9"
      },
      "source": [
        "filename = '/content/drive/MyDrive/MNAD-FYP/MADBERT/stringdata.h5'\n",
        "df.to_hdf(filename, 'data', mode='w', format='table')\n"
      ],
      "execution_count": 168,
      "outputs": []
    },
    {
      "cell_type": "code",
      "metadata": {
        "colab": {
          "base_uri": "https://localhost:8080/",
          "height": 424
        },
        "id": "n-90KsTQ62hZ",
        "outputId": "ae787202-eb66-4951-906a-be8b2bd7bda2"
      },
      "source": [
        "df"
      ],
      "execution_count": 171,
      "outputs": [
        {
          "output_type": "execute_result",
          "data": {
            "text/html": [
              "<div>\n",
              "<style scoped>\n",
              "    .dataframe tbody tr th:only-of-type {\n",
              "        vertical-align: middle;\n",
              "    }\n",
              "\n",
              "    .dataframe tbody tr th {\n",
              "        vertical-align: top;\n",
              "    }\n",
              "\n",
              "    .dataframe thead th {\n",
              "        text-align: right;\n",
              "    }\n",
              "</style>\n",
              "<table border=\"1\" class=\"dataframe\">\n",
              "  <thead>\n",
              "    <tr style=\"text-align: right;\">\n",
              "      <th></th>\n",
              "      <th>packet-data</th>\n",
              "      <th>label</th>\n",
              "    </tr>\n",
              "  </thead>\n",
              "  <tbody>\n",
              "    <tr>\n",
              "      <th>0</th>\n",
              "      <td>213 0 0 0 0 0 0 0 0 0 0 0 0 32 170 0 0 0 0 0 0...</td>\n",
              "      <td>0</td>\n",
              "    </tr>\n",
              "    <tr>\n",
              "      <th>1</th>\n",
              "      <td>214 0 0 0 0 0 0 0 0 0 0 0 0 32 128 0 0 0 0 0 0...</td>\n",
              "      <td>0</td>\n",
              "    </tr>\n",
              "    <tr>\n",
              "      <th>2</th>\n",
              "      <td>214 0 0 0 0 0 0 0 0 0 0 0 0 32 129 0 0 0 0 0 0...</td>\n",
              "      <td>0</td>\n",
              "    </tr>\n",
              "    <tr>\n",
              "      <th>3</th>\n",
              "      <td>179 0 0 0 0 0 0 0 0 0 0 0 0 32 131 0 0 0 0 0 0...</td>\n",
              "      <td>0</td>\n",
              "    </tr>\n",
              "    <tr>\n",
              "      <th>4</th>\n",
              "      <td>213 0 0 0 0 0 0 0 0 0 0 0 0 32 170 0 0 0 0 0 0...</td>\n",
              "      <td>0</td>\n",
              "    </tr>\n",
              "    <tr>\n",
              "      <th>...</th>\n",
              "      <td>...</td>\n",
              "      <td>...</td>\n",
              "    </tr>\n",
              "    <tr>\n",
              "      <th>2827871</th>\n",
              "      <td>0 0 0 0 0 0 3 1 0 0 6 3 0 32 127 0 0 0 0 0 0 0...</td>\n",
              "      <td>0</td>\n",
              "    </tr>\n",
              "    <tr>\n",
              "      <th>2827872</th>\n",
              "      <td>0 0 0 0 0 0 4 1 0 2 15 7 0 32 128 0 0 0 0 0 0 ...</td>\n",
              "      <td>0</td>\n",
              "    </tr>\n",
              "    <tr>\n",
              "      <th>2827873</th>\n",
              "      <td>225 0 0 0 0 0 0 0 0 0 0 0 0 32 129 0 0 0 0 0 0...</td>\n",
              "      <td>0</td>\n",
              "    </tr>\n",
              "    <tr>\n",
              "      <th>2827874</th>\n",
              "      <td>0 2 0 0 0 0 3 1 0 1 11 5 0 32 127 0 1 2 0 2 0 ...</td>\n",
              "      <td>0</td>\n",
              "    </tr>\n",
              "    <tr>\n",
              "      <th>2827875</th>\n",
              "      <td>0 0 0 0 0 0 5 2 0 1 9 4 0 32 127 0 0 0 0 0 0 0...</td>\n",
              "      <td>0</td>\n",
              "    </tr>\n",
              "  </tbody>\n",
              "</table>\n",
              "<p>2827876 rows × 2 columns</p>\n",
              "</div>"
            ],
            "text/plain": [
              "                                               packet-data  label\n",
              "0        213 0 0 0 0 0 0 0 0 0 0 0 0 32 170 0 0 0 0 0 0...      0\n",
              "1        214 0 0 0 0 0 0 0 0 0 0 0 0 32 128 0 0 0 0 0 0...      0\n",
              "2        214 0 0 0 0 0 0 0 0 0 0 0 0 32 129 0 0 0 0 0 0...      0\n",
              "3        179 0 0 0 0 0 0 0 0 0 0 0 0 32 131 0 0 0 0 0 0...      0\n",
              "4        213 0 0 0 0 0 0 0 0 0 0 0 0 32 170 0 0 0 0 0 0...      0\n",
              "...                                                    ...    ...\n",
              "2827871  0 0 0 0 0 0 3 1 0 0 6 3 0 32 127 0 0 0 0 0 0 0...      0\n",
              "2827872  0 0 0 0 0 0 4 1 0 2 15 7 0 32 128 0 0 0 0 0 0 ...      0\n",
              "2827873  225 0 0 0 0 0 0 0 0 0 0 0 0 32 129 0 0 0 0 0 0...      0\n",
              "2827874  0 2 0 0 0 0 3 1 0 1 11 5 0 32 127 0 1 2 0 2 0 ...      0\n",
              "2827875  0 0 0 0 0 0 5 2 0 1 9 4 0 32 127 0 0 0 0 0 0 0...      0\n",
              "\n",
              "[2827876 rows x 2 columns]"
            ]
          },
          "metadata": {},
          "execution_count": 171
        }
      ]
    },
    {
      "cell_type": "code",
      "metadata": {
        "colab": {
          "base_uri": "https://localhost:8080/"
        },
        "id": "xCa1F4SI7SVp",
        "outputId": "2e34f3d2-0f6b-4fe8-9f1d-4c864e48634d"
      },
      "source": [
        "type(df['packet-data'].values[0])"
      ],
      "execution_count": 174,
      "outputs": [
        {
          "output_type": "execute_result",
          "data": {
            "text/plain": [
              "str"
            ]
          },
          "metadata": {},
          "execution_count": 174
        }
      ]
    },
    {
      "cell_type": "code",
      "metadata": {
        "id": "NqhjBRKk79R2"
      },
      "source": [
        ""
      ],
      "execution_count": null,
      "outputs": []
    }
  ]
}