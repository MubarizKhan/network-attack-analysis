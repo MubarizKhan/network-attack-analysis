{
 "cells": [
  {
   "cell_type": "code",
   "execution_count": 1,
   "id": "d08d8dc3-d989-4b92-ba6c-c2d8053863a1",
   "metadata": {},
   "outputs": [],
   "source": [
    "import matplotlib \n",
    "import matplotlib.pyplot as plt\n",
    "%matplotlib inline\n",
    "import numpy as np\n",
    "import pandas as pd\n",
    "import seaborn as sns\n",
    "from sklearn.model_selection import train_test_split\n",
    "from sklearn.tree import DecisionTreeClassifier\n",
    "from sklearn import metrics\n",
    "from sklearn.linear_model import LogisticRegression"
   ]
  },
  {
   "cell_type": "code",
   "execution_count": 2,
   "id": "22882018-a2c2-43d8-8c20-e0f6a8a36404",
   "metadata": {},
   "outputs": [],
   "source": [
    "dfDdos = pd.read_csv('/home/mak/mak/maths/MNAD/datasets/MachineLearningCVE/Friday-WorkingHours-Afternoon-DDos.pcap_ISCX1.csv',encoding='utf-8')\n",
    "dfPortScan = pd.read_csv('/home/mak/mak/maths/MNAD/datasets/MachineLearningCVE/Friday-WorkingHours-Afternoon-PortScan.pcap_ISCX.csv',encoding='utf-8')\n",
    "dfFriWH = pd.read_csv('/home/mak/mak/maths/MNAD/datasets/MachineLearningCVE/Friday-WorkingHours-Morning.pcap_ISCX.csv',encoding='utf-8')\n",
    "dfMonWH = pd.read_csv('/home/mak/mak/maths/MNAD/datasets/MachineLearningCVE/Monday-WorkingHours.pcap_ISCX.csv',encoding='utf-8')\n",
    "dfThurWH = pd.read_csv('/home/mak/mak/maths/MNAD/datasets/MachineLearningCVE/Thursday-WorkingHours-Afternoon-Infilteration.pcap_ISCX.csv',encoding='utf-8')\n",
    "dfThurWebAtt = pd.read_csv('/home/mak/mak/maths/MNAD/datasets/MachineLearningCVE/Thursday-WorkingHours-Morning-WebAttacks.pcap_ISCX.csv',encoding='utf-8')\n",
    "dfWedWh = pd.read_csv('/home/mak/mak/maths/MNAD/datasets/MachineLearningCVE/Wednesday-workingHours.pcap_ISCX.csv',encoding='utf-8')\n",
    "dfTuesWH = pd.read_csv('/home/mak/mak/maths/MNAD/datasets/MachineLearningCVE/Tuesday-WorkingHours.pcap_ISCX.csv',encoding='utf-8')"
   ]
  },
  {
   "cell_type": "code",
   "execution_count": 3,
   "id": "8ff8becc-4c7f-4bf5-a4c5-26518181110e",
   "metadata": {},
   "outputs": [
    {
     "data": {
      "text/plain": [
       "Index([' Destination Port', ' Flow Duration', ' Total Fwd Packets',\n",
       "       ' Total Backward Packets', 'Total Length of Fwd Packets',\n",
       "       ' Total Length of Bwd Packets', ' Fwd Packet Length Max',\n",
       "       ' Fwd Packet Length Min', ' Fwd Packet Length Mean',\n",
       "       ' Fwd Packet Length Std', 'Bwd Packet Length Max',\n",
       "       ' Bwd Packet Length Min', ' Bwd Packet Length Mean',\n",
       "       ' Bwd Packet Length Std', 'Flow Bytes/s', ' Flow Packets/s',\n",
       "       ' Flow IAT Mean', ' Flow IAT Std', ' Flow IAT Max', ' Flow IAT Min',\n",
       "       'Fwd IAT Total', ' Fwd IAT Mean', ' Fwd IAT Std', ' Fwd IAT Max',\n",
       "       ' Fwd IAT Min', 'Bwd IAT Total', ' Bwd IAT Mean', ' Bwd IAT Std',\n",
       "       ' Bwd IAT Max', ' Bwd IAT Min', 'Fwd PSH Flags', ' Bwd PSH Flags',\n",
       "       ' Fwd URG Flags', ' Bwd URG Flags', ' Fwd Header Length',\n",
       "       ' Bwd Header Length', 'Fwd Packets/s', ' Bwd Packets/s',\n",
       "       ' Min Packet Length', ' Max Packet Length', ' Packet Length Mean',\n",
       "       ' Packet Length Std', ' Packet Length Variance', 'FIN Flag Count',\n",
       "       ' SYN Flag Count', ' RST Flag Count', ' PSH Flag Count',\n",
       "       ' ACK Flag Count', ' URG Flag Count', ' CWE Flag Count',\n",
       "       ' ECE Flag Count', ' Down/Up Ratio', ' Average Packet Size',\n",
       "       ' Avg Fwd Segment Size', ' Avg Bwd Segment Size',\n",
       "       ' Fwd Header Length.1', 'Fwd Avg Bytes/Bulk', ' Fwd Avg Packets/Bulk',\n",
       "       ' Fwd Avg Bulk Rate', ' Bwd Avg Bytes/Bulk', ' Bwd Avg Packets/Bulk',\n",
       "       'Bwd Avg Bulk Rate', 'Subflow Fwd Packets', ' Subflow Fwd Bytes',\n",
       "       ' Subflow Bwd Packets', ' Subflow Bwd Bytes', 'Init_Win_bytes_forward',\n",
       "       ' Init_Win_bytes_backward', ' act_data_pkt_fwd',\n",
       "       ' min_seg_size_forward', 'Active Mean', ' Active Std', ' Active Max',\n",
       "       ' Active Min', 'Idle Mean', ' Idle Std', ' Idle Max', ' Idle Min',\n",
       "       ' Label'],\n",
       "      dtype='object')"
      ]
     },
     "execution_count": 3,
     "metadata": {},
     "output_type": "execute_result"
    }
   ],
   "source": [
    "dfDdos.columns"
   ]
  },
  {
   "cell_type": "code",
   "execution_count": 4,
   "id": "5a239b32-0fae-47a7-bfce-1aa63a5ea69b",
   "metadata": {},
   "outputs": [
    {
     "name": "stdout",
     "output_type": "stream",
     "text": [
      "(225745, 79)\n",
      "(286467, 79)\n",
      "(191033, 79)\n",
      "(529918, 79)\n",
      "(288602, 79)\n",
      "(170366, 79)\n",
      "(692703, 79)\n",
      "(445909, 79)\n"
     ]
    },
    {
     "data": {
      "text/plain": [
       "2830743"
      ]
     },
     "execution_count": 4,
     "metadata": {},
     "output_type": "execute_result"
    }
   ],
   "source": [
    "print(dfDdos.shape)\n",
    "print(dfPortScan.shape)\n",
    "print(dfFriWH.shape)\n",
    "print(dfMonWH.shape )\n",
    "print(dfThurWH.shape )\n",
    "print(dfThurWebAtt.shape)\n",
    "print(dfWedWh.shape)\n",
    "print( dfTuesWH.shape)\n",
    "dfDdos.shape[0] + dfPortScan.shape[0]+ dfFriWH.shape[0] + dfMonWH.shape[0] + dfThurWH.shape[0] + dfThurWebAtt.shape[0] + dfWedWh.shape[0] + dfTuesWH.shape[0]"
   ]
  },
  {
   "cell_type": "code",
   "execution_count": 5,
   "id": "8cd120ad-6f85-4f6c-b28b-26af1cd0b76d",
   "metadata": {},
   "outputs": [],
   "source": [
    "# dfDdos.\n",
    "# dfPortScan.\n",
    "# dfFriWH.\n",
    "# dfMonWH.\n",
    "# dfThurWH.\n",
    "# dfThurWebAtt.\n",
    "# dfWedWh.\n",
    "# dfTuesWH."
   ]
  },
  {
   "cell_type": "code",
   "execution_count": 6,
   "id": "71d31405-0ac5-4f20-9821-44a5cbb9a1ff",
   "metadata": {},
   "outputs": [
    {
     "data": {
      "text/plain": [
       "(2830743, 79)"
      ]
     },
     "execution_count": 6,
     "metadata": {},
     "output_type": "execute_result"
    }
   ],
   "source": [
    "new_df = pd.concat([dfDdos,dfPortScan])\n",
    "new_df = pd.concat([new_df,dfFriWH])\n",
    "new_df = pd.concat([new_df,dfMonWH])\n",
    "new_df = pd.concat([new_df,dfThurWH])\n",
    "new_df = pd.concat([new_df,dfThurWebAtt])\n",
    "new_df = pd.concat([new_df, dfTuesWH])\n",
    "new_df = pd.concat([new_df, dfWedWh])\n",
    "\n",
    "new_df.shape"
   ]
  },
  {
   "cell_type": "code",
   "execution_count": null,
   "id": "2408f551-c247-44f1-ba77-ef96de67e0d1",
   "metadata": {},
   "outputs": [],
   "source": []
  },
  {
   "cell_type": "code",
   "execution_count": 13,
   "id": "ba19f6f2-8e94-47b9-af4b-7dcf44eb65dd",
   "metadata": {},
   "outputs": [],
   "source": [
    "new_df.head(15)\n",
    "new_df.to_csv('all_data.csv', encoding='utf-8')"
   ]
  },
  {
   "cell_type": "code",
   "execution_count": 8,
   "id": "17743536-868d-4ad0-b9a3-9e80e8c3515a",
   "metadata": {},
   "outputs": [
    {
     "data": {
      "text/html": [
       "<div>\n",
       "<style scoped>\n",
       "    .dataframe tbody tr th:only-of-type {\n",
       "        vertical-align: middle;\n",
       "    }\n",
       "\n",
       "    .dataframe tbody tr th {\n",
       "        vertical-align: top;\n",
       "    }\n",
       "\n",
       "    .dataframe thead th {\n",
       "        text-align: right;\n",
       "    }\n",
       "</style>\n",
       "<table border=\"1\" class=\"dataframe\">\n",
       "  <thead>\n",
       "    <tr style=\"text-align: right;\">\n",
       "      <th></th>\n",
       "      <th>Destination Port</th>\n",
       "      <th>Flow Duration</th>\n",
       "      <th>Total Fwd Packets</th>\n",
       "      <th>Total Backward Packets</th>\n",
       "      <th>Total Length of Fwd Packets</th>\n",
       "      <th>Total Length of Bwd Packets</th>\n",
       "      <th>Fwd Packet Length Max</th>\n",
       "      <th>Fwd Packet Length Min</th>\n",
       "      <th>Fwd Packet Length Mean</th>\n",
       "      <th>Fwd Packet Length Std</th>\n",
       "      <th>...</th>\n",
       "      <th>min_seg_size_forward</th>\n",
       "      <th>Active Mean</th>\n",
       "      <th>Active Std</th>\n",
       "      <th>Active Max</th>\n",
       "      <th>Active Min</th>\n",
       "      <th>Idle Mean</th>\n",
       "      <th>Idle Std</th>\n",
       "      <th>Idle Max</th>\n",
       "      <th>Idle Min</th>\n",
       "      <th>Label</th>\n",
       "    </tr>\n",
       "  </thead>\n",
       "  <tbody>\n",
       "    <tr>\n",
       "      <th>0</th>\n",
       "      <td>54865</td>\n",
       "      <td>3</td>\n",
       "      <td>2</td>\n",
       "      <td>0</td>\n",
       "      <td>12</td>\n",
       "      <td>0</td>\n",
       "      <td>6</td>\n",
       "      <td>6</td>\n",
       "      <td>6.0</td>\n",
       "      <td>0.00000</td>\n",
       "      <td>...</td>\n",
       "      <td>20</td>\n",
       "      <td>0.0</td>\n",
       "      <td>0.0</td>\n",
       "      <td>0</td>\n",
       "      <td>0</td>\n",
       "      <td>0.0</td>\n",
       "      <td>0.0</td>\n",
       "      <td>0</td>\n",
       "      <td>0</td>\n",
       "      <td>BENIGN</td>\n",
       "    </tr>\n",
       "    <tr>\n",
       "      <th>1</th>\n",
       "      <td>55054</td>\n",
       "      <td>109</td>\n",
       "      <td>1</td>\n",
       "      <td>1</td>\n",
       "      <td>6</td>\n",
       "      <td>6</td>\n",
       "      <td>6</td>\n",
       "      <td>6</td>\n",
       "      <td>6.0</td>\n",
       "      <td>0.00000</td>\n",
       "      <td>...</td>\n",
       "      <td>20</td>\n",
       "      <td>0.0</td>\n",
       "      <td>0.0</td>\n",
       "      <td>0</td>\n",
       "      <td>0</td>\n",
       "      <td>0.0</td>\n",
       "      <td>0.0</td>\n",
       "      <td>0</td>\n",
       "      <td>0</td>\n",
       "      <td>BENIGN</td>\n",
       "    </tr>\n",
       "    <tr>\n",
       "      <th>2</th>\n",
       "      <td>55055</td>\n",
       "      <td>52</td>\n",
       "      <td>1</td>\n",
       "      <td>1</td>\n",
       "      <td>6</td>\n",
       "      <td>6</td>\n",
       "      <td>6</td>\n",
       "      <td>6</td>\n",
       "      <td>6.0</td>\n",
       "      <td>0.00000</td>\n",
       "      <td>...</td>\n",
       "      <td>20</td>\n",
       "      <td>0.0</td>\n",
       "      <td>0.0</td>\n",
       "      <td>0</td>\n",
       "      <td>0</td>\n",
       "      <td>0.0</td>\n",
       "      <td>0.0</td>\n",
       "      <td>0</td>\n",
       "      <td>0</td>\n",
       "      <td>BENIGN</td>\n",
       "    </tr>\n",
       "    <tr>\n",
       "      <th>3</th>\n",
       "      <td>46236</td>\n",
       "      <td>34</td>\n",
       "      <td>1</td>\n",
       "      <td>1</td>\n",
       "      <td>6</td>\n",
       "      <td>6</td>\n",
       "      <td>6</td>\n",
       "      <td>6</td>\n",
       "      <td>6.0</td>\n",
       "      <td>0.00000</td>\n",
       "      <td>...</td>\n",
       "      <td>20</td>\n",
       "      <td>0.0</td>\n",
       "      <td>0.0</td>\n",
       "      <td>0</td>\n",
       "      <td>0</td>\n",
       "      <td>0.0</td>\n",
       "      <td>0.0</td>\n",
       "      <td>0</td>\n",
       "      <td>0</td>\n",
       "      <td>BENIGN</td>\n",
       "    </tr>\n",
       "    <tr>\n",
       "      <th>4</th>\n",
       "      <td>54863</td>\n",
       "      <td>3</td>\n",
       "      <td>2</td>\n",
       "      <td>0</td>\n",
       "      <td>12</td>\n",
       "      <td>0</td>\n",
       "      <td>6</td>\n",
       "      <td>6</td>\n",
       "      <td>6.0</td>\n",
       "      <td>0.00000</td>\n",
       "      <td>...</td>\n",
       "      <td>20</td>\n",
       "      <td>0.0</td>\n",
       "      <td>0.0</td>\n",
       "      <td>0</td>\n",
       "      <td>0</td>\n",
       "      <td>0.0</td>\n",
       "      <td>0.0</td>\n",
       "      <td>0</td>\n",
       "      <td>0</td>\n",
       "      <td>BENIGN</td>\n",
       "    </tr>\n",
       "    <tr>\n",
       "      <th>5</th>\n",
       "      <td>54871</td>\n",
       "      <td>1022</td>\n",
       "      <td>2</td>\n",
       "      <td>0</td>\n",
       "      <td>12</td>\n",
       "      <td>0</td>\n",
       "      <td>6</td>\n",
       "      <td>6</td>\n",
       "      <td>6.0</td>\n",
       "      <td>0.00000</td>\n",
       "      <td>...</td>\n",
       "      <td>20</td>\n",
       "      <td>0.0</td>\n",
       "      <td>0.0</td>\n",
       "      <td>0</td>\n",
       "      <td>0</td>\n",
       "      <td>0.0</td>\n",
       "      <td>0.0</td>\n",
       "      <td>0</td>\n",
       "      <td>0</td>\n",
       "      <td>BENIGN</td>\n",
       "    </tr>\n",
       "    <tr>\n",
       "      <th>6</th>\n",
       "      <td>54925</td>\n",
       "      <td>4</td>\n",
       "      <td>2</td>\n",
       "      <td>0</td>\n",
       "      <td>12</td>\n",
       "      <td>0</td>\n",
       "      <td>6</td>\n",
       "      <td>6</td>\n",
       "      <td>6.0</td>\n",
       "      <td>0.00000</td>\n",
       "      <td>...</td>\n",
       "      <td>20</td>\n",
       "      <td>0.0</td>\n",
       "      <td>0.0</td>\n",
       "      <td>0</td>\n",
       "      <td>0</td>\n",
       "      <td>0.0</td>\n",
       "      <td>0.0</td>\n",
       "      <td>0</td>\n",
       "      <td>0</td>\n",
       "      <td>BENIGN</td>\n",
       "    </tr>\n",
       "    <tr>\n",
       "      <th>7</th>\n",
       "      <td>54925</td>\n",
       "      <td>42</td>\n",
       "      <td>1</td>\n",
       "      <td>1</td>\n",
       "      <td>6</td>\n",
       "      <td>6</td>\n",
       "      <td>6</td>\n",
       "      <td>6</td>\n",
       "      <td>6.0</td>\n",
       "      <td>0.00000</td>\n",
       "      <td>...</td>\n",
       "      <td>20</td>\n",
       "      <td>0.0</td>\n",
       "      <td>0.0</td>\n",
       "      <td>0</td>\n",
       "      <td>0</td>\n",
       "      <td>0.0</td>\n",
       "      <td>0.0</td>\n",
       "      <td>0</td>\n",
       "      <td>0</td>\n",
       "      <td>BENIGN</td>\n",
       "    </tr>\n",
       "    <tr>\n",
       "      <th>8</th>\n",
       "      <td>9282</td>\n",
       "      <td>4</td>\n",
       "      <td>2</td>\n",
       "      <td>0</td>\n",
       "      <td>12</td>\n",
       "      <td>0</td>\n",
       "      <td>6</td>\n",
       "      <td>6</td>\n",
       "      <td>6.0</td>\n",
       "      <td>0.00000</td>\n",
       "      <td>...</td>\n",
       "      <td>20</td>\n",
       "      <td>0.0</td>\n",
       "      <td>0.0</td>\n",
       "      <td>0</td>\n",
       "      <td>0</td>\n",
       "      <td>0.0</td>\n",
       "      <td>0.0</td>\n",
       "      <td>0</td>\n",
       "      <td>0</td>\n",
       "      <td>BENIGN</td>\n",
       "    </tr>\n",
       "    <tr>\n",
       "      <th>9</th>\n",
       "      <td>55153</td>\n",
       "      <td>4</td>\n",
       "      <td>2</td>\n",
       "      <td>0</td>\n",
       "      <td>37</td>\n",
       "      <td>0</td>\n",
       "      <td>31</td>\n",
       "      <td>6</td>\n",
       "      <td>18.5</td>\n",
       "      <td>17.67767</td>\n",
       "      <td>...</td>\n",
       "      <td>20</td>\n",
       "      <td>0.0</td>\n",
       "      <td>0.0</td>\n",
       "      <td>0</td>\n",
       "      <td>0</td>\n",
       "      <td>0.0</td>\n",
       "      <td>0.0</td>\n",
       "      <td>0</td>\n",
       "      <td>0</td>\n",
       "      <td>BENIGN</td>\n",
       "    </tr>\n",
       "  </tbody>\n",
       "</table>\n",
       "<p>10 rows × 79 columns</p>\n",
       "</div>"
      ],
      "text/plain": [
       "    Destination Port   Flow Duration   Total Fwd Packets  \\\n",
       "0              54865               3                   2   \n",
       "1              55054             109                   1   \n",
       "2              55055              52                   1   \n",
       "3              46236              34                   1   \n",
       "4              54863               3                   2   \n",
       "5              54871            1022                   2   \n",
       "6              54925               4                   2   \n",
       "7              54925              42                   1   \n",
       "8               9282               4                   2   \n",
       "9              55153               4                   2   \n",
       "\n",
       "    Total Backward Packets  Total Length of Fwd Packets  \\\n",
       "0                        0                           12   \n",
       "1                        1                            6   \n",
       "2                        1                            6   \n",
       "3                        1                            6   \n",
       "4                        0                           12   \n",
       "5                        0                           12   \n",
       "6                        0                           12   \n",
       "7                        1                            6   \n",
       "8                        0                           12   \n",
       "9                        0                           37   \n",
       "\n",
       "    Total Length of Bwd Packets   Fwd Packet Length Max  \\\n",
       "0                             0                       6   \n",
       "1                             6                       6   \n",
       "2                             6                       6   \n",
       "3                             6                       6   \n",
       "4                             0                       6   \n",
       "5                             0                       6   \n",
       "6                             0                       6   \n",
       "7                             6                       6   \n",
       "8                             0                       6   \n",
       "9                             0                      31   \n",
       "\n",
       "    Fwd Packet Length Min   Fwd Packet Length Mean   Fwd Packet Length Std  \\\n",
       "0                       6                      6.0                 0.00000   \n",
       "1                       6                      6.0                 0.00000   \n",
       "2                       6                      6.0                 0.00000   \n",
       "3                       6                      6.0                 0.00000   \n",
       "4                       6                      6.0                 0.00000   \n",
       "5                       6                      6.0                 0.00000   \n",
       "6                       6                      6.0                 0.00000   \n",
       "7                       6                      6.0                 0.00000   \n",
       "8                       6                      6.0                 0.00000   \n",
       "9                       6                     18.5                17.67767   \n",
       "\n",
       "   ...   min_seg_size_forward  Active Mean   Active Std   Active Max  \\\n",
       "0  ...                     20          0.0          0.0            0   \n",
       "1  ...                     20          0.0          0.0            0   \n",
       "2  ...                     20          0.0          0.0            0   \n",
       "3  ...                     20          0.0          0.0            0   \n",
       "4  ...                     20          0.0          0.0            0   \n",
       "5  ...                     20          0.0          0.0            0   \n",
       "6  ...                     20          0.0          0.0            0   \n",
       "7  ...                     20          0.0          0.0            0   \n",
       "8  ...                     20          0.0          0.0            0   \n",
       "9  ...                     20          0.0          0.0            0   \n",
       "\n",
       "    Active Min  Idle Mean   Idle Std   Idle Max   Idle Min   Label  \n",
       "0            0        0.0        0.0          0          0  BENIGN  \n",
       "1            0        0.0        0.0          0          0  BENIGN  \n",
       "2            0        0.0        0.0          0          0  BENIGN  \n",
       "3            0        0.0        0.0          0          0  BENIGN  \n",
       "4            0        0.0        0.0          0          0  BENIGN  \n",
       "5            0        0.0        0.0          0          0  BENIGN  \n",
       "6            0        0.0        0.0          0          0  BENIGN  \n",
       "7            0        0.0        0.0          0          0  BENIGN  \n",
       "8            0        0.0        0.0          0          0  BENIGN  \n",
       "9            0        0.0        0.0          0          0  BENIGN  \n",
       "\n",
       "[10 rows x 79 columns]"
      ]
     },
     "execution_count": 8,
     "metadata": {},
     "output_type": "execute_result"
    }
   ],
   "source": [
    "new_df.head(10)"
   ]
  },
  {
   "cell_type": "code",
   "execution_count": 9,
   "id": "0f2af88e-7c2d-4677-b36d-9e2d20005f9a",
   "metadata": {},
   "outputs": [
    {
     "data": {
      "text/plain": [
       "Index([' Destination Port', ' Flow Duration', ' Total Fwd Packets',\n",
       "       ' Total Backward Packets', 'Total Length of Fwd Packets',\n",
       "       ' Total Length of Bwd Packets', ' Fwd Packet Length Max',\n",
       "       ' Fwd Packet Length Min', ' Fwd Packet Length Mean',\n",
       "       ' Fwd Packet Length Std', 'Bwd Packet Length Max',\n",
       "       ' Bwd Packet Length Min', ' Bwd Packet Length Mean',\n",
       "       ' Bwd Packet Length Std', 'Flow Bytes/s', ' Flow Packets/s',\n",
       "       ' Flow IAT Mean', ' Flow IAT Std', ' Flow IAT Max', ' Flow IAT Min',\n",
       "       'Fwd IAT Total', ' Fwd IAT Mean', ' Fwd IAT Std', ' Fwd IAT Max',\n",
       "       ' Fwd IAT Min', 'Bwd IAT Total', ' Bwd IAT Mean', ' Bwd IAT Std',\n",
       "       ' Bwd IAT Max', ' Bwd IAT Min', 'Fwd PSH Flags', ' Bwd PSH Flags',\n",
       "       ' Fwd URG Flags', ' Bwd URG Flags', ' Fwd Header Length',\n",
       "       ' Bwd Header Length', 'Fwd Packets/s', ' Bwd Packets/s',\n",
       "       ' Min Packet Length', ' Max Packet Length', ' Packet Length Mean',\n",
       "       ' Packet Length Std', ' Packet Length Variance', 'FIN Flag Count',\n",
       "       ' SYN Flag Count', ' RST Flag Count', ' PSH Flag Count',\n",
       "       ' ACK Flag Count', ' URG Flag Count', ' CWE Flag Count',\n",
       "       ' ECE Flag Count', ' Down/Up Ratio', ' Average Packet Size',\n",
       "       ' Avg Fwd Segment Size', ' Avg Bwd Segment Size',\n",
       "       ' Fwd Header Length.1', 'Fwd Avg Bytes/Bulk', ' Fwd Avg Packets/Bulk',\n",
       "       ' Fwd Avg Bulk Rate', ' Bwd Avg Bytes/Bulk', ' Bwd Avg Packets/Bulk',\n",
       "       'Bwd Avg Bulk Rate', 'Subflow Fwd Packets', ' Subflow Fwd Bytes',\n",
       "       ' Subflow Bwd Packets', ' Subflow Bwd Bytes', 'Init_Win_bytes_forward',\n",
       "       ' Init_Win_bytes_backward', ' act_data_pkt_fwd',\n",
       "       ' min_seg_size_forward', 'Active Mean', ' Active Std', ' Active Max',\n",
       "       ' Active Min', 'Idle Mean', ' Idle Std', ' Idle Max', ' Idle Min',\n",
       "       ' Label'],\n",
       "      dtype='object')"
      ]
     },
     "execution_count": 9,
     "metadata": {},
     "output_type": "execute_result"
    }
   ],
   "source": [
    "new_df.columns"
   ]
  },
  {
   "cell_type": "code",
   "execution_count": 10,
   "id": "25c5e78b-7328-4a06-b98c-5c35881062b0",
   "metadata": {},
   "outputs": [
    {
     "data": {
      "text/plain": [
       " Label\n",
       "BENIGN                        2273097\n",
       "Bot                              1966\n",
       "DDoS                           128027\n",
       "DoS GoldenEye                   10293\n",
       "DoS Hulk                       231073\n",
       "DoS Slowhttptest                 5499\n",
       "DoS slowloris                    5796\n",
       "FTP-Patator                      7938\n",
       "Heartbleed                         11\n",
       "Infiltration                       36\n",
       "PortScan                       158930\n",
       "SSH-Patator                      5897\n",
       "Web Attack � Brute Force         1507\n",
       "Web Attack � Sql Injection         21\n",
       "Web Attack � XSS                  652\n",
       "Name:  Label, dtype: int64"
      ]
     },
     "execution_count": 10,
     "metadata": {},
     "output_type": "execute_result"
    }
   ],
   "source": [
    "tag = new_df.groupby(' Label')[' Label'].agg('count')\n",
    "tag"
   ]
  },
  {
   "cell_type": "code",
   "execution_count": 11,
   "id": "2dc277b6-7c87-4270-ba38-4a9bbe54adaf",
   "metadata": {},
   "outputs": [
    {
     "data": {
      "image/png": "[encoded data removed]",
      "text/plain": [
       "<Figure size 432x288 with 1 Axes>"
      ]
     },
     "metadata": {
      "needs_background": "light"
     },
     "output_type": "display_data"
    }
   ],
   "source": [
    "target = new_df[' Label']\n",
    "target.value_counts().plot(kind='bar')\n",
    "plt.xticks([0,1,2,3,4,5,6,7,8,9,10,11,12,13], ['Portscan','BENIGN', '3', \n",
    "                                               '4Portscan','5BENIGN', '6',\n",
    "                                               '7Portscan','8BENIGN', '9',\n",
    "                                                '10Portscan','11BENIGN', '12', \n",
    "                                               '13Portscan','Bdd'\n",
    "                                              \n",
    "                                              ])\n",
    "plt.xlabel(\"Gender\")\n",
    "plt.ylabel(\"Frequency\")\n",
    "plt.show()"
   ]
  },
  {
   "cell_type": "code",
   "execution_count": 12,
   "id": "a6e5f89f-d61d-41c4-a2b8-0078078303d3",
   "metadata": {},
   "outputs": [
    {
     "name": "stdout",
     "output_type": "stream",
     "text": [
      "1.0644173632152407\n",
      "(2830743, 76)\n",
      "(2830743, 76) 655453056.0\n",
      "0 --- 65535.0\n",
      "1 --- 120000000.0\n",
      "2 --- 219759.0\n",
      "3 --- 291922.0\n",
      "4 --- 12900000.0\n",
      "5 --- 655453056.0\n",
      "6 --- 24820.0\n",
      "7 --- 2325.0\n",
      "8 --- 5940.85693359375\n",
      "9 --- 7125.5966796875\n",
      "10 --- 19530.0\n",
      "11 --- 2896.0\n",
      "12 --- 5800.5\n",
      "13 --- 8194.66015625\n",
      "14 --- 120000000.0\n",
      "15 --- 84800264.0\n",
      "16 --- 120000000.0\n",
      "17 --- 120000000.0\n",
      "18 --- 120000000.0\n",
      "19 --- 120000000.0\n",
      "20 --- 84602928.0\n",
      "21 --- 120000000.0\n",
      "22 --- 120000000.0\n",
      "23 --- 120000000.0\n",
      "24 --- 120000000.0\n",
      "25 --- 84418016.0\n",
      "26 --- 120000000.0\n",
      "27 --- 120000000.0\n",
      "28 --- 1.0\n",
      "29 --- 0.0\n",
      "30 --- 1.0\n",
      "31 --- 0.0\n",
      "32 --- 4644908.0\n",
      "33 --- 5838440.0\n",
      "34 --- 3000000.0\n",
      "35 --- 2000000.0\n",
      "36 --- 1448.0\n",
      "37 --- 24820.0\n",
      "38 --- 3337.142822265625\n",
      "39 --- 4731.5224609375\n",
      "40 --- 22400000.0\n",
      "41 --- 1.0\n",
      "42 --- 1.0\n",
      "43 --- 1.0\n",
      "44 --- 1.0\n",
      "45 --- 1.0\n",
      "46 --- 1.0\n",
      "47 --- 1.0\n",
      "48 --- 1.0\n",
      "49 --- 156.0\n",
      "50 --- 3893.333251953125\n",
      "51 --- 5940.85693359375\n",
      "52 --- 5800.5\n",
      "53 --- 4644908.0\n",
      "54 --- 0.0\n",
      "55 --- 0.0\n",
      "56 --- 0.0\n",
      "57 --- 0.0\n",
      "58 --- 0.0\n",
      "59 --- 0.0\n",
      "60 --- 219759.0\n",
      "61 --- 12870338.0\n",
      "62 --- 291922.0\n",
      "63 --- 655453056.0\n",
      "64 --- 65535.0\n",
      "65 --- 65535.0\n",
      "66 --- 213557.0\n",
      "67 --- 138.0\n",
      "68 --- 110000000.0\n",
      "69 --- 74200000.0\n",
      "70 --- 110000000.0\n",
      "71 --- 110000000.0\n",
      "72 --- 120000000.0\n",
      "73 --- 76900000.0\n",
      "74 --- 120000000.0\n",
      "75 --- 120000000.0\n"
     ]
    }
   ],
   "source": [
    "from sklearn.preprocessing import LabelEncoder\n",
    "\n",
    "le = LabelEncoder()\n",
    "Y=le.fit_transform(target)\n",
    "\n",
    "print(np.average(Y))\n",
    "X=new_df.iloc[:,:-1]\n",
    "X.astype(np.float32,copy=False)\n",
    "\n",
    "X.drop(X.columns[14], axis=1,inplace=True)\n",
    "X.drop(X.columns[14], axis=1,inplace=True)\n",
    "\n",
    "print(X.shape)\n",
    "X.dropna()\n",
    "print(X.shape,np.max(np.max(X).astype(np.float32)))\n",
    "count = -1\n",
    "for i in np.max(X).astype(np.float32):\n",
    "    count += 1\n",
    "    print(count, '---',i)"
   ]
  },
  {
   "cell_type": "code",
   "execution_count": 13,
   "id": "ebb10341-a835-49e6-a35d-194e848fbccd",
   "metadata": {},
   "outputs": [
    {
     "name": "stdout",
     "output_type": "stream",
     "text": [
      "(2264594, 76) 2264594 (566149, 76) 566149\n"
     ]
    },
    {
     "data": {
      "text/plain": [
       "Index([' Destination Port', ' Flow Duration', ' Total Fwd Packets',\n",
       "       ' Total Backward Packets', 'Total Length of Fwd Packets',\n",
       "       ' Total Length of Bwd Packets', ' Fwd Packet Length Max',\n",
       "       ' Fwd Packet Length Min', ' Fwd Packet Length Mean',\n",
       "       ' Fwd Packet Length Std', 'Bwd Packet Length Max',\n",
       "       ' Bwd Packet Length Min', ' Bwd Packet Length Mean',\n",
       "       ' Bwd Packet Length Std', ' Flow IAT Mean', ' Flow IAT Std',\n",
       "       ' Flow IAT Max', ' Flow IAT Min', 'Fwd IAT Total', ' Fwd IAT Mean',\n",
       "       ' Fwd IAT Std', ' Fwd IAT Max', ' Fwd IAT Min', 'Bwd IAT Total',\n",
       "       ' Bwd IAT Mean', ' Bwd IAT Std', ' Bwd IAT Max', ' Bwd IAT Min',\n",
       "       'Fwd PSH Flags', ' Bwd PSH Flags', ' Fwd URG Flags', ' Bwd URG Flags',\n",
       "       ' Fwd Header Length', ' Bwd Header Length', 'Fwd Packets/s',\n",
       "       ' Bwd Packets/s', ' Min Packet Length', ' Max Packet Length',\n",
       "       ' Packet Length Mean', ' Packet Length Std', ' Packet Length Variance',\n",
       "       'FIN Flag Count', ' SYN Flag Count', ' RST Flag Count',\n",
       "       ' PSH Flag Count', ' ACK Flag Count', ' URG Flag Count',\n",
       "       ' CWE Flag Count', ' ECE Flag Count', ' Down/Up Ratio',\n",
       "       ' Average Packet Size', ' Avg Fwd Segment Size',\n",
       "       ' Avg Bwd Segment Size', ' Fwd Header Length.1', 'Fwd Avg Bytes/Bulk',\n",
       "       ' Fwd Avg Packets/Bulk', ' Fwd Avg Bulk Rate', ' Bwd Avg Bytes/Bulk',\n",
       "       ' Bwd Avg Packets/Bulk', 'Bwd Avg Bulk Rate', 'Subflow Fwd Packets',\n",
       "       ' Subflow Fwd Bytes', ' Subflow Bwd Packets', ' Subflow Bwd Bytes',\n",
       "       'Init_Win_bytes_forward', ' Init_Win_bytes_backward',\n",
       "       ' act_data_pkt_fwd', ' min_seg_size_forward', 'Active Mean',\n",
       "       ' Active Std', ' Active Max', ' Active Min', 'Idle Mean', ' Idle Std',\n",
       "       ' Idle Max', ' Idle Min'],\n",
       "      dtype='object')"
      ]
     },
     "execution_count": 13,
     "metadata": {},
     "output_type": "execute_result"
    }
   ],
   "source": [
    "np.random.seed(0)\n",
    "#x_train, x_test, y_train, y_test = train_test_split(label_puts, target, test_size = 0.99, random_state = 42)\n",
    "x_train, x_test, y_train, y_test = train_test_split(X, Y, test_size = 0.20, random_state = 42)\n",
    "print(x_train.shape,len(y_train),x_test.shape,len(y_test))\n",
    "x_train.columns"
   ]
  },
  {
   "cell_type": "code",
   "execution_count": 14,
   "id": "85645c65-e37a-4cd5-a7d5-ef1b0de8b621",
   "metadata": {},
   "outputs": [
    {
     "name": "stdout",
     "output_type": "stream",
     "text": [
      "---------------------------Decision Tree CLassifier------------------\n"
     ]
    }
   ],
   "source": [
    "print('---------------------------Decision Tree CLassifier------------------')"
   ]
  },
  {
   "cell_type": "code",
   "execution_count": 16,
   "id": "4a4092e0-d595-498a-a282-424940208477",
   "metadata": {},
   "outputs": [],
   "source": [
    "print(x_train.shape, y_train.shape)\n",
    "dtc = DecisionTreeClassifier(max_depth = 15)\n",
    "dtc = dtc.fit(x_train,y_train)"
   ]
  },
  {
   "cell_type": "code",
   "execution_count": 17,
   "id": "57e5248e-0b6b-4c3b-865b-93ea63750434",
   "metadata": {},
   "outputs": [
    {
     "data": {
      "text/plain": [
       "array([ 0,  0,  4, ...,  0,  0, 10])"
      ]
     },
     "execution_count": 17,
     "metadata": {},
     "output_type": "execute_result"
    }
   ],
   "source": [
    "y_pred = dtc.predict(x_test)\n",
    "y_pred"
   ]
  },
  {
   "cell_type": "code",
   "execution_count": 18,
   "id": "f4f40dd7-20e8-41bf-981e-58d87db0e5bd",
   "metadata": {},
   "outputs": [
    {
     "name": "stdout",
     "output_type": "stream",
     "text": [
      "0.9975571801769498\n",
      "0.9975571801769498\n",
      "0.7598913238760986\n"
     ]
    }
   ],
   "source": [
    "from sklearn.metrics import accuracy_score,f1_score\n",
    "print(dtc.score(x_test, y_test))\n",
    "print(accuracy_score(y_test, y_pred))\n",
    "print(f1_score(y_test, y_pred, average='macro'))"
   ]
  },
  {
   "cell_type": "code",
   "execution_count": null,
   "id": "15ea1845-30d4-4c4a-89b3-f24a05c91f73",
   "metadata": {},
   "outputs": [],
   "source": [
    "attributes = list(x_train)\n",
    "sorted(zip(dtc.feature_importances_, attributes), reverse=True)"
   ]
  },
  {
   "cell_type": "code",
   "execution_count": null,
   "id": "85201101-bd1e-45cc-a09f-ee1e7e5d7659",
   "metadata": {},
   "outputs": [],
   "source": [
    "train_accuracy = []\n",
    "validation_accuracy = []\n",
    "for depth in range(1,100):\n",
    "    dt_model = DecisionTreeClassifier(max_depth=depth, random_state=10)\n",
    "    dt_model.fit(x_train, y_train)\n",
    "    train_accuracy.append(dt_model.score(x_train, y_train))\n",
    "    validation_accuracy.append(dt_model.score(x_test, y_test))\n",
    "print(len(train_accuracy))\n",
    "print(len(validation_accuracy))\n",
    "frame = pd.DataFrame({'max_depth':range(1,100), 'train_acc':train_accuracy, 'valid_acc':validation_accuracy})"
   ]
  },
  {
   "cell_type": "code",
   "execution_count": null,
   "id": "8ce7279d-3600-4f22-8a12-873ebaafa274",
   "metadata": {},
   "outputs": [],
   "source": [
    "plt.figure(figsize=(12,6))\n",
    "plt.plot(frame['max_depth'], frame['train_acc'], marker='o')\n",
    "plt.plot(frame['max_depth'], frame['valid_acc'], marker='o')\n",
    "plt.xlabel('Depth of the tree')\n",
    "plt.ylabel('performance')\n",
    "plt.legend()"
   ]
  },
  {
   "cell_type": "code",
   "execution_count": null,
   "id": "5c421c27-d81e-47aa-a1b8-d15406179a6f",
   "metadata": {},
   "outputs": [],
   "source": [
    "attributes = list(x_train)\n",
    "sorted(zip(dtc.feature_importances_, attributes), reverse=True)"
   ]
  },
  {
   "cell_type": "code",
   "execution_count": null,
   "id": "fbc05282-012b-4790-bb7a-9c75855e4707",
   "metadata": {},
   "outputs": [],
   "source": [
    "print('hi')"
   ]
  },
  {
   "cell_type": "code",
   "execution_count": null,
   "id": "09c69f82-fc87-425a-8fb6-b46cdd68450e",
   "metadata": {},
   "outputs": [],
   "source": [
    "from sklearn.model_selection import cross_val_score"
   ]
  },
  {
   "cell_type": "code",
   "execution_count": null,
   "id": "1e747ebf-c2aa-4c98-9efb-13fc6dc528b4",
   "metadata": {},
   "outputs": [],
   "source": [
    "cross_val_score(DecisionTreeClassifier(max_depth = 30),X,Y,cv=3)"
   ]
  },
  {
   "cell_type": "code",
   "execution_count": null,
   "id": "d7dd1318-db81-427f-a86d-c64894d0fb78",
   "metadata": {},
   "outputs": [],
   "source": [
    "print('---------------------------Random Forest CLassifier------------------')\n",
    "from sklearn.ensemble import RandomForestClassifier\n",
    "model = RandomForestClassifier(n_estimators =5)\n",
    "model = model.fit(x_train, y_train)\n",
    "rfy_pred = model.predict(x_test)\n",
    "acc = metrics.accuracy_score(y_test, y_pred)\n",
    "print(model.score(x_test,y_test))"
   ]
  },
  {
   "cell_type": "code",
   "execution_count": null,
   "id": "ddc5592b-1d32-46ad-ac4b-0d8a743189c8",
   "metadata": {},
   "outputs": [],
   "source": [
    "attributes = list(x_train)\n",
    "sorted(zip(model.feature_importances_, attributes), reverse=True)"
   ]
  },
  {
   "cell_type": "code",
   "execution_count": null,
   "id": "9837e17b-8bd9-4f2c-8622-51f7f80ae6da",
   "metadata": {},
   "outputs": [],
   "source": [
    "print('---------------------------Random Forest Regressor------------------')\n"
   ]
  },
  {
   "cell_type": "code",
   "execution_count": null,
   "id": "1a4c4782-ebec-4c11-b01f-64a57dbefc1f",
   "metadata": {},
   "outputs": [],
   "source": [
    "from sklearn.ensemble import RandomForestRegressor\n",
    "from sklearn.datasets import make_regression\n",
    "# Fitting Random Forest Regression to the dataset\n",
    "# import the regressor\n",
    "from sklearn.ensemble import RandomForestRegressor\n",
    " # create regressor object\n",
    "regressor = RandomForestRegressor(n_estimators = 5, random_state = 0)\n",
    "# fit the regressor with x and y data\n",
    "regressor.fit(x_train, y_train)  \n"
   ]
  },
  {
   "cell_type": "code",
   "execution_count": null,
   "id": "d6905e1d-499d-4bfe-9ded-451b8235e99f",
   "metadata": {},
   "outputs": [],
   "source": [
    "print(regressor.score(x_test, y_test))\n",
    "print(accuracy_score(y_test, y_pred))\n",
    "print(f1_score(y_test, y_pred, average='micro'))"
   ]
  },
  {
   "cell_type": "code",
   "execution_count": null,
   "id": "d2bc8e0a-d149-460d-b4ab-a2cec975c81b",
   "metadata": {},
   "outputs": [],
   "source": [
    "attributes = list(x_train)\n",
    "sorted(zip(regressor.feature_importances_, attributes), reverse=True)"
   ]
  },
  {
   "cell_type": "code",
   "execution_count": 19,
   "id": "88d6eb58-f0ce-4b31-8a28-3f962e31337d",
   "metadata": {},
   "outputs": [
    {
     "name": "stdout",
     "output_type": "stream",
     "text": [
      "Extra Trees---------------------\n"
     ]
    }
   ],
   "source": [
    "print('Extra Trees-------- For Feature selection-------------')"
   ]
  },
  {
   "cell_type": "code",
   "execution_count": 20,
   "id": "4d06c598-adad-480f-a3cf-fd55463ad211",
   "metadata": {},
   "outputs": [
    {
     "name": "stdout",
     "output_type": "stream",
     "text": [
      "[4.71710651e-02 1.52130730e-02 6.29487311e-03 6.84566129e-03\n",
      " 4.55618523e-03 5.79419719e-03 8.79891752e-03 1.08344357e-02\n",
      " 1.34891879e-02 9.43140084e-03 3.09719111e-02 3.23672433e-02\n",
      " 3.08917470e-02 3.07383256e-02 8.72647362e-03 1.41399488e-02\n",
      " 3.00517714e-02 5.50515937e-03 1.95741880e-02 1.17649262e-02\n",
      " 2.65975661e-02 2.25762801e-02 6.92648922e-03 7.20202706e-03\n",
      " 4.99862072e-03 4.43451567e-03 7.02813256e-03 2.29542992e-03\n",
      " 4.34890045e-03 0.00000000e+00 3.25649825e-06 0.00000000e+00\n",
      " 1.16428531e-02 7.81381685e-03 1.83113403e-02 4.88700140e-03\n",
      " 1.73209525e-02 1.29595038e-02 2.74726761e-02 2.83066121e-02\n",
      " 2.46380206e-02 9.06345158e-03 4.66848424e-03 3.66851145e-07\n",
      " 6.69357369e-02 2.83393326e-02 1.07035933e-02 9.75849743e-06\n",
      " 1.44788348e-06 1.34076294e-02 2.76519719e-02 6.93141585e-03\n",
      " 3.29193516e-02 1.13676557e-02 0.00000000e+00 0.00000000e+00\n",
      " 0.00000000e+00 0.00000000e+00 0.00000000e+00 0.00000000e+00\n",
      " 1.24441722e-02 5.48553304e-03 6.62333530e-03 6.13572612e-03\n",
      " 3.18805271e-02 6.79605981e-03 1.38228694e-02 4.35318317e-02\n",
      " 1.88495097e-03 2.04646057e-04 1.34836995e-03 2.08477607e-03\n",
      " 2.31455156e-02 2.92598966e-03 2.13442916e-02 2.54165229e-02]\n"
     ]
    }
   ],
   "source": [
    "from pandas import read_csv\n",
    "from sklearn.ensemble import ExtraTreesClassifier\n",
    "# # path = r'C:\\Desktop\\pima-indians-diabetes.csv'\n",
    "# # names = ['preg', 'plas', 'pres', 'skin', 'test', 'mass', 'pedi', 'age', 'class']\n",
    "# # dataframe = read_csv(data, names=names)\n",
    "# # array = dataframe.value\n",
    "\n",
    "# dtc = DecisionTreeClassifier(max_depth = 15)\n",
    "# dtc = dtc.fit(x_train,y_train)\n",
    "# # X = array[:,0:8]\n",
    "# Y = array[:,8]\n",
    "\n",
    "model = ExtraTreesClassifier()\n",
    "model.fit(x_train,y_train)"
   ]
  },
  {
   "cell_type": "code",
   "execution_count": 21,
   "id": "3a44ed9a-d7b4-4686-aec1-7419706179e2",
   "metadata": {},
   "outputs": [
    {
     "data": {
      "text/plain": [
       "[(0.06693573691020385, ' PSH Flag Count'),\n",
       " (0.047171065093585644, ' Destination Port'),\n",
       " (0.043531831730088975, ' min_seg_size_forward'),\n",
       " (0.03291935156510166, ' Avg Bwd Segment Size'),\n",
       " (0.03236724330999339, ' Bwd Packet Length Min'),\n",
       " (0.03188052712741721, 'Init_Win_bytes_forward'),\n",
       " (0.030971911063000523, 'Bwd Packet Length Max'),\n",
       " (0.030891746993524434, ' Bwd Packet Length Mean'),\n",
       " (0.030738325597946457, ' Bwd Packet Length Std'),\n",
       " (0.03005177143500033, ' Flow IAT Max'),\n",
       " (0.028339332561238235, ' ACK Flag Count'),\n",
       " (0.028306612055692276, ' Packet Length Std'),\n",
       " (0.027651971865009724, ' Average Packet Size'),\n",
       " (0.027472676100923254, ' Packet Length Mean'),\n",
       " (0.026597566138777506, ' Fwd IAT Std'),\n",
       " (0.02541652286603055, ' Idle Min'),\n",
       " (0.024638020604799873, ' Packet Length Variance'),\n",
       " (0.023145515569645555, 'Idle Mean'),\n",
       " (0.02257628007688521, ' Fwd IAT Max'),\n",
       " (0.02134429157608102, ' Idle Max'),\n",
       " (0.019574188047516042, 'Fwd IAT Total'),\n",
       " (0.018311340336690136, 'Fwd Packets/s'),\n",
       " (0.01732095250351709, ' Min Packet Length'),\n",
       " (0.015213073024064471, ' Flow Duration'),\n",
       " (0.01413994881742515, ' Flow IAT Std'),\n",
       " (0.013822869449396702, ' act_data_pkt_fwd'),\n",
       " (0.013489187873529825, ' Fwd Packet Length Mean'),\n",
       " (0.01340762939650134, ' Down/Up Ratio'),\n",
       " (0.012959503760513826, ' Max Packet Length'),\n",
       " (0.012444172239628546, 'Subflow Fwd Packets'),\n",
       " (0.011764926201085093, ' Fwd IAT Mean'),\n",
       " (0.011642853100578245, ' Fwd Header Length'),\n",
       " (0.011367655687322004, ' Fwd Header Length.1'),\n",
       " (0.01083443566739114, ' Fwd Packet Length Min'),\n",
       " (0.010703593290730045, ' URG Flag Count'),\n",
       " (0.009431400844948005, ' Fwd Packet Length Std'),\n",
       " (0.009063451576010913, 'FIN Flag Count'),\n",
       " (0.008798917519554155, ' Fwd Packet Length Max'),\n",
       " (0.008726473615051864, ' Flow IAT Mean'),\n",
       " (0.007813816852177496, ' Bwd Header Length'),\n",
       " (0.007202027058894528, 'Bwd IAT Total'),\n",
       " (0.00702813256268333, ' Bwd IAT Max'),\n",
       " (0.00693141584866364, ' Avg Fwd Segment Size'),\n",
       " (0.006926489215296677, ' Fwd IAT Min'),\n",
       " (0.006845661286078918, ' Total Backward Packets'),\n",
       " (0.006796059810988825, ' Init_Win_bytes_backward'),\n",
       " (0.006623335296431283, ' Subflow Bwd Packets'),\n",
       " (0.006294873105464328, ' Total Fwd Packets'),\n",
       " (0.006135726120897702, ' Subflow Bwd Bytes'),\n",
       " (0.005794197186128295, ' Total Length of Bwd Packets'),\n",
       " (0.005505159365102669, ' Flow IAT Min'),\n",
       " (0.005485533039016819, ' Subflow Fwd Bytes'),\n",
       " (0.004998620722671512, ' Bwd IAT Mean'),\n",
       " (0.004887001403782661, ' Bwd Packets/s'),\n",
       " (0.004668484240957751, ' SYN Flag Count'),\n",
       " (0.004556185232993325, 'Total Length of Fwd Packets'),\n",
       " (0.004434515671067161, ' Bwd IAT Std'),\n",
       " (0.004348900446766975, 'Fwd PSH Flags'),\n",
       " (0.002925989659267004, ' Idle Std'),\n",
       " (0.0022954299160391953, ' Bwd IAT Min'),\n",
       " (0.0020847760664107705, ' Active Min'),\n",
       " (0.0018849509662813332, 'Active Mean'),\n",
       " (0.0013483699458653703, ' Active Max'),\n",
       " (0.00020464605736500544, ' Active Std'),\n",
       " (9.758497430937929e-06, ' CWE Flag Count'),\n",
       " (3.2564982464166172e-06, ' Fwd URG Flags'),\n",
       " (1.447883484527278e-06, ' ECE Flag Count'),\n",
       " (3.668511452909695e-07, ' RST Flag Count'),\n",
       " (0.0, 'Fwd Avg Bytes/Bulk'),\n",
       " (0.0, 'Bwd Avg Bulk Rate'),\n",
       " (0.0, ' Fwd Avg Packets/Bulk'),\n",
       " (0.0, ' Fwd Avg Bulk Rate'),\n",
       " (0.0, ' Bwd URG Flags'),\n",
       " (0.0, ' Bwd PSH Flags'),\n",
       " (0.0, ' Bwd Avg Packets/Bulk'),\n",
       " (0.0, ' Bwd Avg Bytes/Bulk')]"
      ]
     },
     "execution_count": 21,
     "metadata": {},
     "output_type": "execute_result"
    }
   ],
   "source": [
    "attributes = list(x_train)\n",
    "sorted(zip(model.feature_importances_, attributes), reverse=True)"
   ]
  },
  {
   "cell_type": "code",
   "execution_count": null,
   "id": "77f52059-9dca-42d6-8aac-617117169551",
   "metadata": {},
   "outputs": [],
   "source": []
  },
  {
   "cell_type": "code",
   "execution_count": null,
   "id": "2a329e2a-eaf4-4470-9bc4-8617c41af3c8",
   "metadata": {},
   "outputs": [],
   "source": []
  },
  {
   "cell_type": "code",
   "execution_count": null,
   "id": "c3b317ac-55f1-4328-9b6f-85199f6418db",
   "metadata": {},
   "outputs": [],
   "source": []
  },
  {
   "cell_type": "code",
   "execution_count": null,
   "id": "7ece8545-c5bb-45d0-aa58-fd280c2e8d63",
   "metadata": {},
   "outputs": [],
   "source": []
  },
  {
   "cell_type": "code",
   "execution_count": null,
   "id": "42f29f1a-f55c-4797-86b2-0c27452b089d",
   "metadata": {},
   "outputs": [],
   "source": []
  },
  {
   "cell_type": "code",
   "execution_count": null,
   "id": "801bd760-e06a-4644-94c7-2e4c06ceab89",
   "metadata": {},
   "outputs": [],
   "source": []
  },
  {
   "cell_type": "code",
   "execution_count": null,
   "id": "930bd6a2-fd5a-4e42-9260-add6438531cf",
   "metadata": {},
   "outputs": [],
   "source": []
  },
  {
   "cell_type": "code",
   "execution_count": 17,
   "id": "b85481fb-aa51-4fb5-af0f-424218a03285",
   "metadata": {},
   "outputs": [
    {
     "name": "stdout",
     "output_type": "stream",
     "text": [
      "------------Checking Individual Feature importance------\n"
     ]
    }
   ],
   "source": [
    "# print('------------Checking Individual Feature importance------')"
   ]
  },
  {
   "cell_type": "code",
   "execution_count": 33,
   "id": "3fc4e855-bf37-4942-9c90-c739898b8f6c",
   "metadata": {},
   "outputs": [],
   "source": [
    "# df_some_rows = new_df[(new_df[' Label'] == 'DDoS')]\n",
    "# df_some_rows"
   ]
  },
  {
   "cell_type": "code",
   "execution_count": 29,
   "id": "26c25e44-cd0a-484c-9532-ebc09faf0c72",
   "metadata": {},
   "outputs": [
    {
     "name": "stdout",
     "output_type": "stream",
     "text": [
      "0.0\n",
      "(102421, 76) 102421 (25606, 76) 25606\n"
     ]
    },
    {
     "data": {
      "text/plain": [
       "Index([' Destination Port', ' Flow Duration', ' Total Fwd Packets',\n",
       "       ' Total Backward Packets', 'Total Length of Fwd Packets',\n",
       "       ' Total Length of Bwd Packets', ' Fwd Packet Length Max',\n",
       "       ' Fwd Packet Length Min', ' Fwd Packet Length Mean',\n",
       "       ' Fwd Packet Length Std', 'Bwd Packet Length Max',\n",
       "       ' Bwd Packet Length Min', ' Bwd Packet Length Mean',\n",
       "       ' Bwd Packet Length Std', ' Flow IAT Mean', ' Flow IAT Std',\n",
       "       ' Flow IAT Max', ' Flow IAT Min', 'Fwd IAT Total', ' Fwd IAT Mean',\n",
       "       ' Fwd IAT Std', ' Fwd IAT Max', ' Fwd IAT Min', 'Bwd IAT Total',\n",
       "       ' Bwd IAT Mean', ' Bwd IAT Std', ' Bwd IAT Max', ' Bwd IAT Min',\n",
       "       'Fwd PSH Flags', ' Bwd PSH Flags', ' Fwd URG Flags', ' Bwd URG Flags',\n",
       "       ' Fwd Header Length', ' Bwd Header Length', 'Fwd Packets/s',\n",
       "       ' Bwd Packets/s', ' Min Packet Length', ' Max Packet Length',\n",
       "       ' Packet Length Mean', ' Packet Length Std', ' Packet Length Variance',\n",
       "       'FIN Flag Count', ' SYN Flag Count', ' RST Flag Count',\n",
       "       ' PSH Flag Count', ' ACK Flag Count', ' URG Flag Count',\n",
       "       ' CWE Flag Count', ' ECE Flag Count', ' Down/Up Ratio',\n",
       "       ' Average Packet Size', ' Avg Fwd Segment Size',\n",
       "       ' Avg Bwd Segment Size', ' Fwd Header Length.1', 'Fwd Avg Bytes/Bulk',\n",
       "       ' Fwd Avg Packets/Bulk', ' Fwd Avg Bulk Rate', ' Bwd Avg Bytes/Bulk',\n",
       "       ' Bwd Avg Packets/Bulk', 'Bwd Avg Bulk Rate', 'Subflow Fwd Packets',\n",
       "       ' Subflow Fwd Bytes', ' Subflow Bwd Packets', ' Subflow Bwd Bytes',\n",
       "       'Init_Win_bytes_forward', ' Init_Win_bytes_backward',\n",
       "       ' act_data_pkt_fwd', ' min_seg_size_forward', 'Active Mean',\n",
       "       ' Active Std', ' Active Max', ' Active Min', 'Idle Mean', ' Idle Std',\n",
       "       ' Idle Max', ' Idle Min'],\n",
       "      dtype='object')"
      ]
     },
     "execution_count": 29,
     "metadata": {},
     "output_type": "execute_result"
    }
   ],
   "source": [
    "# le = LabelEncoder()\n",
    "# target = df_some_rows[' Label']\n",
    "# Y=le.fit_transform(target)\n",
    "\n",
    "# print(np.average(Y))\n",
    "# X=df_some_rows.iloc[:,:-1]\n",
    "# X.astype(np.float32,copy=False)\n",
    "\n",
    "\n",
    "# X.drop(X.columns[14], axis=1,inplace=True)\n",
    "# X.drop(X.columns[14], axis=1,inplace=True)\n",
    "\n",
    "# np.random.seed(0)\n",
    "# #x_train, x_test, y_train, y_test = train_test_split(label_puts, target, test_size = 0.99, random_state = 42)\n",
    "# x_train, x_test, y_train, y_test = train_test_split(X, Y, test_size = 0.20, random_state = 42)\n",
    "# print(x_train.shape,len(y_train),x_test.shape,len(y_test))\n",
    "# x_train.columns"
   ]
  },
  {
   "cell_type": "code",
   "execution_count": 32,
   "id": "658cfa62-55b7-4b29-bd60-35a3f512132f",
   "metadata": {},
   "outputs": [],
   "source": [
    "# dtc = DecisionTreeClassifier(max_depth = 15)\n",
    "# dtc = dtc.fit(x_train,y_train)\n",
    "# y_pred = dtc.predict(x_test)\n",
    "# # y_pred\n",
    "\n",
    "# from sklearn.metrics import accuracy_score,f1_score\n",
    "# print(dtc.score(x_test, y_test))\n",
    "# print(accuracy_score(y_test, y_pred))\n",
    "# print(f1_score(y_test, y_pred))"
   ]
  },
  {
   "cell_type": "code",
   "execution_count": 31,
   "id": "f1f22080-8e69-4067-ad73-975fd6fc1c8c",
   "metadata": {},
   "outputs": [
    {
     "data": {
      "text/plain": [
       "[(0.0, 'Total Length of Fwd Packets'),\n",
       " (0.0, 'Subflow Fwd Packets'),\n",
       " (0.0, 'Init_Win_bytes_forward'),\n",
       " (0.0, 'Idle Mean'),\n",
       " (0.0, 'Fwd Packets/s'),\n",
       " (0.0, 'Fwd PSH Flags'),\n",
       " (0.0, 'Fwd IAT Total'),\n",
       " (0.0, 'Fwd Avg Bytes/Bulk'),\n",
       " (0.0, 'FIN Flag Count'),\n",
       " (0.0, 'Bwd Packet Length Max'),\n",
       " (0.0, 'Bwd IAT Total'),\n",
       " (0.0, 'Bwd Avg Bulk Rate'),\n",
       " (0.0, 'Active Mean'),\n",
       " (0.0, ' min_seg_size_forward'),\n",
       " (0.0, ' act_data_pkt_fwd'),\n",
       " (0.0, ' URG Flag Count'),\n",
       " (0.0, ' Total Length of Bwd Packets'),\n",
       " (0.0, ' Total Fwd Packets'),\n",
       " (0.0, ' Total Backward Packets'),\n",
       " (0.0, ' Subflow Fwd Bytes'),\n",
       " (0.0, ' Subflow Bwd Packets'),\n",
       " (0.0, ' Subflow Bwd Bytes'),\n",
       " (0.0, ' SYN Flag Count'),\n",
       " (0.0, ' RST Flag Count'),\n",
       " (0.0, ' Packet Length Variance'),\n",
       " (0.0, ' Packet Length Std'),\n",
       " (0.0, ' Packet Length Mean'),\n",
       " (0.0, ' PSH Flag Count'),\n",
       " (0.0, ' Min Packet Length'),\n",
       " (0.0, ' Max Packet Length'),\n",
       " (0.0, ' Init_Win_bytes_backward'),\n",
       " (0.0, ' Idle Std'),\n",
       " (0.0, ' Idle Min'),\n",
       " (0.0, ' Idle Max'),\n",
       " (0.0, ' Fwd URG Flags'),\n",
       " (0.0, ' Fwd Packet Length Std'),\n",
       " (0.0, ' Fwd Packet Length Min'),\n",
       " (0.0, ' Fwd Packet Length Mean'),\n",
       " (0.0, ' Fwd Packet Length Max'),\n",
       " (0.0, ' Fwd IAT Std'),\n",
       " (0.0, ' Fwd IAT Min'),\n",
       " (0.0, ' Fwd IAT Mean'),\n",
       " (0.0, ' Fwd IAT Max'),\n",
       " (0.0, ' Fwd Header Length.1'),\n",
       " (0.0, ' Fwd Header Length'),\n",
       " (0.0, ' Fwd Avg Packets/Bulk'),\n",
       " (0.0, ' Fwd Avg Bulk Rate'),\n",
       " (0.0, ' Flow IAT Std'),\n",
       " (0.0, ' Flow IAT Min'),\n",
       " (0.0, ' Flow IAT Mean'),\n",
       " (0.0, ' Flow IAT Max'),\n",
       " (0.0, ' Flow Duration'),\n",
       " (0.0, ' ECE Flag Count'),\n",
       " (0.0, ' Down/Up Ratio'),\n",
       " (0.0, ' Destination Port'),\n",
       " (0.0, ' CWE Flag Count'),\n",
       " (0.0, ' Bwd URG Flags'),\n",
       " (0.0, ' Bwd Packets/s'),\n",
       " (0.0, ' Bwd Packet Length Std'),\n",
       " (0.0, ' Bwd Packet Length Min'),\n",
       " (0.0, ' Bwd Packet Length Mean'),\n",
       " (0.0, ' Bwd PSH Flags'),\n",
       " (0.0, ' Bwd IAT Std'),\n",
       " (0.0, ' Bwd IAT Min'),\n",
       " (0.0, ' Bwd IAT Mean'),\n",
       " (0.0, ' Bwd IAT Max'),\n",
       " (0.0, ' Bwd Header Length'),\n",
       " (0.0, ' Bwd Avg Packets/Bulk'),\n",
       " (0.0, ' Bwd Avg Bytes/Bulk'),\n",
       " (0.0, ' Avg Fwd Segment Size'),\n",
       " (0.0, ' Avg Bwd Segment Size'),\n",
       " (0.0, ' Average Packet Size'),\n",
       " (0.0, ' Active Std'),\n",
       " (0.0, ' Active Min'),\n",
       " (0.0, ' Active Max'),\n",
       " (0.0, ' ACK Flag Count')]"
      ]
     },
     "execution_count": 31,
     "metadata": {},
     "output_type": "execute_result"
    }
   ],
   "source": [
    "# attributes = list(x_train)\n",
    "# sorted(zip(dtc.feature_importances_, attributes), reverse=True)"
   ]
  },
  {
   "cell_type": "code",
   "execution_count": null,
   "id": "30a71dbc-b518-477f-a012-cdebc3058b35",
   "metadata": {},
   "outputs": [],
   "source": []
  },
  {
   "cell_type": "code",
   "execution_count": null,
   "id": "d2e07be5-6855-4172-a726-635c8f9861f7",
   "metadata": {},
   "outputs": [],
   "source": []
  },
  {
   "cell_type": "code",
   "execution_count": null,
   "id": "9c61bb86-31b2-474d-b512-59d5456f3ac7",
   "metadata": {},
   "outputs": [],
   "source": []
  }
 ],
 "metadata": {
  "kernelspec": {
   "display_name": "Python 3 (ipykernel)",
   "language": "python",
   "name": "python3"
  },
  "language_info": {
   "codemirror_mode": {
    "name": "ipython",
    "version": 3
   },
   "file_extension": ".py",
   "mimetype": "text/x-python",
   "name": "python",
   "nbconvert_exporter": "python",
   "pygments_lexer": "ipython3",
   "version": "3.9.6"
  }
 },
 "nbformat": 4,
 "nbformat_minor": 5
}
