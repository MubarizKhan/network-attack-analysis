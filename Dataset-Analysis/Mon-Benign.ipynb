{
 "cells": [
  {
   "cell_type": "code",
   "execution_count": 1,
   "id": "885c6607-b0fd-4445-86a3-d47fa67da621",
   "metadata": {},
   "outputs": [],
   "source": [
    "# Monday-WorkingHours.pcap_ISCX.csv"
   ]
  },
  {
   "cell_type": "code",
   "execution_count": 2,
   "id": "78925e16-e2ef-420c-a731-f7d57f2a709f",
   "metadata": {},
   "outputs": [],
   "source": [
    "import matplotlib \n",
    "import matplotlib.pyplot as plt\n",
    "%matplotlib inline\n",
    "import numpy as np\n",
    "import pandas as pd\n",
    "import seaborn as sns\n",
    "from sklearn.model_selection import train_test_split\n",
    "from sklearn.tree import DecisionTreeClassifier\n",
    "from sklearn import metrics"
   ]
  },
  {
   "cell_type": "code",
   "execution_count": 3,
   "id": "7206c449-2ae9-4ca3-9ed2-74b62d1b1a71",
   "metadata": {},
   "outputs": [
    {
     "name": "stdout",
     "output_type": "stream",
     "text": [
      "<class 'pandas.core.frame.DataFrame'>\n",
      "RangeIndex: 529918 entries, 0 to 529917\n",
      "Data columns (total 79 columns):\n",
      " #   Column                        Non-Null Count   Dtype  \n",
      "---  ------                        --------------   -----  \n",
      " 0    Destination Port             529918 non-null  Int64  \n",
      " 1    Flow Duration                529918 non-null  Int64  \n",
      " 2    Total Fwd Packets            529918 non-null  Int64  \n",
      " 3    Total Backward Packets       529918 non-null  Int64  \n",
      " 4   Total Length of Fwd Packets   529918 non-null  Int64  \n",
      " 5    Total Length of Bwd Packets  529918 non-null  Int64  \n",
      " 6    Fwd Packet Length Max        529918 non-null  Int64  \n",
      " 7    Fwd Packet Length Min        529918 non-null  Int64  \n",
      " 8    Fwd Packet Length Mean       529918 non-null  Float64\n",
      " 9    Fwd Packet Length Std        529918 non-null  Float64\n",
      " 10  Bwd Packet Length Max         529918 non-null  Int64  \n",
      " 11   Bwd Packet Length Min        529918 non-null  Int64  \n",
      " 12   Bwd Packet Length Mean       529918 non-null  Float64\n",
      " 13   Bwd Packet Length Std        529918 non-null  Float64\n",
      " 14  Flow Bytes/s                  529854 non-null  Float64\n",
      " 15   Flow Packets/s               529918 non-null  Float64\n",
      " 16   Flow IAT Mean                529918 non-null  Float64\n",
      " 17   Flow IAT Std                 529918 non-null  Float64\n",
      " 18   Flow IAT Max                 529918 non-null  Int64  \n",
      " 19   Flow IAT Min                 529918 non-null  Int64  \n",
      " 20  Fwd IAT Total                 529918 non-null  Int64  \n",
      " 21   Fwd IAT Mean                 529918 non-null  Float64\n",
      " 22   Fwd IAT Std                  529918 non-null  Float64\n",
      " 23   Fwd IAT Max                  529918 non-null  Int64  \n",
      " 24   Fwd IAT Min                  529918 non-null  Int64  \n",
      " 25  Bwd IAT Total                 529918 non-null  Int64  \n",
      " 26   Bwd IAT Mean                 529918 non-null  Float64\n",
      " 27   Bwd IAT Std                  529918 non-null  Float64\n",
      " 28   Bwd IAT Max                  529918 non-null  Int64  \n",
      " 29   Bwd IAT Min                  529918 non-null  Int64  \n",
      " 30  Fwd PSH Flags                 529918 non-null  Int64  \n",
      " 31   Bwd PSH Flags                529918 non-null  Int64  \n",
      " 32   Fwd URG Flags                529918 non-null  Int64  \n",
      " 33   Bwd URG Flags                529918 non-null  Int64  \n",
      " 34   Fwd Header Length            529918 non-null  Int64  \n",
      " 35   Bwd Header Length            529918 non-null  Int64  \n",
      " 36  Fwd Packets/s                 529918 non-null  Float64\n",
      " 37   Bwd Packets/s                529918 non-null  Float64\n",
      " 38   Min Packet Length            529918 non-null  Int64  \n",
      " 39   Max Packet Length            529918 non-null  Int64  \n",
      " 40   Packet Length Mean           529918 non-null  Float64\n",
      " 41   Packet Length Std            529918 non-null  Float64\n",
      " 42   Packet Length Variance       529918 non-null  Float64\n",
      " 43  FIN Flag Count                529918 non-null  Int64  \n",
      " 44   SYN Flag Count               529918 non-null  Int64  \n",
      " 45   RST Flag Count               529918 non-null  Int64  \n",
      " 46   PSH Flag Count               529918 non-null  Int64  \n",
      " 47   ACK Flag Count               529918 non-null  Int64  \n",
      " 48   URG Flag Count               529918 non-null  Int64  \n",
      " 49   CWE Flag Count               529918 non-null  Int64  \n",
      " 50   ECE Flag Count               529918 non-null  Int64  \n",
      " 51   Down/Up Ratio                529918 non-null  Int64  \n",
      " 52   Average Packet Size          529918 non-null  Float64\n",
      " 53   Avg Fwd Segment Size         529918 non-null  Float64\n",
      " 54   Avg Bwd Segment Size         529918 non-null  Float64\n",
      " 55   Fwd Header Length.1          529918 non-null  Int64  \n",
      " 56  Fwd Avg Bytes/Bulk            529918 non-null  Int64  \n",
      " 57   Fwd Avg Packets/Bulk         529918 non-null  Int64  \n",
      " 58   Fwd Avg Bulk Rate            529918 non-null  Int64  \n",
      " 59   Bwd Avg Bytes/Bulk           529918 non-null  Int64  \n",
      " 60   Bwd Avg Packets/Bulk         529918 non-null  Int64  \n",
      " 61  Bwd Avg Bulk Rate             529918 non-null  Int64  \n",
      " 62  Subflow Fwd Packets           529918 non-null  Int64  \n",
      " 63   Subflow Fwd Bytes            529918 non-null  Int64  \n",
      " 64   Subflow Bwd Packets          529918 non-null  Int64  \n",
      " 65   Subflow Bwd Bytes            529918 non-null  Int64  \n",
      " 66  Init_Win_bytes_forward        529918 non-null  Int64  \n",
      " 67   Init_Win_bytes_backward      529918 non-null  Int64  \n",
      " 68   act_data_pkt_fwd             529918 non-null  Int64  \n",
      " 69   min_seg_size_forward         529918 non-null  Int64  \n",
      " 70  Active Mean                   529918 non-null  Float64\n",
      " 71   Active Std                   529918 non-null  Float64\n",
      " 72   Active Max                   529918 non-null  Int64  \n",
      " 73   Active Min                   529918 non-null  Int64  \n",
      " 74  Idle Mean                     529918 non-null  Float64\n",
      " 75   Idle Std                     529918 non-null  Float64\n",
      " 76   Idle Max                     529918 non-null  Int64  \n",
      " 77   Idle Min                     529918 non-null  Int64  \n",
      " 78   Label                        529918 non-null  string \n",
      "dtypes: Float64(24), Int64(54), string(1)\n",
      "memory usage: 358.8 MB\n",
      "None\n"
     ]
    }
   ],
   "source": [
    "import pandas as pd\n",
    "pd.set_option('display.max_columns', None)\n",
    "df = pd.read_csv('/home/mak/mak/maths/MNAD/datasets/MachineLearningCVE/Monday-WorkingHours.pcap_ISCX.csv',encoding='utf-8')\n",
    "df.dtypes\n",
    "# df['Destination-Port'] = df['Destination-Port'].astype(str, errors = 'raise')\n",
    "dfn = df.convert_dtypes()\n",
    "df.head(10)\n",
    "# dfn.dtypes\n",
    "print(dfn.info())"
   ]
  },
  {
   "cell_type": "code",
   "execution_count": 4,
   "id": "c69afac1-c197-43d8-b0d1-0eeb9e9216a6",
   "metadata": {},
   "outputs": [
    {
     "data": {
      "text/plain": [
       "495755    BENIGN\n",
       "511987    BENIGN\n",
       "224465    BENIGN\n",
       "280399    BENIGN\n",
       "507437    BENIGN\n",
       "197184    BENIGN\n",
       "277834    BENIGN\n",
       "73877     BENIGN\n",
       "407101    BENIGN\n",
       "502332    BENIGN\n",
       "Name:  Label, dtype: string"
      ]
     },
     "execution_count": 4,
     "metadata": {},
     "output_type": "execute_result"
    }
   ],
   "source": [
    "target = dfn[' Label']\n",
    "inputs = dfn\n",
    "target.sample(10)"
   ]
  },
  {
   "cell_type": "code",
   "execution_count": 5,
   "id": "f3d81f87-7f52-4946-9e65-d9ff40bc246d",
   "metadata": {},
   "outputs": [
    {
     "data": {
      "text/plain": [
       " Label\n",
       "BENIGN    529918\n",
       "Name:  Label, dtype: int64"
      ]
     },
     "execution_count": 5,
     "metadata": {},
     "output_type": "execute_result"
    }
   ],
   "source": [
    "tag = df.groupby(' Label')[' Label'].agg('count')\n",
    "tag"
   ]
  },
  {
   "cell_type": "code",
   "execution_count": 6,
   "id": "76811a65-9b6c-4b6f-a506-7982ccf60447",
   "metadata": {},
   "outputs": [],
   "source": [
    "dfn.to_csv('all_data.csv', encoding='utf-8')"
   ]
  },
  {
   "cell_type": "code",
   "execution_count": null,
   "id": "f99f0a3f-0640-42a6-9782-1a9370cd3018",
   "metadata": {},
   "outputs": [],
   "source": []
  }
 ],
 "metadata": {
  "kernelspec": {
   "display_name": "Python 3 (ipykernel)",
   "language": "python",
   "name": "python3"
  },
  "language_info": {
   "codemirror_mode": {
    "name": "ipython",
    "version": 3
   },
   "file_extension": ".py",
   "mimetype": "text/x-python",
   "name": "python",
   "nbconvert_exporter": "python",
   "pygments_lexer": "ipython3",
   "version": "3.9.6"
  }
 },
 "nbformat": 4,
 "nbformat_minor": 5
}
