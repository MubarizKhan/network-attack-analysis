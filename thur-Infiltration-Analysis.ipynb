{
 "cells": [
  {
   "cell_type": "code",
   "execution_count": 2,
   "id": "b2d3cd14-a59c-4f83-88ab-53e6ae7d48cc",
   "metadata": {},
   "outputs": [],
   "source": [
    "# Thursday-WorkingHours-Afternoon-Infilteration.pcap_ISCX.csv\n",
    "#  Label\n",
    "# BENIGN          288566\n",
    "# Infiltration        36"
   ]
  },
  {
   "cell_type": "code",
   "execution_count": 1,
   "id": "d533b838-6065-4cb1-a9ad-914380670bd9",
   "metadata": {},
   "outputs": [],
   "source": [
    "import matplotlib \n",
    "import matplotlib.pyplot as plt\n",
    "%matplotlib inline\n",
    "import numpy as np\n",
    "import pandas as pd\n",
    "import seaborn as sns\n",
    "from sklearn.model_selection import train_test_split\n",
    "from sklearn.tree import DecisionTreeClassifier\n",
    "from sklearn import metrics"
   ]
  },
  {
   "cell_type": "code",
   "execution_count": 2,
   "id": "ea289d3d-40e8-48cc-b30e-2c7ed2a25d8d",
   "metadata": {},
   "outputs": [
    {
     "name": "stdout",
     "output_type": "stream",
     "text": [
      "<class 'pandas.core.frame.DataFrame'>\n",
      "RangeIndex: 288602 entries, 0 to 288601\n",
      "Data columns (total 79 columns):\n",
      " #   Column                        Non-Null Count   Dtype  \n",
      "---  ------                        --------------   -----  \n",
      " 0    Destination Port             288602 non-null  Int64  \n",
      " 1    Flow Duration                288602 non-null  Int64  \n",
      " 2    Total Fwd Packets            288602 non-null  Int64  \n",
      " 3    Total Backward Packets       288602 non-null  Int64  \n",
      " 4   Total Length of Fwd Packets   288602 non-null  Int64  \n",
      " 5    Total Length of Bwd Packets  288602 non-null  Int64  \n",
      " 6    Fwd Packet Length Max        288602 non-null  Int64  \n",
      " 7    Fwd Packet Length Min        288602 non-null  Int64  \n",
      " 8    Fwd Packet Length Mean       288602 non-null  Float64\n",
      " 9    Fwd Packet Length Std        288602 non-null  Float64\n",
      " 10  Bwd Packet Length Max         288602 non-null  Int64  \n",
      " 11   Bwd Packet Length Min        288602 non-null  Int64  \n",
      " 12   Bwd Packet Length Mean       288602 non-null  Float64\n",
      " 13   Bwd Packet Length Std        288602 non-null  Float64\n",
      " 14  Flow Bytes/s                  288584 non-null  Float64\n",
      " 15   Flow Packets/s               288602 non-null  Float64\n",
      " 16   Flow IAT Mean                288602 non-null  Float64\n",
      " 17   Flow IAT Std                 288602 non-null  Float64\n",
      " 18   Flow IAT Max                 288602 non-null  Int64  \n",
      " 19   Flow IAT Min                 288602 non-null  Int64  \n",
      " 20  Fwd IAT Total                 288602 non-null  Int64  \n",
      " 21   Fwd IAT Mean                 288602 non-null  Float64\n",
      " 22   Fwd IAT Std                  288602 non-null  Float64\n",
      " 23   Fwd IAT Max                  288602 non-null  Int64  \n",
      " 24   Fwd IAT Min                  288602 non-null  Int64  \n",
      " 25  Bwd IAT Total                 288602 non-null  Int64  \n",
      " 26   Bwd IAT Mean                 288602 non-null  Float64\n",
      " 27   Bwd IAT Std                  288602 non-null  Float64\n",
      " 28   Bwd IAT Max                  288602 non-null  Int64  \n",
      " 29   Bwd IAT Min                  288602 non-null  Int64  \n",
      " 30  Fwd PSH Flags                 288602 non-null  Int64  \n",
      " 31   Bwd PSH Flags                288602 non-null  Int64  \n",
      " 32   Fwd URG Flags                288602 non-null  Int64  \n",
      " 33   Bwd URG Flags                288602 non-null  Int64  \n",
      " 34   Fwd Header Length            288602 non-null  Int64  \n",
      " 35   Bwd Header Length            288602 non-null  Int64  \n",
      " 36  Fwd Packets/s                 288602 non-null  Float64\n",
      " 37   Bwd Packets/s                288602 non-null  Float64\n",
      " 38   Min Packet Length            288602 non-null  Int64  \n",
      " 39   Max Packet Length            288602 non-null  Int64  \n",
      " 40   Packet Length Mean           288602 non-null  Float64\n",
      " 41   Packet Length Std            288602 non-null  Float64\n",
      " 42   Packet Length Variance       288602 non-null  Float64\n",
      " 43  FIN Flag Count                288602 non-null  Int64  \n",
      " 44   SYN Flag Count               288602 non-null  Int64  \n",
      " 45   RST Flag Count               288602 non-null  Int64  \n",
      " 46   PSH Flag Count               288602 non-null  Int64  \n",
      " 47   ACK Flag Count               288602 non-null  Int64  \n",
      " 48   URG Flag Count               288602 non-null  Int64  \n",
      " 49   CWE Flag Count               288602 non-null  Int64  \n",
      " 50   ECE Flag Count               288602 non-null  Int64  \n",
      " 51   Down/Up Ratio                288602 non-null  Int64  \n",
      " 52   Average Packet Size          288602 non-null  Float64\n",
      " 53   Avg Fwd Segment Size         288602 non-null  Float64\n",
      " 54   Avg Bwd Segment Size         288602 non-null  Float64\n",
      " 55   Fwd Header Length.1          288602 non-null  Int64  \n",
      " 56  Fwd Avg Bytes/Bulk            288602 non-null  Int64  \n",
      " 57   Fwd Avg Packets/Bulk         288602 non-null  Int64  \n",
      " 58   Fwd Avg Bulk Rate            288602 non-null  Int64  \n",
      " 59   Bwd Avg Bytes/Bulk           288602 non-null  Int64  \n",
      " 60   Bwd Avg Packets/Bulk         288602 non-null  Int64  \n",
      " 61  Bwd Avg Bulk Rate             288602 non-null  Int64  \n",
      " 62  Subflow Fwd Packets           288602 non-null  Int64  \n",
      " 63   Subflow Fwd Bytes            288602 non-null  Int64  \n",
      " 64   Subflow Bwd Packets          288602 non-null  Int64  \n",
      " 65   Subflow Bwd Bytes            288602 non-null  Int64  \n",
      " 66  Init_Win_bytes_forward        288602 non-null  Int64  \n",
      " 67   Init_Win_bytes_backward      288602 non-null  Int64  \n",
      " 68   act_data_pkt_fwd             288602 non-null  Int64  \n",
      " 69   min_seg_size_forward         288602 non-null  Int64  \n",
      " 70  Active Mean                   288602 non-null  Float64\n",
      " 71   Active Std                   288602 non-null  Float64\n",
      " 72   Active Max                   288602 non-null  Int64  \n",
      " 73   Active Min                   288602 non-null  Int64  \n",
      " 74  Idle Mean                     288602 non-null  Float64\n",
      " 75   Idle Std                     288602 non-null  Float64\n",
      " 76   Idle Max                     288602 non-null  Int64  \n",
      " 77   Idle Min                     288602 non-null  Int64  \n",
      " 78   Label                        288602 non-null  string \n",
      "dtypes: Float64(24), Int64(54), string(1)\n",
      "memory usage: 195.4 MB\n",
      "None\n"
     ]
    }
   ],
   "source": [
    "import pandas as pd\n",
    "pd.set_option('display.max_columns', None)\n",
    "df = pd.read_csv('/home/mak/mak/maths/MNAD/datasets/MachineLearningCVE/Thursday-WorkingHours-Afternoon-Infilteration.pcap_ISCX.csv',encoding='utf-8')\n",
    "df.dtypes\n",
    "# df['Destination-Port'] = df['Destination-Port'].astype(str, errors = 'raise')\n",
    "dfn = df.convert_dtypes()\n",
    "df.head(10)\n",
    "# dfn.dtypes\n",
    "print(dfn.info())"
   ]
  },
  {
   "cell_type": "code",
   "execution_count": 3,
   "id": "86507ba5-bf6d-42e1-8020-f015e85a8145",
   "metadata": {},
   "outputs": [
    {
     "data": {
      "text/plain": [
       "28988     BENIGN\n",
       "183638    BENIGN\n",
       "236066    BENIGN\n",
       "169126    BENIGN\n",
       "169174    BENIGN\n",
       "62653     BENIGN\n",
       "276142    BENIGN\n",
       "251220    BENIGN\n",
       "175864    BENIGN\n",
       "167143    BENIGN\n",
       "Name:  Label, dtype: string"
      ]
     },
     "execution_count": 3,
     "metadata": {},
     "output_type": "execute_result"
    }
   ],
   "source": [
    "target = dfn[' Label']\n",
    "inputs = dfn\n",
    "target.sample(10)"
   ]
  },
  {
   "cell_type": "code",
   "execution_count": 6,
   "id": "570ca695-4ca7-42c5-a38a-53d9e482a785",
   "metadata": {},
   "outputs": [
    {
     "data": {
      "text/plain": [
       " Label\n",
       "BENIGN          288566\n",
       "Infiltration        36\n",
       "Name:  Label, dtype: int64"
      ]
     },
     "execution_count": 6,
     "metadata": {},
     "output_type": "execute_result"
    }
   ],
   "source": [
    "tag = df.groupby(' Label')[' Label'].agg('count')\n",
    "tag"
   ]
  },
  {
   "cell_type": "code",
   "execution_count": 4,
   "id": "c29fb88a-1a16-4622-87ad-60e22d75ad3f",
   "metadata": {},
   "outputs": [],
   "source": [
    "dfn.to_csv('all_data.csv', encoding='utf-8')"
   ]
  },
  {
   "cell_type": "code",
   "execution_count": 7,
   "id": "364530ba-061a-4500-a4a8-67338f7d61e4",
   "metadata": {},
   "outputs": [
    {
     "data": {
      "image/png": "[encoded data removed]",
      "text/plain": [
       "<Figure size 432x288 with 1 Axes>"
      ]
     },
     "metadata": {
      "needs_background": "light"
     },
     "output_type": "display_data"
    }
   ],
   "source": [
    "target.value_counts().plot(kind='bar')\n",
    "plt.xticks([0,1], ['BENIGN', 'Infiltration'])\n",
    "plt.xlabel(\"Gender\")\n",
    "plt.ylabel(\"Frequency\")\n",
    "plt.show()"
   ]
  },
  {
   "cell_type": "code",
   "execution_count": 8,
   "id": "0db2ff3b-d5b2-4ba8-a3f0-24af4b7b0be2",
   "metadata": {},
   "outputs": [
    {
     "name": "stdout",
     "output_type": "stream",
     "text": [
      "0.00012473926029618645\n",
      "(288602, 76)\n",
      "(288602, 76) 120000000.0\n",
      "0 --- 65533.0\n",
      "1 --- 119999936.0\n",
      "2 --- 22673.0\n",
      "3 --- 44553.0\n",
      "4 --- 12900000.0\n",
      "5 --- 63600000.0\n",
      "6 --- 23360.0\n",
      "7 --- 2065.0\n",
      "8 --- 4317.09765625\n",
      "9 --- 4467.11328125\n",
      "10 --- 11680.0\n",
      "11 --- 1543.0\n",
      "12 --- 2966.952392578125\n",
      "13 --- 2380.994384765625\n",
      "14 --- 120000000.0\n",
      "15 --- 84800000.0\n",
      "16 --- 120000000.0\n",
      "17 --- 120000000.0\n",
      "18 --- 120000000.0\n",
      "19 --- 120000000.0\n",
      "20 --- 81600000.0\n",
      "21 --- 120000000.0\n",
      "22 --- 120000000.0\n",
      "23 --- 120000000.0\n",
      "24 --- 120000000.0\n",
      "25 --- 81600000.0\n",
      "26 --- 120000000.0\n",
      "27 --- 120000000.0\n",
      "28 --- 1.0\n",
      "29 --- 0.0\n",
      "30 --- 1.0\n",
      "31 --- 0.0\n",
      "32 --- 742984.0\n",
      "33 --- 1425704.0\n",
      "34 --- 3000000.0\n",
      "35 --- 2000000.0\n",
      "36 --- 1306.0\n",
      "37 --- 23360.0\n",
      "38 --- 2417.842041015625\n",
      "39 --- 3439.67431640625\n",
      "40 --- 11800000.0\n",
      "41 --- 1.0\n",
      "42 --- 1.0\n",
      "43 --- 1.0\n",
      "44 --- 1.0\n",
      "45 --- 1.0\n",
      "46 --- 1.0\n",
      "47 --- 1.0\n",
      "48 --- 1.0\n",
      "49 --- 156.0\n",
      "50 --- 3558.0\n",
      "51 --- 4317.09765625\n",
      "52 --- 2966.952392578125\n",
      "53 --- 742984.0\n",
      "54 --- 0.0\n",
      "55 --- 0.0\n",
      "56 --- 0.0\n",
      "57 --- 0.0\n",
      "58 --- 0.0\n",
      "59 --- 0.0\n",
      "60 --- 22673.0\n",
      "61 --- 12870338.0\n",
      "62 --- 44553.0\n",
      "63 --- 63586400.0\n",
      "64 --- 65535.0\n",
      "65 --- 65535.0\n",
      "66 --- 9130.0\n",
      "67 --- 60.0\n",
      "68 --- 65200000.0\n",
      "69 --- 38100000.0\n",
      "70 --- 79100000.0\n",
      "71 --- 65200000.0\n",
      "72 --- 120000000.0\n",
      "73 --- 75300000.0\n",
      "74 --- 120000000.0\n",
      "75 --- 120000000.0\n"
     ]
    }
   ],
   "source": [
    "from sklearn.preprocessing import LabelEncoder\n",
    "\n",
    "le = LabelEncoder()\n",
    "Y=le.fit_transform(target)\n",
    "\n",
    "print(np.average(Y))\n",
    "X=dfn.iloc[:,:-1]\n",
    "X.astype(np.float32,copy=False)\n",
    "\n",
    "X.drop(X.columns[14], axis=1,inplace=True)\n",
    "X.drop(X.columns[14], axis=1,inplace=True)\n",
    "\n",
    "print(X.shape)\n",
    "X.dropna()\n",
    "print(X.shape,np.max(np.max(X).astype(np.float32)))\n",
    "count = -1\n",
    "for i in np.max(X).astype(np.float32):\n",
    "    count += 1\n",
    "    print(count, '---',i)"
   ]
  },
  {
   "cell_type": "code",
   "execution_count": 9,
   "id": "8f60b60f-ea82-4606-bfbe-fae468145bc7",
   "metadata": {},
   "outputs": [
    {
     "name": "stdout",
     "output_type": "stream",
     "text": [
      "(202021, 76) 202021 (86581, 76) 86581\n"
     ]
    },
    {
     "data": {
      "text/plain": [
       "Index([' Destination Port', ' Flow Duration', ' Total Fwd Packets',\n",
       "       ' Total Backward Packets', 'Total Length of Fwd Packets',\n",
       "       ' Total Length of Bwd Packets', ' Fwd Packet Length Max',\n",
       "       ' Fwd Packet Length Min', ' Fwd Packet Length Mean',\n",
       "       ' Fwd Packet Length Std', 'Bwd Packet Length Max',\n",
       "       ' Bwd Packet Length Min', ' Bwd Packet Length Mean',\n",
       "       ' Bwd Packet Length Std', ' Flow IAT Mean', ' Flow IAT Std',\n",
       "       ' Flow IAT Max', ' Flow IAT Min', 'Fwd IAT Total', ' Fwd IAT Mean',\n",
       "       ' Fwd IAT Std', ' Fwd IAT Max', ' Fwd IAT Min', 'Bwd IAT Total',\n",
       "       ' Bwd IAT Mean', ' Bwd IAT Std', ' Bwd IAT Max', ' Bwd IAT Min',\n",
       "       'Fwd PSH Flags', ' Bwd PSH Flags', ' Fwd URG Flags', ' Bwd URG Flags',\n",
       "       ' Fwd Header Length', ' Bwd Header Length', 'Fwd Packets/s',\n",
       "       ' Bwd Packets/s', ' Min Packet Length', ' Max Packet Length',\n",
       "       ' Packet Length Mean', ' Packet Length Std', ' Packet Length Variance',\n",
       "       'FIN Flag Count', ' SYN Flag Count', ' RST Flag Count',\n",
       "       ' PSH Flag Count', ' ACK Flag Count', ' URG Flag Count',\n",
       "       ' CWE Flag Count', ' ECE Flag Count', ' Down/Up Ratio',\n",
       "       ' Average Packet Size', ' Avg Fwd Segment Size',\n",
       "       ' Avg Bwd Segment Size', ' Fwd Header Length.1', 'Fwd Avg Bytes/Bulk',\n",
       "       ' Fwd Avg Packets/Bulk', ' Fwd Avg Bulk Rate', ' Bwd Avg Bytes/Bulk',\n",
       "       ' Bwd Avg Packets/Bulk', 'Bwd Avg Bulk Rate', 'Subflow Fwd Packets',\n",
       "       ' Subflow Fwd Bytes', ' Subflow Bwd Packets', ' Subflow Bwd Bytes',\n",
       "       'Init_Win_bytes_forward', ' Init_Win_bytes_backward',\n",
       "       ' act_data_pkt_fwd', ' min_seg_size_forward', 'Active Mean',\n",
       "       ' Active Std', ' Active Max', ' Active Min', 'Idle Mean', ' Idle Std',\n",
       "       ' Idle Max', ' Idle Min'],\n",
       "      dtype='object')"
      ]
     },
     "execution_count": 9,
     "metadata": {},
     "output_type": "execute_result"
    }
   ],
   "source": [
    "np.random.seed(0)\n",
    "#x_train, x_test, y_train, y_test = train_test_split(label_puts, target, test_size = 0.99, random_state = 42)\n",
    "x_train, x_test, y_train, y_test = train_test_split(X, Y, test_size = 0.30, random_state = 42)\n",
    "print(x_train.shape,len(y_train),x_test.shape,len(y_test))\n",
    "x_train.columns"
   ]
  },
  {
   "cell_type": "code",
   "execution_count": 10,
   "id": "0a2b399d-11a7-4f70-a42f-f928facae2b4",
   "metadata": {},
   "outputs": [
    {
     "name": "stdout",
     "output_type": "stream",
     "text": [
      "---------------------------Decision Tree CLassifier------------------\n"
     ]
    }
   ],
   "source": [
    "print('---------------------------Decision Tree CLassifier------------------')"
   ]
  },
  {
   "cell_type": "code",
   "execution_count": 11,
   "id": "be0cc5a3-334c-45a9-9369-38fc51e44df2",
   "metadata": {},
   "outputs": [
    {
     "name": "stdout",
     "output_type": "stream",
     "text": [
      "(202021, 76) (202021,)\n"
     ]
    }
   ],
   "source": [
    "from sklearn.tree import DecisionTreeClassifier\n",
    "from sklearn.linear_model import LogisticRegression\n",
    "\n",
    "#print(x_train.shape,np.max(np.max(x_train)))\n",
    "#x_train.dropna(with_inf=True)\n",
    "print(x_train.shape, y_train.shape)\n",
    "dtc = DecisionTreeClassifier(max_depth = 35)\n",
    "dtc = dtc.fit(x_train,y_train)"
   ]
  },
  {
   "cell_type": "code",
   "execution_count": 12,
   "id": "8b36c841-e5af-49ef-a298-d39adcf5c12f",
   "metadata": {},
   "outputs": [
    {
     "data": {
      "text/plain": [
       "array([0, 0, 0, ..., 0, 0, 0])"
      ]
     },
     "execution_count": 12,
     "metadata": {},
     "output_type": "execute_result"
    }
   ],
   "source": [
    "y_pred = dtc.predict(x_test)\n",
    "y_pred"
   ]
  },
  {
   "cell_type": "code",
   "execution_count": 13,
   "id": "f9138535-87d7-44e9-802a-732ffc9be605",
   "metadata": {},
   "outputs": [
    {
     "name": "stdout",
     "output_type": "stream",
     "text": [
      "34\n",
      "34\n"
     ]
    }
   ],
   "source": [
    "train_accuracy = []\n",
    "validation_accuracy = []\n",
    "for depth in range(1,35):\n",
    "    dt_model = DecisionTreeClassifier(max_depth=depth, random_state=10)\n",
    "    dt_model.fit(x_train, y_train)\n",
    "    train_accuracy.append(dt_model.score(x_train, y_train))\n",
    "    validation_accuracy.append(dt_model.score(x_test, y_test))\n",
    "print(len(train_accuracy))\n",
    "print(len(validation_accuracy))\n",
    "frame = pd.DataFrame({'max_depth':range(1,35), 'train_acc':train_accuracy, 'valid_acc':validation_accuracy})"
   ]
  },
  {
   "cell_type": "code",
   "execution_count": 14,
   "id": "7293a50e-4323-4576-8e10-09db39aca6af",
   "metadata": {},
   "outputs": [
    {
     "name": "stderr",
     "output_type": "stream",
     "text": [
      "No handles with labels found to put in legend.\n"
     ]
    },
    {
     "data": {
      "text/plain": [
       "<matplotlib.legend.Legend at 0x7fafa8cef880>"
      ]
     },
     "execution_count": 14,
     "metadata": {},
     "output_type": "execute_result"
    },
    {
     "data": {
      "image/png": "[encoded data removed]",
      "text/plain": [
       "<Figure size 864x432 with 1 Axes>"
      ]
     },
     "metadata": {
      "needs_background": "light"
     },
     "output_type": "display_data"
    }
   ],
   "source": [
    "plt.figure(figsize=(12,6))\n",
    "plt.plot(frame['max_depth'], frame['train_acc'], marker='o')\n",
    "plt.plot(frame['max_depth'], frame['valid_acc'], marker='o')\n",
    "plt.xlabel('Depth of the tree')\n",
    "plt.ylabel('performance')\n",
    "plt.legend()"
   ]
  },
  {
   "cell_type": "code",
   "execution_count": 25,
   "id": "937c3627-0336-4b5b-b01d-c4bdd993daf6",
   "metadata": {},
   "outputs": [
    {
     "name": "stdout",
     "output_type": "stream",
     "text": [
      "0.9998960510966609\n",
      "0.9998960510966609\n",
      "0.5714285714285714\n"
     ]
    }
   ],
   "source": [
    "from sklearn.metrics import accuracy_score,f1_score\n",
    "print(dtc.score(x_test, y_test))\n",
    "print(accuracy_score(y_test, y_pred))\n",
    "print(f1_score(y_test, y_pred))\n",
    "#                , pos_label='positive', average='macro'))"
   ]
  },
  {
   "cell_type": "code",
   "execution_count": 19,
   "id": "ebf5b745-57b3-4786-8a48-c8cd454448a6",
   "metadata": {},
   "outputs": [
    {
     "data": {
      "text/plain": [
       "[(0.29421381390123413, ' Destination Port'),\n",
       " (0.24253250450850403, 'Total Length of Fwd Packets'),\n",
       " (0.07793287937650752, ' Total Length of Bwd Packets'),\n",
       " (0.07092267151442117, ' Fwd IAT Mean'),\n",
       " (0.06044793849075263, ' Total Fwd Packets'),\n",
       " (0.04753435333500769, 'Bwd Packet Length Max'),\n",
       " (0.035725550818184446, ' Fwd IAT Min'),\n",
       " (0.03563597475763389, 'Fwd Packets/s'),\n",
       " (0.03125433183328687, ' Avg Fwd Segment Size'),\n",
       " (0.026789427285674464, ' Packet Length Mean'),\n",
       " (0.023812824253932857, 'Fwd PSH Flags'),\n",
       " (0.01785961819044964, ' Fwd Header Length.1'),\n",
       " (0.013394713642837232, 'Init_Win_bytes_forward'),\n",
       " (0.01097639305711479, ' Subflow Fwd Bytes'),\n",
       " (0.004680817503160403, ' Idle Std'),\n",
       " (0.004295619067134138, ' Flow IAT Std'),\n",
       " (0.0011462904292957956, ' Active Min'),\n",
       " (0.0005108401257961967, ' Fwd IAT Std'),\n",
       " (0.00016709626519566966, ' act_data_pkt_fwd'),\n",
       " (8.776265072989768e-05, ' Bwd IAT Std'),\n",
       " (7.658443837489343e-05, ' Flow Duration'),\n",
       " (1.994554771708816e-06, ' URG Flag Count'),\n",
       " (0.0, 'Subflow Fwd Packets'),\n",
       " (0.0, 'Idle Mean'),\n",
       " (0.0, 'Fwd IAT Total'),\n",
       " (0.0, 'Fwd Avg Bytes/Bulk'),\n",
       " (0.0, 'FIN Flag Count'),\n",
       " (0.0, 'Bwd IAT Total'),\n",
       " (0.0, 'Bwd Avg Bulk Rate'),\n",
       " (0.0, 'Active Mean'),\n",
       " (0.0, ' min_seg_size_forward'),\n",
       " (0.0, ' Total Backward Packets'),\n",
       " (0.0, ' Subflow Bwd Packets'),\n",
       " (0.0, ' Subflow Bwd Bytes'),\n",
       " (0.0, ' SYN Flag Count'),\n",
       " (0.0, ' RST Flag Count'),\n",
       " (0.0, ' Packet Length Variance'),\n",
       " (0.0, ' Packet Length Std'),\n",
       " (0.0, ' PSH Flag Count'),\n",
       " (0.0, ' Min Packet Length'),\n",
       " (0.0, ' Max Packet Length'),\n",
       " (0.0, ' Init_Win_bytes_backward'),\n",
       " (0.0, ' Idle Min'),\n",
       " (0.0, ' Idle Max'),\n",
       " (0.0, ' Fwd URG Flags'),\n",
       " (0.0, ' Fwd Packet Length Std'),\n",
       " (0.0, ' Fwd Packet Length Min'),\n",
       " (0.0, ' Fwd Packet Length Mean'),\n",
       " (0.0, ' Fwd Packet Length Max'),\n",
       " (0.0, ' Fwd IAT Max'),\n",
       " (0.0, ' Fwd Header Length'),\n",
       " (0.0, ' Fwd Avg Packets/Bulk'),\n",
       " (0.0, ' Fwd Avg Bulk Rate'),\n",
       " (0.0, ' Flow IAT Min'),\n",
       " (0.0, ' Flow IAT Mean'),\n",
       " (0.0, ' Flow IAT Max'),\n",
       " (0.0, ' ECE Flag Count'),\n",
       " (0.0, ' Down/Up Ratio'),\n",
       " (0.0, ' CWE Flag Count'),\n",
       " (0.0, ' Bwd URG Flags'),\n",
       " (0.0, ' Bwd Packets/s'),\n",
       " (0.0, ' Bwd Packet Length Std'),\n",
       " (0.0, ' Bwd Packet Length Min'),\n",
       " (0.0, ' Bwd Packet Length Mean'),\n",
       " (0.0, ' Bwd PSH Flags'),\n",
       " (0.0, ' Bwd IAT Min'),\n",
       " (0.0, ' Bwd IAT Mean'),\n",
       " (0.0, ' Bwd IAT Max'),\n",
       " (0.0, ' Bwd Header Length'),\n",
       " (0.0, ' Bwd Avg Packets/Bulk'),\n",
       " (0.0, ' Bwd Avg Bytes/Bulk'),\n",
       " (0.0, ' Avg Bwd Segment Size'),\n",
       " (0.0, ' Average Packet Size'),\n",
       " (0.0, ' Active Std'),\n",
       " (0.0, ' Active Max'),\n",
       " (0.0, ' ACK Flag Count')]"
      ]
     },
     "execution_count": 19,
     "metadata": {},
     "output_type": "execute_result"
    }
   ],
   "source": [
    "attributes = list(x_train)\n",
    "sorted(zip(dtc.feature_importances_, attributes), reverse=True)"
   ]
  },
  {
   "cell_type": "code",
   "execution_count": 30,
   "id": "4b57c4d7-a7e7-4237-be6b-9fd3b5df6dca",
   "metadata": {},
   "outputs": [
    {
     "name": "stdout",
     "output_type": "stream",
     "text": [
      "---------------------------Random Forest CLassifier------------------\n",
      "0.9999422506092561\n"
     ]
    }
   ],
   "source": [
    "print('---------------------------Random Forest CLassifier------------------')\n",
    "from sklearn.ensemble import RandomForestClassifier\n",
    "model = RandomForestClassifier(n_estimators =5)\n",
    "model = model.fit(x_train, y_train)\n",
    "rfy_pred = model.predict(x_test)\n",
    "acc = metrics.accuracy_score(y_test, y_pred)\n",
    "print(model.score(x_test,y_test))"
   ]
  },
  {
   "cell_type": "code",
   "execution_count": 31,
   "id": "6054b8c5-b159-4c27-bf0f-568db01a7d83",
   "metadata": {},
   "outputs": [
    {
     "data": {
      "text/plain": [
       "[(0.17911642800912958, ' Bwd Packet Length Mean'),\n",
       " (0.09776626075484096, ' Fwd IAT Min'),\n",
       " (0.08416146671289806, 'Bwd Packet Length Max'),\n",
       " (0.06031401094098998, ' Subflow Fwd Bytes'),\n",
       " (0.05254070505987143, ' act_data_pkt_fwd'),\n",
       " (0.04018493669739659, ' Packet Length Mean'),\n",
       " (0.0400059408587481, 'Total Length of Fwd Packets'),\n",
       " (0.03910668515910216, ' Fwd IAT Mean'),\n",
       " (0.031238948483591333, ' Fwd IAT Max'),\n",
       " (0.029827215562021447, ' Bwd IAT Std'),\n",
       " (0.028001760454215784, ' Fwd Packet Length Max'),\n",
       " (0.026377282250510226, ' Avg Bwd Segment Size'),\n",
       " (0.025897127704757505, ' Flow IAT Max'),\n",
       " (0.024969221070125752, 'Idle Mean'),\n",
       " (0.021029299121913793, ' Max Packet Length'),\n",
       " (0.019976892571310315, 'Fwd PSH Flags'),\n",
       " (0.019683093423714975, ' Destination Port'),\n",
       " (0.01729459553642333, ' Avg Fwd Segment Size'),\n",
       " (0.013354500471181089, 'Fwd IAT Total'),\n",
       " (0.012960483246956048, 'Active Mean'),\n",
       " (0.012944179325393265, ' Average Packet Size'),\n",
       " (0.012910833802914717, ' Packet Length Variance'),\n",
       " (0.01286342253515788, ' Idle Max'),\n",
       " (0.012805552001326112, ' Bwd Packet Length Min'),\n",
       " (0.01179778522116012, ' Subflow Bwd Packets'),\n",
       " (0.009621350529054454, ' Total Backward Packets'),\n",
       " (0.008506802287185556, ' Init_Win_bytes_backward'),\n",
       " (0.007582000500078229, ' Flow IAT Mean'),\n",
       " (0.0071412994622833004, ' Flow Duration'),\n",
       " (0.006667656809791349, 'Init_Win_bytes_forward'),\n",
       " (0.006667557782243878, ' Idle Min'),\n",
       " (0.006617524051823015, ' Fwd Header Length.1'),\n",
       " (0.005162082441001483, ' Fwd IAT Std'),\n",
       " (0.00476256485078657, ' Active Max'),\n",
       " (0.001935222984899539, ' Packet Length Std'),\n",
       " (0.0018088688958353058, ' ACK Flag Count'),\n",
       " (0.001561723187936266, ' Active Min'),\n",
       " (0.0014092942920317742, ' Idle Std'),\n",
       " (0.0012496813504323245, ' Fwd Header Length'),\n",
       " (0.0011183134148012477, 'Subflow Fwd Packets'),\n",
       " (0.0007090440560039745, ' Down/Up Ratio'),\n",
       " (9.78647062264526e-05, ' SYN Flag Count'),\n",
       " (9.781488257776896e-05, ' Fwd Packet Length Mean'),\n",
       " (9.595609983147749e-05, 'Fwd Packets/s'),\n",
       " (4.976516739147555e-05, ' Total Fwd Packets'),\n",
       " (3.378422504789626e-06, ' Total Length of Bwd Packets'),\n",
       " (2.684533288875253e-06, ' Flow IAT Min'),\n",
       " (1.655224926647751e-06, ' Min Packet Length'),\n",
       " (1.2008454583478753e-06, ' URG Flag Count'),\n",
       " (6.624595541140843e-08, ' min_seg_size_forward'),\n",
       " (0.0, 'Fwd Avg Bytes/Bulk'),\n",
       " (0.0, 'FIN Flag Count'),\n",
       " (0.0, 'Bwd IAT Total'),\n",
       " (0.0, 'Bwd Avg Bulk Rate'),\n",
       " (0.0, ' Subflow Bwd Bytes'),\n",
       " (0.0, ' RST Flag Count'),\n",
       " (0.0, ' PSH Flag Count'),\n",
       " (0.0, ' Fwd URG Flags'),\n",
       " (0.0, ' Fwd Packet Length Std'),\n",
       " (0.0, ' Fwd Packet Length Min'),\n",
       " (0.0, ' Fwd Avg Packets/Bulk'),\n",
       " (0.0, ' Fwd Avg Bulk Rate'),\n",
       " (0.0, ' Flow IAT Std'),\n",
       " (0.0, ' ECE Flag Count'),\n",
       " (0.0, ' CWE Flag Count'),\n",
       " (0.0, ' Bwd URG Flags'),\n",
       " (0.0, ' Bwd Packets/s'),\n",
       " (0.0, ' Bwd Packet Length Std'),\n",
       " (0.0, ' Bwd PSH Flags'),\n",
       " (0.0, ' Bwd IAT Min'),\n",
       " (0.0, ' Bwd IAT Mean'),\n",
       " (0.0, ' Bwd IAT Max'),\n",
       " (0.0, ' Bwd Header Length'),\n",
       " (0.0, ' Bwd Avg Packets/Bulk'),\n",
       " (0.0, ' Bwd Avg Bytes/Bulk'),\n",
       " (0.0, ' Active Std')]"
      ]
     },
     "execution_count": 31,
     "metadata": {},
     "output_type": "execute_result"
    }
   ],
   "source": [
    "attributes = list(x_train)\n",
    "sorted(zip(model.feature_importances_, attributes), reverse=True)"
   ]
  },
  {
   "cell_type": "code",
   "execution_count": 32,
   "id": "87b8cbbf-6867-49b1-b4d1-4fb5bba9d0e5",
   "metadata": {},
   "outputs": [
    {
     "name": "stdout",
     "output_type": "stream",
     "text": [
      "0.5714285714285714\n"
     ]
    }
   ],
   "source": [
    "print(f1_score(y_test, y_pred))"
   ]
  },
  {
   "cell_type": "code",
   "execution_count": 33,
   "id": "48a52c9a-8ed8-4ecb-bea6-ed41c6e99edb",
   "metadata": {},
   "outputs": [
    {
     "name": "stdout",
     "output_type": "stream",
     "text": [
      "---------------------------Random Forest Regressor------------------\n"
     ]
    }
   ],
   "source": [
    "print('---------------------------Random Forest Regressor------------------')"
   ]
  },
  {
   "cell_type": "code",
   "execution_count": 34,
   "id": "5ac6bf13-b356-4e7d-8c5f-296db23d4e97",
   "metadata": {},
   "outputs": [
    {
     "data": {
      "text/plain": [
       "[(0.19650809749079787, ' Destination Port'),\n",
       " (0.14422500014267023, 'Total Length of Fwd Packets'),\n",
       " (0.10614185900108838, ' Subflow Fwd Bytes'),\n",
       " (0.06470778481083443, ' Active Min'),\n",
       " (0.05258382790109936, ' Avg Bwd Segment Size'),\n",
       " (0.05252381736250658, ' Flow IAT Min'),\n",
       " (0.04125490106288707, ' Packet Length Variance'),\n",
       " (0.03457577458749748, ' Flow IAT Mean'),\n",
       " (0.03365130165603248, ' Fwd IAT Min'),\n",
       " (0.027002338392983948, ' Bwd Packet Length Mean'),\n",
       " (0.026042404212753265, 'Bwd Packet Length Max'),\n",
       " (0.023186360475289183, ' Flow IAT Max'),\n",
       " (0.022136907628757092, ' Fwd Packet Length Std'),\n",
       " (0.018359006151402006, ' SYN Flag Count'),\n",
       " (0.017270363826473543, ' Subflow Bwd Packets'),\n",
       " (0.017126965349123273, 'Fwd IAT Total'),\n",
       " (0.01624146151429099, ' Fwd IAT Mean'),\n",
       " (0.015275900699049397, ' Total Backward Packets'),\n",
       " (0.014046340765434186, ' Fwd Header Length.1'),\n",
       " (0.014010817635584543, ' Idle Std'),\n",
       " (0.011946533749297267, ' Bwd IAT Min'),\n",
       " (0.008663575201803088, ' Active Max'),\n",
       " (0.007052189664506807, ' Fwd Header Length'),\n",
       " (0.0069643516760577555, ' Flow Duration'),\n",
       " (0.006756170455044529, ' Flow IAT Std'),\n",
       " (0.006482347843848679, ' Fwd Packet Length Max'),\n",
       " (0.005926718028661649, ' Fwd Packet Length Min'),\n",
       " (0.004762729901600911, ' Fwd Packet Length Mean'),\n",
       " (0.003563086433897777, 'Fwd Packets/s'),\n",
       " (0.0006732487585962822, ' Fwd IAT Std'),\n",
       " (0.00018119408700970099, ' act_data_pkt_fwd'),\n",
       " (0.0001544909604284301, ' Bwd IAT Std'),\n",
       " (2.1325726916296193e-06, ' URG Flag Count'),\n",
       " (0.0, 'Subflow Fwd Packets'),\n",
       " (0.0, 'Init_Win_bytes_forward'),\n",
       " (0.0, 'Idle Mean'),\n",
       " (0.0, 'Fwd PSH Flags'),\n",
       " (0.0, 'Fwd Avg Bytes/Bulk'),\n",
       " (0.0, 'FIN Flag Count'),\n",
       " (0.0, 'Bwd IAT Total'),\n",
       " (0.0, 'Bwd Avg Bulk Rate'),\n",
       " (0.0, 'Active Mean'),\n",
       " (0.0, ' min_seg_size_forward'),\n",
       " (0.0, ' Total Length of Bwd Packets'),\n",
       " (0.0, ' Total Fwd Packets'),\n",
       " (0.0, ' Subflow Bwd Bytes'),\n",
       " (0.0, ' RST Flag Count'),\n",
       " (0.0, ' Packet Length Std'),\n",
       " (0.0, ' Packet Length Mean'),\n",
       " (0.0, ' PSH Flag Count'),\n",
       " (0.0, ' Min Packet Length'),\n",
       " (0.0, ' Max Packet Length'),\n",
       " (0.0, ' Init_Win_bytes_backward'),\n",
       " (0.0, ' Idle Min'),\n",
       " (0.0, ' Idle Max'),\n",
       " (0.0, ' Fwd URG Flags'),\n",
       " (0.0, ' Fwd IAT Max'),\n",
       " (0.0, ' Fwd Avg Packets/Bulk'),\n",
       " (0.0, ' Fwd Avg Bulk Rate'),\n",
       " (0.0, ' ECE Flag Count'),\n",
       " (0.0, ' Down/Up Ratio'),\n",
       " (0.0, ' CWE Flag Count'),\n",
       " (0.0, ' Bwd URG Flags'),\n",
       " (0.0, ' Bwd Packets/s'),\n",
       " (0.0, ' Bwd Packet Length Std'),\n",
       " (0.0, ' Bwd Packet Length Min'),\n",
       " (0.0, ' Bwd PSH Flags'),\n",
       " (0.0, ' Bwd IAT Mean'),\n",
       " (0.0, ' Bwd IAT Max'),\n",
       " (0.0, ' Bwd Header Length'),\n",
       " (0.0, ' Bwd Avg Packets/Bulk'),\n",
       " (0.0, ' Bwd Avg Bytes/Bulk'),\n",
       " (0.0, ' Avg Fwd Segment Size'),\n",
       " (0.0, ' Average Packet Size'),\n",
       " (0.0, ' Active Std'),\n",
       " (0.0, ' ACK Flag Count')]"
      ]
     },
     "execution_count": 34,
     "metadata": {},
     "output_type": "execute_result"
    }
   ],
   "source": [
    "from sklearn.ensemble import RandomForestRegressor\n",
    "from sklearn.datasets import make_regression\n",
    "# Fitting Random Forest Regression to the dataset\n",
    "# import the regressor\n",
    "from sklearn.ensemble import RandomForestRegressor\n",
    " # create regressor object\n",
    "regressor = RandomForestRegressor(n_estimators = 5, random_state = 0)\n",
    "# fit the regressor with x and y data\n",
    "regressor.fit(x_train, y_train)  \n",
    "attributes = list(x_train)\n",
    "sorted(zip(regressor.feature_importances_, attributes), reverse=True)"
   ]
  },
  {
   "cell_type": "code",
   "execution_count": null,
   "id": "d6657344-66ef-4002-b850-28556dd470ec",
   "metadata": {},
   "outputs": [],
   "source": []
  }
 ],
 "metadata": {
  "kernelspec": {
   "display_name": "Python 3 (ipykernel)",
   "language": "python",
   "name": "python3"
  },
  "language_info": {
   "codemirror_mode": {
    "name": "ipython",
    "version": 3
   },
   "file_extension": ".py",
   "mimetype": "text/x-python",
   "name": "python",
   "nbconvert_exporter": "python",
   "pygments_lexer": "ipython3",
   "version": "3.9.6"
  }
 },
 "nbformat": 4,
 "nbformat_minor": 5
}
